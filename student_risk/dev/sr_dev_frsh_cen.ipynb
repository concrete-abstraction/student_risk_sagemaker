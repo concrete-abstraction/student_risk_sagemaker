{
 "cells": [
  {
   "cell_type": "code",
   "execution_count": 2,
   "metadata": {
    "autorun": true,
    "jupyter": {
     "source_hidden": true
    },
    "tags": []
   },
   "outputs": [],
   "source": [
    "from __future__ import print_function\n",
    "from student_risk import build_dev\n",
    "import functools\n",
    "import ipywidgets as widgets\n",
    "import math\n",
    "import matplotlib.pyplot as plt\n",
    "import numpy as np\n",
    "import pandas as pd\n",
    "import seaborn as sns\n",
    "import time\n",
    "import statsmodels.graphics.api as smg\n",
    "from imblearn.under_sampling import TomekLinks\n",
    "from ipywidgets import GridspecLayout, interact, interactive, fixed, interact_manual\n",
    "from IPython.display import clear_output, display, Javascript\n",
    "from matplotlib.legend_handler import HandlerLine2D\n",
    "from halo import HaloNotebook\n",
    "from patsy import dmatrices\n",
    "from sklearn.compose import make_column_transformer\n",
    "from sklearn.neighbors import LocalOutlierFactor\n",
    "from sklearn.preprocessing import MinMaxScaler, StandardScaler, OneHotEncoder\n",
    "from sklearn.linear_model import LinearRegression, LogisticRegression, SGDClassifier\n",
    "from sklearn.neural_network import MLPClassifier\n",
    "from sklearn.ensemble import VotingClassifier\n",
    "from sklearn.metrics import confusion_matrix, roc_curve, roc_auc_score\n",
    "from sklearn.model_selection import GridSearchCV\n",
    "from statsmodels.api import OLS\n",
    "from statsmodels.discrete.discrete_model import Logit\n",
    "from statsmodels.stats.outliers_influence import variance_inflation_factor"
   ]
  },
  {
   "cell_type": "code",
   "execution_count": 3,
   "metadata": {
    "autorun": true,
    "jupyter": {
     "source_hidden": true
    },
    "tags": []
   },
   "outputs": [],
   "source": [
    "# Global variables\n",
    "wsu_color = (0.596,0.117,0.196)\n",
    "wsu_cmap = sns.light_palette(\"#981e32\",as_cmap=True)"
   ]
  },
  {
   "cell_type": "markdown",
   "metadata": {},
   "source": [
    "# Create Datasets for Census Model Development (~ 10 min.)"
   ]
  },
  {
   "cell_type": "code",
   "execution_count": 4,
   "metadata": {
    "autorun": true,
    "jupyter": {
     "source_hidden": true
    },
    "tags": []
   },
   "outputs": [
    {
     "data": {
      "application/vnd.jupyter.widget-view+json": {
       "model_id": "1a327e6821dd48749db8cb3f89fd932b",
       "version_major": 2,
       "version_minor": 0
      },
      "text/plain": [
       "VBox(children=(Button(description='Create Dataset', style=ButtonStyle()), Output()))"
      ]
     },
     "metadata": {},
     "output_type": "display_data"
    }
   ],
   "source": [
    "# SAS dataset builder\n",
    "def creator(b):\n",
    "    with create_output:\n",
    "        build_dev.DatasetBuilderDev.build_census_dev()\n",
    "\n",
    "create_button = widgets.Button(description='Create Dataset')\n",
    "create_output = widgets.Output()\n",
    "   \n",
    "create_button.on_click(creator)\n",
    "\n",
    "button_nest = widgets.VBox([create_button, create_output])\n",
    "display(button_nest)"
   ]
  },
  {
   "cell_type": "markdown",
   "metadata": {
    "jupyter": {
     "source_hidden": true
    },
    "tags": []
   },
   "source": [
    "# Import Saved Datasets from Disk"
   ]
  },
  {
   "cell_type": "code",
   "execution_count": 45,
   "metadata": {
    "autorun": true,
    "jupyter": {
     "source_hidden": true
    },
    "tags": []
   },
   "outputs": [
    {
     "data": {
      "application/vnd.jupyter.widget-view+json": {
       "model_id": "db6f8eaed3f04f5296a2fbd49b8088dc",
       "version_major": 2,
       "version_minor": 0
      },
      "text/plain": [
       "Button(description='Import Dataset', style=ButtonStyle())"
      ]
     },
     "metadata": {},
     "output_type": "display_data"
    }
   ],
   "source": [
    "# Import pre-split data\n",
    "class Importer():\n",
    "        \n",
    "    def __init__(self):\n",
    "        self.training_set = pd.DataFrame()\n",
    "        self.testing_set = pd.DataFrame()\n",
    "    \n",
    "    def importer(self, b):\n",
    "        self.training_set = pd.read_csv('Z:\\\\Nathan\\\\Models\\\\student_risk\\\\datasets\\\\training_set.csv',\n",
    "                                   encoding='utf-8', low_memory=False)\n",
    "        self.testing_set = pd.read_csv('Z:\\\\Nathan\\\\Models\\\\student_risk\\\\datasets\\\\testing_set.csv', \n",
    "                                  encoding='utf-8', low_memory=False)\n",
    "\n",
    "    def training_getter(self):\n",
    "        return self.training_set\n",
    "    \n",
    "    def testing_getter(self):\n",
    "        return self.testing_set\n",
    "\n",
    "\n",
    "im = Importer()\n",
    "\n",
    "importer_button = widgets.Button(description='Import Dataset')\n",
    "\n",
    "importer_button.on_click(im.importer)\n",
    "display(importer_button)"
   ]
  },
  {
   "cell_type": "markdown",
   "metadata": {},
   "source": [
    "# Select Campus for Census Model Development"
   ]
  },
  {
   "cell_type": "code",
   "execution_count": 5,
   "metadata": {
    "autorun": true,
    "tags": []
   },
   "outputs": [
    {
     "data": {
      "application/vnd.jupyter.widget-view+json": {
       "model_id": "ccc2453c34b14e1291fb8087441a7661",
       "version_major": 2,
       "version_minor": 0
      },
      "text/plain": [
       "Dropdown(description='Campus:', options=(('Pullman', 'PULLM'), ('Tri-Cities', 'TRICI'), ('Vancouver', 'VANCO')…"
      ]
     },
     "metadata": {},
     "output_type": "display_data"
    }
   ],
   "source": [
    "dropdown = widgets.Dropdown(\n",
    "    options=[('Pullman', 'PULLM'), ('Tri-Cities', 'TRICI'), ('Vancouver', 'VANCO')],\n",
    "    value='PULLM',\n",
    "    description='Campus:',\n",
    ")\n",
    "\n",
    "display(dropdown)"
   ]
  },
  {
   "cell_type": "markdown",
   "metadata": {
    "tags": []
   },
   "source": [
    "# Select Model Variables"
   ]
  },
  {
   "cell_type": "code",
   "execution_count": 6,
   "metadata": {
    "autorun": true,
    "tags": []
   },
   "outputs": [
    {
     "data": {
      "application/vnd.jupyter.widget-view+json": {
       "model_id": "13143730f55c4c00a68453a80f1fd06a",
       "version_major": 2,
       "version_minor": 0
      },
      "text/plain": [
       "Tab(children=(Accordion(children=(VBox(children=(Checkbox(value=False, description='count_week_from_term_begin…"
      ]
     },
     "metadata": {},
     "output_type": "display_data"
    }
   ],
   "source": [
    "adms_features = ['count_week_from_term_begin_dt','marital_status','resident','father_wsu_flag','mother_wsu_flag',\n",
    "                 'parent1_highest_educ_lvl','parent2_highest_educ_lvl','citizenship_country','last_sch_proprietorship']\n",
    "\n",
    "demo_features = ['age_group','age','male','race_hispanic','race_american_indian',\n",
    "                 'race_alaska','race_asian','race_black','race_native_hawaiian','race_white',\n",
    "                 'underrep_minority','ipeds_ethnic_group_descrshort']\n",
    "\n",
    "acs_features = ['gini_indx','pvrt_rate','median_inc','median_value',\n",
    "                 'educ_rate','pct_blk','pct_ai','pct_asn','pct_hawi','pct_oth','pct_two','pct_non','pct_hisp']\n",
    "            \n",
    "geo_features = ['distance','pop_dens','city_large','city_mid','city_small','suburb_large','suburb_mid','suburb_small','town_fringe',\n",
    "                'town_distant','town_remote','rural_fringe','rural_distant','rural_remote']\n",
    "\n",
    "cen_features = ['pell_eligibility_ind','pell_recipient_ind','first_gen_flag','LSAMP_STEM_Flag','anywhere_STEM_Flag',\n",
    "                 'honors_program_ind','afl_greek_indicator','athlete']\n",
    "\n",
    "plan_features = ['business','cahnrs_anml','cahnrs_envr','cahnrs_econ','cahnrext','cas_chem','cas_crim',\n",
    "                 'cas_math','cas_psyc','cas_biol','cas_engl','cas_phys','cas','comm','education','medicine',\n",
    "                 'nursing','pharmacy','provost','vcea_bioe','vcea_cive','vcea_desn','vcea_eecs','vcea_mech',\n",
    "                 'vcea','vet_med']\n",
    "\n",
    "perf_features = ['high_school_gpa','fall_midterm_gpa_avg','fall_midterm_gpa_avg_ind','fall_cum_gpa','spring_midterm_gpa_avg',\n",
    "                 'spring_midterm_gpa_avg_ind','spring_midterm_gpa_change','spring_withdrawn_hours']\n",
    "            \n",
    "cls_features = ['remedial','fall_avg_difficulty','fall_avg_pct_withdrawn','fall_avg_pct_CDFW',\n",
    "                'fall_lec_count','fall_lab_count','fall_lec_contact_hrs','fall_lab_contact_hrs',\n",
    "                'fall_avg_pct_CDF','fall_avg_pct_DFW','fall_avg_pct_DF','total_fall_contact_hrs','total_fall_units',\n",
    "                'spring_avg_difficulty','spring_avg_pct_withdrawn','spring_avg_pct_CDFW','spring_avg_pct_CDF',\n",
    "                'spring_avg_pct_DFW','spring_avg_pct_DF','spring_lec_count','spring_lab_count','spring_lec_contact_hrs',\n",
    "                'spring_lab_contact_hrs','total_spring_contact_hrs','cum_adj_transfer_hours','term_credit_hours']\n",
    "        \n",
    "tran_features = ['AD_DTA','AD_AST','AP','RS','CHS','IB','AICE','IB_AICE']\n",
    "\n",
    "vis_features = ['attendee_alive','attendee_campus_visit','attendee_cashe','attendee_destination',\n",
    "                'attendee_experience','attendee_fcd_pullman','attendee_fced','attendee_fcoc',\n",
    "                'attendee_fcod','attendee_group_visit','attendee_honors_visit','attendee_imagine_tomorrow',\n",
    "                'attendee_imagine_u','attendee_la_bienvenida','attendee_lvp_camp','attendee_oos_destination',\n",
    "                'attendee_oos_experience','attendee_preview','attendee_preview_jrs','attendee_shaping',\n",
    "                'attendee_top_scholars','attendee_transfer_day','attendee_vibes','attendee_welcome_center',\n",
    "                'attendee_any_visitation_ind','attendee_total_visits']\n",
    "\n",
    "aid_features = ['fed_efc','fed_need','unmet_need_ofr']\n",
    "\n",
    "adms_objs = []\n",
    "demo_objs = []\n",
    "acs_objs = []\n",
    "geo_objs = []\n",
    "cen_objs = []\n",
    "plan_objs = []\n",
    "perf_objs = []\n",
    "cls_objs = []\n",
    "tran_objs = []\n",
    "vis_objs = []\n",
    "aid_objs = []\n",
    "\n",
    "for feature in adms_features:\n",
    "    adms_objs.append(widgets.Checkbox(value=False, description=feature))\n",
    "\n",
    "for feature in demo_features:\n",
    "    demo_objs.append(widgets.Checkbox(value=False, description=feature))\n",
    "    \n",
    "for feature in acs_features:\n",
    "    acs_objs.append(widgets.Checkbox(value=False, description=feature))\n",
    "    \n",
    "for feature in geo_features:\n",
    "    geo_objs.append(widgets.Checkbox(value=False, description=feature))    \n",
    "\n",
    "for feature in cen_features:\n",
    "    cen_objs.append(widgets.Checkbox(value=False, description=feature))\n",
    "    \n",
    "for feature in plan_features:\n",
    "    plan_objs.append(widgets.Checkbox(value=False, description=feature))\n",
    "\n",
    "for feature in perf_features:\n",
    "    perf_objs.append(widgets.Checkbox(value=False, description=feature))\n",
    "    \n",
    "for feature in cls_features:\n",
    "    cls_objs.append(widgets.Checkbox(value=False, description=feature))\n",
    "    \n",
    "for feature in tran_features:\n",
    "    tran_objs.append(widgets.Checkbox(value=False, description=feature))    \n",
    "\n",
    "for feature in vis_features:\n",
    "    vis_objs.append(widgets.Checkbox(value=False, description=feature))\n",
    "    \n",
    "for feature in aid_features:\n",
    "    aid_objs.append(widgets.Checkbox(value=False, description=feature))\n",
    "    \n",
    "adms_ui = widgets.VBox(children=adms_objs, layout=widgets.Layout(flex_flow='row wrap'))\n",
    "demo_ui = widgets.VBox(children=demo_objs, layout=widgets.Layout(flex_flow='row wrap'))\n",
    "acs_ui = widgets.VBox(children=acs_objs, layout=widgets.Layout(flex_flow='row wrap'))\n",
    "geo_ui = widgets.VBox(children=geo_objs, layout=widgets.Layout(flex_flow='row wrap'))\n",
    "cen_ui = widgets.VBox(children=cen_objs, layout=widgets.Layout(flex_flow='row wrap'))\n",
    "plan_ui = widgets.VBox(children=plan_objs, layout=widgets.Layout(flex_flow='row wrap'))\n",
    "perf_ui = widgets.VBox(children=perf_objs, layout=widgets.Layout(flex_flow='row wrap'))\n",
    "cls_ui = widgets.VBox(children=cls_objs, layout=widgets.Layout(flex_flow='row wrap'))\n",
    "tran_ui = widgets.VBox(children=tran_objs, layout=widgets.Layout(flex_flow='row wrap'))\n",
    "vis_ui = widgets.VBox(children=vis_objs, layout=widgets.Layout(flex_flow='row wrap'))\n",
    "aid_ui = widgets.VBox(children=aid_objs, layout=widgets.Layout(flex_flow='row wrap'))\n",
    "\n",
    "accordion_0 = widgets.Accordion(children = [adms_ui, demo_ui, vis_ui, tran_ui])\n",
    "accordion_1 = widgets.Accordion(children = [acs_ui, geo_ui, cen_ui])\n",
    "accordion_2 = widgets.Accordion(children = [plan_ui, cls_ui, perf_ui])\n",
    "accordion_3 = widgets.Accordion(children = [aid_ui])\n",
    "\n",
    "accordion_0.set_title(0, 'Admissions')\n",
    "accordion_0.set_title(1, 'Demographics')\n",
    "accordion_0.set_title(2, 'Visitation')\n",
    "accordion_0.set_title(3, 'Transfer')\n",
    "accordion_1.set_title(0, 'Economic')\n",
    "accordion_1.set_title(1, 'Geographic')\n",
    "accordion_1.set_title(2, 'Census')\n",
    "accordion_2.set_title(0, 'Plans')\n",
    "accordion_2.set_title(1, 'Class')\n",
    "accordion_2.set_title(2, 'Performance')\n",
    "accordion_3.set_title(0, 'Financial Aid')\n",
    "\n",
    "tab_nest = widgets.Tab()\n",
    "tab_nest.children = [accordion_0,accordion_1,accordion_2,accordion_3]\n",
    "tab_nest.set_title(0, 'Background')\n",
    "tab_nest.set_title(1, 'Characteristics')\n",
    "tab_nest.set_title(2, 'Coursework')\n",
    "tab_nest.set_title(3, 'Student Data')\n",
    "display(tab_nest)"
   ]
  },
  {
   "cell_type": "markdown",
   "metadata": {},
   "source": [
    "# Build Models"
   ]
  },
  {
   "cell_type": "code",
   "execution_count": 26,
   "metadata": {
    "autorun": true,
    "collapsed": true,
    "jupyter": {
     "outputs_hidden": true
    },
    "tags": []
   },
   "outputs": [
    {
     "data": {
      "application/vnd.jupyter.widget-view+json": {
       "model_id": "74c7c62c67454352867a3f9a1b65f002",
       "version_major": 2,
       "version_minor": 0
      },
      "text/plain": [
       "Button(description='Build Models', style=ButtonStyle())"
      ]
     },
     "metadata": {},
     "output_type": "display_data"
    }
   ],
   "source": [
    "class Builder():\n",
    "\n",
    "    def __init__(self, dropdown, im, adms_objs, demo_objs, vis_objs, tran_objs, acs_objs, geo_objs, cen_objs, plan_objs, cls_objs, perf_objs, aid_objs):\n",
    "        self.training_set = pd.DataFrame()\n",
    "        self.testing_set = pd.DataFrame()\n",
    "        self.selected_features = []\n",
    "        self.dropdown = dropdown\n",
    "        self.adms_objs = adms_objs\n",
    "        self.demo_objs = demo_objs\n",
    "        self.vis_objs = vis_objs\n",
    "        self.tran_objs = tran_objs\n",
    "        self.acs_objs = acs_objs\n",
    "        self.geo_objs = geo_objs\n",
    "        self.cen_objs = cen_objs\n",
    "        self.plan_objs = plan_objs\n",
    "        self.cls_objs = cls_objs\n",
    "        self.perf_objs = perf_objs\n",
    "        self.aid_objs = aid_objs\n",
    "        \n",
    "    def builder(self, b):\n",
    "        \n",
    "        self.selected_features.clear()\n",
    "        self.selected_features = ['emplid', 'enrl_ind']\n",
    "        \n",
    "        for _ in range(len(self.adms_objs)):\n",
    "            if self.adms_objs[_].value == True:\n",
    "                self.selected_features.append(self.adms_objs[_].description)\n",
    "\n",
    "        for _ in range(len(self.demo_objs)):\n",
    "            if self.demo_objs[_].value == True:\n",
    "                self.selected_features.append(self.demo_objs[_].description)\n",
    "\n",
    "        for _ in range(len(self.vis_objs)):\n",
    "            if self.vis_objs[_].value == True:\n",
    "                self.selected_features.append(self.vis_objs[_].description)\n",
    "\n",
    "        for _ in range(len(self.tran_objs)):\n",
    "            if self.tran_objs[_].value == True:\n",
    "                self.selected_features.append(self.tran_objs[_].description)\n",
    "\n",
    "        for _ in range(len(self.acs_objs)):\n",
    "            if self.acs_objs[_].value == True:\n",
    "                self.selected_features.append(self.acs_objs[_].description)\n",
    "\n",
    "        for _ in range(len(self.geo_objs)):\n",
    "            if self.geo_objs[_].value == True:\n",
    "                self.selected_features.append(self.geo_objs[_].description)\n",
    "\n",
    "        for _ in range(len(self.cen_objs)):\n",
    "            if self.cen_objs[_].value == True:\n",
    "                self.selected_features.append(self.cen_objs[_].description)\n",
    "\n",
    "        for _ in range(len(self.plan_objs)):\n",
    "            if self.plan_objs[_].value == True:\n",
    "                self.selected_features.append(self.plan_objs[_].description)\n",
    "\n",
    "        for _ in range(len(self.cls_objs)):\n",
    "            if self.cls_objs[_].value == True:\n",
    "                self.selected_features.append(self.cls_objs[_].description)\n",
    "\n",
    "        for _ in range(len(self.perf_objs)):\n",
    "            if self.perf_objs[_].value == True:\n",
    "                self.selected_features.append(self.perf_objs[_].description)\n",
    "\n",
    "        for _ in range(len(self.aid_objs)):\n",
    "            if self.aid_objs[_].value == True:\n",
    "                self.selected_features.append(self.aid_objs[_].description)\n",
    "    \n",
    "        self.training_set = im.training_getter()[(im.training_getter().adj_acad_prog_primary_campus == self.dropdown.value) & (im.training_getter().adj_admit_type_cat == 'FRSH')][self.selected_features].dropna()\n",
    "        self.testing_set = im.testing_getter()[(im.testing_getter().adj_acad_prog_primary_campus == self.dropdown.value) & (im.testing_getter().adj_admit_type_cat == 'FRSH')][self.selected_features].dropna()\n",
    "\n",
    "    def training_getter(self):\n",
    "        return self.training_set\n",
    "\n",
    "    def testing_getter(self):\n",
    "        return self.testing_set\n",
    "\n",
    "    \n",
    "bd = Builder(dropdown, im, adms_objs, demo_objs, vis_objs, tran_objs, acs_objs, geo_objs, cen_objs, plan_objs, cls_objs, perf_objs, aid_objs)\n",
    "    \n",
    "builder_button = widgets.Button(description='Build Models')\n",
    "\n",
    "builder_button.on_click(bd.builder)\n",
    "display(builder_button)"
   ]
  },
  {
   "cell_type": "markdown",
   "metadata": {
    "tags": []
   },
   "source": [
    "# Descriptive Plots"
   ]
  },
  {
   "cell_type": "code",
   "execution_count": 7,
   "metadata": {
    "autorun": true,
    "tags": []
   },
   "outputs": [
    {
     "data": {
      "application/vnd.jupyter.widget-view+json": {
       "model_id": "c917d54c767b49c29c39ab89c8ec5e6a",
       "version_major": 2,
       "version_minor": 0
      },
      "text/plain": [
       "VBox(children=(Button(description='Create Plots', style=ButtonStyle()), Output()))"
      ]
     },
     "metadata": {},
     "output_type": "display_data"
    }
   ],
   "source": [
    "class Plotter():\n",
    "    \n",
    "    def __init__(self):\n",
    "        self.y = (1,100)\n",
    "      \n",
    "    def train_func(self, x, y):\n",
    "        plt.hist(bd.training_getter()[x].sort_values(), color=wsu_color, bins=y)        \n",
    "        plt.title('TRAINING DATA')\n",
    "        \n",
    "    def test_func(self, x, y):\n",
    "        plt.hist(bd.testing_getter()[x].sort_values(), color=wsu_color, bins=y)\n",
    "        plt.title('TESTING DATA')\n",
    "\n",
    "    def plotter(self, b):\n",
    "        with plotter_output:\n",
    "            clear_output()\n",
    "            interact(self.train_func, x=bd.training_getter().columns.tolist(), y=self.y)\n",
    "            interact(self.test_func, x=bd.testing_getter().columns.tolist(), y=self.y)\n",
    "\n",
    "            \n",
    "pl = Plotter()\n",
    "\n",
    "plotter_output = widgets.Output()\n",
    "plotter_button = widgets.Button(description='Create Plots')\n",
    "\n",
    "plotter_button.on_click(pl.plotter)\n",
    "\n",
    "plotter_nest = widgets.VBox([plotter_button, plotter_output])\n",
    "display(plotter_nest)"
   ]
  },
  {
   "cell_type": "markdown",
   "metadata": {},
   "source": [
    "# Detect and remove outliers"
   ]
  },
  {
   "cell_type": "code",
   "execution_count": 36,
   "metadata": {},
   "outputs": [
    {
     "data": {
      "text/html": [
       "<div>\n",
       "<style scoped>\n",
       "    .dataframe tbody tr th:only-of-type {\n",
       "        vertical-align: middle;\n",
       "    }\n",
       "\n",
       "    .dataframe tbody tr th {\n",
       "        vertical-align: top;\n",
       "    }\n",
       "\n",
       "    .dataframe thead th {\n",
       "        text-align: right;\n",
       "    }\n",
       "</style>\n",
       "<table border=\"1\" class=\"dataframe\">\n",
       "  <thead>\n",
       "    <tr style=\"text-align: right;\">\n",
       "      <th></th>\n",
       "      <th>count_week_from_term_begin_dt</th>\n",
       "      <th>parent1_highest_educ_lvl</th>\n",
       "      <th>parent2_highest_educ_lvl</th>\n",
       "    </tr>\n",
       "  </thead>\n",
       "  <tbody>\n",
       "    <tr>\n",
       "      <th>0</th>\n",
       "      <td>13</td>\n",
       "      <td>missing</td>\n",
       "      <td>&gt; bach</td>\n",
       "    </tr>\n",
       "    <tr>\n",
       "      <th>47</th>\n",
       "      <td>38</td>\n",
       "      <td>&lt; bach</td>\n",
       "      <td>&lt; bach</td>\n",
       "    </tr>\n",
       "    <tr>\n",
       "      <th>59</th>\n",
       "      <td>38</td>\n",
       "      <td>&gt; bach</td>\n",
       "      <td>&lt; bach</td>\n",
       "    </tr>\n",
       "    <tr>\n",
       "      <th>78</th>\n",
       "      <td>38</td>\n",
       "      <td>&lt; bach</td>\n",
       "      <td>&lt; bach</td>\n",
       "    </tr>\n",
       "    <tr>\n",
       "      <th>121</th>\n",
       "      <td>38</td>\n",
       "      <td>bach</td>\n",
       "      <td>&lt; bach</td>\n",
       "    </tr>\n",
       "    <tr>\n",
       "      <th>...</th>\n",
       "      <td>...</td>\n",
       "      <td>...</td>\n",
       "      <td>...</td>\n",
       "    </tr>\n",
       "    <tr>\n",
       "      <th>30638</th>\n",
       "      <td>19</td>\n",
       "      <td>&gt; bach</td>\n",
       "      <td>&gt; bach</td>\n",
       "    </tr>\n",
       "    <tr>\n",
       "      <th>30639</th>\n",
       "      <td>19</td>\n",
       "      <td>&lt; bach</td>\n",
       "      <td>bach</td>\n",
       "    </tr>\n",
       "    <tr>\n",
       "      <th>30643</th>\n",
       "      <td>18</td>\n",
       "      <td>&lt; bach</td>\n",
       "      <td>&lt; bach</td>\n",
       "    </tr>\n",
       "    <tr>\n",
       "      <th>30689</th>\n",
       "      <td>14</td>\n",
       "      <td>missing</td>\n",
       "      <td>missing</td>\n",
       "    </tr>\n",
       "    <tr>\n",
       "      <th>30732</th>\n",
       "      <td>10</td>\n",
       "      <td>missing</td>\n",
       "      <td>&lt; bach</td>\n",
       "    </tr>\n",
       "  </tbody>\n",
       "</table>\n",
       "<p>19903 rows × 3 columns</p>\n",
       "</div>"
      ],
      "text/plain": [
       "       count_week_from_term_begin_dt parent1_highest_educ_lvl  \\\n",
       "0                                 13                  missing   \n",
       "47                                38                   < bach   \n",
       "59                                38                   > bach   \n",
       "78                                38                   < bach   \n",
       "121                               38                     bach   \n",
       "...                              ...                      ...   \n",
       "30638                             19                   > bach   \n",
       "30639                             19                   < bach   \n",
       "30643                             18                   < bach   \n",
       "30689                             14                  missing   \n",
       "30732                             10                  missing   \n",
       "\n",
       "      parent2_highest_educ_lvl  \n",
       "0                       > bach  \n",
       "47                      < bach  \n",
       "59                      < bach  \n",
       "78                      < bach  \n",
       "121                     < bach  \n",
       "...                        ...  \n",
       "30638                   > bach  \n",
       "30639                     bach  \n",
       "30643                   < bach  \n",
       "30689                  missing  \n",
       "30732                   < bach  \n",
       "\n",
       "[19903 rows x 3 columns]"
      ]
     },
     "execution_count": 36,
     "metadata": {},
     "output_type": "execute_result"
    }
   ],
   "source": [
    "ot = bd.training_getter().drop(columns=['enrl_ind','emplid'])\n",
    "ot\n"
   ]
  },
  {
   "cell_type": "code",
   "execution_count": 37,
   "metadata": {},
   "outputs": [],
   "source": [
    "one_hot = []\n",
    "\n",
    "for _ in ot.columns:\n",
    "    if _ == 'marital_status':\n",
    "        one_hot.append('marital_status')\n",
    "    \n",
    "    if _ == 'first_gen_flag':\n",
    "        one_hot.append('first_gen_flag')\n",
    "        \n",
    "    if _ == 'parent1_highest_educ_lvl':\n",
    "        one_hot.append('parent1_highest_educ_lvl')\n",
    "        \n",
    "    if _ == 'parent2_highest_educ_lvl':\n",
    "        one_hot.append('parent2_highest_educ_lvl')   \n"
   ]
  },
  {
   "cell_type": "code",
   "execution_count": 38,
   "metadata": {},
   "outputs": [
    {
     "data": {
      "text/plain": [
       "['parent1_highest_educ_lvl', 'parent2_highest_educ_lvl']"
      ]
     },
     "execution_count": 38,
     "metadata": {},
     "output_type": "execute_result"
    }
   ],
   "source": [
    "one_hot"
   ]
  },
  {
   "cell_type": "code",
   "execution_count": 39,
   "metadata": {},
   "outputs": [],
   "source": [
    "pr = make_column_transformer((OneHotEncoder(drop='first'), one_hot), remainder='passthrough')"
   ]
  },
  {
   "cell_type": "code",
   "execution_count": null,
   "metadata": {},
   "outputs": [],
   "source": [
    "ot = pr.fit_transform(ot)"
   ]
  },
  {
   "cell_type": "code",
   "execution_count": null,
   "metadata": {},
   "outputs": [],
   "source": [
    "bd.training_getter().mask = LocalOutlierFactor(metric='manhattan', n_jobs=-1).fit_predict(ot)\n",
    "\n",
    "pullm_training_set['mask'] = LocalOutlierFactor(metric='manhattan', n_jobs=-1).fit_predict(pullm_x_outlier)\n",
    "\n",
    "pullm_outlier_set = pullm_training_set.drop(pullm_training_set[pullm_training_set['mask'] == 1].index)\n",
    "pullm_outlier_set.to_csv('Z:\\\\Nathan\\\\Models\\\\student_risk\\\\outliers\\\\pullm_frsh_outlier_set.csv', encoding='utf-8', index=False)\n",
    "\n",
    "pullm_training_set = pullm_training_set.drop(pullm_training_set[pullm_training_set['mask'] == -1].index)\n",
    "pullm_training_set = pullm_training_set.drop(columns='mask')"
   ]
  }
 ],
 "metadata": {
  "kernelspec": {
   "display_name": "Python 3",
   "language": "python",
   "name": "python3"
  },
  "language_info": {
   "codemirror_mode": {
    "name": "ipython",
    "version": 3
   },
   "file_extension": ".py",
   "mimetype": "text/x-python",
   "name": "python",
   "nbconvert_exporter": "python",
   "pygments_lexer": "ipython3",
   "version": "3.7.6"
  },
  "toc-autonumbering": true,
  "toc-showmarkdowntxt": true,
  "widgets": {
   "application/vnd.jupyter.widget-state+json": {
    "state": {
     "00117419b2e54f6b922a84300d6afb7c": {
      "model_module": "@jupyter-widgets/controls",
      "model_module_version": "1.5.0",
      "model_name": "CheckboxModel",
      "state": {
       "description": "cas_math",
       "disabled": false,
       "layout": "IPY_MODEL_660bea8b659747be921ea33819f83e9b",
       "style": "IPY_MODEL_e5ac7ce7d7df4a37a1963b6e007e8f66",
       "value": false
      }
     },
     "00d8cf8d8cb541f6920fd525638d80b6": {
      "model_module": "@jupyter-widgets/controls",
      "model_module_version": "1.5.0",
      "model_name": "DescriptionStyleModel",
      "state": {
       "description_width": ""
      }
     },
     "0140693aa78e465c96cad645d472ba88": {
      "model_module": "@jupyter-widgets/controls",
      "model_module_version": "1.5.0",
      "model_name": "CheckboxModel",
      "state": {
       "description": "race_black",
       "disabled": false,
       "layout": "IPY_MODEL_10dd5634f4d44651952288f036212bcb",
       "style": "IPY_MODEL_6d89ed1656564a939050e1f01498f16d",
       "value": false
      }
     },
     "0152f72af5ca42928a51191c2ea8ab4d": {
      "model_module": "@jupyter-widgets/controls",
      "model_module_version": "1.5.0",
      "model_name": "CheckboxModel",
      "state": {
       "description": "cahnrs_econ",
       "disabled": false,
       "layout": "IPY_MODEL_fb6a35a90197486f9f95ec8ac8c408ed",
       "style": "IPY_MODEL_adedf40c034c4b698d99622ad86661cb",
       "value": false
      }
     },
     "0162494605514262b7d6968e03506c6e": {
      "model_module": "@jupyter-widgets/controls",
      "model_module_version": "1.5.0",
      "model_name": "CheckboxModel",
      "state": {
       "description": "rural_remote",
       "disabled": false,
       "layout": "IPY_MODEL_03f025e09102464a9cf086a97f147a5c",
       "style": "IPY_MODEL_a7226c739c2a4ec8994f64dce7f2ecf7",
       "value": false
      }
     },
     "0164dec5cb12466984e555abfb374891": {
      "model_module": "@jupyter-widgets/controls",
      "model_module_version": "1.5.0",
      "model_name": "CheckboxModel",
      "state": {
       "description": "spring_withdrawn_hours",
       "disabled": false,
       "layout": "IPY_MODEL_0f69f84859ab40e09e0bd57e9d012710",
       "style": "IPY_MODEL_c867af2767524a21aa8a3f1d365db818",
       "value": false
      }
     },
     "01bb03974d28463fbba5f2b968ae6781": {
      "model_module": "@jupyter-widgets/output",
      "model_module_version": "1.0.0",
      "model_name": "OutputModel",
      "state": {
       "layout": "IPY_MODEL_968c9f4932b1479e93c3b7dfec178552",
       "outputs": [
        {
         "data": {
          "image/png": "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\n",
          "text/plain": "<Figure size 432x288 with 1 Axes>"
         },
         "metadata": {
          "needs_background": "light"
         },
         "output_type": "display_data"
        }
       ]
      }
     },
     "01c3ffaaa56e4ac485cf8302352c368f": {
      "model_module": "@jupyter-widgets/base",
      "model_module_version": "1.2.0",
      "model_name": "LayoutModel",
      "state": {}
     },
     "01d6cf3aca39431f83ad548cea510e22": {
      "model_module": "@jupyter-widgets/controls",
      "model_module_version": "1.5.0",
      "model_name": "DescriptionStyleModel",
      "state": {
       "description_width": ""
      }
     },
     "02200c93424c4b2ca7f90f166b85742a": {
      "model_module": "@jupyter-widgets/controls",
      "model_module_version": "1.5.0",
      "model_name": "CheckboxModel",
      "state": {
       "description": "acad_year",
       "disabled": false,
       "layout": "IPY_MODEL_3e9c7088bd2a4e7cb96b0ec5750c012a",
       "style": "IPY_MODEL_96ef046e14dc491dade84aa4bd13e9f2",
       "value": true
      }
     },
     "0240afd213334e43bb9a31c24384405d": {
      "model_module": "@jupyter-widgets/controls",
      "model_module_version": "1.5.0",
      "model_name": "DescriptionStyleModel",
      "state": {
       "description_width": ""
      }
     },
     "0251226530fc4c5680c62092f721868c": {
      "model_module": "@jupyter-widgets/controls",
      "model_module_version": "1.5.0",
      "model_name": "CheckboxModel",
      "state": {
       "description": "spring_avg_pct_withdrawn",
       "disabled": false,
       "layout": "IPY_MODEL_727269b089314ea4b99461524224d765",
       "style": "IPY_MODEL_0a96c478b3924808b62f904e60b1ea03",
       "value": false
      }
     },
     "025869edf45541219d096f264d94505d": {
      "model_module": "@jupyter-widgets/base",
      "model_module_version": "1.2.0",
      "model_name": "LayoutModel",
      "state": {}
     },
     "0280af19308a44b69f5f8098ba9059c8": {
      "model_module": "@jupyter-widgets/controls",
      "model_module_version": "1.5.0",
      "model_name": "DescriptionStyleModel",
      "state": {
       "description_width": ""
      }
     },
     "02992de999424faf9aebcc8619e9d12a": {
      "model_module": "@jupyter-widgets/controls",
      "model_module_version": "1.5.0",
      "model_name": "DescriptionStyleModel",
      "state": {
       "description_width": ""
      }
     },
     "02de38121b1b47619c40c35cf3bfa8b1": {
      "model_module": "@jupyter-widgets/controls",
      "model_module_version": "1.5.0",
      "model_name": "CheckboxModel",
      "state": {
       "description": "attendee_vibes",
       "disabled": false,
       "layout": "IPY_MODEL_3b74cb6bd7ae46c693e89b2476c3b3ba",
       "style": "IPY_MODEL_577183abf8144d36b7e0dfa20f0e7e53",
       "value": false
      }
     },
     "02fd09e84200423d8aee4eb7abb8e6d8": {
      "model_module": "@jupyter-widgets/controls",
      "model_module_version": "1.5.0",
      "model_name": "VBoxModel",
      "state": {
       "_dom_classes": [
        "widget-interact"
       ],
       "children": [
        "IPY_MODEL_09210a59a30e4d9e84a38f757e228c2e",
        "IPY_MODEL_c5d0348465f24965b591c5d9362bb514",
        "IPY_MODEL_4f1dfeead284436b94d52f1bdd2aebd3"
       ],
       "layout": "IPY_MODEL_520dc0343c2245999fe4b05d8c5fb084"
      }
     },
     "031d2278344b4641afa0f8b314af4d37": {
      "model_module": "@jupyter-widgets/base",
      "model_module_version": "1.2.0",
      "model_name": "LayoutModel",
      "state": {}
     },
     "0331a36ce52f4e38a23cadf60bf3cc8f": {
      "model_module": "@jupyter-widgets/controls",
      "model_module_version": "1.5.0",
      "model_name": "VBoxModel",
      "state": {
       "_dom_classes": [
        "widget-interact"
       ],
       "children": [
        "IPY_MODEL_26eb97ef28cc441aa8bdb4c48f3e245a",
        "IPY_MODEL_990104d4672a4436a26808d94665edc2",
        "IPY_MODEL_9fa45fb6a0904b9caf25b4ddefb5253d"
       ],
       "layout": "IPY_MODEL_b20d1f5727de4ac89442605afd6792fd"
      }
     },
     "0376931d8179403c986105cdcf4a457b": {
      "model_module": "@jupyter-widgets/base",
      "model_module_version": "1.2.0",
      "model_name": "LayoutModel",
      "state": {
       "flex_flow": "row wrap"
      }
     },
     "0393594391804c35bb1c1b5f2e298981": {
      "model_module": "@jupyter-widgets/controls",
      "model_module_version": "1.5.0",
      "model_name": "SliderStyleModel",
      "state": {
       "description_width": ""
      }
     },
     "03f025e09102464a9cf086a97f147a5c": {
      "model_module": "@jupyter-widgets/base",
      "model_module_version": "1.2.0",
      "model_name": "LayoutModel",
      "state": {}
     },
     "04142eea53fa4548919eb791b409abc8": {
      "model_module": "@jupyter-widgets/controls",
      "model_module_version": "1.5.0",
      "model_name": "DescriptionStyleModel",
      "state": {
       "description_width": ""
      }
     },
     "042a57cd48fc466cb06eea31ccc6ece4": {
      "model_module": "@jupyter-widgets/output",
      "model_module_version": "1.0.0",
      "model_name": "OutputModel",
      "state": {
       "layout": "IPY_MODEL_e35ea816cc9c4e3fb57f96ddc70812d7",
       "outputs": [
        {
         "data": {
          "image/png": "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\n",
          "text/plain": "<Figure size 432x288 with 1 Axes>"
         },
         "metadata": {
          "needs_background": "light"
         },
         "output_type": "display_data"
        }
       ]
      }
     },
     "0477a0bcb55c4f38b25bf03d095a6a57": {
      "model_module": "@jupyter-widgets/base",
      "model_module_version": "1.2.0",
      "model_name": "LayoutModel",
      "state": {}
     },
     "0495af7938ab414f986291ba2f041447": {
      "model_module": "@jupyter-widgets/controls",
      "model_module_version": "1.5.0",
      "model_name": "DescriptionStyleModel",
      "state": {
       "description_width": ""
      }
     },
     "049f86f956bb41bcb23293f45b50567e": {
      "model_module": "@jupyter-widgets/controls",
      "model_module_version": "1.5.0",
      "model_name": "CheckboxModel",
      "state": {
       "description": "fall_lec_contact_hrs",
       "disabled": false,
       "layout": "IPY_MODEL_b7a72ed38e8b49ba874c53d11fe7daf9",
       "style": "IPY_MODEL_53970cd4405c4535aac90bd294e20072",
       "value": false
      }
     },
     "04d5cf1cd93d458ea63d8554de748b91": {
      "model_module": "@jupyter-widgets/controls",
      "model_module_version": "1.5.0",
      "model_name": "SliderStyleModel",
      "state": {
       "description_width": ""
      }
     },
     "04da5589c88b40aeb06f25aef78e0e66": {
      "model_module": "@jupyter-widgets/base",
      "model_module_version": "1.2.0",
      "model_name": "LayoutModel",
      "state": {}
     },
     "0570e9c913114984ae5dcb2226f2b7a4": {
      "model_module": "@jupyter-widgets/controls",
      "model_module_version": "1.5.0",
      "model_name": "VBoxModel",
      "state": {
       "children": [
        "IPY_MODEL_ef0a40c76db442c7a6e065345a64f647",
        "IPY_MODEL_5f3875fc2db149388ba624d503f0c5ef",
        "IPY_MODEL_d92a3b03fcf647d49e6f857323146ef0",
        "IPY_MODEL_0152f72af5ca42928a51191c2ea8ab4d",
        "IPY_MODEL_b12bbbd7006c4314a8410804decb25ad",
        "IPY_MODEL_588d483f749b458f8813629796281854",
        "IPY_MODEL_24aa6abace30419f930d9e3fffcfb2bc",
        "IPY_MODEL_00117419b2e54f6b922a84300d6afb7c",
        "IPY_MODEL_48b65ff8aaa140039c5c97e66552b3db",
        "IPY_MODEL_c037f9a0ce5844b9a60169986e02812c",
        "IPY_MODEL_6ae05a6da77946848f207abff99d5570",
        "IPY_MODEL_bdb918b39bc74faead5653a2702669cb",
        "IPY_MODEL_789eedbcd5044339a9e2af1955d25812",
        "IPY_MODEL_6ffa9091dd114b3686899436774d3bc0",
        "IPY_MODEL_b41b084465784b9580cb7884931a6b6d",
        "IPY_MODEL_a8f601c3dd3e4d76ba4cb4d0c8545c27",
        "IPY_MODEL_e3aedda494354736b0cb508303d54591",
        "IPY_MODEL_3454b8e9d3c7445182d0acbbe06c2e2b",
        "IPY_MODEL_a41b0e8ada08468cb1cb0a5e6d75c81c",
        "IPY_MODEL_f6a3030b2eb940ae80516f90844e209a",
        "IPY_MODEL_9aef808431a7425cba9f2e0c4460a756",
        "IPY_MODEL_786460f89f1b43438a9ed0af8685649b",
        "IPY_MODEL_1b5b323657bb45be8bbd742b32802474",
        "IPY_MODEL_b6fea12b5d6a4ebf826d063065aa2f68",
        "IPY_MODEL_59d4c9c9b0b948d0a881ae65a521503c",
        "IPY_MODEL_8405740b174f4603a536b675bdb0949c"
       ],
       "layout": "IPY_MODEL_6fd7328171c944d39f7a5d73b2d63d43"
      }
     },
     "0574bd13a45f4bc7bfce6eb02fa483fb": {
      "model_module": "@jupyter-widgets/controls",
      "model_module_version": "1.5.0",
      "model_name": "CheckboxModel",
      "state": {
       "description": "pell_eligibility_ind",
       "disabled": false,
       "layout": "IPY_MODEL_39758f25f80e4e9d9ffa4d893b8ce67c",
       "style": "IPY_MODEL_d10e3fd697d94a8ba164f3744c684cd0",
       "value": false
      }
     },
     "05ca9e089b664e92bbbf4383242db995": {
      "model_module": "@jupyter-widgets/controls",
      "model_module_version": "1.5.0",
      "model_name": "DescriptionStyleModel",
      "state": {
       "description_width": ""
      }
     },
     "065d1e44d5fd4f7fac71daa512123593": {
      "model_module": "@jupyter-widgets/base",
      "model_module_version": "1.2.0",
      "model_name": "LayoutModel",
      "state": {}
     },
     "06892466753b40e689d152aa4bae2fb4": {
      "model_module": "@jupyter-widgets/controls",
      "model_module_version": "1.5.0",
      "model_name": "DescriptionStyleModel",
      "state": {
       "description_width": ""
      }
     },
     "069b3b5996504803bd25559fea6de379": {
      "model_module": "@jupyter-widgets/controls",
      "model_module_version": "1.5.0",
      "model_name": "VBoxModel",
      "state": {
       "_dom_classes": [
        "widget-interact"
       ],
       "children": [
        "IPY_MODEL_7c46861757db4a2aabfe8855a528968e",
        "IPY_MODEL_1db8b6328674455e825cec1b91019bb2",
        "IPY_MODEL_66c809ec2bc748c7acb0ab6a8dff037d"
       ],
       "layout": "IPY_MODEL_d482f35960ac4333aa4720bbd815fe4f"
      }
     },
     "06c04569d5db4023b4e8f051b196b70a": {
      "model_module": "@jupyter-widgets/controls",
      "model_module_version": "1.5.0",
      "model_name": "DescriptionStyleModel",
      "state": {
       "description_width": ""
      }
     },
     "06e6f6e19eb4419bb2069cf4caba0b64": {
      "model_module": "@jupyter-widgets/controls",
      "model_module_version": "1.5.0",
      "model_name": "DescriptionStyleModel",
      "state": {
       "description_width": ""
      }
     },
     "076d3367fcc84bc7b9fd146b4ccaf6c0": {
      "model_module": "@jupyter-widgets/base",
      "model_module_version": "1.2.0",
      "model_name": "LayoutModel",
      "state": {}
     },
     "078b098e2a494d0eb20375bbc09cee90": {
      "model_module": "@jupyter-widgets/controls",
      "model_module_version": "1.5.0",
      "model_name": "VBoxModel",
      "state": {
       "_dom_classes": [
        "widget-interact"
       ],
       "children": [
        "IPY_MODEL_4d5dfc55265c46a5a6082ff9dc441504",
        "IPY_MODEL_5b44bd5651ea42f889458b533f8b3185",
        "IPY_MODEL_61890bf04c484d5fb243772d98093240"
       ],
       "layout": "IPY_MODEL_ace93362208b4186833a863160ca2b0c"
      }
     },
     "07a587d385d741f1bc012894abcc4944": {
      "model_module": "@jupyter-widgets/base",
      "model_module_version": "1.2.0",
      "model_name": "LayoutModel",
      "state": {}
     },
     "07af66bde93949e094308dbf9568bb84": {
      "model_module": "@jupyter-widgets/controls",
      "model_module_version": "1.5.0",
      "model_name": "DescriptionStyleModel",
      "state": {
       "description_width": ""
      }
     },
     "07cc2ed2ca364fe68f5d2bec6e4895a9": {
      "model_module": "@jupyter-widgets/controls",
      "model_module_version": "1.5.0",
      "model_name": "DescriptionStyleModel",
      "state": {
       "description_width": ""
      }
     },
     "07dbc058ea3844728e4eb45b8440c3ff": {
      "model_module": "@jupyter-widgets/controls",
      "model_module_version": "1.5.0",
      "model_name": "DescriptionStyleModel",
      "state": {
       "description_width": ""
      }
     },
     "08095f76be48457d8525a87a2a6a979d": {
      "model_module": "@jupyter-widgets/output",
      "model_module_version": "1.0.0",
      "model_name": "OutputModel",
      "state": {
       "layout": "IPY_MODEL_73703e11c4a44acba5c0f4dc9a3d8840",
       "outputs": [
        {
         "name": "stdout",
         "output_type": "stream",
         "text": ""
        }
       ]
      }
     },
     "0854828a54fb411b819ea14770f24770": {
      "model_module": "@jupyter-widgets/controls",
      "model_module_version": "1.5.0",
      "model_name": "DescriptionStyleModel",
      "state": {
       "description_width": ""
      }
     },
     "0858156c5038479aac96d0f2e27f6910": {
      "model_module": "@jupyter-widgets/controls",
      "model_module_version": "1.5.0",
      "model_name": "CheckboxModel",
      "state": {
       "description": "parent1_highest_educ_lvl",
       "disabled": false,
       "layout": "IPY_MODEL_e7e73c76d5aa4aa487c6d66787be1984",
       "style": "IPY_MODEL_fac420e259054348b80ea5bd21cdea88",
       "value": true
      }
     },
     "089a6a68bb404a01a1a33263ba050f26": {
      "model_module": "@jupyter-widgets/base",
      "model_module_version": "1.2.0",
      "model_name": "LayoutModel",
      "state": {}
     },
     "091cc5a80e3f49109e77ff1e47bde25e": {
      "model_module": "@jupyter-widgets/base",
      "model_module_version": "1.2.0",
      "model_name": "LayoutModel",
      "state": {}
     },
     "09210a59a30e4d9e84a38f757e228c2e": {
      "model_module": "@jupyter-widgets/controls",
      "model_module_version": "1.5.0",
      "model_name": "DropdownModel",
      "state": {
       "_options_labels": [
        "emplid",
        "enrl_ind",
        "count_week_from_term_begin_dt"
       ],
       "description": "x",
       "index": 2,
       "layout": "IPY_MODEL_17478afde41944c593c055750bbb3684",
       "style": "IPY_MODEL_a390852561854d53bd2c5fb8c55ef53e"
      }
     },
     "092d9e2b35cf45859a5cf05b7e97da35": {
      "model_module": "@jupyter-widgets/base",
      "model_module_version": "1.2.0",
      "model_name": "LayoutModel",
      "state": {}
     },
     "09469a32026d45aab50dad886ba63c3d": {
      "model_module": "@jupyter-widgets/controls",
      "model_module_version": "1.5.0",
      "model_name": "DescriptionStyleModel",
      "state": {
       "description_width": ""
      }
     },
     "0966d4373d524e8e91a98c47047edd49": {
      "model_module": "@jupyter-widgets/base",
      "model_module_version": "1.2.0",
      "model_name": "LayoutModel",
      "state": {}
     },
     "09681d2636754d45ba4638fb886ab1cf": {
      "model_module": "@jupyter-widgets/base",
      "model_module_version": "1.2.0",
      "model_name": "LayoutModel",
      "state": {}
     },
     "098d5ae97ed947c58d19746dae47213b": {
      "model_module": "@jupyter-widgets/base",
      "model_module_version": "1.2.0",
      "model_name": "LayoutModel",
      "state": {}
     },
     "09e2eac7c74f4025b3a1c745e7939afa": {
      "model_module": "@jupyter-widgets/controls",
      "model_module_version": "1.5.0",
      "model_name": "CheckboxModel",
      "state": {
       "description": "spring_lec_count",
       "disabled": false,
       "layout": "IPY_MODEL_d536689c3f0a404082dfd637f6648fcf",
       "style": "IPY_MODEL_14588a911faf4aadb600c3b7bfbbd7bb",
       "value": false
      }
     },
     "0a11248a56e24d91a21095f4b8342d85": {
      "model_module": "@jupyter-widgets/base",
      "model_module_version": "1.2.0",
      "model_name": "LayoutModel",
      "state": {}
     },
     "0a761fbe33104763828b9e26b4263a42": {
      "model_module": "@jupyter-widgets/base",
      "model_module_version": "1.2.0",
      "model_name": "LayoutModel",
      "state": {}
     },
     "0a7eea22a72a44b5b9f459ed43e17833": {
      "model_module": "@jupyter-widgets/base",
      "model_module_version": "1.2.0",
      "model_name": "LayoutModel",
      "state": {}
     },
     "0a96c478b3924808b62f904e60b1ea03": {
      "model_module": "@jupyter-widgets/controls",
      "model_module_version": "1.5.0",
      "model_name": "DescriptionStyleModel",
      "state": {
       "description_width": ""
      }
     },
     "0aade2aba26747c9a373993e486d225b": {
      "model_module": "@jupyter-widgets/controls",
      "model_module_version": "1.5.0",
      "model_name": "CheckboxModel",
      "state": {
       "description": "fall_lec_count",
       "disabled": false,
       "layout": "IPY_MODEL_8afc9e39a3fa4d45afabbe84d0e1a457",
       "style": "IPY_MODEL_0cf728115596483483fc3d5ed715699e",
       "value": false
      }
     },
     "0ab8454136aa489297c6e81d59fef70e": {
      "model_module": "@jupyter-widgets/controls",
      "model_module_version": "1.5.0",
      "model_name": "CheckboxModel",
      "state": {
       "description": "attendee_destination",
       "disabled": false,
       "layout": "IPY_MODEL_7629a7f2048a4ec28fab8b0d72f27b70",
       "style": "IPY_MODEL_8a52c18cca334521aadb30b1a4662af6",
       "value": false
      }
     },
     "0accdd8c4e4c422c9e2e835088940772": {
      "model_module": "@jupyter-widgets/controls",
      "model_module_version": "1.5.0",
      "model_name": "ButtonStyleModel",
      "state": {}
     },
     "0af3e04e4d004820a4a3a347f13ffcb6": {
      "model_module": "@jupyter-widgets/controls",
      "model_module_version": "1.5.0",
      "model_name": "CheckboxModel",
      "state": {
       "description": "vet_med",
       "disabled": false,
       "layout": "IPY_MODEL_305d4817ec554dd6a2c5ecc885400091",
       "style": "IPY_MODEL_2bdf528fb68145a7b39155a5b7ac6b7a",
       "value": false
      }
     },
     "0b0751f3a0c84dfea50d524fe9738f78": {
      "model_module": "@jupyter-widgets/controls",
      "model_module_version": "1.5.0",
      "model_name": "IntSliderModel",
      "state": {
       "description": "y",
       "layout": "IPY_MODEL_a4d99dda2e9e466b99e9d67e21deb30b",
       "min": 1,
       "style": "IPY_MODEL_d66b6104836b4878ace873178b9be0a6",
       "value": 50
      }
     },
     "0b1e14ff45d646e6a0be35d04bc39ccb": {
      "model_module": "@jupyter-widgets/controls",
      "model_module_version": "1.5.0",
      "model_name": "CheckboxModel",
      "state": {
       "description": "total_fall_contact_hrs",
       "disabled": false,
       "layout": "IPY_MODEL_f9eba3526ec34538bfb2c31f16b1cd69",
       "style": "IPY_MODEL_6a1a010eb88d4bb98b1e9c92edceafa6",
       "value": false
      }
     },
     "0be3426cdd9742d088de2f026d4da478": {
      "model_module": "@jupyter-widgets/controls",
      "model_module_version": "1.5.0",
      "model_name": "CheckboxModel",
      "state": {
       "description": "unmet_need_ofr",
       "disabled": false,
       "layout": "IPY_MODEL_0a11248a56e24d91a21095f4b8342d85",
       "style": "IPY_MODEL_703dc756e9f54f178fe0c46419e5435c",
       "value": false
      }
     },
     "0c509f46cabe4041bbd50a869170b4c3": {
      "model_module": "@jupyter-widgets/base",
      "model_module_version": "1.2.0",
      "model_name": "LayoutModel",
      "state": {}
     },
     "0c5483c2e17943ed9050715874940ca2": {
      "model_module": "@jupyter-widgets/base",
      "model_module_version": "1.2.0",
      "model_name": "LayoutModel",
      "state": {}
     },
     "0c7e88f6ad0c4cd3a643d958b1cd62ea": {
      "model_module": "@jupyter-widgets/base",
      "model_module_version": "1.2.0",
      "model_name": "LayoutModel",
      "state": {}
     },
     "0c8e6e541a0f4074989de94eecdcc5a0": {
      "model_module": "@jupyter-widgets/controls",
      "model_module_version": "1.5.0",
      "model_name": "DescriptionStyleModel",
      "state": {
       "description_width": ""
      }
     },
     "0c922e19ca5c407a9c2cc845ddc52afe": {
      "model_module": "@jupyter-widgets/controls",
      "model_module_version": "1.5.0",
      "model_name": "CheckboxModel",
      "state": {
       "description": "attendee_destination",
       "disabled": false,
       "layout": "IPY_MODEL_fafb3bc4f8e04fc39bdfc4b49e0f492f",
       "style": "IPY_MODEL_fe6302fc746747158f9826a5ab2f60f5",
       "value": false
      }
     },
     "0ca3c0ea8e114cabbb6d94a43a9db2cb": {
      "model_module": "@jupyter-widgets/controls",
      "model_module_version": "1.5.0",
      "model_name": "DescriptionStyleModel",
      "state": {
       "description_width": ""
      }
     },
     "0cc8f99535d7438282d5c3db52d11c6c": {
      "model_module": "@jupyter-widgets/base",
      "model_module_version": "1.2.0",
      "model_name": "LayoutModel",
      "state": {}
     },
     "0cf728115596483483fc3d5ed715699e": {
      "model_module": "@jupyter-widgets/controls",
      "model_module_version": "1.5.0",
      "model_name": "DescriptionStyleModel",
      "state": {
       "description_width": ""
      }
     },
     "0d04dbcbc10a4857b8e5278997d9745f": {
      "model_module": "@jupyter-widgets/controls",
      "model_module_version": "1.5.0",
      "model_name": "CheckboxModel",
      "state": {
       "description": "IB_AICE",
       "disabled": false,
       "layout": "IPY_MODEL_1c86831aaab84670a4198412bad12319",
       "style": "IPY_MODEL_f901196d4e5540cb974218d5fc3ed8ed",
       "value": false
      }
     },
     "0d2bcbe1575342249c0d69a3face7dba": {
      "model_module": "@jupyter-widgets/controls",
      "model_module_version": "1.5.0",
      "model_name": "VBoxModel",
      "state": {
       "children": [
        "IPY_MODEL_40ada48df20f459eabc495a3b3ddf4c7",
        "IPY_MODEL_41452d733e5343ffba2e2d65edcd547c",
        "IPY_MODEL_b41b3869311a4feda68c6c5e522734e6",
        "IPY_MODEL_1fd6a4af0d3b43a8926beceb86706f11",
        "IPY_MODEL_433bdeef76c7442e98647cbc3c3e6b92",
        "IPY_MODEL_51164290ed7243e0b024ea8805e2986b",
        "IPY_MODEL_1d81338a500341d68ab7b7fec6ea34c4",
        "IPY_MODEL_0d5dc22c51e5420a94880dd60162f54a"
       ],
       "layout": "IPY_MODEL_e1b64f26bcdc458ca66563f9120ed8c7"
      }
     },
     "0d5dc22c51e5420a94880dd60162f54a": {
      "model_module": "@jupyter-widgets/controls",
      "model_module_version": "1.5.0",
      "model_name": "CheckboxModel",
      "state": {
       "description": "athlete",
       "disabled": false,
       "layout": "IPY_MODEL_150f96fb09514c1d8480c5cbe63f48c8",
       "style": "IPY_MODEL_ecab4ec50cfb47fa9427e1fb46ade692",
       "value": false
      }
     },
     "0d83bb514b334a11ba06cea2822286c3": {
      "model_module": "@jupyter-widgets/controls",
      "model_module_version": "1.5.0",
      "model_name": "DescriptionStyleModel",
      "state": {
       "description_width": ""
      }
     },
     "0da9c21c1fec4b929e6db0775e8b00b2": {
      "model_module": "@jupyter-widgets/controls",
      "model_module_version": "1.5.0",
      "model_name": "DescriptionStyleModel",
      "state": {
       "description_width": ""
      }
     },
     "0dc7411db7a04480bbb8ee0c5504655e": {
      "model_module": "@jupyter-widgets/controls",
      "model_module_version": "1.5.0",
      "model_name": "DropdownModel",
      "state": {
       "_options_labels": [
        "emplid",
        "enrl_ind",
        "count_week_from_term_begin_dt"
       ],
       "description": "x",
       "index": 2,
       "layout": "IPY_MODEL_785572bef79c4b2185969fc5b6d45591",
       "style": "IPY_MODEL_a344f72e857c4e96a72da1ace5aacc56"
      }
     },
     "0e8a005fa2c2420fa04e3b4b1d9fb488": {
      "model_module": "@jupyter-widgets/base",
      "model_module_version": "1.2.0",
      "model_name": "LayoutModel",
      "state": {}
     },
     "0f0d0494eefa49ed813894c96c8103f6": {
      "model_module": "@jupyter-widgets/controls",
      "model_module_version": "1.5.0",
      "model_name": "CheckboxModel",
      "state": {
       "description": "male",
       "disabled": false,
       "layout": "IPY_MODEL_d17c8ab23ff04e5189e090e031a57264",
       "style": "IPY_MODEL_b54dc037601b4bd3af4aa4dff77c446f",
       "value": false
      }
     },
     "0f2ec3c9b4414c678e696e6f6bea1291": {
      "model_module": "@jupyter-widgets/base",
      "model_module_version": "1.2.0",
      "model_name": "LayoutModel",
      "state": {}
     },
     "0f398cca082148beb9c112000fd120c2": {
      "model_module": "@jupyter-widgets/base",
      "model_module_version": "1.2.0",
      "model_name": "LayoutModel",
      "state": {}
     },
     "0f5bbb0294dd4390bc2062dd29e08e37": {
      "model_module": "@jupyter-widgets/controls",
      "model_module_version": "1.5.0",
      "model_name": "CheckboxModel",
      "state": {
       "description": "attendee_top_scholars",
       "disabled": false,
       "layout": "IPY_MODEL_88233463747b4f6a92b1131026d31470",
       "style": "IPY_MODEL_b5bcca21881a4469af6e811737ea6bbe",
       "value": false
      }
     },
     "0f601bd177e04442bb79c8ba68221add": {
      "model_module": "@jupyter-widgets/controls",
      "model_module_version": "1.5.0",
      "model_name": "DescriptionStyleModel",
      "state": {
       "description_width": ""
      }
     },
     "0f69f84859ab40e09e0bd57e9d012710": {
      "model_module": "@jupyter-widgets/base",
      "model_module_version": "1.2.0",
      "model_name": "LayoutModel",
      "state": {}
     },
     "0f79d46a97af4d39bf17ee189dee5079": {
      "model_module": "@jupyter-widgets/controls",
      "model_module_version": "1.5.0",
      "model_name": "DescriptionStyleModel",
      "state": {
       "description_width": ""
      }
     },
     "0faf934cc53d48daafceff394b10a978": {
      "model_module": "@jupyter-widgets/controls",
      "model_module_version": "1.5.0",
      "model_name": "DescriptionStyleModel",
      "state": {
       "description_width": ""
      }
     },
     "0fd2f0454f4349c78e3f4dce2d75c546": {
      "model_module": "@jupyter-widgets/controls",
      "model_module_version": "1.5.0",
      "model_name": "DescriptionStyleModel",
      "state": {
       "description_width": ""
      }
     },
     "105b9a5c436a48e4a00629e8649239fd": {
      "model_module": "@jupyter-widgets/controls",
      "model_module_version": "1.5.0",
      "model_name": "DescriptionStyleModel",
      "state": {
       "description_width": ""
      }
     },
     "1064316d40644e57a757e52ec63e1e1a": {
      "model_module": "@jupyter-widgets/base",
      "model_module_version": "1.2.0",
      "model_name": "LayoutModel",
      "state": {}
     },
     "108f1ec2902a48558b9429971754ef84": {
      "model_module": "@jupyter-widgets/controls",
      "model_module_version": "1.5.0",
      "model_name": "DescriptionStyleModel",
      "state": {
       "description_width": ""
      }
     },
     "10c3493db6254ed6a5ed12fd4adf6bf1": {
      "model_module": "@jupyter-widgets/controls",
      "model_module_version": "1.5.0",
      "model_name": "CheckboxModel",
      "state": {
       "description": "attendee_imagine_u",
       "disabled": false,
       "layout": "IPY_MODEL_339e7ef9bb3d47a7b53cc790905b10df",
       "style": "IPY_MODEL_9dec24493072473d8e80c34fd6c627e9",
       "value": false
      }
     },
     "10dd5634f4d44651952288f036212bcb": {
      "model_module": "@jupyter-widgets/base",
      "model_module_version": "1.2.0",
      "model_name": "LayoutModel",
      "state": {}
     },
     "110dbfc8c1144f7cb803a130f68bc90b": {
      "model_module": "@jupyter-widgets/controls",
      "model_module_version": "1.5.0",
      "model_name": "DescriptionStyleModel",
      "state": {
       "description_width": ""
      }
     },
     "116eda3d02aa49b48ffa316fec18b825": {
      "model_module": "@jupyter-widgets/controls",
      "model_module_version": "1.5.0",
      "model_name": "CheckboxModel",
      "state": {
       "description": "fed_need",
       "disabled": false,
       "layout": "IPY_MODEL_e35cc1407d7c4a2a882b39b153440823",
       "style": "IPY_MODEL_904e38205f704b93b831443c71352054",
       "value": false
      }
     },
     "11b014ef3fe44698bbf16bb85223ace4": {
      "model_module": "@jupyter-widgets/base",
      "model_module_version": "1.2.0",
      "model_name": "LayoutModel",
      "state": {}
     },
     "11bf1be6c794497ca3b247cfd531cb46": {
      "model_module": "@jupyter-widgets/base",
      "model_module_version": "1.2.0",
      "model_name": "LayoutModel",
      "state": {}
     },
     "11df74c698a04ecc924851a2918814ba": {
      "model_module": "@jupyter-widgets/output",
      "model_module_version": "1.0.0",
      "model_name": "OutputModel",
      "state": {
       "layout": "IPY_MODEL_11bf1be6c794497ca3b247cfd531cb46",
       "outputs": [
        {
         "data": {
          "image/png": "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\n",
          "text/plain": "<Figure size 432x288 with 1 Axes>"
         },
         "metadata": {
          "needs_background": "light"
         },
         "output_type": "display_data"
        }
       ]
      }
     },
     "1201dc8b87c648b1baa51d13b382cda8": {
      "model_module": "@jupyter-widgets/controls",
      "model_module_version": "1.5.0",
      "model_name": "CheckboxModel",
      "state": {
       "description": "attendee_fcod",
       "disabled": false,
       "layout": "IPY_MODEL_7f85327f40c04a40bcb17ff101d53e98",
       "style": "IPY_MODEL_d26e5de63008442cadcdca1e908e742f",
       "value": false
      }
     },
     "1202b759b2c9448298d19797922c2ba8": {
      "model_module": "@jupyter-widgets/controls",
      "model_module_version": "1.5.0",
      "model_name": "DescriptionStyleModel",
      "state": {
       "description_width": ""
      }
     },
     "123ae49fa1474b0a935918874a082416": {
      "model_module": "@jupyter-widgets/controls",
      "model_module_version": "1.5.0",
      "model_name": "CheckboxModel",
      "state": {
       "description": "pct_oth",
       "disabled": false,
       "layout": "IPY_MODEL_717fa15435ae4fb7bf46c090e99bfbcc",
       "style": "IPY_MODEL_a211d035026042c99ab5ebcf31e5ac97",
       "value": false
      }
     },
     "12492e9233374f5bb6cc9b1f4d8faa39": {
      "model_module": "@jupyter-widgets/controls",
      "model_module_version": "1.5.0",
      "model_name": "DescriptionStyleModel",
      "state": {
       "description_width": ""
      }
     },
     "125877fc42bd4702a8376b5b0e54aaca": {
      "model_module": "@jupyter-widgets/controls",
      "model_module_version": "1.5.0",
      "model_name": "CheckboxModel",
      "state": {
       "description": "suburb_mid",
       "disabled": false,
       "layout": "IPY_MODEL_64074f5968e6447f8e076d20181a8a26",
       "style": "IPY_MODEL_55810523c49f4376b089241a3e615585",
       "value": false
      }
     },
     "126d46e551f24807bb6573f399bc41cb": {
      "model_module": "@jupyter-widgets/controls",
      "model_module_version": "1.5.0",
      "model_name": "CheckboxModel",
      "state": {
       "description": "town_fringe",
       "disabled": false,
       "layout": "IPY_MODEL_989a671b960641899e3e8980303d0412",
       "style": "IPY_MODEL_135a48b0793f4ccfaa159c58c6261aac",
       "value": false
      }
     },
     "12a75807b4ec44b2a56a78d73ceb18e0": {
      "model_module": "@jupyter-widgets/controls",
      "model_module_version": "1.5.0",
      "model_name": "ButtonModel",
      "state": {
       "description": "Create Plots",
       "layout": "IPY_MODEL_1bdc7605707a460984774fb4bbe00480",
       "style": "IPY_MODEL_97d8fdb7369a4566860b9f36d508bf0f"
      }
     },
     "12d3d27c251d4f7eadb6315b1a8277a1": {
      "model_module": "@jupyter-widgets/base",
      "model_module_version": "1.2.0",
      "model_name": "LayoutModel",
      "state": {}
     },
     "12e48817f9714f08afa848252ffe3788": {
      "model_module": "@jupyter-widgets/base",
      "model_module_version": "1.2.0",
      "model_name": "LayoutModel",
      "state": {
       "flex_flow": "row wrap"
      }
     },
     "132d1e920a9142fab6650244ca145c3f": {
      "model_module": "@jupyter-widgets/controls",
      "model_module_version": "1.5.0",
      "model_name": "VBoxModel",
      "state": {
       "children": [
        "IPY_MODEL_b02815ec91864135bcf9ce9160e7a582",
        "IPY_MODEL_4f673a44422041bebe3402a376580eff"
       ],
       "layout": "IPY_MODEL_255139c0d9aa469e9d4dd74650fc9aa0"
      }
     },
     "13508fd4796249329e2a38ae5be6b91a": {
      "model_module": "@jupyter-widgets/controls",
      "model_module_version": "1.5.0",
      "model_name": "CheckboxModel",
      "state": {
       "description": "race_native_hawaiian",
       "disabled": false,
       "layout": "IPY_MODEL_3533e1a27dd34219931ca3a82dab9e76",
       "style": "IPY_MODEL_07cc2ed2ca364fe68f5d2bec6e4895a9",
       "value": false
      }
     },
     "135a48b0793f4ccfaa159c58c6261aac": {
      "model_module": "@jupyter-widgets/controls",
      "model_module_version": "1.5.0",
      "model_name": "DescriptionStyleModel",
      "state": {
       "description_width": ""
      }
     },
     "13760c6595cf4f4aac1f68081543d5b3": {
      "model_module": "@jupyter-widgets/controls",
      "model_module_version": "1.5.0",
      "model_name": "DescriptionStyleModel",
      "state": {
       "description_width": ""
      }
     },
     "13807268f4614a35b7e71b9d25ad0313": {
      "model_module": "@jupyter-widgets/base",
      "model_module_version": "1.2.0",
      "model_name": "LayoutModel",
      "state": {}
     },
     "138a869756a847e78eabf216510af44d": {
      "model_module": "@jupyter-widgets/base",
      "model_module_version": "1.2.0",
      "model_name": "LayoutModel",
      "state": {}
     },
     "13fc45b748c44dfd8bc85b485baef10a": {
      "model_module": "@jupyter-widgets/base",
      "model_module_version": "1.2.0",
      "model_name": "LayoutModel",
      "state": {}
     },
     "14588a911faf4aadb600c3b7bfbbd7bb": {
      "model_module": "@jupyter-widgets/controls",
      "model_module_version": "1.5.0",
      "model_name": "DescriptionStyleModel",
      "state": {
       "description_width": ""
      }
     },
     "1483a4363ce14c4498ed8a8e6af14042": {
      "model_module": "@jupyter-widgets/base",
      "model_module_version": "1.2.0",
      "model_name": "LayoutModel",
      "state": {}
     },
     "14e1ccf691a645a39d5eb8520c04ba10": {
      "model_module": "@jupyter-widgets/controls",
      "model_module_version": "1.5.0",
      "model_name": "IntSliderModel",
      "state": {
       "description": "y",
       "layout": "IPY_MODEL_cb9ada26592c4c3e897f848132099334",
       "min": 1,
       "style": "IPY_MODEL_0393594391804c35bb1c1b5f2e298981",
       "value": 50
      }
     },
     "150f96fb09514c1d8480c5cbe63f48c8": {
      "model_module": "@jupyter-widgets/base",
      "model_module_version": "1.2.0",
      "model_name": "LayoutModel",
      "state": {}
     },
     "1534883145e5412d898a9a2752e9ae2b": {
      "model_module": "@jupyter-widgets/base",
      "model_module_version": "1.2.0",
      "model_name": "LayoutModel",
      "state": {}
     },
     "15777f2ece224e21bcdc4bfb1aada9d9": {
      "model_module": "@jupyter-widgets/controls",
      "model_module_version": "1.5.0",
      "model_name": "CheckboxModel",
      "state": {
       "description": "pct_non",
       "disabled": false,
       "layout": "IPY_MODEL_6d63997298534ff1832015f7830cab3d",
       "style": "IPY_MODEL_30fe06250c5a4a43af4a26d6acae58eb",
       "value": false
      }
     },
     "158f97012d2449488bb7a9d39c2d6a2c": {
      "model_module": "@jupyter-widgets/controls",
      "model_module_version": "1.5.0",
      "model_name": "CheckboxModel",
      "state": {
       "description": "fall_lab_contact_hrs",
       "disabled": false,
       "layout": "IPY_MODEL_d9344002773448299c2ad7610d49e4dd",
       "style": "IPY_MODEL_a5d225c95f2a4c09a1ddc3506054fd44",
       "value": false
      }
     },
     "15939642d9684e84a9f975f94c3ff626": {
      "model_module": "@jupyter-widgets/base",
      "model_module_version": "1.2.0",
      "model_name": "LayoutModel",
      "state": {}
     },
     "15b09c02686841bb82055fa748257d93": {
      "model_module": "@jupyter-widgets/controls",
      "model_module_version": "1.5.0",
      "model_name": "DescriptionStyleModel",
      "state": {
       "description_width": ""
      }
     },
     "15e4ee4dee2e4fdfac54593d401ae997": {
      "model_module": "@jupyter-widgets/controls",
      "model_module_version": "1.5.0",
      "model_name": "CheckboxModel",
      "state": {
       "description": "total_spring_contact_hrs",
       "disabled": false,
       "layout": "IPY_MODEL_77277d36df5a44b1954c4058a33ff8cb",
       "style": "IPY_MODEL_f368f2f6b53b446db6c2097aba743dec",
       "value": false
      }
     },
     "15ee9f6bf30640e9b5dcbb15afb36adc": {
      "model_module": "@jupyter-widgets/controls",
      "model_module_version": "1.5.0",
      "model_name": "DescriptionStyleModel",
      "state": {
       "description_width": ""
      }
     },
     "1603269c95924d738da7d15f63723c46": {
      "model_module": "@jupyter-widgets/controls",
      "model_module_version": "1.5.0",
      "model_name": "DescriptionStyleModel",
      "state": {
       "description_width": ""
      }
     },
     "161bab52d8474a88b056cbb799267f9e": {
      "model_module": "@jupyter-widgets/base",
      "model_module_version": "1.2.0",
      "model_name": "LayoutModel",
      "state": {}
     },
     "16a530433cca44ad892f778b8fcc8a3e": {
      "model_module": "@jupyter-widgets/controls",
      "model_module_version": "1.5.0",
      "model_name": "CheckboxModel",
      "state": {
       "description": "race_hispanic",
       "disabled": false,
       "layout": "IPY_MODEL_2207a3f86baa476288d0585cccb3090d",
       "style": "IPY_MODEL_23b2a8751b0f4530b28610943c76cde0",
       "value": false
      }
     },
     "1731b9116c8840d68224c9eab8c0ece6": {
      "model_module": "@jupyter-widgets/base",
      "model_module_version": "1.2.0",
      "model_name": "LayoutModel",
      "state": {}
     },
     "17478afde41944c593c055750bbb3684": {
      "model_module": "@jupyter-widgets/base",
      "model_module_version": "1.2.0",
      "model_name": "LayoutModel",
      "state": {}
     },
     "1757bae9a67142728372f3fb027a0c7c": {
      "model_module": "@jupyter-widgets/controls",
      "model_module_version": "1.5.0",
      "model_name": "CheckboxModel",
      "state": {
       "description": "vcea_mech",
       "disabled": false,
       "layout": "IPY_MODEL_57e992d316294252a10cfa88b374da7e",
       "style": "IPY_MODEL_32dd5bba901841cca364ce0da394c8d8",
       "value": false
      }
     },
     "17971f1ae241479d8a5b73437de0e713": {
      "model_module": "@jupyter-widgets/controls",
      "model_module_version": "1.5.0",
      "model_name": "CheckboxModel",
      "state": {
       "description": "cas_chem",
       "disabled": false,
       "layout": "IPY_MODEL_6dae8a818fee4a4097df7fa6558bce36",
       "style": "IPY_MODEL_c7ce1c22b2f24bcd89a1c77c237e23a7",
       "value": false
      }
     },
     "179cf063e59640efa8725c6b9de85b91": {
      "model_module": "@jupyter-widgets/controls",
      "model_module_version": "1.5.0",
      "model_name": "DescriptionStyleModel",
      "state": {
       "description_width": ""
      }
     },
     "17a68a518da241579e5ddfa4d8063fcc": {
      "model_module": "@jupyter-widgets/controls",
      "model_module_version": "1.5.0",
      "model_name": "ButtonStyleModel",
      "state": {}
     },
     "17cb8f6384244d2e8194be033542fdd5": {
      "model_module": "@jupyter-widgets/controls",
      "model_module_version": "1.5.0",
      "model_name": "ButtonStyleModel",
      "state": {}
     },
     "17e0935cf9134eccad52a87f29ad1df1": {
      "model_module": "@jupyter-widgets/controls",
      "model_module_version": "1.5.0",
      "model_name": "DescriptionStyleModel",
      "state": {
       "description_width": ""
      }
     },
     "17f4635fdb73450aaf3165044cb8502c": {
      "model_module": "@jupyter-widgets/controls",
      "model_module_version": "1.5.0",
      "model_name": "CheckboxModel",
      "state": {
       "description": "RS",
       "disabled": false,
       "layout": "IPY_MODEL_f7d2025212a849a9aece32a4dda1d466",
       "style": "IPY_MODEL_36832c85bc5c4ad2b55fe6d2a774f6a4",
       "value": false
      }
     },
     "181411d3512c4dc398e5cca7db29a186": {
      "model_module": "@jupyter-widgets/base",
      "model_module_version": "1.2.0",
      "model_name": "LayoutModel",
      "state": {}
     },
     "181e70558aa54f9bad27cd1dade5cb0d": {
      "model_module": "@jupyter-widgets/base",
      "model_module_version": "1.2.0",
      "model_name": "LayoutModel",
      "state": {}
     },
     "18507fd5a5f84906b19d492c437068bc": {
      "model_module": "@jupyter-widgets/output",
      "model_module_version": "1.0.0",
      "model_name": "OutputModel",
      "state": {
       "layout": "IPY_MODEL_d0f3626296fa4a7d950cb759e86f86d4",
       "outputs": [
        {
         "data": {
          "application/vnd.jupyter.widget-view+json": {
           "model_id": "",
           "version_major": 2,
           "version_minor": 0
          },
          "text/plain": "interactive(children=(Dropdown(description='x', options=('emplid', 'enrl_ind', 'acad_year', 'count_week_from_t…"
         },
         "metadata": {},
         "output_type": "display_data"
        },
        {
         "data": {
          "application/vnd.jupyter.widget-view+json": {
           "model_id": "",
           "version_major": 2,
           "version_minor": 0
          },
          "text/plain": "interactive(children=(Dropdown(description='x', options=('emplid', 'enrl_ind', 'acad_year', 'count_week_from_t…"
         },
         "metadata": {},
         "output_type": "display_data"
        }
       ]
      }
     },
     "1858585bd76241c4b2d69255dd050e69": {
      "model_module": "@jupyter-widgets/base",
      "model_module_version": "1.2.0",
      "model_name": "LayoutModel",
      "state": {}
     },
     "189edeba79984c619dca8a015d7f8505": {
      "model_module": "@jupyter-widgets/base",
      "model_module_version": "1.2.0",
      "model_name": "LayoutModel",
      "state": {}
     },
     "18d7225309824320bd8b9c5994d0f7be": {
      "model_module": "@jupyter-widgets/base",
      "model_module_version": "1.2.0",
      "model_name": "LayoutModel",
      "state": {}
     },
     "193ed516f3d640fc85a759c0c8cf2c64": {
      "model_module": "@jupyter-widgets/controls",
      "model_module_version": "1.5.0",
      "model_name": "DescriptionStyleModel",
      "state": {
       "description_width": ""
      }
     },
     "19633d11592246a19ee62b7622169bb4": {
      "model_module": "@jupyter-widgets/base",
      "model_module_version": "1.2.0",
      "model_name": "LayoutModel",
      "state": {}
     },
     "196d8ec9048049ebb64b2feba8112eb5": {
      "model_module": "@jupyter-widgets/base",
      "model_module_version": "1.2.0",
      "model_name": "LayoutModel",
      "state": {}
     },
     "19ab709869744f78ba44e0eeab273801": {
      "model_module": "@jupyter-widgets/controls",
      "model_module_version": "1.5.0",
      "model_name": "CheckboxModel",
      "state": {
       "description": "high_school_gpa",
       "disabled": false,
       "layout": "IPY_MODEL_bae9b5147c0f4c0ba887743f5487f9da",
       "style": "IPY_MODEL_83529c73102e4cb987ccd252a7cb6760",
       "value": false
      }
     },
     "19b543a3afb54c119e07cccf1fd3a7db": {
      "model_module": "@jupyter-widgets/base",
      "model_module_version": "1.2.0",
      "model_name": "LayoutModel",
      "state": {}
     },
     "1a1f4a49789a4dbbac8ef367c7502121": {
      "model_module": "@jupyter-widgets/base",
      "model_module_version": "1.2.0",
      "model_name": "LayoutModel",
      "state": {}
     },
     "1a2413c4ea6f4d49859f1c681cb581f0": {
      "model_module": "@jupyter-widgets/controls",
      "model_module_version": "1.5.0",
      "model_name": "VBoxModel",
      "state": {
       "children": [
        "IPY_MODEL_e84a5ad254054c4db2a54239ec1f9338",
        "IPY_MODEL_df5afe28cf054b6f9defadf9935c5021",
        "IPY_MODEL_4e6b0e7d5ec041ca8007ea0d6bf19df6",
        "IPY_MODEL_0c922e19ca5c407a9c2cc845ddc52afe",
        "IPY_MODEL_e13c7b8e24ef4965b5b3d93b68b335d8",
        "IPY_MODEL_dd7fb40214b6407c90f985f02bf00697",
        "IPY_MODEL_24d7db69ab6a4d019a0f6f5da0be1b27",
        "IPY_MODEL_223bf9bbf21a4e9384138a67c14fdc2a",
        "IPY_MODEL_1201dc8b87c648b1baa51d13b382cda8",
        "IPY_MODEL_cd7e55930cd140fc8f2267c16312d16f",
        "IPY_MODEL_d212dc4abe1c4f1fb681967eb7f43819",
        "IPY_MODEL_fe2efdc794d541e0b2b8bedbe4b293a8",
        "IPY_MODEL_f60ef272c6b3400abcbe26ac4458d7d4",
        "IPY_MODEL_b9c19d32f7164bcf8bf1611a37567264",
        "IPY_MODEL_5939637b3c61426bb23d71ec3880694a",
        "IPY_MODEL_2253d02cf49b47ef8394cbdd933dcffe",
        "IPY_MODEL_362914f9e1d8449d83eb62317a048747",
        "IPY_MODEL_c33653c953b34023a692529ff49ef4b4",
        "IPY_MODEL_eef4120fd9364cb2932812403a2e4101",
        "IPY_MODEL_82f6779a2d9648628513c1e4049c8464",
        "IPY_MODEL_272b583f767a461cb2c3f8adcfffe852",
        "IPY_MODEL_576807dc6cb7488587651674aaabff6e",
        "IPY_MODEL_bdf36730855c48f0adf8e096a9993a5a",
        "IPY_MODEL_c5adf18372c84e9db44079c443f601f4",
        "IPY_MODEL_7c6eabe2980a44619bd39ffd6847b547",
        "IPY_MODEL_4434e1b3dcf84ab7ae322de674d92c6b"
       ],
       "layout": "IPY_MODEL_e65a4d419ce1488bb1dc816581ba3c27"
      }
     },
     "1a43f75dc63f456e8fe55da73bb9812e": {
      "model_module": "@jupyter-widgets/controls",
      "model_module_version": "1.5.0",
      "model_name": "DescriptionStyleModel",
      "state": {
       "description_width": ""
      }
     },
     "1a5517fa9a5c46c3ade107c3e9bba3bc": {
      "model_module": "@jupyter-widgets/controls",
      "model_module_version": "1.5.0",
      "model_name": "DescriptionStyleModel",
      "state": {
       "description_width": ""
      }
     },
     "1a7dbc4ff3db42afb0554a4efe816a66": {
      "model_module": "@jupyter-widgets/base",
      "model_module_version": "1.2.0",
      "model_name": "LayoutModel",
      "state": {}
     },
     "1a8670af57da4493966e56495b0abf03": {
      "model_module": "@jupyter-widgets/base",
      "model_module_version": "1.2.0",
      "model_name": "LayoutModel",
      "state": {}
     },
     "1ae52b18d6b049d68b79618f395f5cd4": {
      "model_module": "@jupyter-widgets/base",
      "model_module_version": "1.2.0",
      "model_name": "LayoutModel",
      "state": {}
     },
     "1afa4a06897a4a56a5234cd9a00e2014": {
      "model_module": "@jupyter-widgets/controls",
      "model_module_version": "1.5.0",
      "model_name": "DescriptionStyleModel",
      "state": {
       "description_width": ""
      }
     },
     "1b037542646642b181b1e9dfb9068f31": {
      "model_module": "@jupyter-widgets/output",
      "model_module_version": "1.0.0",
      "model_name": "OutputModel",
      "state": {
       "layout": "IPY_MODEL_15939642d9684e84a9f975f94c3ff626",
       "outputs": [
        {
         "data": {
          "image/png": "iVBORw0KGgoAAAANSUhEUgAAAYAAAAEICAYAAABWJCMKAAAABHNCSVQICAgIfAhkiAAAAAlwSFlzAAALEgAACxIB0t1+/AAAADh0RVh0U29mdHdhcmUAbWF0cGxvdGxpYiB2ZXJzaW9uMy4xLjMsIGh0dHA6Ly9tYXRwbG90bGliLm9yZy+AADFEAAATsklEQVR4nO3df/BddX3n8efLBJHRMoL5MdmEJels2hpxAMlSutZdd7FLdFXotnRDrWRn7aZSnLHbnenC2o7YmllrdxzrtNil1RK2KMZqh9QOddlU+pPKBkuFgJEoFlIiiagjsoqA7/3jfr7Tu19u8r3fJN97v+HzfMycued8zuec876f3NzX955z7vebqkKS1J/nTLsASdJ0GACS1CkDQJI6ZQBIUqcMAEnqlAEgSZ0yACSpUwaApirJN4em7yb51tDyG5Jck+TJtvz1JH+V5IdG7Gdd2/7aEesqyT9p89e05UuH1i9tbWvb8vVJ3tnm17Z1fzRrn7+X5Jqh5e9J8p4kX0ryeJIHk/x+kvMP87xn9jvzXB9J8okkP3KY/rcl+VqSk4fabhna/skk3xla/q1xxkZ9MwA0VVX1gpkJeBB43VDbja3bR9r6ZcCngI+O2NXlwNeAzcNvkofxVeCXkyyZR6kXJHn5qBXteH8CvBR4LXAq8GLgJuA1c+z3he25nQ3cCvxBkn8/a/9rgVcABbx+pr2qXj00djcC7x4auzcP7WI+Y6OOGAA6YVTVUwze6FYnWT5r9eXALwJPAq+bY1d/DHwH+Kl5HP7dwDsPs+6NwBrgkqq6p6qerqrHq+r3q+qacXZeVV+uql8HrgF+Ncnw/83Lgb8Grge2zKPm4e3HHRt1xADQCSPJcxm8mT3K4CfamfZXMHgDvgnY0focSQG/BLw9yUljHv43ge9L8qoR614FfLKqHh9zX0fycWAF8P1DbZczCL4bgYuSrBx3Z0cxNuqIAaATwU8k+TrwLeA/Aj/ePg3M2ALcUlVfAz4EvDrJiiPtsKp2AoeAnx6zhm8D2xj9KWAZ8OWZhSTntOsV30iyd8z9z3i4PZ7e9vXDwJnAjqq6E/gC8JPz2N+8x0b9MAB0IthRVS8EVgL3AOfNrEhyCnApg5+OqarbGVxLGOdN8heBtwHPG7OO3wZWJpl9GuVRYNXMQlXd1er9t8B8z7mvbo9fbY9bgP9VVV9pyx9izNNAxzg26oABoBNGexP8GeCaJDNvuD/K4KLrtUm+nOTLDN5E5zzVUVW3AvuAnx3z+E8C7wB+BcjQql3Av07y/HGfyxH8KHAQ2NvewH8C+BdDz+0/AWcnOXvMfR3V2KgPBoBOKFX1OeCTwC+0pi3ABxncgXNOm14OnJPkpWPs8m1D+xrH/2TwU/2mobYbgAMM7uA5K8mSJM8DNo670yQrk7wFeDtwdVV9F7gEeBrYwD88txcDf854b+LHOjZ6ljMAdCL6NWBrkjOBC4H3trtoZqY7GdzpM+epkqr6S+COcQ9cVU8zeJM+fajt28C/BO4F/gj4BrAX+KcMfoI/kq8neRy4m8Eto5dW1Qfbui3A71bVg8PPD/gN4A1Jlh5up0lWc4xjo2e/+AdhJKlPfgKQpE4ZAJLUKQNAkjplAEhSpw57F8FisWzZslq7du20y5CkE8qdd975laqa/Tuz/j+LPgDWrl3L7t27p12GJJ1QkvzdXH08BSRJnTIAJKlTBoAkdcoAkKROGQCS1CkDQJI6ZQBIUqcMAEnqlAEgSZ1a9N8ElqRns/9x5nkj23/m7+5c8GP7CUCSOmUASFKnDABJ6pQBIEmdMgAkqVMGgCR1ygCQpE4ZAJLUKQNAkjplAEhSpwwASeqUASBJnTIAJKlTBoAkdWrsAEiyJMnfJPlEWz49ya1J7m+Ppw31vTrJviR7k1w01H5ekrvbuvclyfF9OpKkcc3nE8BbgfuGlq8CdlXVemBXWybJBmAz8BJgE3BtkiVtm/cDW4H1bdp0TNVLko7aWH8QJska4N8A24Cfb80XA69s89uB24D/0tpvqqongAeS7APOT/Il4NSqur3t8wbgEuCW4/FEdHSm+ccoJE3XuJ8A3gv8AvDdobaVVXUAoD2uaO2rgYeG+u1vbavb/Oz2Z0iyNcnuJLsPHTo0ZomSpPmYMwCSvBY4WFXj/kg46rx+HaH9mY1V11XVxqrauHz58jEPK0maj3FOAb0ceH2S1wDPA05N8nvAI0lWVdWBJKuAg63/fuCMoe3XAA+39jUj2iVJUzDnJ4Cqurqq1lTVWgYXd/+kqn4K2Alsad22ADe3+Z3A5iQnJ1nH4GLvHe000WNJLmh3/1w+tI0kacLGugh8GO8CdiR5E/AgcClAVe1JsgO4F3gKuLKqnm7bXAFcD5zC4OKvF4AlaUrmFQBVdRuDu32oqkeBCw/TbxuDO4Zmt+8GzppvkZKk489vAktSpwwASerUsVwDkLrml+h0ojMAJC0YQ3Jxe1YHgC8+STo8rwFIUqcMAEnqlAEgSZ0yACSpUwaAJHXKAJCkThkAktQpA0CSOmUASFKnDABJ6pQBIEmdMgAkqVMGgCR1ygCQpE4ZAJLUKQNAkjplAEhSpwwASeqUASBJnTIAJKlTBoAkdcoAkKROGQCS1CkDQJI6ZQBIUqcMAEnqlAEgSZ0yACSpUwaAJHXKAJCkThkAktQpA0CSOmUASFKn5gyAJM9LckeSv02yJ8k7WvvpSW5Ncn97PG1om6uT7EuyN8lFQ+3nJbm7rXtfkizM05IkzWWcTwBPAP+qqs4GzgE2JbkAuArYVVXrgV1tmSQbgM3AS4BNwLVJlrR9vR/YCqxv06bj+FwkSfMwZwDUwDfb4kltKuBiYHtr3w5c0uYvBm6qqieq6gFgH3B+klXAqVV1e1UVcMPQNpKkCRvrGkCSJUnuAg4Ct1bVp4GVVXUAoD2uaN1XAw8Nbb6/ta1u87PbJUlTMFYAVNXTVXUOsIbBT/NnHaH7qPP6dYT2Z+4g2Zpkd5Ldhw4dGqdESdI8zesuoKr6OnAbg3P3j7TTOrTHg63bfuCMoc3WAA+39jUj2kcd57qq2lhVG5cvXz6fEiVJYxrnLqDlSV7Y5k8BXgV8DtgJbGndtgA3t/mdwOYkJydZx+Bi7x3tNNFjSS5od/9cPrSNJGnClo7RZxWwvd3J8xxgR1V9IsntwI4kbwIeBC4FqKo9SXYA9wJPAVdW1dNtX1cA1wOnALe0SZI0BXMGQFV9Fjh3RPujwIWH2WYbsG1E+27gSNcPJEkT4jeBJalTBoAkdcoAkKROGQCS1CkDQJI6ZQBIUqcMAEnqlAEgSZ0yACSpUwaAJHXKAJCkThkAktQpA0CSOmUASFKnDABJ6pQBIEmdMgAkqVMGgCR1ygCQpE4ZAJLUKQNAkjplAEhSpwwASeqUASBJnTIAJKlTBoAkdcoAkKROGQCS1CkDQJI6ZQBIUqcMAEnqlAEgSZ0yACSpUwaAJHXKAJCkThkAktQpA0CSOmUASFKn5gyAJGck+VSS+5LsSfLW1n56kluT3N8eTxva5uok+5LsTXLRUPt5Se5u696XJAvztCRJcxnnE8BTwH+uqhcDFwBXJtkAXAXsqqr1wK62TFu3GXgJsAm4NsmStq/3A1uB9W3adByfiyRpHuYMgKo6UFWfafOPAfcBq4GLge2t23bgkjZ/MXBTVT1RVQ8A+4Dzk6wCTq2q26uqgBuGtpEkTdi8rgEkWQucC3waWFlVB2AQEsCK1m018NDQZvtb2+o2P7tdkjQFYwdAkhcAHwN+rqq+caSuI9rqCO2jjrU1ye4kuw8dOjRuiZKkeRgrAJKcxODN/8aq+nhrfqSd1qE9Hmzt+4EzhjZfAzzc2teMaH+GqrquqjZW1cbly5eP+1wkSfMwzl1AAT4A3FdV7xlatRPY0ua3ADcPtW9OcnKSdQwu9t7RThM9luSCts/Lh7aRJE3Y0jH6vBx4I3B3krta238F3gXsSPIm4EHgUoCq2pNkB3AvgzuIrqyqp9t2VwDXA6cAt7RJkjQFcwZAVf0Fo8/fA1x4mG22AdtGtO8GzppPgZKkheE3gSWpUwaAJHXKAJCkThkAktQpA0CSOmUASFKnDABJ6pQBIEmdMgAkqVMGgCR1ygCQpE4ZAJLUKQNAkjplAEhSpwwASeqUASBJnTIAJKlTBoAkdcoAkKROGQCS1CkDQJI6ZQBIUqcMAEnqlAEgSZ0yACSpUwaAJHXKAJCkThkAktQpA0CSOmUASFKnDABJ6pQBIEmdMgAkqVMGgCR1ygCQpE4ZAJLUKQNAkjplAEhSpwwASerUnAGQ5INJDia5Z6jt9CS3Jrm/PZ42tO7qJPuS7E1y0VD7eUnubuvelyTH/+lIksY1zieA64FNs9quAnZV1XpgV1smyQZgM/CSts21SZa0bd4PbAXWt2n2PiVJEzRnAFTVnwFfndV8MbC9zW8HLhlqv6mqnqiqB4B9wPlJVgGnVtXtVVXADUPbSJKm4GivAaysqgMA7XFFa18NPDTUb39rW93mZ7ePlGRrkt1Jdh86dOgoS5QkHcnxvgg86rx+HaF9pKq6rqo2VtXG5cuXH7fiJEn/4GgD4JF2Wof2eLC17wfOGOq3Bni4ta8Z0S5JmpKjDYCdwJY2vwW4eah9c5KTk6xjcLH3jnaa6LEkF7S7fy4f2kaSNAVL5+qQ5MPAK4FlSfYDbwfeBexI8ibgQeBSgKrak2QHcC/wFHBlVT3ddnUFgzuKTgFuaZMkaUrmDICquuwwqy48TP9twLYR7buBs+ZVnSRpwfhNYEnqlAEgSZ0yACSpUwaAJHXKAJCkThkAktQpA0CSOmUASFKnDABJ6pQBIEmdMgAkqVMGgCR1ygCQpE4ZAJLUKQNAkjplAEhSpwwASeqUASBJnTIAJKlTBoAkdcoAkKROGQCS1CkDQJI6ZQBIUqcMAEnqlAEgSZ0yACSpUwaAJHXKAJCkThkAktQpA0CSOmUASFKnDABJ6pQBIEmdMgAkqVMGgCR1ygCQpE4ZAJLUqYkHQJJNSfYm2ZfkqkkfX5I0MNEASLIE+E3g1cAG4LIkGyZZgyRpYNKfAM4H9lXVF6vqO8BNwMUTrkGSBKSqJnew5MeBTVX10235jcAPVtVbZvXbCmxti98P7D3KQy4DvnKU2y4k65of65of65qfZ2tdZ1bV8iN1WHoMOz8aGdH2jASqquuA6475YMnuqtp4rPs53qxrfqxrfqxrfnqua9KngPYDZwwtrwEennANkiQmHwD/B1ifZF2S5wKbgZ0TrkGSxIRPAVXVU0neAnwSWAJ8sKr2LOAhj/k00gKxrvmxrvmxrvnptq6JXgSWJC0efhNYkjplAEhSr6pqUU4M7hb6FHAfsAd4a2s/HbgVuL89ntbaX9T6fxP4jVn7uo3BdwnuatOKwxzzamBf63vRYqgLWAt8a6jPb02grucyOP/4eeBzwI8tkvGas65JjxfwPUPHuovBfdvvnfZ4jVvXlF5flwF3A58F/hhYNu3xGreuKY3Xv2s17QHefYT3zDnH6xnbjNNpGhOwCnjZ0Iv58wx+fcS7gata+1XAr7b55wM/DLx5xADeBmyc43gbgL8FTgbWAV8AliyCutYC90x4vN4BvLPNP+cw/xGmMV7j1DXx8Zq13zuBf74YxmvMuiY6XgxuPDk482/Xtr9m2uM1j7omPV4vAh4Elrfl7cCFRztes6dFewqoqg5U1Wfa/GMMknQ1g18dsb112w5c0vo8XlV/AXz7KA95MXBTVT1RVQ8wSNLzF0FdYznOdf0H4L+1ft+tqlHfRpzGeI1T11gW4t8xyXpgBfDnI1ZP7fU1R11jOY51pU3PTxLgVEZ/F2jS4zVuXWM5jnV9L/D5qjrUlv838GMjDjnWeM22aANgWJK1wLnAp4GVVXUABoPM4IU9jt9NcleSX2r/wLOtBh4aWt7f2qZdF8C6JH+T5E+TvGKuHR5LXUle2GZ/Jclnknw0ycoRXSc6XvOoCyY4XrNcBnyk2o9ks0zr9TVXXTDB8aqqJ4ErGJxqeZjBT64fGNF1ouM1j7pgsq+vfcAPJFmbZCmDwDhjRL95jxecAAGQ5AXAx4Cfq6pvHOVu3lBVLwVe0aY3jjrUiLbD/YeZZF0HgH9cVecCPw98KMmpC1jXUgbf0P7LqnoZcDvw30cdakTbQo7XuHVNeryGbQY+fLhDjWhb6NfXOHVNdLySnMTgjfZc4B8xOLd99aiuI9oWbLzmUddEx6uqvtbq+giDT3BfAp4adahRm8+1/0UdAO0f5WPAjVX18db8SJJVbf0qBuftjqiq/r49PgZ8iNEfjcb+NRWTrKt9pHu0zd/J4Nze9y1gXY8C/xf4g7b8UeBlI/pNerzGqmsK4zWzr7OBpe2Yo0z89TVOXVMYr3Pasb7QPpHsAP7ZiH6THq+x6prG66uq/rCqfrCqfojBBd77R3Q7ql+zs2gDoJ0O+QBwX1W9Z2jVTmBLm98C3DzHfpYmWdbmTwJeC9wzoutOYHOSk5OsA9YDd0y7riTLM/g7CiT53lbXFxeqrvbi/0Pgla3pQuDeEV0nOl7j1jXp8RpyGYf/KXtmvxMbr3HrmsJ4/T2wIcnMb6n8EQbnx2eb9HiNVdc0Xl9JVrTH04CfBX5nRLexxusZao6rxNOaGFwRLwYfxWZuuXoNg6viuxik4C7g9KFtvgR8lcGtVPsZnMd7PoM7IGZuo/p12tVx4PXALw9t/zYGib4XePViqIvBBZ89DK7wfwZ43ULW1drPBP6s7WsXg4+8Ux2vceuaxni1dV8EfmDWMaY6XuPUNaXX15sZvLl+lkGov2gxjNc4dU1pvD7M4Iede4HNx/L6mj35qyAkqVOL9hSQJGlhGQCS1CkDQJI6ZQBIUqcMAEnqlAEgSZ0yACSpU/8PylSkoZD6T8wAAAAASUVORK5CYII=\n",
          "text/plain": "<Figure size 432x288 with 1 Axes>"
         },
         "metadata": {
          "needs_background": "light"
         },
         "output_type": "display_data"
        }
       ]
      }
     },
     "1b4ad96fbc574c659ea7cf415820e4ff": {
      "model_module": "@jupyter-widgets/controls",
      "model_module_version": "1.5.0",
      "model_name": "CheckboxModel",
      "state": {
       "description": "race_american_indian",
       "disabled": false,
       "layout": "IPY_MODEL_18d7225309824320bd8b9c5994d0f7be",
       "style": "IPY_MODEL_8dddbc66e37241ee9e34d3d725bca988",
       "value": false
      }
     },
     "1b5b323657bb45be8bbd742b32802474": {
      "model_module": "@jupyter-widgets/controls",
      "model_module_version": "1.5.0",
      "model_name": "CheckboxModel",
      "state": {
       "description": "vcea_eecs",
       "disabled": false,
       "layout": "IPY_MODEL_1d6d4fa28b1e4cb8a887f2e7dbe10203",
       "style": "IPY_MODEL_91315b18295f45aa97774fae86adcd6f",
       "value": false
      }
     },
     "1b73a7c9f22a41cb9d953a2082105e49": {
      "model_module": "@jupyter-widgets/base",
      "model_module_version": "1.2.0",
      "model_name": "LayoutModel",
      "state": {}
     },
     "1b822a62b37047db923a4418c4c15389": {
      "model_module": "@jupyter-widgets/base",
      "model_module_version": "1.2.0",
      "model_name": "LayoutModel",
      "state": {}
     },
     "1b90b49412d0423d93547115c1ecf7d7": {
      "model_module": "@jupyter-widgets/controls",
      "model_module_version": "1.5.0",
      "model_name": "DescriptionStyleModel",
      "state": {
       "description_width": ""
      }
     },
     "1bc8ce52a1c14c418a5f0b391c565bb9": {
      "model_module": "@jupyter-widgets/base",
      "model_module_version": "1.2.0",
      "model_name": "LayoutModel",
      "state": {}
     },
     "1bdc7605707a460984774fb4bbe00480": {
      "model_module": "@jupyter-widgets/base",
      "model_module_version": "1.2.0",
      "model_name": "LayoutModel",
      "state": {}
     },
     "1c4557cfa17b4c54b719e4ad2709d955": {
      "model_module": "@jupyter-widgets/controls",
      "model_module_version": "1.5.0",
      "model_name": "CheckboxModel",
      "state": {
       "description": "cas_psyc",
       "disabled": false,
       "layout": "IPY_MODEL_13807268f4614a35b7e71b9d25ad0313",
       "style": "IPY_MODEL_dd074b03a67f4dc8840762aee2e0bfa2",
       "value": false
      }
     },
     "1c86831aaab84670a4198412bad12319": {
      "model_module": "@jupyter-widgets/base",
      "model_module_version": "1.2.0",
      "model_name": "LayoutModel",
      "state": {}
     },
     "1d6d4fa28b1e4cb8a887f2e7dbe10203": {
      "model_module": "@jupyter-widgets/base",
      "model_module_version": "1.2.0",
      "model_name": "LayoutModel",
      "state": {}
     },
     "1d81338a500341d68ab7b7fec6ea34c4": {
      "model_module": "@jupyter-widgets/controls",
      "model_module_version": "1.5.0",
      "model_name": "CheckboxModel",
      "state": {
       "description": "afl_greek_indicator",
       "disabled": false,
       "layout": "IPY_MODEL_9321aeb8234947c5b4cff80aa5583453",
       "style": "IPY_MODEL_17e0935cf9134eccad52a87f29ad1df1",
       "value": false
      }
     },
     "1db8b6328674455e825cec1b91019bb2": {
      "model_module": "@jupyter-widgets/controls",
      "model_module_version": "1.5.0",
      "model_name": "IntSliderModel",
      "state": {
       "description": "y",
       "layout": "IPY_MODEL_c2f24ab49e31479d956f37f91968ff48",
       "min": 1,
       "style": "IPY_MODEL_c754262871364393b1a13b0fc9e434db",
       "value": 50
      }
     },
     "1dbec48d754d4910abc7e406ac36d908": {
      "model_module": "@jupyter-widgets/controls",
      "model_module_version": "1.5.0",
      "model_name": "IntSliderModel",
      "state": {
       "description": "y",
       "layout": "IPY_MODEL_93c04d1e5474451c8eefd8d31c8b6442",
       "min": 1,
       "style": "IPY_MODEL_4361ec1b07874dde981c4e07232a99c7",
       "value": 50
      }
     },
     "1dc54c5f70df43d693f9163f9a10b9f4": {
      "model_module": "@jupyter-widgets/controls",
      "model_module_version": "1.5.0",
      "model_name": "CheckboxModel",
      "state": {
       "description": "distance",
       "disabled": false,
       "layout": "IPY_MODEL_4cdf3b7c731145e4a1c474b6bc93da5e",
       "style": "IPY_MODEL_13760c6595cf4f4aac1f68081543d5b3",
       "value": false
      }
     },
     "1de8c85ed62e4c44a7c34c81e6839015": {
      "model_module": "@jupyter-widgets/base",
      "model_module_version": "1.2.0",
      "model_name": "LayoutModel",
      "state": {}
     },
     "1e0c6f9d7db64246a71a9e19bd53aa91": {
      "model_module": "@jupyter-widgets/controls",
      "model_module_version": "1.5.0",
      "model_name": "CheckboxModel",
      "state": {
       "description": "CHS",
       "disabled": false,
       "layout": "IPY_MODEL_86cd96fd1cc1440985ab42abfbf16dab",
       "style": "IPY_MODEL_5be3c2e4b10740e4adbb017a3f277a25",
       "value": false
      }
     },
     "1e258180b8cf49028a16b1549a4b76ee": {
      "model_module": "@jupyter-widgets/base",
      "model_module_version": "1.2.0",
      "model_name": "LayoutModel",
      "state": {}
     },
     "1e3f1b4819d3420e9fbb4f11bd97bdfb": {
      "model_module": "@jupyter-widgets/base",
      "model_module_version": "1.2.0",
      "model_name": "LayoutModel",
      "state": {}
     },
     "1e77a0e8159743cca01254c511daf65f": {
      "model_module": "@jupyter-widgets/base",
      "model_module_version": "1.2.0",
      "model_name": "LayoutModel",
      "state": {}
     },
     "1e8a3d844c8b41e19e6513e294c1b9b4": {
      "model_module": "@jupyter-widgets/controls",
      "model_module_version": "1.5.0",
      "model_name": "CheckboxModel",
      "state": {
       "description": "cas_biol",
       "disabled": false,
       "layout": "IPY_MODEL_4ae9f5879ff84adea21e849844c443a8",
       "style": "IPY_MODEL_6488c621696d4b8792f9a8d5dfb1b7d5",
       "value": false
      }
     },
     "1e924783b8f94466bbaf6c9b52823957": {
      "model_module": "@jupyter-widgets/controls",
      "model_module_version": "1.5.0",
      "model_name": "DescriptionStyleModel",
      "state": {
       "description_width": ""
      }
     },
     "1e94bec7d9124aa8bbb2d4ab0a64bc91": {
      "model_module": "@jupyter-widgets/controls",
      "model_module_version": "1.5.0",
      "model_name": "DropdownModel",
      "state": {
       "_options_labels": [
        "emplid",
        "enrl_ind",
        "acad_year",
        "count_week_from_term_begin_dt",
        "father_wsu_flag",
        "parent1_highest_educ_lvl",
        "parent2_highest_educ_lvl"
       ],
       "description": "x",
       "index": 0,
       "layout": "IPY_MODEL_e2f0fa27ad604442ac87783bf1241abd",
       "style": "IPY_MODEL_947505213b8d45c4ae57a3fea96aa404"
      }
     },
     "1eb26e7b51c8418dbb67499ea87d752e": {
      "model_module": "@jupyter-widgets/base",
      "model_module_version": "1.2.0",
      "model_name": "LayoutModel",
      "state": {}
     },
     "1ec86b0ad229460e922d9844767eb9a8": {
      "model_module": "@jupyter-widgets/base",
      "model_module_version": "1.2.0",
      "model_name": "LayoutModel",
      "state": {}
     },
     "1ee652d41fcb41aabad810246e37ab15": {
      "model_module": "@jupyter-widgets/controls",
      "model_module_version": "1.5.0",
      "model_name": "DescriptionStyleModel",
      "state": {
       "description_width": ""
      }
     },
     "1ef5273e48ff42c8a07474a7ce9fcbb2": {
      "model_module": "@jupyter-widgets/controls",
      "model_module_version": "1.5.0",
      "model_name": "DescriptionStyleModel",
      "state": {
       "description_width": ""
      }
     },
     "1f01febdbc334f7b9f14f13a4489e21e": {
      "model_module": "@jupyter-widgets/controls",
      "model_module_version": "1.5.0",
      "model_name": "DescriptionStyleModel",
      "state": {
       "description_width": ""
      }
     },
     "1f1fcf13ccde40db972923285e698e8f": {
      "model_module": "@jupyter-widgets/base",
      "model_module_version": "1.2.0",
      "model_name": "LayoutModel",
      "state": {}
     },
     "1f76a414176b4719a10e4e884c76116c": {
      "model_module": "@jupyter-widgets/base",
      "model_module_version": "1.2.0",
      "model_name": "LayoutModel",
      "state": {}
     },
     "1fd6a4af0d3b43a8926beceb86706f11": {
      "model_module": "@jupyter-widgets/controls",
      "model_module_version": "1.5.0",
      "model_name": "CheckboxModel",
      "state": {
       "description": "LSAMP_STEM_Flag",
       "disabled": false,
       "layout": "IPY_MODEL_32ea6664c6ed49c2903a2576fde71cad",
       "style": "IPY_MODEL_f435e409b86046bf85ce82ccd3f31c4b",
       "value": false
      }
     },
     "1fdc5de6487a4ec7896c8079e8ea89f0": {
      "model_module": "@jupyter-widgets/base",
      "model_module_version": "1.2.0",
      "model_name": "LayoutModel",
      "state": {}
     },
     "20dbd9d1a5fc46d5802d0ffddeab696c": {
      "model_module": "@jupyter-widgets/controls",
      "model_module_version": "1.5.0",
      "model_name": "DescriptionStyleModel",
      "state": {
       "description_width": ""
      }
     },
     "21088a6eb2cc4a1eac1cbfdd0d5fbf2a": {
      "model_module": "@jupyter-widgets/controls",
      "model_module_version": "1.5.0",
      "model_name": "CheckboxModel",
      "state": {
       "description": "cahnrs_envr",
       "disabled": false,
       "layout": "IPY_MODEL_90154ff951c342aeaf267858b1596667",
       "style": "IPY_MODEL_892996559be647c7b54a871f200c8cfe",
       "value": false
      }
     },
     "2137981e2cf8466aad771fee55fedd7e": {
      "model_module": "@jupyter-widgets/base",
      "model_module_version": "1.2.0",
      "model_name": "LayoutModel",
      "state": {}
     },
     "21c3d710535a48b4a9d541586d0638cc": {
      "model_module": "@jupyter-widgets/base",
      "model_module_version": "1.2.0",
      "model_name": "LayoutModel",
      "state": {}
     },
     "21d237064bb54f5290ba932a0f0dc763": {
      "model_module": "@jupyter-widgets/base",
      "model_module_version": "1.2.0",
      "model_name": "LayoutModel",
      "state": {}
     },
     "21f114b05a784ee9979e6f9b7860e4a4": {
      "model_module": "@jupyter-widgets/controls",
      "model_module_version": "1.5.0",
      "model_name": "DescriptionStyleModel",
      "state": {
       "description_width": ""
      }
     },
     "2207a3f86baa476288d0585cccb3090d": {
      "model_module": "@jupyter-widgets/base",
      "model_module_version": "1.2.0",
      "model_name": "LayoutModel",
      "state": {}
     },
     "2220de9399e04614a69744c23d3b6961": {
      "model_module": "@jupyter-widgets/base",
      "model_module_version": "1.2.0",
      "model_name": "LayoutModel",
      "state": {}
     },
     "223bf9bbf21a4e9384138a67c14fdc2a": {
      "model_module": "@jupyter-widgets/controls",
      "model_module_version": "1.5.0",
      "model_name": "CheckboxModel",
      "state": {
       "description": "attendee_fcoc",
       "disabled": false,
       "layout": "IPY_MODEL_85ad4cf99c1848e4abc30d84fa970537",
       "style": "IPY_MODEL_b8b01d176793456aaca7b92713672a30",
       "value": false
      }
     },
     "2253d02cf49b47ef8394cbdd933dcffe": {
      "model_module": "@jupyter-widgets/controls",
      "model_module_version": "1.5.0",
      "model_name": "CheckboxModel",
      "state": {
       "description": "attendee_oos_destination",
       "disabled": false,
       "layout": "IPY_MODEL_24ba0567c5b14d4f91a4b6acd010538c",
       "style": "IPY_MODEL_dae40999d5f648d0a2f31c088bdd0782",
       "value": false
      }
     },
     "227585e3c0574d79a6fef3f25bce3de9": {
      "model_module": "@jupyter-widgets/controls",
      "model_module_version": "1.5.0",
      "model_name": "DescriptionStyleModel",
      "state": {
       "description_width": ""
      }
     },
     "22a22b1077b44eedb623010665524f46": {
      "model_module": "@jupyter-widgets/controls",
      "model_module_version": "1.5.0",
      "model_name": "DescriptionStyleModel",
      "state": {
       "description_width": ""
      }
     },
     "22b320f326954e2790d0e8e898829edf": {
      "model_module": "@jupyter-widgets/base",
      "model_module_version": "1.2.0",
      "model_name": "LayoutModel",
      "state": {}
     },
     "22b5bd1bae7d40aa9b9957065e0da8ae": {
      "model_module": "@jupyter-widgets/base",
      "model_module_version": "1.2.0",
      "model_name": "LayoutModel",
      "state": {}
     },
     "22c6cf566a5f47bd8235ace61d5b64a2": {
      "model_module": "@jupyter-widgets/controls",
      "model_module_version": "1.5.0",
      "model_name": "CheckboxModel",
      "state": {
       "description": "parent2_highest_educ_lvl",
       "disabled": false,
       "layout": "IPY_MODEL_f973f322b6dc45068c0b02c7bcad4c35",
       "style": "IPY_MODEL_2f2f89549b844f66b01723ec5f4d33c6",
       "value": true
      }
     },
     "232881ebd8134760be0f56b0909338ed": {
      "model_module": "@jupyter-widgets/output",
      "model_module_version": "1.0.0",
      "model_name": "OutputModel",
      "state": {
       "layout": "IPY_MODEL_d245f00449bf40e9a34707737a287482",
       "outputs": [
        {
         "data": {
          "image/png": "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\n",
          "text/plain": "<Figure size 432x288 with 1 Axes>"
         },
         "metadata": {
          "needs_background": "light"
         },
         "output_type": "display_data"
        }
       ]
      }
     },
     "23348ce50f234190923e74711d3cee0a": {
      "model_module": "@jupyter-widgets/base",
      "model_module_version": "1.2.0",
      "model_name": "LayoutModel",
      "state": {}
     },
     "235f5207c8b24e08a460236786512636": {
      "model_module": "@jupyter-widgets/base",
      "model_module_version": "1.2.0",
      "model_name": "LayoutModel",
      "state": {}
     },
     "237aa3817cbb4e20be233157f3eebe69": {
      "model_module": "@jupyter-widgets/base",
      "model_module_version": "1.2.0",
      "model_name": "LayoutModel",
      "state": {
       "flex_flow": "row wrap"
      }
     },
     "23b2a8751b0f4530b28610943c76cde0": {
      "model_module": "@jupyter-widgets/controls",
      "model_module_version": "1.5.0",
      "model_name": "DescriptionStyleModel",
      "state": {
       "description_width": ""
      }
     },
     "23c1a2a4e03946528aec19b2e018b475": {
      "model_module": "@jupyter-widgets/controls",
      "model_module_version": "1.5.0",
      "model_name": "DescriptionStyleModel",
      "state": {
       "description_width": ""
      }
     },
     "2434a400eadb4e9f8f525c5cb54042dc": {
      "model_module": "@jupyter-widgets/base",
      "model_module_version": "1.2.0",
      "model_name": "LayoutModel",
      "state": {}
     },
     "2439e92940a04991967279cbec988520": {
      "model_module": "@jupyter-widgets/base",
      "model_module_version": "1.2.0",
      "model_name": "LayoutModel",
      "state": {}
     },
     "24497c9f4a1a46b3a869c40a61d50e36": {
      "model_module": "@jupyter-widgets/base",
      "model_module_version": "1.2.0",
      "model_name": "LayoutModel",
      "state": {}
     },
     "244ac50cbfee4c7d8407308e051186b5": {
      "model_module": "@jupyter-widgets/controls",
      "model_module_version": "1.5.0",
      "model_name": "DescriptionStyleModel",
      "state": {
       "description_width": ""
      }
     },
     "245e633a35a447aba3a570a5fae4067d": {
      "model_module": "@jupyter-widgets/base",
      "model_module_version": "1.2.0",
      "model_name": "LayoutModel",
      "state": {}
     },
     "2493c19d35724dfda70c6c5917c56a76": {
      "model_module": "@jupyter-widgets/controls",
      "model_module_version": "1.5.0",
      "model_name": "VBoxModel",
      "state": {
       "_dom_classes": [
        "widget-interact"
       ],
       "children": [
        "IPY_MODEL_67eb4e0637964a748363a5abd41ce118",
        "IPY_MODEL_5d10178f6e4e4ed595c84fc43aa51718",
        "IPY_MODEL_94266e0431aa4fd9b215c60a63316d51"
       ],
       "layout": "IPY_MODEL_a4cf5a1f4c7d4e48b09cff91e82be11e"
      }
     },
     "24aa6abace30419f930d9e3fffcfb2bc": {
      "model_module": "@jupyter-widgets/controls",
      "model_module_version": "1.5.0",
      "model_name": "CheckboxModel",
      "state": {
       "description": "cas_crim",
       "disabled": false,
       "layout": "IPY_MODEL_c2415514705d47789a1c22e1804c1569",
       "style": "IPY_MODEL_0da9c21c1fec4b929e6db0775e8b00b2",
       "value": false
      }
     },
     "24ba0567c5b14d4f91a4b6acd010538c": {
      "model_module": "@jupyter-widgets/base",
      "model_module_version": "1.2.0",
      "model_name": "LayoutModel",
      "state": {}
     },
     "24cd67d381ce4d90bc8c7102cebb95be": {
      "model_module": "@jupyter-widgets/controls",
      "model_module_version": "1.5.0",
      "model_name": "VBoxModel",
      "state": {
       "_dom_classes": [
        "widget-interact"
       ],
       "children": [
        "IPY_MODEL_69f74edd5136462ba5c5b325b09a2af8",
        "IPY_MODEL_df4b51e64b6e4438bb461dd1fc56706f",
        "IPY_MODEL_1b037542646642b181b1e9dfb9068f31"
       ],
       "layout": "IPY_MODEL_86646fd0d5b344e8b1bb24ad4b3d82bc"
      }
     },
     "24d7db69ab6a4d019a0f6f5da0be1b27": {
      "model_module": "@jupyter-widgets/controls",
      "model_module_version": "1.5.0",
      "model_name": "CheckboxModel",
      "state": {
       "description": "attendee_fced",
       "disabled": false,
       "layout": "IPY_MODEL_d7c78cb5960b4173a8f414428c4d7494",
       "style": "IPY_MODEL_3b5158a72c714c49995e4e1a8728632d",
       "value": false
      }
     },
     "25003aa469334c27b4261cb0d6d6057b": {
      "model_module": "@jupyter-widgets/base",
      "model_module_version": "1.2.0",
      "model_name": "LayoutModel",
      "state": {
       "flex_flow": "row wrap"
      }
     },
     "251491ca7c674418bb5ba0468c03fc0c": {
      "model_module": "@jupyter-widgets/controls",
      "model_module_version": "1.5.0",
      "model_name": "CheckboxModel",
      "state": {
       "description": "father_wsu_flag",
       "disabled": false,
       "layout": "IPY_MODEL_c46e41f8592b45d08d5b4e29ff594718",
       "style": "IPY_MODEL_26951e6210584fbc81dd6fa00f022ec1",
       "value": true
      }
     },
     "2527a302a40644438e0575fd5aca10b2": {
      "model_module": "@jupyter-widgets/base",
      "model_module_version": "1.2.0",
      "model_name": "LayoutModel",
      "state": {}
     },
     "255139c0d9aa469e9d4dd74650fc9aa0": {
      "model_module": "@jupyter-widgets/base",
      "model_module_version": "1.2.0",
      "model_name": "LayoutModel",
      "state": {}
     },
     "256c3885943d439b8efb295194a51a7c": {
      "model_module": "@jupyter-widgets/controls",
      "model_module_version": "1.5.0",
      "model_name": "DescriptionStyleModel",
      "state": {
       "description_width": ""
      }
     },
     "25722cb0e8704713b7dbfd1c85e57fd6": {
      "model_module": "@jupyter-widgets/output",
      "model_module_version": "1.0.0",
      "model_name": "OutputModel",
      "state": {
       "layout": "IPY_MODEL_161bab52d8474a88b056cbb799267f9e",
       "outputs": [
        {
         "name": "stdout",
         "output_type": "stream",
         "text": "  snapshot  strm term_descr15  term_code  acad_year  full_acad_year  aid_year  \\\n0   census  2147    2014 Fall      20143       2015            2015      2015   \n1   census  2147    2014 Fall      20143       2015            2015      2015   \n2   census  2147    2014 Fall      20143       2015            2015      2015   \n3   census  2147    2014 Fall      20143       2015            2015      2015   \n4   census  2147    2014 Fall      20143       2015            2015      2015   \n\n     emplid    wsu_id ferpa  ... fall_term_gpa_ind fall_cum_gpa_ind  \\\n0   9913972   9913972     N  ...                 1                1   \n1  10075164  10075164     N  ...                 1                1   \n2  10101039  10101039     N  ...                 1                1   \n3  10221479  10221479     N  ...                 1                1   \n4  10340516  10340516     N  ...                 1                1   \n\n  spring_term_gpa_ind spring_cum_gpa_ind fall_withdrawn_hours  \\\n0                   0                  0                    0   \n1                   1                  1                    0   \n2                   1                  1                    0   \n3                   1                  1                   -1   \n4                   1                  1                    0   \n\n  spring_withdrawn_hours spring_midterm_gpa_change  unmet_need_disb  \\\n0                      0                  4.000000          12929.0   \n1                      0                 -0.575000          14727.0   \n2                     -1                 -1.580000           -160.0   \n3                      1                 -0.646667          12576.0   \n4                      0                 -0.070000          -8959.0   \n\n  unmet_need_acpt unmet_need_ofr  \n0          9974.5         9974.5  \n1         14727.0        14727.0  \n2          -168.0            0.0  \n3         12576.0        12576.0  \n4         -9091.0            0.0  \n\n[5 rows x 379 columns]\n  snapshot  strm term_descr15  term_code  acad_year  full_acad_year  aid_year  \\\n0   census  2147    2014 Fall      20143       2015            2015      2015   \n1   census  2147    2014 Fall      20143       2015            2015      2015   \n2   census  2147    2014 Fall      20143       2015            2015      2015   \n3   census  2147    2014 Fall      20143       2015            2015      2015   \n4   census  2147    2014 Fall      20143       2015            2015      2015   \n\n     emplid    wsu_id ferpa  ... fall_term_gpa_ind fall_cum_gpa_ind  \\\n0   9913972   9913972     N  ...                 1                1   \n1  10075164  10075164     N  ...                 1                1   \n2  10101039  10101039     N  ...                 1                1   \n3  10221479  10221479     N  ...                 1                1   \n4  10340516  10340516     N  ...                 1                1   \n\n  spring_term_gpa_ind spring_cum_gpa_ind fall_withdrawn_hours  \\\n0                   0                  0                    0   \n1                   1                  1                    0   \n2                   1                  1                    0   \n3                   1                  1                   -1   \n4                   1                  1                    0   \n\n  spring_withdrawn_hours spring_midterm_gpa_change  unmet_need_disb  \\\n0                      0                  4.000000          12929.0   \n1                      0                 -0.575000          14727.0   \n2                     -1                 -1.580000           -160.0   \n3                      1                 -0.646667          12576.0   \n4                      0                 -0.070000          -8959.0   \n\n  unmet_need_acpt unmet_need_ofr  \n0          9974.5         9974.5  \n1         14727.0        14727.0  \n2          -168.0            0.0  \n3         12576.0        12576.0  \n4         -9091.0            0.0  \n\n[5 rows x 379 columns]\n"
        }
       ]
      }
     },
     "2635262cafb740558384fa9bcfb6c054": {
      "model_module": "@jupyter-widgets/base",
      "model_module_version": "1.2.0",
      "model_name": "LayoutModel",
      "state": {}
     },
     "2645f651b3e84f60a71c3ee0d84db5c3": {
      "model_module": "@jupyter-widgets/base",
      "model_module_version": "1.2.0",
      "model_name": "LayoutModel",
      "state": {}
     },
     "2647870b60a04c2da613c10f4367f8e8": {
      "model_module": "@jupyter-widgets/controls",
      "model_module_version": "1.5.0",
      "model_name": "VBoxModel",
      "state": {
       "children": [
        "IPY_MODEL_d07d16486acb4651afa1634c740a38e9",
        "IPY_MODEL_3796f9e752c9434d834a71ece8d20bbf",
        "IPY_MODEL_a5f68b9695e647d48cb575f1517df855",
        "IPY_MODEL_0ab8454136aa489297c6e81d59fef70e",
        "IPY_MODEL_4ddca0f6c0c444b1bb9dae3127ac295a",
        "IPY_MODEL_90660802ea2048c9b6b2de053306c1e3",
        "IPY_MODEL_f62e3f56d4ef433799f39fb5685689ab",
        "IPY_MODEL_f74f90b887124e7088bc66d0a601c797",
        "IPY_MODEL_d92290921aad40788ac8b7f51c35a8b0",
        "IPY_MODEL_f00053a920ec42c1be31267dc9a274e7",
        "IPY_MODEL_568b429f0f234859b934524934d8c2e4",
        "IPY_MODEL_98ff000e64424dbb8e996172b50ed0f9",
        "IPY_MODEL_10c3493db6254ed6a5ed12fd4adf6bf1",
        "IPY_MODEL_caba13c6f070466eb56b5a88c5795d25",
        "IPY_MODEL_ea07474f6de94f6490353a07cc943d79",
        "IPY_MODEL_d3ae7464d12f4d2eb47378d249b203dd",
        "IPY_MODEL_e7019a774b3b4f57bd38badae4073306",
        "IPY_MODEL_b1592ee8cdb7448c874f4414ef69b5a6",
        "IPY_MODEL_426a539b2bc5469e9e251289001e3716",
        "IPY_MODEL_bbc7b504ec594c2bb0fc1039d2478e19",
        "IPY_MODEL_0f5bbb0294dd4390bc2062dd29e08e37",
        "IPY_MODEL_be391a07bdb446d9a8371cb10729feea",
        "IPY_MODEL_02de38121b1b47619c40c35cf3bfa8b1",
        "IPY_MODEL_9460dc693f6543a49b4f8305056a41bc",
        "IPY_MODEL_a61b3f66c93445438c0b61f029ab1b9a",
        "IPY_MODEL_d12de6afaf594dee8a7740deb69eea35"
       ],
       "layout": "IPY_MODEL_66b375af840c4c9d8a95394ab302a495"
      }
     },
     "264f811295154f43958592ce9f44b684": {
      "model_module": "@jupyter-widgets/controls",
      "model_module_version": "1.5.0",
      "model_name": "CheckboxModel",
      "state": {
       "description": "comm",
       "disabled": false,
       "layout": "IPY_MODEL_ee7f21e3aa0a40159455b875e1125d23",
       "style": "IPY_MODEL_a2a860b3b25b4626895b3e5c483f2757",
       "value": false
      }
     },
     "267e3bf2ea984076a840358a20024e6c": {
      "model_module": "@jupyter-widgets/controls",
      "model_module_version": "1.5.0",
      "model_name": "CheckboxModel",
      "state": {
       "description": "resident",
       "disabled": false,
       "layout": "IPY_MODEL_de5ee32404374495adad5b95abdc1aa7",
       "style": "IPY_MODEL_f14b1e23bd804e3b99f1ec57ef216b60",
       "value": false
      }
     },
     "26951e6210584fbc81dd6fa00f022ec1": {
      "model_module": "@jupyter-widgets/controls",
      "model_module_version": "1.5.0",
      "model_name": "DescriptionStyleModel",
      "state": {
       "description_width": ""
      }
     },
     "26d029a705214d0c83204270df4c596e": {
      "model_module": "@jupyter-widgets/base",
      "model_module_version": "1.2.0",
      "model_name": "LayoutModel",
      "state": {
       "flex_flow": "row wrap"
      }
     },
     "26eb97ef28cc441aa8bdb4c48f3e245a": {
      "model_module": "@jupyter-widgets/controls",
      "model_module_version": "1.5.0",
      "model_name": "DropdownModel",
      "state": {
       "_options_labels": [
        "emplid",
        "enrl_ind",
        "acad_year",
        "count_week_from_term_begin_dt",
        "father_wsu_flag",
        "parent1_highest_educ_lvl",
        "parent2_highest_educ_lvl"
       ],
       "description": "x",
       "index": 2,
       "layout": "IPY_MODEL_30223fcf01994341bb49cb558f3b56cb",
       "style": "IPY_MODEL_cf0b7adc7d0742159f213ed6ee0708b3"
      }
     },
     "27295009c6aa4ddd94ed1ac52badc85d": {
      "model_module": "@jupyter-widgets/base",
      "model_module_version": "1.2.0",
      "model_name": "LayoutModel",
      "state": {}
     },
     "272b583f767a461cb2c3f8adcfffe852": {
      "model_module": "@jupyter-widgets/controls",
      "model_module_version": "1.5.0",
      "model_name": "CheckboxModel",
      "state": {
       "description": "attendee_top_scholars",
       "disabled": false,
       "layout": "IPY_MODEL_a8c203817b0f4fbb8a1919ccb248d830",
       "style": "IPY_MODEL_2ef0ae101ff04a9490ca544059154240",
       "value": false
      }
     },
     "279498dda98445129f9456b8753e231d": {
      "model_module": "@jupyter-widgets/controls",
      "model_module_version": "1.5.0",
      "model_name": "CheckboxModel",
      "state": {
       "description": "vcea_desn",
       "disabled": false,
       "layout": "IPY_MODEL_2434a400eadb4e9f8f525c5cb54042dc",
       "style": "IPY_MODEL_f95ed96bb4cc46c5ae84d7c2351b1744",
       "value": false
      }
     },
     "27c20f602c104868b619f26c9c434b27": {
      "model_module": "@jupyter-widgets/controls",
      "model_module_version": "1.5.0",
      "model_name": "AccordionModel",
      "state": {
       "_titles": {
        "0": "Plans",
        "1": "Class",
        "2": "Performance"
       },
       "children": [
        "IPY_MODEL_0570e9c913114984ae5dcb2226f2b7a4",
        "IPY_MODEL_88580cfce0584c6ba8e556f92f3687e1",
        "IPY_MODEL_a9d2ecb663c54862b3bb35c9f5ec49c7"
       ],
       "layout": "IPY_MODEL_3f712c535e834fcaa680366838b36582"
      }
     },
     "27eb8784830d4bcab69c5b19bfde430e": {
      "model_module": "@jupyter-widgets/controls",
      "model_module_version": "1.5.0",
      "model_name": "DescriptionStyleModel",
      "state": {
       "description_width": ""
      }
     },
     "27ecd7cd915f4688abefb2eb4f558b3f": {
      "model_module": "@jupyter-widgets/base",
      "model_module_version": "1.2.0",
      "model_name": "LayoutModel",
      "state": {}
     },
     "2861830c249140b4a96f59f4a3cd150b": {
      "model_module": "@jupyter-widgets/controls",
      "model_module_version": "1.5.0",
      "model_name": "VBoxModel",
      "state": {
       "children": [
        "IPY_MODEL_cddb6c6ed4d145b5a3df0d2a07dad766",
        "IPY_MODEL_e757dc28082c44bc82f31f47c8217a5a"
       ],
       "layout": "IPY_MODEL_f9b431eb20124167a623cacec643538f"
      }
     },
     "287afe0a72054ab9bfeaf8d8ed2fb392": {
      "model_module": "@jupyter-widgets/controls",
      "model_module_version": "1.5.0",
      "model_name": "DescriptionStyleModel",
      "state": {
       "description_width": ""
      }
     },
     "28a60e4f163a4b8fb249392138152b6f": {
      "model_module": "@jupyter-widgets/controls",
      "model_module_version": "1.5.0",
      "model_name": "CheckboxModel",
      "state": {
       "description": "fall_midterm_gpa_avg_ind",
       "disabled": false,
       "layout": "IPY_MODEL_e88c7703dd53439ba6c8725ae98c78c2",
       "style": "IPY_MODEL_a8b9d06df869465f833d11f868e0e8c4",
       "value": false
      }
     },
     "28eb1e7afc864574bd8679c0515214ab": {
      "model_module": "@jupyter-widgets/controls",
      "model_module_version": "1.5.0",
      "model_name": "CheckboxModel",
      "state": {
       "description": "underrep_minority",
       "disabled": false,
       "layout": "IPY_MODEL_11b014ef3fe44698bbf16bb85223ace4",
       "style": "IPY_MODEL_f1265a43972741ca9b0ea658de845828",
       "value": false
      }
     },
     "29249bddfca24a72b5ffeab423fd1f57": {
      "model_module": "@jupyter-widgets/base",
      "model_module_version": "1.2.0",
      "model_name": "LayoutModel",
      "state": {}
     },
     "2946250a75a04e4fb200e9855b529a73": {
      "model_module": "@jupyter-widgets/base",
      "model_module_version": "1.2.0",
      "model_name": "LayoutModel",
      "state": {}
     },
     "294b79564df3437e9e668ed81f3e349d": {
      "model_module": "@jupyter-widgets/controls",
      "model_module_version": "1.5.0",
      "model_name": "DropdownModel",
      "state": {
       "_options_labels": [
        "emplid",
        "enrl_ind",
        "acad_year",
        "count_week_from_term_begin_dt",
        "father_wsu_flag",
        "parent1_highest_educ_lvl",
        "parent2_highest_educ_lvl"
       ],
       "description": "x",
       "index": 0,
       "layout": "IPY_MODEL_f067c6d6a52d4602a60161795d72bbf2",
       "style": "IPY_MODEL_0f79d46a97af4d39bf17ee189dee5079"
      }
     },
     "2951e08fb7f34a65b3a63b7bc667bc89": {
      "model_module": "@jupyter-widgets/base",
      "model_module_version": "1.2.0",
      "model_name": "LayoutModel",
      "state": {}
     },
     "29ae67ebbe994937ae8ada98d4ca8d38": {
      "model_module": "@jupyter-widgets/base",
      "model_module_version": "1.2.0",
      "model_name": "LayoutModel",
      "state": {}
     },
     "29d1a2a816b84d46a4daf6d084a11bd8": {
      "model_module": "@jupyter-widgets/controls",
      "model_module_version": "1.5.0",
      "model_name": "DescriptionStyleModel",
      "state": {
       "description_width": ""
      }
     },
     "29f1efa07f164dccadb7512d391f6bc0": {
      "model_module": "@jupyter-widgets/controls",
      "model_module_version": "1.5.0",
      "model_name": "DescriptionStyleModel",
      "state": {
       "description_width": ""
      }
     },
     "2a048d99fc0b44d89e4400c1e7c6a959": {
      "model_module": "@jupyter-widgets/controls",
      "model_module_version": "1.5.0",
      "model_name": "VBoxModel",
      "state": {
       "_dom_classes": [
        "widget-interact"
       ],
       "children": [
        "IPY_MODEL_cf2653a8a1e046308ed0451dc67922ef",
        "IPY_MODEL_fda0b81941174551876df54becfd2f36",
        "IPY_MODEL_fbc7cf7675d6437a86338416a7b4a3f7"
       ],
       "layout": "IPY_MODEL_22b5bd1bae7d40aa9b9957065e0da8ae"
      }
     },
     "2a3502abde674411bf76db834a7f92ce": {
      "model_module": "@jupyter-widgets/controls",
      "model_module_version": "1.5.0",
      "model_name": "DescriptionStyleModel",
      "state": {
       "description_width": ""
      }
     },
     "2a382b5f920145dd965f50071496eb5e": {
      "model_module": "@jupyter-widgets/controls",
      "model_module_version": "1.5.0",
      "model_name": "ButtonStyleModel",
      "state": {}
     },
     "2a602f45fa794bdeb3bad2cc4f72c018": {
      "model_module": "@jupyter-widgets/base",
      "model_module_version": "1.2.0",
      "model_name": "LayoutModel",
      "state": {}
     },
     "2abfb2fa9a734900aff4982ad18a01f4": {
      "model_module": "@jupyter-widgets/controls",
      "model_module_version": "1.5.0",
      "model_name": "CheckboxModel",
      "state": {
       "description": "ipeds_ethnic_group_descrshort",
       "disabled": false,
       "layout": "IPY_MODEL_e22aca9dab5b4e4bbb4cb286eda3f7e0",
       "style": "IPY_MODEL_d16380eaec184f6d9ad966763acdca67",
       "value": false
      }
     },
     "2af8bcc002d043d89df6daa1a4d6f5fb": {
      "model_module": "@jupyter-widgets/controls",
      "model_module_version": "1.5.0",
      "model_name": "SliderStyleModel",
      "state": {
       "description_width": ""
      }
     },
     "2b2ddfe62263449e8b66614ca9340935": {
      "model_module": "@jupyter-widgets/controls",
      "model_module_version": "1.5.0",
      "model_name": "CheckboxModel",
      "state": {
       "description": "total_spring_contact_hrs",
       "disabled": false,
       "layout": "IPY_MODEL_a77688c51b8f44eda54bd2250b77e98a",
       "style": "IPY_MODEL_fc91959691124810bae42ee199554d3a",
       "value": false
      }
     },
     "2b81b561a0e2498d9527f6a2ad43b6f8": {
      "model_module": "@jupyter-widgets/controls",
      "model_module_version": "1.5.0",
      "model_name": "SliderStyleModel",
      "state": {
       "description_width": ""
      }
     },
     "2b8e82d99b9047cfbde80e11fe6ab38a": {
      "model_module": "@jupyter-widgets/controls",
      "model_module_version": "1.5.0",
      "model_name": "ButtonStyleModel",
      "state": {}
     },
     "2b9da0feaa6840718c59666fa3b31edf": {
      "model_module": "@jupyter-widgets/base",
      "model_module_version": "1.2.0",
      "model_name": "LayoutModel",
      "state": {}
     },
     "2bdf528fb68145a7b39155a5b7ac6b7a": {
      "model_module": "@jupyter-widgets/controls",
      "model_module_version": "1.5.0",
      "model_name": "DescriptionStyleModel",
      "state": {
       "description_width": ""
      }
     },
     "2bebf234037d4d6aa1482b5bb8a28eeb": {
      "model_module": "@jupyter-widgets/controls",
      "model_module_version": "1.5.0",
      "model_name": "VBoxModel",
      "state": {
       "_dom_classes": [
        "widget-interact"
       ],
       "children": [
        "IPY_MODEL_8b0bdf57de47414daf8ec2e927eb26e5",
        "IPY_MODEL_14e1ccf691a645a39d5eb8520c04ba10",
        "IPY_MODEL_4e03911ff75c4f0fb507ca7008edd057"
       ],
       "layout": "IPY_MODEL_64b00b9d67f74bc9a4ba3ecdfeae54cb"
      }
     },
     "2c525aa10951400495d3caf37373425f": {
      "model_module": "@jupyter-widgets/controls",
      "model_module_version": "1.5.0",
      "model_name": "SliderStyleModel",
      "state": {
       "description_width": ""
      }
     },
     "2c7967f7e8634082be1e51dbcbd60368": {
      "model_module": "@jupyter-widgets/controls",
      "model_module_version": "1.5.0",
      "model_name": "DescriptionStyleModel",
      "state": {
       "description_width": ""
      }
     },
     "2c7f9a313e6f4a6a985d7e60abcb14d9": {
      "model_module": "@jupyter-widgets/base",
      "model_module_version": "1.2.0",
      "model_name": "LayoutModel",
      "state": {}
     },
     "2ccbd239ed6f4857a3a3324a0657f972": {
      "model_module": "@jupyter-widgets/base",
      "model_module_version": "1.2.0",
      "model_name": "LayoutModel",
      "state": {}
     },
     "2cf966cbc54743ee9138ac17e28ceb89": {
      "model_module": "@jupyter-widgets/controls",
      "model_module_version": "1.5.0",
      "model_name": "DescriptionStyleModel",
      "state": {
       "description_width": ""
      }
     },
     "2d319c256ebb4fa19bc27fefdb593dd9": {
      "model_module": "@jupyter-widgets/controls",
      "model_module_version": "1.5.0",
      "model_name": "DescriptionStyleModel",
      "state": {
       "description_width": ""
      }
     },
     "2d8350ede8174210831fc6bbed0251ad": {
      "model_module": "@jupyter-widgets/controls",
      "model_module_version": "1.5.0",
      "model_name": "DescriptionStyleModel",
      "state": {
       "description_width": ""
      }
     },
     "2e23a330865e41f38cbd787d9c2a1079": {
      "model_module": "@jupyter-widgets/base",
      "model_module_version": "1.2.0",
      "model_name": "LayoutModel",
      "state": {}
     },
     "2e59ccc0dd244887a93cacae1c0a77da": {
      "model_module": "@jupyter-widgets/controls",
      "model_module_version": "1.5.0",
      "model_name": "ButtonModel",
      "state": {
       "description": "Create Plots",
       "layout": "IPY_MODEL_c776e65a992c416cba62c863ab7e7165",
       "style": "IPY_MODEL_474f34b30b6641d3af5e3c39f81e6e3f"
      }
     },
     "2eb1aa694d1f48608afa5ac00e9dd90d": {
      "model_module": "@jupyter-widgets/controls",
      "model_module_version": "1.5.0",
      "model_name": "CheckboxModel",
      "state": {
       "description": "total_fall_contact_hrs",
       "disabled": false,
       "layout": "IPY_MODEL_c237d80d51704518b9f6937edd5d9992",
       "style": "IPY_MODEL_e1b7f3a985ab4b4aa35428abd4bbb58d",
       "value": false
      }
     },
     "2ed8465c01274ef3a52bfdcc796619a7": {
      "model_module": "@jupyter-widgets/controls",
      "model_module_version": "1.5.0",
      "model_name": "CheckboxModel",
      "state": {
       "description": "spring_avg_pct_withdrawn",
       "disabled": false,
       "layout": "IPY_MODEL_9b3eb624069b4e9a8f5b6f6d218a4ab8",
       "style": "IPY_MODEL_8e9b2440edf14f04bff88ed32e67b8fa",
       "value": false
      }
     },
     "2edcf3e8af0f46d796a8f14cb11b54f0": {
      "model_module": "@jupyter-widgets/base",
      "model_module_version": "1.2.0",
      "model_name": "LayoutModel",
      "state": {}
     },
     "2ef0ae101ff04a9490ca544059154240": {
      "model_module": "@jupyter-widgets/controls",
      "model_module_version": "1.5.0",
      "model_name": "DescriptionStyleModel",
      "state": {
       "description_width": ""
      }
     },
     "2f2f89549b844f66b01723ec5f4d33c6": {
      "model_module": "@jupyter-widgets/controls",
      "model_module_version": "1.5.0",
      "model_name": "DescriptionStyleModel",
      "state": {
       "description_width": ""
      }
     },
     "2f489942d67c4e5485ade492521bce78": {
      "model_module": "@jupyter-widgets/controls",
      "model_module_version": "1.5.0",
      "model_name": "DropdownModel",
      "state": {
       "_options_labels": [
        "emplid",
        "enrl_ind",
        "acad_year",
        "count_week_from_term_begin_dt",
        "father_wsu_flag",
        "parent1_highest_educ_lvl",
        "parent2_highest_educ_lvl"
       ],
       "description": "x",
       "index": 3,
       "layout": "IPY_MODEL_825ba562b54244e0b7e94dc7cf755813",
       "style": "IPY_MODEL_84d00c4755a84e90a7911fa1441851f9"
      }
     },
     "2f796f4f78e14aebae96eac1bf95a6a3": {
      "model_module": "@jupyter-widgets/base",
      "model_module_version": "1.2.0",
      "model_name": "LayoutModel",
      "state": {}
     },
     "2fcf0f612f154da38993d24c8f7ade29": {
      "model_module": "@jupyter-widgets/base",
      "model_module_version": "1.2.0",
      "model_name": "LayoutModel",
      "state": {}
     },
     "30223fcf01994341bb49cb558f3b56cb": {
      "model_module": "@jupyter-widgets/base",
      "model_module_version": "1.2.0",
      "model_name": "LayoutModel",
      "state": {}
     },
     "305d4817ec554dd6a2c5ecc885400091": {
      "model_module": "@jupyter-widgets/base",
      "model_module_version": "1.2.0",
      "model_name": "LayoutModel",
      "state": {}
     },
     "3062e3bb455541beb6a8666d64b2ea37": {
      "model_module": "@jupyter-widgets/controls",
      "model_module_version": "1.5.0",
      "model_name": "DescriptionStyleModel",
      "state": {
       "description_width": ""
      }
     },
     "3074648f0ade452782c990bda174d360": {
      "model_module": "@jupyter-widgets/base",
      "model_module_version": "1.2.0",
      "model_name": "LayoutModel",
      "state": {}
     },
     "30e7796e398b4e83bdebdc4da42e3800": {
      "model_module": "@jupyter-widgets/controls",
      "model_module_version": "1.5.0",
      "model_name": "DescriptionStyleModel",
      "state": {
       "description_width": ""
      }
     },
     "30fe06250c5a4a43af4a26d6acae58eb": {
      "model_module": "@jupyter-widgets/controls",
      "model_module_version": "1.5.0",
      "model_name": "DescriptionStyleModel",
      "state": {
       "description_width": ""
      }
     },
     "315328eb69bf4f5c844810bfb62fe826": {
      "model_module": "@jupyter-widgets/base",
      "model_module_version": "1.2.0",
      "model_name": "LayoutModel",
      "state": {}
     },
     "316fee6f8e4c40639ee6edb34143c7b2": {
      "model_module": "@jupyter-widgets/base",
      "model_module_version": "1.2.0",
      "model_name": "LayoutModel",
      "state": {}
     },
     "3195e3417c6c43f29dea5ddf819a0c81": {
      "model_module": "@jupyter-widgets/controls",
      "model_module_version": "1.5.0",
      "model_name": "DescriptionStyleModel",
      "state": {
       "description_width": ""
      }
     },
     "31bf59ffc6da439598f91909551bc155": {
      "model_module": "@jupyter-widgets/controls",
      "model_module_version": "1.5.0",
      "model_name": "CheckboxModel",
      "state": {
       "description": "fall_avg_pct_withdrawn",
       "disabled": false,
       "layout": "IPY_MODEL_7000f7d72a4d4d1092f9d960d75ce51e",
       "style": "IPY_MODEL_27eb8784830d4bcab69c5b19bfde430e",
       "value": false
      }
     },
     "326e2329a05c4264b4a7dbbdc62433b2": {
      "model_module": "@jupyter-widgets/controls",
      "model_module_version": "1.5.0",
      "model_name": "DescriptionStyleModel",
      "state": {
       "description_width": ""
      }
     },
     "32712d211f8143339d11f06f7c214f3d": {
      "model_module": "@jupyter-widgets/controls",
      "model_module_version": "1.5.0",
      "model_name": "SliderStyleModel",
      "state": {
       "description_width": ""
      }
     },
     "328266fbab9b44669055b183e9eaa933": {
      "model_module": "@jupyter-widgets/controls",
      "model_module_version": "1.5.0",
      "model_name": "CheckboxModel",
      "state": {
       "description": "fall_midterm_gpa_avg",
       "disabled": false,
       "layout": "IPY_MODEL_12d3d27c251d4f7eadb6315b1a8277a1",
       "style": "IPY_MODEL_37f42a6da24e4c19b1a725ccdc38061b",
       "value": false
      }
     },
     "328729cd4e474180a38227645587138e": {
      "model_module": "@jupyter-widgets/base",
      "model_module_version": "1.2.0",
      "model_name": "LayoutModel",
      "state": {}
     },
     "32aae2da74144f878a2589fa309988a8": {
      "model_module": "@jupyter-widgets/controls",
      "model_module_version": "1.5.0",
      "model_name": "DescriptionStyleModel",
      "state": {
       "description_width": ""
      }
     },
     "32dd5bba901841cca364ce0da394c8d8": {
      "model_module": "@jupyter-widgets/controls",
      "model_module_version": "1.5.0",
      "model_name": "DescriptionStyleModel",
      "state": {
       "description_width": ""
      }
     },
     "32ea6664c6ed49c2903a2576fde71cad": {
      "model_module": "@jupyter-widgets/base",
      "model_module_version": "1.2.0",
      "model_name": "LayoutModel",
      "state": {}
     },
     "334b80a302584e5e8021998be7d11c3a": {
      "model_module": "@jupyter-widgets/controls",
      "model_module_version": "1.5.0",
      "model_name": "DescriptionStyleModel",
      "state": {
       "description_width": ""
      }
     },
     "3361c28d214043daa03c3e289be16316": {
      "model_module": "@jupyter-widgets/controls",
      "model_module_version": "1.5.0",
      "model_name": "DescriptionStyleModel",
      "state": {
       "description_width": ""
      }
     },
     "339e7ef9bb3d47a7b53cc790905b10df": {
      "model_module": "@jupyter-widgets/base",
      "model_module_version": "1.2.0",
      "model_name": "LayoutModel",
      "state": {}
     },
     "33a80eaec3d8447e95aa7a39dfb7421a": {
      "model_module": "@jupyter-widgets/base",
      "model_module_version": "1.2.0",
      "model_name": "LayoutModel",
      "state": {}
     },
     "343d1751c81545f5b18c4f4ff4aa0339": {
      "model_module": "@jupyter-widgets/controls",
      "model_module_version": "1.5.0",
      "model_name": "CheckboxModel",
      "state": {
       "description": "cas",
       "disabled": false,
       "layout": "IPY_MODEL_7b8fdb5f8f234df68431c47db2aa7635",
       "style": "IPY_MODEL_70238a636aba4175a3de2224e99e0e1a",
       "value": false
      }
     },
     "3454b8e9d3c7445182d0acbbe06c2e2b": {
      "model_module": "@jupyter-widgets/controls",
      "model_module_version": "1.5.0",
      "model_name": "CheckboxModel",
      "state": {
       "description": "pharmacy",
       "disabled": false,
       "layout": "IPY_MODEL_4d4249cad86d4110866fa0d94d9a0bbc",
       "style": "IPY_MODEL_b19b9582df0d4422b2a89e2babc97fc9",
       "value": false
      }
     },
     "3514c4855d1149188db03bee8d77b483": {
      "model_module": "@jupyter-widgets/controls",
      "model_module_version": "1.5.0",
      "model_name": "ButtonModel",
      "state": {
       "description": "Build Models",
       "layout": "IPY_MODEL_c948267ffcbe47deb81c03260a0b2488",
       "style": "IPY_MODEL_2b8e82d99b9047cfbde80e11fe6ab38a"
      }
     },
     "3533e1a27dd34219931ca3a82dab9e76": {
      "model_module": "@jupyter-widgets/base",
      "model_module_version": "1.2.0",
      "model_name": "LayoutModel",
      "state": {}
     },
     "357af2d3938d493e83c659618d81cd05": {
      "model_module": "@jupyter-widgets/controls",
      "model_module_version": "1.5.0",
      "model_name": "CheckboxModel",
      "state": {
       "description": "IB",
       "disabled": false,
       "layout": "IPY_MODEL_702ab377189a420a9bb5665f4011413d",
       "style": "IPY_MODEL_7e12b2d1c86c4d22bab181e08174eb8f",
       "value": false
      }
     },
     "35a8041925314e50926e984ef936e4a0": {
      "model_module": "@jupyter-widgets/base",
      "model_module_version": "1.2.0",
      "model_name": "LayoutModel",
      "state": {}
     },
     "3613902086b84fe196478d8e5b977c78": {
      "model_module": "@jupyter-widgets/controls",
      "model_module_version": "1.5.0",
      "model_name": "SliderStyleModel",
      "state": {
       "description_width": ""
      }
     },
     "362914f9e1d8449d83eb62317a048747": {
      "model_module": "@jupyter-widgets/controls",
      "model_module_version": "1.5.0",
      "model_name": "CheckboxModel",
      "state": {
       "description": "attendee_oos_experience",
       "disabled": false,
       "layout": "IPY_MODEL_36e39c2a6a2a4d1190cacdf2cbdf72e2",
       "style": "IPY_MODEL_50a99ff618ce4240a48d232701c2eccc",
       "value": false
      }
     },
     "364546a2d4174419a756078820ed266e": {
      "model_module": "@jupyter-widgets/controls",
      "model_module_version": "1.5.0",
      "model_name": "DescriptionStyleModel",
      "state": {
       "description_width": ""
      }
     },
     "3647218429004bbb97421fb3851489f7": {
      "model_module": "@jupyter-widgets/controls",
      "model_module_version": "1.5.0",
      "model_name": "CheckboxModel",
      "state": {
       "description": "citizenship_country",
       "disabled": false,
       "layout": "IPY_MODEL_8aa242cea9fe400783e76c7817ca6c1e",
       "style": "IPY_MODEL_0495af7938ab414f986291ba2f041447",
       "value": false
      }
     },
     "365d959540ec41418154eeeb66f8022e": {
      "model_module": "@jupyter-widgets/controls",
      "model_module_version": "1.5.0",
      "model_name": "CheckboxModel",
      "state": {
       "description": "spring_avg_pct_DFW",
       "disabled": false,
       "layout": "IPY_MODEL_51c153fab3124d00a886a346b3d027ab",
       "style": "IPY_MODEL_476453a87a644edea0fc807f016b4668",
       "value": false
      }
     },
     "36832c85bc5c4ad2b55fe6d2a774f6a4": {
      "model_module": "@jupyter-widgets/controls",
      "model_module_version": "1.5.0",
      "model_name": "DescriptionStyleModel",
      "state": {
       "description_width": ""
      }
     },
     "36a14407e9d3496e92e9755a18ecab34": {
      "model_module": "@jupyter-widgets/base",
      "model_module_version": "1.2.0",
      "model_name": "LayoutModel",
      "state": {}
     },
     "36c39f17872144ca95e396bb20a5cd82": {
      "model_module": "@jupyter-widgets/controls",
      "model_module_version": "1.5.0",
      "model_name": "DescriptionStyleModel",
      "state": {
       "description_width": ""
      }
     },
     "36cac776a52d40bdbd08bfcb621d5c1b": {
      "model_module": "@jupyter-widgets/base",
      "model_module_version": "1.2.0",
      "model_name": "LayoutModel",
      "state": {}
     },
     "36e39c2a6a2a4d1190cacdf2cbdf72e2": {
      "model_module": "@jupyter-widgets/base",
      "model_module_version": "1.2.0",
      "model_name": "LayoutModel",
      "state": {}
     },
     "370169d849134224a4915165fbd4d480": {
      "model_module": "@jupyter-widgets/base",
      "model_module_version": "1.2.0",
      "model_name": "LayoutModel",
      "state": {}
     },
     "3796f9e752c9434d834a71ece8d20bbf": {
      "model_module": "@jupyter-widgets/controls",
      "model_module_version": "1.5.0",
      "model_name": "CheckboxModel",
      "state": {
       "description": "attendee_campus_visit",
       "disabled": false,
       "layout": "IPY_MODEL_07a587d385d741f1bc012894abcc4944",
       "style": "IPY_MODEL_7e730065a2f7489f84ddd34b67a9b18d",
       "value": false
      }
     },
     "37d2be5e51024bec9cab28a54213a820": {
      "model_module": "@jupyter-widgets/base",
      "model_module_version": "1.2.0",
      "model_name": "LayoutModel",
      "state": {}
     },
     "37e02df04d6443e6aac8e252ec0334d6": {
      "model_module": "@jupyter-widgets/base",
      "model_module_version": "1.2.0",
      "model_name": "LayoutModel",
      "state": {}
     },
     "37f42153c08245cd90e9174d6f59cbb7": {
      "model_module": "@jupyter-widgets/controls",
      "model_module_version": "1.5.0",
      "model_name": "CheckboxModel",
      "state": {
       "description": "pct_asn",
       "disabled": false,
       "layout": "IPY_MODEL_cf89796bd41748029c10bce39e8e95b6",
       "style": "IPY_MODEL_b56f3884c4224c2fb0b8b0cb9185c0cf",
       "value": false
      }
     },
     "37f42a6da24e4c19b1a725ccdc38061b": {
      "model_module": "@jupyter-widgets/controls",
      "model_module_version": "1.5.0",
      "model_name": "DescriptionStyleModel",
      "state": {
       "description_width": ""
      }
     },
     "38552d84c2ca4548bae29da886dfb7d8": {
      "model_module": "@jupyter-widgets/controls",
      "model_module_version": "1.5.0",
      "model_name": "DescriptionStyleModel",
      "state": {
       "description_width": ""
      }
     },
     "3874c2acbe3d4333b7c91bf7e5c6e6ee": {
      "model_module": "@jupyter-widgets/controls",
      "model_module_version": "1.5.0",
      "model_name": "CheckboxModel",
      "state": {
       "description": "fall_avg_pct_DF",
       "disabled": false,
       "layout": "IPY_MODEL_6480aabc05404749b6840f95fa050a06",
       "style": "IPY_MODEL_4348779a00014210a4b87e729939d1a0",
       "value": false
      }
     },
     "38b3449cb3d748cda6f00d0e5a6b8d51": {
      "model_module": "@jupyter-widgets/controls",
      "model_module_version": "1.5.0",
      "model_name": "DescriptionStyleModel",
      "state": {
       "description_width": ""
      }
     },
     "38e70396a1c049c58315a44a038827ec": {
      "model_module": "@jupyter-widgets/controls",
      "model_module_version": "1.5.0",
      "model_name": "DescriptionStyleModel",
      "state": {
       "description_width": ""
      }
     },
     "39481b142423404c8e66e5055c938c41": {
      "model_module": "@jupyter-widgets/base",
      "model_module_version": "1.2.0",
      "model_name": "LayoutModel",
      "state": {}
     },
     "39758f25f80e4e9d9ffa4d893b8ce67c": {
      "model_module": "@jupyter-widgets/base",
      "model_module_version": "1.2.0",
      "model_name": "LayoutModel",
      "state": {}
     },
     "39759d43e9db49ad8a60df8a615e6cc5": {
      "model_module": "@jupyter-widgets/base",
      "model_module_version": "1.2.0",
      "model_name": "LayoutModel",
      "state": {}
     },
     "39873e5acff54eac9a863b2d4231a79f": {
      "model_module": "@jupyter-widgets/controls",
      "model_module_version": "1.5.0",
      "model_name": "DescriptionStyleModel",
      "state": {
       "description_width": ""
      }
     },
     "3998ae32d5e24fa28dff464f029af439": {
      "model_module": "@jupyter-widgets/controls",
      "model_module_version": "1.5.0",
      "model_name": "CheckboxModel",
      "state": {
       "description": "IB",
       "disabled": false,
       "layout": "IPY_MODEL_5ce031a5b9684fbfbf706a0512dad674",
       "style": "IPY_MODEL_bcffc9cf2d674379a63f759e6bfd6549",
       "value": false
      }
     },
     "39be3f16ae3549318c058a2ae6ebd219": {
      "model_module": "@jupyter-widgets/output",
      "model_module_version": "1.0.0",
      "model_name": "OutputModel",
      "state": {
       "layout": "IPY_MODEL_ebe4bafa582d41b6bfb3c0ef63c80215",
       "outputs": [
        {
         "name": "stdout",
         "output_type": "stream",
         "text": "\nStart SAS session...\nUsing SAS Config named: autogen_winlocal\nSAS Connection established. Subprocess id is 7768\n\nSet macro variables...\nDone\n\nSet libname statements...\nDone\n\nImport supplemental files...\nDone in 0.7 seconds\n\nCreate SAS macro...\nDone\n\nRun SAS macro program...\n"
        },
        {
         "data": {
          "application/vnd.jupyter.widget-view+json": {
           "model_id": "08095f76be48457d8525a87a2a6a979d",
           "version_major": 2,
           "version_minor": 0
          },
          "text/plain": "Output()"
         },
         "metadata": {},
         "output_type": "display_data"
        },
        {
         "name": "stdout",
         "output_type": "stream",
         "text": "Done in 9.3 minutes\n\nPrepare data...\nDone\n\nExport data from SAS...\nDone\n\nSAS Connection terminated. Subprocess id was 7768\n"
        }
       ]
      }
     },
     "3a4304a36d86461191a749157a6e9ac9": {
      "model_module": "@jupyter-widgets/controls",
      "model_module_version": "1.5.0",
      "model_name": "CheckboxModel",
      "state": {
       "description": "total_fall_units",
       "disabled": false,
       "layout": "IPY_MODEL_29249bddfca24a72b5ffeab423fd1f57",
       "style": "IPY_MODEL_4829065d373f4e64b05aa4df7632ada9",
       "value": false
      }
     },
     "3a67f2a141b046a5803a9c6970985dc6": {
      "model_module": "@jupyter-widgets/controls",
      "model_module_version": "1.5.0",
      "model_name": "DescriptionStyleModel",
      "state": {
       "description_width": ""
      }
     },
     "3a9e9be3ae944705a0911660bd17cba9": {
      "model_module": "@jupyter-widgets/base",
      "model_module_version": "1.2.0",
      "model_name": "LayoutModel",
      "state": {}
     },
     "3aa40adad2a3487f91f622ee8ed87bd6": {
      "model_module": "@jupyter-widgets/controls",
      "model_module_version": "1.5.0",
      "model_name": "DescriptionStyleModel",
      "state": {
       "description_width": ""
      }
     },
     "3aa72669d0bb4b988aa1e8b1e2d66601": {
      "model_module": "@jupyter-widgets/base",
      "model_module_version": "1.2.0",
      "model_name": "LayoutModel",
      "state": {}
     },
     "3b27a9f45acd4899a2b940c6bf8e5227": {
      "model_module": "@jupyter-widgets/base",
      "model_module_version": "1.2.0",
      "model_name": "LayoutModel",
      "state": {}
     },
     "3b4dfed6b4d54c9ba61f783751090aba": {
      "model_module": "@jupyter-widgets/base",
      "model_module_version": "1.2.0",
      "model_name": "LayoutModel",
      "state": {}
     },
     "3b5158a72c714c49995e4e1a8728632d": {
      "model_module": "@jupyter-widgets/controls",
      "model_module_version": "1.5.0",
      "model_name": "DescriptionStyleModel",
      "state": {
       "description_width": ""
      }
     },
     "3b74cb6bd7ae46c693e89b2476c3b3ba": {
      "model_module": "@jupyter-widgets/base",
      "model_module_version": "1.2.0",
      "model_name": "LayoutModel",
      "state": {}
     },
     "3b84e9ae0fcb4a3899a8f99433f2bb29": {
      "model_module": "@jupyter-widgets/controls",
      "model_module_version": "1.5.0",
      "model_name": "CheckboxModel",
      "state": {
       "description": "race_black",
       "disabled": false,
       "layout": "IPY_MODEL_d55f3c5e345d4610bc261c250a865e97",
       "style": "IPY_MODEL_30e7796e398b4e83bdebdc4da42e3800",
       "value": false
      }
     },
     "3bafb490607f4624b4094dd96084f209": {
      "model_module": "@jupyter-widgets/base",
      "model_module_version": "1.2.0",
      "model_name": "LayoutModel",
      "state": {}
     },
     "3bafc0dcb88740fe805f52b1274230cf": {
      "model_module": "@jupyter-widgets/base",
      "model_module_version": "1.2.0",
      "model_name": "LayoutModel",
      "state": {}
     },
     "3bc489dd80d4489b9dbd82128a662f86": {
      "model_module": "@jupyter-widgets/controls",
      "model_module_version": "1.5.0",
      "model_name": "DescriptionStyleModel",
      "state": {
       "description_width": ""
      }
     },
     "3bd3c71fcdfb4bf8ba86356488f7f432": {
      "model_module": "@jupyter-widgets/controls",
      "model_module_version": "1.5.0",
      "model_name": "CheckboxModel",
      "state": {
       "description": "spring_midterm_gpa_avg",
       "disabled": false,
       "layout": "IPY_MODEL_4f26a7ec117c437d8791e61c6e59e435",
       "style": "IPY_MODEL_82d309d7c86a419ead0e526e48843b99",
       "value": false
      }
     },
     "3c2bcfbb5ae149f38b1193bb58daab20": {
      "model_module": "@jupyter-widgets/controls",
      "model_module_version": "1.5.0",
      "model_name": "CheckboxModel",
      "state": {
       "description": "remedial",
       "disabled": false,
       "layout": "IPY_MODEL_3074648f0ade452782c990bda174d360",
       "style": "IPY_MODEL_f4617d104a904a80bcd808485a06f645",
       "value": false
      }
     },
     "3c2eda0ed07246afa393c568a0cb1d42": {
      "model_module": "@jupyter-widgets/base",
      "model_module_version": "1.2.0",
      "model_name": "LayoutModel",
      "state": {}
     },
     "3c3428aeaa8b416e8b89c2d8919a2560": {
      "model_module": "@jupyter-widgets/controls",
      "model_module_version": "1.5.0",
      "model_name": "CheckboxModel",
      "state": {
       "description": "mother_wsu_flag",
       "disabled": false,
       "layout": "IPY_MODEL_bc23055f7c3443fc84634028baa51145",
       "style": "IPY_MODEL_90e3c1021790472386a8099a79c277e2",
       "value": false
      }
     },
     "3c5b117342b34d32bf7d105307734aca": {
      "model_module": "@jupyter-widgets/controls",
      "model_module_version": "1.5.0",
      "model_name": "DescriptionStyleModel",
      "state": {
       "description_width": ""
      }
     },
     "3cc4b0493d7343b096817bd1bcb95671": {
      "model_module": "@jupyter-widgets/controls",
      "model_module_version": "1.5.0",
      "model_name": "CheckboxModel",
      "state": {
       "description": "AD_DTA",
       "disabled": false,
       "layout": "IPY_MODEL_315328eb69bf4f5c844810bfb62fe826",
       "style": "IPY_MODEL_925a5c3ae50e4aee90eae279c2e96e3c",
       "value": false
      }
     },
     "3d684b0b8eed4693a4cbeb55726b8596": {
      "model_module": "@jupyter-widgets/controls",
      "model_module_version": "1.5.0",
      "model_name": "CheckboxModel",
      "state": {
       "description": "last_sch_proprietorship",
       "disabled": false,
       "layout": "IPY_MODEL_5b9afac1fb3d4938a4baa3a98252830d",
       "style": "IPY_MODEL_b4332b13c52b48dfba52a872c1baf20d",
       "value": false
      }
     },
     "3d920707d772402099e17f9548ec2a11": {
      "model_module": "@jupyter-widgets/controls",
      "model_module_version": "1.5.0",
      "model_name": "DescriptionStyleModel",
      "state": {
       "description_width": ""
      }
     },
     "3dec7b730af04033b6f58eeaf8367916": {
      "model_module": "@jupyter-widgets/base",
      "model_module_version": "1.2.0",
      "model_name": "LayoutModel",
      "state": {}
     },
     "3e5087b5bf6e439a83c33eff8e6b91c9": {
      "model_module": "@jupyter-widgets/controls",
      "model_module_version": "1.5.0",
      "model_name": "DescriptionStyleModel",
      "state": {
       "description_width": ""
      }
     },
     "3e9c7088bd2a4e7cb96b0ec5750c012a": {
      "model_module": "@jupyter-widgets/base",
      "model_module_version": "1.2.0",
      "model_name": "LayoutModel",
      "state": {}
     },
     "3eda8537a2ae448abb5e2de3c8f25dfb": {
      "model_module": "@jupyter-widgets/controls",
      "model_module_version": "1.5.0",
      "model_name": "VBoxModel",
      "state": {
       "children": [
        "IPY_MODEL_eb748c5a59b74d938cc514784aaf3936",
        "IPY_MODEL_8efe13775797450ca3c5ec534911e4f5",
        "IPY_MODEL_21088a6eb2cc4a1eac1cbfdd0d5fbf2a",
        "IPY_MODEL_48cd739bfb694eeaad50a056d57a9d63",
        "IPY_MODEL_449623eb2fdc4baea828b67dfcf81f3a",
        "IPY_MODEL_17971f1ae241479d8a5b73437de0e713",
        "IPY_MODEL_bb84239748364a43be931a2e4228e656",
        "IPY_MODEL_b489e8391b9c4daa9a66481aff5889f1",
        "IPY_MODEL_1c4557cfa17b4c54b719e4ad2709d955",
        "IPY_MODEL_1e8a3d844c8b41e19e6513e294c1b9b4",
        "IPY_MODEL_46b1f8f79bbf44828e237faa7f0e1cba",
        "IPY_MODEL_df24a3afc82245c39fc3ff04d56d654d",
        "IPY_MODEL_343d1751c81545f5b18c4f4ff4aa0339",
        "IPY_MODEL_264f811295154f43958592ce9f44b684",
        "IPY_MODEL_bf0bdfab78cd4b27a9f12011b8ca82ac",
        "IPY_MODEL_bd6d76ed00de4c07aec534a7cb16de01",
        "IPY_MODEL_b20f75a19b9543e7a704c62e8060856c",
        "IPY_MODEL_fa5f5b04f0d44c6a84c92f0261853269",
        "IPY_MODEL_647250d3abc440118716a1b95b891590",
        "IPY_MODEL_7df3884df5194b65a42dacde1e5a7a41",
        "IPY_MODEL_62e54107ebb641f48d0e3fe24b390a47",
        "IPY_MODEL_279498dda98445129f9456b8753e231d",
        "IPY_MODEL_a98a558a9baa4d9db28555d5a4180e95",
        "IPY_MODEL_1757bae9a67142728372f3fb027a0c7c",
        "IPY_MODEL_8431972813184c7083f605923388b062",
        "IPY_MODEL_0af3e04e4d004820a4a3a347f13ffcb6"
       ],
       "layout": "IPY_MODEL_ac2b16d985214aa7ad87a3d279855e57"
      }
     },
     "3f07aacd3a0e4bada89dca4afa0017af": {
      "model_module": "@jupyter-widgets/controls",
      "model_module_version": "1.5.0",
      "model_name": "IntSliderModel",
      "state": {
       "description": "y",
       "layout": "IPY_MODEL_46ba613b31534a4fa7b72aefe55aa770",
       "min": 1,
       "style": "IPY_MODEL_97fd0fe40b2646b1a9e9dbd424838940",
       "value": 50
      }
     },
     "3f5856d09cb142459330d2eefa58baed": {
      "model_module": "@jupyter-widgets/base",
      "model_module_version": "1.2.0",
      "model_name": "LayoutModel",
      "state": {}
     },
     "3f5ed89f65ae4309bc35a971f070cbc0": {
      "model_module": "@jupyter-widgets/base",
      "model_module_version": "1.2.0",
      "model_name": "LayoutModel",
      "state": {}
     },
     "3f712c535e834fcaa680366838b36582": {
      "model_module": "@jupyter-widgets/base",
      "model_module_version": "1.2.0",
      "model_name": "LayoutModel",
      "state": {}
     },
     "40173deac7594cc7b420529acd4f3145": {
      "model_module": "@jupyter-widgets/base",
      "model_module_version": "1.2.0",
      "model_name": "LayoutModel",
      "state": {}
     },
     "405d03e90dd842e5ac04172e11cde841": {
      "model_module": "@jupyter-widgets/base",
      "model_module_version": "1.2.0",
      "model_name": "LayoutModel",
      "state": {}
     },
     "4099663902924987b4b0eafe95ce842a": {
      "model_module": "@jupyter-widgets/base",
      "model_module_version": "1.2.0",
      "model_name": "LayoutModel",
      "state": {}
     },
     "40ada48df20f459eabc495a3b3ddf4c7": {
      "model_module": "@jupyter-widgets/controls",
      "model_module_version": "1.5.0",
      "model_name": "CheckboxModel",
      "state": {
       "description": "pell_eligibility_ind",
       "disabled": false,
       "layout": "IPY_MODEL_ce40be801b1d48c2b57dc28359da70c1",
       "style": "IPY_MODEL_4d337bc87ab142a48d542e777041112e",
       "value": false
      }
     },
     "4106915930f94e50a5d568a73f7a368d": {
      "model_module": "@jupyter-widgets/base",
      "model_module_version": "1.2.0",
      "model_name": "LayoutModel",
      "state": {}
     },
     "41452d733e5343ffba2e2d65edcd547c": {
      "model_module": "@jupyter-widgets/controls",
      "model_module_version": "1.5.0",
      "model_name": "CheckboxModel",
      "state": {
       "description": "pell_recipient_ind",
       "disabled": false,
       "layout": "IPY_MODEL_d8499efcc0c44a3fa8f45175081cbaeb",
       "style": "IPY_MODEL_655723cfef7d434196811a3660997e0f",
       "value": false
      }
     },
     "416f4ca6ea834065bc5c8d1cb2546ab3": {
      "model_module": "@jupyter-widgets/output",
      "model_module_version": "1.0.0",
      "model_name": "OutputModel",
      "state": {
       "layout": "IPY_MODEL_2b9da0feaa6840718c59666fa3b31edf",
       "outputs": [
        {
         "data": {
          "image/png": "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\n",
          "text/plain": "<Figure size 432x288 with 1 Axes>"
         },
         "metadata": {
          "needs_background": "light"
         },
         "output_type": "display_data"
        }
       ]
      }
     },
     "4173973fbdfd42ce88a51713e9f60033": {
      "model_module": "@jupyter-widgets/controls",
      "model_module_version": "1.5.0",
      "model_name": "DescriptionStyleModel",
      "state": {
       "description_width": ""
      }
     },
     "4176dcfb4bbe427caf8efb2fba7f91a8": {
      "model_module": "@jupyter-widgets/base",
      "model_module_version": "1.2.0",
      "model_name": "LayoutModel",
      "state": {}
     },
     "41bc691b2fbb4ab2b57d0e446777f0b1": {
      "model_module": "@jupyter-widgets/base",
      "model_module_version": "1.2.0",
      "model_name": "LayoutModel",
      "state": {}
     },
     "41d2946404f842d6b411c049f41766ea": {
      "model_module": "@jupyter-widgets/controls",
      "model_module_version": "1.5.0",
      "model_name": "DescriptionStyleModel",
      "state": {
       "description_width": ""
      }
     },
     "41e90488662f41258229ccde790185b2": {
      "model_module": "@jupyter-widgets/controls",
      "model_module_version": "1.5.0",
      "model_name": "DescriptionStyleModel",
      "state": {
       "description_width": ""
      }
     },
     "42332eae97c14729b38fd9afdd2c34ad": {
      "model_module": "@jupyter-widgets/controls",
      "model_module_version": "1.5.0",
      "model_name": "CheckboxModel",
      "state": {
       "description": "pct_asn",
       "disabled": false,
       "layout": "IPY_MODEL_1bc8ce52a1c14c418a5f0b391c565bb9",
       "style": "IPY_MODEL_e6f431438acf41fa9711cc66cc569972",
       "value": false
      }
     },
     "42346a5dddb64d7c87e4392f2019d5db": {
      "model_module": "@jupyter-widgets/controls",
      "model_module_version": "1.5.0",
      "model_name": "CheckboxModel",
      "state": {
       "description": "race_asian",
       "disabled": false,
       "layout": "IPY_MODEL_7e6536efe8554dcb8cb5660c00757c71",
       "style": "IPY_MODEL_ede9d963dc544140b6d913069d4d557e",
       "value": false
      }
     },
     "426a539b2bc5469e9e251289001e3716": {
      "model_module": "@jupyter-widgets/controls",
      "model_module_version": "1.5.0",
      "model_name": "CheckboxModel",
      "state": {
       "description": "attendee_preview_jrs",
       "disabled": false,
       "layout": "IPY_MODEL_1731b9116c8840d68224c9eab8c0ece6",
       "style": "IPY_MODEL_04142eea53fa4548919eb791b409abc8",
       "value": false
      }
     },
     "42aaae503d884deda38bfe973503e1b5": {
      "model_module": "@jupyter-widgets/base",
      "model_module_version": "1.2.0",
      "model_name": "LayoutModel",
      "state": {}
     },
     "4314eab4580a44848cce5fa6eb3109c8": {
      "model_module": "@jupyter-widgets/base",
      "model_module_version": "1.2.0",
      "model_name": "LayoutModel",
      "state": {}
     },
     "433614104d7043158819e23b70e1011f": {
      "model_module": "@jupyter-widgets/base",
      "model_module_version": "1.2.0",
      "model_name": "LayoutModel",
      "state": {}
     },
     "433bdeef76c7442e98647cbc3c3e6b92": {
      "model_module": "@jupyter-widgets/controls",
      "model_module_version": "1.5.0",
      "model_name": "CheckboxModel",
      "state": {
       "description": "anywhere_STEM_Flag",
       "disabled": false,
       "layout": "IPY_MODEL_c7c1b3c439f84ab0b5a072f2bbc8d902",
       "style": "IPY_MODEL_c07eb751406d435781e61e2343cf97a8",
       "value": false
      }
     },
     "4348779a00014210a4b87e729939d1a0": {
      "model_module": "@jupyter-widgets/controls",
      "model_module_version": "1.5.0",
      "model_name": "DescriptionStyleModel",
      "state": {
       "description_width": ""
      }
     },
     "4361ec1b07874dde981c4e07232a99c7": {
      "model_module": "@jupyter-widgets/controls",
      "model_module_version": "1.5.0",
      "model_name": "SliderStyleModel",
      "state": {
       "description_width": ""
      }
     },
     "4402179672464d5bb6f246608adc67b2": {
      "model_module": "@jupyter-widgets/base",
      "model_module_version": "1.2.0",
      "model_name": "LayoutModel",
      "state": {}
     },
     "4421e2672b0e494b9ad829a46ea0662a": {
      "model_module": "@jupyter-widgets/controls",
      "model_module_version": "1.5.0",
      "model_name": "CheckboxModel",
      "state": {
       "description": "high_school_gpa",
       "disabled": false,
       "layout": "IPY_MODEL_27295009c6aa4ddd94ed1ac52badc85d",
       "style": "IPY_MODEL_e602b9b86ede447481e02d6fcb146632",
       "value": false
      }
     },
     "4434e1b3dcf84ab7ae322de674d92c6b": {
      "model_module": "@jupyter-widgets/controls",
      "model_module_version": "1.5.0",
      "model_name": "CheckboxModel",
      "state": {
       "description": "attendee_total_visits",
       "disabled": false,
       "layout": "IPY_MODEL_1a7dbc4ff3db42afb0554a4efe816a66",
       "style": "IPY_MODEL_2c7967f7e8634082be1e51dbcbd60368",
       "value": false
      }
     },
     "447c378eea754608bb5a808f8bd90fcd": {
      "model_module": "@jupyter-widgets/controls",
      "model_module_version": "1.5.0",
      "model_name": "SliderStyleModel",
      "state": {
       "description_width": ""
      }
     },
     "449623eb2fdc4baea828b67dfcf81f3a": {
      "model_module": "@jupyter-widgets/controls",
      "model_module_version": "1.5.0",
      "model_name": "CheckboxModel",
      "state": {
       "description": "cahnrext",
       "disabled": false,
       "layout": "IPY_MODEL_181e70558aa54f9bad27cd1dade5cb0d",
       "style": "IPY_MODEL_fe86a6accb3c4fb5807a1050880eb75d",
       "value": false
      }
     },
     "44a00b82023749fbbc1c994d39b7ae51": {
      "model_module": "@jupyter-widgets/controls",
      "model_module_version": "1.5.0",
      "model_name": "SliderStyleModel",
      "state": {
       "description_width": ""
      }
     },
     "44d309bfa1c74183b6f70eddbf9b5d56": {
      "model_module": "@jupyter-widgets/base",
      "model_module_version": "1.2.0",
      "model_name": "LayoutModel",
      "state": {}
     },
     "452d96e15270482f9872de708915a923": {
      "model_module": "@jupyter-widgets/controls",
      "model_module_version": "1.5.0",
      "model_name": "CheckboxModel",
      "state": {
       "description": "fall_lec_count",
       "disabled": false,
       "layout": "IPY_MODEL_bacac591391c4f878fe04d74ff0fc3bb",
       "style": "IPY_MODEL_3bc489dd80d4489b9dbd82128a662f86",
       "value": false
      }
     },
     "45342a90ca7b4f52a63fffc10cfce6c1": {
      "model_module": "@jupyter-widgets/controls",
      "model_module_version": "1.5.0",
      "model_name": "CheckboxModel",
      "state": {
       "description": "pct_hawi",
       "disabled": false,
       "layout": "IPY_MODEL_9f94ef970ac34723b78be9be2df55035",
       "style": "IPY_MODEL_dc48682841444b05ba49e8c605037497",
       "value": false
      }
     },
     "4585eaaf6b854246a31baa175eab862c": {
      "model_module": "@jupyter-widgets/base",
      "model_module_version": "1.2.0",
      "model_name": "LayoutModel",
      "state": {
       "flex_flow": "row wrap"
      }
     },
     "45ac1716d3004670b0517d9f66235629": {
      "model_module": "@jupyter-widgets/base",
      "model_module_version": "1.2.0",
      "model_name": "LayoutModel",
      "state": {
       "flex_flow": "row wrap"
      }
     },
     "45da40771cca4c7f8a543a8c177b1da2": {
      "model_module": "@jupyter-widgets/controls",
      "model_module_version": "1.5.0",
      "model_name": "CheckboxModel",
      "state": {
       "description": "suburb_large",
       "disabled": false,
       "layout": "IPY_MODEL_c6f841351c39436e9cfd284fa2244369",
       "style": "IPY_MODEL_15b09c02686841bb82055fa748257d93",
       "value": false
      }
     },
     "46979cb3979d4fa1a2a9c3f80af3951f": {
      "model_module": "@jupyter-widgets/base",
      "model_module_version": "1.2.0",
      "model_name": "LayoutModel",
      "state": {}
     },
     "46b1f8f79bbf44828e237faa7f0e1cba": {
      "model_module": "@jupyter-widgets/controls",
      "model_module_version": "1.5.0",
      "model_name": "CheckboxModel",
      "state": {
       "description": "cas_engl",
       "disabled": false,
       "layout": "IPY_MODEL_71fc93ab8c8a4cb18c00e3f4906dd8a3",
       "style": "IPY_MODEL_49aea8526a224e39b8e7e39748787d26",
       "value": false
      }
     },
     "46ba613b31534a4fa7b72aefe55aa770": {
      "model_module": "@jupyter-widgets/base",
      "model_module_version": "1.2.0",
      "model_name": "LayoutModel",
      "state": {}
     },
     "46cc618957d74128b5159d8385cc9a30": {
      "model_module": "@jupyter-widgets/controls",
      "model_module_version": "1.5.0",
      "model_name": "CheckboxModel",
      "state": {
       "description": "pct_hawi",
       "disabled": false,
       "layout": "IPY_MODEL_f60e715c93604e08a9772ee9660fb3bd",
       "style": "IPY_MODEL_c191445fce9440b1aaaf33bdd11291a6",
       "value": false
      }
     },
     "47090f38e4a847bc9e1597fab7efe885": {
      "model_module": "@jupyter-widgets/base",
      "model_module_version": "1.2.0",
      "model_name": "LayoutModel",
      "state": {}
     },
     "4742fb181a494b62bd7b004dfa4659ab": {
      "model_module": "@jupyter-widgets/base",
      "model_module_version": "1.2.0",
      "model_name": "LayoutModel",
      "state": {}
     },
     "474f34b30b6641d3af5e3c39f81e6e3f": {
      "model_module": "@jupyter-widgets/controls",
      "model_module_version": "1.5.0",
      "model_name": "ButtonStyleModel",
      "state": {}
     },
     "476453a87a644edea0fc807f016b4668": {
      "model_module": "@jupyter-widgets/controls",
      "model_module_version": "1.5.0",
      "model_name": "DescriptionStyleModel",
      "state": {
       "description_width": ""
      }
     },
     "4776bcf958ed4216befd47077958371c": {
      "model_module": "@jupyter-widgets/controls",
      "model_module_version": "1.5.0",
      "model_name": "DescriptionStyleModel",
      "state": {
       "description_width": ""
      }
     },
     "4787db88555244649f85ffb388076532": {
      "model_module": "@jupyter-widgets/output",
      "model_module_version": "1.0.0",
      "model_name": "OutputModel",
      "state": {
       "layout": "IPY_MODEL_ae860d9f96b04f55a88f2bb0ad5209ef",
       "outputs": [
        {
         "data": {
          "image/png": "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\n",
          "text/plain": "<Figure size 432x288 with 1 Axes>"
         },
         "metadata": {
          "needs_background": "light"
         },
         "output_type": "display_data"
        }
       ]
      }
     },
     "47970277b82b46ed862aef3432331f9a": {
      "model_module": "@jupyter-widgets/controls",
      "model_module_version": "1.5.0",
      "model_name": "CheckboxModel",
      "state": {
       "description": "parent1_highest_educ_lvl",
       "disabled": false,
       "layout": "IPY_MODEL_dd1058add4e149ae97be014a910e1a36",
       "style": "IPY_MODEL_7268ca4a341e4c39b3bb7320d593e977",
       "value": true
      }
     },
     "479db3b398ac443aa9c36c436d6b09c4": {
      "model_module": "@jupyter-widgets/controls",
      "model_module_version": "1.5.0",
      "model_name": "DescriptionStyleModel",
      "state": {
       "description_width": ""
      }
     },
     "47c83d3cdbd346a29052b18ee642db0e": {
      "model_module": "@jupyter-widgets/base",
      "model_module_version": "1.2.0",
      "model_name": "LayoutModel",
      "state": {}
     },
     "47d175781e6b46278855439ca4981133": {
      "model_module": "@jupyter-widgets/base",
      "model_module_version": "1.2.0",
      "model_name": "LayoutModel",
      "state": {}
     },
     "4829065d373f4e64b05aa4df7632ada9": {
      "model_module": "@jupyter-widgets/controls",
      "model_module_version": "1.5.0",
      "model_name": "DescriptionStyleModel",
      "state": {
       "description_width": ""
      }
     },
     "4879353af5084c1e8e01896d28bd261c": {
      "model_module": "@jupyter-widgets/controls",
      "model_module_version": "1.5.0",
      "model_name": "CheckboxModel",
      "state": {
       "description": "pop_dens",
       "disabled": false,
       "layout": "IPY_MODEL_aa9137702e8c45b0ada20663ed1db892",
       "style": "IPY_MODEL_af0ee0adbc884959b61e5bffb36464ec",
       "value": false
      }
     },
     "487ae0e45f4e406293fc55f079845a13": {
      "model_module": "@jupyter-widgets/controls",
      "model_module_version": "1.5.0",
      "model_name": "DescriptionStyleModel",
      "state": {
       "description_width": ""
      }
     },
     "48b65ff8aaa140039c5c97e66552b3db": {
      "model_module": "@jupyter-widgets/controls",
      "model_module_version": "1.5.0",
      "model_name": "CheckboxModel",
      "state": {
       "description": "cas_psyc",
       "disabled": false,
       "layout": "IPY_MODEL_785243a74fa54c5683158ad65dae93ba",
       "style": "IPY_MODEL_cfb80d9f0e934e9496dd73e45344c7cb",
       "value": false
      }
     },
     "48b9eeabed7641d4abc21183697e04ca": {
      "model_module": "@jupyter-widgets/base",
      "model_module_version": "1.2.0",
      "model_name": "LayoutModel",
      "state": {}
     },
     "48c8774bba59490a866ae5f218d2af50": {
      "model_module": "@jupyter-widgets/controls",
      "model_module_version": "1.5.0",
      "model_name": "DescriptionStyleModel",
      "state": {
       "description_width": ""
      }
     },
     "48cd739bfb694eeaad50a056d57a9d63": {
      "model_module": "@jupyter-widgets/controls",
      "model_module_version": "1.5.0",
      "model_name": "CheckboxModel",
      "state": {
       "description": "cahnrs_econ",
       "disabled": false,
       "layout": "IPY_MODEL_370169d849134224a4915165fbd4d480",
       "style": "IPY_MODEL_b0d6cb92702b4b1a93b19fc6c84b0022",
       "value": false
      }
     },
     "496e9fa39056434693e39546472b8a43": {
      "model_module": "@jupyter-widgets/base",
      "model_module_version": "1.2.0",
      "model_name": "LayoutModel",
      "state": {}
     },
     "49aea8526a224e39b8e7e39748787d26": {
      "model_module": "@jupyter-widgets/controls",
      "model_module_version": "1.5.0",
      "model_name": "DescriptionStyleModel",
      "state": {
       "description_width": ""
      }
     },
     "49c8b6a4c29c40a9b3a2242a1eb2ad27": {
      "model_module": "@jupyter-widgets/controls",
      "model_module_version": "1.5.0",
      "model_name": "ButtonStyleModel",
      "state": {}
     },
     "4a91ea8a2033400b8d28bf8e1d274c2b": {
      "model_module": "@jupyter-widgets/base",
      "model_module_version": "1.2.0",
      "model_name": "LayoutModel",
      "state": {}
     },
     "4ae9f5879ff84adea21e849844c443a8": {
      "model_module": "@jupyter-widgets/base",
      "model_module_version": "1.2.0",
      "model_name": "LayoutModel",
      "state": {}
     },
     "4af4c06eb16248b9b9fab334cb03a682": {
      "model_module": "@jupyter-widgets/controls",
      "model_module_version": "1.5.0",
      "model_name": "IntSliderModel",
      "state": {
       "description": "y",
       "layout": "IPY_MODEL_64e9a0b19a424ccab5a25f4e901464bd",
       "min": 1,
       "style": "IPY_MODEL_d0a0bcdda96547e8b1477d22235c0381",
       "value": 50
      }
     },
     "4b0a13669ac448bd8cbb6f1f1ab91e28": {
      "model_module": "@jupyter-widgets/controls",
      "model_module_version": "1.5.0",
      "model_name": "CheckboxModel",
      "state": {
       "description": "spring_lab_contact_hrs",
       "disabled": false,
       "layout": "IPY_MODEL_1de8c85ed62e4c44a7c34c81e6839015",
       "style": "IPY_MODEL_6046cd38e7a24c53aac9ebf254c542d5",
       "value": false
      }
     },
     "4b12fccccd014b7ab871c27aa83a5d83": {
      "model_module": "@jupyter-widgets/controls",
      "model_module_version": "1.5.0",
      "model_name": "CheckboxModel",
      "state": {
       "description": "fall_cum_gpa",
       "disabled": false,
       "layout": "IPY_MODEL_8b838fbe98444e9f8b7f532a319da2e9",
       "style": "IPY_MODEL_ed83b5370a1c45c0b3c600fc5de150f5",
       "value": false
      }
     },
     "4b5cc6522741487490fbda9d52f69685": {
      "model_module": "@jupyter-widgets/controls",
      "model_module_version": "1.5.0",
      "model_name": "CheckboxModel",
      "state": {
       "description": "educ_rate",
       "disabled": false,
       "layout": "IPY_MODEL_4ef47f06f9534d40ba1b465a37d119c8",
       "style": "IPY_MODEL_710d6e55712849048326010ec77ac5dd",
       "value": false
      }
     },
     "4c59d9cd562e4ba89fb2caa852fefcc9": {
      "model_module": "@jupyter-widgets/base",
      "model_module_version": "1.2.0",
      "model_name": "LayoutModel",
      "state": {}
     },
     "4cbaf7c6184e4a3ab5dbeab222b4a4a0": {
      "model_module": "@jupyter-widgets/controls",
      "model_module_version": "1.5.0",
      "model_name": "DescriptionStyleModel",
      "state": {
       "description_width": ""
      }
     },
     "4cdf3b7c731145e4a1c474b6bc93da5e": {
      "model_module": "@jupyter-widgets/base",
      "model_module_version": "1.2.0",
      "model_name": "LayoutModel",
      "state": {}
     },
     "4ce4e85713c543d69693a1110a1d3628": {
      "model_module": "@jupyter-widgets/controls",
      "model_module_version": "1.5.0",
      "model_name": "CheckboxModel",
      "state": {
       "description": "athlete",
       "disabled": false,
       "layout": "IPY_MODEL_a41be2604b2d400eb70b2b61ea7e6874",
       "style": "IPY_MODEL_75c36ae450284d089421fe6cd9577d44",
       "value": false
      }
     },
     "4cf6c575e4884913be25fae315d36e9d": {
      "model_module": "@jupyter-widgets/base",
      "model_module_version": "1.2.0",
      "model_name": "LayoutModel",
      "state": {}
     },
     "4d337bc87ab142a48d542e777041112e": {
      "model_module": "@jupyter-widgets/controls",
      "model_module_version": "1.5.0",
      "model_name": "DescriptionStyleModel",
      "state": {
       "description_width": ""
      }
     },
     "4d4249cad86d4110866fa0d94d9a0bbc": {
      "model_module": "@jupyter-widgets/base",
      "model_module_version": "1.2.0",
      "model_name": "LayoutModel",
      "state": {}
     },
     "4d5dfc55265c46a5a6082ff9dc441504": {
      "model_module": "@jupyter-widgets/controls",
      "model_module_version": "1.5.0",
      "model_name": "DropdownModel",
      "state": {
       "_options_labels": [
        "emplid",
        "enrl_ind",
        "acad_year",
        "count_week_from_term_begin_dt",
        "father_wsu_flag",
        "parent1_highest_educ_lvl",
        "parent2_highest_educ_lvl"
       ],
       "description": "x",
       "index": 0,
       "layout": "IPY_MODEL_22b320f326954e2790d0e8e898829edf",
       "style": "IPY_MODEL_cd99a8d0aa7f449393b41021e5b337d1"
      }
     },
     "4db2c2d7adc442bbad33f4fb2281b8ae": {
      "model_module": "@jupyter-widgets/controls",
      "model_module_version": "1.5.0",
      "model_name": "DescriptionStyleModel",
      "state": {
       "description_width": ""
      }
     },
     "4ddca0f6c0c444b1bb9dae3127ac295a": {
      "model_module": "@jupyter-widgets/controls",
      "model_module_version": "1.5.0",
      "model_name": "CheckboxModel",
      "state": {
       "description": "attendee_experience",
       "disabled": false,
       "layout": "IPY_MODEL_cae311fe92a4459e9ea104a35b3358b0",
       "style": "IPY_MODEL_6bfe64b6d07441119bf6bb59043a8c96",
       "value": false
      }
     },
     "4e03911ff75c4f0fb507ca7008edd057": {
      "model_module": "@jupyter-widgets/output",
      "model_module_version": "1.0.0",
      "model_name": "OutputModel",
      "state": {
       "layout": "IPY_MODEL_9ad7f27d0b2341409b87265c1e918e94",
       "outputs": [
        {
         "data": {
          "image/png": "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\n",
          "text/plain": "<Figure size 432x288 with 1 Axes>"
         },
         "metadata": {
          "needs_background": "light"
         },
         "output_type": "display_data"
        }
       ]
      }
     },
     "4e504afc0bd8488f9398b64d665da208": {
      "model_module": "@jupyter-widgets/base",
      "model_module_version": "1.2.0",
      "model_name": "LayoutModel",
      "state": {}
     },
     "4e6b0e7d5ec041ca8007ea0d6bf19df6": {
      "model_module": "@jupyter-widgets/controls",
      "model_module_version": "1.5.0",
      "model_name": "CheckboxModel",
      "state": {
       "description": "attendee_cashe",
       "disabled": false,
       "layout": "IPY_MODEL_5637586fe94d47c4832a5d8b901cd2ef",
       "style": "IPY_MODEL_2d319c256ebb4fa19bc27fefdb593dd9",
       "value": false
      }
     },
     "4eb1fad8e6ee4b739a77e0b1215596c0": {
      "model_module": "@jupyter-widgets/controls",
      "model_module_version": "1.5.0",
      "model_name": "CheckboxModel",
      "state": {
       "description": "spring_avg_pct_DF",
       "disabled": false,
       "layout": "IPY_MODEL_c7bf79bb3cc649a09c6e41efbcac5569",
       "style": "IPY_MODEL_6baafa09443940c48fdaf4b64cc8ad16",
       "value": false
      }
     },
     "4ef47f06f9534d40ba1b465a37d119c8": {
      "model_module": "@jupyter-widgets/base",
      "model_module_version": "1.2.0",
      "model_name": "LayoutModel",
      "state": {}
     },
     "4f1dfeead284436b94d52f1bdd2aebd3": {
      "model_module": "@jupyter-widgets/output",
      "model_module_version": "1.0.0",
      "model_name": "OutputModel",
      "state": {
       "layout": "IPY_MODEL_27ecd7cd915f4688abefb2eb4f558b3f",
       "outputs": [
        {
         "data": {
          "image/png": "iVBORw0KGgoAAAANSUhEUgAAAYIAAAEICAYAAABS0fM3AAAABHNCSVQICAgIfAhkiAAAAAlwSFlzAAALEgAACxIB0t1+/AAAADh0RVh0U29mdHdhcmUAbWF0cGxvdGxpYiB2ZXJzaW9uMy4xLjMsIGh0dHA6Ly9tYXRwbG90bGliLm9yZy+AADFEAAASmUlEQVR4nO3dfbBdVX3G8e/ThIKCylugMYkGa0YFRkEzFEUtita0UkKrYKzgHYcOtoNvHToU7B++tGmt01p1RtSIShiRGFFL6owvTNTRdlowvHQgBIYMaIgJ5AIioC0a+PWPszMcLvfm5ZzLvTdZ38/Mmb332mvvte7K5Dxnr31eUlVIktr1W9PdAUnS9DIIJKlxBoEkNc4gkKTGGQSS1DiDQJIaZxBIUuMMAs0YSR7uezyW5H/7tt+W5INJfjOm3gN9xy9NcmOSB5Pcm2RtkoVJPtNX/9djzvGtrk4lmd2d59Ju+4S+cz8/SY3p7+uTfD/JQ0nu69r+myQHTPD3Xdq1/1D3uDnJPyZ51jh1T+76cEFf2av6+v3Lbn//WDxnTFvbkzx7uH8VtcAg0IxRVQfteACbgD/uK7u8q/aV/npVdTD0nqiBy4DzgWcBRwEXA49V1V/0nfcfxpzjDyfozv3A30/U1yRnAFcCXwaeW1WHAW8B5gMLdvJnfrSqngHMAd4BnAj8Z5IDx9Qb6fow0jc+P+r7O47pig/u+1s2dX07EHgT8AvgbTvpiwQYBNp3HAfcWVVrq+ehqvrajifHAawEXpzk98fuSBLgY8CHq+pzVXU/QFXdVlXvrqrbd3Xyqvq/qvoxcBpwGL1Q2HH+pwNvBs4DFiVZvId9fxPwAPBh+oJEmohBoH3F9cALk/xrktckOWjI8/2K3tXD8nH2vYDeK/+vDdkGVfUQcDXwqr7iNwEPA18FvgO8fQ9POwJcAayiNyYvHbaf2rcZBNrbnJnkgb7H9wGq6g7gZGAesBq4t5snHyYQPgs8J8nY6aPDu+XdOwqSrOr686skZ+9hO1uAQ/u2R+hNXz1Kb+rprUn2250TdfcJXgN8uaruAdbiVYF2wSDQ3mZ1VR3c93jNjh1V9d9VdWZVzaH3CvvVwN8O2lBVPQL8XfdI3677uuXcvrrLuvsV1wOz9rCpefTuB5BkAb0n8h33RK4CDgDeuJvnOhvYUFU3dtuXA3+2u0GiNhkE2id18+9fB44d8lRfpHfz+U/6ym4Ffgb86ZDnprtieR3wo67obHr/L/89yd3AHfSCYHenh94OPC/J3d3xH6N3BTPRTXGJ2dPdAWkyJHkl8CLgqqraluSF9G7ErhzmvFW1PckHgU/2lVWS84HPJXmQ3ruHHgCeDxy5m/3dn15I/RPwc3qBA70n8g8Bn+mrfgLw1SSHVdV9TCDJy4HfBY4HRvt2/Qu96aE1u9M3tccrAu1t3jLmvfMPJzmC3hPxacBNSR4Gvg18A/joJLR5BbC1v6CqvgKcCZwF3AXcS+/exAp6N3knckGSh+hNBV0GXAe8oqp+meREYCHwqaq6u++xBtgIvHUX/RyhF4Q39R8PfAI4NcmhuzhejYo/TCNJbfOKQJIaZxBIUuMMAklqnEEgSY2b8W8fPfzww2vhwoXT3Q1J2qtcd91193YfrtylGR8ECxcuZN26ddPdDUnaqyT56e7WdWpIkhpnEEhS4wwCSWqcQSBJjTMIJKlxBoEkNc4gkKTGGQSS1DiDQJIaN+M/WSxJ+7LPPvdl45a/86fXTVkfvCKQpMYZBJLUOINAkhpnEEhS4wwCSWqcQSBJjTMIJKlxBoEkNc4gkKTGGQSS1LhdBkGSLyTZluTmvrJDk1yd5PZueUjfvouSbExyW5I39JW/LMlN3b5PJsnk/zmSpD21O1cElwJLxpRdCKytqkXA2m6bJEcDy4BjumMuTjKrO+bTwLnAou4x9pySpGmwyyCoqh8C948pXgqs7NZXAqf3la+qqkeq6k5gI3BCkrnAM6vqv6qqgMv6jpEkTaNB7xEcWVVbAbrlEV35POCuvnqbu7J53frY8nElOTfJuiTrRkdHB+yiJGl3TPbN4vHm/Wsn5eOqqhVVtbiqFs+ZM2fSOidJerJBg+CebrqHbrmtK98MLOirNx/Y0pXPH6dckjTNBg2CNcBItz4CXNVXvizJ/kmOondT+Npu+uihJCd27xZ6e98xkqRptMtfKEtyBXAycHiSzcAHgI8Aq5OcA2wCzgCoqvVJVgO3ANuB86rq0e5Uf0nvHUhPA77VPSRJ02yXQVBVb51g1ykT1F8OLB+nfB1w7B71TpL0lPOTxZLUOINAkhpnEEhS4wwCSWqcQSBJjTMIJKlxBoEkNc4gkKTGGQSS1DiDQJIaZxBIUuMMAklqnEEgSY0zCCSpcQaBJDXOIJCkxhkEktQ4g0CSGmcQSFLjDAJJapxBIEmNMwgkqXEGgSQ1ziCQpMYZBJLUOINAkhpnEEhS4wwCSWqcQSBJjTMIJKlxQwVBkr9Ksj7JzUmuSHJAkkOTXJ3k9m55SF/9i5JsTHJbkjcM331J0rAGDoIk84D3AIur6lhgFrAMuBBYW1WLgLXdNkmO7vYfAywBLk4ya7juS5KGNezU0GzgaUlmA08HtgBLgZXd/pXA6d36UmBVVT1SVXcCG4EThmxfkjSkgYOgqn4G/DOwCdgK/KKqvgscWVVbuzpbgSO6Q+YBd/WdYnNX9iRJzk2yLsm60dHRQbsoSdoNw0wNHULvVf5RwLOBA5OctbNDximr8SpW1YqqWlxVi+fMmTNoFyVJu2GYqaHXAXdW1WhV/Qb4OvAK4J4kcwG65bau/mZgQd/x8+lNJUmSptEwQbAJODHJ05MEOAXYAKwBRro6I8BV3foaYFmS/ZMcBSwCrh2ifUnSJJg96IFVdU2SK4Hrge3ADcAK4CBgdZJz6IXFGV399UlWA7d09c+rqkeH7L8kaUgDBwFAVX0A+MCY4kfoXR2MV385sHyYNiVJk8tPFktS4wwCSWqcQSBJjTMIJKlxBoEkNc4gkKTGGQSS1DiDQJIaZxBIUuMMAklqnEEgSY0zCCSpcQaBJDXOIJCkxhkEktQ4g0CSGmcQSFLjDAJJapxBIEmNMwgkqXEGgSQ1ziCQpMYZBJLUOINAkhpnEEhS4wwCSWqcQSBJjTMIJKlxBoEkNW6oIEhycJIrk9yaZEOSlyc5NMnVSW7vlof01b8oycYktyV5w/DdlyQNa9grgk8A366qFwIvATYAFwJrq2oRsLbbJsnRwDLgGGAJcHGSWUO2L0ka0sBBkOSZwKuBzwNU1a+r6gFgKbCyq7YSOL1bXwqsqqpHqupOYCNwwqDtS5ImxzBXBM8DRoEvJrkhySVJDgSOrKqtAN3yiK7+POCuvuM3d2VPkuTcJOuSrBsdHR2ii5KkXRkmCGYDLwU+XVXHA7+kmwaaQMYpq/EqVtWKqlpcVYvnzJkzRBclSbsyTBBsBjZX1TXd9pX0guGeJHMBuuW2vvoL+o6fD2wZon1J0iQYOAiq6m7griQv6IpOAW4B1gAjXdkIcFW3vgZYlmT/JEcBi4BrB21fkjQ5Zg95/LuBy5P8NnAH8A564bI6yTnAJuAMgKpan2Q1vbDYDpxXVY8O2b4kaUhDBUFV3QgsHmfXKRPUXw4sH6ZNSdLk8pPFktQ4g0CSGmcQSFLjDAJJapxBIEmNMwgkqXEGgSQ1ziCQpMYZBJLUOINAkhpnEEhS4wwCSWqcQSBJjTMIJKlxBoEkNc4gkKTGGQSS1DiDQJIaZxBIUuMMAklqnEEgSY0zCCSpcQaBJDXOIJCkxhkEktQ4g0CSGmcQSFLjDAJJapxBIEmNMwgkqXFDB0GSWUluSPLNbvvQJFcnub1bHtJX96IkG5PcluQNw7YtSRreZFwRvBfY0Ld9IbC2qhYBa7ttkhwNLAOOAZYAFyeZNQntS5KGMFQQJJkPvBG4pK94KbCyW18JnN5XvqqqHqmqO4GNwAnDtC9JGt6wVwQfBy4AHusrO7KqtgJ0yyO68nnAXX31NndlT5Lk3CTrkqwbHR0dsouSpJ0ZOAiSnApsq6rrdveQccpqvIpVtaKqFlfV4jlz5gzaRUnSbpg9xLEnAacl+SPgAOCZSb4E3JNkblVtTTIX2NbV3wws6Dt+PrBliPYlSZNg4CuCqrqoquZX1UJ6N4G/V1VnAWuAka7aCHBVt74GWJZk/yRHAYuAawfuuSRpUgxzRTCRjwCrk5wDbALOAKiq9UlWA7cA24HzqurRp6B9SdIemJQgqKofAD/o1u8DTpmg3nJg+WS0KUmaHH6yWJIaZxBIUuMMAklqnEEgSY0zCCSpcQaBJDXOIJCkxhkEktQ4g0CSGvdUfMWEJO0zPvvcl41b/s6f7u4XL898XhFIUuMMAklqnEEgSY3zHoEkDWBfunfgFYEkNc4gkKTGGQSS1DiDQJIaZxBIUuMMAklqnEEgSY0zCCSpcQaBJDXOTxZL0iTaGz9x7BWBJDXOKwJJe62JXn3DzH4FPtMYBJKasjdO3TzVnBqSpMZ5RSBJU2Bn01jTbeAgSLIAuAz4HeAxYEVVfSLJocBXgIXAT4Azq+rn3TEXAecAjwLvqarvDNV7SZokM/mJ+qk2zNTQduD8qnoRcCJwXpKjgQuBtVW1CFjbbdPtWwYcAywBLk4ya5jOS5KGN3AQVNXWqrq+W38I2ADMA5YCK7tqK4HTu/WlwKqqeqSq7gQ2AicM2r4kaXJMys3iJAuB44FrgCOraiv0wgI4oqs2D7ir77DNXdl45zs3ybok60ZHRyeji5KkCQx9szjJQcDXgPdV1YNJJqw6TlmNV7GqVgArABYvXjxuHUlP5lsjNYihrgiS7EcvBC6vqq93xfckmdvtnwts68o3Awv6Dp8PbBmmfUnS8AYOgvRe+n8e2FBVH+vbtQYY6dZHgKv6ypcl2T/JUcAi4NpB25ckTY5hpoZOAs4GbkpyY1f2fuAjwOok5wCbgDMAqmp9ktXALfTecXReVT06RPuSpEkwcBBU1X8w/rw/wCkTHLMcWD5om5KkyedXTEhS4wwCSWqcQSBJjTMIJKlxBoEkNc4gkKTGGQSS1Dh/mEbSjDfIbwW0/PsCe8orAklqnEEgSY0zCCSpcd4jkBrm7xcIDAJJe8Dg2DcZBJKe5Kl+x42BMrN4j0CSGmcQSFLjnBqSGuCHq7QzBoGkp4wBtHdwakiSGmcQSFLjnBqSNDSngPZuXhFIUuMMAklqnEEgSY0zCCSpcQaBJDXOIJCkxhkEktQ4g0CSGmcQSFLjpvyTxUmWAJ8AZgGXVNVHproP0t7OT/JqMk1pECSZBXwKeD2wGfhxkjVVdctU9kMz186e4Cb69ao9/bWrveVJ1F/r0lSZ6iuCE4CNVXUHQJJVwFJgnwqCfeFn+Cbrb5jOJ9295Qlfmm6pqqlrLHkzsKSq/rzbPhv4vap615h65wLndpsvAG6bsk7OHIcD9053J2YQx+OJHI/HORZPtGM8nltVc3bngKm+Isg4ZU9KoqpaAax46rszcyVZV1WLp7sfM4Xj8USOx+MciycaZDym+l1Dm4EFfdvzgS1T3AdJUp+pDoIfA4uSHJXkt4FlwJop7oMkqc+UTg1V1fYk7wK+Q+/to1+oqvVT2Ye9SNNTY+NwPJ7I8XicY/FEezweU3qzWJI08/jJYklqnEEgSY0zCGaAJF9Isi3JzX1lhya5Osnt3fKQ6ezjVEmyIMn3k2xIsj7Je7vyVsfjgCTXJvmfbjw+1JU3OR7Q+4aCJDck+Wa33fJY/CTJTUluTLKuK9vj8TAIZoZLgSVjyi4E1lbVImBtt92C7cD5VfUi4ETgvCRH0+54PAK8tqpeAhwHLElyIu2OB8B7gQ192y2PBcBrquq4vs8O7PF4GAQzQFX9ELh/TPFSYGW3vhI4fUo7NU2qamtVXd+tP0TvP/w82h2PqqqHu839ukfR6HgkmQ+8Ebikr7jJsdiJPR4Pg2DmOrKqtkLvyRE4Ypr7M+WSLASOB66h4fHopkJuBLYBV1dVy+PxceAC4LG+slbHAnovCr6b5Lruq3lggPGY8q+hlnZHkoOArwHvq6oHk/G+naQNVfUocFySg4FvJDl2uvs0HZKcCmyrquuSnDzd/ZkhTqqqLUmOAK5OcusgJ/GKYOa6J8lcgG65bZr7M2WS7EcvBC6vqq93xc2Oxw5V9QDwA3r3k1ocj5OA05L8BFgFvDbJl2hzLACoqi3dchvwDXrf8LzH42EQzFxrgJFufQS4ahr7MmXSe+n/eWBDVX2sb1er4zGnuxIgydOA1wG30uB4VNVFVTW/qhbS+3qa71XVWTQ4FgBJDkzyjB3rwB8ANzPAePjJ4hkgyRXAyfS+PvYe4APAvwGrgecAm4AzqmrsDeV9TpJXAj8CbuLxeeD307tP0OJ4vJjeDb9Z9F64ra6qDyc5jAbHY4duauivq+rUVsciyfPoXQVAb5r/y1W1fJDxMAgkqXFODUlS4wwCSWqcQSBJjTMIJKlxBoEkNc4gkKTGGQSS1Lj/Bx/DreWENsbqAAAAAElFTkSuQmCC\n",
          "text/plain": "<Figure size 432x288 with 1 Axes>"
         },
         "metadata": {
          "needs_background": "light"
         },
         "output_type": "display_data"
        }
       ]
      }
     },
     "4f26a7ec117c437d8791e61c6e59e435": {
      "model_module": "@jupyter-widgets/base",
      "model_module_version": "1.2.0",
      "model_name": "LayoutModel",
      "state": {}
     },
     "4f2973c5096741a1812a667c8103172f": {
      "model_module": "@jupyter-widgets/controls",
      "model_module_version": "1.5.0",
      "model_name": "DescriptionStyleModel",
      "state": {
       "description_width": ""
      }
     },
     "4f673a44422041bebe3402a376580eff": {
      "model_module": "@jupyter-widgets/output",
      "model_module_version": "1.0.0",
      "model_name": "OutputModel",
      "state": {
       "layout": "IPY_MODEL_dd5ff988ead748af9c5288e6d2176180"
      }
     },
     "4f7774a597ca4c938f54b3d6068d4fde": {
      "model_module": "@jupyter-widgets/controls",
      "model_module_version": "1.5.0",
      "model_name": "CheckboxModel",
      "state": {
       "description": "fall_avg_difficulty",
       "disabled": false,
       "layout": "IPY_MODEL_530f2e64ece047a6b997fc4155cbadb1",
       "style": "IPY_MODEL_c15c2eeac3e040728f54eb7b65f04269",
       "value": false
      }
     },
     "501009837f5a47868493ceaea64bbe4b": {
      "model_module": "@jupyter-widgets/controls",
      "model_module_version": "1.5.0",
      "model_name": "CheckboxModel",
      "state": {
       "description": "male",
       "disabled": false,
       "layout": "IPY_MODEL_9e4cb030b1dc4e57af5a2482a76dff5f",
       "style": "IPY_MODEL_f08f4fee293e4789ba40bdc60e2ba372",
       "value": false
      }
     },
     "50a99ff618ce4240a48d232701c2eccc": {
      "model_module": "@jupyter-widgets/controls",
      "model_module_version": "1.5.0",
      "model_name": "DescriptionStyleModel",
      "state": {
       "description_width": ""
      }
     },
     "50da11f3c6c941a799f492f4ddcea571": {
      "model_module": "@jupyter-widgets/controls",
      "model_module_version": "1.5.0",
      "model_name": "DescriptionStyleModel",
      "state": {
       "description_width": ""
      }
     },
     "51164290ed7243e0b024ea8805e2986b": {
      "model_module": "@jupyter-widgets/controls",
      "model_module_version": "1.5.0",
      "model_name": "CheckboxModel",
      "state": {
       "description": "honors_program_ind",
       "disabled": false,
       "layout": "IPY_MODEL_47c83d3cdbd346a29052b18ee642db0e",
       "style": "IPY_MODEL_b0063ce18ef74ad783fe20a4cd395a5f",
       "value": false
      }
     },
     "511895b56bda43029207547b0ae0dd88": {
      "model_module": "@jupyter-widgets/base",
      "model_module_version": "1.2.0",
      "model_name": "LayoutModel",
      "state": {}
     },
     "5136c370da114b2ba7ea897f73df4f3c": {
      "model_module": "@jupyter-widgets/base",
      "model_module_version": "1.2.0",
      "model_name": "LayoutModel",
      "state": {}
     },
     "514e6a5aa9c341b59265951ff2a9375b": {
      "model_module": "@jupyter-widgets/controls",
      "model_module_version": "1.5.0",
      "model_name": "SliderStyleModel",
      "state": {
       "description_width": ""
      }
     },
     "51519c40af374e89b6656f6d0275edee": {
      "model_module": "@jupyter-widgets/controls",
      "model_module_version": "1.5.0",
      "model_name": "SliderStyleModel",
      "state": {
       "description_width": ""
      }
     },
     "5162ff5f03cd4132a61020c0f0ba371b": {
      "model_module": "@jupyter-widgets/controls",
      "model_module_version": "1.5.0",
      "model_name": "DescriptionStyleModel",
      "state": {
       "description_width": ""
      }
     },
     "516dec9abb4b4a1fbedd23e21d6f0ba1": {
      "model_module": "@jupyter-widgets/controls",
      "model_module_version": "1.5.0",
      "model_name": "DescriptionStyleModel",
      "state": {
       "description_width": ""
      }
     },
     "51c153fab3124d00a886a346b3d027ab": {
      "model_module": "@jupyter-widgets/base",
      "model_module_version": "1.2.0",
      "model_name": "LayoutModel",
      "state": {}
     },
     "51c236980ab4497d844f90cbca781ba2": {
      "model_module": "@jupyter-widgets/base",
      "model_module_version": "1.2.0",
      "model_name": "LayoutModel",
      "state": {}
     },
     "51cd147fa16a4b5db34f455ada72641f": {
      "model_module": "@jupyter-widgets/controls",
      "model_module_version": "1.5.0",
      "model_name": "DropdownModel",
      "state": {
       "_options_labels": [
        "Pullman",
        "Tri-Cities",
        "Vancouver"
       ],
       "description": "Campus:",
       "index": 0,
       "layout": "IPY_MODEL_ccd102276d1d45f5ae6ef421717846ae",
       "style": "IPY_MODEL_38b3449cb3d748cda6f00d0e5a6b8d51"
      }
     },
     "520dc0343c2245999fe4b05d8c5fb084": {
      "model_module": "@jupyter-widgets/base",
      "model_module_version": "1.2.0",
      "model_name": "LayoutModel",
      "state": {}
     },
     "524c60fc66ee4c00b37c3d88a7d8a731": {
      "model_module": "@jupyter-widgets/base",
      "model_module_version": "1.2.0",
      "model_name": "LayoutModel",
      "state": {}
     },
     "5255c9f16e1a454cb75d842688ee6773": {
      "model_module": "@jupyter-widgets/base",
      "model_module_version": "1.2.0",
      "model_name": "LayoutModel",
      "state": {}
     },
     "5269ce5bee934a8292f7e59c98921408": {
      "model_module": "@jupyter-widgets/controls",
      "model_module_version": "1.5.0",
      "model_name": "CheckboxModel",
      "state": {
       "description": "spring_lec_contact_hrs",
       "disabled": false,
       "layout": "IPY_MODEL_1534883145e5412d898a9a2752e9ae2b",
       "style": "IPY_MODEL_c719acb5f91b4fa58617e44f717d49c5",
       "value": false
      }
     },
     "52eb96b367e04133be6e90f2e7172a0b": {
      "model_module": "@jupyter-widgets/controls",
      "model_module_version": "1.5.0",
      "model_name": "VBoxModel",
      "state": {
       "_dom_classes": [
        "widget-interact"
       ],
       "children": [
        "IPY_MODEL_1e94bec7d9124aa8bbb2d4ab0a64bc91",
        "IPY_MODEL_ac940bdd46dc451d9d6c24c569a0a395",
        "IPY_MODEL_11df74c698a04ecc924851a2918814ba"
       ],
       "layout": "IPY_MODEL_47090f38e4a847bc9e1597fab7efe885"
      }
     },
     "5302321db4ae42a1afbb94b6f68b919a": {
      "model_module": "@jupyter-widgets/base",
      "model_module_version": "1.2.0",
      "model_name": "LayoutModel",
      "state": {}
     },
     "5309784a121b4c7394499d0627d7f063": {
      "model_module": "@jupyter-widgets/base",
      "model_module_version": "1.2.0",
      "model_name": "LayoutModel",
      "state": {}
     },
     "530f2e64ece047a6b997fc4155cbadb1": {
      "model_module": "@jupyter-widgets/base",
      "model_module_version": "1.2.0",
      "model_name": "LayoutModel",
      "state": {}
     },
     "535208fe3785429983b0358ee3666f09": {
      "model_module": "@jupyter-widgets/controls",
      "model_module_version": "1.5.0",
      "model_name": "CheckboxModel",
      "state": {
       "description": "median_value",
       "disabled": false,
       "layout": "IPY_MODEL_04da5589c88b40aeb06f25aef78e0e66",
       "style": "IPY_MODEL_ca89dbb1fb67433facd04767d89ff3b0",
       "value": false
      }
     },
     "53904c3c82f340f387ae5914e930707b": {
      "model_module": "@jupyter-widgets/base",
      "model_module_version": "1.2.0",
      "model_name": "LayoutModel",
      "state": {}
     },
     "53970cd4405c4535aac90bd294e20072": {
      "model_module": "@jupyter-widgets/controls",
      "model_module_version": "1.5.0",
      "model_name": "DescriptionStyleModel",
      "state": {
       "description_width": ""
      }
     },
     "544a9cdbfb5f4b81af32d1756abc567d": {
      "model_module": "@jupyter-widgets/base",
      "model_module_version": "1.2.0",
      "model_name": "LayoutModel",
      "state": {}
     },
     "54862f17a29a49dda8f0c2def4a61f7b": {
      "model_module": "@jupyter-widgets/controls",
      "model_module_version": "1.5.0",
      "model_name": "VBoxModel",
      "state": {
       "_dom_classes": [
        "widget-interact"
       ],
       "children": [
        "IPY_MODEL_928415871a5f40c980b491fc76a59c32",
        "IPY_MODEL_6962977770324ddab2b0b0f524890af1",
        "IPY_MODEL_9578d321f2014f47aa1e3daf9d5ae518"
       ],
       "layout": "IPY_MODEL_1ae52b18d6b049d68b79618f395f5cd4"
      }
     },
     "54bf173b0c9442e5b7a3966eefca023d": {
      "model_module": "@jupyter-widgets/controls",
      "model_module_version": "1.5.0",
      "model_name": "CheckboxModel",
      "state": {
       "description": "pct_two",
       "disabled": false,
       "layout": "IPY_MODEL_b19d9ab9b6094265951ee45cf57a69d1",
       "style": "IPY_MODEL_9144f01ae31240c38c0571c50c964b65",
       "value": false
      }
     },
     "54bfbf98073f483b993fc0baf6d7484f": {
      "model_module": "@jupyter-widgets/base",
      "model_module_version": "1.2.0",
      "model_name": "LayoutModel",
      "state": {}
     },
     "551820a2cbf44afc9f7dca388ac5ebec": {
      "model_module": "@jupyter-widgets/controls",
      "model_module_version": "1.5.0",
      "model_name": "DescriptionStyleModel",
      "state": {
       "description_width": ""
      }
     },
     "557cb54259154d51b4d51eba389ae529": {
      "model_module": "@jupyter-widgets/controls",
      "model_module_version": "1.5.0",
      "model_name": "CheckboxModel",
      "state": {
       "description": "city_large",
       "disabled": false,
       "layout": "IPY_MODEL_d0c0bcb31bef49b28711e9b9b7da5132",
       "style": "IPY_MODEL_3aa40adad2a3487f91f622ee8ed87bd6",
       "value": false
      }
     },
     "55810523c49f4376b089241a3e615585": {
      "model_module": "@jupyter-widgets/controls",
      "model_module_version": "1.5.0",
      "model_name": "DescriptionStyleModel",
      "state": {
       "description_width": ""
      }
     },
     "560538856eed4f1d9bc04c3ff3a39acb": {
      "model_module": "@jupyter-widgets/controls",
      "model_module_version": "1.5.0",
      "model_name": "DescriptionStyleModel",
      "state": {
       "description_width": ""
      }
     },
     "5617935da6744761a2fbe81b9cdb4588": {
      "model_module": "@jupyter-widgets/controls",
      "model_module_version": "1.5.0",
      "model_name": "DescriptionStyleModel",
      "state": {
       "description_width": ""
      }
     },
     "5637586fe94d47c4832a5d8b901cd2ef": {
      "model_module": "@jupyter-widgets/base",
      "model_module_version": "1.2.0",
      "model_name": "LayoutModel",
      "state": {}
     },
     "566efa2149b8492ead0e6e22fd135988": {
      "model_module": "@jupyter-widgets/controls",
      "model_module_version": "1.5.0",
      "model_name": "DescriptionStyleModel",
      "state": {
       "description_width": ""
      }
     },
     "568b429f0f234859b934524934d8c2e4": {
      "model_module": "@jupyter-widgets/controls",
      "model_module_version": "1.5.0",
      "model_name": "CheckboxModel",
      "state": {
       "description": "attendee_honors_visit",
       "disabled": false,
       "layout": "IPY_MODEL_dff71bfdc683462abbbc82c9ada2f6e5",
       "style": "IPY_MODEL_62c3fb567072498cbf484765e44df1e7",
       "value": false
      }
     },
     "5694ec17982145b2bf06bc1c2acc4b86": {
      "model_module": "@jupyter-widgets/base",
      "model_module_version": "1.2.0",
      "model_name": "LayoutModel",
      "state": {}
     },
     "56eaa976860c430197b0f9923c40e62d": {
      "model_module": "@jupyter-widgets/base",
      "model_module_version": "1.2.0",
      "model_name": "LayoutModel",
      "state": {}
     },
     "573b4e7293ec4a259df211e91c2998ea": {
      "model_module": "@jupyter-widgets/controls",
      "model_module_version": "1.5.0",
      "model_name": "CheckboxModel",
      "state": {
       "description": "pct_oth",
       "disabled": false,
       "layout": "IPY_MODEL_e16ef97a861541de9f9d86e159022783",
       "style": "IPY_MODEL_566efa2149b8492ead0e6e22fd135988",
       "value": false
      }
     },
     "573d010c2c064fd2b23f504400930145": {
      "model_module": "@jupyter-widgets/controls",
      "model_module_version": "1.5.0",
      "model_name": "CheckboxModel",
      "state": {
       "description": "pct_blk",
       "disabled": false,
       "layout": "IPY_MODEL_d44815d7c4484479a53720cf24223bcf",
       "style": "IPY_MODEL_a31627eabef9437c9bafaeb6881735e8",
       "value": false
      }
     },
     "576807dc6cb7488587651674aaabff6e": {
      "model_module": "@jupyter-widgets/controls",
      "model_module_version": "1.5.0",
      "model_name": "CheckboxModel",
      "state": {
       "description": "attendee_transfer_day",
       "disabled": false,
       "layout": "IPY_MODEL_496e9fa39056434693e39546472b8a43",
       "style": "IPY_MODEL_f1b8124a9ad542d8bc000f0aaed9108c",
       "value": false
      }
     },
     "576ac7d4bb53494587c6b311ce97becf": {
      "model_module": "@jupyter-widgets/controls",
      "model_module_version": "1.5.0",
      "model_name": "VBoxModel",
      "state": {
       "children": [
        "IPY_MODEL_a983d0538c8f4a9f8078edca63be6ba9",
        "IPY_MODEL_116eda3d02aa49b48ffa316fec18b825",
        "IPY_MODEL_9ba9dac275184302bd5f211a07fdb758"
       ],
       "layout": "IPY_MODEL_45ac1716d3004670b0517d9f66235629"
      }
     },
     "577183abf8144d36b7e0dfa20f0e7e53": {
      "model_module": "@jupyter-widgets/controls",
      "model_module_version": "1.5.0",
      "model_name": "DescriptionStyleModel",
      "state": {
       "description_width": ""
      }
     },
     "57a10bf33a53418cbaa833d59ab3b36b": {
      "model_module": "@jupyter-widgets/controls",
      "model_module_version": "1.5.0",
      "model_name": "DescriptionStyleModel",
      "state": {
       "description_width": ""
      }
     },
     "57e992d316294252a10cfa88b374da7e": {
      "model_module": "@jupyter-widgets/base",
      "model_module_version": "1.2.0",
      "model_name": "LayoutModel",
      "state": {}
     },
     "57f9b2a8222e43dfa4b70287e5459384": {
      "model_module": "@jupyter-widgets/output",
      "model_module_version": "1.0.0",
      "model_name": "OutputModel",
      "state": {
       "layout": "IPY_MODEL_9e37adda0cca44a784c29afad4dffcf6",
       "outputs": [
        {
         "data": {
          "image/png": "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\n",
          "text/plain": "<Figure size 432x288 with 1 Axes>"
         },
         "metadata": {
          "needs_background": "light"
         },
         "output_type": "display_data"
        }
       ]
      }
     },
     "5877ac3d28c14ac2a4624be2b9814d02": {
      "model_module": "@jupyter-widgets/controls",
      "model_module_version": "1.5.0",
      "model_name": "DescriptionStyleModel",
      "state": {
       "description_width": ""
      }
     },
     "588d483f749b458f8813629796281854": {
      "model_module": "@jupyter-widgets/controls",
      "model_module_version": "1.5.0",
      "model_name": "CheckboxModel",
      "state": {
       "description": "cas_chem",
       "disabled": false,
       "layout": "IPY_MODEL_a62f201ba769457d9d7388c40c0b573a",
       "style": "IPY_MODEL_d47b5cc0093948ec9ec9d47f6953ef24",
       "value": false
      }
     },
     "5939637b3c61426bb23d71ec3880694a": {
      "model_module": "@jupyter-widgets/controls",
      "model_module_version": "1.5.0",
      "model_name": "CheckboxModel",
      "state": {
       "description": "attendee_lvp_camp",
       "disabled": false,
       "layout": "IPY_MODEL_24497c9f4a1a46b3a869c40a61d50e36",
       "style": "IPY_MODEL_ea1454d2e71447248eb12d30c7d747e8",
       "value": false
      }
     },
     "59769294c0eb438c9271268a9bbc8198": {
      "model_module": "@jupyter-widgets/controls",
      "model_module_version": "1.5.0",
      "model_name": "CheckboxModel",
      "state": {
       "description": "spring_avg_difficulty",
       "disabled": false,
       "layout": "IPY_MODEL_ea4cffe16a4643faa39bd58bc86e4232",
       "style": "IPY_MODEL_a04d47f89c5d4cbf8e81f7e698b4140e",
       "value": false
      }
     },
     "59d4c9c9b0b948d0a881ae65a521503c": {
      "model_module": "@jupyter-widgets/controls",
      "model_module_version": "1.5.0",
      "model_name": "CheckboxModel",
      "state": {
       "description": "vcea",
       "disabled": false,
       "layout": "IPY_MODEL_0c7e88f6ad0c4cd3a643d958b1cd62ea",
       "style": "IPY_MODEL_a6b6ed4681a447a4942b0d017438dde2",
       "value": false
      }
     },
     "59d9bd4fd5534e41ba3547b7f61eb2a4": {
      "model_module": "@jupyter-widgets/base",
      "model_module_version": "1.2.0",
      "model_name": "LayoutModel",
      "state": {}
     },
     "5a14f7e6d5e942ca8354814c4aa79967": {
      "model_module": "@jupyter-widgets/controls",
      "model_module_version": "1.5.0",
      "model_name": "VBoxModel",
      "state": {
       "_dom_classes": [
        "widget-interact"
       ],
       "children": [
        "IPY_MODEL_294b79564df3437e9e668ed81f3e349d",
        "IPY_MODEL_aa60152fbb4249a49568ac690d63285d",
        "IPY_MODEL_042a57cd48fc466cb06eea31ccc6ece4"
       ],
       "layout": "IPY_MODEL_7e132e1d86f94bc5992d6e2f08faca62"
      }
     },
     "5a596fb2557c43848b61849334283086": {
      "model_module": "@jupyter-widgets/controls",
      "model_module_version": "1.5.0",
      "model_name": "DescriptionStyleModel",
      "state": {
       "description_width": ""
      }
     },
     "5ada21eb91034aaaa816a0ad52d1c146": {
      "model_module": "@jupyter-widgets/base",
      "model_module_version": "1.2.0",
      "model_name": "LayoutModel",
      "state": {}
     },
     "5b3d326661614c6db87e121bb35c8b4d": {
      "model_module": "@jupyter-widgets/base",
      "model_module_version": "1.2.0",
      "model_name": "LayoutModel",
      "state": {}
     },
     "5b44bd5651ea42f889458b533f8b3185": {
      "model_module": "@jupyter-widgets/controls",
      "model_module_version": "1.5.0",
      "model_name": "IntSliderModel",
      "state": {
       "description": "y",
       "layout": "IPY_MODEL_0477a0bcb55c4f38b25bf03d095a6a57",
       "min": 1,
       "style": "IPY_MODEL_df57bee62c624c3aacc67e5c5f406acf",
       "value": 50
      }
     },
     "5b993851661f4500aacae86f3cf848e0": {
      "model_module": "@jupyter-widgets/controls",
      "model_module_version": "1.5.0",
      "model_name": "CheckboxModel",
      "state": {
       "description": "spring_lec_contact_hrs",
       "disabled": false,
       "layout": "IPY_MODEL_bf76a3dc63494d5fa2fe7d4579e3e108",
       "style": "IPY_MODEL_f9111f26d4dd48e898c66d8a29a9c41b",
       "value": false
      }
     },
     "5b9afac1fb3d4938a4baa3a98252830d": {
      "model_module": "@jupyter-widgets/base",
      "model_module_version": "1.2.0",
      "model_name": "LayoutModel",
      "state": {}
     },
     "5be3c2e4b10740e4adbb017a3f277a25": {
      "model_module": "@jupyter-widgets/controls",
      "model_module_version": "1.5.0",
      "model_name": "DescriptionStyleModel",
      "state": {
       "description_width": ""
      }
     },
     "5c277719298042d2ae44b630a281c0e6": {
      "model_module": "@jupyter-widgets/controls",
      "model_module_version": "1.5.0",
      "model_name": "SliderStyleModel",
      "state": {
       "description_width": ""
      }
     },
     "5c777aa0eed449fe8816b966d6154eaf": {
      "model_module": "@jupyter-widgets/controls",
      "model_module_version": "1.5.0",
      "model_name": "SliderStyleModel",
      "state": {
       "description_width": ""
      }
     },
     "5cd859232489485c8590168275bc3274": {
      "model_module": "@jupyter-widgets/controls",
      "model_module_version": "1.5.0",
      "model_name": "DescriptionStyleModel",
      "state": {
       "description_width": ""
      }
     },
     "5ce031a5b9684fbfbf706a0512dad674": {
      "model_module": "@jupyter-widgets/base",
      "model_module_version": "1.2.0",
      "model_name": "LayoutModel",
      "state": {}
     },
     "5d10178f6e4e4ed595c84fc43aa51718": {
      "model_module": "@jupyter-widgets/controls",
      "model_module_version": "1.5.0",
      "model_name": "IntSliderModel",
      "state": {
       "description": "y",
       "layout": "IPY_MODEL_82af5dfe4cc3424e9200f3578dc175b7",
       "min": 1,
       "style": "IPY_MODEL_2af8bcc002d043d89df6daa1a4d6f5fb",
       "value": 50
      }
     },
     "5da60893505c4294a30272a2d8cd62db": {
      "model_module": "@jupyter-widgets/base",
      "model_module_version": "1.2.0",
      "model_name": "LayoutModel",
      "state": {}
     },
     "5e032ae2a5a64334bc366b6badc873b9": {
      "model_module": "@jupyter-widgets/controls",
      "model_module_version": "1.5.0",
      "model_name": "VBoxModel",
      "state": {
       "children": [
        "IPY_MODEL_d074e47f00b646e9840454cc098994fb",
        "IPY_MODEL_f8c41b1c5e8a498a9b2b44cdc217faa5",
        "IPY_MODEL_557cb54259154d51b4d51eba389ae529",
        "IPY_MODEL_d893ec3575124ed3b24e0863017e6b05",
        "IPY_MODEL_959c7ec4b1a54767b4cd89e28c5ee6eb",
        "IPY_MODEL_9f01a5b982e34f50b1a204dd6d7ba6f9",
        "IPY_MODEL_710d57fd8cff400f9d08c39460d8e0cd",
        "IPY_MODEL_c7092c0b5131460bbef2b928406f6b7f",
        "IPY_MODEL_979d8c1ac74c4b15ac14badf84bff3db",
        "IPY_MODEL_f831365f559c42499cfe3a0e7b409d0c",
        "IPY_MODEL_9450e5e097a3432ea33860d9f847668d",
        "IPY_MODEL_76149bdc9f124642b7c4b7090de3d389",
        "IPY_MODEL_f1f6b18b8ca64a5793dc71f2c87c72fe",
        "IPY_MODEL_ea4bf0681af14fe69e0a3a4a2ffbec9a"
       ],
       "layout": "IPY_MODEL_12e48817f9714f08afa848252ffe3788"
      }
     },
     "5e2c43589c034083b0f9dab798e1a288": {
      "model_module": "@jupyter-widgets/controls",
      "model_module_version": "1.5.0",
      "model_name": "DescriptionStyleModel",
      "state": {
       "description_width": ""
      }
     },
     "5e65d1cdbed5418e997c42a7f4577458": {
      "model_module": "@jupyter-widgets/controls",
      "model_module_version": "1.5.0",
      "model_name": "VBoxModel",
      "state": {
       "children": [
        "IPY_MODEL_9e98f366f4504153ab58b3cc1bb6b1da",
        "IPY_MODEL_68c32aba66e440c4abb1620cbdd0e35b",
        "IPY_MODEL_cbdd08e8d2b24bdea03dd2ca0a2b8184",
        "IPY_MODEL_83a4bdd623cf4e95b194b88af9112384",
        "IPY_MODEL_c07a3207290b4711881aa65a1eaa539c",
        "IPY_MODEL_a40b4531dd504088a15f224808ffcd45",
        "IPY_MODEL_ac5a0aacd049438ea56164044d9dc48d",
        "IPY_MODEL_42332eae97c14729b38fd9afdd2c34ad",
        "IPY_MODEL_45342a90ca7b4f52a63fffc10cfce6c1",
        "IPY_MODEL_123ae49fa1474b0a935918874a082416",
        "IPY_MODEL_b7906ec2f98c4e71aa3a62a3f99efc64",
        "IPY_MODEL_15777f2ece224e21bcdc4bfb1aada9d9",
        "IPY_MODEL_8c81a0f6970d47e08aac4782e1870412"
       ],
       "layout": "IPY_MODEL_26d029a705214d0c83204270df4c596e"
      }
     },
     "5ea8b28cee804a408e3d10a79c29c88d": {
      "model_module": "@jupyter-widgets/base",
      "model_module_version": "1.2.0",
      "model_name": "LayoutModel",
      "state": {}
     },
     "5ebe43b1a2d64c9e852703e60decf33d": {
      "model_module": "@jupyter-widgets/controls",
      "model_module_version": "1.5.0",
      "model_name": "CheckboxModel",
      "state": {
       "description": "IB_AICE",
       "disabled": false,
       "layout": "IPY_MODEL_ad7d512734ec449899f2ac06b189c596",
       "style": "IPY_MODEL_7eead84764f9418eb44ceac924d5d6d3",
       "value": false
      }
     },
     "5ecb34b7a51b4b069bbd561c4ef887e1": {
      "model_module": "@jupyter-widgets/controls",
      "model_module_version": "1.5.0",
      "model_name": "CheckboxModel",
      "state": {
       "description": "resident",
       "disabled": false,
       "layout": "IPY_MODEL_c2d4c42e5b63488e9bd1d1543192c7ae",
       "style": "IPY_MODEL_9c2bfd4928ab490ea9d1cbc107f1af7d",
       "value": false
      }
     },
     "5f28049c9aff4ce5a5f453005f85e345": {
      "model_module": "@jupyter-widgets/controls",
      "model_module_version": "1.5.0",
      "model_name": "DescriptionStyleModel",
      "state": {
       "description_width": ""
      }
     },
     "5f3875fc2db149388ba624d503f0c5ef": {
      "model_module": "@jupyter-widgets/controls",
      "model_module_version": "1.5.0",
      "model_name": "CheckboxModel",
      "state": {
       "description": "cahnrs_anml",
       "disabled": false,
       "layout": "IPY_MODEL_b642f92854354fd39f99dfd01295731f",
       "style": "IPY_MODEL_ab554abb3a7641868fffb915c908b7eb",
       "value": false
      }
     },
     "5f44950bc41d479cb77e29ce69d649a6": {
      "model_module": "@jupyter-widgets/controls",
      "model_module_version": "1.5.0",
      "model_name": "VBoxModel",
      "state": {
       "_dom_classes": [
        "widget-interact"
       ],
       "children": [
        "IPY_MODEL_99de7970fcb14f8ba79919c86146f975",
        "IPY_MODEL_4af4c06eb16248b9b9fab334cb03a682",
        "IPY_MODEL_416f4ca6ea834065bc5c8d1cb2546ab3"
       ],
       "layout": "IPY_MODEL_0a7eea22a72a44b5b9f459ed43e17833"
      }
     },
     "5f81217302c94efc816425e7095720bf": {
      "model_module": "@jupyter-widgets/base",
      "model_module_version": "1.2.0",
      "model_name": "LayoutModel",
      "state": {
       "flex_flow": "row wrap"
      }
     },
     "5fa578acd8744e22bf35f3b3a8f885a3": {
      "model_module": "@jupyter-widgets/base",
      "model_module_version": "1.2.0",
      "model_name": "LayoutModel",
      "state": {}
     },
     "5fce29e6747a48a29c3de9e3fa128dc9": {
      "model_module": "@jupyter-widgets/base",
      "model_module_version": "1.2.0",
      "model_name": "LayoutModel",
      "state": {}
     },
     "5ff72ab221c945df9583d4d7e2920974": {
      "model_module": "@jupyter-widgets/controls",
      "model_module_version": "1.5.0",
      "model_name": "DescriptionStyleModel",
      "state": {
       "description_width": ""
      }
     },
     "6046cd38e7a24c53aac9ebf254c542d5": {
      "model_module": "@jupyter-widgets/controls",
      "model_module_version": "1.5.0",
      "model_name": "DescriptionStyleModel",
      "state": {
       "description_width": ""
      }
     },
     "610206cba00749d08a386ee1d1a8ce2a": {
      "model_module": "@jupyter-widgets/base",
      "model_module_version": "1.2.0",
      "model_name": "LayoutModel",
      "state": {}
     },
     "610e1790ca92475a952af64fea5eeb3a": {
      "model_module": "@jupyter-widgets/base",
      "model_module_version": "1.2.0",
      "model_name": "LayoutModel",
      "state": {}
     },
     "614e9e35e5cb410fb9a1033b466a4df5": {
      "model_module": "@jupyter-widgets/controls",
      "model_module_version": "1.5.0",
      "model_name": "DescriptionStyleModel",
      "state": {
       "description_width": ""
      }
     },
     "61890bf04c484d5fb243772d98093240": {
      "model_module": "@jupyter-widgets/output",
      "model_module_version": "1.0.0",
      "model_name": "OutputModel",
      "state": {
       "layout": "IPY_MODEL_d323b6bd33ec4f25b29f9c0683430fc2",
       "outputs": [
        {
         "data": {
          "image/png": "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\n",
          "text/plain": "<Figure size 432x288 with 1 Axes>"
         },
         "metadata": {
          "needs_background": "light"
         },
         "output_type": "display_data"
        }
       ]
      }
     },
     "618b39f958424c1aa4074733d6fbd494": {
      "model_module": "@jupyter-widgets/base",
      "model_module_version": "1.2.0",
      "model_name": "LayoutModel",
      "state": {}
     },
     "619d238c6ef84e839ef22d79b2a7657f": {
      "model_module": "@jupyter-widgets/controls",
      "model_module_version": "1.5.0",
      "model_name": "DescriptionStyleModel",
      "state": {
       "description_width": ""
      }
     },
     "61b41fa4e4b547da94c6e473da3952da": {
      "model_module": "@jupyter-widgets/controls",
      "model_module_version": "1.5.0",
      "model_name": "CheckboxModel",
      "state": {
       "description": "cum_adj_transfer_hours",
       "disabled": false,
       "layout": "IPY_MODEL_b2053530a056442db02ed948c230a3d4",
       "style": "IPY_MODEL_3195e3417c6c43f29dea5ddf819a0c81",
       "value": false
      }
     },
     "620dfcbeaa334d1481638df6a2939e6c": {
      "model_module": "@jupyter-widgets/base",
      "model_module_version": "1.2.0",
      "model_name": "LayoutModel",
      "state": {}
     },
     "62184cefb23142da8d15a3b255f67594": {
      "model_module": "@jupyter-widgets/controls",
      "model_module_version": "1.5.0",
      "model_name": "DescriptionStyleModel",
      "state": {
       "description_width": ""
      }
     },
     "623dd712f3f74322a138a6dcb87e85e9": {
      "model_module": "@jupyter-widgets/base",
      "model_module_version": "1.2.0",
      "model_name": "LayoutModel",
      "state": {}
     },
     "625e2abeb3054eb6ad28d78e6d17a8c1": {
      "model_module": "@jupyter-widgets/controls",
      "model_module_version": "1.5.0",
      "model_name": "DescriptionStyleModel",
      "state": {
       "description_width": ""
      }
     },
     "627556b7c23f420bb1d85ba5856c5660": {
      "model_module": "@jupyter-widgets/controls",
      "model_module_version": "1.5.0",
      "model_name": "CheckboxModel",
      "state": {
       "description": "first_gen_flag",
       "disabled": false,
       "layout": "IPY_MODEL_1f76a414176b4719a10e4e884c76116c",
       "style": "IPY_MODEL_e76c0dc329ba44e4b8e62ab0de994347",
       "value": false
      }
     },
     "62c3fb567072498cbf484765e44df1e7": {
      "model_module": "@jupyter-widgets/controls",
      "model_module_version": "1.5.0",
      "model_name": "DescriptionStyleModel",
      "state": {
       "description_width": ""
      }
     },
     "62e54107ebb641f48d0e3fe24b390a47": {
      "model_module": "@jupyter-widgets/controls",
      "model_module_version": "1.5.0",
      "model_name": "CheckboxModel",
      "state": {
       "description": "vcea_cive",
       "disabled": false,
       "layout": "IPY_MODEL_db1d5882f72b40149c5188fd615d3f22",
       "style": "IPY_MODEL_acd29a64fed3401aa38483c96183f1cb",
       "value": false
      }
     },
     "63211a756fea4854b8f4cefbc121ac7e": {
      "model_module": "@jupyter-widgets/controls",
      "model_module_version": "1.5.0",
      "model_name": "CheckboxModel",
      "state": {
       "description": "age",
       "disabled": false,
       "layout": "IPY_MODEL_511895b56bda43029207547b0ae0dd88",
       "style": "IPY_MODEL_7b133f79a3fd4832ada850a1cb6832d0",
       "value": false
      }
     },
     "632d543ec6904ee29592693c6aa8bead": {
      "model_module": "@jupyter-widgets/controls",
      "model_module_version": "1.5.0",
      "model_name": "VBoxModel",
      "state": {
       "_dom_classes": [
        "widget-interact"
       ],
       "children": [
        "IPY_MODEL_668547a2d8f34798af7217a7fa36f46e",
        "IPY_MODEL_98bf8ea79d514efa9abf8e5170bd35b9",
        "IPY_MODEL_ddbfa9cbbbde4d4dbb1bbb47f8d50687"
       ],
       "layout": "IPY_MODEL_328729cd4e474180a38227645587138e"
      }
     },
     "64074f5968e6447f8e076d20181a8a26": {
      "model_module": "@jupyter-widgets/base",
      "model_module_version": "1.2.0",
      "model_name": "LayoutModel",
      "state": {}
     },
     "64275e58ecf444649b9ffcde0aadb168": {
      "model_module": "@jupyter-widgets/controls",
      "model_module_version": "1.5.0",
      "model_name": "VBoxModel",
      "state": {
       "children": [
        "IPY_MODEL_12a75807b4ec44b2a56a78d73ceb18e0",
        "IPY_MODEL_7fe9b06ec4a941eda00f5cc3ad60922f"
       ],
       "layout": "IPY_MODEL_2f796f4f78e14aebae96eac1bf95a6a3"
      }
     },
     "64500c7c5102479eab2afb33dd1e4157": {
      "model_module": "@jupyter-widgets/controls",
      "model_module_version": "1.5.0",
      "model_name": "CheckboxModel",
      "state": {
       "description": "age_group",
       "disabled": false,
       "layout": "IPY_MODEL_6eaa2e09b15a46d7a0060e26e199691a",
       "style": "IPY_MODEL_a4597996aa184d45be8242b58c356451",
       "value": false
      }
     },
     "647250d3abc440118716a1b95b891590": {
      "model_module": "@jupyter-widgets/controls",
      "model_module_version": "1.5.0",
      "model_name": "CheckboxModel",
      "state": {
       "description": "provost",
       "disabled": false,
       "layout": "IPY_MODEL_5fa578acd8744e22bf35f3b3a8f885a3",
       "style": "IPY_MODEL_adfe4fda21cc4cb5a9fbd41442942642",
       "value": false
      }
     },
     "6480aabc05404749b6840f95fa050a06": {
      "model_module": "@jupyter-widgets/base",
      "model_module_version": "1.2.0",
      "model_name": "LayoutModel",
      "state": {}
     },
     "6488c621696d4b8792f9a8d5dfb1b7d5": {
      "model_module": "@jupyter-widgets/controls",
      "model_module_version": "1.5.0",
      "model_name": "DescriptionStyleModel",
      "state": {
       "description_width": ""
      }
     },
     "64b00b9d67f74bc9a4ba3ecdfeae54cb": {
      "model_module": "@jupyter-widgets/base",
      "model_module_version": "1.2.0",
      "model_name": "LayoutModel",
      "state": {}
     },
     "64e714dbac1d46c4827bebb16d9a2759": {
      "model_module": "@jupyter-widgets/base",
      "model_module_version": "1.2.0",
      "model_name": "LayoutModel",
      "state": {}
     },
     "64e9a0b19a424ccab5a25f4e901464bd": {
      "model_module": "@jupyter-widgets/base",
      "model_module_version": "1.2.0",
      "model_name": "LayoutModel",
      "state": {}
     },
     "655723cfef7d434196811a3660997e0f": {
      "model_module": "@jupyter-widgets/controls",
      "model_module_version": "1.5.0",
      "model_name": "DescriptionStyleModel",
      "state": {
       "description_width": ""
      }
     },
     "6594310e00d44276aeeb59c0d59e5c16": {
      "model_module": "@jupyter-widgets/output",
      "model_module_version": "1.0.0",
      "model_name": "OutputModel",
      "state": {
       "layout": "IPY_MODEL_433614104d7043158819e23b70e1011f",
       "outputs": [
        {
         "data": {
          "image/png": "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\n",
          "text/plain": "<Figure size 432x288 with 1 Axes>"
         },
         "metadata": {
          "needs_background": "light"
         },
         "output_type": "display_data"
        }
       ]
      }
     },
     "65ce8f0b99bd4bca840c98891d450148": {
      "model_module": "@jupyter-widgets/controls",
      "model_module_version": "1.5.0",
      "model_name": "DescriptionStyleModel",
      "state": {
       "description_width": ""
      }
     },
     "660aa90e6fa74cbab447b859545f1bab": {
      "model_module": "@jupyter-widgets/base",
      "model_module_version": "1.2.0",
      "model_name": "LayoutModel",
      "state": {}
     },
     "660bea8b659747be921ea33819f83e9b": {
      "model_module": "@jupyter-widgets/base",
      "model_module_version": "1.2.0",
      "model_name": "LayoutModel",
      "state": {}
     },
     "6612453df0814c5ca3778e80673a56c5": {
      "model_module": "@jupyter-widgets/controls",
      "model_module_version": "1.5.0",
      "model_name": "DescriptionStyleModel",
      "state": {
       "description_width": ""
      }
     },
     "668547a2d8f34798af7217a7fa36f46e": {
      "model_module": "@jupyter-widgets/controls",
      "model_module_version": "1.5.0",
      "model_name": "DropdownModel",
      "state": {
       "_options_labels": [
        "emplid",
        "enrl_ind",
        "acad_year",
        "count_week_from_term_begin_dt",
        "father_wsu_flag"
       ],
       "description": "x",
       "index": 0,
       "layout": "IPY_MODEL_74d43bc072d14860b20d1b5b02052a32",
       "style": "IPY_MODEL_1e924783b8f94466bbaf6c9b52823957"
      }
     },
     "66b375af840c4c9d8a95394ab302a495": {
      "model_module": "@jupyter-widgets/base",
      "model_module_version": "1.2.0",
      "model_name": "LayoutModel",
      "state": {
       "flex_flow": "row wrap"
      }
     },
     "66c809ec2bc748c7acb0ab6a8dff037d": {
      "model_module": "@jupyter-widgets/output",
      "model_module_version": "1.0.0",
      "model_name": "OutputModel",
      "state": {
       "layout": "IPY_MODEL_4176dcfb4bbe427caf8efb2fba7f91a8",
       "outputs": [
        {
         "data": {
          "image/png": "iVBORw0KGgoAAAANSUhEUgAAAX0AAAEICAYAAACzliQjAAAABHNCSVQICAgIfAhkiAAAAAlwSFlzAAALEgAACxIB0t1+/AAAADh0RVh0U29mdHdhcmUAbWF0cGxvdGxpYiB2ZXJzaW9uMy4xLjMsIGh0dHA6Ly9tYXRwbG90bGliLm9yZy+AADFEAAAXpklEQVR4nO3df5Cd1X3f8ffHgoDGNgOURSPvyoi6csdCKfJoq6pDMsWGGIU4FnSKR25sqTO0IlRMccedBDnpgN1ohqYxdpgEatmmEjFY2camaIiJLctmHLcy8sqREUJoUMuvtWRpDWYQnkRB4tM/7tnxM8vV7l2tdHe15/OauXOf5/v8uOdcRp89nPvc+8g2ERFRh7dMdQMiIqJ7EvoRERVJ6EdEVCShHxFRkYR+RERFEvoRERVJ6EdEVCShH1NK0muNxxuS/rax/luS7pD0ell/RdL/kfTP25zn0nL8PW22WdI/Kst3lPUbGtvPKrX5ZX2jpD8oy/PLtr8cdc4vS7qjsf52SXdJek7SzyW9IOkvJC09Qb9HzjvS10OSHpH0ayfY/zFJP5N0TqP2aOP41yX9fWP9v3fy3kR9EvoxpWy/beQBvAD8ZqP2QNntz8v2i4DvAP+zzalWAT8DVjaD8QReBj4tadYEmrpM0hXtNpTX+zbwy8AHgfOA9wCbgWvHOe/5pW+XA1uBhyT9m1Hnnw/8KmDgQyN127/eeO8eAP6w8d79duMUE3lvYoZL6McZw/YxWuHWK6ln1OZVwO8DrwO/Oc6p/gr4e+CjE3j5PwT+4ATbPgb0AdfZftL2cds/t/0Xtu/o5OS2f2L7j4E7gP8qqflvcxXwfWAjsHoCbW4e3+l7EzNcQj/OGJJ+iVaAvURr5DpS/1VaobsZGCj7jMXAfwZul3R2hy//p8C7JV3dZtvVwDds/7zDc43la8DFwD9u1FbR+mP3AHCNpDmdnuwk3puY4RL6cSb4sKRXgL8F/h3wr8qof8Rq4FHbPwMeBH5d0sVjndD2FmAY+LcdtuHvgPW0H+1fBPxkZEXS4vL5w6uS9nV4/hEHyvOF5Vy/AlwCDNjeCfxf4F9P4HwTfm9iZkvox5lgwPb5wBzgSWDJyAZJs4EbaI2Csb2d1mcDnQTj7wO/B5zbYTu+AMyRNHqK5CVg7siK7V2lvf8SmOgcem95frk8rwa+afunZf1BOpzimeR7EzNUQj/OGCX4bgLukDQSstfT+uD0Hkk/kfQTWsE57jSG7a3AfuDfd/j6rwOfAv4LoMambcAHJL21076M4XrgMLCvhPaHgX/R6Nt/BC6XdHmH5zqp9yZmroR+nFFsPw18A/idUloN3EfrypnF5XEFsFjSL3dwyt9rnKsTf0Zr9L68UbsfOEjryptFkmZJOhfo7/SkkuZIugW4HVhn+w3gOuA4sJBf9O09wF/TWXBP9r2JGSihH2ei/waskXQJcBXwuXL1y8hjJ60rdMadBrH9v4Ednb6w7eO0gvnCRu3vgPcBTwF/CbwK7AP+Ka2R+lhekfRzYDetyztvsH1f2bYa+B+2X2j2D/gT4LcknXWik0rqZZLvTcxMyk1UIiLqkZF+RERFEvoRERVJ6EdEVCShHxFRkRN++j9dXHTRRZ4/f/5UNyMi4oyyc+fOn9oe/RtV0z/058+fz+Dg4FQ3IyLijCLp+Xb1TO9ERFQkoR8RUZGEfkRERRL6EREVSehHRFQkoR8RUZGOQ7/8XOzfSHqkrF8oaaukZ8rzBY1910naL2mfpGsa9SWSdpdtd0tSu9eKiIjTYyIj/VuBvY3124BtthfQuonEbQCSFgIrgcto/eb4PZJmlWPuBdYAC8qj+ZvkERFxmnUU+pL6gN8AvtgorwA2leVNtG74MFLfbPuo7Wdp3ZloabnT0Xm2t7v1e873N46JiIgu6PQbuZ+jdXehtzdqc2wfBLB9sHGz5V7g+439hkrt9bI8uv4mktbQ+j8C3vnOd3bYxIg4kc9fsqRt/abnd3a5JTHVxh3pS/ogcLjccacT7ebpPUb9zUV7g+1+2/09PW/66YiIiDhJnYz0rwA+JOla4FzgPElfBg5JmltG+XNp3cwZWiP4eY3j+4ADpd7Xph4REV0y7kjf9jrbfbbn0/qA9tu2Pwps4Rf32VwNPFyWtwArJZ0j6VJaH9juKFNBRyQtK1ftrGocExERXTCZX9m8ExiQdCPwAnADgO09kgZo3ST6GLC23Ewa4GZgIzAbeLQ8IiKiSyYU+rYfAx4ryy8BV51gv/XA+jb1QWDRRBsZERGnRr6RGxFRkWl/E5WImD5y6eeZLyP9iIiKJPQjIiqS0I+IqEhCPyKiIgn9iIiKJPQjIiqS0I+IqEhCPyKiIgn9iIiKJPQjIiqS0I+IqEhCPyKiIgn9iIiKJPQjIiqS0I+IqMi4oS/pXEk7JP1I0h5Jnyr1OyT9WNKu8ri2ccw6Sfsl7ZN0TaO+RNLusu3ucq/ciIjokk5uonIUeL/t1ySdDXxP0si9bT9r+4+aO0taSOsG6pcB7wC+Jend5T659wJrgO8DXweWk/vkRkR0zbgjfbe8VlbPLg+PccgKYLPto7afBfYDSyXNBc6zvd22gfuB6ybX/IiImIiO5vQlzZK0CzgMbLX9eNl0i6QnJN0n6YJS6wVebBw+VGq9ZXl0vd3rrZE0KGlweHh4At2JiIixdBT6to/bXgz00Rq1L6I1VfMuYDFwEPhM2b3dPL3HqLd7vQ22+2339/T0dNLEiIjowISu3rH9CvAYsNz2ofLH4A3gC8DSstsQMK9xWB9woNT72tQjIqJLOrl6p0fS+WV5NnA18HSZox9xPfBkWd4CrJR0jqRLgQXADtsHgSOSlpWrdlYBD5/CvkRExDg6uXpnLrBJ0ixafyQGbD8i6c8kLaY1RfMccBOA7T2SBoCngGPA2nLlDsDNwEZgNq2rdnLlTkREF40b+rafAN7bpv6xMY5ZD6xvUx8EFk2wjRERcYrkG7kRERVJ6EdEVCShHxFRkYR+RERFEvoRERVJ6EdEVCShHxFRkYR+RERFEvoRERVJ6EdEVCShHxFRkYR+RERFEvoRERVJ6EdEVCShHxFRkYR+RERFEvoRERXp5B6550raIelHkvZI+lSpXyhpq6RnyvMFjWPWSdovaZ+kaxr1JZJ2l213l3vlRkREl3Qy0j8KvN/25cBiYLmkZcBtwDbbC4BtZR1JC4GVwGXAcuCecn9dgHuBNbRulr6gbI+IiC4ZN/Td8lpZPbs8DKwANpX6JuC6srwC2Gz7qO1ngf3AUklzgfNsb7dt4P7GMRER0QUdzelLmiVpF3AY2Gr7cWCO7YMA5fnisnsv8GLj8KFS6y3Lo+vtXm+NpEFJg8PDwxPpT0REjKGj0Ld93PZioI/WqH3RGLu3m6f3GPV2r7fBdr/t/p6enk6aGBERHZjQ1Tu2XwEeozUXf6hM2VCeD5fdhoB5jcP6gAOl3temHhERXdLJ1Ts9ks4vy7OBq4GngS3A6rLbauDhsrwFWCnpHEmX0vrAdkeZAjoiaVm5amdV45iIiOiCszrYZy6wqVyB8xZgwPYjkrYDA5JuBF4AbgCwvUfSAPAUcAxYa/t4OdfNwEZgNvBoeURERJeMG/q2nwDe26b+EnDVCY5ZD6xvUx8Exvo8ICIiTqN8IzcioiIJ/YiIiiT0IyIqktCPiKhIQj8ioiIJ/YiIiiT0IyIqktCPiKhIQj8ioiIJ/YiIiiT0IyIqktCPiKhIQj8ioiIJ/YiIiiT0IyIqktCPiKhIJ7dLnCfpO5L2Stoj6dZSv0PSjyXtKo9rG8esk7Rf0j5J1zTqSyTtLtvuLrdNjIiILunkdonHgE/Y/qGktwM7JW0t2z5r+4+aO0taCKwELgPeAXxL0rvLLRPvBdYA3we+TusG67llYkREl4w70rd90PYPy/IRYC/QO8YhK4DNto/afhbYDyyVNBc4z/Z22wbuB66bdA8iIqJjE5rTlzSf1v1yHy+lWyQ9Iek+SReUWi/wYuOwoVLrLcuj6xER0SUdh76ktwFfBT5u+1VaUzXvAhYDB4HPjOza5nCPUW/3WmskDUoaHB4e7rSJERExjo5CX9LZtAL/AdtfA7B9yPZx228AXwCWlt2HgHmNw/uAA6Xe16b+JrY32O633d/T0zOR/kRExBg6uXpHwJeAvbbvatTnNna7HniyLG8BVko6R9KlwAJgh+2DwBFJy8o5VwEPn6J+REREBzq5eucK4GPAbkm7Su2TwEckLaY1RfMccBOA7T2SBoCnaF35s7ZcuQNwM7ARmE3rqp1cuRMRVfv8JUva1m96fudpeb1xQ9/292g/H//1MY5ZD6xvUx8EFk2kgRERcerkG7kRERVJ6EdEVCShHxFRkYR+RERFEvoRERVJ6EdEVCShHxFRkYR+RERFEvoRERVJ6EdEVCShHxFRkYR+RERFEvoRERVJ6EdEVCShHxFRkYR+RERFEvoRERXp5B658yR9R9JeSXsk3VrqF0raKumZ8nxB45h1kvZL2ifpmkZ9iaTdZdvd5V65ERHRJZ2M9I8Bn7D9HmAZsFbSQuA2YJvtBcC2sk7ZthK4DFgO3CNpVjnXvcAaWjdLX1C2R0REl4wb+rYP2v5hWT4C7AV6gRXAprLbJuC6srwC2Gz7qO1ngf3AUklzgfNsb7dt4P7GMRER0QUTmtOXNB94L/A4MMf2QWj9YQAuLrv1Ai82Dhsqtd6yPLre7nXWSBqUNDg8PDyRJkZExBg6Dn1JbwO+Cnzc9qtj7dqm5jHqby7aG2z32+7v6enptIkRETGOjkJf0tm0Av8B218r5UNlyobyfLjUh4B5jcP7gAOl3temHhERXdLJ1TsCvgTstX1XY9MWYHVZXg083KivlHSOpEtpfWC7o0wBHZG0rJxzVeOYiIjogrM62OcK4GPAbkm7Su2TwJ3AgKQbgReAGwBs75E0ADxF68qftbaPl+NuBjYCs4FHyyMiIrpk3NC3/T3az8cDXHWCY9YD69vUB4FFE2lgREScOvlGbkRERRL6EREVSehHRFQkoR8RUZGEfkRERRL6EREVSehHRFQkoR8RUZGEfkRERRL6EREVSehHRFQkoR8RUZGEfkRERRL6EREVSehHRFQkoR8RUZGEfkRERTq5R+59kg5LerJRu0PSjyXtKo9rG9vWSdovaZ+kaxr1JZJ2l213l/vkRkREF3Uy0t8ILG9T/6ztxeXxdQBJC4GVwGXlmHskzSr73wusoXWj9AUnOGdERJxG44a+7e8CL3d4vhXAZttHbT8L7AeWSpoLnGd7u20D9wPXnWyjIyLi5ExmTv8WSU+U6Z8LSq0XeLGxz1Cp9Zbl0fW2JK2RNChpcHh4eBJNjIiIppMN/XuBdwGLgYPAZ0q93Ty9x6i3ZXuD7X7b/T09PSfZxIiIGO2kQt/2IdvHbb8BfAFYWjYNAfMau/YBB0q9r009IiK66KRCv8zRj7geGLmyZwuwUtI5ki6l9YHtDtsHgSOSlpWrdlYBD0+i3RERcRLOGm8HSV8BrgQukjQE3A5cKWkxrSma54CbAGzvkTQAPAUcA9baPl5OdTOtK4FmA4+WR0REdNG4oW/7I23KXxpj//XA+jb1QWDRhFoXERGnVL6RGxFRkYR+RERFEvoRERVJ6EdEVCShHxFRkYR+RERFEvoRERVJ6EdEVCShHxFRkYR+RERFEvoRERVJ6EdEVCShHxFRkYR+RERFEvoRERVJ6EdEVCShHxFRkXFDX9J9kg5LerJRu1DSVknPlOcLGtvWSdovaZ+kaxr1JZJ2l213l3vlRkREF3Uy0t8ILB9Vuw3YZnsBsK2sI2khsBK4rBxzj6RZ5Zh7gTW0bpa+oM05IyLiNBs39G1/F3h5VHkFsKksbwKua9Q32z5q+1lgP7BU0lzgPNvbbRu4v3FMRER0ycnO6c+xfRCgPF9c6r3Ai439hkqttyyPrrclaY2kQUmDw8PDJ9nEiIgY7VR/kNtunt5j1NuyvcF2v+3+np6eU9a4iIjanWzoHypTNpTnw6U+BMxr7NcHHCj1vjb1iIjoopMN/S3A6rK8Gni4UV8p6RxJl9L6wHZHmQI6ImlZuWpnVeOYiIjokrPG20HSV4ArgYskDQG3A3cCA5JuBF4AbgCwvUfSAPAUcAxYa/t4OdXNtK4Emg08Wh4REdFF44a+7Y+cYNNVJ9h/PbC+TX0QWDSh1kVExCmVb+RGRFQkoR8RUZGEfkRERcad04+ImK4+f8mSE2676fmdXWzJmSMj/YiIimSkHxGnzYlG4hmFT52M9CMiKpLQj4ioSEI/IqIiCf2IiIok9CMiKpLQj4ioSEI/IqIiCf2IiIrky1kRUyxfYJreZtp/n4z0IyIqkpF+RMxIM22EfqpMKvQlPQccAY4Dx2z3S7oQ+HNgPvAc8GHbPyv7rwNuLPv/B9vfmMzrR8TMMpVBPdYvds4kp2Kk/z7bP22s3wZss32npNvK+u9KWgisBC4D3gF8S9K7G/fQjYhoq5ZA7obTMb2zgtaN1AE2AY8Bv1vqm20fBZ6VtB9YCmw/DW2IiGir9j8gk/0g18A3Je2UtKbU5tg+CFCeLy71XuDFxrFDpfYmktZIGpQ0ODw8PMkmRkTEiMmO9K+wfUDSxcBWSU+Psa/a1NxuR9sbgA0A/f39bfeJiIiJm9RI3/aB8nwYeIjWdM0hSXMByvPhsvsQMK9xeB9wYDKvHxERE3PSI31JbwXeYvtIWf4A8GlgC7AauLM8P1wO2QI8KOkuWh/kLgB2TKLtEXGGqnFefbr0eTLTO3OAhySNnOdB238l6QfAgKQbgReAGwBs75E0ADwFHAPW5sqdiJhppku4n8hJh77t/wdc3qb+EnDVCY5ZD6w/2deMiIjJyTdyI2aQ6T7KnEnO1Pc6oR8xTZ2poRLTW35wLSKiIgn9iIiKJPQjIiqS0I+IqEg+yI2IScuHzmeOjPQjIiqS0I+IqEimdyIqlmmZ+mSkHxFRkYR+RERFEvoRERVJ6EdEVCShHxFRkYR+RERFcslmRJfk8siYDroe+pKWA38MzAK+aPvObrch6nCikL3p+Z2n5DwnMtHzR3RTV0Nf0izgT4FfA4aAH0jaYvupbrYjumeiwduN0fDpfo2M6GM66/ZIfymwv9xfF0mbgRW0bpZetakKiqkK3wRjxNToduj3Ai821oeAfzZ6J0lrgDVl9TVJ+7rQtql2EfDTbr/ob0vdfskRU9LfKZY+1+GU9PkU/Nu8pF2x26Hfrhd+U8HeAGw4/c2ZPiQN2u6f6nZ0S239hfS5FtO9z92+ZHMImNdY7wMOdLkNERHV6nbo/wBYIOlSSb8ErAS2dLkNERHV6ur0ju1jkm4BvkHrks37bO/pZhumsaqms6ivv5A+12Ja91n2m6bUIyJihsrPMEREVCShHxFRkYR+l0m6T9JhSU82ahdK2irpmfJ8wVS28VSTNE/SdyTtlbRH0q2lPmP7LelcSTsk/aj0+VOlPmP7DK1v3Uv6G0mPlPWZ3t/nJO2WtEvSYKlN6z4n9LtvI7B8VO02YJvtBcC2sj6THAM+Yfs9wDJgraSFzOx+HwXeb/tyYDGwXNIyZnafAW4F9jbWZ3p/Ad5ne3Hj2vxp3eeEfpfZ/i7w8qjyCmBTWd4EXNfVRp1mtg/a/mFZPkIrFHqZwf12y2tl9ezyMDO4z5L6gN8Avtgoz9j+jmFa9zmhPz3MsX0QWgEJXDzF7TltJM0H3gs8zgzvd5nq2AUcBrbanul9/hzwO8AbjdpM7i+0/pB/U9LO8vMxMM37nN/Tj66R9Dbgq8DHbb+qqfvdn66wfRxYLOl84CFJi6a6TaeLpA8Ch23vlHTlVLeni66wfUDSxcBWSU9PdYPGk5H+9HBI0lyA8nx4ittzykk6m1bgP2D7a6U84/sNYPsV4DFan+XM1D5fAXxI0nPAZuD9kr7MzO0vALYPlOfDwEO0fkl4Wvc5oT89bAFWl+XVwMNT2JZTTq0h/ZeAvbbvamyasf2W1FNG+EiaDVwNPM0M7bPtdbb7bM+n9fMq37b9UWZofwEkvVXS20eWgQ8ATzLN+5xv5HaZpK8AV9L6+dVDwO3A/wIGgHcCLwA32B79Ye8ZS9KvAH8N7OYX872fpDWvPyP7Lemf0PoQbxatwdWA7U9L+gfM0D6PKNM7/8n2B2dyfyX9Q1qje2hNlT9oe/1073NCPyKiIpneiYioSEI/IqIiCf2IiIok9CMiKpLQj4ioSEI/IqIiCf2IiIr8f5ibtIP16ZsLAAAAAElFTkSuQmCC\n",
          "text/plain": "<Figure size 432x288 with 1 Axes>"
         },
         "metadata": {
          "needs_background": "light"
         },
         "output_type": "display_data"
        }
       ]
      }
     },
     "67714c5b253845b9a95304de043a7dac": {
      "model_module": "@jupyter-widgets/base",
      "model_module_version": "1.2.0",
      "model_name": "LayoutModel",
      "state": {}
     },
     "6792b4f8d5d849e49301e5e5dcce01b8": {
      "model_module": "@jupyter-widgets/base",
      "model_module_version": "1.2.0",
      "model_name": "LayoutModel",
      "state": {}
     },
     "679a0208692041c0938840888f1d2b8c": {
      "model_module": "@jupyter-widgets/controls",
      "model_module_version": "1.5.0",
      "model_name": "ButtonStyleModel",
      "state": {}
     },
     "67eb4e0637964a748363a5abd41ce118": {
      "model_module": "@jupyter-widgets/controls",
      "model_module_version": "1.5.0",
      "model_name": "DropdownModel",
      "state": {
       "_options_labels": [
        "emplid",
        "enrl_ind",
        "acad_year",
        "count_week_from_term_begin_dt",
        "father_wsu_flag",
        "parent1_highest_educ_lvl",
        "parent2_highest_educ_lvl"
       ],
       "description": "x",
       "index": 5,
       "layout": "IPY_MODEL_ba912d2547a64805b5ba872d69ffe741",
       "style": "IPY_MODEL_551820a2cbf44afc9f7dca388ac5ebec"
      }
     },
     "67fae421b2094aa28af8c9f51a69897d": {
      "model_module": "@jupyter-widgets/base",
      "model_module_version": "1.2.0",
      "model_name": "LayoutModel",
      "state": {}
     },
     "6843c1d50e524d03b1fea73bfb48c890": {
      "model_module": "@jupyter-widgets/controls",
      "model_module_version": "1.5.0",
      "model_name": "DescriptionStyleModel",
      "state": {
       "description_width": ""
      }
     },
     "68570d04411b44c3a50907881362e92b": {
      "model_module": "@jupyter-widgets/base",
      "model_module_version": "1.2.0",
      "model_name": "LayoutModel",
      "state": {}
     },
     "687fe630810f4d97aa97c75922bbaf23": {
      "model_module": "@jupyter-widgets/controls",
      "model_module_version": "1.5.0",
      "model_name": "VBoxModel",
      "state": {
       "_dom_classes": [
        "widget-interact"
       ],
       "children": [
        "IPY_MODEL_8c3503c8d21f4fa68f2cd3a7fa13988a",
        "IPY_MODEL_f56f33f2bcfd41feb067e7e05b235d50",
        "IPY_MODEL_a5b470d5ceb0488f916ec39b97abbc3a"
       ],
       "layout": "IPY_MODEL_5ada21eb91034aaaa816a0ad52d1c146"
      }
     },
     "68c32aba66e440c4abb1620cbdd0e35b": {
      "model_module": "@jupyter-widgets/controls",
      "model_module_version": "1.5.0",
      "model_name": "CheckboxModel",
      "state": {
       "description": "pvrt_rate",
       "disabled": false,
       "layout": "IPY_MODEL_86f7eb5a7d9b4d9fa9bbf1b6190d20d2",
       "style": "IPY_MODEL_fae23405607940a98ea4bdaf7bb54ecf",
       "value": false
      }
     },
     "6962977770324ddab2b0b0f524890af1": {
      "model_module": "@jupyter-widgets/controls",
      "model_module_version": "1.5.0",
      "model_name": "IntSliderModel",
      "state": {
       "description": "y",
       "layout": "IPY_MODEL_0c509f46cabe4041bbd50a869170b4c3",
       "min": 1,
       "style": "IPY_MODEL_8f237012e3d34646afa7f21b3e643ce7",
       "value": 50
      }
     },
     "698efa6323d84a329d0fe66961e79af3": {
      "model_module": "@jupyter-widgets/controls",
      "model_module_version": "1.5.0",
      "model_name": "SliderStyleModel",
      "state": {
       "description_width": ""
      }
     },
     "69f417de4d494afea084817399563148": {
      "model_module": "@jupyter-widgets/output",
      "model_module_version": "1.0.0",
      "model_name": "OutputModel",
      "state": {
       "layout": "IPY_MODEL_19b543a3afb54c119e07cccf1fd3a7db",
       "outputs": [
        {
         "data": {
          "application/vnd.jupyter.widget-view+json": {
           "model_id": "",
           "version_major": 2,
           "version_minor": 0
          },
          "text/plain": "interactive(children=(Dropdown(description='x', options=('emplid', 'enrl_ind', 'acad_year', 'count_week_from_t…"
         },
         "metadata": {},
         "output_type": "display_data"
        },
        {
         "data": {
          "application/vnd.jupyter.widget-view+json": {
           "model_id": "",
           "version_major": 2,
           "version_minor": 0
          },
          "text/plain": "interactive(children=(Dropdown(description='x', options=('emplid', 'enrl_ind', 'acad_year', 'count_week_from_t…"
         },
         "metadata": {},
         "output_type": "display_data"
        }
       ]
      }
     },
     "69f45f4fa3884f5dae1ec9ccf58a6824": {
      "model_module": "@jupyter-widgets/controls",
      "model_module_version": "1.5.0",
      "model_name": "AccordionModel",
      "state": {
       "_titles": {
        "0": "Plans",
        "1": "Class",
        "2": "Performance"
       },
       "children": [
        "IPY_MODEL_3eda8537a2ae448abb5e2de3c8f25dfb",
        "IPY_MODEL_fdb4c3f1fa9c4a88b7bfb148659a3e37",
        "IPY_MODEL_84d46cc587be46fface1f5de1c48b442"
       ],
       "layout": "IPY_MODEL_1b822a62b37047db923a4418c4c15389"
      }
     },
     "69f74edd5136462ba5c5b325b09a2af8": {
      "model_module": "@jupyter-widgets/controls",
      "model_module_version": "1.5.0",
      "model_name": "DropdownModel",
      "state": {
       "_options_labels": [
        "emplid",
        "enrl_ind",
        "acad_year",
        "count_week_from_term_begin_dt",
        "father_wsu_flag",
        "parent1_highest_educ_lvl",
        "parent2_highest_educ_lvl"
       ],
       "description": "x",
       "index": 2,
       "layout": "IPY_MODEL_bb7e2171241444279aed363f9d1ef2ca",
       "style": "IPY_MODEL_8b960f059e974e929baba66611bf01bb"
      }
     },
     "6a1a010eb88d4bb98b1e9c92edceafa6": {
      "model_module": "@jupyter-widgets/controls",
      "model_module_version": "1.5.0",
      "model_name": "DescriptionStyleModel",
      "state": {
       "description_width": ""
      }
     },
     "6a393c256193408084d0a897cc5d19b4": {
      "model_module": "@jupyter-widgets/base",
      "model_module_version": "1.2.0",
      "model_name": "LayoutModel",
      "state": {}
     },
     "6a867cb22c61481e8b058503096b2582": {
      "model_module": "@jupyter-widgets/controls",
      "model_module_version": "1.5.0",
      "model_name": "DescriptionStyleModel",
      "state": {
       "description_width": ""
      }
     },
     "6ae05a6da77946848f207abff99d5570": {
      "model_module": "@jupyter-widgets/controls",
      "model_module_version": "1.5.0",
      "model_name": "CheckboxModel",
      "state": {
       "description": "cas_engl",
       "disabled": false,
       "layout": "IPY_MODEL_76ee51c2617e49dd96a347e01ea5e178",
       "style": "IPY_MODEL_614e9e35e5cb410fb9a1033b466a4df5",
       "value": false
      }
     },
     "6aee970075824598894b421ce2aa9629": {
      "model_module": "@jupyter-widgets/controls",
      "model_module_version": "1.5.0",
      "model_name": "CheckboxModel",
      "state": {
       "description": "fed_efc",
       "disabled": false,
       "layout": "IPY_MODEL_c6b3afcc07744764aa659be7fee86102",
       "style": "IPY_MODEL_06892466753b40e689d152aa4bae2fb4",
       "value": false
      }
     },
     "6b3239cfed6343eeb38afe6cc8a1799e": {
      "model_module": "@jupyter-widgets/base",
      "model_module_version": "1.2.0",
      "model_name": "LayoutModel",
      "state": {}
     },
     "6b789514d2434a558a46dbcd2082d31c": {
      "model_module": "@jupyter-widgets/base",
      "model_module_version": "1.2.0",
      "model_name": "LayoutModel",
      "state": {}
     },
     "6baafa09443940c48fdaf4b64cc8ad16": {
      "model_module": "@jupyter-widgets/controls",
      "model_module_version": "1.5.0",
      "model_name": "DescriptionStyleModel",
      "state": {
       "description_width": ""
      }
     },
     "6badbe2866724017ace421e524c7e467": {
      "model_module": "@jupyter-widgets/controls",
      "model_module_version": "1.5.0",
      "model_name": "CheckboxModel",
      "state": {
       "description": "spring_withdrawn_hours",
       "disabled": false,
       "layout": "IPY_MODEL_ce38c7fb819d46c38afda43185e941a9",
       "style": "IPY_MODEL_df7962d2216242e2bf32a73243e405a2",
       "value": false
      }
     },
     "6bb8fa40fa3443fea5059dc4a6d11b57": {
      "model_module": "@jupyter-widgets/controls",
      "model_module_version": "1.5.0",
      "model_name": "DescriptionStyleModel",
      "state": {
       "description_width": ""
      }
     },
     "6bd224b56d104ee498f35663278832f7": {
      "model_module": "@jupyter-widgets/controls",
      "model_module_version": "1.5.0",
      "model_name": "DescriptionStyleModel",
      "state": {
       "description_width": ""
      }
     },
     "6bdc9056b2b440ad87134714349b4d27": {
      "model_module": "@jupyter-widgets/base",
      "model_module_version": "1.2.0",
      "model_name": "LayoutModel",
      "state": {}
     },
     "6be5508edf0d41d89cd102130d2189bf": {
      "model_module": "@jupyter-widgets/controls",
      "model_module_version": "1.5.0",
      "model_name": "DescriptionStyleModel",
      "state": {
       "description_width": ""
      }
     },
     "6bfe64b6d07441119bf6bb59043a8c96": {
      "model_module": "@jupyter-widgets/controls",
      "model_module_version": "1.5.0",
      "model_name": "DescriptionStyleModel",
      "state": {
       "description_width": ""
      }
     },
     "6d066901daae4eb09d9fbf0f8c828956": {
      "model_module": "@jupyter-widgets/controls",
      "model_module_version": "1.5.0",
      "model_name": "DescriptionStyleModel",
      "state": {
       "description_width": ""
      }
     },
     "6d4d6c39570f47428bd92c64ea66d287": {
      "model_module": "@jupyter-widgets/output",
      "model_module_version": "1.0.0",
      "model_name": "OutputModel",
      "state": {
       "layout": "IPY_MODEL_8813bf4424294d89aac6de016594ecb4",
       "outputs": [
        {
         "data": {
          "image/png": "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\n",
          "text/plain": "<Figure size 432x288 with 1 Axes>"
         },
         "metadata": {
          "needs_background": "light"
         },
         "output_type": "display_data"
        }
       ]
      }
     },
     "6d63997298534ff1832015f7830cab3d": {
      "model_module": "@jupyter-widgets/base",
      "model_module_version": "1.2.0",
      "model_name": "LayoutModel",
      "state": {}
     },
     "6d77c1a7e990479f96cbcd2f2813c5b3": {
      "model_module": "@jupyter-widgets/controls",
      "model_module_version": "1.5.0",
      "model_name": "CheckboxModel",
      "state": {
       "description": "citizenship_country",
       "disabled": false,
       "layout": "IPY_MODEL_f4130bf4b2014dd491c5cc44b8b660eb",
       "style": "IPY_MODEL_0280af19308a44b69f5f8098ba9059c8",
       "value": false
      }
     },
     "6d89ed1656564a939050e1f01498f16d": {
      "model_module": "@jupyter-widgets/controls",
      "model_module_version": "1.5.0",
      "model_name": "DescriptionStyleModel",
      "state": {
       "description_width": ""
      }
     },
     "6da9e0a8607f409cb374ff04853867dd": {
      "model_module": "@jupyter-widgets/controls",
      "model_module_version": "1.5.0",
      "model_name": "CheckboxModel",
      "state": {
       "description": "fall_avg_pct_DFW",
       "disabled": false,
       "layout": "IPY_MODEL_e3dbe3f552a7419e8c36f555b8d4e463",
       "style": "IPY_MODEL_d068277e070843f084a9005f7f1a8ac5",
       "value": false
      }
     },
     "6dae8a818fee4a4097df7fa6558bce36": {
      "model_module": "@jupyter-widgets/base",
      "model_module_version": "1.2.0",
      "model_name": "LayoutModel",
      "state": {}
     },
     "6e25b51cc25f4cc6b159eca57639c35e": {
      "model_module": "@jupyter-widgets/controls",
      "model_module_version": "1.5.0",
      "model_name": "CheckboxModel",
      "state": {
       "description": "race_white",
       "disabled": false,
       "layout": "IPY_MODEL_73734f595dcc45cd8e91c606b0f58f56",
       "style": "IPY_MODEL_78074ba59d4e45e6832b3803919b1936",
       "value": false
      }
     },
     "6e41cec8bfa34a0a934fbc2573aa1197": {
      "model_module": "@jupyter-widgets/controls",
      "model_module_version": "1.5.0",
      "model_name": "CheckboxModel",
      "state": {
       "description": "fall_midterm_gpa_avg",
       "disabled": false,
       "layout": "IPY_MODEL_a9296d8c8bfb4e2d962722e89a3822ca",
       "style": "IPY_MODEL_4db2c2d7adc442bbad33f4fb2281b8ae",
       "value": false
      }
     },
     "6eaa2e09b15a46d7a0060e26e199691a": {
      "model_module": "@jupyter-widgets/base",
      "model_module_version": "1.2.0",
      "model_name": "LayoutModel",
      "state": {}
     },
     "6ed8dd4c71154d57ba0b90f539efc9d0": {
      "model_module": "@jupyter-widgets/base",
      "model_module_version": "1.2.0",
      "model_name": "LayoutModel",
      "state": {}
     },
     "6f243c78285545d2bd287431b7be4578": {
      "model_module": "@jupyter-widgets/base",
      "model_module_version": "1.2.0",
      "model_name": "LayoutModel",
      "state": {}
     },
     "6f26b48297ef4deab99b12b9b5c82d4f": {
      "model_module": "@jupyter-widgets/base",
      "model_module_version": "1.2.0",
      "model_name": "LayoutModel",
      "state": {}
     },
     "6f507f251a3b49cfa948066d0ae6d0c5": {
      "model_module": "@jupyter-widgets/controls",
      "model_module_version": "1.5.0",
      "model_name": "DropdownModel",
      "state": {
       "_options_labels": [
        "emplid",
        "enrl_ind",
        "acad_year",
        "count_week_from_term_begin_dt",
        "father_wsu_flag",
        "parent1_highest_educ_lvl",
        "parent2_highest_educ_lvl"
       ],
       "description": "x",
       "index": 5,
       "layout": "IPY_MODEL_a21be179303946448ff49c846f914dff",
       "style": "IPY_MODEL_6a867cb22c61481e8b058503096b2582"
      }
     },
     "6f58e64c32554a2cb30674e769a1e60a": {
      "model_module": "@jupyter-widgets/output",
      "model_module_version": "1.0.0",
      "model_name": "OutputModel",
      "state": {
       "layout": "IPY_MODEL_84c6974158fe4d9c9d0f703e08381fa2",
       "outputs": [
        {
         "data": {
          "image/png": "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\n",
          "text/plain": "<Figure size 432x288 with 1 Axes>"
         },
         "metadata": {
          "needs_background": "light"
         },
         "output_type": "display_data"
        }
       ]
      }
     },
     "6f63c0c0243240f4af6c879dfb095d6a": {
      "model_module": "@jupyter-widgets/controls",
      "model_module_version": "1.5.0",
      "model_name": "DescriptionStyleModel",
      "state": {
       "description_width": ""
      }
     },
     "6f6fe347f10e4bff8edfdc48d9d6793d": {
      "model_module": "@jupyter-widgets/base",
      "model_module_version": "1.2.0",
      "model_name": "LayoutModel",
      "state": {
       "flex_flow": "row wrap"
      }
     },
     "6f7e5d8fddb3495f9b5ef710352647bb": {
      "model_module": "@jupyter-widgets/controls",
      "model_module_version": "1.5.0",
      "model_name": "DescriptionStyleModel",
      "state": {
       "description_width": ""
      }
     },
     "6fd7328171c944d39f7a5d73b2d63d43": {
      "model_module": "@jupyter-widgets/base",
      "model_module_version": "1.2.0",
      "model_name": "LayoutModel",
      "state": {
       "flex_flow": "row wrap"
      }
     },
     "6ffa9091dd114b3686899436774d3bc0": {
      "model_module": "@jupyter-widgets/controls",
      "model_module_version": "1.5.0",
      "model_name": "CheckboxModel",
      "state": {
       "description": "comm",
       "disabled": false,
       "layout": "IPY_MODEL_fb1ab58ba85b42769b5dae6d624a3274",
       "style": "IPY_MODEL_c16bfb8476e647ec945ef463b469855a",
       "value": false
      }
     },
     "7000f7d72a4d4d1092f9d960d75ce51e": {
      "model_module": "@jupyter-widgets/base",
      "model_module_version": "1.2.0",
      "model_name": "LayoutModel",
      "state": {}
     },
     "70238a636aba4175a3de2224e99e0e1a": {
      "model_module": "@jupyter-widgets/controls",
      "model_module_version": "1.5.0",
      "model_name": "DescriptionStyleModel",
      "state": {
       "description_width": ""
      }
     },
     "7028509acd5f4486a3c1bf5ec838c6f9": {
      "model_module": "@jupyter-widgets/controls",
      "model_module_version": "1.5.0",
      "model_name": "DescriptionStyleModel",
      "state": {
       "description_width": ""
      }
     },
     "702ab377189a420a9bb5665f4011413d": {
      "model_module": "@jupyter-widgets/base",
      "model_module_version": "1.2.0",
      "model_name": "LayoutModel",
      "state": {}
     },
     "703dc756e9f54f178fe0c46419e5435c": {
      "model_module": "@jupyter-widgets/controls",
      "model_module_version": "1.5.0",
      "model_name": "DescriptionStyleModel",
      "state": {
       "description_width": ""
      }
     },
     "705dd45e7ca74c898ab27d453fbb289c": {
      "model_module": "@jupyter-widgets/controls",
      "model_module_version": "1.5.0",
      "model_name": "CheckboxModel",
      "state": {
       "description": "AD_AST",
       "disabled": false,
       "layout": "IPY_MODEL_c480b214b2454076a2a9cb5c660cf545",
       "style": "IPY_MODEL_0854828a54fb411b819ea14770f24770",
       "value": false
      }
     },
     "708f5337cdda473b91c6895aa27c7d00": {
      "model_module": "@jupyter-widgets/controls",
      "model_module_version": "1.5.0",
      "model_name": "VBoxModel",
      "state": {
       "children": [
        "IPY_MODEL_0574bd13a45f4bc7bfce6eb02fa483fb",
        "IPY_MODEL_d52f344d90d14a1995d2cb80e7ee5e59",
        "IPY_MODEL_627556b7c23f420bb1d85ba5856c5660",
        "IPY_MODEL_d252fea30cf74578bc1acb39f2c4adcd",
        "IPY_MODEL_d3ff51815716421cb833a56b039b7dac",
        "IPY_MODEL_ca5c8ad674b84421a824df9757c1ce6c",
        "IPY_MODEL_e985b2a756dd4b18b7fefb15bc2b18bb",
        "IPY_MODEL_4ce4e85713c543d69693a1110a1d3628"
       ],
       "layout": "IPY_MODEL_25003aa469334c27b4261cb0d6d6057b"
      }
     },
     "7109423ddd11469c9d96d91279058aff": {
      "model_module": "@jupyter-widgets/controls",
      "model_module_version": "1.5.0",
      "model_name": "VBoxModel",
      "state": {
       "children": [
        "IPY_MODEL_87bb1aa5c45945e3966acb5247535e94",
        "IPY_MODEL_25722cb0e8704713b7dbfd1c85e57fd6"
       ],
       "layout": "IPY_MODEL_39759d43e9db49ad8a60df8a615e6cc5"
      }
     },
     "710c0494c4f2451d9be8ffa7ecce7bfb": {
      "model_module": "@jupyter-widgets/base",
      "model_module_version": "1.2.0",
      "model_name": "LayoutModel",
      "state": {}
     },
     "710d57fd8cff400f9d08c39460d8e0cd": {
      "model_module": "@jupyter-widgets/controls",
      "model_module_version": "1.5.0",
      "model_name": "CheckboxModel",
      "state": {
       "description": "suburb_mid",
       "disabled": false,
       "layout": "IPY_MODEL_9b3a9688ee5441be9df4cb32079990e0",
       "style": "IPY_MODEL_07dbc058ea3844728e4eb45b8440c3ff",
       "value": false
      }
     },
     "710d6e55712849048326010ec77ac5dd": {
      "model_module": "@jupyter-widgets/controls",
      "model_module_version": "1.5.0",
      "model_name": "DescriptionStyleModel",
      "state": {
       "description_width": ""
      }
     },
     "717dd9ae453a45c48cd8d5526b9cf97c": {
      "model_module": "@jupyter-widgets/base",
      "model_module_version": "1.2.0",
      "model_name": "LayoutModel",
      "state": {}
     },
     "717fa15435ae4fb7bf46c090e99bfbcc": {
      "model_module": "@jupyter-widgets/base",
      "model_module_version": "1.2.0",
      "model_name": "LayoutModel",
      "state": {}
     },
     "71fc93ab8c8a4cb18c00e3f4906dd8a3": {
      "model_module": "@jupyter-widgets/base",
      "model_module_version": "1.2.0",
      "model_name": "LayoutModel",
      "state": {}
     },
     "7268ca4a341e4c39b3bb7320d593e977": {
      "model_module": "@jupyter-widgets/controls",
      "model_module_version": "1.5.0",
      "model_name": "DescriptionStyleModel",
      "state": {
       "description_width": ""
      }
     },
     "727269b089314ea4b99461524224d765": {
      "model_module": "@jupyter-widgets/base",
      "model_module_version": "1.2.0",
      "model_name": "LayoutModel",
      "state": {}
     },
     "7280469d456a4db68ee1b712744fac74": {
      "model_module": "@jupyter-widgets/controls",
      "model_module_version": "1.5.0",
      "model_name": "CheckboxModel",
      "state": {
       "description": "fall_lab_contact_hrs",
       "disabled": false,
       "layout": "IPY_MODEL_3aa72669d0bb4b988aa1e8b1e2d66601",
       "style": "IPY_MODEL_d3cf016adcaf40b88ec1333b0b8ba103",
       "value": false
      }
     },
     "72f3c91b7f9544b48a19c43f95714df8": {
      "model_module": "@jupyter-widgets/controls",
      "model_module_version": "1.5.0",
      "model_name": "TabModel",
      "state": {
       "_titles": {
        "0": "Background",
        "1": "Characteristics",
        "2": "Coursework",
        "3": "Student Data"
       },
       "children": [
        "IPY_MODEL_cbd7e7abdbdc4fcf9e9b12fe92d61497",
        "IPY_MODEL_a0edae10a9b4478a8da5526b7a15ce5a",
        "IPY_MODEL_69f45f4fa3884f5dae1ec9ccf58a6824",
        "IPY_MODEL_e884eb6a51fd4e2a81e4aeef05861143"
       ],
       "layout": "IPY_MODEL_b1129828060148079e9e07bc672a761c"
      }
     },
     "7319b4eb47bb4b55af503feab4ca48df": {
      "model_module": "@jupyter-widgets/base",
      "model_module_version": "1.2.0",
      "model_name": "LayoutModel",
      "state": {}
     },
     "73253e496e914225863712ff84b5a765": {
      "model_module": "@jupyter-widgets/controls",
      "model_module_version": "1.5.0",
      "model_name": "CheckboxModel",
      "state": {
       "description": "AD_AST",
       "disabled": false,
       "layout": "IPY_MODEL_8172c5d625e14688819874490ecd15a9",
       "style": "IPY_MODEL_15ee9f6bf30640e9b5dcbb15afb36adc",
       "value": false
      }
     },
     "734fe4ad30c548d9a3620e2e38dd273c": {
      "model_module": "@jupyter-widgets/base",
      "model_module_version": "1.2.0",
      "model_name": "LayoutModel",
      "state": {}
     },
     "73703e11c4a44acba5c0f4dc9a3d8840": {
      "model_module": "@jupyter-widgets/base",
      "model_module_version": "1.2.0",
      "model_name": "LayoutModel",
      "state": {}
     },
     "73734f595dcc45cd8e91c606b0f58f56": {
      "model_module": "@jupyter-widgets/base",
      "model_module_version": "1.2.0",
      "model_name": "LayoutModel",
      "state": {}
     },
     "73a5ea9684844918a0140e51cb9ad449": {
      "model_module": "@jupyter-widgets/controls",
      "model_module_version": "1.5.0",
      "model_name": "IntSliderModel",
      "state": {
       "description": "y",
       "layout": "IPY_MODEL_3f5ed89f65ae4309bc35a971f070cbc0",
       "min": 1,
       "style": "IPY_MODEL_8ee40bd7f0a24274bcbf1ea3aa9b14b4",
       "value": 50
      }
     },
     "73d19b8b892f41cb809f4cf10824c9ae": {
      "model_module": "@jupyter-widgets/base",
      "model_module_version": "1.2.0",
      "model_name": "LayoutModel",
      "state": {}
     },
     "740a9ee5d4d248cf990ad1c10fb7c083": {
      "model_module": "@jupyter-widgets/base",
      "model_module_version": "1.2.0",
      "model_name": "LayoutModel",
      "state": {}
     },
     "743854158ccd46a8927bd71a5496e820": {
      "model_module": "@jupyter-widgets/controls",
      "model_module_version": "1.5.0",
      "model_name": "DescriptionStyleModel",
      "state": {
       "description_width": ""
      }
     },
     "74b2b3dcd2a24fbcbc6d51cd312a7c2f": {
      "model_module": "@jupyter-widgets/controls",
      "model_module_version": "1.5.0",
      "model_name": "CheckboxModel",
      "state": {
       "description": "mother_wsu_flag",
       "disabled": false,
       "layout": "IPY_MODEL_1483a4363ce14c4498ed8a8e6af14042",
       "style": "IPY_MODEL_b36e0fd0c371459bb7aa55f468eb68db",
       "value": false
      }
     },
     "74c7c62c67454352867a3f9a1b65f002": {
      "model_module": "@jupyter-widgets/controls",
      "model_module_version": "1.5.0",
      "model_name": "ButtonModel",
      "state": {
       "description": "Build Models",
       "layout": "IPY_MODEL_2ccbd239ed6f4857a3a3324a0657f972",
       "style": "IPY_MODEL_dac71d08036d44ab8c933db22d9d366e"
      }
     },
     "74d43bc072d14860b20d1b5b02052a32": {
      "model_module": "@jupyter-widgets/base",
      "model_module_version": "1.2.0",
      "model_name": "LayoutModel",
      "state": {}
     },
     "757c697c0b4a4efa9be8bc825157080d": {
      "model_module": "@jupyter-widgets/base",
      "model_module_version": "1.2.0",
      "model_name": "LayoutModel",
      "state": {}
     },
     "7587428b249f424db69aa8207e70705f": {
      "model_module": "@jupyter-widgets/base",
      "model_module_version": "1.2.0",
      "model_name": "LayoutModel",
      "state": {
       "flex_flow": "row wrap"
      }
     },
     "75c36ae450284d089421fe6cd9577d44": {
      "model_module": "@jupyter-widgets/controls",
      "model_module_version": "1.5.0",
      "model_name": "DescriptionStyleModel",
      "state": {
       "description_width": ""
      }
     },
     "75caca2e31384a2c9010949beb09d0b0": {
      "model_module": "@jupyter-widgets/controls",
      "model_module_version": "1.5.0",
      "model_name": "DescriptionStyleModel",
      "state": {
       "description_width": ""
      }
     },
     "76149bdc9f124642b7c4b7090de3d389": {
      "model_module": "@jupyter-widgets/controls",
      "model_module_version": "1.5.0",
      "model_name": "CheckboxModel",
      "state": {
       "description": "rural_fringe",
       "disabled": false,
       "layout": "IPY_MODEL_51c236980ab4497d844f90cbca781ba2",
       "style": "IPY_MODEL_82f1a7952a964f0d849ed41a72620818",
       "value": false
      }
     },
     "7629a7f2048a4ec28fab8b0d72f27b70": {
      "model_module": "@jupyter-widgets/base",
      "model_module_version": "1.2.0",
      "model_name": "LayoutModel",
      "state": {}
     },
     "76711571c72c486a8f53084d65e19268": {
      "model_module": "@jupyter-widgets/controls",
      "model_module_version": "1.5.0",
      "model_name": "DropdownModel",
      "state": {
       "_options_labels": [
        "emplid",
        "enrl_ind",
        "acad_year",
        "count_week_from_term_begin_dt",
        "father_wsu_flag",
        "parent1_highest_educ_lvl",
        "parent2_highest_educ_lvl"
       ],
       "description": "x",
       "index": 5,
       "layout": "IPY_MODEL_d90fc91bed5f418cae2f14712ab3c0a9",
       "style": "IPY_MODEL_3e5087b5bf6e439a83c33eff8e6b91c9"
      }
     },
     "76a665ddb490425d9e697437be09ef05": {
      "model_module": "@jupyter-widgets/controls",
      "model_module_version": "1.5.0",
      "model_name": "SliderStyleModel",
      "state": {
       "description_width": ""
      }
     },
     "76ee51c2617e49dd96a347e01ea5e178": {
      "model_module": "@jupyter-widgets/base",
      "model_module_version": "1.2.0",
      "model_name": "LayoutModel",
      "state": {}
     },
     "7702c352848249f5a21919a3ca10f590": {
      "model_module": "@jupyter-widgets/base",
      "model_module_version": "1.2.0",
      "model_name": "LayoutModel",
      "state": {}
     },
     "77277d36df5a44b1954c4058a33ff8cb": {
      "model_module": "@jupyter-widgets/base",
      "model_module_version": "1.2.0",
      "model_name": "LayoutModel",
      "state": {}
     },
     "77dfb6ee80894f42a64981f6961a15fc": {
      "model_module": "@jupyter-widgets/controls",
      "model_module_version": "1.5.0",
      "model_name": "IntSliderModel",
      "state": {
       "description": "y",
       "layout": "IPY_MODEL_8c04b650f0d94f259987a88c203e3ca1",
       "min": 1,
       "style": "IPY_MODEL_2b81b561a0e2498d9527f6a2ad43b6f8",
       "value": 50
      }
     },
     "77fced1865b94cd586988b70a4b1fbae": {
      "model_module": "@jupyter-widgets/controls",
      "model_module_version": "1.5.0",
      "model_name": "VBoxModel",
      "state": {
       "children": [
        "IPY_MODEL_1dc54c5f70df43d693f9163f9a10b9f4",
        "IPY_MODEL_4879353af5084c1e8e01896d28bd261c",
        "IPY_MODEL_c9d58422a32646c580b23f8d5ef54ba8",
        "IPY_MODEL_c26aee56750f4ed08ec8ccd484e14226",
        "IPY_MODEL_98e78a715c7447c38338b7510a1c8c96",
        "IPY_MODEL_45da40771cca4c7f8a543a8c177b1da2",
        "IPY_MODEL_125877fc42bd4702a8376b5b0e54aaca",
        "IPY_MODEL_fbb5ae12b38b453f8c4aacb2aea8f640",
        "IPY_MODEL_126d46e551f24807bb6573f399bc41cb",
        "IPY_MODEL_e0e1d575150a48e1a3e2034e777372bd",
        "IPY_MODEL_fc6cb60cc6af4391a6df446f0d083a3b",
        "IPY_MODEL_c5b55aa7864b44178c532bbc5cabb164",
        "IPY_MODEL_a6e02086948e443e8b686b9d86bf1ded",
        "IPY_MODEL_0162494605514262b7d6968e03506c6e"
       ],
       "layout": "IPY_MODEL_0376931d8179403c986105cdcf4a457b"
      }
     },
     "78074ba59d4e45e6832b3803919b1936": {
      "model_module": "@jupyter-widgets/controls",
      "model_module_version": "1.5.0",
      "model_name": "DescriptionStyleModel",
      "state": {
       "description_width": ""
      }
     },
     "783248b85cdb4a3bb1584a6124ad4f53": {
      "model_module": "@jupyter-widgets/base",
      "model_module_version": "1.2.0",
      "model_name": "LayoutModel",
      "state": {}
     },
     "785243a74fa54c5683158ad65dae93ba": {
      "model_module": "@jupyter-widgets/base",
      "model_module_version": "1.2.0",
      "model_name": "LayoutModel",
      "state": {}
     },
     "785572bef79c4b2185969fc5b6d45591": {
      "model_module": "@jupyter-widgets/base",
      "model_module_version": "1.2.0",
      "model_name": "LayoutModel",
      "state": {}
     },
     "786460f89f1b43438a9ed0af8685649b": {
      "model_module": "@jupyter-widgets/controls",
      "model_module_version": "1.5.0",
      "model_name": "CheckboxModel",
      "state": {
       "description": "vcea_desn",
       "disabled": false,
       "layout": "IPY_MODEL_5255c9f16e1a454cb75d842688ee6773",
       "style": "IPY_MODEL_75caca2e31384a2c9010949beb09d0b0",
       "value": false
      }
     },
     "78746251740543b7a647560d88ea0b9a": {
      "model_module": "@jupyter-widgets/controls",
      "model_module_version": "1.5.0",
      "model_name": "CheckboxModel",
      "state": {
       "description": "fall_avg_pct_DF",
       "disabled": false,
       "layout": "IPY_MODEL_7702c352848249f5a21919a3ca10f590",
       "style": "IPY_MODEL_5cd859232489485c8590168275bc3274",
       "value": false
      }
     },
     "789eedbcd5044339a9e2af1955d25812": {
      "model_module": "@jupyter-widgets/controls",
      "model_module_version": "1.5.0",
      "model_name": "CheckboxModel",
      "state": {
       "description": "cas",
       "disabled": false,
       "layout": "IPY_MODEL_d860a47ae1cb414aa484dbd4f61de6f4",
       "style": "IPY_MODEL_3062e3bb455541beb6a8666d64b2ea37",
       "value": false
      }
     },
     "79592c3ba6294e8dbe1a55286d27ac9f": {
      "model_module": "@jupyter-widgets/controls",
      "model_module_version": "1.5.0",
      "model_name": "VBoxModel",
      "state": {
       "_dom_classes": [
        "widget-interact"
       ],
       "children": [
        "IPY_MODEL_ea4669d6524b47afa9d3eb8dc0e6725b",
        "IPY_MODEL_77dfb6ee80894f42a64981f6961a15fc",
        "IPY_MODEL_d66842f4c1c64436bae47fbfc5ca6bab"
       ],
       "layout": "IPY_MODEL_f7dfe3efb3fa47bc880d0697c0439b18"
      }
     },
     "7a16e81ea0d14b308a0d929e10842469": {
      "model_module": "@jupyter-widgets/base",
      "model_module_version": "1.2.0",
      "model_name": "LayoutModel",
      "state": {}
     },
     "7a7aee91b5d340ac999632bfd79fc546": {
      "model_module": "@jupyter-widgets/controls",
      "model_module_version": "1.5.0",
      "model_name": "DescriptionStyleModel",
      "state": {
       "description_width": ""
      }
     },
     "7b133f79a3fd4832ada850a1cb6832d0": {
      "model_module": "@jupyter-widgets/controls",
      "model_module_version": "1.5.0",
      "model_name": "DescriptionStyleModel",
      "state": {
       "description_width": ""
      }
     },
     "7b8fdb5f8f234df68431c47db2aa7635": {
      "model_module": "@jupyter-widgets/base",
      "model_module_version": "1.2.0",
      "model_name": "LayoutModel",
      "state": {}
     },
     "7b94114ec1544da9a640a2d4de05d9ed": {
      "model_module": "@jupyter-widgets/controls",
      "model_module_version": "1.5.0",
      "model_name": "CheckboxModel",
      "state": {
       "description": "spring_midterm_gpa_change",
       "disabled": false,
       "layout": "IPY_MODEL_031d2278344b4641afa0f8b314af4d37",
       "style": "IPY_MODEL_193ed516f3d640fc85a759c0c8cf2c64",
       "value": false
      }
     },
     "7c46861757db4a2aabfe8855a528968e": {
      "model_module": "@jupyter-widgets/controls",
      "model_module_version": "1.5.0",
      "model_name": "DropdownModel",
      "state": {
       "_options_labels": [
        "emplid",
        "enrl_ind",
        "acad_year",
        "count_week_from_term_begin_dt",
        "father_wsu_flag",
        "parent1_highest_educ_lvl",
        "parent2_highest_educ_lvl"
       ],
       "description": "x",
       "index": 3,
       "layout": "IPY_MODEL_1a1f4a49789a4dbbac8ef367c7502121",
       "style": "IPY_MODEL_1a43f75dc63f456e8fe55da73bb9812e"
      }
     },
     "7c6eabe2980a44619bd39ffd6847b547": {
      "model_module": "@jupyter-widgets/controls",
      "model_module_version": "1.5.0",
      "model_name": "CheckboxModel",
      "state": {
       "description": "attendee_any_visitation_ind",
       "disabled": false,
       "layout": "IPY_MODEL_b5e5eb1225644bfe9d5e11252d1de43d",
       "style": "IPY_MODEL_29f1efa07f164dccadb7512d391f6bc0",
       "value": false
      }
     },
     "7c8b3010a03647cd960b8e619e4b7f81": {
      "model_module": "@jupyter-widgets/controls",
      "model_module_version": "1.5.0",
      "model_name": "SliderStyleModel",
      "state": {
       "description_width": ""
      }
     },
     "7d039e33359c4a39b37d8ff677d454c6": {
      "model_module": "@jupyter-widgets/controls",
      "model_module_version": "1.5.0",
      "model_name": "CheckboxModel",
      "state": {
       "description": "total_fall_units",
       "disabled": false,
       "layout": "IPY_MODEL_3b27a9f45acd4899a2b940c6bf8e5227",
       "style": "IPY_MODEL_fe4cd603da4d4161be7d9d0e1ee37348",
       "value": false
      }
     },
     "7d5b7e931fc8412c8887f172759d643b": {
      "model_module": "@jupyter-widgets/controls",
      "model_module_version": "1.5.0",
      "model_name": "ButtonModel",
      "state": {
       "description": "Import Dataset",
       "layout": "IPY_MODEL_fb1ba93a91ba40aca12ce186a4dfe343",
       "style": "IPY_MODEL_679a0208692041c0938840888f1d2b8c"
      }
     },
     "7d70f30b005e4eee8915b3e1d0773896": {
      "model_module": "@jupyter-widgets/base",
      "model_module_version": "1.2.0",
      "model_name": "LayoutModel",
      "state": {}
     },
     "7d9893d37eb44e43b5fd98f2233140a8": {
      "model_module": "@jupyter-widgets/controls",
      "model_module_version": "1.5.0",
      "model_name": "DescriptionStyleModel",
      "state": {
       "description_width": ""
      }
     },
     "7df2ad43876e406eb22ce07ae190ff38": {
      "model_module": "@jupyter-widgets/controls",
      "model_module_version": "1.5.0",
      "model_name": "DescriptionStyleModel",
      "state": {
       "description_width": ""
      }
     },
     "7df3884df5194b65a42dacde1e5a7a41": {
      "model_module": "@jupyter-widgets/controls",
      "model_module_version": "1.5.0",
      "model_name": "CheckboxModel",
      "state": {
       "description": "vcea_bioe",
       "disabled": false,
       "layout": "IPY_MODEL_4106915930f94e50a5d568a73f7a368d",
       "style": "IPY_MODEL_ebcae13e7f4d4b8c80e85bf4276ad0e9",
       "value": false
      }
     },
     "7e12b2d1c86c4d22bab181e08174eb8f": {
      "model_module": "@jupyter-widgets/controls",
      "model_module_version": "1.5.0",
      "model_name": "DescriptionStyleModel",
      "state": {
       "description_width": ""
      }
     },
     "7e132e1d86f94bc5992d6e2f08faca62": {
      "model_module": "@jupyter-widgets/base",
      "model_module_version": "1.2.0",
      "model_name": "LayoutModel",
      "state": {}
     },
     "7e58fec618354f08808470c6be5159ef": {
      "model_module": "@jupyter-widgets/base",
      "model_module_version": "1.2.0",
      "model_name": "LayoutModel",
      "state": {}
     },
     "7e6536efe8554dcb8cb5660c00757c71": {
      "model_module": "@jupyter-widgets/base",
      "model_module_version": "1.2.0",
      "model_name": "LayoutModel",
      "state": {}
     },
     "7e730065a2f7489f84ddd34b67a9b18d": {
      "model_module": "@jupyter-widgets/controls",
      "model_module_version": "1.5.0",
      "model_name": "DescriptionStyleModel",
      "state": {
       "description_width": ""
      }
     },
     "7ead243355d94f57b4d50e7da19f1ece": {
      "model_module": "@jupyter-widgets/base",
      "model_module_version": "1.2.0",
      "model_name": "LayoutModel",
      "state": {}
     },
     "7eb7f3869d9d47f694786629c008bb64": {
      "model_module": "@jupyter-widgets/controls",
      "model_module_version": "1.5.0",
      "model_name": "CheckboxModel",
      "state": {
       "description": "count_week_from_term_begin_dt",
       "disabled": false,
       "layout": "IPY_MODEL_91e06ee92b4941a3936541645060a510",
       "style": "IPY_MODEL_1afa4a06897a4a56a5234cd9a00e2014",
       "value": true
      }
     },
     "7eead84764f9418eb44ceac924d5d6d3": {
      "model_module": "@jupyter-widgets/controls",
      "model_module_version": "1.5.0",
      "model_name": "DescriptionStyleModel",
      "state": {
       "description_width": ""
      }
     },
     "7f85327f40c04a40bcb17ff101d53e98": {
      "model_module": "@jupyter-widgets/base",
      "model_module_version": "1.2.0",
      "model_name": "LayoutModel",
      "state": {}
     },
     "7fe9b06ec4a941eda00f5cc3ad60922f": {
      "model_module": "@jupyter-widgets/output",
      "model_module_version": "1.0.0",
      "model_name": "OutputModel",
      "state": {
       "layout": "IPY_MODEL_089a6a68bb404a01a1a33263ba050f26",
       "outputs": [
        {
         "data": {
          "application/vnd.jupyter.widget-view+json": {
           "model_id": "",
           "version_major": 2,
           "version_minor": 0
          },
          "text/plain": "interactive(children=(Dropdown(description='x', options=('emplid', 'enrl_ind', 'acad_year', 'count_week_from_t…"
         },
         "metadata": {},
         "output_type": "display_data"
        },
        {
         "data": {
          "application/vnd.jupyter.widget-view+json": {
           "model_id": "",
           "version_major": 2,
           "version_minor": 0
          },
          "text/plain": "interactive(children=(Dropdown(description='x', options=('emplid', 'enrl_ind', 'acad_year', 'count_week_from_t…"
         },
         "metadata": {},
         "output_type": "display_data"
        }
       ]
      }
     },
     "803049680f1a4031ad5e3f10b011ed45": {
      "model_module": "@jupyter-widgets/controls",
      "model_module_version": "1.5.0",
      "model_name": "DropdownModel",
      "state": {
       "_options_labels": [
        "emplid",
        "enrl_ind",
        "acad_year",
        "count_week_from_term_begin_dt",
        "father_wsu_flag",
        "parent1_highest_educ_lvl",
        "parent2_highest_educ_lvl"
       ],
       "description": "x",
       "index": 5,
       "layout": "IPY_MODEL_5136c370da114b2ba7ea897f73df4f3c",
       "style": "IPY_MODEL_6bb8fa40fa3443fea5059dc4a6d11b57"
      }
     },
     "8172c5d625e14688819874490ecd15a9": {
      "model_module": "@jupyter-widgets/base",
      "model_module_version": "1.2.0",
      "model_name": "LayoutModel",
      "state": {}
     },
     "8188bb0cfb76432d8266922880699ebd": {
      "model_module": "@jupyter-widgets/base",
      "model_module_version": "1.2.0",
      "model_name": "LayoutModel",
      "state": {}
     },
     "825ba562b54244e0b7e94dc7cf755813": {
      "model_module": "@jupyter-widgets/base",
      "model_module_version": "1.2.0",
      "model_name": "LayoutModel",
      "state": {}
     },
     "828e0eaae38a42728d0dc6adc816e063": {
      "model_module": "@jupyter-widgets/controls",
      "model_module_version": "1.5.0",
      "model_name": "ButtonStyleModel",
      "state": {}
     },
     "82982dd3f1b247b1aa5335717f2b4ffd": {
      "model_module": "@jupyter-widgets/controls",
      "model_module_version": "1.5.0",
      "model_name": "DescriptionStyleModel",
      "state": {
       "description_width": ""
      }
     },
     "82af5dfe4cc3424e9200f3578dc175b7": {
      "model_module": "@jupyter-widgets/base",
      "model_module_version": "1.2.0",
      "model_name": "LayoutModel",
      "state": {}
     },
     "82d309d7c86a419ead0e526e48843b99": {
      "model_module": "@jupyter-widgets/controls",
      "model_module_version": "1.5.0",
      "model_name": "DescriptionStyleModel",
      "state": {
       "description_width": ""
      }
     },
     "82f1a7952a964f0d849ed41a72620818": {
      "model_module": "@jupyter-widgets/controls",
      "model_module_version": "1.5.0",
      "model_name": "DescriptionStyleModel",
      "state": {
       "description_width": ""
      }
     },
     "82f6779a2d9648628513c1e4049c8464": {
      "model_module": "@jupyter-widgets/controls",
      "model_module_version": "1.5.0",
      "model_name": "CheckboxModel",
      "state": {
       "description": "attendee_shaping",
       "disabled": false,
       "layout": "IPY_MODEL_6f26b48297ef4deab99b12b9b5c82d4f",
       "style": "IPY_MODEL_fd3d35d1004245b5bb0f664847faf7d4",
       "value": false
      }
     },
     "832b3020d3cc4d7ab6573cfb18343b04": {
      "model_module": "@jupyter-widgets/controls",
      "model_module_version": "1.5.0",
      "model_name": "CheckboxModel",
      "state": {
       "description": "pvrt_rate",
       "disabled": false,
       "layout": "IPY_MODEL_9da227c5d3c746da98576c6b03d6b03d",
       "style": "IPY_MODEL_d29803fd0e0b4fa080520cee36cbaa00",
       "value": false
      }
     },
     "83529c73102e4cb987ccd252a7cb6760": {
      "model_module": "@jupyter-widgets/controls",
      "model_module_version": "1.5.0",
      "model_name": "DescriptionStyleModel",
      "state": {
       "description_width": ""
      }
     },
     "83622e3f6c724e7a93847d94971b3029": {
      "model_module": "@jupyter-widgets/controls",
      "model_module_version": "1.5.0",
      "model_name": "DescriptionStyleModel",
      "state": {
       "description_width": ""
      }
     },
     "83a4bdd623cf4e95b194b88af9112384": {
      "model_module": "@jupyter-widgets/controls",
      "model_module_version": "1.5.0",
      "model_name": "CheckboxModel",
      "state": {
       "description": "median_value",
       "disabled": false,
       "layout": "IPY_MODEL_ddcc1bc6be754c20a084989e3b4aa31e",
       "style": "IPY_MODEL_ab2bf24acdcb46ae980dd1e8c5730a8a",
       "value": false
      }
     },
     "83d9ece82983479bbdbf89b874e638de": {
      "model_module": "@jupyter-widgets/controls",
      "model_module_version": "1.5.0",
      "model_name": "CheckboxModel",
      "state": {
       "description": "race_hispanic",
       "disabled": false,
       "layout": "IPY_MODEL_0966d4373d524e8e91a98c47047edd49",
       "style": "IPY_MODEL_06c04569d5db4023b4e8f051b196b70a",
       "value": false
      }
     },
     "83e6ada0508f4551a1eeb956301fbb18": {
      "model_module": "@jupyter-widgets/controls",
      "model_module_version": "1.5.0",
      "model_name": "DescriptionStyleModel",
      "state": {
       "description_width": ""
      }
     },
     "8405740b174f4603a536b675bdb0949c": {
      "model_module": "@jupyter-widgets/controls",
      "model_module_version": "1.5.0",
      "model_name": "CheckboxModel",
      "state": {
       "description": "vet_med",
       "disabled": false,
       "layout": "IPY_MODEL_f652e646e00b44c68c1f73851adedc19",
       "style": "IPY_MODEL_57a10bf33a53418cbaa833d59ab3b36b",
       "value": false
      }
     },
     "841da6b789d4446d9222f7a4092f2c2f": {
      "model_module": "@jupyter-widgets/base",
      "model_module_version": "1.2.0",
      "model_name": "LayoutModel",
      "state": {}
     },
     "8431972813184c7083f605923388b062": {
      "model_module": "@jupyter-widgets/controls",
      "model_module_version": "1.5.0",
      "model_name": "CheckboxModel",
      "state": {
       "description": "vcea",
       "disabled": false,
       "layout": "IPY_MODEL_3bafc0dcb88740fe805f52b1274230cf",
       "style": "IPY_MODEL_c04eff37a1d741d88ba6e609a0f89b23",
       "value": false
      }
     },
     "845531f4cd7d4414b61f692ee910663b": {
      "model_module": "@jupyter-widgets/base",
      "model_module_version": "1.2.0",
      "model_name": "LayoutModel",
      "state": {}
     },
     "846d192dc3514fd6bd31743a2a542f7f": {
      "model_module": "@jupyter-widgets/controls",
      "model_module_version": "1.5.0",
      "model_name": "VBoxModel",
      "state": {
       "children": [
        "IPY_MODEL_da8c8f8b84d5469180d62ea15cdfaa10",
        "IPY_MODEL_73253e496e914225863712ff84b5a765",
        "IPY_MODEL_d339f566d8e6495a84d28b4bc73a6fb6",
        "IPY_MODEL_17f4635fdb73450aaf3165044cb8502c",
        "IPY_MODEL_1e0c6f9d7db64246a71a9e19bd53aa91",
        "IPY_MODEL_3998ae32d5e24fa28dff464f029af439",
        "IPY_MODEL_b256199d363e4dcaaaf30e8d92951385",
        "IPY_MODEL_5ebe43b1a2d64c9e852703e60decf33d"
       ],
       "layout": "IPY_MODEL_c1115ace0eee464696bafb460a0703e5"
      }
     },
     "84c6974158fe4d9c9d0f703e08381fa2": {
      "model_module": "@jupyter-widgets/base",
      "model_module_version": "1.2.0",
      "model_name": "LayoutModel",
      "state": {}
     },
     "84d00c4755a84e90a7911fa1441851f9": {
      "model_module": "@jupyter-widgets/controls",
      "model_module_version": "1.5.0",
      "model_name": "DescriptionStyleModel",
      "state": {
       "description_width": ""
      }
     },
     "84d46cc587be46fface1f5de1c48b442": {
      "model_module": "@jupyter-widgets/controls",
      "model_module_version": "1.5.0",
      "model_name": "VBoxModel",
      "state": {
       "children": [
        "IPY_MODEL_19ab709869744f78ba44e0eeab273801",
        "IPY_MODEL_328266fbab9b44669055b183e9eaa933",
        "IPY_MODEL_b53fa1d4438940ad92bd36460a1dd51d",
        "IPY_MODEL_4b12fccccd014b7ab871c27aa83a5d83",
        "IPY_MODEL_3bd3c71fcdfb4bf8ba86356488f7f432",
        "IPY_MODEL_c9bf8fec5d8940f9a00b67900d159924",
        "IPY_MODEL_c6819e1abce74e8fb6428797e47ac73b",
        "IPY_MODEL_0164dec5cb12466984e555abfb374891"
       ],
       "layout": "IPY_MODEL_cd41e8b0369d4cdf9a2ed7b0ca69e577"
      }
     },
     "857eec79dd5842cfb5c14c3ce55fc055": {
      "model_module": "@jupyter-widgets/base",
      "model_module_version": "1.2.0",
      "model_name": "LayoutModel",
      "state": {}
     },
     "85a29a01ca64452f8ee756946907b363": {
      "model_module": "@jupyter-widgets/base",
      "model_module_version": "1.2.0",
      "model_name": "LayoutModel",
      "state": {}
     },
     "85ad4cf99c1848e4abc30d84fa970537": {
      "model_module": "@jupyter-widgets/base",
      "model_module_version": "1.2.0",
      "model_name": "LayoutModel",
      "state": {}
     },
     "85c4e960c2884ecc97802d826ef9c04a": {
      "model_module": "@jupyter-widgets/base",
      "model_module_version": "1.2.0",
      "model_name": "LayoutModel",
      "state": {}
     },
     "85cf590fcefd4be9ad5372c117d3673e": {
      "model_module": "@jupyter-widgets/base",
      "model_module_version": "1.2.0",
      "model_name": "LayoutModel",
      "state": {}
     },
     "86070b612477486cbc0a342ab5325c76": {
      "model_module": "@jupyter-widgets/base",
      "model_module_version": "1.2.0",
      "model_name": "LayoutModel",
      "state": {}
     },
     "863c0de8da924f5caf828a443db0bfa9": {
      "model_module": "@jupyter-widgets/controls",
      "model_module_version": "1.5.0",
      "model_name": "CheckboxModel",
      "state": {
       "description": "spring_midterm_gpa_avg",
       "disabled": false,
       "layout": "IPY_MODEL_f4e0c29a35ce423983d90aff73495293",
       "style": "IPY_MODEL_c9ff1addae0146c4af24d82ca86214ee",
       "value": false
      }
     },
     "86646fd0d5b344e8b1bb24ad4b3d82bc": {
      "model_module": "@jupyter-widgets/base",
      "model_module_version": "1.2.0",
      "model_name": "LayoutModel",
      "state": {}
     },
     "86adca66c6464dc9ba0af649939053e3": {
      "model_module": "@jupyter-widgets/base",
      "model_module_version": "1.2.0",
      "model_name": "LayoutModel",
      "state": {}
     },
     "86cd96fd1cc1440985ab42abfbf16dab": {
      "model_module": "@jupyter-widgets/base",
      "model_module_version": "1.2.0",
      "model_name": "LayoutModel",
      "state": {}
     },
     "86f7eb5a7d9b4d9fa9bbf1b6190d20d2": {
      "model_module": "@jupyter-widgets/base",
      "model_module_version": "1.2.0",
      "model_name": "LayoutModel",
      "state": {}
     },
     "86f87eff9fe84b9da513f0cd8dae78ad": {
      "model_module": "@jupyter-widgets/controls",
      "model_module_version": "1.5.0",
      "model_name": "VBoxModel",
      "state": {
       "children": [
        "IPY_MODEL_2e59ccc0dd244887a93cacae1c0a77da",
        "IPY_MODEL_69f417de4d494afea084817399563148"
       ],
       "layout": "IPY_MODEL_e854694fd1e24cb78abeca4440ebea27"
      }
     },
     "87bb1aa5c45945e3966acb5247535e94": {
      "model_module": "@jupyter-widgets/controls",
      "model_module_version": "1.5.0",
      "model_name": "ButtonModel",
      "state": {
       "description": "Import Dataset",
       "layout": "IPY_MODEL_b0f54becc55f43b3b25ac7f328f4f915",
       "style": "IPY_MODEL_0accdd8c4e4c422c9e2e835088940772"
      }
     },
     "880c3af2081044a1b20f717318361dae": {
      "model_module": "@jupyter-widgets/controls",
      "model_module_version": "1.5.0",
      "model_name": "DescriptionStyleModel",
      "state": {
       "description_width": ""
      }
     },
     "8813bf4424294d89aac6de016594ecb4": {
      "model_module": "@jupyter-widgets/base",
      "model_module_version": "1.2.0",
      "model_name": "LayoutModel",
      "state": {}
     },
     "88233463747b4f6a92b1131026d31470": {
      "model_module": "@jupyter-widgets/base",
      "model_module_version": "1.2.0",
      "model_name": "LayoutModel",
      "state": {}
     },
     "882d28f0957d46d092be06a3a6c00eeb": {
      "model_module": "@jupyter-widgets/base",
      "model_module_version": "1.2.0",
      "model_name": "LayoutModel",
      "state": {}
     },
     "88580cfce0584c6ba8e556f92f3687e1": {
      "model_module": "@jupyter-widgets/controls",
      "model_module_version": "1.5.0",
      "model_name": "VBoxModel",
      "state": {
       "children": [
        "IPY_MODEL_3c2bcfbb5ae149f38b1193bb58daab20",
        "IPY_MODEL_4f7774a597ca4c938f54b3d6068d4fde",
        "IPY_MODEL_31bf59ffc6da439598f91909551bc155",
        "IPY_MODEL_cb7ba7893ccb4155a74ea3487dca6e96",
        "IPY_MODEL_452d96e15270482f9872de708915a923",
        "IPY_MODEL_ec28c82a404141088dcf8338dce8ce05",
        "IPY_MODEL_049f86f956bb41bcb23293f45b50567e",
        "IPY_MODEL_158f97012d2449488bb7a9d39c2d6a2c",
        "IPY_MODEL_d71121d084d24c468af5d11c2a6c93be",
        "IPY_MODEL_8a5b254e03374ad987cc8f8d485d52ab",
        "IPY_MODEL_78746251740543b7a647560d88ea0b9a",
        "IPY_MODEL_2eb1aa694d1f48608afa5ac00e9dd90d",
        "IPY_MODEL_3a4304a36d86461191a749157a6e9ac9",
        "IPY_MODEL_a307f393704c49bcaf865979321a3154",
        "IPY_MODEL_0251226530fc4c5680c62092f721868c",
        "IPY_MODEL_ea8bb67ce0e948b0bd91c7f023dc2792",
        "IPY_MODEL_bda08e6cf5004bc8ac3d92b711dc7741",
        "IPY_MODEL_365d959540ec41418154eeeb66f8022e",
        "IPY_MODEL_f0a4d26f27174d80a4e529e6ce383d08",
        "IPY_MODEL_d88584c0152a482786219d41c122097b",
        "IPY_MODEL_d5d19176b1804820a15ce650cf77e959",
        "IPY_MODEL_5269ce5bee934a8292f7e59c98921408",
        "IPY_MODEL_8a872103dbbd491d8082cb13f84809e2",
        "IPY_MODEL_2b2ddfe62263449e8b66614ca9340935",
        "IPY_MODEL_bc59d3043ef64cdfadecea180a9132b1",
        "IPY_MODEL_d458518255e249728bb72885e8efe634"
       ],
       "layout": "IPY_MODEL_6f6fe347f10e4bff8edfdc48d9d6793d"
      }
     },
     "8899c7a7807845c792937c0750399b0d": {
      "model_module": "@jupyter-widgets/controls",
      "model_module_version": "1.5.0",
      "model_name": "DropdownModel",
      "state": {
       "_options_labels": [
        "emplid",
        "enrl_ind",
        "acad_year",
        "count_week_from_term_begin_dt",
        "father_wsu_flag",
        "parent1_highest_educ_lvl",
        "parent2_highest_educ_lvl"
       ],
       "description": "x",
       "index": 0,
       "layout": "IPY_MODEL_7d70f30b005e4eee8915b3e1d0773896",
       "style": "IPY_MODEL_e32b3f9098eb4e098df5a209a1e26b0b"
      }
     },
     "8905a4657f2540ae94273fda50fca6eb": {
      "model_module": "@jupyter-widgets/controls",
      "model_module_version": "1.5.0",
      "model_name": "IntSliderModel",
      "state": {
       "description": "y",
       "layout": "IPY_MODEL_610e1790ca92475a952af64fea5eeb3a",
       "min": 1,
       "style": "IPY_MODEL_ae62559507a243c9a20baec3b21f3401",
       "value": 50
      }
     },
     "892996559be647c7b54a871f200c8cfe": {
      "model_module": "@jupyter-widgets/controls",
      "model_module_version": "1.5.0",
      "model_name": "DescriptionStyleModel",
      "state": {
       "description_width": ""
      }
     },
     "899691bf259344a0858c5c4cb76b22ff": {
      "model_module": "@jupyter-widgets/controls",
      "model_module_version": "1.5.0",
      "model_name": "VBoxModel",
      "state": {
       "_dom_classes": [
        "widget-interact"
       ],
       "children": [
        "IPY_MODEL_a8967148281d43b79992596ec6f72758",
        "IPY_MODEL_a461477e1198410c812de87422c44ba4",
        "IPY_MODEL_9dadfa188131461aa777a20b980248fe"
       ],
       "layout": "IPY_MODEL_189edeba79984c619dca8a015d7f8505"
      }
     },
     "89c560c8804447ee862d844102dc6fd6": {
      "model_module": "@jupyter-widgets/base",
      "model_module_version": "1.2.0",
      "model_name": "LayoutModel",
      "state": {}
     },
     "8a01916e5ab048f0b08bfb45820f6b64": {
      "model_module": "@jupyter-widgets/controls",
      "model_module_version": "1.5.0",
      "model_name": "VBoxModel",
      "state": {
       "_dom_classes": [
        "widget-interact"
       ],
       "children": [
        "IPY_MODEL_8d7725ba915741bd9423522c9267f352",
        "IPY_MODEL_c2132fd34e6547fcb491b8c91bd4e4ea",
        "IPY_MODEL_bef58f7e3f1342d1b645dff884b18877"
       ],
       "layout": "IPY_MODEL_85c4e960c2884ecc97802d826ef9c04a"
      }
     },
     "8a043464324a4b5d8653e8ab7ba288ef": {
      "model_module": "@jupyter-widgets/controls",
      "model_module_version": "1.5.0",
      "model_name": "DescriptionStyleModel",
      "state": {
       "description_width": ""
      }
     },
     "8a3c0d3bc93b4ad0bedffba5ad16f322": {
      "model_module": "@jupyter-widgets/controls",
      "model_module_version": "1.5.0",
      "model_name": "DescriptionStyleModel",
      "state": {
       "description_width": ""
      }
     },
     "8a52c18cca334521aadb30b1a4662af6": {
      "model_module": "@jupyter-widgets/controls",
      "model_module_version": "1.5.0",
      "model_name": "DescriptionStyleModel",
      "state": {
       "description_width": ""
      }
     },
     "8a5b254e03374ad987cc8f8d485d52ab": {
      "model_module": "@jupyter-widgets/controls",
      "model_module_version": "1.5.0",
      "model_name": "CheckboxModel",
      "state": {
       "description": "fall_avg_pct_DFW",
       "disabled": false,
       "layout": "IPY_MODEL_0c5483c2e17943ed9050715874940ca2",
       "style": "IPY_MODEL_41d2946404f842d6b411c049f41766ea",
       "value": false
      }
     },
     "8a872103dbbd491d8082cb13f84809e2": {
      "model_module": "@jupyter-widgets/controls",
      "model_module_version": "1.5.0",
      "model_name": "CheckboxModel",
      "state": {
       "description": "spring_lab_contact_hrs",
       "disabled": false,
       "layout": "IPY_MODEL_7a16e81ea0d14b308a0d929e10842469",
       "style": "IPY_MODEL_227585e3c0574d79a6fef3f25bce3de9",
       "value": false
      }
     },
     "8aa242cea9fe400783e76c7817ca6c1e": {
      "model_module": "@jupyter-widgets/base",
      "model_module_version": "1.2.0",
      "model_name": "LayoutModel",
      "state": {}
     },
     "8aba60cdb08c440c8f6ece3d2dc7af8e": {
      "model_module": "@jupyter-widgets/controls",
      "model_module_version": "1.5.0",
      "model_name": "DescriptionStyleModel",
      "state": {
       "description_width": ""
      }
     },
     "8ac27eccaf3244f2ad9385494fc692eb": {
      "model_module": "@jupyter-widgets/controls",
      "model_module_version": "1.5.0",
      "model_name": "DescriptionStyleModel",
      "state": {
       "description_width": ""
      }
     },
     "8afc13f3b6e944cf9ed718db1383a13f": {
      "model_module": "@jupyter-widgets/controls",
      "model_module_version": "1.5.0",
      "model_name": "ButtonStyleModel",
      "state": {}
     },
     "8afc9e39a3fa4d45afabbe84d0e1a457": {
      "model_module": "@jupyter-widgets/base",
      "model_module_version": "1.2.0",
      "model_name": "LayoutModel",
      "state": {}
     },
     "8b0bdf57de47414daf8ec2e927eb26e5": {
      "model_module": "@jupyter-widgets/controls",
      "model_module_version": "1.5.0",
      "model_name": "DropdownModel",
      "state": {
       "_options_labels": [
        "emplid",
        "enrl_ind",
        "count_week_from_term_begin_dt",
        "parent1_highest_educ_lvl",
        "parent2_highest_educ_lvl"
       ],
       "description": "x",
       "index": 0,
       "layout": "IPY_MODEL_3bafb490607f4624b4094dd96084f209",
       "style": "IPY_MODEL_487ae0e45f4e406293fc55f079845a13"
      }
     },
     "8b74f7ec91d74f0b975786cf7594eba1": {
      "model_module": "@jupyter-widgets/base",
      "model_module_version": "1.2.0",
      "model_name": "LayoutModel",
      "state": {}
     },
     "8b838fbe98444e9f8b7f532a319da2e9": {
      "model_module": "@jupyter-widgets/base",
      "model_module_version": "1.2.0",
      "model_name": "LayoutModel",
      "state": {}
     },
     "8b960f059e974e929baba66611bf01bb": {
      "model_module": "@jupyter-widgets/controls",
      "model_module_version": "1.5.0",
      "model_name": "DescriptionStyleModel",
      "state": {
       "description_width": ""
      }
     },
     "8c04b650f0d94f259987a88c203e3ca1": {
      "model_module": "@jupyter-widgets/base",
      "model_module_version": "1.2.0",
      "model_name": "LayoutModel",
      "state": {}
     },
     "8c2f888c0630459c92194cf95b7d16c5": {
      "model_module": "@jupyter-widgets/controls",
      "model_module_version": "1.5.0",
      "model_name": "DescriptionStyleModel",
      "state": {
       "description_width": ""
      }
     },
     "8c3503c8d21f4fa68f2cd3a7fa13988a": {
      "model_module": "@jupyter-widgets/controls",
      "model_module_version": "1.5.0",
      "model_name": "DropdownModel",
      "state": {
       "_options_labels": [
        "emplid",
        "enrl_ind",
        "acad_year",
        "count_week_from_term_begin_dt",
        "father_wsu_flag",
        "parent1_highest_educ_lvl",
        "parent2_highest_educ_lvl"
       ],
       "description": "x",
       "index": 0,
       "layout": "IPY_MODEL_89c560c8804447ee862d844102dc6fd6",
       "style": "IPY_MODEL_244ac50cbfee4c7d8407308e051186b5"
      }
     },
     "8c6427f42e9545a3a27871847ab5217d": {
      "model_module": "@jupyter-widgets/base",
      "model_module_version": "1.2.0",
      "model_name": "LayoutModel",
      "state": {}
     },
     "8c699226803843e0b773225f368ce438": {
      "model_module": "@jupyter-widgets/base",
      "model_module_version": "1.2.0",
      "model_name": "LayoutModel",
      "state": {}
     },
     "8c81a0f6970d47e08aac4782e1870412": {
      "model_module": "@jupyter-widgets/controls",
      "model_module_version": "1.5.0",
      "model_name": "CheckboxModel",
      "state": {
       "description": "pct_hisp",
       "disabled": false,
       "layout": "IPY_MODEL_967b12efbf9c409cba1c028b85d69369",
       "style": "IPY_MODEL_a04e7fb15af2453bb7aad5b6e8948d43",
       "value": false
      }
     },
     "8ca809b94a80420192944ca0188237e4": {
      "model_module": "@jupyter-widgets/base",
      "model_module_version": "1.2.0",
      "model_name": "LayoutModel",
      "state": {}
     },
     "8d05dac008e149e883574613c115e7e2": {
      "model_module": "@jupyter-widgets/base",
      "model_module_version": "1.2.0",
      "model_name": "LayoutModel",
      "state": {}
     },
     "8d7725ba915741bd9423522c9267f352": {
      "model_module": "@jupyter-widgets/controls",
      "model_module_version": "1.5.0",
      "model_name": "DropdownModel",
      "state": {
       "_options_labels": [
        "emplid",
        "enrl_ind",
        "acad_year",
        "count_week_from_term_begin_dt",
        "father_wsu_flag",
        "parent1_highest_educ_lvl",
        "parent2_highest_educ_lvl"
       ],
       "description": "x",
       "index": 0,
       "layout": "IPY_MODEL_2951e08fb7f34a65b3a63b7bc667bc89",
       "style": "IPY_MODEL_82982dd3f1b247b1aa5335717f2b4ffd"
      }
     },
     "8d7ffbdae4d84490b2b1cf9ad646adee": {
      "model_module": "@jupyter-widgets/base",
      "model_module_version": "1.2.0",
      "model_name": "LayoutModel",
      "state": {}
     },
     "8db79547dcad43bbb3ac35bb1f7b9475": {
      "model_module": "@jupyter-widgets/controls",
      "model_module_version": "1.5.0",
      "model_name": "DescriptionStyleModel",
      "state": {
       "description_width": ""
      }
     },
     "8dddbc66e37241ee9e34d3d725bca988": {
      "model_module": "@jupyter-widgets/controls",
      "model_module_version": "1.5.0",
      "model_name": "DescriptionStyleModel",
      "state": {
       "description_width": ""
      }
     },
     "8e097410a6994dfebbbb71aad366699a": {
      "model_module": "@jupyter-widgets/base",
      "model_module_version": "1.2.0",
      "model_name": "LayoutModel",
      "state": {}
     },
     "8e98e50b573943b5879df1f43e0efe87": {
      "model_module": "@jupyter-widgets/controls",
      "model_module_version": "1.5.0",
      "model_name": "CheckboxModel",
      "state": {
       "description": "fall_cum_gpa",
       "disabled": false,
       "layout": "IPY_MODEL_a7c0daf6636f458a9e6cbc4e5a7005d0",
       "style": "IPY_MODEL_909a81003c4e49649ba5a8b95d866656",
       "value": false
      }
     },
     "8e9b2440edf14f04bff88ed32e67b8fa": {
      "model_module": "@jupyter-widgets/controls",
      "model_module_version": "1.5.0",
      "model_name": "DescriptionStyleModel",
      "state": {
       "description_width": ""
      }
     },
     "8ea49bb0e7bd4f3aa738f0d515f3e9fc": {
      "model_module": "@jupyter-widgets/base",
      "model_module_version": "1.2.0",
      "model_name": "LayoutModel",
      "state": {}
     },
     "8eafd2c2865542cc9c0fbaf94d5155d3": {
      "model_module": "@jupyter-widgets/base",
      "model_module_version": "1.2.0",
      "model_name": "LayoutModel",
      "state": {}
     },
     "8ee40bd7f0a24274bcbf1ea3aa9b14b4": {
      "model_module": "@jupyter-widgets/controls",
      "model_module_version": "1.5.0",
      "model_name": "SliderStyleModel",
      "state": {
       "description_width": ""
      }
     },
     "8efe13775797450ca3c5ec534911e4f5": {
      "model_module": "@jupyter-widgets/controls",
      "model_module_version": "1.5.0",
      "model_name": "CheckboxModel",
      "state": {
       "description": "cahnrs_anml",
       "disabled": false,
       "layout": "IPY_MODEL_fc52898eb488430b814d93b2de06aff0",
       "style": "IPY_MODEL_f2cc816fbfa34dbfbdaeb8eb7dcada7e",
       "value": false
      }
     },
     "8f237012e3d34646afa7f21b3e643ce7": {
      "model_module": "@jupyter-widgets/controls",
      "model_module_version": "1.5.0",
      "model_name": "SliderStyleModel",
      "state": {
       "description_width": ""
      }
     },
     "8f476a739f2a4cd8aacd6413312672d3": {
      "model_module": "@jupyter-widgets/base",
      "model_module_version": "1.2.0",
      "model_name": "LayoutModel",
      "state": {}
     },
     "90154ff951c342aeaf267858b1596667": {
      "model_module": "@jupyter-widgets/base",
      "model_module_version": "1.2.0",
      "model_name": "LayoutModel",
      "state": {}
     },
     "904e38205f704b93b831443c71352054": {
      "model_module": "@jupyter-widgets/controls",
      "model_module_version": "1.5.0",
      "model_name": "DescriptionStyleModel",
      "state": {
       "description_width": ""
      }
     },
     "90660802ea2048c9b6b2de053306c1e3": {
      "model_module": "@jupyter-widgets/controls",
      "model_module_version": "1.5.0",
      "model_name": "CheckboxModel",
      "state": {
       "description": "attendee_fcd_pullman",
       "disabled": false,
       "layout": "IPY_MODEL_da509333a7b34d66a58c69ee706561db",
       "style": "IPY_MODEL_6612453df0814c5ca3778e80673a56c5",
       "value": false
      }
     },
     "909a81003c4e49649ba5a8b95d866656": {
      "model_module": "@jupyter-widgets/controls",
      "model_module_version": "1.5.0",
      "model_name": "DescriptionStyleModel",
      "state": {
       "description_width": ""
      }
     },
     "90e3c1021790472386a8099a79c277e2": {
      "model_module": "@jupyter-widgets/controls",
      "model_module_version": "1.5.0",
      "model_name": "DescriptionStyleModel",
      "state": {
       "description_width": ""
      }
     },
     "90e898546a744834b191f698416fab29": {
      "model_module": "@jupyter-widgets/base",
      "model_module_version": "1.2.0",
      "model_name": "LayoutModel",
      "state": {}
     },
     "91315b18295f45aa97774fae86adcd6f": {
      "model_module": "@jupyter-widgets/controls",
      "model_module_version": "1.5.0",
      "model_name": "DescriptionStyleModel",
      "state": {
       "description_width": ""
      }
     },
     "9144f01ae31240c38c0571c50c964b65": {
      "model_module": "@jupyter-widgets/controls",
      "model_module_version": "1.5.0",
      "model_name": "DescriptionStyleModel",
      "state": {
       "description_width": ""
      }
     },
     "915aafb8d023465abd6fbb68d8d5aa3c": {
      "model_module": "@jupyter-widgets/controls",
      "model_module_version": "1.5.0",
      "model_name": "IntSliderModel",
      "state": {
       "description": "y",
       "layout": "IPY_MODEL_1b73a7c9f22a41cb9d953a2082105e49",
       "min": 1,
       "style": "IPY_MODEL_514e6a5aa9c341b59265951ff2a9375b",
       "value": 50
      }
     },
     "91761a1ee5354afe9a9fa0181f939df3": {
      "model_module": "@jupyter-widgets/base",
      "model_module_version": "1.2.0",
      "model_name": "LayoutModel",
      "state": {}
     },
     "919186a0c77c4d5692a40694aee3a764": {
      "model_module": "@jupyter-widgets/controls",
      "model_module_version": "1.5.0",
      "model_name": "CheckboxModel",
      "state": {
       "description": "AP",
       "disabled": false,
       "layout": "IPY_MODEL_d322a71c0ba9455dae129a38bb5ff95a",
       "style": "IPY_MODEL_ec8b6ba2410343bb8c3060aa9d40df04",
       "value": false
      }
     },
     "91e06ee92b4941a3936541645060a510": {
      "model_module": "@jupyter-widgets/base",
      "model_module_version": "1.2.0",
      "model_name": "LayoutModel",
      "state": {}
     },
     "91e409f203cb45819f704b5bf29b6ecd": {
      "model_module": "@jupyter-widgets/controls",
      "model_module_version": "1.5.0",
      "model_name": "ButtonStyleModel",
      "state": {}
     },
     "92009bfb8ecc4be9a3d614e829c85e88": {
      "model_module": "@jupyter-widgets/controls",
      "model_module_version": "1.5.0",
      "model_name": "DescriptionStyleModel",
      "state": {
       "description_width": ""
      }
     },
     "92297c61020c4122ada2341ac6609b3f": {
      "model_module": "@jupyter-widgets/base",
      "model_module_version": "1.2.0",
      "model_name": "LayoutModel",
      "state": {}
     },
     "925a5c3ae50e4aee90eae279c2e96e3c": {
      "model_module": "@jupyter-widgets/controls",
      "model_module_version": "1.5.0",
      "model_name": "DescriptionStyleModel",
      "state": {
       "description_width": ""
      }
     },
     "928415871a5f40c980b491fc76a59c32": {
      "model_module": "@jupyter-widgets/controls",
      "model_module_version": "1.5.0",
      "model_name": "DropdownModel",
      "state": {
       "_options_labels": [
        "emplid",
        "enrl_ind",
        "acad_year",
        "count_week_from_term_begin_dt",
        "father_wsu_flag",
        "parent1_highest_educ_lvl",
        "parent2_highest_educ_lvl"
       ],
       "description": "x",
       "index": 2,
       "layout": "IPY_MODEL_092d9e2b35cf45859a5cf05b7e97da35",
       "style": "IPY_MODEL_de446a012dfe4c0ab8d212e83d1a6f3f"
      }
     },
     "92e70370c8b7400fba234ce22474ec5a": {
      "model_module": "@jupyter-widgets/base",
      "model_module_version": "1.2.0",
      "model_name": "LayoutModel",
      "state": {}
     },
     "930b8ba18c944682be137a56ad2764db": {
      "model_module": "@jupyter-widgets/base",
      "model_module_version": "1.2.0",
      "model_name": "LayoutModel",
      "state": {}
     },
     "9315ae46cc644927b2706c9fd3a71d11": {
      "model_module": "@jupyter-widgets/base",
      "model_module_version": "1.2.0",
      "model_name": "LayoutModel",
      "state": {}
     },
     "9321aeb8234947c5b4cff80aa5583453": {
      "model_module": "@jupyter-widgets/base",
      "model_module_version": "1.2.0",
      "model_name": "LayoutModel",
      "state": {}
     },
     "937f179069344cae9e78ff8887d83416": {
      "model_module": "@jupyter-widgets/controls",
      "model_module_version": "1.5.0",
      "model_name": "AccordionModel",
      "state": {
       "_titles": {
        "0": "Economic",
        "1": "Geographic",
        "2": "Census"
       },
       "children": [
        "IPY_MODEL_5e65d1cdbed5418e997c42a7f4577458",
        "IPY_MODEL_77fced1865b94cd586988b70a4b1fbae",
        "IPY_MODEL_0d2bcbe1575342249c0d69a3face7dba"
       ],
       "layout": "IPY_MODEL_ea9da01a97d0426a93f30fd187243804"
      }
     },
     "93c04d1e5474451c8eefd8d31c8b6442": {
      "model_module": "@jupyter-widgets/base",
      "model_module_version": "1.2.0",
      "model_name": "LayoutModel",
      "state": {}
     },
     "93ccf1801e8c4f7c8457490aa3f94071": {
      "model_module": "@jupyter-widgets/base",
      "model_module_version": "1.2.0",
      "model_name": "LayoutModel",
      "state": {}
     },
     "94266e0431aa4fd9b215c60a63316d51": {
      "model_module": "@jupyter-widgets/output",
      "model_module_version": "1.0.0",
      "model_name": "OutputModel",
      "state": {
       "layout": "IPY_MODEL_53904c3c82f340f387ae5914e930707b",
       "outputs": [
        {
         "data": {
          "image/png": "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\n",
          "text/plain": "<Figure size 432x288 with 1 Axes>"
         },
         "metadata": {
          "needs_background": "light"
         },
         "output_type": "display_data"
        }
       ]
      }
     },
     "9431bd97d7c147eeaa046cd187345c3d": {
      "model_module": "@jupyter-widgets/base",
      "model_module_version": "1.2.0",
      "model_name": "LayoutModel",
      "state": {}
     },
     "9450e5e097a3432ea33860d9f847668d": {
      "model_module": "@jupyter-widgets/controls",
      "model_module_version": "1.5.0",
      "model_name": "CheckboxModel",
      "state": {
       "description": "town_remote",
       "disabled": false,
       "layout": "IPY_MODEL_316fee6f8e4c40639ee6edb34143c7b2",
       "style": "IPY_MODEL_05ca9e089b664e92bbbf4383242db995",
       "value": false
      }
     },
     "9460dc693f6543a49b4f8305056a41bc": {
      "model_module": "@jupyter-widgets/controls",
      "model_module_version": "1.5.0",
      "model_name": "CheckboxModel",
      "state": {
       "description": "attendee_welcome_center",
       "disabled": false,
       "layout": "IPY_MODEL_db8d6d6bb3454f34a00998f7d16214e4",
       "style": "IPY_MODEL_ee3bbf3aa52641c69f77013277ef0589",
       "value": false
      }
     },
     "947505213b8d45c4ae57a3fea96aa404": {
      "model_module": "@jupyter-widgets/controls",
      "model_module_version": "1.5.0",
      "model_name": "DescriptionStyleModel",
      "state": {
       "description_width": ""
      }
     },
     "9480b7f95efb46f3874f8b87386983c4": {
      "model_module": "@jupyter-widgets/controls",
      "model_module_version": "1.5.0",
      "model_name": "CheckboxModel",
      "state": {
       "description": "ipeds_ethnic_group_descrshort",
       "disabled": false,
       "layout": "IPY_MODEL_0f398cca082148beb9c112000fd120c2",
       "style": "IPY_MODEL_334b80a302584e5e8021998be7d11c3a",
       "value": false
      }
     },
     "94d7d56c46914ef2b4d2ba5cde874f6d": {
      "model_module": "@jupyter-widgets/controls",
      "model_module_version": "1.5.0",
      "model_name": "AccordionModel",
      "state": {
       "_titles": {
        "0": "Financial Aid"
       },
       "children": [
        "IPY_MODEL_b28a418d817f4ae39775a2f5ed3c46fe"
       ],
       "layout": "IPY_MODEL_845531f4cd7d4414b61f692ee910663b"
      }
     },
     "9578d321f2014f47aa1e3daf9d5ae518": {
      "model_module": "@jupyter-widgets/output",
      "model_module_version": "1.0.0",
      "model_name": "OutputModel",
      "state": {
       "layout": "IPY_MODEL_4e504afc0bd8488f9398b64d665da208",
       "outputs": [
        {
         "data": {
          "image/png": "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\n",
          "text/plain": "<Figure size 432x288 with 1 Axes>"
         },
         "metadata": {
          "needs_background": "light"
         },
         "output_type": "display_data"
        }
       ]
      }
     },
     "959c7ec4b1a54767b4cd89e28c5ee6eb": {
      "model_module": "@jupyter-widgets/controls",
      "model_module_version": "1.5.0",
      "model_name": "CheckboxModel",
      "state": {
       "description": "city_small",
       "disabled": false,
       "layout": "IPY_MODEL_fc2588d264bb44e9beca07b432edf8c6",
       "style": "IPY_MODEL_7df2ad43876e406eb22ce07ae190ff38",
       "value": false
      }
     },
     "95bd89536c9d47b1a70e40bde3dce248": {
      "model_module": "@jupyter-widgets/base",
      "model_module_version": "1.2.0",
      "model_name": "LayoutModel",
      "state": {}
     },
     "96612328909d41df9d70987add2abc66": {
      "model_module": "@jupyter-widgets/base",
      "model_module_version": "1.2.0",
      "model_name": "LayoutModel",
      "state": {}
     },
     "9668f3c86c354cfcae728f3837317212": {
      "model_module": "@jupyter-widgets/controls",
      "model_module_version": "1.5.0",
      "model_name": "DescriptionStyleModel",
      "state": {
       "description_width": ""
      }
     },
     "96770ed8c048442c88ee52c63755f45d": {
      "model_module": "@jupyter-widgets/controls",
      "model_module_version": "1.5.0",
      "model_name": "IntSliderModel",
      "state": {
       "description": "y",
       "layout": "IPY_MODEL_1eb26e7b51c8418dbb67499ea87d752e",
       "min": 1,
       "style": "IPY_MODEL_76a665ddb490425d9e697437be09ef05",
       "value": 50
      }
     },
     "967b12efbf9c409cba1c028b85d69369": {
      "model_module": "@jupyter-widgets/base",
      "model_module_version": "1.2.0",
      "model_name": "LayoutModel",
      "state": {}
     },
     "968c9f4932b1479e93c3b7dfec178552": {
      "model_module": "@jupyter-widgets/base",
      "model_module_version": "1.2.0",
      "model_name": "LayoutModel",
      "state": {}
     },
     "96b4a1cc578942f8b88952915a44cd7e": {
      "model_module": "@jupyter-widgets/base",
      "model_module_version": "1.2.0",
      "model_name": "LayoutModel",
      "state": {}
     },
     "96ef046e14dc491dade84aa4bd13e9f2": {
      "model_module": "@jupyter-widgets/controls",
      "model_module_version": "1.5.0",
      "model_name": "DescriptionStyleModel",
      "state": {
       "description_width": ""
      }
     },
     "96ffe3a1690740899a480640ed55293a": {
      "model_module": "@jupyter-widgets/base",
      "model_module_version": "1.2.0",
      "model_name": "LayoutModel",
      "state": {}
     },
     "979d8c1ac74c4b15ac14badf84bff3db": {
      "model_module": "@jupyter-widgets/controls",
      "model_module_version": "1.5.0",
      "model_name": "CheckboxModel",
      "state": {
       "description": "town_fringe",
       "disabled": false,
       "layout": "IPY_MODEL_5302321db4ae42a1afbb94b6f68b919a",
       "style": "IPY_MODEL_3c5b117342b34d32bf7d105307734aca",
       "value": false
      }
     },
     "97d8fdb7369a4566860b9f36d508bf0f": {
      "model_module": "@jupyter-widgets/controls",
      "model_module_version": "1.5.0",
      "model_name": "ButtonStyleModel",
      "state": {}
     },
     "97dbf8ce06dd43b1b1f4652fa8bee534": {
      "model_module": "@jupyter-widgets/controls",
      "model_module_version": "1.5.0",
      "model_name": "DescriptionStyleModel",
      "state": {
       "description_width": ""
      }
     },
     "97e177368693431cb44727a30c8a593a": {
      "model_module": "@jupyter-widgets/controls",
      "model_module_version": "1.5.0",
      "model_name": "CheckboxModel",
      "state": {
       "description": "race_white",
       "disabled": false,
       "layout": "IPY_MODEL_9b0a4b1b98054adbbafe72c290d4e426",
       "style": "IPY_MODEL_bfae3000d90a47d9ac576364ec06986d",
       "value": false
      }
     },
     "97fd0fe40b2646b1a9e9dbd424838940": {
      "model_module": "@jupyter-widgets/controls",
      "model_module_version": "1.5.0",
      "model_name": "SliderStyleModel",
      "state": {
       "description_width": ""
      }
     },
     "989a671b960641899e3e8980303d0412": {
      "model_module": "@jupyter-widgets/base",
      "model_module_version": "1.2.0",
      "model_name": "LayoutModel",
      "state": {}
     },
     "98a0743b44f24c11980d18abaf03e020": {
      "model_module": "@jupyter-widgets/controls",
      "model_module_version": "1.5.0",
      "model_name": "ButtonStyleModel",
      "state": {}
     },
     "98bf8ea79d514efa9abf8e5170bd35b9": {
      "model_module": "@jupyter-widgets/controls",
      "model_module_version": "1.5.0",
      "model_name": "IntSliderModel",
      "state": {
       "description": "y",
       "layout": "IPY_MODEL_7ead243355d94f57b4d50e7da19f1ece",
       "min": 1,
       "style": "IPY_MODEL_3613902086b84fe196478d8e5b977c78",
       "value": 50
      }
     },
     "98cef10cbb4342caa47577f8791f8309": {
      "model_module": "@jupyter-widgets/output",
      "model_module_version": "1.0.0",
      "model_name": "OutputModel",
      "state": {
       "layout": "IPY_MODEL_ceda4707fe31436aa9b7907a6ffd2b2e",
       "outputs": [
        {
         "data": {
          "application/vnd.jupyter.widget-view+json": {
           "model_id": "f7f9d29801a7445c9441c22c1fe90cc2",
           "version_major": 2,
           "version_minor": 0
          },
          "text/plain": "interactive(children=(Dropdown(description='x', options=('emplid', 'enrl_ind', 'count_week_from_term_begin_dt'…"
         },
         "metadata": {},
         "output_type": "display_data"
        },
        {
         "data": {
          "application/vnd.jupyter.widget-view+json": {
           "model_id": "2bebf234037d4d6aa1482b5bb8a28eeb",
           "version_major": 2,
           "version_minor": 0
          },
          "text/plain": "interactive(children=(Dropdown(description='x', options=('emplid', 'enrl_ind', 'count_week_from_term_begin_dt'…"
         },
         "metadata": {},
         "output_type": "display_data"
        }
       ]
      }
     },
     "98e78a715c7447c38338b7510a1c8c96": {
      "model_module": "@jupyter-widgets/controls",
      "model_module_version": "1.5.0",
      "model_name": "CheckboxModel",
      "state": {
       "description": "city_small",
       "disabled": false,
       "layout": "IPY_MODEL_2635262cafb740558384fa9bcfb6c054",
       "style": "IPY_MODEL_23c1a2a4e03946528aec19b2e018b475",
       "value": false
      }
     },
     "98ff000e64424dbb8e996172b50ed0f9": {
      "model_module": "@jupyter-widgets/controls",
      "model_module_version": "1.5.0",
      "model_name": "CheckboxModel",
      "state": {
       "description": "attendee_imagine_tomorrow",
       "disabled": false,
       "layout": "IPY_MODEL_4099663902924987b4b0eafe95ce842a",
       "style": "IPY_MODEL_6bd224b56d104ee498f35663278832f7",
       "value": false
      }
     },
     "990104d4672a4436a26808d94665edc2": {
      "model_module": "@jupyter-widgets/controls",
      "model_module_version": "1.5.0",
      "model_name": "IntSliderModel",
      "state": {
       "description": "y",
       "layout": "IPY_MODEL_6ed8dd4c71154d57ba0b90f539efc9d0",
       "min": 1,
       "style": "IPY_MODEL_aaa512c2cdeb4eefa3bd59965ec1dd55",
       "value": 50
      }
     },
     "9933f9489cc246e58ebeb9281adad18c": {
      "model_module": "@jupyter-widgets/base",
      "model_module_version": "1.2.0",
      "model_name": "LayoutModel",
      "state": {}
     },
     "99de7970fcb14f8ba79919c86146f975": {
      "model_module": "@jupyter-widgets/controls",
      "model_module_version": "1.5.0",
      "model_name": "DropdownModel",
      "state": {
       "_options_labels": [
        "emplid",
        "enrl_ind",
        "count_week_from_term_begin_dt"
       ],
       "description": "x",
       "index": 2,
       "layout": "IPY_MODEL_544a9cdbfb5f4b81af32d1756abc567d",
       "style": "IPY_MODEL_d95720dc772140c98fc8fb101dac48dc"
      }
     },
     "9ad7f27d0b2341409b87265c1e918e94": {
      "model_module": "@jupyter-widgets/base",
      "model_module_version": "1.2.0",
      "model_name": "LayoutModel",
      "state": {}
     },
     "9aef808431a7425cba9f2e0c4460a756": {
      "model_module": "@jupyter-widgets/controls",
      "model_module_version": "1.5.0",
      "model_name": "CheckboxModel",
      "state": {
       "description": "vcea_cive",
       "disabled": false,
       "layout": "IPY_MODEL_b7f52a822bf94547a09ef222e05504a0",
       "style": "IPY_MODEL_5e2c43589c034083b0f9dab798e1a288",
       "value": false
      }
     },
     "9b0a4b1b98054adbbafe72c290d4e426": {
      "model_module": "@jupyter-widgets/base",
      "model_module_version": "1.2.0",
      "model_name": "LayoutModel",
      "state": {}
     },
     "9b3691f7e9bf4d12b3eca6d260e35235": {
      "model_module": "@jupyter-widgets/controls",
      "model_module_version": "1.5.0",
      "model_name": "CheckboxModel",
      "state": {
       "description": "race_asian",
       "disabled": false,
       "layout": "IPY_MODEL_065d1e44d5fd4f7fac71daa512123593",
       "style": "IPY_MODEL_4173973fbdfd42ce88a51713e9f60033",
       "value": false
      }
     },
     "9b3a9688ee5441be9df4cb32079990e0": {
      "model_module": "@jupyter-widgets/base",
      "model_module_version": "1.2.0",
      "model_name": "LayoutModel",
      "state": {}
     },
     "9b3eb624069b4e9a8f5b6f6d218a4ab8": {
      "model_module": "@jupyter-widgets/base",
      "model_module_version": "1.2.0",
      "model_name": "LayoutModel",
      "state": {}
     },
     "9ba9dac275184302bd5f211a07fdb758": {
      "model_module": "@jupyter-widgets/controls",
      "model_module_version": "1.5.0",
      "model_name": "CheckboxModel",
      "state": {
       "description": "unmet_need_ofr",
       "disabled": false,
       "layout": "IPY_MODEL_dc6500b04b084e9da27988b9be1ca3eb",
       "style": "IPY_MODEL_0faf934cc53d48daafceff394b10a978",
       "value": false
      }
     },
     "9badf45c31584bc4bfd22f432a04b20a": {
      "model_module": "@jupyter-widgets/base",
      "model_module_version": "1.2.0",
      "model_name": "LayoutModel",
      "state": {}
     },
     "9c0c793466dd45ae8973638b728f6874": {
      "model_module": "@jupyter-widgets/controls",
      "model_module_version": "1.5.0",
      "model_name": "DropdownModel",
      "state": {
       "_options_labels": [
        "emplid",
        "enrl_ind",
        "count_week_from_term_begin_dt",
        "parent1_highest_educ_lvl",
        "parent2_highest_educ_lvl"
       ],
       "description": "x",
       "index": 0,
       "layout": "IPY_MODEL_c51f066f48fa4baaa7e19b5fab535bca",
       "style": "IPY_MODEL_32aae2da74144f878a2589fa309988a8"
      }
     },
     "9c11409232314e9f9621a2e4cd53fccd": {
      "model_module": "@jupyter-widgets/controls",
      "model_module_version": "1.5.0",
      "model_name": "DescriptionStyleModel",
      "state": {
       "description_width": ""
      }
     },
     "9c2bfd4928ab490ea9d1cbc107f1af7d": {
      "model_module": "@jupyter-widgets/controls",
      "model_module_version": "1.5.0",
      "model_name": "DescriptionStyleModel",
      "state": {
       "description_width": ""
      }
     },
     "9da227c5d3c746da98576c6b03d6b03d": {
      "model_module": "@jupyter-widgets/base",
      "model_module_version": "1.2.0",
      "model_name": "LayoutModel",
      "state": {}
     },
     "9dadfa188131461aa777a20b980248fe": {
      "model_module": "@jupyter-widgets/output",
      "model_module_version": "1.0.0",
      "model_name": "OutputModel",
      "state": {
       "layout": "IPY_MODEL_841da6b789d4446d9222f7a4092f2c2f",
       "outputs": [
        {
         "data": {
          "image/png": "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\n",
          "text/plain": "<Figure size 432x288 with 1 Axes>"
         },
         "metadata": {
          "needs_background": "light"
         },
         "output_type": "display_data"
        }
       ]
      }
     },
     "9dec24493072473d8e80c34fd6c627e9": {
      "model_module": "@jupyter-widgets/controls",
      "model_module_version": "1.5.0",
      "model_name": "DescriptionStyleModel",
      "state": {
       "description_width": ""
      }
     },
     "9e0bb489b3e6460fbbdcca6136fd04ea": {
      "model_module": "@jupyter-widgets/controls",
      "model_module_version": "1.5.0",
      "model_name": "VBoxModel",
      "state": {
       "children": [
        "IPY_MODEL_3cc4b0493d7343b096817bd1bcb95671",
        "IPY_MODEL_705dd45e7ca74c898ab27d453fbb289c",
        "IPY_MODEL_919186a0c77c4d5692a40694aee3a764",
        "IPY_MODEL_ada4e38f99594ea89f9c66df58667ea1",
        "IPY_MODEL_abfa46caf51044259203e875e09043b6",
        "IPY_MODEL_357af2d3938d493e83c659618d81cd05",
        "IPY_MODEL_b78cdf8ee0234bd1a262481fac8cc1df",
        "IPY_MODEL_0d04dbcbc10a4857b8e5278997d9745f"
       ],
       "layout": "IPY_MODEL_4585eaaf6b854246a31baa175eab862c"
      }
     },
     "9e37adda0cca44a784c29afad4dffcf6": {
      "model_module": "@jupyter-widgets/base",
      "model_module_version": "1.2.0",
      "model_name": "LayoutModel",
      "state": {}
     },
     "9e4cb030b1dc4e57af5a2482a76dff5f": {
      "model_module": "@jupyter-widgets/base",
      "model_module_version": "1.2.0",
      "model_name": "LayoutModel",
      "state": {}
     },
     "9e98f366f4504153ab58b3cc1bb6b1da": {
      "model_module": "@jupyter-widgets/controls",
      "model_module_version": "1.5.0",
      "model_name": "CheckboxModel",
      "state": {
       "description": "gini_indx",
       "disabled": false,
       "layout": "IPY_MODEL_245e633a35a447aba3a570a5fae4067d",
       "style": "IPY_MODEL_105b9a5c436a48e4a00629e8649239fd",
       "value": false
      }
     },
     "9efb4490811c427a8e3541ee1f85904c": {
      "model_module": "@jupyter-widgets/controls",
      "model_module_version": "1.5.0",
      "model_name": "VBoxModel",
      "state": {
       "children": [
        "IPY_MODEL_02200c93424c4b2ca7f90f166b85742a",
        "IPY_MODEL_7eb7f3869d9d47f694786629c008bb64",
        "IPY_MODEL_eb0b38bf683f49d8844856612c99d8f2",
        "IPY_MODEL_5ecb34b7a51b4b069bbd561c4ef887e1",
        "IPY_MODEL_251491ca7c674418bb5ba0468c03fc0c",
        "IPY_MODEL_74b2b3dcd2a24fbcbc6d51cd312a7c2f",
        "IPY_MODEL_0858156c5038479aac96d0f2e27f6910",
        "IPY_MODEL_a9ad9d713d8a45e6ac1da2e88345db70",
        "IPY_MODEL_6d77c1a7e990479f96cbcd2f2813c5b3",
        "IPY_MODEL_3d684b0b8eed4693a4cbeb55726b8596"
       ],
       "layout": "IPY_MODEL_237aa3817cbb4e20be233157f3eebe69"
      }
     },
     "9f01a5b982e34f50b1a204dd6d7ba6f9": {
      "model_module": "@jupyter-widgets/controls",
      "model_module_version": "1.5.0",
      "model_name": "CheckboxModel",
      "state": {
       "description": "suburb_large",
       "disabled": false,
       "layout": "IPY_MODEL_da0a34184aed4fa9b0b7d39568e544ab",
       "style": "IPY_MODEL_0d83bb514b334a11ba06cea2822286c3",
       "value": false
      }
     },
     "9f591310c4814bc0927ff0e435d56580": {
      "model_module": "@jupyter-widgets/base",
      "model_module_version": "1.2.0",
      "model_name": "LayoutModel",
      "state": {}
     },
     "9f5cacdcc6f14a3d9f9c6203e2103f17": {
      "model_module": "@jupyter-widgets/base",
      "model_module_version": "1.2.0",
      "model_name": "LayoutModel",
      "state": {}
     },
     "9f5f067e481e4e339e849c5283bafd87": {
      "model_module": "@jupyter-widgets/base",
      "model_module_version": "1.2.0",
      "model_name": "LayoutModel",
      "state": {}
     },
     "9f6f3b16db5c42689314dbf694491582": {
      "model_module": "@jupyter-widgets/controls",
      "model_module_version": "1.5.0",
      "model_name": "VBoxModel",
      "state": {
       "_dom_classes": [
        "widget-interact"
       ],
       "children": [
        "IPY_MODEL_a1c2ca5f6b1d46dcb21671f37f38cd1d",
        "IPY_MODEL_915aafb8d023465abd6fbb68d8d5aa3c",
        "IPY_MODEL_f603f9555164433582d74be984edd098"
       ],
       "layout": "IPY_MODEL_96ffe3a1690740899a480640ed55293a"
      }
     },
     "9f74fd69d5a540b0b4b7ae1b1289b619": {
      "model_module": "@jupyter-widgets/output",
      "model_module_version": "1.0.0",
      "model_name": "OutputModel",
      "state": {
       "layout": "IPY_MODEL_ae6484d258bc452fbde8d6e870118b71",
       "outputs": [
        {
         "data": {
          "image/png": "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\n",
          "text/plain": "<Figure size 432x288 with 1 Axes>"
         },
         "metadata": {
          "needs_background": "light"
         },
         "output_type": "display_data"
        }
       ]
      }
     },
     "9f913c3c9aed416390a43eb1bb30adc7": {
      "model_module": "@jupyter-widgets/controls",
      "model_module_version": "1.5.0",
      "model_name": "DescriptionStyleModel",
      "state": {
       "description_width": ""
      }
     },
     "9f94ef970ac34723b78be9be2df55035": {
      "model_module": "@jupyter-widgets/base",
      "model_module_version": "1.2.0",
      "model_name": "LayoutModel",
      "state": {}
     },
     "9fa45fb6a0904b9caf25b4ddefb5253d": {
      "model_module": "@jupyter-widgets/output",
      "model_module_version": "1.0.0",
      "model_name": "OutputModel",
      "state": {
       "layout": "IPY_MODEL_1e77a0e8159743cca01254c511daf65f",
       "outputs": [
        {
         "data": {
          "image/png": "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\n",
          "text/plain": "<Figure size 432x288 with 1 Axes>"
         },
         "metadata": {
          "needs_background": "light"
         },
         "output_type": "display_data"
        }
       ]
      }
     },
     "9fc4303825c847639e4e41ad0cad2e7a": {
      "model_module": "@jupyter-widgets/controls",
      "model_module_version": "1.5.0",
      "model_name": "VBoxModel",
      "state": {
       "children": [
        "IPY_MODEL_b87a6b10bfda42a3987c977e0d5ed44b",
        "IPY_MODEL_18507fd5a5f84906b19d492c437068bc"
       ],
       "layout": "IPY_MODEL_9431bd97d7c147eeaa046cd187345c3d"
      }
     },
     "a04d47f89c5d4cbf8e81f7e698b4140e": {
      "model_module": "@jupyter-widgets/controls",
      "model_module_version": "1.5.0",
      "model_name": "DescriptionStyleModel",
      "state": {
       "description_width": ""
      }
     },
     "a04e7fb15af2453bb7aad5b6e8948d43": {
      "model_module": "@jupyter-widgets/controls",
      "model_module_version": "1.5.0",
      "model_name": "DescriptionStyleModel",
      "state": {
       "description_width": ""
      }
     },
     "a0c56c33772f4bbb8c370cc3674ff20b": {
      "model_module": "@jupyter-widgets/controls",
      "model_module_version": "1.5.0",
      "model_name": "VBoxModel",
      "state": {
       "_dom_classes": [
        "widget-interact"
       ],
       "children": [
        "IPY_MODEL_6f507f251a3b49cfa948066d0ae6d0c5",
        "IPY_MODEL_3f07aacd3a0e4bada89dca4afa0017af",
        "IPY_MODEL_9f74fd69d5a540b0b4b7ae1b1289b619"
       ],
       "layout": "IPY_MODEL_4402179672464d5bb6f246608adc67b2"
      }
     },
     "a0edae10a9b4478a8da5526b7a15ce5a": {
      "model_module": "@jupyter-widgets/controls",
      "model_module_version": "1.5.0",
      "model_name": "AccordionModel",
      "state": {
       "_titles": {
        "0": "Economic",
        "1": "Geographic",
        "2": "Census"
       },
       "children": [
        "IPY_MODEL_ad8f243c23b8423bb08d658843dfd203",
        "IPY_MODEL_5e032ae2a5a64334bc366b6badc873b9",
        "IPY_MODEL_708f5337cdda473b91c6895aa27c7d00"
       ],
       "layout": "IPY_MODEL_9f5f067e481e4e339e849c5283bafd87"
      }
     },
     "a1c2ca5f6b1d46dcb21671f37f38cd1d": {
      "model_module": "@jupyter-widgets/controls",
      "model_module_version": "1.5.0",
      "model_name": "DropdownModel",
      "state": {
       "_options_labels": [
        "emplid",
        "enrl_ind",
        "acad_year",
        "count_week_from_term_begin_dt",
        "father_wsu_flag",
        "parent1_highest_educ_lvl",
        "parent2_highest_educ_lvl"
       ],
       "description": "x",
       "index": 0,
       "layout": "IPY_MODEL_d016582e4b3540b097987cccb5a184b5",
       "style": "IPY_MODEL_4776bcf958ed4216befd47077958371c"
      }
     },
     "a1ca1b37ee2a45eda1b1152c2eba1b25": {
      "model_module": "@jupyter-widgets/controls",
      "model_module_version": "1.5.0",
      "model_name": "VBoxModel",
      "state": {
       "children": [
        "IPY_MODEL_d42a909b6033474a99853721bd88de1b",
        "IPY_MODEL_98cef10cbb4342caa47577f8791f8309"
       ],
       "layout": "IPY_MODEL_3f5856d09cb142459330d2eefa58baed"
      }
     },
     "a211d035026042c99ab5ebcf31e5ac97": {
      "model_module": "@jupyter-widgets/controls",
      "model_module_version": "1.5.0",
      "model_name": "DescriptionStyleModel",
      "state": {
       "description_width": ""
      }
     },
     "a21be179303946448ff49c846f914dff": {
      "model_module": "@jupyter-widgets/base",
      "model_module_version": "1.2.0",
      "model_name": "LayoutModel",
      "state": {}
     },
     "a21dbd0ec47742c69e5fab6901eecb86": {
      "model_module": "@jupyter-widgets/controls",
      "model_module_version": "1.5.0",
      "model_name": "VBoxModel",
      "state": {
       "_dom_classes": [
        "widget-interact"
       ],
       "children": [
        "IPY_MODEL_0dc7411db7a04480bbb8ee0c5504655e",
        "IPY_MODEL_b99019983092499f9ef44a5659bc5ef5",
        "IPY_MODEL_57f9b2a8222e43dfa4b70287e5459384"
       ],
       "layout": "IPY_MODEL_9933f9489cc246e58ebeb9281adad18c"
      }
     },
     "a2a860b3b25b4626895b3e5c483f2757": {
      "model_module": "@jupyter-widgets/controls",
      "model_module_version": "1.5.0",
      "model_name": "DescriptionStyleModel",
      "state": {
       "description_width": ""
      }
     },
     "a2ff700a217d453484604499eb5b690f": {
      "model_module": "@jupyter-widgets/controls",
      "model_module_version": "1.5.0",
      "model_name": "IntSliderModel",
      "state": {
       "description": "y",
       "layout": "IPY_MODEL_138a869756a847e78eabf216510af44d",
       "min": 1,
       "style": "IPY_MODEL_5c777aa0eed449fe8816b966d6154eaf",
       "value": 50
      }
     },
     "a307f393704c49bcaf865979321a3154": {
      "model_module": "@jupyter-widgets/controls",
      "model_module_version": "1.5.0",
      "model_name": "CheckboxModel",
      "state": {
       "description": "spring_avg_difficulty",
       "disabled": false,
       "layout": "IPY_MODEL_0a761fbe33104763828b9e26b4263a42",
       "style": "IPY_MODEL_b3a40577bf8a4325be528fd5176d43d5",
       "value": false
      }
     },
     "a31627eabef9437c9bafaeb6881735e8": {
      "model_module": "@jupyter-widgets/controls",
      "model_module_version": "1.5.0",
      "model_name": "DescriptionStyleModel",
      "state": {
       "description_width": ""
      }
     },
     "a344f72e857c4e96a72da1ace5aacc56": {
      "model_module": "@jupyter-widgets/controls",
      "model_module_version": "1.5.0",
      "model_name": "DescriptionStyleModel",
      "state": {
       "description_width": ""
      }
     },
     "a390852561854d53bd2c5fb8c55ef53e": {
      "model_module": "@jupyter-widgets/controls",
      "model_module_version": "1.5.0",
      "model_name": "DescriptionStyleModel",
      "state": {
       "description_width": ""
      }
     },
     "a3b7dcb53f8548809d7547f5da6f6976": {
      "model_module": "@jupyter-widgets/base",
      "model_module_version": "1.2.0",
      "model_name": "LayoutModel",
      "state": {}
     },
     "a40b4531dd504088a15f224808ffcd45": {
      "model_module": "@jupyter-widgets/controls",
      "model_module_version": "1.5.0",
      "model_name": "CheckboxModel",
      "state": {
       "description": "pct_blk",
       "disabled": false,
       "layout": "IPY_MODEL_54bfbf98073f483b993fc0baf6d7484f",
       "style": "IPY_MODEL_110dbfc8c1144f7cb803a130f68bc90b",
       "value": false
      }
     },
     "a41b0e8ada08468cb1cb0a5e6d75c81c": {
      "model_module": "@jupyter-widgets/controls",
      "model_module_version": "1.5.0",
      "model_name": "CheckboxModel",
      "state": {
       "description": "provost",
       "disabled": false,
       "layout": "IPY_MODEL_076d3367fcc84bc7b9fd146b4ccaf6c0",
       "style": "IPY_MODEL_c70a4979a39849d3a8aec556bab5f8d6",
       "value": false
      }
     },
     "a41be2604b2d400eb70b2b61ea7e6874": {
      "model_module": "@jupyter-widgets/base",
      "model_module_version": "1.2.0",
      "model_name": "LayoutModel",
      "state": {}
     },
     "a4350a538ae64a27a88d32ac40856962": {
      "model_module": "@jupyter-widgets/controls",
      "model_module_version": "1.5.0",
      "model_name": "VBoxModel",
      "state": {
       "children": [
        "IPY_MODEL_d0c3eb4dbad44cebbf57db1f0100e544",
        "IPY_MODEL_39be3f16ae3549318c058a2ae6ebd219"
       ],
       "layout": "IPY_MODEL_a582c73c93d14883b971d865e008c86a"
      }
     },
     "a4597996aa184d45be8242b58c356451": {
      "model_module": "@jupyter-widgets/controls",
      "model_module_version": "1.5.0",
      "model_name": "DescriptionStyleModel",
      "state": {
       "description_width": ""
      }
     },
     "a461477e1198410c812de87422c44ba4": {
      "model_module": "@jupyter-widgets/controls",
      "model_module_version": "1.5.0",
      "model_name": "IntSliderModel",
      "state": {
       "description": "y",
       "layout": "IPY_MODEL_235f5207c8b24e08a460236786512636",
       "min": 1,
       "style": "IPY_MODEL_447c378eea754608bb5a808f8bd90fcd",
       "value": 50
      }
     },
     "a4bcf222c85b4b26a7b0b45b614200a2": {
      "model_module": "@jupyter-widgets/base",
      "model_module_version": "1.2.0",
      "model_name": "LayoutModel",
      "state": {}
     },
     "a4cf5a1f4c7d4e48b09cff91e82be11e": {
      "model_module": "@jupyter-widgets/base",
      "model_module_version": "1.2.0",
      "model_name": "LayoutModel",
      "state": {}
     },
     "a4d99dda2e9e466b99e9d67e21deb30b": {
      "model_module": "@jupyter-widgets/base",
      "model_module_version": "1.2.0",
      "model_name": "LayoutModel",
      "state": {}
     },
     "a53ef065c34b41fd886be19482fbf39f": {
      "model_module": "@jupyter-widgets/base",
      "model_module_version": "1.2.0",
      "model_name": "LayoutModel",
      "state": {}
     },
     "a54179dffa80492299816d467579f46f": {
      "model_module": "@jupyter-widgets/controls",
      "model_module_version": "1.5.0",
      "model_name": "VBoxModel",
      "state": {
       "children": [
        "IPY_MODEL_d00ef9d91b9b4c87bf0a8fa8c3ca059d",
        "IPY_MODEL_63211a756fea4854b8f4cefbc121ac7e",
        "IPY_MODEL_501009837f5a47868493ceaea64bbe4b",
        "IPY_MODEL_83d9ece82983479bbdbf89b874e638de",
        "IPY_MODEL_1b4ad96fbc574c659ea7cf415820e4ff",
        "IPY_MODEL_f9595c31231e40b288b004a461cee724",
        "IPY_MODEL_42346a5dddb64d7c87e4392f2019d5db",
        "IPY_MODEL_0140693aa78e465c96cad645d472ba88",
        "IPY_MODEL_13508fd4796249329e2a38ae5be6b91a",
        "IPY_MODEL_97e177368693431cb44727a30c8a593a",
        "IPY_MODEL_28eb1e7afc864574bd8679c0515214ab",
        "IPY_MODEL_2abfb2fa9a734900aff4982ad18a01f4"
       ],
       "layout": "IPY_MODEL_5f81217302c94efc816425e7095720bf"
      }
     },
     "a582c73c93d14883b971d865e008c86a": {
      "model_module": "@jupyter-widgets/base",
      "model_module_version": "1.2.0",
      "model_name": "LayoutModel",
      "state": {}
     },
     "a5b470d5ceb0488f916ec39b97abbc3a": {
      "model_module": "@jupyter-widgets/output",
      "model_module_version": "1.0.0",
      "model_name": "OutputModel",
      "state": {
       "layout": "IPY_MODEL_0e8a005fa2c2420fa04e3b4b1d9fb488",
       "outputs": [
        {
         "data": {
          "image/png": "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\n",
          "text/plain": "<Figure size 432x288 with 1 Axes>"
         },
         "metadata": {
          "needs_background": "light"
         },
         "output_type": "display_data"
        }
       ]
      }
     },
     "a5cacfea4cdc4e0194da410351870fd2": {
      "model_module": "@jupyter-widgets/controls",
      "model_module_version": "1.5.0",
      "model_name": "DescriptionStyleModel",
      "state": {
       "description_width": ""
      }
     },
     "a5d225c95f2a4c09a1ddc3506054fd44": {
      "model_module": "@jupyter-widgets/controls",
      "model_module_version": "1.5.0",
      "model_name": "DescriptionStyleModel",
      "state": {
       "description_width": ""
      }
     },
     "a5f68b9695e647d48cb575f1517df855": {
      "model_module": "@jupyter-widgets/controls",
      "model_module_version": "1.5.0",
      "model_name": "CheckboxModel",
      "state": {
       "description": "attendee_cashe",
       "disabled": false,
       "layout": "IPY_MODEL_2439e92940a04991967279cbec988520",
       "style": "IPY_MODEL_b0460f1b5c51404fae47f805df79a57c",
       "value": false
      }
     },
     "a61611b7c4b84fbe83388d1510dc510e": {
      "model_module": "@jupyter-widgets/controls",
      "model_module_version": "1.5.0",
      "model_name": "DescriptionStyleModel",
      "state": {
       "description_width": ""
      }
     },
     "a61b3f66c93445438c0b61f029ab1b9a": {
      "model_module": "@jupyter-widgets/controls",
      "model_module_version": "1.5.0",
      "model_name": "CheckboxModel",
      "state": {
       "description": "attendee_any_visitation_ind",
       "disabled": false,
       "layout": "IPY_MODEL_1858585bd76241c4b2d69255dd050e69",
       "style": "IPY_MODEL_3a67f2a141b046a5803a9c6970985dc6",
       "value": false
      }
     },
     "a62f201ba769457d9d7388c40c0b573a": {
      "model_module": "@jupyter-widgets/base",
      "model_module_version": "1.2.0",
      "model_name": "LayoutModel",
      "state": {}
     },
     "a6709baa2abe4373af586fa3d5c9bf9d": {
      "model_module": "@jupyter-widgets/controls",
      "model_module_version": "1.5.0",
      "model_name": "DescriptionStyleModel",
      "state": {
       "description_width": ""
      }
     },
     "a6b6ed4681a447a4942b0d017438dde2": {
      "model_module": "@jupyter-widgets/controls",
      "model_module_version": "1.5.0",
      "model_name": "DescriptionStyleModel",
      "state": {
       "description_width": ""
      }
     },
     "a6c1dfe76ad042bfbdbffccce779d1c4": {
      "model_module": "@jupyter-widgets/base",
      "model_module_version": "1.2.0",
      "model_name": "LayoutModel",
      "state": {}
     },
     "a6e02086948e443e8b686b9d86bf1ded": {
      "model_module": "@jupyter-widgets/controls",
      "model_module_version": "1.5.0",
      "model_name": "CheckboxModel",
      "state": {
       "description": "rural_distant",
       "disabled": false,
       "layout": "IPY_MODEL_5da60893505c4294a30272a2d8cd62db",
       "style": "IPY_MODEL_1ee652d41fcb41aabad810246e37ab15",
       "value": false
      }
     },
     "a7226c739c2a4ec8994f64dce7f2ecf7": {
      "model_module": "@jupyter-widgets/controls",
      "model_module_version": "1.5.0",
      "model_name": "DescriptionStyleModel",
      "state": {
       "description_width": ""
      }
     },
     "a77688c51b8f44eda54bd2250b77e98a": {
      "model_module": "@jupyter-widgets/base",
      "model_module_version": "1.2.0",
      "model_name": "LayoutModel",
      "state": {}
     },
     "a77ace009acc41a4bda3a0c9e8e99c0a": {
      "model_module": "@jupyter-widgets/controls",
      "model_module_version": "1.5.0",
      "model_name": "CheckboxModel",
      "state": {
       "description": "median_inc",
       "disabled": false,
       "layout": "IPY_MODEL_3a9e9be3ae944705a0911660bd17cba9",
       "style": "IPY_MODEL_01d6cf3aca39431f83ad548cea510e22",
       "value": false
      }
     },
     "a7c0daf6636f458a9e6cbc4e5a7005d0": {
      "model_module": "@jupyter-widgets/base",
      "model_module_version": "1.2.0",
      "model_name": "LayoutModel",
      "state": {}
     },
     "a7d4f9121ab84bd7b20a4207f2ae211e": {
      "model_module": "@jupyter-widgets/base",
      "model_module_version": "1.2.0",
      "model_name": "LayoutModel",
      "state": {}
     },
     "a81f8621f12d46e69d5003629ed99c61": {
      "model_module": "@jupyter-widgets/base",
      "model_module_version": "1.2.0",
      "model_name": "LayoutModel",
      "state": {}
     },
     "a85f007179464677964c98ce6330bb78": {
      "model_module": "@jupyter-widgets/controls",
      "model_module_version": "1.5.0",
      "model_name": "DescriptionStyleModel",
      "state": {
       "description_width": ""
      }
     },
     "a8967148281d43b79992596ec6f72758": {
      "model_module": "@jupyter-widgets/controls",
      "model_module_version": "1.5.0",
      "model_name": "DropdownModel",
      "state": {
       "_options_labels": [
        "emplid",
        "enrl_ind",
        "acad_year",
        "count_week_from_term_begin_dt",
        "father_wsu_flag"
       ],
       "description": "x",
       "index": 4,
       "layout": "IPY_MODEL_618b39f958424c1aa4074733d6fbd494",
       "style": "IPY_MODEL_83e6ada0508f4551a1eeb956301fbb18"
      }
     },
     "a8b9d06df869465f833d11f868e0e8c4": {
      "model_module": "@jupyter-widgets/controls",
      "model_module_version": "1.5.0",
      "model_name": "DescriptionStyleModel",
      "state": {
       "description_width": ""
      }
     },
     "a8c1d013d5f349999441929dbc214429": {
      "model_module": "@jupyter-widgets/base",
      "model_module_version": "1.2.0",
      "model_name": "LayoutModel",
      "state": {}
     },
     "a8c203817b0f4fbb8a1919ccb248d830": {
      "model_module": "@jupyter-widgets/base",
      "model_module_version": "1.2.0",
      "model_name": "LayoutModel",
      "state": {}
     },
     "a8f601c3dd3e4d76ba4cb4d0c8545c27": {
      "model_module": "@jupyter-widgets/controls",
      "model_module_version": "1.5.0",
      "model_name": "CheckboxModel",
      "state": {
       "description": "medicine",
       "disabled": false,
       "layout": "IPY_MODEL_c4a444089f5147f4896f5a772ed87965",
       "style": "IPY_MODEL_d184f86213da4ff78717551acb9be144",
       "value": false
      }
     },
     "a9296d8c8bfb4e2d962722e89a3822ca": {
      "model_module": "@jupyter-widgets/base",
      "model_module_version": "1.2.0",
      "model_name": "LayoutModel",
      "state": {}
     },
     "a983d0538c8f4a9f8078edca63be6ba9": {
      "model_module": "@jupyter-widgets/controls",
      "model_module_version": "1.5.0",
      "model_name": "CheckboxModel",
      "state": {
       "description": "fed_efc",
       "disabled": false,
       "layout": "IPY_MODEL_196d8ec9048049ebb64b2feba8112eb5",
       "style": "IPY_MODEL_9c11409232314e9f9621a2e4cd53fccd",
       "value": false
      }
     },
     "a98a558a9baa4d9db28555d5a4180e95": {
      "model_module": "@jupyter-widgets/controls",
      "model_module_version": "1.5.0",
      "model_name": "CheckboxModel",
      "state": {
       "description": "vcea_eecs",
       "disabled": false,
       "layout": "IPY_MODEL_56eaa976860c430197b0f9923c40e62d",
       "style": "IPY_MODEL_d66291834dea44cb9ec9e13a3c307ec4",
       "value": false
      }
     },
     "a9ad9d713d8a45e6ac1da2e88345db70": {
      "model_module": "@jupyter-widgets/controls",
      "model_module_version": "1.5.0",
      "model_name": "CheckboxModel",
      "state": {
       "description": "parent2_highest_educ_lvl",
       "disabled": false,
       "layout": "IPY_MODEL_ab84b041fa0b4af88aff2439ad752feb",
       "style": "IPY_MODEL_cc9b3ce49c7349b89e1d7cb3d95dac12",
       "value": true
      }
     },
     "a9d2ecb663c54862b3bb35c9f5ec49c7": {
      "model_module": "@jupyter-widgets/controls",
      "model_module_version": "1.5.0",
      "model_name": "VBoxModel",
      "state": {
       "children": [
        "IPY_MODEL_4421e2672b0e494b9ad829a46ea0662a",
        "IPY_MODEL_6e41cec8bfa34a0a934fbc2573aa1197",
        "IPY_MODEL_28a60e4f163a4b8fb249392138152b6f",
        "IPY_MODEL_8e98e50b573943b5879df1f43e0efe87",
        "IPY_MODEL_863c0de8da924f5caf828a443db0bfa9",
        "IPY_MODEL_d773c9c1b144469da4d8e1ea7e220b2c",
        "IPY_MODEL_7b94114ec1544da9a640a2d4de05d9ed",
        "IPY_MODEL_6badbe2866724017ace421e524c7e467"
       ],
       "layout": "IPY_MODEL_cac5e997155b468c882f34c2a95fe90c"
      }
     },
     "a9d81ab6e9c942609e6f0685dba46c1e": {
      "model_module": "@jupyter-widgets/controls",
      "model_module_version": "1.5.0",
      "model_name": "CheckboxModel",
      "state": {
       "description": "remedial",
       "disabled": false,
       "layout": "IPY_MODEL_ea31aae526ca4564affcb7de36815ad9",
       "style": "IPY_MODEL_6f7e5d8fddb3495f9b5ef710352647bb",
       "value": false
      }
     },
     "aa07a82314c74193898283059615253b": {
      "model_module": "@jupyter-widgets/controls",
      "model_module_version": "1.5.0",
      "model_name": "DescriptionStyleModel",
      "state": {
       "description_width": ""
      }
     },
     "aa60152fbb4249a49568ac690d63285d": {
      "model_module": "@jupyter-widgets/controls",
      "model_module_version": "1.5.0",
      "model_name": "IntSliderModel",
      "state": {
       "description": "y",
       "layout": "IPY_MODEL_2a602f45fa794bdeb3bad2cc4f72c018",
       "min": 1,
       "style": "IPY_MODEL_d1566ab4844d4fa49ac13e0124ff7e82",
       "value": 50
      }
     },
     "aa9137702e8c45b0ada20663ed1db892": {
      "model_module": "@jupyter-widgets/base",
      "model_module_version": "1.2.0",
      "model_name": "LayoutModel",
      "state": {}
     },
     "aaa1044ac9964caea0d68146f9f78d32": {
      "model_module": "@jupyter-widgets/base",
      "model_module_version": "1.2.0",
      "model_name": "LayoutModel",
      "state": {}
     },
     "aaa512c2cdeb4eefa3bd59965ec1dd55": {
      "model_module": "@jupyter-widgets/controls",
      "model_module_version": "1.5.0",
      "model_name": "SliderStyleModel",
      "state": {
       "description_width": ""
      }
     },
     "ab2bf24acdcb46ae980dd1e8c5730a8a": {
      "model_module": "@jupyter-widgets/controls",
      "model_module_version": "1.5.0",
      "model_name": "DescriptionStyleModel",
      "state": {
       "description_width": ""
      }
     },
     "ab2c7695eb314bb5922cb48757846a96": {
      "model_module": "@jupyter-widgets/controls",
      "model_module_version": "1.5.0",
      "model_name": "CheckboxModel",
      "state": {
       "description": "pct_hisp",
       "disabled": false,
       "layout": "IPY_MODEL_6792b4f8d5d849e49301e5e5dcce01b8",
       "style": "IPY_MODEL_a61611b7c4b84fbe83388d1510dc510e",
       "value": false
      }
     },
     "ab2d08805717419195e27dec4fa286ef": {
      "model_module": "@jupyter-widgets/controls",
      "model_module_version": "1.5.0",
      "model_name": "VBoxModel",
      "state": {
       "_dom_classes": [
        "widget-interact"
       ],
       "children": [
        "IPY_MODEL_b8a1a0665d8e4466aed63a47281cf2fd",
        "IPY_MODEL_bbaefa267f4a4d3ea174794c7a15e40e",
        "IPY_MODEL_232881ebd8134760be0f56b0909338ed"
       ],
       "layout": "IPY_MODEL_1064316d40644e57a757e52ec63e1e1a"
      }
     },
     "ab554abb3a7641868fffb915c908b7eb": {
      "model_module": "@jupyter-widgets/controls",
      "model_module_version": "1.5.0",
      "model_name": "DescriptionStyleModel",
      "state": {
       "description_width": ""
      }
     },
     "ab84b041fa0b4af88aff2439ad752feb": {
      "model_module": "@jupyter-widgets/base",
      "model_module_version": "1.2.0",
      "model_name": "LayoutModel",
      "state": {}
     },
     "ab9eba3d681745ad9d3ac94024e4e64d": {
      "model_module": "@jupyter-widgets/controls",
      "model_module_version": "1.5.0",
      "model_name": "AccordionModel",
      "state": {
       "_titles": {
        "0": "Admissions",
        "1": "Demographics",
        "2": "Visitation",
        "3": "Transfer"
       },
       "children": [
        "IPY_MODEL_9efb4490811c427a8e3541ee1f85904c",
        "IPY_MODEL_a54179dffa80492299816d467579f46f",
        "IPY_MODEL_1a2413c4ea6f4d49859f1c681cb581f0",
        "IPY_MODEL_846d192dc3514fd6bd31743a2a542f7f"
       ],
       "layout": "IPY_MODEL_d2a3e10108434fba903cf726ebff098b"
      }
     },
     "abfa46caf51044259203e875e09043b6": {
      "model_module": "@jupyter-widgets/controls",
      "model_module_version": "1.5.0",
      "model_name": "CheckboxModel",
      "state": {
       "description": "CHS",
       "disabled": false,
       "layout": "IPY_MODEL_710c0494c4f2451d9be8ffa7ecce7bfb",
       "style": "IPY_MODEL_38e70396a1c049c58315a44a038827ec",
       "value": false
      }
     },
     "ac2b16d985214aa7ad87a3d279855e57": {
      "model_module": "@jupyter-widgets/base",
      "model_module_version": "1.2.0",
      "model_name": "LayoutModel",
      "state": {
       "flex_flow": "row wrap"
      }
     },
     "ac5a0aacd049438ea56164044d9dc48d": {
      "model_module": "@jupyter-widgets/controls",
      "model_module_version": "1.5.0",
      "model_name": "CheckboxModel",
      "state": {
       "description": "pct_ai",
       "disabled": false,
       "layout": "IPY_MODEL_8eafd2c2865542cc9c0fbaf94d5155d3",
       "style": "IPY_MODEL_f979e24b69cb40da824ba34845149e16",
       "value": false
      }
     },
     "ac82ee8b88604f2b819da1ae9be516ed": {
      "model_module": "@jupyter-widgets/controls",
      "model_module_version": "1.5.0",
      "model_name": "DescriptionStyleModel",
      "state": {
       "description_width": ""
      }
     },
     "ac940bdd46dc451d9d6c24c569a0a395": {
      "model_module": "@jupyter-widgets/controls",
      "model_module_version": "1.5.0",
      "model_name": "IntSliderModel",
      "state": {
       "description": "y",
       "layout": "IPY_MODEL_b050d21b4d4e4310aae3a7e8650c97ea",
       "min": 1,
       "style": "IPY_MODEL_5c277719298042d2ae44b630a281c0e6",
       "value": 50
      }
     },
     "acd29a64fed3401aa38483c96183f1cb": {
      "model_module": "@jupyter-widgets/controls",
      "model_module_version": "1.5.0",
      "model_name": "DescriptionStyleModel",
      "state": {
       "description_width": ""
      }
     },
     "ace93362208b4186833a863160ca2b0c": {
      "model_module": "@jupyter-widgets/base",
      "model_module_version": "1.2.0",
      "model_name": "LayoutModel",
      "state": {}
     },
     "ad57c072a4794045bf0f4b5e5e686d98": {
      "model_module": "@jupyter-widgets/controls",
      "model_module_version": "1.5.0",
      "model_name": "DescriptionStyleModel",
      "state": {
       "description_width": ""
      }
     },
     "ad7d512734ec449899f2ac06b189c596": {
      "model_module": "@jupyter-widgets/base",
      "model_module_version": "1.2.0",
      "model_name": "LayoutModel",
      "state": {}
     },
     "ad8f243c23b8423bb08d658843dfd203": {
      "model_module": "@jupyter-widgets/controls",
      "model_module_version": "1.5.0",
      "model_name": "VBoxModel",
      "state": {
       "children": [
        "IPY_MODEL_daae1b435e464879be118eefbadf43a2",
        "IPY_MODEL_832b3020d3cc4d7ab6573cfb18343b04",
        "IPY_MODEL_a77ace009acc41a4bda3a0c9e8e99c0a",
        "IPY_MODEL_535208fe3785429983b0358ee3666f09",
        "IPY_MODEL_4b5cc6522741487490fbda9d52f69685",
        "IPY_MODEL_573d010c2c064fd2b23f504400930145",
        "IPY_MODEL_b4378b3486994195a76df551128c3575",
        "IPY_MODEL_37f42153c08245cd90e9174d6f59cbb7",
        "IPY_MODEL_46cc618957d74128b5159d8385cc9a30",
        "IPY_MODEL_573b4e7293ec4a259df211e91c2998ea",
        "IPY_MODEL_54bf173b0c9442e5b7a3966eefca023d",
        "IPY_MODEL_b47f3507c1094a44be7e3dda3ca00164",
        "IPY_MODEL_ab2c7695eb314bb5922cb48757846a96"
       ],
       "layout": "IPY_MODEL_7587428b249f424db69aa8207e70705f"
      }
     },
     "ada4e38f99594ea89f9c66df58667ea1": {
      "model_module": "@jupyter-widgets/controls",
      "model_module_version": "1.5.0",
      "model_name": "CheckboxModel",
      "state": {
       "description": "RS",
       "disabled": false,
       "layout": "IPY_MODEL_1e258180b8cf49028a16b1549a4b76ee",
       "style": "IPY_MODEL_21f114b05a784ee9979e6f9b7860e4a4",
       "value": false
      }
     },
     "adedf40c034c4b698d99622ad86661cb": {
      "model_module": "@jupyter-widgets/controls",
      "model_module_version": "1.5.0",
      "model_name": "DescriptionStyleModel",
      "state": {
       "description_width": ""
      }
     },
     "adfe4fda21cc4cb5a9fbd41442942642": {
      "model_module": "@jupyter-widgets/controls",
      "model_module_version": "1.5.0",
      "model_name": "DescriptionStyleModel",
      "state": {
       "description_width": ""
      }
     },
     "ae5f4262a1a24faface7039685b8f70f": {
      "model_module": "@jupyter-widgets/controls",
      "model_module_version": "1.5.0",
      "model_name": "DescriptionStyleModel",
      "state": {
       "description_width": ""
      }
     },
     "ae62559507a243c9a20baec3b21f3401": {
      "model_module": "@jupyter-widgets/controls",
      "model_module_version": "1.5.0",
      "model_name": "SliderStyleModel",
      "state": {
       "description_width": ""
      }
     },
     "ae6484d258bc452fbde8d6e870118b71": {
      "model_module": "@jupyter-widgets/base",
      "model_module_version": "1.2.0",
      "model_name": "LayoutModel",
      "state": {}
     },
     "ae860d9f96b04f55a88f2bb0ad5209ef": {
      "model_module": "@jupyter-widgets/base",
      "model_module_version": "1.2.0",
      "model_name": "LayoutModel",
      "state": {}
     },
     "af0ee0adbc884959b61e5bffb36464ec": {
      "model_module": "@jupyter-widgets/controls",
      "model_module_version": "1.5.0",
      "model_name": "DescriptionStyleModel",
      "state": {
       "description_width": ""
      }
     },
     "b0063ce18ef74ad783fe20a4cd395a5f": {
      "model_module": "@jupyter-widgets/controls",
      "model_module_version": "1.5.0",
      "model_name": "DescriptionStyleModel",
      "state": {
       "description_width": ""
      }
     },
     "b02815ec91864135bcf9ce9160e7a582": {
      "model_module": "@jupyter-widgets/controls",
      "model_module_version": "1.5.0",
      "model_name": "ButtonModel",
      "state": {
       "description": "Import Dataset",
       "layout": "IPY_MODEL_757c697c0b4a4efa9be8bc825157080d",
       "style": "IPY_MODEL_98a0743b44f24c11980d18abaf03e020"
      }
     },
     "b0460f1b5c51404fae47f805df79a57c": {
      "model_module": "@jupyter-widgets/controls",
      "model_module_version": "1.5.0",
      "model_name": "DescriptionStyleModel",
      "state": {
       "description_width": ""
      }
     },
     "b050d21b4d4e4310aae3a7e8650c97ea": {
      "model_module": "@jupyter-widgets/base",
      "model_module_version": "1.2.0",
      "model_name": "LayoutModel",
      "state": {}
     },
     "b0aaec6ee4a84ad587301d0698aa5c1f": {
      "model_module": "@jupyter-widgets/base",
      "model_module_version": "1.2.0",
      "model_name": "LayoutModel",
      "state": {}
     },
     "b0d6cb92702b4b1a93b19fc6c84b0022": {
      "model_module": "@jupyter-widgets/controls",
      "model_module_version": "1.5.0",
      "model_name": "DescriptionStyleModel",
      "state": {
       "description_width": ""
      }
     },
     "b0f54becc55f43b3b25ac7f328f4f915": {
      "model_module": "@jupyter-widgets/base",
      "model_module_version": "1.2.0",
      "model_name": "LayoutModel",
      "state": {}
     },
     "b1129828060148079e9e07bc672a761c": {
      "model_module": "@jupyter-widgets/base",
      "model_module_version": "1.2.0",
      "model_name": "LayoutModel",
      "state": {}
     },
     "b12bbbd7006c4314a8410804decb25ad": {
      "model_module": "@jupyter-widgets/controls",
      "model_module_version": "1.5.0",
      "model_name": "CheckboxModel",
      "state": {
       "description": "cahnrext",
       "disabled": false,
       "layout": "IPY_MODEL_a6c1dfe76ad042bfbdbffccce779d1c4",
       "style": "IPY_MODEL_8a043464324a4b5d8653e8ab7ba288ef",
       "value": false
      }
     },
     "b1592ee8cdb7448c874f4414ef69b5a6": {
      "model_module": "@jupyter-widgets/controls",
      "model_module_version": "1.5.0",
      "model_name": "CheckboxModel",
      "state": {
       "description": "attendee_preview",
       "disabled": false,
       "layout": "IPY_MODEL_96612328909d41df9d70987add2abc66",
       "style": "IPY_MODEL_ae5f4262a1a24faface7039685b8f70f",
       "value": false
      }
     },
     "b19b9582df0d4422b2a89e2babc97fc9": {
      "model_module": "@jupyter-widgets/controls",
      "model_module_version": "1.5.0",
      "model_name": "DescriptionStyleModel",
      "state": {
       "description_width": ""
      }
     },
     "b19d9ab9b6094265951ee45cf57a69d1": {
      "model_module": "@jupyter-widgets/base",
      "model_module_version": "1.2.0",
      "model_name": "LayoutModel",
      "state": {}
     },
     "b2053530a056442db02ed948c230a3d4": {
      "model_module": "@jupyter-widgets/base",
      "model_module_version": "1.2.0",
      "model_name": "LayoutModel",
      "state": {}
     },
     "b20d1f5727de4ac89442605afd6792fd": {
      "model_module": "@jupyter-widgets/base",
      "model_module_version": "1.2.0",
      "model_name": "LayoutModel",
      "state": {}
     },
     "b20f75a19b9543e7a704c62e8060856c": {
      "model_module": "@jupyter-widgets/controls",
      "model_module_version": "1.5.0",
      "model_name": "CheckboxModel",
      "state": {
       "description": "nursing",
       "disabled": false,
       "layout": "IPY_MODEL_59d9bd4fd5534e41ba3547b7f61eb2a4",
       "style": "IPY_MODEL_07af66bde93949e094308dbf9568bb84",
       "value": false
      }
     },
     "b256199d363e4dcaaaf30e8d92951385": {
      "model_module": "@jupyter-widgets/controls",
      "model_module_version": "1.5.0",
      "model_name": "CheckboxModel",
      "state": {
       "description": "AICE",
       "disabled": false,
       "layout": "IPY_MODEL_fd57a085cd2a46c786059626d11409f0",
       "style": "IPY_MODEL_c0af0519f7be4bfc9670cb589a4011d4",
       "value": false
      }
     },
     "b2571934055c4fc5b37f5b65d3559a4d": {
      "model_module": "@jupyter-widgets/base",
      "model_module_version": "1.2.0",
      "model_name": "LayoutModel",
      "state": {}
     },
     "b258ac59d32845939dccfeef3aedb45a": {
      "model_module": "@jupyter-widgets/controls",
      "model_module_version": "1.5.0",
      "model_name": "CheckboxModel",
      "state": {
       "description": "race_alaska",
       "disabled": false,
       "layout": "IPY_MODEL_92297c61020c4122ada2341ac6609b3f",
       "style": "IPY_MODEL_f1aba34417844e0c82c56ed4262a3fea",
       "value": false
      }
     },
     "b28a418d817f4ae39775a2f5ed3c46fe": {
      "model_module": "@jupyter-widgets/controls",
      "model_module_version": "1.5.0",
      "model_name": "VBoxModel",
      "state": {
       "children": [
        "IPY_MODEL_6aee970075824598894b421ce2aa9629",
        "IPY_MODEL_dd614051af834825aeb353f0d9cfcff7",
        "IPY_MODEL_0be3426cdd9742d088de2f026d4da478"
       ],
       "layout": "IPY_MODEL_c760df9b81c24668b3d35c470160a1ec"
      }
     },
     "b2ac59950dea47ebbc75a265c64420b4": {
      "model_module": "@jupyter-widgets/controls",
      "model_module_version": "1.5.0",
      "model_name": "ButtonModel",
      "state": {
       "description": "Import Dataset",
       "layout": "IPY_MODEL_21c3d710535a48b4a9d541586d0638cc",
       "style": "IPY_MODEL_8afc13f3b6e944cf9ed718db1383a13f"
      }
     },
     "b3598662367f4f78a26cae8027f9b724": {
      "model_module": "@jupyter-widgets/controls",
      "model_module_version": "1.5.0",
      "model_name": "CheckboxModel",
      "state": {
       "description": "age",
       "disabled": false,
       "layout": "IPY_MODEL_2e23a330865e41f38cbd787d9c2a1079",
       "style": "IPY_MODEL_ac82ee8b88604f2b819da1ae9be516ed",
       "value": false
      }
     },
     "b36e0fd0c371459bb7aa55f468eb68db": {
      "model_module": "@jupyter-widgets/controls",
      "model_module_version": "1.5.0",
      "model_name": "DescriptionStyleModel",
      "state": {
       "description_width": ""
      }
     },
     "b3a40577bf8a4325be528fd5176d43d5": {
      "model_module": "@jupyter-widgets/controls",
      "model_module_version": "1.5.0",
      "model_name": "DescriptionStyleModel",
      "state": {
       "description_width": ""
      }
     },
     "b41b084465784b9580cb7884931a6b6d": {
      "model_module": "@jupyter-widgets/controls",
      "model_module_version": "1.5.0",
      "model_name": "CheckboxModel",
      "state": {
       "description": "education",
       "disabled": false,
       "layout": "IPY_MODEL_8d7ffbdae4d84490b2b1cf9ad646adee",
       "style": "IPY_MODEL_41e90488662f41258229ccde790185b2",
       "value": false
      }
     },
     "b41b3869311a4feda68c6c5e522734e6": {
      "model_module": "@jupyter-widgets/controls",
      "model_module_version": "1.5.0",
      "model_name": "CheckboxModel",
      "state": {
       "description": "first_gen_flag",
       "disabled": false,
       "layout": "IPY_MODEL_6a393c256193408084d0a897cc5d19b4",
       "style": "IPY_MODEL_2d8350ede8174210831fc6bbed0251ad",
       "value": false
      }
     },
     "b4332b13c52b48dfba52a872c1baf20d": {
      "model_module": "@jupyter-widgets/controls",
      "model_module_version": "1.5.0",
      "model_name": "DescriptionStyleModel",
      "state": {
       "description_width": ""
      }
     },
     "b4378b3486994195a76df551128c3575": {
      "model_module": "@jupyter-widgets/controls",
      "model_module_version": "1.5.0",
      "model_name": "CheckboxModel",
      "state": {
       "description": "pct_ai",
       "disabled": false,
       "layout": "IPY_MODEL_4cf6c575e4884913be25fae315d36e9d",
       "style": "IPY_MODEL_6d066901daae4eb09d9fbf0f8c828956",
       "value": false
      }
     },
     "b47f3507c1094a44be7e3dda3ca00164": {
      "model_module": "@jupyter-widgets/controls",
      "model_module_version": "1.5.0",
      "model_name": "CheckboxModel",
      "state": {
       "description": "pct_non",
       "disabled": false,
       "layout": "IPY_MODEL_90e898546a744834b191f698416fab29",
       "style": "IPY_MODEL_c11b9ac0600c4848938209eeab6cd5d7",
       "value": false
      }
     },
     "b489e8391b9c4daa9a66481aff5889f1": {
      "model_module": "@jupyter-widgets/controls",
      "model_module_version": "1.5.0",
      "model_name": "CheckboxModel",
      "state": {
       "description": "cas_math",
       "disabled": false,
       "layout": "IPY_MODEL_41bc691b2fbb4ab2b57d0e446777f0b1",
       "style": "IPY_MODEL_48c8774bba59490a866ae5f218d2af50",
       "value": false
      }
     },
     "b4ad75008d8849b58be79a389e8f2a5e": {
      "model_module": "@jupyter-widgets/base",
      "model_module_version": "1.2.0",
      "model_name": "LayoutModel",
      "state": {}
     },
     "b53fa1d4438940ad92bd36460a1dd51d": {
      "model_module": "@jupyter-widgets/controls",
      "model_module_version": "1.5.0",
      "model_name": "CheckboxModel",
      "state": {
       "description": "fall_midterm_gpa_avg_ind",
       "disabled": false,
       "layout": "IPY_MODEL_1f1fcf13ccde40db972923285e698e8f",
       "style": "IPY_MODEL_256c3885943d439b8efb295194a51a7c",
       "value": false
      }
     },
     "b54dc037601b4bd3af4aa4dff77c446f": {
      "model_module": "@jupyter-widgets/controls",
      "model_module_version": "1.5.0",
      "model_name": "DescriptionStyleModel",
      "state": {
       "description_width": ""
      }
     },
     "b5562b9411cd44afa2b889b6011bed6b": {
      "model_module": "@jupyter-widgets/controls",
      "model_module_version": "1.5.0",
      "model_name": "DescriptionStyleModel",
      "state": {
       "description_width": ""
      }
     },
     "b56f3884c4224c2fb0b8b0cb9185c0cf": {
      "model_module": "@jupyter-widgets/controls",
      "model_module_version": "1.5.0",
      "model_name": "DescriptionStyleModel",
      "state": {
       "description_width": ""
      }
     },
     "b5bcca21881a4469af6e811737ea6bbe": {
      "model_module": "@jupyter-widgets/controls",
      "model_module_version": "1.5.0",
      "model_name": "DescriptionStyleModel",
      "state": {
       "description_width": ""
      }
     },
     "b5e5eb1225644bfe9d5e11252d1de43d": {
      "model_module": "@jupyter-widgets/base",
      "model_module_version": "1.2.0",
      "model_name": "LayoutModel",
      "state": {}
     },
     "b642f92854354fd39f99dfd01295731f": {
      "model_module": "@jupyter-widgets/base",
      "model_module_version": "1.2.0",
      "model_name": "LayoutModel",
      "state": {}
     },
     "b69102bfee344150970462f936854907": {
      "model_module": "@jupyter-widgets/base",
      "model_module_version": "1.2.0",
      "model_name": "LayoutModel",
      "state": {}
     },
     "b6b351f122b2423988a08069becdaa8a": {
      "model_module": "@jupyter-widgets/controls",
      "model_module_version": "1.5.0",
      "model_name": "DescriptionStyleModel",
      "state": {
       "description_width": ""
      }
     },
     "b6fea12b5d6a4ebf826d063065aa2f68": {
      "model_module": "@jupyter-widgets/controls",
      "model_module_version": "1.5.0",
      "model_name": "CheckboxModel",
      "state": {
       "description": "vcea_mech",
       "disabled": false,
       "layout": "IPY_MODEL_b4ad75008d8849b58be79a389e8f2a5e",
       "style": "IPY_MODEL_743854158ccd46a8927bd71a5496e820",
       "value": false
      }
     },
     "b78cdf8ee0234bd1a262481fac8cc1df": {
      "model_module": "@jupyter-widgets/controls",
      "model_module_version": "1.5.0",
      "model_name": "CheckboxModel",
      "state": {
       "description": "AICE",
       "disabled": false,
       "layout": "IPY_MODEL_cfb26e7b79c6486c86caa43fad29b18f",
       "style": "IPY_MODEL_8db79547dcad43bbb3ac35bb1f7b9475",
       "value": false
      }
     },
     "b7906ec2f98c4e71aa3a62a3f99efc64": {
      "model_module": "@jupyter-widgets/controls",
      "model_module_version": "1.5.0",
      "model_name": "CheckboxModel",
      "state": {
       "description": "pct_two",
       "disabled": false,
       "layout": "IPY_MODEL_2137981e2cf8466aad771fee55fedd7e",
       "style": "IPY_MODEL_d38357115ae0481d85c0b85eea76425f",
       "value": false
      }
     },
     "b7a72ed38e8b49ba874c53d11fe7daf9": {
      "model_module": "@jupyter-widgets/base",
      "model_module_version": "1.2.0",
      "model_name": "LayoutModel",
      "state": {}
     },
     "b7eb69f38e5947ef9373cad07a995330": {
      "model_module": "@jupyter-widgets/base",
      "model_module_version": "1.2.0",
      "model_name": "LayoutModel",
      "state": {}
     },
     "b7f52a822bf94547a09ef222e05504a0": {
      "model_module": "@jupyter-widgets/base",
      "model_module_version": "1.2.0",
      "model_name": "LayoutModel",
      "state": {}
     },
     "b87a6b10bfda42a3987c977e0d5ed44b": {
      "model_module": "@jupyter-widgets/controls",
      "model_module_version": "1.5.0",
      "model_name": "ButtonModel",
      "state": {
       "description": "Create Plots",
       "layout": "IPY_MODEL_29ae67ebbe994937ae8ada98d4ca8d38",
       "style": "IPY_MODEL_17cb8f6384244d2e8194be033542fdd5"
      }
     },
     "b8a1a0665d8e4466aed63a47281cf2fd": {
      "model_module": "@jupyter-widgets/controls",
      "model_module_version": "1.5.0",
      "model_name": "DropdownModel",
      "state": {
       "_options_labels": [
        "emplid",
        "enrl_ind",
        "acad_year",
        "count_week_from_term_begin_dt",
        "father_wsu_flag",
        "parent1_highest_educ_lvl",
        "parent2_highest_educ_lvl"
       ],
       "description": "x",
       "index": 0,
       "layout": "IPY_MODEL_d30c1d3bc799436d861f4c535c271a9c",
       "style": "IPY_MODEL_38552d84c2ca4548bae29da886dfb7d8"
      }
     },
     "b8b01d176793456aaca7b92713672a30": {
      "model_module": "@jupyter-widgets/controls",
      "model_module_version": "1.5.0",
      "model_name": "DescriptionStyleModel",
      "state": {
       "description_width": ""
      }
     },
     "b95bda9d0ec94e7c89467ca90475bc57": {
      "model_module": "@jupyter-widgets/controls",
      "model_module_version": "1.5.0",
      "model_name": "DescriptionStyleModel",
      "state": {
       "description_width": ""
      }
     },
     "b95f72f304d94cbfa93dc5e8bdd8f8a0": {
      "model_module": "@jupyter-widgets/base",
      "model_module_version": "1.2.0",
      "model_name": "LayoutModel",
      "state": {}
     },
     "b985c44ca701437d87c55673a68349d5": {
      "model_module": "@jupyter-widgets/controls",
      "model_module_version": "1.5.0",
      "model_name": "DescriptionStyleModel",
      "state": {
       "description_width": ""
      }
     },
     "b99019983092499f9ef44a5659bc5ef5": {
      "model_module": "@jupyter-widgets/controls",
      "model_module_version": "1.5.0",
      "model_name": "IntSliderModel",
      "state": {
       "description": "y",
       "layout": "IPY_MODEL_9badf45c31584bc4bfd22f432a04b20a",
       "min": 1,
       "style": "IPY_MODEL_2c525aa10951400495d3caf37373425f",
       "value": 50
      }
     },
     "b9a975dd777f46e3924ea6fb90aa0594": {
      "model_module": "@jupyter-widgets/controls",
      "model_module_version": "1.5.0",
      "model_name": "DescriptionStyleModel",
      "state": {
       "description_width": ""
      }
     },
     "b9c19d32f7164bcf8bf1611a37567264": {
      "model_module": "@jupyter-widgets/controls",
      "model_module_version": "1.5.0",
      "model_name": "CheckboxModel",
      "state": {
       "description": "attendee_la_bienvenida",
       "disabled": false,
       "layout": "IPY_MODEL_92e70370c8b7400fba234ce22474ec5a",
       "style": "IPY_MODEL_1202b759b2c9448298d19797922c2ba8",
       "value": false
      }
     },
     "ba33e1c4af114bf7ba9ed77b5a00811c": {
      "model_module": "@jupyter-widgets/controls",
      "model_module_version": "1.5.0",
      "model_name": "DescriptionStyleModel",
      "state": {
       "description_width": ""
      }
     },
     "ba912d2547a64805b5ba872d69ffe741": {
      "model_module": "@jupyter-widgets/base",
      "model_module_version": "1.2.0",
      "model_name": "LayoutModel",
      "state": {}
     },
     "bacac591391c4f878fe04d74ff0fc3bb": {
      "model_module": "@jupyter-widgets/base",
      "model_module_version": "1.2.0",
      "model_name": "LayoutModel",
      "state": {}
     },
     "bacdf7b4d14646a3827d801c568613fa": {
      "model_module": "@jupyter-widgets/controls",
      "model_module_version": "1.5.0",
      "model_name": "DescriptionStyleModel",
      "state": {
       "description_width": ""
      }
     },
     "bae9b5147c0f4c0ba887743f5487f9da": {
      "model_module": "@jupyter-widgets/base",
      "model_module_version": "1.2.0",
      "model_name": "LayoutModel",
      "state": {}
     },
     "baec9356e6c34511ac216a7a78d4eeff": {
      "model_module": "@jupyter-widgets/controls",
      "model_module_version": "1.5.0",
      "model_name": "CheckboxModel",
      "state": {
       "description": "race_native_hawaiian",
       "disabled": false,
       "layout": "IPY_MODEL_37e02df04d6443e6aac8e252ec0334d6",
       "style": "IPY_MODEL_364546a2d4174419a756078820ed266e",
       "value": false
      }
     },
     "bb6c71b0f6c04fcc91a9ec8472db48bd": {
      "model_module": "@jupyter-widgets/controls",
      "model_module_version": "1.5.0",
      "model_name": "DescriptionStyleModel",
      "state": {
       "description_width": ""
      }
     },
     "bb7a9c3c11734cf4b36d56afa8483a9c": {
      "model_module": "@jupyter-widgets/controls",
      "model_module_version": "1.5.0",
      "model_name": "VBoxModel",
      "state": {
       "_dom_classes": [
        "widget-interact"
       ],
       "children": [
        "IPY_MODEL_8899c7a7807845c792937c0750399b0d",
        "IPY_MODEL_8905a4657f2540ae94273fda50fca6eb",
        "IPY_MODEL_4787db88555244649f85ffb388076532"
       ],
       "layout": "IPY_MODEL_2527a302a40644438e0575fd5aca10b2"
      }
     },
     "bb7e2171241444279aed363f9d1ef2ca": {
      "model_module": "@jupyter-widgets/base",
      "model_module_version": "1.2.0",
      "model_name": "LayoutModel",
      "state": {}
     },
     "bb84239748364a43be931a2e4228e656": {
      "model_module": "@jupyter-widgets/controls",
      "model_module_version": "1.5.0",
      "model_name": "CheckboxModel",
      "state": {
       "description": "cas_crim",
       "disabled": false,
       "layout": "IPY_MODEL_d661309fed4d4ad59411032a3b6c60e0",
       "style": "IPY_MODEL_b9a975dd777f46e3924ea6fb90aa0594",
       "value": false
      }
     },
     "bbaefa267f4a4d3ea174794c7a15e40e": {
      "model_module": "@jupyter-widgets/controls",
      "model_module_version": "1.5.0",
      "model_name": "IntSliderModel",
      "state": {
       "description": "y",
       "layout": "IPY_MODEL_3b4dfed6b4d54c9ba61f783751090aba",
       "min": 1,
       "style": "IPY_MODEL_bdd3db39164a40e7afc86ab9b688bbc9",
       "value": 50
      }
     },
     "bbc7b504ec594c2bb0fc1039d2478e19": {
      "model_module": "@jupyter-widgets/controls",
      "model_module_version": "1.5.0",
      "model_name": "CheckboxModel",
      "state": {
       "description": "attendee_shaping",
       "disabled": false,
       "layout": "IPY_MODEL_faebb915b0bb428d9793bc25696f6d3c",
       "style": "IPY_MODEL_ee7b1ff31f154592a264284959a60785",
       "value": false
      }
     },
     "bc23055f7c3443fc84634028baa51145": {
      "model_module": "@jupyter-widgets/base",
      "model_module_version": "1.2.0",
      "model_name": "LayoutModel",
      "state": {}
     },
     "bc59d3043ef64cdfadecea180a9132b1": {
      "model_module": "@jupyter-widgets/controls",
      "model_module_version": "1.5.0",
      "model_name": "CheckboxModel",
      "state": {
       "description": "cum_adj_transfer_hours",
       "disabled": false,
       "layout": "IPY_MODEL_47d175781e6b46278855439ca4981133",
       "style": "IPY_MODEL_d395f1311b6b43ffac577cfdc1b4da87",
       "value": false
      }
     },
     "bcffc9cf2d674379a63f759e6bfd6549": {
      "model_module": "@jupyter-widgets/controls",
      "model_module_version": "1.5.0",
      "model_name": "DescriptionStyleModel",
      "state": {
       "description_width": ""
      }
     },
     "bd6d76ed00de4c07aec534a7cb16de01": {
      "model_module": "@jupyter-widgets/controls",
      "model_module_version": "1.5.0",
      "model_name": "CheckboxModel",
      "state": {
       "description": "medicine",
       "disabled": false,
       "layout": "IPY_MODEL_1e3f1b4819d3420e9fbb4f11bd97bdfb",
       "style": "IPY_MODEL_bacdf7b4d14646a3827d801c568613fa",
       "value": false
      }
     },
     "bda08e6cf5004bc8ac3d92b711dc7741": {
      "model_module": "@jupyter-widgets/controls",
      "model_module_version": "1.5.0",
      "model_name": "CheckboxModel",
      "state": {
       "description": "spring_avg_pct_CDF",
       "disabled": false,
       "layout": "IPY_MODEL_40173deac7594cc7b420529acd4f3145",
       "style": "IPY_MODEL_479db3b398ac443aa9c36c436d6b09c4",
       "value": false
      }
     },
     "bda123d132724728a1773bcc660b4435": {
      "model_module": "@jupyter-widgets/controls",
      "model_module_version": "1.5.0",
      "model_name": "DescriptionStyleModel",
      "state": {
       "description_width": ""
      }
     },
     "bdb918b39bc74faead5653a2702669cb": {
      "model_module": "@jupyter-widgets/controls",
      "model_module_version": "1.5.0",
      "model_name": "CheckboxModel",
      "state": {
       "description": "cas_phys",
       "disabled": false,
       "layout": "IPY_MODEL_2946250a75a04e4fb200e9855b529a73",
       "style": "IPY_MODEL_0ca3c0ea8e114cabbb6d94a43a9db2cb",
       "value": false
      }
     },
     "bdd3db39164a40e7afc86ab9b688bbc9": {
      "model_module": "@jupyter-widgets/controls",
      "model_module_version": "1.5.0",
      "model_name": "SliderStyleModel",
      "state": {
       "description_width": ""
      }
     },
     "bdf36730855c48f0adf8e096a9993a5a": {
      "model_module": "@jupyter-widgets/controls",
      "model_module_version": "1.5.0",
      "model_name": "CheckboxModel",
      "state": {
       "description": "attendee_vibes",
       "disabled": false,
       "layout": "IPY_MODEL_3c2eda0ed07246afa393c568a0cb1d42",
       "style": "IPY_MODEL_39873e5acff54eac9a863b2d4231a79f",
       "value": false
      }
     },
     "be391a07bdb446d9a8371cb10729feea": {
      "model_module": "@jupyter-widgets/controls",
      "model_module_version": "1.5.0",
      "model_name": "CheckboxModel",
      "state": {
       "description": "attendee_transfer_day",
       "disabled": false,
       "layout": "IPY_MODEL_783248b85cdb4a3bb1584a6124ad4f53",
       "style": "IPY_MODEL_bda123d132724728a1773bcc660b4435",
       "value": false
      }
     },
     "bef58f7e3f1342d1b645dff884b18877": {
      "model_module": "@jupyter-widgets/output",
      "model_module_version": "1.0.0",
      "model_name": "OutputModel",
      "state": {
       "layout": "IPY_MODEL_2edcf3e8af0f46d796a8f14cb11b54f0",
       "outputs": [
        {
         "data": {
          "image/png": "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\n",
          "text/plain": "<Figure size 432x288 with 1 Axes>"
         },
         "metadata": {
          "needs_background": "light"
         },
         "output_type": "display_data"
        }
       ]
      }
     },
     "bf0bdfab78cd4b27a9f12011b8ca82ac": {
      "model_module": "@jupyter-widgets/controls",
      "model_module_version": "1.5.0",
      "model_name": "CheckboxModel",
      "state": {
       "description": "education",
       "disabled": false,
       "layout": "IPY_MODEL_d24c9115d2d04c7ca1d76496bd82759c",
       "style": "IPY_MODEL_e7f004f7ee7748d09acd5f633d0bd257",
       "value": false
      }
     },
     "bf2864aec9484c489ee60925be2495f5": {
      "model_module": "@jupyter-widgets/controls",
      "model_module_version": "1.5.0",
      "model_name": "CheckboxModel",
      "state": {
       "description": "marital_status",
       "disabled": false,
       "layout": "IPY_MODEL_86adca66c6464dc9ba0af649939053e3",
       "style": "IPY_MODEL_e1760a66f2654a90811d4ac77ba2617d",
       "value": false
      }
     },
     "bf3e195dcb5443cfb8bf417f7648b800": {
      "model_module": "@jupyter-widgets/base",
      "model_module_version": "1.2.0",
      "model_name": "LayoutModel",
      "state": {}
     },
     "bf76a3dc63494d5fa2fe7d4579e3e108": {
      "model_module": "@jupyter-widgets/base",
      "model_module_version": "1.2.0",
      "model_name": "LayoutModel",
      "state": {}
     },
     "bf97d55e633341cdaac367ef116baccf": {
      "model_module": "@jupyter-widgets/base",
      "model_module_version": "1.2.0",
      "model_name": "LayoutModel",
      "state": {}
     },
     "bf9d6d3c9d3d44cca1330105a64f6829": {
      "model_module": "@jupyter-widgets/base",
      "model_module_version": "1.2.0",
      "model_name": "LayoutModel",
      "state": {
       "flex_flow": "row wrap"
      }
     },
     "bfae3000d90a47d9ac576364ec06986d": {
      "model_module": "@jupyter-widgets/controls",
      "model_module_version": "1.5.0",
      "model_name": "DescriptionStyleModel",
      "state": {
       "description_width": ""
      }
     },
     "bfcb300746e44e58a098ce9b3eefd6c3": {
      "model_module": "@jupyter-widgets/controls",
      "model_module_version": "1.5.0",
      "model_name": "DescriptionStyleModel",
      "state": {
       "description_width": ""
      }
     },
     "c037f9a0ce5844b9a60169986e02812c": {
      "model_module": "@jupyter-widgets/controls",
      "model_module_version": "1.5.0",
      "model_name": "CheckboxModel",
      "state": {
       "description": "cas_biol",
       "disabled": false,
       "layout": "IPY_MODEL_36a14407e9d3496e92e9755a18ecab34",
       "style": "IPY_MODEL_a6709baa2abe4373af586fa3d5c9bf9d",
       "value": false
      }
     },
     "c04eff37a1d741d88ba6e609a0f89b23": {
      "model_module": "@jupyter-widgets/controls",
      "model_module_version": "1.5.0",
      "model_name": "DescriptionStyleModel",
      "state": {
       "description_width": ""
      }
     },
     "c07a3207290b4711881aa65a1eaa539c": {
      "model_module": "@jupyter-widgets/controls",
      "model_module_version": "1.5.0",
      "model_name": "CheckboxModel",
      "state": {
       "description": "educ_rate",
       "disabled": false,
       "layout": "IPY_MODEL_4742fb181a494b62bd7b004dfa4659ab",
       "style": "IPY_MODEL_619d238c6ef84e839ef22d79b2a7657f",
       "value": false
      }
     },
     "c07eb751406d435781e61e2343cf97a8": {
      "model_module": "@jupyter-widgets/controls",
      "model_module_version": "1.5.0",
      "model_name": "DescriptionStyleModel",
      "state": {
       "description_width": ""
      }
     },
     "c0af0519f7be4bfc9670cb589a4011d4": {
      "model_module": "@jupyter-widgets/controls",
      "model_module_version": "1.5.0",
      "model_name": "DescriptionStyleModel",
      "state": {
       "description_width": ""
      }
     },
     "c1115ace0eee464696bafb460a0703e5": {
      "model_module": "@jupyter-widgets/base",
      "model_module_version": "1.2.0",
      "model_name": "LayoutModel",
      "state": {
       "flex_flow": "row wrap"
      }
     },
     "c11b9ac0600c4848938209eeab6cd5d7": {
      "model_module": "@jupyter-widgets/controls",
      "model_module_version": "1.5.0",
      "model_name": "DescriptionStyleModel",
      "state": {
       "description_width": ""
      }
     },
     "c121c6b3071246ebb270e17590edf3e0": {
      "model_module": "@jupyter-widgets/controls",
      "model_module_version": "1.5.0",
      "model_name": "TabModel",
      "state": {
       "_titles": {
        "0": "Background",
        "1": "Characteristics",
        "2": "Coursework",
        "3": "Student Data"
       },
       "children": [
        "IPY_MODEL_ab9eba3d681745ad9d3ac94024e4e64d",
        "IPY_MODEL_937f179069344cae9e78ff8887d83416",
        "IPY_MODEL_27c20f602c104868b619f26c9c434b27",
        "IPY_MODEL_94d7d56c46914ef2b4d2ba5cde874f6d"
       ],
       "layout": "IPY_MODEL_4a91ea8a2033400b8d28bf8e1d274c2b"
      }
     },
     "c15afe1d81ec4eac9ebe4278936c5eb8": {
      "model_module": "@jupyter-widgets/base",
      "model_module_version": "1.2.0",
      "model_name": "LayoutModel",
      "state": {}
     },
     "c15c2eeac3e040728f54eb7b65f04269": {
      "model_module": "@jupyter-widgets/controls",
      "model_module_version": "1.5.0",
      "model_name": "DescriptionStyleModel",
      "state": {
       "description_width": ""
      }
     },
     "c16bfb8476e647ec945ef463b469855a": {
      "model_module": "@jupyter-widgets/controls",
      "model_module_version": "1.5.0",
      "model_name": "DescriptionStyleModel",
      "state": {
       "description_width": ""
      }
     },
     "c191445fce9440b1aaaf33bdd11291a6": {
      "model_module": "@jupyter-widgets/controls",
      "model_module_version": "1.5.0",
      "model_name": "DescriptionStyleModel",
      "state": {
       "description_width": ""
      }
     },
     "c2132fd34e6547fcb491b8c91bd4e4ea": {
      "model_module": "@jupyter-widgets/controls",
      "model_module_version": "1.5.0",
      "model_name": "IntSliderModel",
      "state": {
       "description": "y",
       "layout": "IPY_MODEL_23348ce50f234190923e74711d3cee0a",
       "min": 1,
       "style": "IPY_MODEL_32712d211f8143339d11f06f7c214f3d",
       "value": 50
      }
     },
     "c237d80d51704518b9f6937edd5d9992": {
      "model_module": "@jupyter-widgets/base",
      "model_module_version": "1.2.0",
      "model_name": "LayoutModel",
      "state": {}
     },
     "c2407e854ed24a58a9eaa57732ab53ab": {
      "model_module": "@jupyter-widgets/output",
      "model_module_version": "1.0.0",
      "model_name": "OutputModel",
      "state": {
       "layout": "IPY_MODEL_09681d2636754d45ba4638fb886ab1cf"
      }
     },
     "c2415514705d47789a1c22e1804c1569": {
      "model_module": "@jupyter-widgets/base",
      "model_module_version": "1.2.0",
      "model_name": "LayoutModel",
      "state": {}
     },
     "c26aee56750f4ed08ec8ccd484e14226": {
      "model_module": "@jupyter-widgets/controls",
      "model_module_version": "1.5.0",
      "model_name": "CheckboxModel",
      "state": {
       "description": "city_mid",
       "disabled": false,
       "layout": "IPY_MODEL_d806d59189874eb9a666230c295fec97",
       "style": "IPY_MODEL_7d9893d37eb44e43b5fd98f2233140a8",
       "value": false
      }
     },
     "c2a662ed8edc41a1bc76c700c1da35dd": {
      "model_module": "@jupyter-widgets/base",
      "model_module_version": "1.2.0",
      "model_name": "LayoutModel",
      "state": {
       "flex_flow": "row wrap"
      }
     },
     "c2d4c42e5b63488e9bd1d1543192c7ae": {
      "model_module": "@jupyter-widgets/base",
      "model_module_version": "1.2.0",
      "model_name": "LayoutModel",
      "state": {}
     },
     "c2f24ab49e31479d956f37f91968ff48": {
      "model_module": "@jupyter-widgets/base",
      "model_module_version": "1.2.0",
      "model_name": "LayoutModel",
      "state": {}
     },
     "c33653c953b34023a692529ff49ef4b4": {
      "model_module": "@jupyter-widgets/controls",
      "model_module_version": "1.5.0",
      "model_name": "CheckboxModel",
      "state": {
       "description": "attendee_preview",
       "disabled": false,
       "layout": "IPY_MODEL_610206cba00749d08a386ee1d1a8ce2a",
       "style": "IPY_MODEL_5ff72ab221c945df9583d4d7e2920974",
       "value": false
      }
     },
     "c46e41f8592b45d08d5b4e29ff594718": {
      "model_module": "@jupyter-widgets/base",
      "model_module_version": "1.2.0",
      "model_name": "LayoutModel",
      "state": {}
     },
     "c480b214b2454076a2a9cb5c660cf545": {
      "model_module": "@jupyter-widgets/base",
      "model_module_version": "1.2.0",
      "model_name": "LayoutModel",
      "state": {}
     },
     "c4a444089f5147f4896f5a772ed87965": {
      "model_module": "@jupyter-widgets/base",
      "model_module_version": "1.2.0",
      "model_name": "LayoutModel",
      "state": {}
     },
     "c51f066f48fa4baaa7e19b5fab535bca": {
      "model_module": "@jupyter-widgets/base",
      "model_module_version": "1.2.0",
      "model_name": "LayoutModel",
      "state": {}
     },
     "c556793e2a374963bbe5682d51992611": {
      "model_module": "@jupyter-widgets/controls",
      "model_module_version": "1.5.0",
      "model_name": "DescriptionStyleModel",
      "state": {
       "description_width": ""
      }
     },
     "c5adf18372c84e9db44079c443f601f4": {
      "model_module": "@jupyter-widgets/controls",
      "model_module_version": "1.5.0",
      "model_name": "CheckboxModel",
      "state": {
       "description": "attendee_welcome_center",
       "disabled": false,
       "layout": "IPY_MODEL_a7d4f9121ab84bd7b20a4207f2ae211e",
       "style": "IPY_MODEL_c9be50a82b854c3c8fdfbfcf73087b81",
       "value": false
      }
     },
     "c5b55aa7864b44178c532bbc5cabb164": {
      "model_module": "@jupyter-widgets/controls",
      "model_module_version": "1.5.0",
      "model_name": "CheckboxModel",
      "state": {
       "description": "rural_fringe",
       "disabled": false,
       "layout": "IPY_MODEL_8e097410a6994dfebbbb71aad366699a",
       "style": "IPY_MODEL_0fd2f0454f4349c78e3f4dce2d75c546",
       "value": false
      }
     },
     "c5d0348465f24965b591c5d9362bb514": {
      "model_module": "@jupyter-widgets/controls",
      "model_module_version": "1.5.0",
      "model_name": "IntSliderModel",
      "state": {
       "description": "y",
       "layout": "IPY_MODEL_e98965fa73df4767bec166092c7d2163",
       "min": 1,
       "style": "IPY_MODEL_44a00b82023749fbbc1c994d39b7ae51",
       "value": 50
      }
     },
     "c6819e1abce74e8fb6428797e47ac73b": {
      "model_module": "@jupyter-widgets/controls",
      "model_module_version": "1.5.0",
      "model_name": "CheckboxModel",
      "state": {
       "description": "spring_midterm_gpa_change",
       "disabled": false,
       "layout": "IPY_MODEL_9315ae46cc644927b2706c9fd3a71d11",
       "style": "IPY_MODEL_1a5517fa9a5c46c3ade107c3e9bba3bc",
       "value": false
      }
     },
     "c6b3afcc07744764aa659be7fee86102": {
      "model_module": "@jupyter-widgets/base",
      "model_module_version": "1.2.0",
      "model_name": "LayoutModel",
      "state": {}
     },
     "c6c256cb74a74d33856e879dbd42ab9a": {
      "model_module": "@jupyter-widgets/controls",
      "model_module_version": "1.5.0",
      "model_name": "DescriptionStyleModel",
      "state": {
       "description_width": ""
      }
     },
     "c6f841351c39436e9cfd284fa2244369": {
      "model_module": "@jupyter-widgets/base",
      "model_module_version": "1.2.0",
      "model_name": "LayoutModel",
      "state": {}
     },
     "c7092c0b5131460bbef2b928406f6b7f": {
      "model_module": "@jupyter-widgets/controls",
      "model_module_version": "1.5.0",
      "model_name": "CheckboxModel",
      "state": {
       "description": "suburb_small",
       "disabled": false,
       "layout": "IPY_MODEL_b69102bfee344150970462f936854907",
       "style": "IPY_MODEL_aa07a82314c74193898283059615253b",
       "value": false
      }
     },
     "c709d0b5d57941188a7486dfbde54ddd": {
      "model_module": "@jupyter-widgets/controls",
      "model_module_version": "1.5.0",
      "model_name": "CheckboxModel",
      "state": {
       "description": "spring_avg_pct_CDFW",
       "disabled": false,
       "layout": "IPY_MODEL_bf97d55e633341cdaac367ef116baccf",
       "style": "IPY_MODEL_326e2329a05c4264b4a7dbbdc62433b2",
       "value": false
      }
     },
     "c70a4979a39849d3a8aec556bab5f8d6": {
      "model_module": "@jupyter-widgets/controls",
      "model_module_version": "1.5.0",
      "model_name": "DescriptionStyleModel",
      "state": {
       "description_width": ""
      }
     },
     "c713f0b64ad349b49b28c2747875a453": {
      "model_module": "@jupyter-widgets/base",
      "model_module_version": "1.2.0",
      "model_name": "LayoutModel",
      "state": {}
     },
     "c719acb5f91b4fa58617e44f717d49c5": {
      "model_module": "@jupyter-widgets/controls",
      "model_module_version": "1.5.0",
      "model_name": "DescriptionStyleModel",
      "state": {
       "description_width": ""
      }
     },
     "c754262871364393b1a13b0fc9e434db": {
      "model_module": "@jupyter-widgets/controls",
      "model_module_version": "1.5.0",
      "model_name": "SliderStyleModel",
      "state": {
       "description_width": ""
      }
     },
     "c760df9b81c24668b3d35c470160a1ec": {
      "model_module": "@jupyter-widgets/base",
      "model_module_version": "1.2.0",
      "model_name": "LayoutModel",
      "state": {
       "flex_flow": "row wrap"
      }
     },
     "c776e65a992c416cba62c863ab7e7165": {
      "model_module": "@jupyter-widgets/base",
      "model_module_version": "1.2.0",
      "model_name": "LayoutModel",
      "state": {}
     },
     "c7bf79bb3cc649a09c6e41efbcac5569": {
      "model_module": "@jupyter-widgets/base",
      "model_module_version": "1.2.0",
      "model_name": "LayoutModel",
      "state": {}
     },
     "c7c1b3c439f84ab0b5a072f2bbc8d902": {
      "model_module": "@jupyter-widgets/base",
      "model_module_version": "1.2.0",
      "model_name": "LayoutModel",
      "state": {}
     },
     "c7ce1c22b2f24bcd89a1c77c237e23a7": {
      "model_module": "@jupyter-widgets/controls",
      "model_module_version": "1.5.0",
      "model_name": "DescriptionStyleModel",
      "state": {
       "description_width": ""
      }
     },
     "c866a02ec59941beb4fd5014df0940c5": {
      "model_module": "@jupyter-widgets/controls",
      "model_module_version": "1.5.0",
      "model_name": "CheckboxModel",
      "state": {
       "description": "spring_lab_count",
       "disabled": false,
       "layout": "IPY_MODEL_39481b142423404c8e66e5055c938c41",
       "style": "IPY_MODEL_e0c218bead8e4947a74fe019c498a3e5",
       "value": false
      }
     },
     "c867af2767524a21aa8a3f1d365db818": {
      "model_module": "@jupyter-widgets/controls",
      "model_module_version": "1.5.0",
      "model_name": "DescriptionStyleModel",
      "state": {
       "description_width": ""
      }
     },
     "c8b7ddf45df9491485a4984de2ac4367": {
      "model_module": "@jupyter-widgets/controls",
      "model_module_version": "1.5.0",
      "model_name": "CheckboxModel",
      "state": {
       "description": "fall_avg_pct_withdrawn",
       "disabled": false,
       "layout": "IPY_MODEL_35a8041925314e50926e984ef936e4a0",
       "style": "IPY_MODEL_92009bfb8ecc4be9a3d614e829c85e88",
       "value": false
      }
     },
     "c8d6724327d44da692416fb60d1d7e2d": {
      "model_module": "@jupyter-widgets/controls",
      "model_module_version": "1.5.0",
      "model_name": "DescriptionStyleModel",
      "state": {
       "description_width": ""
      }
     },
     "c948267ffcbe47deb81c03260a0b2488": {
      "model_module": "@jupyter-widgets/base",
      "model_module_version": "1.2.0",
      "model_name": "LayoutModel",
      "state": {}
     },
     "c992c662941c45c59e87c13df889f94a": {
      "model_module": "@jupyter-widgets/base",
      "model_module_version": "1.2.0",
      "model_name": "LayoutModel",
      "state": {}
     },
     "c9be50a82b854c3c8fdfbfcf73087b81": {
      "model_module": "@jupyter-widgets/controls",
      "model_module_version": "1.5.0",
      "model_name": "DescriptionStyleModel",
      "state": {
       "description_width": ""
      }
     },
     "c9bf8fec5d8940f9a00b67900d159924": {
      "model_module": "@jupyter-widgets/controls",
      "model_module_version": "1.5.0",
      "model_name": "CheckboxModel",
      "state": {
       "description": "spring_midterm_gpa_avg_ind",
       "disabled": false,
       "layout": "IPY_MODEL_36cac776a52d40bdbd08bfcb621d5c1b",
       "style": "IPY_MODEL_7a7aee91b5d340ac999632bfd79fc546",
       "value": false
      }
     },
     "c9d58422a32646c580b23f8d5ef54ba8": {
      "model_module": "@jupyter-widgets/controls",
      "model_module_version": "1.5.0",
      "model_name": "CheckboxModel",
      "state": {
       "description": "city_large",
       "disabled": false,
       "layout": "IPY_MODEL_8c6427f42e9545a3a27871847ab5217d",
       "style": "IPY_MODEL_e587ff6100384521bafce42af1607c88",
       "value": false
      }
     },
     "c9ff1addae0146c4af24d82ca86214ee": {
      "model_module": "@jupyter-widgets/controls",
      "model_module_version": "1.5.0",
      "model_name": "DescriptionStyleModel",
      "state": {
       "description_width": ""
      }
     },
     "ca5c8ad674b84421a824df9757c1ce6c": {
      "model_module": "@jupyter-widgets/controls",
      "model_module_version": "1.5.0",
      "model_name": "CheckboxModel",
      "state": {
       "description": "honors_program_ind",
       "disabled": false,
       "layout": "IPY_MODEL_48b9eeabed7641d4abc21183697e04ca",
       "style": "IPY_MODEL_0c8e6e541a0f4074989de94eecdcc5a0",
       "value": false
      }
     },
     "ca89dbb1fb67433facd04767d89ff3b0": {
      "model_module": "@jupyter-widgets/controls",
      "model_module_version": "1.5.0",
      "model_name": "DescriptionStyleModel",
      "state": {
       "description_width": ""
      }
     },
     "caa7d08ce71f44699d32724ae8d2de03": {
      "model_module": "@jupyter-widgets/base",
      "model_module_version": "1.2.0",
      "model_name": "LayoutModel",
      "state": {
       "flex_flow": "row wrap"
      }
     },
     "caba13c6f070466eb56b5a88c5795d25": {
      "model_module": "@jupyter-widgets/controls",
      "model_module_version": "1.5.0",
      "model_name": "CheckboxModel",
      "state": {
       "description": "attendee_la_bienvenida",
       "disabled": false,
       "layout": "IPY_MODEL_a4bcf222c85b4b26a7b0b45b614200a2",
       "style": "IPY_MODEL_8ac27eccaf3244f2ad9385494fc692eb",
       "value": false
      }
     },
     "cac5e997155b468c882f34c2a95fe90c": {
      "model_module": "@jupyter-widgets/base",
      "model_module_version": "1.2.0",
      "model_name": "LayoutModel",
      "state": {
       "flex_flow": "row wrap"
      }
     },
     "cae311fe92a4459e9ea104a35b3358b0": {
      "model_module": "@jupyter-widgets/base",
      "model_module_version": "1.2.0",
      "model_name": "LayoutModel",
      "state": {}
     },
     "caf950bb9c9740a18ca93e242837f0f2": {
      "model_module": "@jupyter-widgets/base",
      "model_module_version": "1.2.0",
      "model_name": "LayoutModel",
      "state": {}
     },
     "cb7ba7893ccb4155a74ea3487dca6e96": {
      "model_module": "@jupyter-widgets/controls",
      "model_module_version": "1.5.0",
      "model_name": "CheckboxModel",
      "state": {
       "description": "fall_avg_pct_CDFW",
       "disabled": false,
       "layout": "IPY_MODEL_660aa90e6fa74cbab447b859545f1bab",
       "style": "IPY_MODEL_7028509acd5f4486a3c1bf5ec838c6f9",
       "value": false
      }
     },
     "cb9ada26592c4c3e897f848132099334": {
      "model_module": "@jupyter-widgets/base",
      "model_module_version": "1.2.0",
      "model_name": "LayoutModel",
      "state": {}
     },
     "cbaa572b39f84eafb0e52951956ce458": {
      "model_module": "@jupyter-widgets/controls",
      "model_module_version": "1.5.0",
      "model_name": "VBoxModel",
      "state": {
       "_dom_classes": [
        "widget-interact"
       ],
       "children": [
        "IPY_MODEL_803049680f1a4031ad5e3f10b011ed45",
        "IPY_MODEL_0b0751f3a0c84dfea50d524fe9738f78",
        "IPY_MODEL_01bb03974d28463fbba5f2b968ae6781"
       ],
       "layout": "IPY_MODEL_8f476a739f2a4cd8aacd6413312672d3"
      }
     },
     "cbd7e7abdbdc4fcf9e9b12fe92d61497": {
      "model_module": "@jupyter-widgets/controls",
      "model_module_version": "1.5.0",
      "model_name": "AccordionModel",
      "state": {
       "_titles": {
        "0": "Admissions",
        "1": "Demographics",
        "2": "Visitation",
        "3": "Transfer"
       },
       "children": [
        "IPY_MODEL_cd8612f3686849ef867984e643db7f50",
        "IPY_MODEL_ed9d180c57704162b5272b9bde827190",
        "IPY_MODEL_2647870b60a04c2da613c10f4367f8e8",
        "IPY_MODEL_9e0bb489b3e6460fbbdcca6136fd04ea"
       ],
       "layout": "IPY_MODEL_19633d11592246a19ee62b7622169bb4"
      }
     },
     "cbdd08e8d2b24bdea03dd2ca0a2b8184": {
      "model_module": "@jupyter-widgets/controls",
      "model_module_version": "1.5.0",
      "model_name": "CheckboxModel",
      "state": {
       "description": "median_inc",
       "disabled": false,
       "layout": "IPY_MODEL_6f243c78285545d2bd287431b7be4578",
       "style": "IPY_MODEL_cdadbce6b545406ba7e91190ebbd6ba7",
       "value": false
      }
     },
     "cbee676e0db2496b833652eaa94224e6": {
      "model_module": "@jupyter-widgets/controls",
      "model_module_version": "1.5.0",
      "model_name": "DescriptionStyleModel",
      "state": {
       "description_width": ""
      }
     },
     "cc9b3ce49c7349b89e1d7cb3d95dac12": {
      "model_module": "@jupyter-widgets/controls",
      "model_module_version": "1.5.0",
      "model_name": "DescriptionStyleModel",
      "state": {
       "description_width": ""
      }
     },
     "ccd102276d1d45f5ae6ef421717846ae": {
      "model_module": "@jupyter-widgets/base",
      "model_module_version": "1.2.0",
      "model_name": "LayoutModel",
      "state": {}
     },
     "ccde3263a244470ab620e01d3405e01b": {
      "model_module": "@jupyter-widgets/controls",
      "model_module_version": "1.5.0",
      "model_name": "CheckboxModel",
      "state": {
       "description": "fall_lec_contact_hrs",
       "disabled": false,
       "layout": "IPY_MODEL_5309784a121b4c7394499d0627d7f063",
       "style": "IPY_MODEL_3361c28d214043daa03c3e289be16316",
       "value": false
      }
     },
     "cd41e8b0369d4cdf9a2ed7b0ca69e577": {
      "model_module": "@jupyter-widgets/base",
      "model_module_version": "1.2.0",
      "model_name": "LayoutModel",
      "state": {
       "flex_flow": "row wrap"
      }
     },
     "cd7e55930cd140fc8f2267c16312d16f": {
      "model_module": "@jupyter-widgets/controls",
      "model_module_version": "1.5.0",
      "model_name": "CheckboxModel",
      "state": {
       "description": "attendee_group_visit",
       "disabled": false,
       "layout": "IPY_MODEL_882d28f0957d46d092be06a3a6c00eeb",
       "style": "IPY_MODEL_5f28049c9aff4ce5a5f453005f85e345",
       "value": false
      }
     },
     "cd8612f3686849ef867984e643db7f50": {
      "model_module": "@jupyter-widgets/controls",
      "model_module_version": "1.5.0",
      "model_name": "VBoxModel",
      "state": {
       "children": [
        "IPY_MODEL_f3413b8353294c61ac230ce312938b76",
        "IPY_MODEL_bf2864aec9484c489ee60925be2495f5",
        "IPY_MODEL_267e3bf2ea984076a840358a20024e6c",
        "IPY_MODEL_f0dc32ec40164d8d806fe407f2432e62",
        "IPY_MODEL_3c3428aeaa8b416e8b89c2d8919a2560",
        "IPY_MODEL_47970277b82b46ed862aef3432331f9a",
        "IPY_MODEL_22c6cf566a5f47bd8235ace61d5b64a2",
        "IPY_MODEL_3647218429004bbb97421fb3851489f7",
        "IPY_MODEL_f8431daf1dd34a3a8cea37b9bd7adc72"
       ],
       "layout": "IPY_MODEL_c2a662ed8edc41a1bc76c700c1da35dd"
      }
     },
     "cd99a8d0aa7f449393b41021e5b337d1": {
      "model_module": "@jupyter-widgets/controls",
      "model_module_version": "1.5.0",
      "model_name": "DescriptionStyleModel",
      "state": {
       "description_width": ""
      }
     },
     "cdadbce6b545406ba7e91190ebbd6ba7": {
      "model_module": "@jupyter-widgets/controls",
      "model_module_version": "1.5.0",
      "model_name": "DescriptionStyleModel",
      "state": {
       "description_width": ""
      }
     },
     "cddb6c6ed4d145b5a3df0d2a07dad766": {
      "model_module": "@jupyter-widgets/controls",
      "model_module_version": "1.5.0",
      "model_name": "ButtonModel",
      "state": {
       "description": "Import Dataset",
       "layout": "IPY_MODEL_d141ad4567724a57983bf76ad25e5969",
       "style": "IPY_MODEL_828e0eaae38a42728d0dc6adc816e063"
      }
     },
     "ce38c7fb819d46c38afda43185e941a9": {
      "model_module": "@jupyter-widgets/base",
      "model_module_version": "1.2.0",
      "model_name": "LayoutModel",
      "state": {}
     },
     "ce40be801b1d48c2b57dc28359da70c1": {
      "model_module": "@jupyter-widgets/base",
      "model_module_version": "1.2.0",
      "model_name": "LayoutModel",
      "state": {}
     },
     "ceda4707fe31436aa9b7907a6ffd2b2e": {
      "model_module": "@jupyter-widgets/base",
      "model_module_version": "1.2.0",
      "model_name": "LayoutModel",
      "state": {}
     },
     "cf0b7adc7d0742159f213ed6ee0708b3": {
      "model_module": "@jupyter-widgets/controls",
      "model_module_version": "1.5.0",
      "model_name": "DescriptionStyleModel",
      "state": {
       "description_width": ""
      }
     },
     "cf2653a8a1e046308ed0451dc67922ef": {
      "model_module": "@jupyter-widgets/controls",
      "model_module_version": "1.5.0",
      "model_name": "DropdownModel",
      "state": {
       "_options_labels": [
        "emplid",
        "enrl_ind",
        "acad_year",
        "count_week_from_term_begin_dt",
        "father_wsu_flag",
        "parent1_highest_educ_lvl",
        "parent2_highest_educ_lvl"
       ],
       "description": "x",
       "index": 5,
       "layout": "IPY_MODEL_bf3e195dcb5443cfb8bf417f7648b800",
       "style": "IPY_MODEL_1f01febdbc334f7b9f14f13a4489e21e"
      }
     },
     "cf63d046e6834d9497a1ecd2ef302489": {
      "model_module": "@jupyter-widgets/controls",
      "model_module_version": "1.5.0",
      "model_name": "CheckboxModel",
      "state": {
       "description": "fall_avg_pct_CDF",
       "disabled": false,
       "layout": "IPY_MODEL_42aaae503d884deda38bfe973503e1b5",
       "style": "IPY_MODEL_f2fea1240e3f42a2a83841bad1a268eb",
       "value": false
      }
     },
     "cf89796bd41748029c10bce39e8e95b6": {
      "model_module": "@jupyter-widgets/base",
      "model_module_version": "1.2.0",
      "model_name": "LayoutModel",
      "state": {}
     },
     "cfb26e7b79c6486c86caa43fad29b18f": {
      "model_module": "@jupyter-widgets/base",
      "model_module_version": "1.2.0",
      "model_name": "LayoutModel",
      "state": {}
     },
     "cfb80d9f0e934e9496dd73e45344c7cb": {
      "model_module": "@jupyter-widgets/controls",
      "model_module_version": "1.5.0",
      "model_name": "DescriptionStyleModel",
      "state": {
       "description_width": ""
      }
     },
     "d00ef9d91b9b4c87bf0a8fa8c3ca059d": {
      "model_module": "@jupyter-widgets/controls",
      "model_module_version": "1.5.0",
      "model_name": "CheckboxModel",
      "state": {
       "description": "age_group",
       "disabled": false,
       "layout": "IPY_MODEL_67fae421b2094aa28af8c9f51a69897d",
       "style": "IPY_MODEL_9668f3c86c354cfcae728f3837317212",
       "value": false
      }
     },
     "d016582e4b3540b097987cccb5a184b5": {
      "model_module": "@jupyter-widgets/base",
      "model_module_version": "1.2.0",
      "model_name": "LayoutModel",
      "state": {}
     },
     "d068277e070843f084a9005f7f1a8ac5": {
      "model_module": "@jupyter-widgets/controls",
      "model_module_version": "1.5.0",
      "model_name": "DescriptionStyleModel",
      "state": {
       "description_width": ""
      }
     },
     "d074e47f00b646e9840454cc098994fb": {
      "model_module": "@jupyter-widgets/controls",
      "model_module_version": "1.5.0",
      "model_name": "CheckboxModel",
      "state": {
       "description": "distance",
       "disabled": false,
       "layout": "IPY_MODEL_eee6701003cc43dfbacb3b162b7fcd09",
       "style": "IPY_MODEL_b5562b9411cd44afa2b889b6011bed6b",
       "value": false
      }
     },
     "d07d16486acb4651afa1634c740a38e9": {
      "model_module": "@jupyter-widgets/controls",
      "model_module_version": "1.5.0",
      "model_name": "CheckboxModel",
      "state": {
       "description": "attendee_alive",
       "disabled": false,
       "layout": "IPY_MODEL_5fce29e6747a48a29c3de9e3fa128dc9",
       "style": "IPY_MODEL_8c2f888c0630459c92194cf95b7d16c5",
       "value": false
      }
     },
     "d0a0bcdda96547e8b1477d22235c0381": {
      "model_module": "@jupyter-widgets/controls",
      "model_module_version": "1.5.0",
      "model_name": "SliderStyleModel",
      "state": {
       "description_width": ""
      }
     },
     "d0c0bcb31bef49b28711e9b9b7da5132": {
      "model_module": "@jupyter-widgets/base",
      "model_module_version": "1.2.0",
      "model_name": "LayoutModel",
      "state": {}
     },
     "d0c3eb4dbad44cebbf57db1f0100e544": {
      "model_module": "@jupyter-widgets/controls",
      "model_module_version": "1.5.0",
      "model_name": "ButtonModel",
      "state": {
       "description": "Create Dataset",
       "layout": "IPY_MODEL_f1907b04f8c346649525ace0607be0bd",
       "style": "IPY_MODEL_2a382b5f920145dd965f50071496eb5e"
      }
     },
     "d0f3626296fa4a7d950cb759e86f86d4": {
      "model_module": "@jupyter-widgets/base",
      "model_module_version": "1.2.0",
      "model_name": "LayoutModel",
      "state": {}
     },
     "d10e3fd697d94a8ba164f3744c684cd0": {
      "model_module": "@jupyter-widgets/controls",
      "model_module_version": "1.5.0",
      "model_name": "DescriptionStyleModel",
      "state": {
       "description_width": ""
      }
     },
     "d12de6afaf594dee8a7740deb69eea35": {
      "model_module": "@jupyter-widgets/controls",
      "model_module_version": "1.5.0",
      "model_name": "CheckboxModel",
      "state": {
       "description": "attendee_total_visits",
       "disabled": false,
       "layout": "IPY_MODEL_67714c5b253845b9a95304de043a7dac",
       "style": "IPY_MODEL_c8d6724327d44da692416fb60d1d7e2d",
       "value": false
      }
     },
     "d141ad4567724a57983bf76ad25e5969": {
      "model_module": "@jupyter-widgets/base",
      "model_module_version": "1.2.0",
      "model_name": "LayoutModel",
      "state": {}
     },
     "d14d4da336704ac0aa975e4bbb79d753": {
      "model_module": "@jupyter-widgets/output",
      "model_module_version": "1.0.0",
      "model_name": "OutputModel",
      "state": {
       "layout": "IPY_MODEL_13fc45b748c44dfd8bc85b485baef10a",
       "outputs": [
        {
         "data": {
          "image/png": "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\n",
          "text/plain": "<Figure size 432x288 with 1 Axes>"
         },
         "metadata": {
          "needs_background": "light"
         },
         "output_type": "display_data"
        }
       ]
      }
     },
     "d1566ab4844d4fa49ac13e0124ff7e82": {
      "model_module": "@jupyter-widgets/controls",
      "model_module_version": "1.5.0",
      "model_name": "SliderStyleModel",
      "state": {
       "description_width": ""
      }
     },
     "d16380eaec184f6d9ad966763acdca67": {
      "model_module": "@jupyter-widgets/controls",
      "model_module_version": "1.5.0",
      "model_name": "DescriptionStyleModel",
      "state": {
       "description_width": ""
      }
     },
     "d17c8ab23ff04e5189e090e031a57264": {
      "model_module": "@jupyter-widgets/base",
      "model_module_version": "1.2.0",
      "model_name": "LayoutModel",
      "state": {}
     },
     "d184f86213da4ff78717551acb9be144": {
      "model_module": "@jupyter-widgets/controls",
      "model_module_version": "1.5.0",
      "model_name": "DescriptionStyleModel",
      "state": {
       "description_width": ""
      }
     },
     "d212dc4abe1c4f1fb681967eb7f43819": {
      "model_module": "@jupyter-widgets/controls",
      "model_module_version": "1.5.0",
      "model_name": "CheckboxModel",
      "state": {
       "description": "attendee_honors_visit",
       "disabled": false,
       "layout": "IPY_MODEL_2645f651b3e84f60a71c3ee0d84db5c3",
       "style": "IPY_MODEL_1ef5273e48ff42c8a07474a7ce9fcbb2",
       "value": false
      }
     },
     "d245f00449bf40e9a34707737a287482": {
      "model_module": "@jupyter-widgets/base",
      "model_module_version": "1.2.0",
      "model_name": "LayoutModel",
      "state": {}
     },
     "d24c9115d2d04c7ca1d76496bd82759c": {
      "model_module": "@jupyter-widgets/base",
      "model_module_version": "1.2.0",
      "model_name": "LayoutModel",
      "state": {}
     },
     "d252fea30cf74578bc1acb39f2c4adcd": {
      "model_module": "@jupyter-widgets/controls",
      "model_module_version": "1.5.0",
      "model_name": "CheckboxModel",
      "state": {
       "description": "LSAMP_STEM_Flag",
       "disabled": false,
       "layout": "IPY_MODEL_c15afe1d81ec4eac9ebe4278936c5eb8",
       "style": "IPY_MODEL_02992de999424faf9aebcc8619e9d12a",
       "value": false
      }
     },
     "d26e5de63008442cadcdca1e908e742f": {
      "model_module": "@jupyter-widgets/controls",
      "model_module_version": "1.5.0",
      "model_name": "DescriptionStyleModel",
      "state": {
       "description_width": ""
      }
     },
     "d29803fd0e0b4fa080520cee36cbaa00": {
      "model_module": "@jupyter-widgets/controls",
      "model_module_version": "1.5.0",
      "model_name": "DescriptionStyleModel",
      "state": {
       "description_width": ""
      }
     },
     "d2a3e10108434fba903cf726ebff098b": {
      "model_module": "@jupyter-widgets/base",
      "model_module_version": "1.2.0",
      "model_name": "LayoutModel",
      "state": {}
     },
     "d2ef494792704555b125805ad85526dc": {
      "model_module": "@jupyter-widgets/output",
      "model_module_version": "1.0.0",
      "model_name": "OutputModel",
      "state": {
       "layout": "IPY_MODEL_68570d04411b44c3a50907881362e92b",
       "outputs": [
        {
         "data": {
          "image/png": "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\n",
          "text/plain": "<Figure size 432x288 with 1 Axes>"
         },
         "metadata": {
          "needs_background": "light"
         },
         "output_type": "display_data"
        }
       ]
      }
     },
     "d30c1d3bc799436d861f4c535c271a9c": {
      "model_module": "@jupyter-widgets/base",
      "model_module_version": "1.2.0",
      "model_name": "LayoutModel",
      "state": {}
     },
     "d322a71c0ba9455dae129a38bb5ff95a": {
      "model_module": "@jupyter-widgets/base",
      "model_module_version": "1.2.0",
      "model_name": "LayoutModel",
      "state": {}
     },
     "d323b6bd33ec4f25b29f9c0683430fc2": {
      "model_module": "@jupyter-widgets/base",
      "model_module_version": "1.2.0",
      "model_name": "LayoutModel",
      "state": {}
     },
     "d339f566d8e6495a84d28b4bc73a6fb6": {
      "model_module": "@jupyter-widgets/controls",
      "model_module_version": "1.5.0",
      "model_name": "CheckboxModel",
      "state": {
       "description": "AP",
       "disabled": false,
       "layout": "IPY_MODEL_9f591310c4814bc0927ff0e435d56580",
       "style": "IPY_MODEL_50da11f3c6c941a799f492f4ddcea571",
       "value": false
      }
     },
     "d38357115ae0481d85c0b85eea76425f": {
      "model_module": "@jupyter-widgets/controls",
      "model_module_version": "1.5.0",
      "model_name": "DescriptionStyleModel",
      "state": {
       "description_width": ""
      }
     },
     "d395f1311b6b43ffac577cfdc1b4da87": {
      "model_module": "@jupyter-widgets/controls",
      "model_module_version": "1.5.0",
      "model_name": "DescriptionStyleModel",
      "state": {
       "description_width": ""
      }
     },
     "d3ae7464d12f4d2eb47378d249b203dd": {
      "model_module": "@jupyter-widgets/controls",
      "model_module_version": "1.5.0",
      "model_name": "CheckboxModel",
      "state": {
       "description": "attendee_oos_destination",
       "disabled": false,
       "layout": "IPY_MODEL_6bdc9056b2b440ad87134714349b4d27",
       "style": "IPY_MODEL_62184cefb23142da8d15a3b255f67594",
       "value": false
      }
     },
     "d3cf016adcaf40b88ec1333b0b8ba103": {
      "model_module": "@jupyter-widgets/controls",
      "model_module_version": "1.5.0",
      "model_name": "DescriptionStyleModel",
      "state": {
       "description_width": ""
      }
     },
     "d3ff51815716421cb833a56b039b7dac": {
      "model_module": "@jupyter-widgets/controls",
      "model_module_version": "1.5.0",
      "model_name": "CheckboxModel",
      "state": {
       "description": "anywhere_STEM_Flag",
       "disabled": false,
       "layout": "IPY_MODEL_64e714dbac1d46c4827bebb16d9a2759",
       "style": "IPY_MODEL_108f1ec2902a48558b9429971754ef84",
       "value": false
      }
     },
     "d42a909b6033474a99853721bd88de1b": {
      "model_module": "@jupyter-widgets/controls",
      "model_module_version": "1.5.0",
      "model_name": "ButtonModel",
      "state": {
       "description": "Create Plots",
       "layout": "IPY_MODEL_7e58fec618354f08808470c6be5159ef",
       "style": "IPY_MODEL_17a68a518da241579e5ddfa4d8063fcc"
      }
     },
     "d44815d7c4484479a53720cf24223bcf": {
      "model_module": "@jupyter-widgets/base",
      "model_module_version": "1.2.0",
      "model_name": "LayoutModel",
      "state": {}
     },
     "d458518255e249728bb72885e8efe634": {
      "model_module": "@jupyter-widgets/controls",
      "model_module_version": "1.5.0",
      "model_name": "CheckboxModel",
      "state": {
       "description": "term_credit_hours",
       "disabled": false,
       "layout": "IPY_MODEL_0cc8f99535d7438282d5c3db52d11c6c",
       "style": "IPY_MODEL_a5cacfea4cdc4e0194da410351870fd2",
       "value": false
      }
     },
     "d47b5cc0093948ec9ec9d47f6953ef24": {
      "model_module": "@jupyter-widgets/controls",
      "model_module_version": "1.5.0",
      "model_name": "DescriptionStyleModel",
      "state": {
       "description_width": ""
      }
     },
     "d482f35960ac4333aa4720bbd815fe4f": {
      "model_module": "@jupyter-widgets/base",
      "model_module_version": "1.2.0",
      "model_name": "LayoutModel",
      "state": {}
     },
     "d484bd967a8042f0878dd06b1fa36320": {
      "model_module": "@jupyter-widgets/base",
      "model_module_version": "1.2.0",
      "model_name": "LayoutModel",
      "state": {}
     },
     "d52f344d90d14a1995d2cb80e7ee5e59": {
      "model_module": "@jupyter-widgets/controls",
      "model_module_version": "1.5.0",
      "model_name": "CheckboxModel",
      "state": {
       "description": "pell_recipient_ind",
       "disabled": false,
       "layout": "IPY_MODEL_93ccf1801e8c4f7c8457490aa3f94071",
       "style": "IPY_MODEL_5877ac3d28c14ac2a4624be2b9814d02",
       "value": false
      }
     },
     "d536689c3f0a404082dfd637f6648fcf": {
      "model_module": "@jupyter-widgets/base",
      "model_module_version": "1.2.0",
      "model_name": "LayoutModel",
      "state": {}
     },
     "d55f3c5e345d4610bc261c250a865e97": {
      "model_module": "@jupyter-widgets/base",
      "model_module_version": "1.2.0",
      "model_name": "LayoutModel",
      "state": {}
     },
     "d5d19176b1804820a15ce650cf77e959": {
      "model_module": "@jupyter-widgets/controls",
      "model_module_version": "1.5.0",
      "model_name": "CheckboxModel",
      "state": {
       "description": "spring_lab_count",
       "disabled": false,
       "layout": "IPY_MODEL_2c7f9a313e6f4a6a985d7e60abcb14d9",
       "style": "IPY_MODEL_eb79378165994fd8b95336a9167a5af6",
       "value": false
      }
     },
     "d62b046714eb4b85ad553a9dc3f7d5bd": {
      "model_module": "@jupyter-widgets/controls",
      "model_module_version": "1.5.0",
      "model_name": "DescriptionStyleModel",
      "state": {
       "description_width": ""
      }
     },
     "d661309fed4d4ad59411032a3b6c60e0": {
      "model_module": "@jupyter-widgets/base",
      "model_module_version": "1.2.0",
      "model_name": "LayoutModel",
      "state": {}
     },
     "d66291834dea44cb9ec9e13a3c307ec4": {
      "model_module": "@jupyter-widgets/controls",
      "model_module_version": "1.5.0",
      "model_name": "DescriptionStyleModel",
      "state": {
       "description_width": ""
      }
     },
     "d66842f4c1c64436bae47fbfc5ca6bab": {
      "model_module": "@jupyter-widgets/output",
      "model_module_version": "1.0.0",
      "model_name": "OutputModel",
      "state": {
       "layout": "IPY_MODEL_46979cb3979d4fa1a2a9c3f80af3951f",
       "outputs": [
        {
         "data": {
          "image/png": "iVBORw0KGgoAAAANSUhEUgAAAYEAAAEICAYAAAC55kg0AAAABHNCSVQICAgIfAhkiAAAAAlwSFlzAAALEgAACxIB0t1+/AAAADh0RVh0U29mdHdhcmUAbWF0cGxvdGxpYiB2ZXJzaW9uMy4xLjMsIGh0dHA6Ly9tYXRwbG90bGliLm9yZy+AADFEAAAYRUlEQVR4nO3df7RddX3m8ffTRKOICMiFiUkkUeMPoE6VOxn8WRS7SFsltIqGqqQOnYjDYGeWHQt1lnbayehYqyNTQSJSwojEVLFkXAuVyehQEYk3CIYAGTJGkyuBXEQR1MYmPPPH/maxvZybe3P25d4k3+e11lln78/+7r2/5+zkPmf/OGfLNhERUadfm+4ORETE9EkIRERULCEQEVGxhEBERMUSAhERFUsIRERULCEQEVGxhEAcMCQ90no8KukXrfG3SvpzSf80qt1PWvMvkXSbpJ9KekDSOknzJX2y1f6Xo5ZxfWljSTPLcq4s44tay36eJI/q729J+pqkhyX9qKz7TyU9ZYzXd2VZ/8PlcYekD0p6Ro+2p5Y+vLdVe1Wr3z8r09vvxbNHrWu3pGd12ypxqEsIxAHD9uF7H8A24A2t2tWl2efa7WwfCc0faeAq4D3AM4AFwCXAo7bPay33v4xaxm+P0Z0Hgf88Vl8lnQV8HvgscLztZwJvAeYC8/bxMj9s++nAAPAO4BTgJklPG9VuWenDstb78w+t13FiKR/Zei3bSt+eBrwReAh46z76EpEQiEPGbwBbba9z42HbX9j7h7EPq4AXS/rN0RMkCfgo8Be2P2X7QQDbm21fYPue8RZu+x9tfxs4A3gmTSDsXf5hwJuA84GFkgb3s+9vBH4C/AWtEInoJSEQh4pbgRdK+pik10g6vOPyfk6z17Cix7QX0Hzi/0LHdWD7YeAG4FWt8huBR4C/A74CnLOfi10GXAOspnlPXtq1n3HoSgjEwebNkn7SenwNwPb3gFOBOcAa4IFyXLxLGFwGPFvS6ENGx5Tn+/YWJK0u/fm5pLfv53ruBY5ujS+jOWS1h+Zw09mSnjSRBZXzAq8BPmv7fmAd2RuIfUgIxMFmje0jW4/X7J1g+1u232x7gOaT9auB9/W7Itu7gL8sD7Um/ag8z261XVrOT9wKzNjPVc2hOf6PpHk0f8T3ngO5DngK8LsTXNbbgbts31bGrwb+YKIhEvVJCMQhqRxvvxY4qeOi/pbmRPPvtWp3Az8Efr/jsil7Kq8D/qGU3k7z//J/SroP+B5NCEz0kNA5wHMk3Vfm/yjNnstYJ8CjcjOnuwMRk0HSK4EXAdfZ3inphTQnXVd1Wa7t3ZL+HLi4VbOk9wCfkvRTmquEfgI8Dzhugv2dRRNQ/xX4MU3YQPNH/D8Bn2w1XwT8naRn2v4RY5D0MuC5wEuAkdakv6Y5JLR2In2LumRPIA42bxl1bfwjko6l+SN8BrBR0iPAl4EvAh+ehHVeA+xoF2x/Dngz8DZgO/AAzbmIlTQndMfyXkkP0xz+uQrYALzc9s8knQLMBz5h+77WYy2wBTh7nH4uownBje35gY8Dr5d09DjzR4WUm8pERNQrewIRERVLCEREVCwhEBFRsYRARETFDvhLRI855hjPnz9/ursREXFQ2bBhwwPli5P7dMCHwPz58xkaGprubkREHFQk/WAi7XI4KCKiYuOGgKQrJO2UdMeo+gWSNkvaJOnDrfpFkraUaae36idL2limXVx+jjciIqbRRPYErgQWtwuSXgMsAV5s+0TgI6V+ArCU5oYXi4FLJO39Ma1LgeXAwvL4lWVGRMTUGzcEbN9I+YXDlncBHyq/sojtnaW+BFhte5ftrTRfdV8kaTZwhO2b3XxF+SrgzMl6ERER0Z9+zwk8H3iVpFsk/R9J/6LU59D8jspew6U2pwyPrvckabmkIUlDIyMjYzWLiIiO+g2BmcBRNPdH/Q/AmnKMv9dxfu+j3pPtlbYHbQ8ODIx7hVNERPSp3xAYBq4t93JdDzxK85vlw/zqTbbn0tw1abgMj65HRMQ06jcE/h54LYCk5wNPpvkp3bXAUkmzJC2gOQG83vYO4GFJp5Q9hnNo7pgUERHTaNwvi0m6hubercdIGgY+AFwBXFEuG/0lsKyc8N0kaQ1wJ7AbOL/cJxWak8lXAk8Fri+PiIiYRgf8/QQGBwfd7zeGLzv+5J71d/5gQ5cuRUQc8CRtsD04Xrt8YzgiomIJgYiIiiUEIiIqlhCIiKhYQiAiomIJgYiIiiUEIiIqlhCIiKhYQiAiomIJgYiIiiUEIiIqlhCIiKhYQiAiomIJgYiIiiUEIiIqlhCIiKhYQiAiomLjhoCkKyTtLLeSHD3tTyRZ0jGt2kWStkjaLOn0Vv1kSRvLtIvLvYYjImIaTWRP4Epg8eiipHnAbwHbWrUTgKXAiWWeSyTNKJMvBZbT3Hx+Ya9lRkTE1Bo3BGzfCDzYY9LHgPcC7ZsULwFW295leyuwBVgkaTZwhO2byw3prwLO7Nz7iIjopK9zApLOAH5o+/ZRk+YA21vjw6U2pwyPro+1/OWShiQNjYyM9NPFiIiYgP0OAUmHAe8D3t9rco+a91HvyfZK24O2BwcGBva3ixERMUEz+5jnucAC4PZybncucKukRTSf8Oe12s4F7i31uT3qERExjfZ7T8D2RtvH2p5vez7NH/iX2r4PWAsslTRL0gKaE8Drbe8AHpZ0Srkq6Bzgusl7GRER0Y+JXCJ6DXAz8AJJw5LOHaut7U3AGuBO4MvA+bb3lMnvAi6nOVn8/4DrO/Y9IiI6GvdwkO2zx5k+f9T4CmBFj3ZDwEn72b+IiHgC5RvDEREVSwhERFSsn6uDIuIQcdnxJ/esv/MHG6a4JzFdsicQEVGxhEBERMUSAhERFUsIRERULCEQEVGxhEBERMUSAhERFUsIRERULCEQEVGxhEBERMUSAhERFUsIRERULCEQEVGxhEBERMUSAhERFZvIPYavkLRT0h2t2l9JulvSdyV9UdKRrWkXSdoiabOk01v1kyVtLNMuLjecj4iIaTSRPYErgcWjajcAJ9l+MfB/gYsAJJ0ALAVOLPNcImlGmedSYDmwsDxGLzMiIqbYuCFg+0bgwVG1r9reXUa/Bcwtw0uA1bZ32d4KbAEWSZoNHGH7ZtsGrgLOnKwXERER/ZmMcwL/Cri+DM8BtremDZfanDI8ut6TpOWShiQNjYyMTEIXIyKil04hIOl9wG7g6r2lHs28j3pPtlfaHrQ9ODAw0KWLERGxD33faF7SMuD1wGnlEA80n/DntZrNBe4t9bk96hERMY362hOQtBj4U+AM2z9vTVoLLJU0S9ICmhPA623vAB6WdEq5Kugc4LqOfY+IiI7G3ROQdA1wKnCMpGHgAzRXA80CbihXen7L9nm2N0laA9xJc5jofNt7yqLeRXOl0VNpziFcT0RETKtxQ8D22T3Kn95H+xXAih71IeCk/epdREQ8ofKN4YiIiiUEIiIqlhCIiKhYQiAiomIJgYiIiiUEIiIqlhCIiKhYQiAiomIJgYiIiiUEIiIqlhCIiKhYQiAiomIJgYiIiiUEIiIqlhCIiKhYQiAiomIJgYiIio0bApKukLRT0h2t2tGSbpB0T3k+qjXtIklbJG2WdHqrfrKkjWXaxeVewxERMY0msidwJbB4VO1CYJ3thcC6Mo6kE4ClwIllnkskzSjzXAosp7n5/MIey4yIiCk2bgjYvhF4cFR5CbCqDK8CzmzVV9veZXsrsAVYJGk2cITtm20buKo1T0RETJN+zwkcZ3sHQHk+ttTnANtb7YZLbU4ZHl3vSdJySUOShkZGRvrsYkREjGeyTwz3Os7vfdR7sr3S9qDtwYGBgUnrXERE/Kp+Q+D+coiH8ryz1IeBea12c4F7S31uj3pEREyjfkNgLbCsDC8DrmvVl0qaJWkBzQng9eWQ0cOSTilXBZ3TmiciIqbJzPEaSLoGOBU4RtIw8AHgQ8AaSecC24CzAGxvkrQGuBPYDZxve09Z1LtorjR6KnB9eURExDQaNwRsnz3GpNPGaL8CWNGjPgSctF+9i4iIJ1S+MRwRUbGEQERExRICEREVSwhERFQsIRARUbGEQERExRICEREVSwhERFQsIRARUbGEQERExRICEREVSwhERFQsIRARUbGEQERExRICEREVSwhERFQsIRARUbGEQERExTqFgKR/L2mTpDskXSPpKZKOlnSDpHvK81Gt9hdJ2iJps6TTu3c/IiK66DsEJM0B3g0M2j4JmAEsBS4E1tleCKwr40g6oUw/EVgMXCJpRrfuR0REF10PB80EnippJnAYcC+wBFhVpq8CzizDS4DVtnfZ3gpsARZ1XH9ERHTQdwjY/iHwEWAbsAN4yPZXgeNs7yhtdgDHllnmANtbixgutceRtFzSkKShkZGRfrsYERHj6HI46CiaT/cLgGcBT5P0tn3N0qPmXg1tr7Q9aHtwYGCg3y5GRMQ4uhwOeh2w1faI7X8CrgVeDtwvaTZAed5Z2g8D81rzz6U5fBQREdOkSwhsA06RdJgkAacBdwFrgWWlzTLgujK8FlgqaZakBcBCYH2H9UdEREcz+53R9i2SPg/cCuwGvgOsBA4H1kg6lyYozirtN0laA9xZ2p9ve0/H/kdERAd9hwCA7Q8AHxhV3kWzV9Cr/QpgRZd1RkTE5OkUAhHjuez4k3vW3/mDDVPck4joJT8bERFRsYRARETFEgIRERVLCEREVCwhEBFRsYRARETFEgIRERVLCEREVCwhEBFRsYRARETFEgIRERVLCEREVCwhEBFRsYRARETFEgIRERVLCEREVKxTCEg6UtLnJd0t6S5JL5N0tKQbJN1Tno9qtb9I0hZJmyWd3r37ERHRRdc9gY8DX7b9QuCf09xo/kJgne2FwLoyjqQTgKXAicBi4BJJMzquPyIiOug7BCQdAbwa+DSA7V/a/gmwBFhVmq0CzizDS4DVtnfZ3gpsARb1u/6IiOiuy57Ac4AR4G8lfUfS5ZKeBhxnewdAeT62tJ8DbG/NP1xqjyNpuaQhSUMjIyMduhgREfvSJQRmAi8FLrX9EuBnlEM/Y1CPmns1tL3S9qDtwYGBgQ5djIiIfekSAsPAsO1byvjnaULhfkmzAcrzzlb7ea355wL3dlh/RER01HcI2L4P2C7pBaV0GnAnsBZYVmrLgOvK8FpgqaRZkhYAC4H1/a4/IiK6m9lx/guAqyU9Gfge8A6aYFkj6VxgG3AWgO1NktbQBMVu4HzbezquPyIiOugUArZvAwZ7TDptjPYrgBVd1hkREZMn3xiOiKhYQiAiomIJgYiIiiUEIiIqlhCIiKhYQiAiomIJgYiIiiUEIiIqlhCIiKhYQiAiomIJgYiIiiUEIiIqlhCIiKhYQiAiomIJgYiIiiUEIiIqlhCIiKhYQiAiomJd7zGMpBnAEPBD26+XdDTwOWA+8H3gzbZ/XNpeBJwL7AHebfsrXdcfEXEwu+z4k3vW3/mDDVOy/snYE/hj4K7W+IXAOtsLgXVlHEknAEuBE4HFwCUlQCIiYpp0CgFJc4HfBS5vlZcAq8rwKuDMVn217V22twJbgEVd1h8REd103RP4b8B7gUdbteNs7wAoz8eW+hxge6vdcKk9jqTlkoYkDY2MjHTsYkREjKXvEJD0emCn7YkeuFKPmns1tL3S9qDtwYGBgX67GBER4+hyYvgVwBmSfgd4CnCEpM8A90uabXuHpNnAztJ+GJjXmn8ucG+H9UdEREd97wnYvsj2XNvzaU74/m/bbwPWAstKs2XAdWV4LbBU0ixJC4CFwPq+ex4REZ11vkS0hw8BaySdC2wDzgKwvUnSGuBOYDdwvu09T8D6IyJigiYlBGx/Hfh6Gf4RcNoY7VYAKyZjnRER0V2+MRwRUbGEQERExRICEREVSwhERFQsIRARUbGEQERExRICEREVSwhERFQsIRARUbGEQERExRICEREVSwhERFQsIRARUbGEQERExRICEREVSwhERFQsIRARUbG+Q0DSPElfk3SXpE2S/rjUj5Z0g6R7yvNRrXkukrRF0mZJp0/GC4iIiP512RPYDbzH9ouAU4DzJZ0AXAiss70QWFfGKdOWAicCi4FLJM3o0vmIiOim7xCwvcP2rWX4YeAuYA6wBFhVmq0CzizDS4DVtnfZ3gpsARb1u/6IiOhuUs4JSJoPvAS4BTjO9g5oggI4tjSbA2xvzTZcar2Wt1zSkKShkZGRyehiRET00DkEJB0OfAH4d7Z/uq+mPWru1dD2StuDtgcHBga6djEiIsbQKQQkPYkmAK62fW0p3y9pdpk+G9hZ6sPAvNbsc4F7u6w/IiK66XJ1kIBPA3fZ/mhr0lpgWRleBlzXqi+VNEvSAmAhsL7f9UdERHczO8z7CuDtwEZJt5XanwEfAtZIOhfYBpwFYHuTpDXAnTRXFp1ve0+H9UdEREd9h4Dtb9D7OD/AaWPMswJY0e86IyJicuUbwxERFUsIRERULCEQEVGxhEBERMUSAhERFUsIRERULCEQEVGxhEBERMUSAhERFUsIRERULCEQEVGxhEBERMUSAhERFUsIRERULCEQEVGxhEBERMUSAhERFUsIRERUbMpDQNJiSZslbZF04VSvPyIiHjOlISBpBvAJ4LeBE4CzJZ0wlX2IiIjHTPWewCJgi+3v2f4lsBpYMsV9iIiIYuYUr28OsL01Pgz8y9GNJC0HlpfRRyRt7nN9xwAPjC6eJ/W5uJgExwAPZBsccH7l/0q2z/Q7T+r592s/HD+RRlMdAr3+ZflxBXslsLLzyqQh24NdlxOTJ9vkwJTtcuCZqm0y1YeDhoF5rfG5wL1T3IeIiCimOgS+DSyUtEDSk4GlwNop7kNERBRTejjI9m5J/xb4CjADuML2pidwlZ0PKcWkyzY5MGW7HHimZJvIftwh+YiIqES+MRwRUbGEQERExQ6JEJD0dUmdL6WS9H011+bGJMh2mV6S5ku6o+MyTpX0pcnqUzQkndHPz+ZI+uZk92WqvyfQSbmi6Em2fzbdfamVpKNs/3i6+xFxMLO9lj6ujLT98snuy0GxJyDpRZL+GtgMPH+MZm+T9E1Jd0haVOZbVGrfKc8vKPUZkj4iaaOk70q6oLWcCyTdWqa98Il9ZQelIUmflfRaaUJfK812mV4zJa0q7+fnJR0m6f2Svl22ycq921HS8yT9L0m3l/f6uWUZh5d575Z09QS3e7XKHtjdki4v7/HVkl4n6SZJ95R//38o6W9K+7NKu9sl3VhqJ0paL+m2su0Wlvoj5fnUsqf9uO0i6XdK7RuSLh53T872AfkAnga8A/gGcBPwR8DTx2j7deBTZfjVwB1l+AhgZhl+HfCFMvwu4AutaUeX5+8DF5ThfwNcPt3vw4H2oLm09/XAtcBdwJ8Bz8p2OfAewHyab+S/ooxfAfzJ3ve11P4H8IYyfAvwe2X4KcBhwKnAQzRf7Pw14GbgldP92g7kR3nfdwO/Xt6zDeW9F81vpf098IfA35T2G4E5ZfjI8vzfgbeW4ScDTy3Dj5TnntulbLftwILS7hrgS/vq74F8OGgH8F3gj2zfPYH21wDYvlHSEZKOBJ4OrCopauBJpe3rgE/a3l3mebC1nGvL8wbg97u/jEOL7T3Al4AvSRoAPghsk/Ry2+t7zJLtMr22276pDH8GeDewVdJ7af7IHw1skvR1mj9EXwSw/Y8A5cPletvDZfw2mj9y35jC13Aw2mp7I4CkTcA625a0keb9a7sJuFLSGh77d34z8D5Jc4Frbd/TYx29tssjwPdsby1truGx32Hr6UA+HPQm4IfAF8vu63g/hjT6Cw8G/hL4mu2TgDfQpCQ0iTzWFyR2lec9HGTnTKaKpGeo+ZG/tTSH586lCexesl2mV6/3/xLgTbZ/HfgUzfu/r0M8u1rDef8npv2ePdoaf5RR75/t84D/SPOTOrdJeqbtzwJnAL8AviLpteOsY+922e9DdQdsCNj+qu230OziPARcV45Xzh9jlrcASHol8JDth4Bn0AQJNLtfe30VOE/SzDLP0ZP+Ag5Rkj4D3Ao8BzjH9qttr9r7ybGHbJfp9WxJLyvDZ/PYJ/gHJB1O82EL2z8FhiWdCSBplqTDpry3FZL0XNu32H4/za+GzpP0HJpP9BfTfNh68QQXdzfwnNbfybeMN8MBGwJ72f6R7Y/b/g2a4897xmj6YzWXT32S5pMpwIeBD0q6ieZY9l6XA9uA70q6HfiDJ6b3h6Q1wAtsXzjGLupo2S7T6y5gmaTv0hz6uZTm0/9GmmPT3261fTvw7tL2m8A/m+K+1uqvygUPdwA3ArfT/PG+oxzmeSFw1UQWZPsXNOfNvizpG8D9NB+ix5SfjYiIOIRIOtz2I+VqoU8A99j+2FjtD/g9gYiI2C//uuxBbKI59HrZvhpnTyAiomLZE4iIqFhCICKiYgmBiIiKJQQiIiqWEIiIqNj/B6TEz9IedXa4AAAAAElFTkSuQmCC\n",
          "text/plain": "<Figure size 432x288 with 1 Axes>"
         },
         "metadata": {
          "needs_background": "light"
         },
         "output_type": "display_data"
        }
       ]
      }
     },
     "d66b6104836b4878ace873178b9be0a6": {
      "model_module": "@jupyter-widgets/controls",
      "model_module_version": "1.5.0",
      "model_name": "SliderStyleModel",
      "state": {
       "description_width": ""
      }
     },
     "d6b0ed78e3964587866088276579b68d": {
      "model_module": "@jupyter-widgets/base",
      "model_module_version": "1.2.0",
      "model_name": "LayoutModel",
      "state": {}
     },
     "d6eaa4b9157f445188d87ed2701218d8": {
      "model_module": "@jupyter-widgets/controls",
      "model_module_version": "1.5.0",
      "model_name": "CheckboxModel",
      "state": {
       "description": "fall_avg_pct_CDFW",
       "disabled": false,
       "layout": "IPY_MODEL_8d05dac008e149e883574613c115e7e2",
       "style": "IPY_MODEL_36c39f17872144ca95e396bb20a5cd82",
       "value": false
      }
     },
     "d71121d084d24c468af5d11c2a6c93be": {
      "model_module": "@jupyter-widgets/controls",
      "model_module_version": "1.5.0",
      "model_name": "CheckboxModel",
      "state": {
       "description": "fall_avg_pct_CDF",
       "disabled": false,
       "layout": "IPY_MODEL_2fcf0f612f154da38993d24c8f7ade29",
       "style": "IPY_MODEL_6be5508edf0d41d89cd102130d2189bf",
       "value": false
      }
     },
     "d74db022972f400cb7d3bfc4d8bf4944": {
      "model_module": "@jupyter-widgets/controls",
      "model_module_version": "1.5.0",
      "model_name": "VBoxModel",
      "state": {
       "_dom_classes": [
        "widget-interact"
       ],
       "children": [
        "IPY_MODEL_2f489942d67c4e5485ade492521bce78",
        "IPY_MODEL_fbc4320f681248f59183bb72b809b38c",
        "IPY_MODEL_6f58e64c32554a2cb30674e769a1e60a"
       ],
       "layout": "IPY_MODEL_8ca809b94a80420192944ca0188237e4"
      }
     },
     "d773c9c1b144469da4d8e1ea7e220b2c": {
      "model_module": "@jupyter-widgets/controls",
      "model_module_version": "1.5.0",
      "model_name": "CheckboxModel",
      "state": {
       "description": "spring_midterm_gpa_avg_ind",
       "disabled": false,
       "layout": "IPY_MODEL_86070b612477486cbc0a342ab5325c76",
       "style": "IPY_MODEL_5617935da6744761a2fbe81b9cdb4588",
       "value": false
      }
     },
     "d7c38f494e5b4fb2b86a1d478b62d02f": {
      "model_module": "@jupyter-widgets/base",
      "model_module_version": "1.2.0",
      "model_name": "LayoutModel",
      "state": {}
     },
     "d7c78cb5960b4173a8f414428c4d7494": {
      "model_module": "@jupyter-widgets/base",
      "model_module_version": "1.2.0",
      "model_name": "LayoutModel",
      "state": {}
     },
     "d806d59189874eb9a666230c295fec97": {
      "model_module": "@jupyter-widgets/base",
      "model_module_version": "1.2.0",
      "model_name": "LayoutModel",
      "state": {}
     },
     "d82e0de8fd6c403c80d9151714a143f4": {
      "model_module": "@jupyter-widgets/controls",
      "model_module_version": "1.5.0",
      "model_name": "CheckboxModel",
      "state": {
       "description": "fall_lab_count",
       "disabled": false,
       "layout": "IPY_MODEL_098d5ae97ed947c58d19746dae47213b",
       "style": "IPY_MODEL_bfcb300746e44e58a098ce9b3eefd6c3",
       "value": false
      }
     },
     "d8499efcc0c44a3fa8f45175081cbaeb": {
      "model_module": "@jupyter-widgets/base",
      "model_module_version": "1.2.0",
      "model_name": "LayoutModel",
      "state": {}
     },
     "d860a47ae1cb414aa484dbd4f61de6f4": {
      "model_module": "@jupyter-widgets/base",
      "model_module_version": "1.2.0",
      "model_name": "LayoutModel",
      "state": {}
     },
     "d88584c0152a482786219d41c122097b": {
      "model_module": "@jupyter-widgets/controls",
      "model_module_version": "1.5.0",
      "model_name": "CheckboxModel",
      "state": {
       "description": "spring_lec_count",
       "disabled": false,
       "layout": "IPY_MODEL_96b4a1cc578942f8b88952915a44cd7e",
       "style": "IPY_MODEL_ff12ae06b1ca42e292bb9b047698321e",
       "value": false
      }
     },
     "d893ec3575124ed3b24e0863017e6b05": {
      "model_module": "@jupyter-widgets/controls",
      "model_module_version": "1.5.0",
      "model_name": "CheckboxModel",
      "state": {
       "description": "city_mid",
       "disabled": false,
       "layout": "IPY_MODEL_d7c38f494e5b4fb2b86a1d478b62d02f",
       "style": "IPY_MODEL_e9f1b5cad24241f192e97f03c8efce6e",
       "value": false
      }
     },
     "d90fc91bed5f418cae2f14712ab3c0a9": {
      "model_module": "@jupyter-widgets/base",
      "model_module_version": "1.2.0",
      "model_name": "LayoutModel",
      "state": {}
     },
     "d92290921aad40788ac8b7f51c35a8b0": {
      "model_module": "@jupyter-widgets/controls",
      "model_module_version": "1.5.0",
      "model_name": "CheckboxModel",
      "state": {
       "description": "attendee_fcod",
       "disabled": false,
       "layout": "IPY_MODEL_6b789514d2434a558a46dbcd2082d31c",
       "style": "IPY_MODEL_8a3c0d3bc93b4ad0bedffba5ad16f322",
       "value": false
      }
     },
     "d92a3b03fcf647d49e6f857323146ef0": {
      "model_module": "@jupyter-widgets/controls",
      "model_module_version": "1.5.0",
      "model_name": "CheckboxModel",
      "state": {
       "description": "cahnrs_envr",
       "disabled": false,
       "layout": "IPY_MODEL_e1a5bf8d88dc48eca7df21fd824b45f7",
       "style": "IPY_MODEL_880c3af2081044a1b20f717318361dae",
       "value": false
      }
     },
     "d9344002773448299c2ad7610d49e4dd": {
      "model_module": "@jupyter-widgets/base",
      "model_module_version": "1.2.0",
      "model_name": "LayoutModel",
      "state": {}
     },
     "d95720dc772140c98fc8fb101dac48dc": {
      "model_module": "@jupyter-widgets/controls",
      "model_module_version": "1.5.0",
      "model_name": "DescriptionStyleModel",
      "state": {
       "description_width": ""
      }
     },
     "da0a34184aed4fa9b0b7d39568e544ab": {
      "model_module": "@jupyter-widgets/base",
      "model_module_version": "1.2.0",
      "model_name": "LayoutModel",
      "state": {}
     },
     "da509333a7b34d66a58c69ee706561db": {
      "model_module": "@jupyter-widgets/base",
      "model_module_version": "1.2.0",
      "model_name": "LayoutModel",
      "state": {}
     },
     "da8c8f8b84d5469180d62ea15cdfaa10": {
      "model_module": "@jupyter-widgets/controls",
      "model_module_version": "1.5.0",
      "model_name": "CheckboxModel",
      "state": {
       "description": "AD_DTA",
       "disabled": false,
       "layout": "IPY_MODEL_405d03e90dd842e5ac04172e11cde841",
       "style": "IPY_MODEL_6f63c0c0243240f4af6c879dfb095d6a",
       "value": false
      }
     },
     "da911edb8950471eab8abb3acaef0e70": {
      "model_module": "@jupyter-widgets/controls",
      "model_module_version": "1.5.0",
      "model_name": "CheckboxModel",
      "state": {
       "description": "race_american_indian",
       "disabled": false,
       "layout": "IPY_MODEL_a81f8621f12d46e69d5003629ed99c61",
       "style": "IPY_MODEL_1603269c95924d738da7d15f63723c46",
       "value": false
      }
     },
     "daae1b435e464879be118eefbadf43a2": {
      "model_module": "@jupyter-widgets/controls",
      "model_module_version": "1.5.0",
      "model_name": "CheckboxModel",
      "state": {
       "description": "gini_indx",
       "disabled": false,
       "layout": "IPY_MODEL_5694ec17982145b2bf06bc1c2acc4b86",
       "style": "IPY_MODEL_4f2973c5096741a1812a667c8103172f",
       "value": false
      }
     },
     "dac71d08036d44ab8c933db22d9d366e": {
      "model_module": "@jupyter-widgets/controls",
      "model_module_version": "1.5.0",
      "model_name": "ButtonStyleModel",
      "state": {}
     },
     "dae40999d5f648d0a2f31c088bdd0782": {
      "model_module": "@jupyter-widgets/controls",
      "model_module_version": "1.5.0",
      "model_name": "DescriptionStyleModel",
      "state": {
       "description_width": ""
      }
     },
     "db1d5882f72b40149c5188fd615d3f22": {
      "model_module": "@jupyter-widgets/base",
      "model_module_version": "1.2.0",
      "model_name": "LayoutModel",
      "state": {}
     },
     "db1fda97f92443beb766dfef553bc9ec": {
      "model_module": "@jupyter-widgets/base",
      "model_module_version": "1.2.0",
      "model_name": "LayoutModel",
      "state": {}
     },
     "db6f8eaed3f04f5296a2fbd49b8088dc": {
      "model_module": "@jupyter-widgets/controls",
      "model_module_version": "1.5.0",
      "model_name": "ButtonModel",
      "state": {
       "description": "Import Dataset",
       "layout": "IPY_MODEL_91761a1ee5354afe9a9fa0181f939df3",
       "style": "IPY_MODEL_e14752d8f6414f9eb549d3e5e2568a2d"
      }
     },
     "db8d6d6bb3454f34a00998f7d16214e4": {
      "model_module": "@jupyter-widgets/base",
      "model_module_version": "1.2.0",
      "model_name": "LayoutModel",
      "state": {}
     },
     "dc407bc5602c49eeb2e74fb34b97b25d": {
      "model_module": "@jupyter-widgets/base",
      "model_module_version": "1.2.0",
      "model_name": "LayoutModel",
      "state": {}
     },
     "dc48682841444b05ba49e8c605037497": {
      "model_module": "@jupyter-widgets/controls",
      "model_module_version": "1.5.0",
      "model_name": "DescriptionStyleModel",
      "state": {
       "description_width": ""
      }
     },
     "dc6500b04b084e9da27988b9be1ca3eb": {
      "model_module": "@jupyter-widgets/base",
      "model_module_version": "1.2.0",
      "model_name": "LayoutModel",
      "state": {}
     },
     "dd074b03a67f4dc8840762aee2e0bfa2": {
      "model_module": "@jupyter-widgets/controls",
      "model_module_version": "1.5.0",
      "model_name": "DescriptionStyleModel",
      "state": {
       "description_width": ""
      }
     },
     "dd1058add4e149ae97be014a910e1a36": {
      "model_module": "@jupyter-widgets/base",
      "model_module_version": "1.2.0",
      "model_name": "LayoutModel",
      "state": {}
     },
     "dd483f21ce5b47f5b70d7315ad69d226": {
      "model_module": "@jupyter-widgets/base",
      "model_module_version": "1.2.0",
      "model_name": "LayoutModel",
      "state": {}
     },
     "dd5ff988ead748af9c5288e6d2176180": {
      "model_module": "@jupyter-widgets/base",
      "model_module_version": "1.2.0",
      "model_name": "LayoutModel",
      "state": {}
     },
     "dd614051af834825aeb353f0d9cfcff7": {
      "model_module": "@jupyter-widgets/controls",
      "model_module_version": "1.5.0",
      "model_name": "CheckboxModel",
      "state": {
       "description": "fed_need",
       "disabled": false,
       "layout": "IPY_MODEL_a3b7dcb53f8548809d7547f5da6f6976",
       "style": "IPY_MODEL_5a596fb2557c43848b61849334283086",
       "value": false
      }
     },
     "dd7fb40214b6407c90f985f02bf00697": {
      "model_module": "@jupyter-widgets/controls",
      "model_module_version": "1.5.0",
      "model_name": "CheckboxModel",
      "state": {
       "description": "attendee_fcd_pullman",
       "disabled": false,
       "layout": "IPY_MODEL_44d309bfa1c74183b6f70eddbf9b5d56",
       "style": "IPY_MODEL_6843c1d50e524d03b1fea73bfb48c890",
       "value": false
      }
     },
     "dd876581cfa94071a35d34903cd0e051": {
      "model_module": "@jupyter-widgets/controls",
      "model_module_version": "1.5.0",
      "model_name": "DropdownModel",
      "state": {
       "_options_labels": [
        "emplid",
        "enrl_ind",
        "count_week_from_term_begin_dt"
       ],
       "description": "x",
       "index": 2,
       "layout": "IPY_MODEL_b0aaec6ee4a84ad587301d0698aa5c1f",
       "style": "IPY_MODEL_179cf063e59640efa8725c6b9de85b91"
      }
     },
     "ddbfa9cbbbde4d4dbb1bbb47f8d50687": {
      "model_module": "@jupyter-widgets/output",
      "model_module_version": "1.0.0",
      "model_name": "OutputModel",
      "state": {
       "layout": "IPY_MODEL_85a29a01ca64452f8ee756946907b363",
       "outputs": [
        {
         "data": {
          "image/png": "iVBORw0KGgoAAAANSUhEUgAAAX0AAAEVCAYAAAAM3jVmAAAABHNCSVQICAgIfAhkiAAAAAlwSFlzAAALEgAACxIB0t1+/AAAADh0RVh0U29mdHdhcmUAbWF0cGxvdGxpYiB2ZXJzaW9uMy4xLjMsIGh0dHA6Ly9tYXRwbG90bGliLm9yZy+AADFEAAAWMElEQVR4nO3df7DddZ3f8edLYBFRFjCRYhII66YiMCtIJpvVrkWxJbrWYC0a6kpmSyfo4FY77liwf6jbpnV3VqxMBY0/NjBV2PhroDsiS7N0dDsoXljWEJCSAYVIJBGWJWiLEt/943yznl7OvffcHzm5uZ/nY+Y755z39/P9fj+f3OR1v/mc7/meVBWSpDY852B3QJI0Ooa+JDXE0Jekhhj6ktQQQ1+SGmLoS1JDDH1Jaoihr3kjyVN9yy+S/J++129P8qEkPx/X7om+7dcmuSvJk0l+nGRrkuVJPtnX/mfj9nFT16aSHN7tZ3P3elXfvn89SY3r7z9JcmuSvUke647975I8d4Lxbe6Ov7db7k7yn5P86oC253R9eH9f7bf7+v2Tbn3/n8VJ4471TJIXz+6nooXG0Ne8UVXP378ADwH/rK/2+a7Zn/W3q6pjoRfKwLXA+4BfBU4BrgJ+UVXv7Nvvfxq3j9dP0J3Hgf84UV+TXAB8CfgCcHJVvRB4G7AUWDbJMP+4ql4ALAZ+D1gN/K8kR49rt77rw/q+P59v9o3j9K58bN9YHur6djTwFuDvgLdP0hc1yNDXQnEm8GBVba2evVX15f1BOAPXAL+R5B+PX5EkwBXAH1bVp6vqcYCquq+qfr+q7p9q51X1f6vqO8CbgBfS+wWwf//PA/4FcCmwIsnKafb9LcATwB/S90tDAkNfC8edwKlJPpbkNUmeP8v9/ZTe/wo2Dlj3Unpn9F+e5TGoqr3ALcBv95XfAjwFfBG4GbhomrtdD1wHXE/vz+QVs+2nFg5DX4eatyZ5om+5FaCqHgDOAZYAW4Afd/Paswn/TwEnJRk/BbSoe/zR/kKS67v+/DTJO6Z5nEeA4/ter6c3BbWP3vTRhUmOGGZH3bz+a4AvVNWjwFY821cfQ1+Hmi1VdWzf8pr9K6rqW1X11qpaTO/M+dXAv5/pgarqaeA/dEv6Vj3WPZ7Y13Zd9/7CncBh0zzUEnrz9yRZRi+097+HcQPwXOB3htzXO4B7q+qu7vXngX857C8NLXyGvhakbr78K8AZs9zVn9J7Y/jNfbXvAT8E/vks9033P5HXAd/sSu+g9+/yvyf5EfAAvdAfdornIuDXkvyo2/4Kev8zmegNazXm8IPdAWkuJPlHwMuAG6pqd5JT6b1Jes1s9ltVzyT5EHBlX62SvA/4dJIn6V3F8wTw68AJQ/b3SHq/kP4I+Ft6v1ygF9ofBj7Z13wV8MUkL6yqx5hAkt8CXgKcBezpW/VRelM8Nw7TNy1snunrUPO2cdemP5XkRfRC903AtiRPAV8Hvgr88Rwc8zpgV3+hqv4MeCvwu8DDwI/pvZewid4bsBN5f5K99KZzrgXuAF5ZVT9JshpYDnyiqn7Ut9wI7AAunKKf6+n90tvWvz3wceCNSY6fYns1IH6JiiS1wzN9SWqIoS9JDTH0Jakhhr4kNWTeX7K5aNGiWr58+cHuhiQdMhYtWsTNN998c1WtGb9u3of+8uXLGRsbO9jdkKRDSpJFg+pO70hSQwx9SWqIoS9JDTH0Jakhhr4kNcTQl6SGTBn6SZ6b5PYkf5Nke5IPd/Xjk9yS5P7u8bi+bS5PsiPJfUnO66ufnWRbt+7K7rtGJUkjMsyZ/tPAa6vq5fS+fHpNdwvYy4CtVbWC3leyXQaQ5DRgHXA6sAa4Ksn+bxK6GtgArOiWZ31wQJJ04EwZ+tXzVPfyiG4pYC2//IKKa4Dzu+drgeur6umqepDefcBXJTkROKaqbqve/Zyv7dtGkjQCQ30itztTv4PeNwN9oqq+neSEqtoFUFW7ui+ygN73fX6rb/OdXe3n3fPx9UHH20DvfwScdNJJw49GkuapT5189sD6JT+4Y6T9GOqN3KraV1VnAkvpnbVP9r2jg+bpa5L6oONtqqqVVbVy8eLFw3RRkjSEaV29U1VPAP+T3lz8o92UDd3j7q7ZTmBZ32ZLgUe6+tIBdUnSiAxz9c7iJMd2z48CXgd8j96XLK/vmq0Hbuie3wisS3JkklPovWF7ezcVtDfJ6u6qnYv6tpEkjcAwc/onAtd08/rPAbZU1Z8nuQ3YkuRi4CHgAoCq2p5kC3AP8AxwaVXt6/b1LmAzcBRwU7dIkkZkytCvqu8CZw2oPwacO8E2G4GNA+pjwGTvB0iSDiA/kStJDTH0Jakhhr4kNcTQl6SGGPqS1BBDX5IaYuhLUkMMfUlqiKEvSQ0x9CWpIYa+JDXE0Jekhhj6ktQQQ1+SGmLoS1JDDH1JaoihL0kNMfQlqSGGviQ1xNCXpIYY+pLUEENfkhpi6EtSQwx9SWqIoS9JDZky9JMsS3JrknuTbE/ynq7+oSQ/THJXt7yhb5vLk+xIcl+S8/rqZyfZ1q27MkkOzLAkSYMcPkSbZ4D3VdWdSV4A3JHklm7dx6rqT/obJzkNWAecDrwY+B9J/mFV7QOuBjYA3wK+BqwBbpqboUiSpjLlmX5V7aqqO7vne4F7gSWTbLIWuL6qnq6qB4EdwKokJwLHVNVtVVXAtcD5sx6BJGlo05rTT7IcOAv4dld6d5LvJvlckuO62hLg4b7Ndna1Jd3z8XVJ0ogMHfpJng98GXhvVT1Jb6rmJcCZwC7go/ubDti8JqkPOtaGJGNJxvbs2TNsFyVJUxgq9JMcQS/wP19VXwGoqkeral9V/QL4NLCqa74TWNa3+VLgka6+dED9WapqU1WtrKqVixcvns54JEmTGObqnQCfBe6tqiv66if2NXszcHf3/EZgXZIjk5wCrABur6pdwN4kq7t9XgTcMEfjkCQNYZird14FvAPYluSurvYB4MIkZ9Kbovk+cAlAVW1PsgW4h96VP5d2V+4AvAvYDBxF76odr9yRpBGaMvSr6q8YPB//tUm22QhsHFAfA86YTgclSXPHT+RKUkMMfUlqiKEvSQ0x9CWpIYa+JDXE0Jekhhj6ktQQQ1+SGmLoS1JDDH1JaoihL0kNMfQlqSGGviQ1xNCXpIYY+pLUEENfkhpi6EtSQwx9SWqIoS9JDTH0Jakhhr4kNcTQl6SGGPqS1BBDX5IaYuhLUkMMfUlqyJShn2RZkluT3Jtke5L3dPXjk9yS5P7u8bi+bS5PsiPJfUnO66ufnWRbt+7KJDkww5IkDTLMmf4zwPuq6mXAauDSJKcBlwFbq2oFsLV7TbduHXA6sAa4Kslh3b6uBjYAK7plzRyORZI0hSlDv6p2VdWd3fO9wL3AEmAtcE3X7Brg/O75WuD6qnq6qh4EdgCrkpwIHFNVt1VVAdf2bSNJGoFpzeknWQ6cBXwbOKGqdkHvFwPwoq7ZEuDhvs12drUl3fPx9UHH2ZBkLMnYnj17ptNFSdIkhg79JM8Hvgy8t6qenKzpgFpNUn92sWpTVa2sqpWLFy8etouSpCkMFfpJjqAX+J+vqq905Ue7KRu6x91dfSewrG/zpcAjXX3pgLokaUSGuXonwGeBe6vqir5VNwLru+frgRv66uuSHJnkFHpv2N7eTQHtTbK62+dFfdtIkkbg8CHavAp4B7AtyV1d7QPAR4AtSS4GHgIuAKiq7Um2APfQu/Ln0qra1233LmAzcBRwU7dIkkZkytCvqr9i8Hw8wLkTbLMR2DigPgacMZ0OSpLmjp/IlaSGGPqS1BBDX5IaYuhLUkMMfUlqiKEvSQ0x9CWpIYa+JDXE0Jekhhj6ktQQQ1+SGmLoS1JDDH1JaoihL0kNMfQlqSGGviQ1xNCXpIYY+pLUEENfkhpi6EtSQwx9SWqIoS9JDTH0Jakhhr4kNcTQl6SGTBn6ST6XZHeSu/tqH0rywyR3dcsb+tZdnmRHkvuSnNdXPzvJtm7dlUky98ORJE1mmDP9zcCaAfWPVdWZ3fI1gCSnAeuA07ttrkpyWNf+amADsKJbBu1TknQATRn6VfUN4PEh97cWuL6qnq6qB4EdwKokJwLHVNVtVVXAtcD5M+20JGlmZjOn/+4k3+2mf47rakuAh/va7OxqS7rn4+sDJdmQZCzJ2J49e2bRRUlSv5mG/tXAS4AzgV3AR7v6oHn6mqQ+UFVtqqqVVbVy8eLFM+yiJGm8GYV+VT1aVfuq6hfAp4FV3aqdwLK+pkuBR7r60gF1SdIIzSj0uzn6/d4M7L+y50ZgXZIjk5xC7w3b26tqF7A3yeruqp2LgBtm0W9J0gwcPlWDJNcB5wCLkuwEPgick+RMelM03wcuAaiq7Um2APcAzwCXVtW+blfvoncl0FHATd0iSRqhKUO/qi4cUP7sJO03AhsH1MeAM6bVO0nSnPITuZLUEENfkhpi6EtSQwx9SWqIoS9JDTH0Jakhhr4kNcTQl6SGGPqS1BBDX5IaYuhLUkMMfUlqiKEvSQ0x9CWpIYa+JDXE0Jekhhj6ktQQQ1+SGmLoS1JDDH1JaoihL0kNMfQlqSGGviQ1xNCXpIYY+pLUEENfkhoyZegn+VyS3Unu7qsdn+SWJPd3j8f1rbs8yY4k9yU5r69+dpJt3bork2TuhyNJmswwZ/qbgTXjapcBW6tqBbC1e02S04B1wOndNlclOazb5mpgA7CiW8bvU5J0gE0Z+lX1DeDxceW1wDXd82uA8/vq11fV01X1ILADWJXkROCYqrqtqgq4tm8bSdKIzHRO/4Sq2gXQPb6oqy8BHu5rt7OrLemej68PlGRDkrEkY3v27JlhFyVJ4831G7mD5ulrkvpAVbWpqlZW1crFixfPWeckqXUzDf1HuykbusfdXX0nsKyv3VLgka6+dEBdkjRCMw39G4H13fP1wA199XVJjkxyCr03bG/vpoD2JlndXbVzUd82kqQROXyqBkmuA84BFiXZCXwQ+AiwJcnFwEPABQBVtT3JFuAe4Bng0qra1+3qXfSuBDoKuKlbJEkjNGXoV9WFE6w6d4L2G4GNA+pjwBnT6p0kaU75iVxJaoihL0kNMfQlqSGGviQ1xNCXpIYY+pLUEENfkhpi6EtSQwx9SWqIoS9JDTH0Jakhhr4kNWTKG65Jkg6cT5189sD6JT+444AczzN9SWqIoS9JDTH0Jakhhr4kNcTQl6SGGPqS1BBDX5IaYuhLUkMMfUlqiKEvSQ0x9CWpIYa+JDVkVqGf5PtJtiW5K8lYVzs+yS1J7u8ej+trf3mSHUnuS3LebDsvSZqeuTjTf01VnVlVK7vXlwFbq2oFsLV7TZLTgHXA6cAa4Kokh83B8SVJQzoQ0ztrgWu659cA5/fVr6+qp6vqQWAHsOoAHF+SNIHZhn4Bf5HkjiQbutoJVbULoHt8UVdfAjzct+3OrvYsSTYkGUsytmfPnll2UZK032y/ROVVVfVIkhcBtyT53iRtM6BWgxpW1SZgE8DKlSsHtpEkTd+szvSr6pHucTfwVXrTNY8mORGge9zdNd8JLOvbfCnwyGyOL0manhmHfpKjk7xg/3PgnwJ3AzcC67tm64Ebuuc3AuuSHJnkFGAFcPtMjy9Jmr7ZTO+cAHw1yf79fKGqvp7kO8CWJBcDDwEXAFTV9iRbgHuAZ4BLq2rfrHovSZqWGYd+VT0AvHxA/THg3Am22QhsnOkxJUmz4ydyJakhhr4kNcTQl6SGGPqS1BBDX5IaYuhLUkMMfUlqiKEvSQ0x9CWpIYa+JDVktrdWliT1+dTJZx/sLkzKM31JaoihL0kNMfQlqSGGviQ1xNCXpIYY+pLUEENfkhpi6EtSQwx9SWqIoS9JDTH0Jakhhr4kNcTQl6SGGPqS1BBDX5IaMvL76SdZA3wcOAz4TFV9ZNR9kKRhTXR//Et+cMeIezI3Rnqmn+Qw4BPA64HTgAuTnDbKPkhSy0Z9pr8K2FFVDwAkuR5YC9wz4n5IatRcfbPVfP+GrImMOvSXAA/3vd4J/Ob4Rkk2ABu6l08luW8EfVsE/HgExxmlhTgmWJjjckyHhpGN6Z3JbDafsI+jDv1Bo6hnFao2AZsOfHd+KclYVa0c5TEPtIU4JliY43JMh4aFMKZRX72zE1jW93op8MiI+yBJzRp16H8HWJHklCS/AqwDbhxxHySpWSOd3qmqZ5K8G7iZ3iWbn6uq7aPswyRGOp00IgtxTLAwx+WYDg2H/JhS9awpdUnSAuUnciWpIYa+JDVkwYd+ks8l2Z3k7gnWJ8mVSXYk+W6SV/StOzbJl5J8L8m9SX5rdD2f2CzH9G+TbE9yd5Lrkjx3dD2f3BDjOjXJbUmeTvIH49atSXJfN+bLRtPjqc10TEmWJbm1+3u3Pcl7Rtfryc3m59StPyzJXyf58wPf2+HM8u/evMyJiSz40Ac2A2smWf96YEW3bACu7lv3ceDrVXUq8HLg3gPUx+nazAzGlGQJ8G+AlVV1Br0309cd0J5Oz2YmH9fj9Pr/J/3FeX57j83MYEzAM8D7quplwGrg0gUwpv3ew/z5t7TfZmY+pvmaEwMt+NCvqm/Q+4FNZC1wbfV8Czg2yYlJjgFeDXy228/PquqJA9/jqc10TN26w4GjkhwOPI959DmJqcZVVbur6jvAz8et+vvbe1TVz4D9t/c46GY6pqraVVV3ds/30guSJQeyr8Oaxc+JJEuB3wE+c+B6OH0zHdN8zomJLPjQH8KgW0MsAX4N2AP8afdf0c8kOfpgdHAGBo6pqn5I70zlIWAX8HdV9RcHoX9zbaKf4YKQZDlwFvDtg9uTOfFfgPcDvzjYHZkjh1xOGPoT3xricOAVwNVVdRbwE2DezBVPYeCYkhxH7wz4FODFwNFJfnekPTswhrq9x6EoyfOBLwPvraonD3Z/ZiPJG4HdVXVo3pN4sEMuJwz9iW8NsRPYWVX7z66+RO+HeyiYaEyvAx6sqj1V9XPgK8ArD0L/5tqCvL1HkiPoBf7nq+orB7s/c+BVwJuSfJ/eFNxrk/y3g9ulWTvkcsLQ790G4qLuipfV9KY8dlXVj4CHk7y0a3cuh84toAeOid60zuokz0sSemOa1286DWnB3d6j+/l8Fri3qq442P2ZC1V1eVUtrarl9H5Gf1lVh/T/NA/FnFjwn8hNch1wDr1boj4KfBA4AqCqPtn94/qv9N65/ynwe1U11m17Jr03nH4FeKBb97ejHsN4sxzTh4G30bs65K+Bf11VT496DIMMMa5/AIwBx9CbE34KOK2qnkzyBnrzxftv77Fx9CN4tpmOCfgN4JvANn45//2BqvraKPs/yGx+Tn37OAf4g6p640g7P4FZ/t2blzkxkQUf+pKkX3J6R5IaYuhLUkMMfUlqiKEvSQ0x9CVpHpnq5m/j2n4syV3d8r+TTHkLCK/ekaR5JMmr6V0Sem13Y8Rht/t94Kyq+leTtfNMX5LmkUE3f0vykiRfT3JHkm8mOXXAphcC1021/5F+R64kaUY2Ae+sqvuT/CZwFfDa/SuTnEzvnlp/OdWODH1Jmse6m+69Evhi78P2ABw5rtk64EtVtW+q/Rn6kjS/PQd4oqrOnKTNOuDSYXcmSZqnunsWPZjkAvj7r0N9+f713c3ejgNuG2Z/hr4kzSPdzd9uA16aZGeSi4G3Axcn+RtgO///N8NdCFxfQ16K6SWbktQQz/QlqSGGviQ1xNCXpIYY+pLUEENfkhpi6EtSQwx9SWrI/wPFDTUduBw4wwAAAABJRU5ErkJggg==\n",
          "text/plain": "<Figure size 432x288 with 1 Axes>"
         },
         "metadata": {
          "needs_background": "light"
         },
         "output_type": "display_data"
        }
       ]
      }
     },
     "ddcc1bc6be754c20a084989e3b4aa31e": {
      "model_module": "@jupyter-widgets/base",
      "model_module_version": "1.2.0",
      "model_name": "LayoutModel",
      "state": {}
     },
     "de2864b464e441f5b65b8622b27706db": {
      "model_module": "@jupyter-widgets/base",
      "model_module_version": "1.2.0",
      "model_name": "LayoutModel",
      "state": {}
     },
     "de39b28be570433e93890c031047b0b9": {
      "model_module": "@jupyter-widgets/controls",
      "model_module_version": "1.5.0",
      "model_name": "CheckboxModel",
      "state": {
       "description": "fall_avg_difficulty",
       "disabled": false,
       "layout": "IPY_MODEL_c713f0b64ad349b49b28c2747875a453",
       "style": "IPY_MODEL_8aba60cdb08c440c8f6ece3d2dc7af8e",
       "value": false
      }
     },
     "de446a012dfe4c0ab8d212e83d1a6f3f": {
      "model_module": "@jupyter-widgets/controls",
      "model_module_version": "1.5.0",
      "model_name": "DescriptionStyleModel",
      "state": {
       "description_width": ""
      }
     },
     "de5ee32404374495adad5b95abdc1aa7": {
      "model_module": "@jupyter-widgets/base",
      "model_module_version": "1.2.0",
      "model_name": "LayoutModel",
      "state": {}
     },
     "de62d9f1fc43458c9f45aaf33407d071": {
      "model_module": "@jupyter-widgets/controls",
      "model_module_version": "1.5.0",
      "model_name": "VBoxModel",
      "state": {
       "_dom_classes": [
        "widget-interact"
       ],
       "children": [
        "IPY_MODEL_dd876581cfa94071a35d34903cd0e051",
        "IPY_MODEL_a2ff700a217d453484604499eb5b690f",
        "IPY_MODEL_d2ef494792704555b125805ad85526dc"
       ],
       "layout": "IPY_MODEL_a8c1d013d5f349999441929dbc214429"
      }
     },
     "df24a3afc82245c39fc3ff04d56d654d": {
      "model_module": "@jupyter-widgets/controls",
      "model_module_version": "1.5.0",
      "model_name": "CheckboxModel",
      "state": {
       "description": "cas_phys",
       "disabled": false,
       "layout": "IPY_MODEL_524c60fc66ee4c00b37c3d88a7d8a731",
       "style": "IPY_MODEL_00d8cf8d8cb541f6920fd525638d80b6",
       "value": false
      }
     },
     "df4b51e64b6e4438bb461dd1fc56706f": {
      "model_module": "@jupyter-widgets/controls",
      "model_module_version": "1.5.0",
      "model_name": "IntSliderModel",
      "state": {
       "description": "y",
       "layout": "IPY_MODEL_623dd712f3f74322a138a6dcb87e85e9",
       "min": 1,
       "style": "IPY_MODEL_7c8b3010a03647cd960b8e619e4b7f81",
       "value": 50
      }
     },
     "df57bee62c624c3aacc67e5c5f406acf": {
      "model_module": "@jupyter-widgets/controls",
      "model_module_version": "1.5.0",
      "model_name": "SliderStyleModel",
      "state": {
       "description_width": ""
      }
     },
     "df5afe28cf054b6f9defadf9935c5021": {
      "model_module": "@jupyter-widgets/controls",
      "model_module_version": "1.5.0",
      "model_name": "CheckboxModel",
      "state": {
       "description": "attendee_campus_visit",
       "disabled": false,
       "layout": "IPY_MODEL_734fe4ad30c548d9a3620e2e38dd273c",
       "style": "IPY_MODEL_0f601bd177e04442bb79c8ba68221add",
       "value": false
      }
     },
     "df7962d2216242e2bf32a73243e405a2": {
      "model_module": "@jupyter-widgets/controls",
      "model_module_version": "1.5.0",
      "model_name": "DescriptionStyleModel",
      "state": {
       "description_width": ""
      }
     },
     "dff71bfdc683462abbbc82c9ada2f6e5": {
      "model_module": "@jupyter-widgets/base",
      "model_module_version": "1.2.0",
      "model_name": "LayoutModel",
      "state": {}
     },
     "e0c218bead8e4947a74fe019c498a3e5": {
      "model_module": "@jupyter-widgets/controls",
      "model_module_version": "1.5.0",
      "model_name": "DescriptionStyleModel",
      "state": {
       "description_width": ""
      }
     },
     "e0e1d575150a48e1a3e2034e777372bd": {
      "model_module": "@jupyter-widgets/controls",
      "model_module_version": "1.5.0",
      "model_name": "CheckboxModel",
      "state": {
       "description": "town_distant",
       "disabled": false,
       "layout": "IPY_MODEL_025869edf45541219d096f264d94505d",
       "style": "IPY_MODEL_2a3502abde674411bf76db834a7f92ce",
       "value": false
      }
     },
     "e13c7b8e24ef4965b5b3d93b68b335d8": {
      "model_module": "@jupyter-widgets/controls",
      "model_module_version": "1.5.0",
      "model_name": "CheckboxModel",
      "state": {
       "description": "attendee_experience",
       "disabled": false,
       "layout": "IPY_MODEL_8c699226803843e0b773225f368ce438",
       "style": "IPY_MODEL_bb6c71b0f6c04fcc91a9ec8472db48bd",
       "value": false
      }
     },
     "e144176897d14c3f9ddaf74ac6f360f0": {
      "model_module": "@jupyter-widgets/controls",
      "model_module_version": "1.5.0",
      "model_name": "DescriptionStyleModel",
      "state": {
       "description_width": ""
      }
     },
     "e14752d8f6414f9eb549d3e5e2568a2d": {
      "model_module": "@jupyter-widgets/controls",
      "model_module_version": "1.5.0",
      "model_name": "ButtonStyleModel",
      "state": {}
     },
     "e16ef97a861541de9f9d86e159022783": {
      "model_module": "@jupyter-widgets/base",
      "model_module_version": "1.2.0",
      "model_name": "LayoutModel",
      "state": {}
     },
     "e1760a66f2654a90811d4ac77ba2617d": {
      "model_module": "@jupyter-widgets/controls",
      "model_module_version": "1.5.0",
      "model_name": "DescriptionStyleModel",
      "state": {
       "description_width": ""
      }
     },
     "e1a5bf8d88dc48eca7df21fd824b45f7": {
      "model_module": "@jupyter-widgets/base",
      "model_module_version": "1.2.0",
      "model_name": "LayoutModel",
      "state": {}
     },
     "e1b64f26bcdc458ca66563f9120ed8c7": {
      "model_module": "@jupyter-widgets/base",
      "model_module_version": "1.2.0",
      "model_name": "LayoutModel",
      "state": {
       "flex_flow": "row wrap"
      }
     },
     "e1b7f3a985ab4b4aa35428abd4bbb58d": {
      "model_module": "@jupyter-widgets/controls",
      "model_module_version": "1.5.0",
      "model_name": "DescriptionStyleModel",
      "state": {
       "description_width": ""
      }
     },
     "e22aca9dab5b4e4bbb4cb286eda3f7e0": {
      "model_module": "@jupyter-widgets/base",
      "model_module_version": "1.2.0",
      "model_name": "LayoutModel",
      "state": {}
     },
     "e2f0fa27ad604442ac87783bf1241abd": {
      "model_module": "@jupyter-widgets/base",
      "model_module_version": "1.2.0",
      "model_name": "LayoutModel",
      "state": {}
     },
     "e32b3f9098eb4e098df5a209a1e26b0b": {
      "model_module": "@jupyter-widgets/controls",
      "model_module_version": "1.5.0",
      "model_name": "DescriptionStyleModel",
      "state": {
       "description_width": ""
      }
     },
     "e35cc1407d7c4a2a882b39b153440823": {
      "model_module": "@jupyter-widgets/base",
      "model_module_version": "1.2.0",
      "model_name": "LayoutModel",
      "state": {}
     },
     "e35ea816cc9c4e3fb57f96ddc70812d7": {
      "model_module": "@jupyter-widgets/base",
      "model_module_version": "1.2.0",
      "model_name": "LayoutModel",
      "state": {}
     },
     "e3aedda494354736b0cb508303d54591": {
      "model_module": "@jupyter-widgets/controls",
      "model_module_version": "1.5.0",
      "model_name": "CheckboxModel",
      "state": {
       "description": "nursing",
       "disabled": false,
       "layout": "IPY_MODEL_4314eab4580a44848cce5fa6eb3109c8",
       "style": "IPY_MODEL_06e6f6e19eb4419bb2069cf4caba0b64",
       "value": false
      }
     },
     "e3dbe3f552a7419e8c36f555b8d4e463": {
      "model_module": "@jupyter-widgets/base",
      "model_module_version": "1.2.0",
      "model_name": "LayoutModel",
      "state": {}
     },
     "e587ff6100384521bafce42af1607c88": {
      "model_module": "@jupyter-widgets/controls",
      "model_module_version": "1.5.0",
      "model_name": "DescriptionStyleModel",
      "state": {
       "description_width": ""
      }
     },
     "e5ac7ce7d7df4a37a1963b6e007e8f66": {
      "model_module": "@jupyter-widgets/controls",
      "model_module_version": "1.5.0",
      "model_name": "DescriptionStyleModel",
      "state": {
       "description_width": ""
      }
     },
     "e602b9b86ede447481e02d6fcb146632": {
      "model_module": "@jupyter-widgets/controls",
      "model_module_version": "1.5.0",
      "model_name": "DescriptionStyleModel",
      "state": {
       "description_width": ""
      }
     },
     "e65a4d419ce1488bb1dc816581ba3c27": {
      "model_module": "@jupyter-widgets/base",
      "model_module_version": "1.2.0",
      "model_name": "LayoutModel",
      "state": {
       "flex_flow": "row wrap"
      }
     },
     "e6f431438acf41fa9711cc66cc569972": {
      "model_module": "@jupyter-widgets/controls",
      "model_module_version": "1.5.0",
      "model_name": "DescriptionStyleModel",
      "state": {
       "description_width": ""
      }
     },
     "e7019a774b3b4f57bd38badae4073306": {
      "model_module": "@jupyter-widgets/controls",
      "model_module_version": "1.5.0",
      "model_name": "CheckboxModel",
      "state": {
       "description": "attendee_oos_experience",
       "disabled": false,
       "layout": "IPY_MODEL_8188bb0cfb76432d8266922880699ebd",
       "style": "IPY_MODEL_ad57c072a4794045bf0f4b5e5e686d98",
       "value": false
      }
     },
     "e757dc28082c44bc82f31f47c8217a5a": {
      "model_module": "@jupyter-widgets/output",
      "model_module_version": "1.0.0",
      "model_name": "OutputModel",
      "state": {
       "layout": "IPY_MODEL_aaa1044ac9964caea0d68146f9f78d32"
      }
     },
     "e76c0dc329ba44e4b8e62ab0de994347": {
      "model_module": "@jupyter-widgets/controls",
      "model_module_version": "1.5.0",
      "model_name": "DescriptionStyleModel",
      "state": {
       "description_width": ""
      }
     },
     "e7e73c76d5aa4aa487c6d66787be1984": {
      "model_module": "@jupyter-widgets/base",
      "model_module_version": "1.2.0",
      "model_name": "LayoutModel",
      "state": {}
     },
     "e7f004f7ee7748d09acd5f633d0bd257": {
      "model_module": "@jupyter-widgets/controls",
      "model_module_version": "1.5.0",
      "model_name": "DescriptionStyleModel",
      "state": {
       "description_width": ""
      }
     },
     "e84a5ad254054c4db2a54239ec1f9338": {
      "model_module": "@jupyter-widgets/controls",
      "model_module_version": "1.5.0",
      "model_name": "CheckboxModel",
      "state": {
       "description": "attendee_alive",
       "disabled": false,
       "layout": "IPY_MODEL_2220de9399e04614a69744c23d3b6961",
       "style": "IPY_MODEL_65ce8f0b99bd4bca840c98891d450148",
       "value": false
      }
     },
     "e854694fd1e24cb78abeca4440ebea27": {
      "model_module": "@jupyter-widgets/base",
      "model_module_version": "1.2.0",
      "model_name": "LayoutModel",
      "state": {}
     },
     "e884eb6a51fd4e2a81e4aeef05861143": {
      "model_module": "@jupyter-widgets/controls",
      "model_module_version": "1.5.0",
      "model_name": "AccordionModel",
      "state": {
       "_titles": {
        "0": "Financial Aid"
       },
       "children": [
        "IPY_MODEL_576ac7d4bb53494587c6b311ce97becf"
       ],
       "layout": "IPY_MODEL_740a9ee5d4d248cf990ad1c10fb7c083"
      }
     },
     "e88c7703dd53439ba6c8725ae98c78c2": {
      "model_module": "@jupyter-widgets/base",
      "model_module_version": "1.2.0",
      "model_name": "LayoutModel",
      "state": {}
     },
     "e985b2a756dd4b18b7fefb15bc2b18bb": {
      "model_module": "@jupyter-widgets/controls",
      "model_module_version": "1.5.0",
      "model_name": "CheckboxModel",
      "state": {
       "description": "afl_greek_indicator",
       "disabled": false,
       "layout": "IPY_MODEL_8b74f7ec91d74f0b975786cf7594eba1",
       "style": "IPY_MODEL_ba33e1c4af114bf7ba9ed77b5a00811c",
       "value": false
      }
     },
     "e98965fa73df4767bec166092c7d2163": {
      "model_module": "@jupyter-widgets/base",
      "model_module_version": "1.2.0",
      "model_name": "LayoutModel",
      "state": {}
     },
     "e990e39fc58c49f7932f49efb183c3a0": {
      "model_module": "@jupyter-widgets/controls",
      "model_module_version": "1.5.0",
      "model_name": "CheckboxModel",
      "state": {
       "description": "spring_avg_pct_CDF",
       "disabled": false,
       "layout": "IPY_MODEL_6b3239cfed6343eeb38afe6cc8a1799e",
       "style": "IPY_MODEL_516dec9abb4b4a1fbedd23e21d6f0ba1",
       "value": false
      }
     },
     "e9f1b5cad24241f192e97f03c8efce6e": {
      "model_module": "@jupyter-widgets/controls",
      "model_module_version": "1.5.0",
      "model_name": "DescriptionStyleModel",
      "state": {
       "description_width": ""
      }
     },
     "ea07474f6de94f6490353a07cc943d79": {
      "model_module": "@jupyter-widgets/controls",
      "model_module_version": "1.5.0",
      "model_name": "CheckboxModel",
      "state": {
       "description": "attendee_lvp_camp",
       "disabled": false,
       "layout": "IPY_MODEL_caf950bb9c9740a18ca93e242837f0f2",
       "style": "IPY_MODEL_eb03f4397d894e96a67fd4590efc2a72",
       "value": false
      }
     },
     "ea1454d2e71447248eb12d30c7d747e8": {
      "model_module": "@jupyter-widgets/controls",
      "model_module_version": "1.5.0",
      "model_name": "DescriptionStyleModel",
      "state": {
       "description_width": ""
      }
     },
     "ea31aae526ca4564affcb7de36815ad9": {
      "model_module": "@jupyter-widgets/base",
      "model_module_version": "1.2.0",
      "model_name": "LayoutModel",
      "state": {}
     },
     "ea35a6a38a0e45eb9f337f1fe99f9d2e": {
      "model_module": "@jupyter-widgets/base",
      "model_module_version": "1.2.0",
      "model_name": "LayoutModel",
      "state": {}
     },
     "ea4669d6524b47afa9d3eb8dc0e6725b": {
      "model_module": "@jupyter-widgets/controls",
      "model_module_version": "1.5.0",
      "model_name": "DropdownModel",
      "state": {
       "_options_labels": [
        "emplid",
        "enrl_ind",
        "acad_year",
        "count_week_from_term_begin_dt",
        "father_wsu_flag",
        "parent1_highest_educ_lvl",
        "parent2_highest_educ_lvl"
       ],
       "description": "x",
       "index": 5,
       "layout": "IPY_MODEL_181411d3512c4dc398e5cca7db29a186",
       "style": "IPY_MODEL_4cbaf7c6184e4a3ab5dbeab222b4a4a0"
      }
     },
     "ea4bf0681af14fe69e0a3a4a2ffbec9a": {
      "model_module": "@jupyter-widgets/controls",
      "model_module_version": "1.5.0",
      "model_name": "CheckboxModel",
      "state": {
       "description": "rural_remote",
       "disabled": false,
       "layout": "IPY_MODEL_edb57c00fbc647f09694c9ea97b12b03",
       "style": "IPY_MODEL_97dbf8ce06dd43b1b1f4652fa8bee534",
       "value": false
      }
     },
     "ea4cffe16a4643faa39bd58bc86e4232": {
      "model_module": "@jupyter-widgets/base",
      "model_module_version": "1.2.0",
      "model_name": "LayoutModel",
      "state": {}
     },
     "ea8bb67ce0e948b0bd91c7f023dc2792": {
      "model_module": "@jupyter-widgets/controls",
      "model_module_version": "1.5.0",
      "model_name": "CheckboxModel",
      "state": {
       "description": "spring_avg_pct_CDFW",
       "disabled": false,
       "layout": "IPY_MODEL_9f5cacdcc6f14a3d9f9c6203e2103f17",
       "style": "IPY_MODEL_3d920707d772402099e17f9548ec2a11",
       "value": false
      }
     },
     "ea9da01a97d0426a93f30fd187243804": {
      "model_module": "@jupyter-widgets/base",
      "model_module_version": "1.2.0",
      "model_name": "LayoutModel",
      "state": {}
     },
     "eb03f4397d894e96a67fd4590efc2a72": {
      "model_module": "@jupyter-widgets/controls",
      "model_module_version": "1.5.0",
      "model_name": "DescriptionStyleModel",
      "state": {
       "description_width": ""
      }
     },
     "eb0b38bf683f49d8844856612c99d8f2": {
      "model_module": "@jupyter-widgets/controls",
      "model_module_version": "1.5.0",
      "model_name": "CheckboxModel",
      "state": {
       "description": "marital_status",
       "disabled": false,
       "layout": "IPY_MODEL_f3116bc418c7407481d952f8d57589d5",
       "style": "IPY_MODEL_29d1a2a816b84d46a4daf6d084a11bd8",
       "value": false
      }
     },
     "eb748c5a59b74d938cc514784aaf3936": {
      "model_module": "@jupyter-widgets/controls",
      "model_module_version": "1.5.0",
      "model_name": "CheckboxModel",
      "state": {
       "description": "business",
       "disabled": false,
       "layout": "IPY_MODEL_db1fda97f92443beb766dfef553bc9ec",
       "style": "IPY_MODEL_0240afd213334e43bb9a31c24384405d",
       "value": false
      }
     },
     "eb79378165994fd8b95336a9167a5af6": {
      "model_module": "@jupyter-widgets/controls",
      "model_module_version": "1.5.0",
      "model_name": "DescriptionStyleModel",
      "state": {
       "description_width": ""
      }
     },
     "eb99bb21cf434d8cb4fdd12b2d06dab8": {
      "model_module": "@jupyter-widgets/controls",
      "model_module_version": "1.5.0",
      "model_name": "DescriptionStyleModel",
      "state": {
       "description_width": ""
      }
     },
     "ebcae13e7f4d4b8c80e85bf4276ad0e9": {
      "model_module": "@jupyter-widgets/controls",
      "model_module_version": "1.5.0",
      "model_name": "DescriptionStyleModel",
      "state": {
       "description_width": ""
      }
     },
     "ebe4bafa582d41b6bfb3c0ef63c80215": {
      "model_module": "@jupyter-widgets/base",
      "model_module_version": "1.2.0",
      "model_name": "LayoutModel",
      "state": {}
     },
     "ec28c82a404141088dcf8338dce8ce05": {
      "model_module": "@jupyter-widgets/controls",
      "model_module_version": "1.5.0",
      "model_name": "CheckboxModel",
      "state": {
       "description": "fall_lab_count",
       "disabled": false,
       "layout": "IPY_MODEL_dd483f21ce5b47f5b70d7315ad69d226",
       "style": "IPY_MODEL_560538856eed4f1d9bc04c3ff3a39acb",
       "value": false
      }
     },
     "ec8b6ba2410343bb8c3060aa9d40df04": {
      "model_module": "@jupyter-widgets/controls",
      "model_module_version": "1.5.0",
      "model_name": "DescriptionStyleModel",
      "state": {
       "description_width": ""
      }
     },
     "ecab4ec50cfb47fa9427e1fb46ade692": {
      "model_module": "@jupyter-widgets/controls",
      "model_module_version": "1.5.0",
      "model_name": "DescriptionStyleModel",
      "state": {
       "description_width": ""
      }
     },
     "ecc9849141af4387abae21d621cf40d1": {
      "model_module": "@jupyter-widgets/controls",
      "model_module_version": "1.5.0",
      "model_name": "DescriptionStyleModel",
      "state": {
       "description_width": ""
      }
     },
     "ed83b5370a1c45c0b3c600fc5de150f5": {
      "model_module": "@jupyter-widgets/controls",
      "model_module_version": "1.5.0",
      "model_name": "DescriptionStyleModel",
      "state": {
       "description_width": ""
      }
     },
     "ed9d180c57704162b5272b9bde827190": {
      "model_module": "@jupyter-widgets/controls",
      "model_module_version": "1.5.0",
      "model_name": "VBoxModel",
      "state": {
       "children": [
        "IPY_MODEL_64500c7c5102479eab2afb33dd1e4157",
        "IPY_MODEL_b3598662367f4f78a26cae8027f9b724",
        "IPY_MODEL_0f0d0494eefa49ed813894c96c8103f6",
        "IPY_MODEL_16a530433cca44ad892f778b8fcc8a3e",
        "IPY_MODEL_da911edb8950471eab8abb3acaef0e70",
        "IPY_MODEL_b258ac59d32845939dccfeef3aedb45a",
        "IPY_MODEL_9b3691f7e9bf4d12b3eca6d260e35235",
        "IPY_MODEL_3b84e9ae0fcb4a3899a8f99433f2bb29",
        "IPY_MODEL_baec9356e6c34511ac216a7a78d4eeff",
        "IPY_MODEL_6e25b51cc25f4cc6b159eca57639c35e",
        "IPY_MODEL_f5269665087a4f8fab63f64e05755c5f",
        "IPY_MODEL_9480b7f95efb46f3874f8b87386983c4"
       ],
       "layout": "IPY_MODEL_bf9d6d3c9d3d44cca1330105a64f6829"
      }
     },
     "edb57c00fbc647f09694c9ea97b12b03": {
      "model_module": "@jupyter-widgets/base",
      "model_module_version": "1.2.0",
      "model_name": "LayoutModel",
      "state": {}
     },
     "ede9d963dc544140b6d913069d4d557e": {
      "model_module": "@jupyter-widgets/controls",
      "model_module_version": "1.5.0",
      "model_name": "DescriptionStyleModel",
      "state": {
       "description_width": ""
      }
     },
     "ee3bbf3aa52641c69f77013277ef0589": {
      "model_module": "@jupyter-widgets/controls",
      "model_module_version": "1.5.0",
      "model_name": "DescriptionStyleModel",
      "state": {
       "description_width": ""
      }
     },
     "ee7b1ff31f154592a264284959a60785": {
      "model_module": "@jupyter-widgets/controls",
      "model_module_version": "1.5.0",
      "model_name": "DescriptionStyleModel",
      "state": {
       "description_width": ""
      }
     },
     "ee7f21e3aa0a40159455b875e1125d23": {
      "model_module": "@jupyter-widgets/base",
      "model_module_version": "1.2.0",
      "model_name": "LayoutModel",
      "state": {}
     },
     "eee6701003cc43dfbacb3b162b7fcd09": {
      "model_module": "@jupyter-widgets/base",
      "model_module_version": "1.2.0",
      "model_name": "LayoutModel",
      "state": {}
     },
     "eef4120fd9364cb2932812403a2e4101": {
      "model_module": "@jupyter-widgets/controls",
      "model_module_version": "1.5.0",
      "model_name": "CheckboxModel",
      "state": {
       "description": "attendee_preview_jrs",
       "disabled": false,
       "layout": "IPY_MODEL_857eec79dd5842cfb5c14c3ce55fc055",
       "style": "IPY_MODEL_625e2abeb3054eb6ad28d78e6d17a8c1",
       "value": false
      }
     },
     "ef0a40c76db442c7a6e065345a64f647": {
      "model_module": "@jupyter-widgets/controls",
      "model_module_version": "1.5.0",
      "model_name": "CheckboxModel",
      "state": {
       "description": "business",
       "disabled": false,
       "layout": "IPY_MODEL_37d2be5e51024bec9cab28a54213a820",
       "style": "IPY_MODEL_a85f007179464677964c98ce6330bb78",
       "value": false
      }
     },
     "ef924d93c06b456ea17c61cbe9285e1d": {
      "model_module": "@jupyter-widgets/controls",
      "model_module_version": "1.5.0",
      "model_name": "CheckboxModel",
      "state": {
       "description": "term_credit_hours",
       "disabled": false,
       "layout": "IPY_MODEL_4c59d9cd562e4ba89fb2caa852fefcc9",
       "style": "IPY_MODEL_c6c256cb74a74d33856e879dbd42ab9a",
       "value": false
      }
     },
     "f00053a920ec42c1be31267dc9a274e7": {
      "model_module": "@jupyter-widgets/controls",
      "model_module_version": "1.5.0",
      "model_name": "CheckboxModel",
      "state": {
       "description": "attendee_group_visit",
       "disabled": false,
       "layout": "IPY_MODEL_d6b0ed78e3964587866088276579b68d",
       "style": "IPY_MODEL_22a22b1077b44eedb623010665524f46",
       "value": false
      }
     },
     "f067c6d6a52d4602a60161795d72bbf2": {
      "model_module": "@jupyter-widgets/base",
      "model_module_version": "1.2.0",
      "model_name": "LayoutModel",
      "state": {}
     },
     "f08f4fee293e4789ba40bdc60e2ba372": {
      "model_module": "@jupyter-widgets/controls",
      "model_module_version": "1.5.0",
      "model_name": "DescriptionStyleModel",
      "state": {
       "description_width": ""
      }
     },
     "f0a4d26f27174d80a4e529e6ce383d08": {
      "model_module": "@jupyter-widgets/controls",
      "model_module_version": "1.5.0",
      "model_name": "CheckboxModel",
      "state": {
       "description": "spring_avg_pct_DF",
       "disabled": false,
       "layout": "IPY_MODEL_ea35a6a38a0e45eb9f337f1fe99f9d2e",
       "style": "IPY_MODEL_2cf966cbc54743ee9138ac17e28ceb89",
       "value": false
      }
     },
     "f0dc32ec40164d8d806fe407f2432e62": {
      "model_module": "@jupyter-widgets/controls",
      "model_module_version": "1.5.0",
      "model_name": "CheckboxModel",
      "state": {
       "description": "father_wsu_flag",
       "disabled": false,
       "layout": "IPY_MODEL_01c3ffaaa56e4ac485cf8302352c368f",
       "style": "IPY_MODEL_b985c44ca701437d87c55673a68349d5",
       "value": false
      }
     },
     "f1265a43972741ca9b0ea658de845828": {
      "model_module": "@jupyter-widgets/controls",
      "model_module_version": "1.5.0",
      "model_name": "DescriptionStyleModel",
      "state": {
       "description_width": ""
      }
     },
     "f14b1e23bd804e3b99f1ec57ef216b60": {
      "model_module": "@jupyter-widgets/controls",
      "model_module_version": "1.5.0",
      "model_name": "DescriptionStyleModel",
      "state": {
       "description_width": ""
      }
     },
     "f1907b04f8c346649525ace0607be0bd": {
      "model_module": "@jupyter-widgets/base",
      "model_module_version": "1.2.0",
      "model_name": "LayoutModel",
      "state": {}
     },
     "f1aba34417844e0c82c56ed4262a3fea": {
      "model_module": "@jupyter-widgets/controls",
      "model_module_version": "1.5.0",
      "model_name": "DescriptionStyleModel",
      "state": {
       "description_width": ""
      }
     },
     "f1b8124a9ad542d8bc000f0aaed9108c": {
      "model_module": "@jupyter-widgets/controls",
      "model_module_version": "1.5.0",
      "model_name": "DescriptionStyleModel",
      "state": {
       "description_width": ""
      }
     },
     "f1f6b18b8ca64a5793dc71f2c87c72fe": {
      "model_module": "@jupyter-widgets/controls",
      "model_module_version": "1.5.0",
      "model_name": "CheckboxModel",
      "state": {
       "description": "rural_distant",
       "disabled": false,
       "layout": "IPY_MODEL_1ec86b0ad229460e922d9844767eb9a8",
       "style": "IPY_MODEL_cbee676e0db2496b833652eaa94224e6",
       "value": false
      }
     },
     "f2cc816fbfa34dbfbdaeb8eb7dcada7e": {
      "model_module": "@jupyter-widgets/controls",
      "model_module_version": "1.5.0",
      "model_name": "DescriptionStyleModel",
      "state": {
       "description_width": ""
      }
     },
     "f2fea1240e3f42a2a83841bad1a268eb": {
      "model_module": "@jupyter-widgets/controls",
      "model_module_version": "1.5.0",
      "model_name": "DescriptionStyleModel",
      "state": {
       "description_width": ""
      }
     },
     "f3116bc418c7407481d952f8d57589d5": {
      "model_module": "@jupyter-widgets/base",
      "model_module_version": "1.2.0",
      "model_name": "LayoutModel",
      "state": {}
     },
     "f3413b8353294c61ac230ce312938b76": {
      "model_module": "@jupyter-widgets/controls",
      "model_module_version": "1.5.0",
      "model_name": "CheckboxModel",
      "state": {
       "description": "count_week_from_term_begin_dt",
       "disabled": false,
       "layout": "IPY_MODEL_b7eb69f38e5947ef9373cad07a995330",
       "style": "IPY_MODEL_ecc9849141af4387abae21d621cf40d1",
       "value": true
      }
     },
     "f368f2f6b53b446db6c2097aba743dec": {
      "model_module": "@jupyter-widgets/controls",
      "model_module_version": "1.5.0",
      "model_name": "DescriptionStyleModel",
      "state": {
       "description_width": ""
      }
     },
     "f4130bf4b2014dd491c5cc44b8b660eb": {
      "model_module": "@jupyter-widgets/base",
      "model_module_version": "1.2.0",
      "model_name": "LayoutModel",
      "state": {}
     },
     "f435e409b86046bf85ce82ccd3f31c4b": {
      "model_module": "@jupyter-widgets/controls",
      "model_module_version": "1.5.0",
      "model_name": "DescriptionStyleModel",
      "state": {
       "description_width": ""
      }
     },
     "f4617d104a904a80bcd808485a06f645": {
      "model_module": "@jupyter-widgets/controls",
      "model_module_version": "1.5.0",
      "model_name": "DescriptionStyleModel",
      "state": {
       "description_width": ""
      }
     },
     "f4e0c29a35ce423983d90aff73495293": {
      "model_module": "@jupyter-widgets/base",
      "model_module_version": "1.2.0",
      "model_name": "LayoutModel",
      "state": {}
     },
     "f5269665087a4f8fab63f64e05755c5f": {
      "model_module": "@jupyter-widgets/controls",
      "model_module_version": "1.5.0",
      "model_name": "CheckboxModel",
      "state": {
       "description": "underrep_minority",
       "disabled": false,
       "layout": "IPY_MODEL_091cc5a80e3f49109e77ff1e47bde25e",
       "style": "IPY_MODEL_5162ff5f03cd4132a61020c0f0ba371b",
       "value": false
      }
     },
     "f56f33f2bcfd41feb067e7e05b235d50": {
      "model_module": "@jupyter-widgets/controls",
      "model_module_version": "1.5.0",
      "model_name": "IntSliderModel",
      "state": {
       "description": "y",
       "layout": "IPY_MODEL_de2864b464e441f5b65b8622b27706db",
       "min": 1,
       "style": "IPY_MODEL_51519c40af374e89b6656f6d0275edee",
       "value": 50
      }
     },
     "f603f9555164433582d74be984edd098": {
      "model_module": "@jupyter-widgets/output",
      "model_module_version": "1.0.0",
      "model_name": "OutputModel",
      "state": {
       "layout": "IPY_MODEL_8ea49bb0e7bd4f3aa738f0d515f3e9fc",
       "outputs": [
        {
         "data": {
          "image/png": "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\n",
          "text/plain": "<Figure size 432x288 with 1 Axes>"
         },
         "metadata": {
          "needs_background": "light"
         },
         "output_type": "display_data"
        }
       ]
      }
     },
     "f60e715c93604e08a9772ee9660fb3bd": {
      "model_module": "@jupyter-widgets/base",
      "model_module_version": "1.2.0",
      "model_name": "LayoutModel",
      "state": {}
     },
     "f60ef272c6b3400abcbe26ac4458d7d4": {
      "model_module": "@jupyter-widgets/controls",
      "model_module_version": "1.5.0",
      "model_name": "CheckboxModel",
      "state": {
       "description": "attendee_imagine_u",
       "disabled": false,
       "layout": "IPY_MODEL_1fdc5de6487a4ec7896c8079e8ea89f0",
       "style": "IPY_MODEL_e144176897d14c3f9ddaf74ac6f360f0",
       "value": false
      }
     },
     "f62e3f56d4ef433799f39fb5685689ab": {
      "model_module": "@jupyter-widgets/controls",
      "model_module_version": "1.5.0",
      "model_name": "CheckboxModel",
      "state": {
       "description": "attendee_fced",
       "disabled": false,
       "layout": "IPY_MODEL_dc407bc5602c49eeb2e74fb34b97b25d",
       "style": "IPY_MODEL_09469a32026d45aab50dad886ba63c3d",
       "value": false
      }
     },
     "f652e646e00b44c68c1f73851adedc19": {
      "model_module": "@jupyter-widgets/base",
      "model_module_version": "1.2.0",
      "model_name": "LayoutModel",
      "state": {}
     },
     "f6a3030b2eb940ae80516f90844e209a": {
      "model_module": "@jupyter-widgets/controls",
      "model_module_version": "1.5.0",
      "model_name": "CheckboxModel",
      "state": {
       "description": "vcea_bioe",
       "disabled": false,
       "layout": "IPY_MODEL_d484bd967a8042f0878dd06b1fa36320",
       "style": "IPY_MODEL_eb99bb21cf434d8cb4fdd12b2d06dab8",
       "value": false
      }
     },
     "f74f90b887124e7088bc66d0a601c797": {
      "model_module": "@jupyter-widgets/controls",
      "model_module_version": "1.5.0",
      "model_name": "CheckboxModel",
      "state": {
       "description": "attendee_fcoc",
       "disabled": false,
       "layout": "IPY_MODEL_85cf590fcefd4be9ad5372c117d3673e",
       "style": "IPY_MODEL_1b90b49412d0423d93547115c1ecf7d7",
       "value": false
      }
     },
     "f753168809e1420c9896c9b8961e9835": {
      "model_module": "@jupyter-widgets/controls",
      "model_module_version": "1.5.0",
      "model_name": "CheckboxModel",
      "state": {
       "description": "spring_avg_pct_DFW",
       "disabled": false,
       "layout": "IPY_MODEL_5b3d326661614c6db87e121bb35c8b4d",
       "style": "IPY_MODEL_20dbd9d1a5fc46d5802d0ffddeab696c",
       "value": false
      }
     },
     "f7d2025212a849a9aece32a4dda1d466": {
      "model_module": "@jupyter-widgets/base",
      "model_module_version": "1.2.0",
      "model_name": "LayoutModel",
      "state": {}
     },
     "f7dfe3efb3fa47bc880d0697c0439b18": {
      "model_module": "@jupyter-widgets/base",
      "model_module_version": "1.2.0",
      "model_name": "LayoutModel",
      "state": {}
     },
     "f7f9d29801a7445c9441c22c1fe90cc2": {
      "model_module": "@jupyter-widgets/controls",
      "model_module_version": "1.5.0",
      "model_name": "VBoxModel",
      "state": {
       "_dom_classes": [
        "widget-interact"
       ],
       "children": [
        "IPY_MODEL_9c0c793466dd45ae8973638b728f6874",
        "IPY_MODEL_96770ed8c048442c88ee52c63755f45d",
        "IPY_MODEL_6d4d6c39570f47428bd92c64ea66d287"
       ],
       "layout": "IPY_MODEL_930b8ba18c944682be137a56ad2764db"
      }
     },
     "f831365f559c42499cfe3a0e7b409d0c": {
      "model_module": "@jupyter-widgets/controls",
      "model_module_version": "1.5.0",
      "model_name": "CheckboxModel",
      "state": {
       "description": "town_distant",
       "disabled": false,
       "layout": "IPY_MODEL_fe61e07b6204422a83ce8a9706d04aa5",
       "style": "IPY_MODEL_b95bda9d0ec94e7c89467ca90475bc57",
       "value": false
      }
     },
     "f8431daf1dd34a3a8cea37b9bd7adc72": {
      "model_module": "@jupyter-widgets/controls",
      "model_module_version": "1.5.0",
      "model_name": "CheckboxModel",
      "state": {
       "description": "last_sch_proprietorship",
       "disabled": false,
       "layout": "IPY_MODEL_33a80eaec3d8447e95aa7a39dfb7421a",
       "style": "IPY_MODEL_12492e9233374f5bb6cc9b1f4d8faa39",
       "value": false
      }
     },
     "f8c41b1c5e8a498a9b2b44cdc217faa5": {
      "model_module": "@jupyter-widgets/controls",
      "model_module_version": "1.5.0",
      "model_name": "CheckboxModel",
      "state": {
       "description": "pop_dens",
       "disabled": false,
       "layout": "IPY_MODEL_1a8670af57da4493966e56495b0abf03",
       "style": "IPY_MODEL_b6b351f122b2423988a08069becdaa8a",
       "value": false
      }
     },
     "f901196d4e5540cb974218d5fc3ed8ed": {
      "model_module": "@jupyter-widgets/controls",
      "model_module_version": "1.5.0",
      "model_name": "DescriptionStyleModel",
      "state": {
       "description_width": ""
      }
     },
     "f9111f26d4dd48e898c66d8a29a9c41b": {
      "model_module": "@jupyter-widgets/controls",
      "model_module_version": "1.5.0",
      "model_name": "DescriptionStyleModel",
      "state": {
       "description_width": ""
      }
     },
     "f9595c31231e40b288b004a461cee724": {
      "model_module": "@jupyter-widgets/controls",
      "model_module_version": "1.5.0",
      "model_name": "CheckboxModel",
      "state": {
       "description": "race_alaska",
       "disabled": false,
       "layout": "IPY_MODEL_717dd9ae453a45c48cd8d5526b9cf97c",
       "style": "IPY_MODEL_faf88e403b0f46dcaf7b7bc12e804447",
       "value": false
      }
     },
     "f95ed96bb4cc46c5ae84d7c2351b1744": {
      "model_module": "@jupyter-widgets/controls",
      "model_module_version": "1.5.0",
      "model_name": "DescriptionStyleModel",
      "state": {
       "description_width": ""
      }
     },
     "f9693fcd2cff4800acf3a70d9584d119": {
      "model_module": "@jupyter-widgets/controls",
      "model_module_version": "1.5.0",
      "model_name": "ButtonModel",
      "state": {
       "description": "Import Dataset",
       "layout": "IPY_MODEL_a53ef065c34b41fd886be19482fbf39f",
       "style": "IPY_MODEL_91e409f203cb45819f704b5bf29b6ecd"
      }
     },
     "f973f322b6dc45068c0b02c7bcad4c35": {
      "model_module": "@jupyter-widgets/base",
      "model_module_version": "1.2.0",
      "model_name": "LayoutModel",
      "state": {}
     },
     "f979e24b69cb40da824ba34845149e16": {
      "model_module": "@jupyter-widgets/controls",
      "model_module_version": "1.5.0",
      "model_name": "DescriptionStyleModel",
      "state": {
       "description_width": ""
      }
     },
     "f9b431eb20124167a623cacec643538f": {
      "model_module": "@jupyter-widgets/base",
      "model_module_version": "1.2.0",
      "model_name": "LayoutModel",
      "state": {}
     },
     "f9eba3526ec34538bfb2c31f16b1cd69": {
      "model_module": "@jupyter-widgets/base",
      "model_module_version": "1.2.0",
      "model_name": "LayoutModel",
      "state": {}
     },
     "fa5f5b04f0d44c6a84c92f0261853269": {
      "model_module": "@jupyter-widgets/controls",
      "model_module_version": "1.5.0",
      "model_name": "CheckboxModel",
      "state": {
       "description": "pharmacy",
       "disabled": false,
       "layout": "IPY_MODEL_95bd89536c9d47b1a70e40bde3dce248",
       "style": "IPY_MODEL_c556793e2a374963bbe5682d51992611",
       "value": false
      }
     },
     "fa7e519eec674adca662faeecf4fe4d0": {
      "model_module": "@jupyter-widgets/controls",
      "model_module_version": "1.5.0",
      "model_name": "DropdownModel",
      "state": {
       "_options_labels": [
        "emplid",
        "enrl_ind",
        "acad_year",
        "count_week_from_term_begin_dt",
        "father_wsu_flag",
        "parent1_highest_educ_lvl",
        "parent2_highest_educ_lvl"
       ],
       "description": "x",
       "index": 5,
       "layout": "IPY_MODEL_b2571934055c4fc5b37f5b65d3559a4d",
       "style": "IPY_MODEL_9f913c3c9aed416390a43eb1bb30adc7"
      }
     },
     "fac420e259054348b80ea5bd21cdea88": {
      "model_module": "@jupyter-widgets/controls",
      "model_module_version": "1.5.0",
      "model_name": "DescriptionStyleModel",
      "state": {
       "description_width": ""
      }
     },
     "fae23405607940a98ea4bdaf7bb54ecf": {
      "model_module": "@jupyter-widgets/controls",
      "model_module_version": "1.5.0",
      "model_name": "DescriptionStyleModel",
      "state": {
       "description_width": ""
      }
     },
     "faebb915b0bb428d9793bc25696f6d3c": {
      "model_module": "@jupyter-widgets/base",
      "model_module_version": "1.2.0",
      "model_name": "LayoutModel",
      "state": {}
     },
     "faf88e403b0f46dcaf7b7bc12e804447": {
      "model_module": "@jupyter-widgets/controls",
      "model_module_version": "1.5.0",
      "model_name": "DescriptionStyleModel",
      "state": {
       "description_width": ""
      }
     },
     "fafb3bc4f8e04fc39bdfc4b49e0f492f": {
      "model_module": "@jupyter-widgets/base",
      "model_module_version": "1.2.0",
      "model_name": "LayoutModel",
      "state": {}
     },
     "fb1ab58ba85b42769b5dae6d624a3274": {
      "model_module": "@jupyter-widgets/base",
      "model_module_version": "1.2.0",
      "model_name": "LayoutModel",
      "state": {}
     },
     "fb1ba93a91ba40aca12ce186a4dfe343": {
      "model_module": "@jupyter-widgets/base",
      "model_module_version": "1.2.0",
      "model_name": "LayoutModel",
      "state": {}
     },
     "fb6a35a90197486f9f95ec8ac8c408ed": {
      "model_module": "@jupyter-widgets/base",
      "model_module_version": "1.2.0",
      "model_name": "LayoutModel",
      "state": {}
     },
     "fbb5ae12b38b453f8c4aacb2aea8f640": {
      "model_module": "@jupyter-widgets/controls",
      "model_module_version": "1.5.0",
      "model_name": "CheckboxModel",
      "state": {
       "description": "suburb_small",
       "disabled": false,
       "layout": "IPY_MODEL_21d237064bb54f5290ba932a0f0dc763",
       "style": "IPY_MODEL_d62b046714eb4b85ad553a9dc3f7d5bd",
       "value": false
      }
     },
     "fbc4320f681248f59183bb72b809b38c": {
      "model_module": "@jupyter-widgets/controls",
      "model_module_version": "1.5.0",
      "model_name": "IntSliderModel",
      "state": {
       "description": "y",
       "layout": "IPY_MODEL_7319b4eb47bb4b55af503feab4ca48df",
       "min": 1,
       "style": "IPY_MODEL_698efa6323d84a329d0fe66961e79af3",
       "value": 50
      }
     },
     "fbc766396f4a4f53900e57755b50c78f": {
      "model_module": "@jupyter-widgets/controls",
      "model_module_version": "1.5.0",
      "model_name": "VBoxModel",
      "state": {
       "_dom_classes": [
        "widget-interact"
       ],
       "children": [
        "IPY_MODEL_fa7e519eec674adca662faeecf4fe4d0",
        "IPY_MODEL_1dbec48d754d4910abc7e406ac36d908",
        "IPY_MODEL_d14d4da336704ac0aa975e4bbb79d753"
       ],
       "layout": "IPY_MODEL_0f2ec3c9b4414c678e696e6f6bea1291"
      }
     },
     "fbc7cf7675d6437a86338416a7b4a3f7": {
      "model_module": "@jupyter-widgets/output",
      "model_module_version": "1.0.0",
      "model_name": "OutputModel",
      "state": {
       "layout": "IPY_MODEL_620dfcbeaa334d1481638df6a2939e6c",
       "outputs": [
        {
         "data": {
          "image/png": "iVBORw0KGgoAAAANSUhEUgAAAW4AAAEICAYAAAB/Dx7IAAAABHNCSVQICAgIfAhkiAAAAAlwSFlzAAALEgAACxIB0t1+/AAAADh0RVh0U29mdHdhcmUAbWF0cGxvdGxpYiB2ZXJzaW9uMy4xLjMsIGh0dHA6Ly9tYXRwbG90bGliLm9yZy+AADFEAAARgklEQVR4nO3de5BkZX3G8e/jLoiASJCRGDCseEGNRJQJiaJEEQ0YIWqhghfQUhdiRE0lZWk0ipeUFU2MGm+sBEG5BRESC0suUSnCRXAWuQqUitxUZJCbEBSBX/7oM0W79OycYadn92W/n6quPpe33/71ObvPvPPO6e5UFZKkdjxsbRcgSZofg1uSGmNwS1JjDG5JaozBLUmNMbglqTEGtyQ1xuDWvCW5Y+h2X5K7htZfm+SQJL/t1m9Nck6SZ4/o5/Hd4z83Yl8leWK3fEi3/sqh/Uu7bcu69SOSfKRbXtbt+8YqfR6V5JCh9Ucm+USSq5PcmeTaJCck2XmW1z3T78xr/UWSk5O8aJb2ZyS5JcnDh7Z9c+jxv01y99D6F/ocG8ng1rxV1aYzN+BaYK+hbUd3zf6z278l8B3gqyO62h+4Bdh3ONxmcTPwoSRL5lHqnyXZZdSO7vm+DewAvBTYDHgqcBzwkjn63bx7bc8ATgdOSvKGVfpfBjwPKGDvme1VtefQsTsa+NjQsTtoqIv5HButZwxujVVV3cMgoLZOMrHK7v2B9wG/Bfaao6tTgLuB183j6T8GfGSWfa8HtgFeVlWXVtW9VXVnVZ1QVYf06byqbqiqTwGHAP+cZPj/0/7Ad4EjgAPmUfPw4/seG61nDG6NVZINGYTQLxmMIGe2P49BcB4HHN+1WZ0C/hH4QJINej79Z4EnJ9l9xL7dgVOr6s6efa3OicBjgO2Htu3P4AfW0cBfJNmqb2cP4thoPWNwa1xeleRW4C7gLcA+3eh7xgHAN6vqFuAYYM8kj1ldh1X1dWAaeHPPGn4N/BOjR91bAjfMrCTZsZuPvz3JlT37n/Gz7n6Lrq/nAtsCx1fVSuDHwGvm0d+8j43WLwa3xuX4qtoc2Aq4FNhpZkeSRwCvZDAaparOZTBX3ifc3ge8F9ioZx1fBLZKsup0wy+Bx86sVNWFXb2vAOY7p7x1d39zd38AcFpV3dStH0PP6ZI1PDZaTxjcGqsuvA4EDkkyE5QvZ/DHwM8luSHJDQzCb84pgao6HfgR8Naez/9b4IPAh4EM7foW8OIkm/R9LavxcuBG4MoueF8F/PnQa/tb4BlJntGzrwd1bLT+MLg1dlV1BXAq8K5u0wHA4Qyu6Nixu+0C7Jhkhx5dvneorz6+wmAUvcfQti8DP2dwRcjTkyxJshEw2bfTJFsleRvwAeA9VXUf8DLgXuBp3P/angr8L/3Cd02PjdYDBrcWy8eB5Um2BV4IfLK7KmPmtpLBlSNzTilU1dnA+X2fuKruZRCuWwxt+zXwAuAHwDeA24ErgT9hMGJenVuT3AlcwuDSwVdW1eHdvgOAL1XVtcOvD/gM8NokS2frNMnWrOGx0fohfpGCJLXFEbckNcbglqTGGNyS1BiDW5IaM+tfuNfElltuWcuWLRtH15L0kLRy5cqbqmrVz/MZaSzBvWzZMqampsbRtSQ9JCW5pm9bp0okqTEGtyQ1xuCWpMYY3JLUGINbkhpjcEtSYwxuSWqMwS1JjTG4JakxY3nn5Jo4dNudRm4/8JqVi1yJJK2b5hxxJ9k+yYVDt9uTvHMxipMkPdCcI+6qupLB996RZAnwU+CkMdclSZrFfOe4Xwj8uKp6fxiKJGlhzTe49wWOHbUjyfIkU0mmpqen17wySdJIvYM7yYbA3sBXR+2vqhVVNVlVkxMTvT5SVpL0IMxnxL0ncEFV/WJcxUiS5jaf4N6PWaZJJEmLp1dwJ9kYeBFw4njLkSTNpdcbcKrq/4BHj7kWSVIPvuVdkhpjcEtSYwxuSWqMwS1JjTG4JakxBrckNcbglqTGGNyS1BiDW5IaY3BLUmMMbklqjMEtSY0xuCWpMQa3JDXG4JakxhjcktQYg1uSGmNwS1JjDG5JaozBLUmN6fst75snOSHJFUkuT/LscRcmSRqt17e8A58CTqmqfZJsCGw8xpokSasxZ3An2QzYFXgDQFXdDdw93rIkSbPpM1WyHTANfCnJ95MclmSTVRslWZ5kKsnU9PT0ghcqSRroE9xLgWcBn6+qZwJ3Au9etVFVraiqyaqanJiYWOAyJUkz+gT39cD1VXVet34CgyCXJK0FcwZ3Vd0AXJdk+27TC4EfjLUqSdKs+l5VcjBwdHdFyVXAG8dXkiRpdXoFd1VdCEyOuRZJUg++c1KSGmNwS1JjDG5JaozBLUmNMbglqTEGtyQ1xuCWpMYY3JLUGINbkhpjcEtSYwxuSWqMwS1JjTG4JakxBrckNcbglqTGGNyS1BiDW5IaY3BLUmMMbklqjMEtSY3p9WXBSa4GfgXcC9xTVX5xsCStJb2Cu/OCqrppbJVIknpxqkSSGtM3uAs4LcnKJMtHNUiyPMlUkqnp6emFq1CS9Dv6BvcuVfUsYE/gb5LsumqDqlpRVZNVNTkxMbGgRUqS7tcruKvqZ939jcBJwM7jLEqSNLs5/ziZZBPgYVX1q275xcCHxl6ZpJEO3XankdsPvGblIleitaXPVSVbASclmWl/TFWdMtaqJEmzmjO4q+oq4BmLUIskqQcvB5SkxhjcktQYg1uSGmNwS1JjDG5JaozBLUmNMbglqTEGtyQ1xuCWpMYY3JLUGINbkhpjcEtSYwxuSWqMwS1JjTG4JakxBrckNcbglqTGGNyS1BiDW5IaY3BLUmN6B3eSJUm+n+TkcRYkSVq9+Yy43wFcPq5CJEn99AruJNsAfwkcNt5yJElz6Tvi/iTwLuC+2RokWZ5kKsnU9PT0ghQnSXqgOYM7yUuBG6tq5eraVdWKqpqsqsmJiYkFK1CS9Lv6jLh3AfZOcjVwHLBbkqPGWpUkaVZzBndVvaeqtqmqZcC+wLer6nVjr0ySNJLXcUtSY5bOp3FVnQGcMZZKJEm9OOKWpMYY3JLUGINbkhpjcEtSYwxuSWqMwS1JjTG4JakxBrckNcbglqTGGNyS1BiDW5IaY3BLUmMMbklqjMEtSY0xuCWpMQa3JDXG4JakxhjcktQYg1uSGmNwS1Jj5gzuJBslOT/JRUkuS/LBxShMkjRan295/w2wW1XdkWQD4Kwk36yq7465NknSCHMGd1UVcEe3ukF3q3EWJUmaXa857iRLklwI3AicXlXnjWizPMlUkqnp6emFrlOS1OkV3FV1b1XtCGwD7Jzk6SParKiqyaqanJiYWOg6JUmdeV1VUlW3AmcAe4ylGknSnPpcVTKRZPNu+RHA7sAV4y5MkjRan6tKHgscmWQJg6A/vqpOHm9ZkqTZ9Lmq5GLgmYtQiySphz4jbq1nDt12p5HbD7xm5SJXImkU3/IuSY0xuCWpMQa3JDXG4JakxhjcktQYg1uSGmNwS1JjDG5JaozBLUmNMbglqTEGtyQ1xuCWpMYY3JLUGINbkhpjcEtSYwxuSWqMwS1JjTG4JakxBrckNWbO4E7yuCTfSXJ5ksuSvGMxCpMkjdbny4LvAf6uqi5I8khgZZLTq+oHY65NkjTCnCPuqvp5VV3QLf8KuBzYetyFSZJGm9ccd5JlwDOB80bsW55kKsnU9PT0wlQnSXqA3sGdZFPga8A7q+r2VfdX1YqqmqyqyYmJiYWsUZI0pFdwJ9mAQWgfXVUnjrckSdLq9LmqJMB/AJdX1SfGX5IkaXX6jLh3AV4P7Jbkwu72kjHXJUmaxZyXA1bVWUAWoRZJUg99ruOWJA05dNudRm4/8JqVi/L8vuVdkhpjcEtSYwxuSWqMwS1JjTG4JakxBrckNcbglqTGGNyS1BiDW5IaY3BLUmMMbklqjMEtSY0xuCWpMQa3JDXG4JakxhjcktQYg1uSGmNwS1JjDG5JasycwZ3k8CQ3Jrl0MQqSJK1enxH3EcAeY65DktTTnMFdVWcCNy9CLZKkHhZsjjvJ8iRTSaamp6cXqltJ0ioWLLirakVVTVbV5MTExEJ1K0lahVeVSFJjDG5JakyfywGPBc4Ftk9yfZI3jb8sSdJsls7VoKr2W4xCJEn9OFUiSY0xuCWpMQa3JDXG4JakxhjcktQYg1uSGmNwS1JjDG5JaozBLUmNMbglqTEGtyQ1xuCWpMYY3JLUGINbkhpjcEtSYwxuSWqMwS1JjTG4JakxBrckNcbglqTG9AruJHskuTLJj5K8e9xFSZJmN2dwJ1kCfBbYE3gasF+Sp427MEnSaH1G3DsDP6qqq6rqbuA44K/GW5YkaTZLe7TZGrhuaP164E9XbZRkObC8W70jyZUPsqYtgZtW3XhQ8iC70wLYErjJc7DO+Z3/K56fte+gZGR+9bRt34Z9gnvUv4Z6wIaqFcCKvk8865MlU1U1uab9aOF4TtZNnpd1z2Kdkz5TJdcDjxta3wb42XjKkSTNpU9wfw94UpLHJ9kQ2Bf4+njLkiTNZs6pkqq6J8nbgFOBJcDhVXXZGGta4+kWLTjPybrJ87LuWZRzkqoHTFdLktZhvnNSkhpjcEtSY9ZacCc5I8kaXzaT5OoMrp3UGvKcrF1JliW5dA37eH6SkxeqJt0vyd4P5iM/kpyz0LX0uY57jXRXomxQVXeO+7n0QEl+r6puWdt1SK2rqq/zIK6oq6rnLHQtYxtxJ3lqkn8FrgSePEuz1yU5J8mlSXbuHrdzt+373f323fYlSf4lySVJLk5y8FA/Bye5oNv3lHG9pkZNJTkmyW5Jr7fWeU7WrqVJjuyO5wlJNk7y/iTf687JipnzmOSJSf4nyUXdsX5C18em3WOvSHJ0z/O+Xut+27kiyWHdcT46ye5Jzk7yw+7/wBuSfKZr/8qu3UVJzuy2/VGS85Nc2J2/J3Xb7+jun9/9VvuAc5PkJd22s5J8es7fmqpqwW7AJsAbgbOAs4E3A4+cpe0ZwBe75V2BS7vlzYCl3fLuwNe65b8Gvja0b4vu/mrg4G75rcBhC/maWr8xuITzpcCJwOXAPwB/4DlZ927AMgbvSt6lWz8c+PuZ49pt+wqwV7d8HvDybnkjYGPg+cBtDN4o9zDgXOC5a/u1reu37tjfA+zQHbeV3fEPg89m+i/gDcBnuvaXAFt3y5t39/8OvLZb3hB4RLd8R3c/8tx05+464PFdu2OBk1dX70JPlfwcuBh4c1Vd0aP9sQBVdWaSzZJsDjwSOLL7aVXABl3b3YEvVNU93WNuHurnxO5+JfCKNX8ZDx1VdS9wMnBykgngo8C1SZ5TVeePeIjnZO26rqrO7paPAt4O/CTJuxgE8xbAZUnOYBAcJwFU1a8BugHc+VV1fbd+IYNQOmsRX0OrflJVlwAkuQz4VlVVkksYHMNhZwNHJDme+/+tnwu8N8k2wIlV9cMRzzHq3NwBXFVVP+naHMv9n/s00kJPlewD/BQ4qfv1bq4PTVn1IvICPgx8p6qeDuzF4KcRDH7yzXbR+W+6+3tZhHn71iR5VAYfAvZ1BtNWb2LwA3YUz8naNer4fw7Yp6p2AL7I4PivbvrjN0PLHv/+ho/bfUPr97HKMayqg4D3Mfg4kAuTPLqqjgH2Bu4CTk2y2xzPMXNu5j2VtaDBXVWnVdWrGQz/bwP+u5uDWzbLQ14NkOS5wG1VdRvwKAbhD4NfTWacBhyUZGn3mC0WsvaHqiRHARcA2wH7V9WuVXXkzAhtBM/J2vWHSZ7dLe/H/SPlm5JsymBwRFXdDlyf5GUASR6eZONFr3Y9leQJVXVeVb2fwacBPi7JdgxGzp9mMEj6457dXQFsN5STr57rAWP542RV/bKqPlVVOzKYU713lqa3ZHCpzBcYjAIBPgZ8NMnZDOZnZxwGXAtcnOQi4DXjqP0h6Hhg+6p69yy/uq3Kc7J2XQ4ckORiBtMin2cwyr6EwTzr94bavh54e9f2HOD3F7nW9dnHuz+8XwqcCVzEIHAv7aZAngJ8uU9HVXUXg78FnZLkLOAXDAa+s/It75K0liXZtKru6K4y+Szww6r6t9na+85JSVr73tKN1C9jMDV56OoaO+KWpMY44pakxhjcktQYg1uSGmNwS1JjDG5Jasz/A2tE+l3WUKsNAAAAAElFTkSuQmCC\n",
          "text/plain": "<Figure size 432x288 with 1 Axes>"
         },
         "metadata": {
          "needs_background": "light"
         },
         "output_type": "display_data"
        }
       ]
      }
     },
     "fc2588d264bb44e9beca07b432edf8c6": {
      "model_module": "@jupyter-widgets/base",
      "model_module_version": "1.2.0",
      "model_name": "LayoutModel",
      "state": {}
     },
     "fc52898eb488430b814d93b2de06aff0": {
      "model_module": "@jupyter-widgets/base",
      "model_module_version": "1.2.0",
      "model_name": "LayoutModel",
      "state": {}
     },
     "fc6cb60cc6af4391a6df446f0d083a3b": {
      "model_module": "@jupyter-widgets/controls",
      "model_module_version": "1.5.0",
      "model_name": "CheckboxModel",
      "state": {
       "description": "town_remote",
       "disabled": false,
       "layout": "IPY_MODEL_c992c662941c45c59e87c13df889f94a",
       "style": "IPY_MODEL_83622e3f6c724e7a93847d94971b3029",
       "value": false
      }
     },
     "fc91959691124810bae42ee199554d3a": {
      "model_module": "@jupyter-widgets/controls",
      "model_module_version": "1.5.0",
      "model_name": "DescriptionStyleModel",
      "state": {
       "description_width": ""
      }
     },
     "fc95cf28e79748e189255556480514b5": {
      "model_module": "@jupyter-widgets/controls",
      "model_module_version": "1.5.0",
      "model_name": "ButtonModel",
      "state": {
       "description": "Build Models",
       "layout": "IPY_MODEL_73d19b8b892f41cb809f4cf10824c9ae",
       "style": "IPY_MODEL_49c8b6a4c29c40a9b3a2242a1eb2ad27"
      }
     },
     "fd3d35d1004245b5bb0f664847faf7d4": {
      "model_module": "@jupyter-widgets/controls",
      "model_module_version": "1.5.0",
      "model_name": "DescriptionStyleModel",
      "state": {
       "description_width": ""
      }
     },
     "fd57a085cd2a46c786059626d11409f0": {
      "model_module": "@jupyter-widgets/base",
      "model_module_version": "1.2.0",
      "model_name": "LayoutModel",
      "state": {}
     },
     "fda0b81941174551876df54becfd2f36": {
      "model_module": "@jupyter-widgets/controls",
      "model_module_version": "1.5.0",
      "model_name": "IntSliderModel",
      "state": {
       "description": "y",
       "layout": "IPY_MODEL_b95f72f304d94cbfa93dc5e8bdd8f8a0",
       "min": 1,
       "style": "IPY_MODEL_04d5cf1cd93d458ea63d8554de748b91",
       "value": 50
      }
     },
     "fdb4c3f1fa9c4a88b7bfb148659a3e37": {
      "model_module": "@jupyter-widgets/controls",
      "model_module_version": "1.5.0",
      "model_name": "VBoxModel",
      "state": {
       "children": [
        "IPY_MODEL_a9d81ab6e9c942609e6f0685dba46c1e",
        "IPY_MODEL_de39b28be570433e93890c031047b0b9",
        "IPY_MODEL_c8b7ddf45df9491485a4984de2ac4367",
        "IPY_MODEL_d6eaa4b9157f445188d87ed2701218d8",
        "IPY_MODEL_0aade2aba26747c9a373993e486d225b",
        "IPY_MODEL_d82e0de8fd6c403c80d9151714a143f4",
        "IPY_MODEL_ccde3263a244470ab620e01d3405e01b",
        "IPY_MODEL_7280469d456a4db68ee1b712744fac74",
        "IPY_MODEL_cf63d046e6834d9497a1ecd2ef302489",
        "IPY_MODEL_6da9e0a8607f409cb374ff04853867dd",
        "IPY_MODEL_3874c2acbe3d4333b7c91bf7e5c6e6ee",
        "IPY_MODEL_0b1e14ff45d646e6a0be35d04bc39ccb",
        "IPY_MODEL_7d039e33359c4a39b37d8ff677d454c6",
        "IPY_MODEL_59769294c0eb438c9271268a9bbc8198",
        "IPY_MODEL_2ed8465c01274ef3a52bfdcc796619a7",
        "IPY_MODEL_c709d0b5d57941188a7486dfbde54ddd",
        "IPY_MODEL_e990e39fc58c49f7932f49efb183c3a0",
        "IPY_MODEL_f753168809e1420c9896c9b8961e9835",
        "IPY_MODEL_4eb1fad8e6ee4b739a77e0b1215596c0",
        "IPY_MODEL_09e2eac7c74f4025b3a1c745e7939afa",
        "IPY_MODEL_c866a02ec59941beb4fd5014df0940c5",
        "IPY_MODEL_5b993851661f4500aacae86f3cf848e0",
        "IPY_MODEL_4b0a13669ac448bd8cbb6f1f1ab91e28",
        "IPY_MODEL_15e4ee4dee2e4fdfac54593d401ae997",
        "IPY_MODEL_61b41fa4e4b547da94c6e473da3952da",
        "IPY_MODEL_ef924d93c06b456ea17c61cbe9285e1d"
       ],
       "layout": "IPY_MODEL_caa7d08ce71f44699d32724ae8d2de03"
      }
     },
     "fe2efdc794d541e0b2b8bedbe4b293a8": {
      "model_module": "@jupyter-widgets/controls",
      "model_module_version": "1.5.0",
      "model_name": "CheckboxModel",
      "state": {
       "description": "attendee_imagine_tomorrow",
       "disabled": false,
       "layout": "IPY_MODEL_3dec7b730af04033b6f58eeaf8367916",
       "style": "IPY_MODEL_287afe0a72054ab9bfeaf8d8ed2fb392",
       "value": false
      }
     },
     "fe4cd603da4d4161be7d9d0e1ee37348": {
      "model_module": "@jupyter-widgets/controls",
      "model_module_version": "1.5.0",
      "model_name": "DescriptionStyleModel",
      "state": {
       "description_width": ""
      }
     },
     "fe61e07b6204422a83ce8a9706d04aa5": {
      "model_module": "@jupyter-widgets/base",
      "model_module_version": "1.2.0",
      "model_name": "LayoutModel",
      "state": {}
     },
     "fe6302fc746747158f9826a5ab2f60f5": {
      "model_module": "@jupyter-widgets/controls",
      "model_module_version": "1.5.0",
      "model_name": "DescriptionStyleModel",
      "state": {
       "description_width": ""
      }
     },
     "fe86a6accb3c4fb5807a1050880eb75d": {
      "model_module": "@jupyter-widgets/controls",
      "model_module_version": "1.5.0",
      "model_name": "DescriptionStyleModel",
      "state": {
       "description_width": ""
      }
     },
     "febbb938bfc945f08b149e51fd1bfdb6": {
      "model_module": "@jupyter-widgets/controls",
      "model_module_version": "1.5.0",
      "model_name": "VBoxModel",
      "state": {
       "_dom_classes": [
        "widget-interact"
       ],
       "children": [
        "IPY_MODEL_76711571c72c486a8f53084d65e19268",
        "IPY_MODEL_73a5ea9684844918a0140e51cb9ad449",
        "IPY_MODEL_6594310e00d44276aeeb59c0d59e5c16"
       ],
       "layout": "IPY_MODEL_5ea8b28cee804a408e3d10a79c29c88d"
      }
     },
     "ff12ae06b1ca42e292bb9b047698321e": {
      "model_module": "@jupyter-widgets/controls",
      "model_module_version": "1.5.0",
      "model_name": "DescriptionStyleModel",
      "state": {
       "description_width": ""
      }
     }
    },
    "version_major": 2,
    "version_minor": 0
   }
  }
 },
 "nbformat": 4,
 "nbformat_minor": 4
}
