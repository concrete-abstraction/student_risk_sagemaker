{
 "cells": [
  {
   "cell_type": "markdown",
   "metadata": {},
   "source": [
    "# Import Modules for Census Model Development"
   ]
  },
  {
   "cell_type": "code",
   "execution_count": 1,
   "metadata": {
    "autorun": true,
    "jupyter": {
     "source_hidden": true
    },
    "tags": []
   },
   "outputs": [],
   "source": [
    "from __future__ import print_function\n",
    "from student_risk import build_dev\n",
    "import functools\n",
    "import ipywidgets as widgets\n",
    "import math\n",
    "import matplotlib.pyplot as plt\n",
    "import numpy as np\n",
    "import pandas as pd\n",
    "import seaborn as sns\n",
    "import time\n",
    "import statsmodels.graphics.api as smg\n",
    "from imblearn.under_sampling import TomekLinks\n",
    "from ipywidgets import GridspecLayout, interact, interactive, fixed, interact_manual\n",
    "from IPython.display import clear_output, display, Javascript\n",
    "from matplotlib.legend_handler import HandlerLine2D\n",
    "from halo import HaloNotebook\n",
    "from patsy import dmatrices\n",
    "from sklearn.compose import make_column_transformer\n",
    "from sklearn.neighbors import LocalOutlierFactor\n",
    "from sklearn.preprocessing import MinMaxScaler, StandardScaler, OneHotEncoder\n",
    "from sklearn.linear_model import LinearRegression, LogisticRegression, SGDClassifier\n",
    "from sklearn.neural_network import MLPClassifier\n",
    "from sklearn.ensemble import VotingClassifier\n",
    "from sklearn.metrics import confusion_matrix, roc_curve, roc_auc_score\n",
    "from sklearn.model_selection import GridSearchCV\n",
    "from statsmodels.api import OLS\n",
    "from statsmodels.discrete.discrete_model import Logit\n",
    "from statsmodels.stats.outliers_influence import variance_inflation_factor"
   ]
  },
  {
   "cell_type": "markdown",
   "metadata": {},
   "source": [
    "# Set Global Variables for WSU Colored Plots"
   ]
  },
  {
   "cell_type": "code",
   "execution_count": 2,
   "metadata": {
    "autorun": true,
    "jupyter": {
     "source_hidden": true
    },
    "tags": []
   },
   "outputs": [],
   "source": [
    "# Global variables\n",
    "wsu_color = (0.596,0.117,0.196)\n",
    "wsu_cmap = sns.light_palette(\"#981e32\",as_cmap=True)"
   ]
  },
  {
   "cell_type": "markdown",
   "metadata": {},
   "source": [
    "# Create Datasets for Census Model Development (~ 10 min.)"
   ]
  },
  {
   "cell_type": "code",
   "execution_count": 3,
   "metadata": {
    "autorun": true,
    "jupyter": {
     "source_hidden": true
    },
    "tags": []
   },
   "outputs": [
    {
     "data": {
      "application/vnd.jupyter.widget-view+json": {
       "model_id": "34f6af1b35694fb4ad1d1fc0248ce57b",
       "version_major": 2,
       "version_minor": 0
      },
      "text/plain": [
       "VBox(children=(Button(description='Create Dataset', style=ButtonStyle()), Output()))"
      ]
     },
     "metadata": {},
     "output_type": "display_data"
    }
   ],
   "source": [
    "# SAS dataset builder\n",
    "def creator(b):\n",
    "    with create_output:\n",
    "        build_dev.DatasetBuilderDev.build_census_dev()\n",
    "\n",
    "create_button = widgets.Button(description='Create Dataset')\n",
    "create_output = widgets.Output()\n",
    "   \n",
    "create_button.on_click(creator)\n",
    "\n",
    "button_nest = widgets.VBox([create_button, create_output])\n",
    "display(button_nest)"
   ]
  },
  {
   "cell_type": "markdown",
   "metadata": {},
   "source": [
    "# Import Saved Datasets from Disk"
   ]
  },
  {
   "cell_type": "code",
   "execution_count": 4,
   "metadata": {
    "autorun": true,
    "jupyter": {
     "source_hidden": true
    },
    "tags": []
   },
   "outputs": [
    {
     "data": {
      "application/vnd.jupyter.widget-view+json": {
       "model_id": "e497d35563a64a38a88499981f971b59",
       "version_major": 2,
       "version_minor": 0
      },
      "text/plain": [
       "Button(description='Import Dataset', style=ButtonStyle())"
      ]
     },
     "metadata": {},
     "output_type": "display_data"
    }
   ],
   "source": [
    "# Import pre-split data\n",
    "class Importer():\n",
    "        \n",
    "    def __init__(self):\n",
    "        self.training_set = pd.DataFrame()\n",
    "        self.testing_set = pd.DataFrame()\n",
    "    \n",
    "    def importer(self, b):\n",
    "        self.training_set = pd.read_csv('Z:\\\\Nathan\\\\Models\\\\student_risk\\\\datasets\\\\training_set.csv',\n",
    "                                   encoding='utf-8', low_memory=False)\n",
    "        self.testing_set = pd.read_csv('Z:\\\\Nathan\\\\Models\\\\student_risk\\\\datasets\\\\testing_set.csv', \n",
    "                                  encoding='utf-8', low_memory=False)\n",
    "\n",
    "    def training_getter(self):\n",
    "        return self.training_set\n",
    "    \n",
    "    def testing_getter(self):\n",
    "        return self.testing_set\n",
    "\n",
    "\n",
    "im = Importer()\n",
    "    \n",
    "importer_button = widgets.Button(description='Import Dataset')\n",
    "\n",
    "importer_button.on_click(im.importer)\n",
    "display(importer_button)"
   ]
  },
  {
   "cell_type": "markdown",
   "metadata": {},
   "source": [
    "# Select Campus for Census Model Development"
   ]
  },
  {
   "cell_type": "code",
   "execution_count": 5,
   "metadata": {
    "autorun": true,
    "jupyter": {
     "source_hidden": true
    },
    "tags": []
   },
   "outputs": [
    {
     "data": {
      "application/vnd.jupyter.widget-view+json": {
       "model_id": "52a95cf3926847aa993efd26277fce9c",
       "version_major": 2,
       "version_minor": 0
      },
      "text/plain": [
       "Dropdown(description='Campus:', options=(('Pullman', 'PULLM'), ('Tri-Cities', 'TRICI'), ('Vancouver', 'VANCO')…"
      ]
     },
     "metadata": {},
     "output_type": "display_data"
    }
   ],
   "source": [
    "dropdown = widgets.Dropdown(\n",
    "    options=[('Pullman', 'PULLM'), ('Tri-Cities', 'TRICI'), ('Vancouver', 'VANCO')],\n",
    "    value='PULLM',\n",
    "    description='Campus:',\n",
    ")\n",
    "\n",
    "display(dropdown)"
   ]
  },
  {
   "cell_type": "markdown",
   "metadata": {
    "tags": []
   },
   "source": [
    "# Select Model Variables"
   ]
  },
  {
   "cell_type": "code",
   "execution_count": 6,
   "metadata": {
    "autorun": true,
    "jupyter": {
     "source_hidden": true
    },
    "tags": []
   },
   "outputs": [
    {
     "data": {
      "application/vnd.jupyter.widget-view+json": {
       "model_id": "efe3b8b11fa34f4d8dce9ef7434052a9",
       "version_major": 2,
       "version_minor": 0
      },
      "text/plain": [
       "Tab(children=(Accordion(children=(VBox(children=(Checkbox(value=False, description='acad_year'), Checkbox(valu…"
      ]
     },
     "metadata": {},
     "output_type": "display_data"
    }
   ],
   "source": [
    "adms_features = ['acad_year','count_week_from_term_begin_dt','marital_status','resident','father_wsu_flag','mother_wsu_flag',\n",
    "                 'parent1_highest_educ_lvl','parent2_highest_educ_lvl','citizenship_country','last_sch_proprietorship']\n",
    "\n",
    "demo_features = ['age_group','age','male','race_hispanic','race_american_indian',\n",
    "                 'race_alaska','race_asian','race_black','race_native_hawaiian','race_white',\n",
    "                 'underrep_minority','ipeds_ethnic_group_descrshort']\n",
    "\n",
    "acs_features = ['gini_indx','pvrt_rate','median_inc','median_value',\n",
    "                 'educ_rate','pct_blk','pct_ai','pct_asn','pct_hawi','pct_oth','pct_two','pct_non','pct_hisp']\n",
    "            \n",
    "geo_features = ['distance','pop_dens','city_large','city_mid','city_small','suburb_large','suburb_mid','suburb_small','town_fringe',\n",
    "                'town_distant','town_remote','rural_fringe','rural_distant','rural_remote']\n",
    "\n",
    "cen_features = ['pell_eligibility_ind','pell_recipient_ind','first_gen_flag','LSAMP_STEM_Flag','anywhere_STEM_Flag',\n",
    "                 'honors_program_ind','afl_greek_indicator','athlete']\n",
    "\n",
    "plan_features = ['business','cahnrs_anml','cahnrs_envr','cahnrs_econ','cahnrext','cas_chem','cas_crim',\n",
    "                 'cas_math','cas_psyc','cas_biol','cas_engl','cas_phys','cas','comm','education','medicine',\n",
    "                 'nursing','pharmacy','provost','vcea_bioe','vcea_cive','vcea_desn','vcea_eecs','vcea_mech',\n",
    "                 'vcea','vet_med']\n",
    "\n",
    "perf_features = ['high_school_gpa','fall_midterm_gpa_avg','fall_midterm_gpa_avg_ind','fall_cum_gpa','spring_midterm_gpa_avg',\n",
    "                 'spring_midterm_gpa_avg_ind','spring_midterm_gpa_change','spring_withdrawn_hours']\n",
    "            \n",
    "cls_features = ['remedial','fall_avg_difficulty','fall_avg_pct_withdrawn','fall_avg_pct_CDFW',\n",
    "                'fall_lec_count','fall_lab_count','fall_lec_contact_hrs','fall_lab_contact_hrs',\n",
    "                'fall_avg_pct_CDF','fall_avg_pct_DFW','fall_avg_pct_DF','total_fall_contact_hrs','total_fall_units',\n",
    "                'spring_avg_difficulty','spring_avg_pct_withdrawn','spring_avg_pct_CDFW','spring_avg_pct_CDF',\n",
    "                'spring_avg_pct_DFW','spring_avg_pct_DF','spring_lec_count','spring_lab_count','spring_lec_contact_hrs',\n",
    "                'spring_lab_contact_hrs','total_spring_contact_hrs','cum_adj_transfer_hours','term_credit_hours']\n",
    "        \n",
    "tran_features = ['AD_DTA','AD_AST','AP','RS','CHS','IB','AICE','IB_AICE']\n",
    "\n",
    "vis_features = ['attendee_alive','attendee_campus_visit','attendee_cashe','attendee_destination',\n",
    "                'attendee_experience','attendee_fcd_pullman','attendee_fced','attendee_fcoc',\n",
    "                'attendee_fcod','attendee_group_visit','attendee_honors_visit','attendee_imagine_tomorrow',\n",
    "                'attendee_imagine_u','attendee_la_bienvenida','attendee_lvp_camp','attendee_oos_destination',\n",
    "                'attendee_oos_experience','attendee_preview','attendee_preview_jrs','attendee_shaping',\n",
    "                'attendee_top_scholars','attendee_transfer_day','attendee_vibes','attendee_welcome_center',\n",
    "                'attendee_any_visitation_ind','attendee_total_visits']\n",
    "\n",
    "aid_features = ['fed_efc','fed_need','unmet_need_ofr']\n",
    "\n",
    "adms_objs = []\n",
    "demo_objs = []\n",
    "acs_objs = []\n",
    "geo_objs = []\n",
    "cen_objs = []\n",
    "plan_objs = []\n",
    "perf_objs = []\n",
    "cls_objs = []\n",
    "tran_objs = []\n",
    "vis_objs = []\n",
    "aid_objs = []\n",
    "\n",
    "for feature in adms_features:\n",
    "    adms_objs.append(widgets.Checkbox(value=False, description=feature))\n",
    "\n",
    "for feature in demo_features:\n",
    "    demo_objs.append(widgets.Checkbox(value=False, description=feature))\n",
    "    \n",
    "for feature in acs_features:\n",
    "    acs_objs.append(widgets.Checkbox(value=False, description=feature))\n",
    "    \n",
    "for feature in geo_features:\n",
    "    geo_objs.append(widgets.Checkbox(value=False, description=feature))    \n",
    "\n",
    "for feature in cen_features:\n",
    "    cen_objs.append(widgets.Checkbox(value=False, description=feature))\n",
    "    \n",
    "for feature in plan_features:\n",
    "    plan_objs.append(widgets.Checkbox(value=False, description=feature))\n",
    "\n",
    "for feature in perf_features:\n",
    "    perf_objs.append(widgets.Checkbox(value=False, description=feature))\n",
    "    \n",
    "for feature in cls_features:\n",
    "    cls_objs.append(widgets.Checkbox(value=False, description=feature))\n",
    "    \n",
    "for feature in tran_features:\n",
    "    tran_objs.append(widgets.Checkbox(value=False, description=feature))    \n",
    "\n",
    "for feature in vis_features:\n",
    "    vis_objs.append(widgets.Checkbox(value=False, description=feature))\n",
    "    \n",
    "for feature in aid_features:\n",
    "    aid_objs.append(widgets.Checkbox(value=False, description=feature))\n",
    "    \n",
    "adms_ui = widgets.VBox(children=adms_objs, layout=widgets.Layout(flex_flow='row wrap'))\n",
    "demo_ui = widgets.VBox(children=demo_objs, layout=widgets.Layout(flex_flow='row wrap'))\n",
    "acs_ui = widgets.VBox(children=acs_objs, layout=widgets.Layout(flex_flow='row wrap'))\n",
    "geo_ui = widgets.VBox(children=geo_objs, layout=widgets.Layout(flex_flow='row wrap'))\n",
    "cen_ui = widgets.VBox(children=cen_objs, layout=widgets.Layout(flex_flow='row wrap'))\n",
    "plan_ui = widgets.VBox(children=plan_objs, layout=widgets.Layout(flex_flow='row wrap'))\n",
    "perf_ui = widgets.VBox(children=perf_objs, layout=widgets.Layout(flex_flow='row wrap'))\n",
    "cls_ui = widgets.VBox(children=cls_objs, layout=widgets.Layout(flex_flow='row wrap'))\n",
    "tran_ui = widgets.VBox(children=tran_objs, layout=widgets.Layout(flex_flow='row wrap'))\n",
    "vis_ui = widgets.VBox(children=vis_objs, layout=widgets.Layout(flex_flow='row wrap'))\n",
    "aid_ui = widgets.VBox(children=aid_objs, layout=widgets.Layout(flex_flow='row wrap'))\n",
    "\n",
    "accordion_0 = widgets.Accordion(children = [adms_ui, demo_ui, vis_ui, tran_ui])\n",
    "accordion_1 = widgets.Accordion(children = [acs_ui, geo_ui, cen_ui])\n",
    "accordion_2 = widgets.Accordion(children = [plan_ui, cls_ui, perf_ui])\n",
    "accordion_3 = widgets.Accordion(children = [aid_ui])\n",
    "\n",
    "accordion_0.set_title(0, 'Admissions')\n",
    "accordion_0.set_title(1, 'Demographics')\n",
    "accordion_0.set_title(2, 'Visitation')\n",
    "accordion_0.set_title(3, 'Transfer')\n",
    "accordion_1.set_title(0, 'Economic')\n",
    "accordion_1.set_title(1, 'Geographic')\n",
    "accordion_1.set_title(2, 'Census')\n",
    "accordion_2.set_title(0, 'Plans')\n",
    "accordion_2.set_title(1, 'Class')\n",
    "accordion_2.set_title(2, 'Performance')\n",
    "accordion_3.set_title(0, 'Financial Aid')\n",
    "\n",
    "tab_nest = widgets.Tab()\n",
    "tab_nest.children = [accordion_0,accordion_1,accordion_2,accordion_3]\n",
    "tab_nest.set_title(0, 'Background')\n",
    "tab_nest.set_title(1, 'Characteristics')\n",
    "tab_nest.set_title(2, 'Coursework')\n",
    "tab_nest.set_title(3, 'Student Data')\n",
    "display(tab_nest)"
   ]
  },
  {
   "cell_type": "markdown",
   "metadata": {},
   "source": [
    "# Build Datasets"
   ]
  },
  {
   "cell_type": "code",
   "execution_count": 10,
   "metadata": {
    "autorun": true,
    "jupyter": {
     "source_hidden": true
    },
    "tags": []
   },
   "outputs": [
    {
     "data": {
      "application/vnd.jupyter.widget-view+json": {
       "model_id": "f00929f3081642658a5fb1ba450c6971",
       "version_major": 2,
       "version_minor": 0
      },
      "text/plain": [
       "Button(description='Build Dataset', style=ButtonStyle())"
      ]
     },
     "metadata": {},
     "output_type": "display_data"
    }
   ],
   "source": [
    "class Builder():\n",
    "\n",
    "    def __init__(self, dropdown, im, adms_objs, demo_objs, vis_objs, tran_objs, acs_objs, geo_objs, cen_objs, plan_objs, cls_objs, perf_objs, aid_objs):\n",
    "        self.training_set = pd.DataFrame()\n",
    "        self.testing_set = pd.DataFrame()\n",
    "        self.selected_features = []\n",
    "        self.dropdown = dropdown\n",
    "#         self.training_set = im.training_getter()\n",
    "#         self.testing_set = im.testing_getter()\n",
    "        self.adms_objs = adms_objs\n",
    "        self.demo_objs = demo_objs\n",
    "        self.vis_objs = vis_objs\n",
    "        self.tran_objs = tran_objs\n",
    "        self.acs_objs = acs_objs\n",
    "        self.geo_objs = geo_objs\n",
    "        self.cen_objs = cen_objs\n",
    "        self.plan_objs = plan_objs\n",
    "        self.cls_objs = cls_objs\n",
    "        self.perf_objs = perf_objs\n",
    "        self.aid_objs = aid_objs\n",
    "        \n",
    "    def builder(self, b):\n",
    "        \n",
    "        self.selected_features = ['emplid', 'enrl_ind']\n",
    "        \n",
    "        for _ in range(len(self.adms_objs)):\n",
    "            if self.adms_objs[_].value == True:\n",
    "                self.selected_features.append(self.adms_objs[_].description)\n",
    "\n",
    "        for _ in range(len(self.demo_objs)):\n",
    "            if self.demo_objs[_].value == True:\n",
    "                self.selected_features.append(self.demo_objs[_].description)\n",
    "\n",
    "        for _ in range(len(self.vis_objs)):\n",
    "            if self.vis_objs[_].value == True:\n",
    "                self.selected_features.append(self.vis_objs[_].description)\n",
    "\n",
    "        for _ in range(len(self.tran_objs)):\n",
    "            if self.tran_objs[_].value == True:\n",
    "                self.selected_features.append(self.tran_objs[_].description)\n",
    "\n",
    "        for _ in range(len(self.acs_objs)):\n",
    "            if self.acs_objs[_].value == True:\n",
    "                self.selected_features.append(self.acs_objs[_].description)\n",
    "\n",
    "        for _ in range(len(self.geo_objs)):\n",
    "            if self.geo_objs[_].value == True:\n",
    "                self.selected_features.append(self.geo_objs[_].description)\n",
    "\n",
    "        for _ in range(len(self.cen_objs)):\n",
    "            if self.cen_objs[_].value == True:\n",
    "                self.selected_features.append(self.cen_objs[_].description)\n",
    "\n",
    "        for _ in range(len(self.plan_objs)):\n",
    "            if self.plan_objs[_].value == True:\n",
    "                self.selected_features.append(self.plan_objs[_].description)\n",
    "\n",
    "        for _ in range(len(self.cls_objs)):\n",
    "            if self.cls_objs[_].value == True:\n",
    "                self.selected_features.append(self.cls_objs[_].description)\n",
    "\n",
    "        for _ in range(len(self.perf_objs)):\n",
    "            if self.perf_objs[_].value == True:\n",
    "                self.selected_features.append(self.perf_objs[_].description)\n",
    "\n",
    "        for _ in range(len(self.aid_objs)):\n",
    "            if self.aid_objs[_].value == True:\n",
    "                self.selected_features.append(self.aid_objs[_].description)\n",
    "    \n",
    "        self.training_set = im.training_getter()[(im.training_getter().adj_acad_prog_primary_campus == self.dropdown.value) & (im.training_getter().adj_admit_type_cat == 'FRSH')][self.selected_features].dropna()\n",
    "        self.testing_set = im.testing_getter()[(im.testing_getter().adj_acad_prog_primary_campus == self.dropdown.value) & (im.testing_getter().adj_admit_type_cat == 'FRSH')][self.selected_features].dropna()\n",
    "\n",
    "    def training_getter(self):\n",
    "        return self.training_set\n",
    "\n",
    "    def testing_getter(self):\n",
    "        return self.testing_set\n",
    "\n",
    "    \n",
    "bd = Builder(dropdown, im, adms_objs, demo_objs, vis_objs, tran_objs, acs_objs, geo_objs, cen_objs, plan_objs, cls_objs, perf_objs, aid_objs)\n",
    "    \n",
    "builder_button = widgets.Button(description='Build Dataset')\n",
    "\n",
    "builder_button.on_click(bd.builder)\n",
    "display(builder_button)"
   ]
  },
  {
   "cell_type": "markdown",
   "metadata": {
    "tags": []
   },
   "source": [
    "# Descriptive Plots"
   ]
  },
  {
   "cell_type": "code",
   "execution_count": 15,
   "metadata": {
    "autorun": true,
    "tags": []
   },
   "outputs": [
    {
     "data": {
      "application/vnd.jupyter.widget-view+json": {
       "model_id": "f5ddf20226ca40109deeb2085eb1eb50",
       "version_major": 2,
       "version_minor": 0
      },
      "text/plain": [
       "VBox(children=(Button(description='Create Plots', style=ButtonStyle()), Output()))"
      ]
     },
     "metadata": {},
     "output_type": "display_data"
    }
   ],
   "source": [
    "class Plotter():\n",
    "    \n",
    "    def __init__(self):\n",
    "        self.y = (1,100)\n",
    "      \n",
    "    def train_func(self, x, y):\n",
    "        plt.hist(bd.training_getter()[x], color=wsu_color, bins=y)\n",
    "        plt.title('TRAINING DATA')\n",
    "        \n",
    "    def test_func(self, x, y):\n",
    "        plt.hist(bd.testing_getter()[x], color=wsu_color, bins=y)\n",
    "        plt.title('TESTING DATA')\n",
    "\n",
    "    def plotter(self, b):\n",
    "        with plotter_output:\n",
    "            clear_output()\n",
    "            interact(self.train_func, x=bd.training_getter().columns.tolist(), y=self.y)\n",
    "            interact(self.test_func, x=bd.testing_getter().columns.tolist(), y=self.y)\n",
    "\n",
    "            \n",
    "pl = Plotter()\n",
    "\n",
    "plotter_output = widgets.Output()\n",
    "plotter_button = widgets.Button(description='Create Plots')\n",
    "\n",
    "plotter_button.on_click(pl.plotter)\n",
    "\n",
    "plotter_nest = widgets.VBox([plotter_button, plotter_output])\n",
    "display(plotter_nest)"
   ]
  },
  {
   "cell_type": "markdown",
   "metadata": {},
   "source": [
    "# Detect and remove outliers"
   ]
  },
  {
   "cell_type": "code",
   "execution_count": null,
   "metadata": {},
   "outputs": [],
   "source": []
  }
 ],
 "metadata": {
  "kernelspec": {
   "display_name": "Conda3",
   "language": "python",
   "name": "conda3"
  },
  "language_info": {
   "codemirror_mode": {
    "name": "ipython",
    "version": 3
   },
   "file_extension": ".py",
   "mimetype": "text/x-python",
   "name": "python",
   "nbconvert_exporter": "python",
   "pygments_lexer": "ipython3",
   "version": "3.7.6"
  },
  "toc-autonumbering": true,
  "toc-showmarkdowntxt": true,
  "widgets": {
   "application/vnd.jupyter.widget-state+json": {
    "state": {
     "001751cf1e8e46779297d51681933e34": {
      "model_module": "@jupyter-widgets/base",
      "model_module_version": "1.2.0",
      "model_name": "LayoutModel",
      "state": {}
     },
     "00fc04e9a1b24e23a866ca607e0767fe": {
      "model_module": "@jupyter-widgets/controls",
      "model_module_version": "1.5.0",
      "model_name": "DescriptionStyleModel",
      "state": {
       "description_width": ""
      }
     },
     "01333ef95e3c421984a3959cfce82eec": {
      "model_module": "@jupyter-widgets/base",
      "model_module_version": "1.2.0",
      "model_name": "LayoutModel",
      "state": {}
     },
     "02593681092b46d4b7037f4c3e53c734": {
      "model_module": "@jupyter-widgets/controls",
      "model_module_version": "1.5.0",
      "model_name": "VBoxModel",
      "state": {
       "_dom_classes": [
        "widget-interact"
       ],
       "children": [
        "IPY_MODEL_c317ed502dea47999723f2e49d4c6bda",
        "IPY_MODEL_b87249dc995b4ee192fb4f6eff9c35cc",
        "IPY_MODEL_daf3b730d0bd46898f56f7f3b212c3e0"
       ],
       "layout": "IPY_MODEL_459ac23f4a884068af87319d2f54a91b"
      }
     },
     "02c190ff4a2044a4bc25e1154ce9e6c7": {
      "model_module": "@jupyter-widgets/base",
      "model_module_version": "1.2.0",
      "model_name": "LayoutModel",
      "state": {
       "flex_flow": "row wrap"
      }
     },
     "034240a2bc604ccc81c64c3f809b9228": {
      "model_module": "@jupyter-widgets/controls",
      "model_module_version": "1.5.0",
      "model_name": "SliderStyleModel",
      "state": {
       "description_width": ""
      }
     },
     "03a43295bf9f4572b5fd98a87b8e6af7": {
      "model_module": "@jupyter-widgets/controls",
      "model_module_version": "1.5.0",
      "model_name": "CheckboxModel",
      "state": {
       "description": "spring_avg_difficulty",
       "disabled": false,
       "layout": "IPY_MODEL_25eedd2617014114a1bf886dfa93f912",
       "style": "IPY_MODEL_a81b1ccc8ee549d2b0a78b634f15be9d",
       "value": false
      }
     },
     "03e881f3b89b4cb8ade66a132c199023": {
      "model_module": "@jupyter-widgets/controls",
      "model_module_version": "1.5.0",
      "model_name": "DescriptionStyleModel",
      "state": {
       "description_width": ""
      }
     },
     "040cd98c602c46e4bac401b371269f37": {
      "model_module": "@jupyter-widgets/controls",
      "model_module_version": "1.5.0",
      "model_name": "DescriptionStyleModel",
      "state": {
       "description_width": ""
      }
     },
     "0468df07e80c4cbd94ced6817aa1e53b": {
      "model_module": "@jupyter-widgets/controls",
      "model_module_version": "1.5.0",
      "model_name": "DescriptionStyleModel",
      "state": {
       "description_width": ""
      }
     },
     "04f96c2e0a4f47b389beb39437b2e4b3": {
      "model_module": "@jupyter-widgets/controls",
      "model_module_version": "1.5.0",
      "model_name": "CheckboxModel",
      "state": {
       "description": "spring_lec_count",
       "disabled": false,
       "layout": "IPY_MODEL_13c1bb9f13534f79887ae8f07193f38c",
       "style": "IPY_MODEL_d5872a249ee243bd96d29e3700d8ae34",
       "value": false
      }
     },
     "04fff7cf3b794fb8b464fcbd7ac2ffb0": {
      "model_module": "@jupyter-widgets/controls",
      "model_module_version": "1.5.0",
      "model_name": "IntSliderModel",
      "state": {
       "description": "y",
       "layout": "IPY_MODEL_3869e09391cd462d9ab3e7058c25b1db",
       "min": 1,
       "style": "IPY_MODEL_408a51eb2a2c4054a6c556506b46164b",
       "value": 50
      }
     },
     "0598cd1d235948a9b739ec475140673f": {
      "model_module": "@jupyter-widgets/controls",
      "model_module_version": "1.5.0",
      "model_name": "DescriptionStyleModel",
      "state": {
       "description_width": ""
      }
     },
     "0679656770a04955a436cd9395e243d9": {
      "model_module": "@jupyter-widgets/controls",
      "model_module_version": "1.5.0",
      "model_name": "DescriptionStyleModel",
      "state": {
       "description_width": ""
      }
     },
     "06e5d3dbcb4c4885b5bd8bfaf08ea8e5": {
      "model_module": "@jupyter-widgets/controls",
      "model_module_version": "1.5.0",
      "model_name": "CheckboxModel",
      "state": {
       "description": "spring_avg_pct_DF",
       "disabled": false,
       "layout": "IPY_MODEL_90efb3b5deae4fafb963d8f7e9a9524d",
       "style": "IPY_MODEL_302c7b644d9f40cca320f3b440db2bc2",
       "value": false
      }
     },
     "0769f5cd477942d2b1a8b2651714ff70": {
      "model_module": "@jupyter-widgets/base",
      "model_module_version": "1.2.0",
      "model_name": "LayoutModel",
      "state": {}
     },
     "07b551d9eb7d4a77840f7ba3a8745fbc": {
      "model_module": "@jupyter-widgets/output",
      "model_module_version": "1.0.0",
      "model_name": "OutputModel",
      "state": {
       "layout": "IPY_MODEL_641d4859927f4a5785e3fec8b699a09b",
       "outputs": [
        {
         "data": {
          "application/vnd.jupyter.widget-view+json": {
           "model_id": "4935aa8dcec14de4ac84ca9925030364",
           "version_major": 2,
           "version_minor": 0
          },
          "text/plain": "interactive(children=(Dropdown(description='x', options=('emplid', 'enrl_ind', 'acad_year', 'marital_status', …"
         },
         "metadata": {},
         "output_type": "display_data"
        },
        {
         "data": {
          "application/vnd.jupyter.widget-view+json": {
           "model_id": "1fc3417aa3114924a371971afb449ad6",
           "version_major": 2,
           "version_minor": 0
          },
          "text/plain": "interactive(children=(Dropdown(description='x', options=('emplid', 'enrl_ind', 'acad_year', 'marital_status', …"
         },
         "metadata": {},
         "output_type": "display_data"
        }
       ]
      }
     },
     "0807bd03b9054bfa9aa4dbbd54605cc5": {
      "model_module": "@jupyter-widgets/controls",
      "model_module_version": "1.5.0",
      "model_name": "IntSliderModel",
      "state": {
       "description": "func_y",
       "layout": "IPY_MODEL_b8c9da237cab488ba790990ec819c67e",
       "min": 1,
       "style": "IPY_MODEL_93de12bd7a8a46d1ab3bf88b6fa088f4",
       "value": 31
      }
     },
     "08ee8621a82b428593864c1af4bb14dc": {
      "model_module": "@jupyter-widgets/controls",
      "model_module_version": "1.5.0",
      "model_name": "DescriptionStyleModel",
      "state": {
       "description_width": ""
      }
     },
     "09034d2d8ecc4201bbd01d6a3d506ef3": {
      "model_module": "@jupyter-widgets/base",
      "model_module_version": "1.2.0",
      "model_name": "LayoutModel",
      "state": {}
     },
     "09058d39287a49e6b2f5b151df897cfa": {
      "model_module": "@jupyter-widgets/base",
      "model_module_version": "1.2.0",
      "model_name": "LayoutModel",
      "state": {}
     },
     "095f0c1f4ca24341ad37b9657ed63df4": {
      "model_module": "@jupyter-widgets/controls",
      "model_module_version": "1.5.0",
      "model_name": "CheckboxModel",
      "state": {
       "description": "acad_year",
       "disabled": false,
       "layout": "IPY_MODEL_ec46b0c373fc4f95ac2193cb36fab246",
       "style": "IPY_MODEL_d026140476dc485b8ac7386abb799f99",
       "value": true
      }
     },
     "0a54dcdd6cf54fe5a6108350e52137ad": {
      "model_module": "@jupyter-widgets/base",
      "model_module_version": "1.2.0",
      "model_name": "LayoutModel",
      "state": {
       "flex_flow": "row wrap"
      }
     },
     "0ac2576063254b64964173de236a6e2e": {
      "model_module": "@jupyter-widgets/base",
      "model_module_version": "1.2.0",
      "model_name": "LayoutModel",
      "state": {}
     },
     "0b21fc46188e4c33a57b88d52aa38431": {
      "model_module": "@jupyter-widgets/controls",
      "model_module_version": "1.5.0",
      "model_name": "CheckboxModel",
      "state": {
       "description": "rural_distant",
       "disabled": false,
       "layout": "IPY_MODEL_9a0e6eca08084625a6d2754f7a58698a",
       "style": "IPY_MODEL_3eea75211c514c9680b4ca3919c85713",
       "value": false
      }
     },
     "0b9ca6905567487bb7e51583d2ba7bd2": {
      "model_module": "@jupyter-widgets/controls",
      "model_module_version": "1.5.0",
      "model_name": "DescriptionStyleModel",
      "state": {
       "description_width": ""
      }
     },
     "0bc07b5f87ae45fa936625e0bcf7862a": {
      "model_module": "@jupyter-widgets/controls",
      "model_module_version": "1.5.0",
      "model_name": "DescriptionStyleModel",
      "state": {
       "description_width": ""
      }
     },
     "0bcef86ecd464b78beec3959c90d6f50": {
      "model_module": "@jupyter-widgets/controls",
      "model_module_version": "1.5.0",
      "model_name": "VBoxModel",
      "state": {
       "children": [
        "IPY_MODEL_095f0c1f4ca24341ad37b9657ed63df4",
        "IPY_MODEL_ce443151eefe430cbb4753cdce4a2960",
        "IPY_MODEL_72f3a7d8777c4cd2b3f7a2ed6dcd14f3",
        "IPY_MODEL_ad4a4afca220484398bfabb9ee28ae00",
        "IPY_MODEL_6a6f0a14232c462188c6357ab5b8ac96",
        "IPY_MODEL_cffee55f02fe43d5b7f18bba8fec07fd",
        "IPY_MODEL_d9b0017f4a13436b8a9e51e6a37bdfe2",
        "IPY_MODEL_7ca69e928c634424b4cfd2363262ac8d",
        "IPY_MODEL_f364a554ff3d4eb6b1983842610c9ac1",
        "IPY_MODEL_4234caf157cb469c9270d1dcb2563f55"
       ],
       "layout": "IPY_MODEL_9d105979ea0c4ef1b529d19820ec3508"
      }
     },
     "0c14ea92b3054f28a6553da7f6228d09": {
      "model_module": "@jupyter-widgets/controls",
      "model_module_version": "1.5.0",
      "model_name": "DescriptionStyleModel",
      "state": {
       "description_width": ""
      }
     },
     "0c4d2b0b4ae144af873b38f351ea847b": {
      "model_module": "@jupyter-widgets/base",
      "model_module_version": "1.2.0",
      "model_name": "LayoutModel",
      "state": {}
     },
     "0c772024b3b04e468966c00b5a68bb1a": {
      "model_module": "@jupyter-widgets/controls",
      "model_module_version": "1.5.0",
      "model_name": "CheckboxModel",
      "state": {
       "description": "cas_phys",
       "disabled": false,
       "layout": "IPY_MODEL_d796b02a8a914806ad100f14595d43de",
       "style": "IPY_MODEL_718ff9501aec4173a5f35a67b0a3aca1",
       "value": false
      }
     },
     "0d02a1007b744f988ce0a24d5f7695b7": {
      "model_module": "@jupyter-widgets/controls",
      "model_module_version": "1.5.0",
      "model_name": "CheckboxModel",
      "state": {
       "description": "attendee_shaping",
       "disabled": false,
       "layout": "IPY_MODEL_6f151512b489470faf9323bf343528d7",
       "style": "IPY_MODEL_9889c1bbf73844c3aa630b6afe19da05",
       "value": false
      }
     },
     "0d231fa7d2544c8fa84c7932df5af2e4": {
      "model_module": "@jupyter-widgets/controls",
      "model_module_version": "1.5.0",
      "model_name": "CheckboxModel",
      "state": {
       "description": "race_hispanic",
       "disabled": false,
       "layout": "IPY_MODEL_50ddb815111e496584a122df09918034",
       "style": "IPY_MODEL_37368a833a0945e98626e52f07c3813d",
       "value": false
      }
     },
     "0d5c07b08c224a3a98f522d65282dd71": {
      "model_module": "@jupyter-widgets/controls",
      "model_module_version": "1.5.0",
      "model_name": "DropdownModel",
      "state": {
       "_options_labels": [
        "emplid",
        "enrl_ind",
        "acad_year",
        "marital_status",
        "mother_wsu_flag",
        "parent1_highest_educ_lvl",
        "parent2_highest_educ_lvl"
       ],
       "description": "x",
       "index": 0,
       "layout": "IPY_MODEL_381898d1ee444b409305fe1034ec8d67",
       "style": "IPY_MODEL_8fb4abca29844dc1be8dde2fe15f73c4"
      }
     },
     "0d6a1f27b735409ab141c52cf6c9a9d5": {
      "model_module": "@jupyter-widgets/controls",
      "model_module_version": "1.5.0",
      "model_name": "CheckboxModel",
      "state": {
       "description": "pharmacy",
       "disabled": false,
       "layout": "IPY_MODEL_c2c5c3ddacab465bb39ebc8138a7089d",
       "style": "IPY_MODEL_0bc07b5f87ae45fa936625e0bcf7862a",
       "value": false
      }
     },
     "0eac7862b1ba4ccb85f39c5513573dbd": {
      "model_module": "@jupyter-widgets/controls",
      "model_module_version": "1.5.0",
      "model_name": "CheckboxModel",
      "state": {
       "description": "city_small",
       "disabled": false,
       "layout": "IPY_MODEL_5fe5017bd5c441889bf7ee1ed82c9537",
       "style": "IPY_MODEL_600a131cfaf04ef4846f8fe4a5f3e8d7",
       "value": false
      }
     },
     "0f7564c6792d4305bcdcadd63bbaeb3a": {
      "model_module": "@jupyter-widgets/base",
      "model_module_version": "1.2.0",
      "model_name": "LayoutModel",
      "state": {}
     },
     "0f782c41825c45a0aabf75254c53cf02": {
      "model_module": "@jupyter-widgets/controls",
      "model_module_version": "1.5.0",
      "model_name": "CheckboxModel",
      "state": {
       "description": "education",
       "disabled": false,
       "layout": "IPY_MODEL_4109818a0d4647d4827861957a3f75f0",
       "style": "IPY_MODEL_f156c907aefb449b8e85018bfaef1bf7",
       "value": false
      }
     },
     "1005629b4d0f4adfa353156654a65344": {
      "model_module": "@jupyter-widgets/controls",
      "model_module_version": "1.5.0",
      "model_name": "CheckboxModel",
      "state": {
       "description": "pct_asn",
       "disabled": false,
       "layout": "IPY_MODEL_891ab7b8d0ee4599a6b1166bf81f89d7",
       "style": "IPY_MODEL_b95b04453d4f44e0bb20a587082c91ed",
       "value": false
      }
     },
     "100f5a841ae34b66a4915f2d476329f5": {
      "model_module": "@jupyter-widgets/base",
      "model_module_version": "1.2.0",
      "model_name": "LayoutModel",
      "state": {}
     },
     "10512f3b095c441492dcc57b58db0141": {
      "model_module": "@jupyter-widgets/controls",
      "model_module_version": "1.5.0",
      "model_name": "DescriptionStyleModel",
      "state": {
       "description_width": ""
      }
     },
     "111cc2e2a0a94a8db986e55e05040190": {
      "model_module": "@jupyter-widgets/controls",
      "model_module_version": "1.5.0",
      "model_name": "CheckboxModel",
      "state": {
       "description": "fall_lec_count",
       "disabled": false,
       "layout": "IPY_MODEL_1699281318c94fe5b0379c589ac093cf",
       "style": "IPY_MODEL_706e15bb33624ade95f3e9f6982b9f78",
       "value": false
      }
     },
     "111fcbe9e23a47f8a2142d350bf055b3": {
      "model_module": "@jupyter-widgets/controls",
      "model_module_version": "1.5.0",
      "model_name": "SliderStyleModel",
      "state": {
       "description_width": ""
      }
     },
     "1138ba9c04ef41f2bcfb2e6fd7bb2aa0": {
      "model_module": "@jupyter-widgets/base",
      "model_module_version": "1.2.0",
      "model_name": "LayoutModel",
      "state": {}
     },
     "114c5d727b0a4d238b25c2b9a91dd482": {
      "model_module": "@jupyter-widgets/base",
      "model_module_version": "1.2.0",
      "model_name": "LayoutModel",
      "state": {}
     },
     "117e8d6a2c544b6ebb66f02f8c14a2f9": {
      "model_module": "@jupyter-widgets/base",
      "model_module_version": "1.2.0",
      "model_name": "LayoutModel",
      "state": {}
     },
     "11dbed55f1bc4c2abef07579279d0381": {
      "model_module": "@jupyter-widgets/controls",
      "model_module_version": "1.5.0",
      "model_name": "DropdownModel",
      "state": {
       "_options_labels": [
        "emplid",
        "enrl_ind",
        "acad_year",
        "marital_status",
        "mother_wsu_flag",
        "parent1_highest_educ_lvl",
        "parent2_highest_educ_lvl"
       ],
       "description": "x",
       "index": 0,
       "layout": "IPY_MODEL_851e3d659d6f4fce9e188bc93f7351c4",
       "style": "IPY_MODEL_9c14a9b02d0b48f09897a1f30582535a"
      }
     },
     "120d2bbf468641f0846c31e8d574018b": {
      "model_module": "@jupyter-widgets/controls",
      "model_module_version": "1.5.0",
      "model_name": "CheckboxModel",
      "state": {
       "description": "ipeds_ethnic_group_descrshort",
       "disabled": false,
       "layout": "IPY_MODEL_26e56325dbb24d039a010b43c86e1bbf",
       "style": "IPY_MODEL_2470e4378a7f4f9e9bb238f1a389bfe3",
       "value": false
      }
     },
     "1278a085f8434df19fe6e3007667ff40": {
      "model_module": "@jupyter-widgets/output",
      "model_module_version": "1.0.0",
      "model_name": "OutputModel",
      "state": {
       "layout": "IPY_MODEL_49e2b32b3d514c84a9d44aa5de12c106"
      }
     },
     "12e4eb86d59749ec945c29b8f5d47d93": {
      "model_module": "@jupyter-widgets/base",
      "model_module_version": "1.2.0",
      "model_name": "LayoutModel",
      "state": {}
     },
     "138d9aae91224c9b8b4d96514b421454": {
      "model_module": "@jupyter-widgets/base",
      "model_module_version": "1.2.0",
      "model_name": "LayoutModel",
      "state": {}
     },
     "13c1bb9f13534f79887ae8f07193f38c": {
      "model_module": "@jupyter-widgets/base",
      "model_module_version": "1.2.0",
      "model_name": "LayoutModel",
      "state": {}
     },
     "13ce86a7a01b404484153b30a405888b": {
      "model_module": "@jupyter-widgets/base",
      "model_module_version": "1.2.0",
      "model_name": "LayoutModel",
      "state": {}
     },
     "13d4b56faab947b792020d7481b61052": {
      "model_module": "@jupyter-widgets/controls",
      "model_module_version": "1.5.0",
      "model_name": "CheckboxModel",
      "state": {
       "description": "comm",
       "disabled": false,
       "layout": "IPY_MODEL_cf4b09267fa342d8acdc18afb2e253c2",
       "style": "IPY_MODEL_cb26028b859c4a6bb81cd2a52ca5584e",
       "value": false
      }
     },
     "14084144a3494cd297d7816277cd765f": {
      "model_module": "@jupyter-widgets/base",
      "model_module_version": "1.2.0",
      "model_name": "LayoutModel",
      "state": {}
     },
     "145a8d59dbd24ca7ba44b29458064953": {
      "model_module": "@jupyter-widgets/base",
      "model_module_version": "1.2.0",
      "model_name": "LayoutModel",
      "state": {}
     },
     "158138c685f348168fc8588823aac4b4": {
      "model_module": "@jupyter-widgets/controls",
      "model_module_version": "1.5.0",
      "model_name": "DescriptionStyleModel",
      "state": {
       "description_width": ""
      }
     },
     "15ba519da9734af68d162a1cc94a9fb4": {
      "model_module": "@jupyter-widgets/output",
      "model_module_version": "1.0.0",
      "model_name": "OutputModel",
      "state": {
       "layout": "IPY_MODEL_341449ac13a140de8c3aca566102d62c",
       "outputs": [
        {
         "data": {
          "image/png": "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\n",
          "text/plain": "<Figure size 432x288 with 1 Axes>"
         },
         "metadata": {
          "needs_background": "light"
         },
         "output_type": "display_data"
        }
       ]
      }
     },
     "16236e2e6c3d4a72a5322be08c604393": {
      "model_module": "@jupyter-widgets/base",
      "model_module_version": "1.2.0",
      "model_name": "LayoutModel",
      "state": {}
     },
     "1655cd662fd64c158f7d96bddcfe1795": {
      "model_module": "@jupyter-widgets/base",
      "model_module_version": "1.2.0",
      "model_name": "LayoutModel",
      "state": {}
     },
     "1678a7ba19e84709bf5f6dc7840ec198": {
      "model_module": "@jupyter-widgets/controls",
      "model_module_version": "1.5.0",
      "model_name": "DescriptionStyleModel",
      "state": {
       "description_width": ""
      }
     },
     "167a3ae79215469dbe58886ed88c84cb": {
      "model_module": "@jupyter-widgets/controls",
      "model_module_version": "1.5.0",
      "model_name": "DescriptionStyleModel",
      "state": {
       "description_width": ""
      }
     },
     "1699281318c94fe5b0379c589ac093cf": {
      "model_module": "@jupyter-widgets/base",
      "model_module_version": "1.2.0",
      "model_name": "LayoutModel",
      "state": {}
     },
     "16f548e9e0494c17a6d4e25e34c0be1c": {
      "model_module": "@jupyter-widgets/controls",
      "model_module_version": "1.5.0",
      "model_name": "ButtonModel",
      "state": {
       "description": "Create Plots",
       "layout": "IPY_MODEL_2a93284853ac4f2c9518b859799bd5c9",
       "style": "IPY_MODEL_887f02643f5d4553aed3e7dca6dab6e9"
      }
     },
     "178b3acba7574435b023b02e4e2f23b2": {
      "model_module": "@jupyter-widgets/base",
      "model_module_version": "1.2.0",
      "model_name": "LayoutModel",
      "state": {}
     },
     "179577ae132149e096494ca18e1b29e3": {
      "model_module": "@jupyter-widgets/controls",
      "model_module_version": "1.5.0",
      "model_name": "DescriptionStyleModel",
      "state": {
       "description_width": ""
      }
     },
     "17be48b97c7f46b7a24d4887cb4159ed": {
      "model_module": "@jupyter-widgets/controls",
      "model_module_version": "1.5.0",
      "model_name": "AccordionModel",
      "state": {
       "_titles": {
        "0": "Admissions",
        "1": "Demographics",
        "2": "Visitation",
        "3": "Transfer"
       },
       "children": [
        "IPY_MODEL_0bcef86ecd464b78beec3959c90d6f50",
        "IPY_MODEL_d73c695e35f645698b1c339655026067",
        "IPY_MODEL_6dac4d9ce6ea40498a9101e62d606086",
        "IPY_MODEL_8e0b4c6deef34f209c487b07f518ce1c"
       ],
       "layout": "IPY_MODEL_8573be4f239a47d2a93a902117072d9f"
      }
     },
     "17fc2bcbf74b45fe98b332de66d71426": {
      "model_module": "@jupyter-widgets/controls",
      "model_module_version": "1.5.0",
      "model_name": "DescriptionStyleModel",
      "state": {
       "description_width": ""
      }
     },
     "185d7bef05ee48f3b0ffb066a648edf1": {
      "model_module": "@jupyter-widgets/base",
      "model_module_version": "1.2.0",
      "model_name": "LayoutModel",
      "state": {}
     },
     "1880cd593db64b41a85f5f07a796ae42": {
      "model_module": "@jupyter-widgets/controls",
      "model_module_version": "1.5.0",
      "model_name": "CheckboxModel",
      "state": {
       "description": "spring_midterm_gpa_avg_ind",
       "disabled": false,
       "layout": "IPY_MODEL_185d7bef05ee48f3b0ffb066a648edf1",
       "style": "IPY_MODEL_d78fdf1da1d545dfab3796b3f08f196d",
       "value": false
      }
     },
     "1950df5807794b228454e9e15bff1c08": {
      "model_module": "@jupyter-widgets/controls",
      "model_module_version": "1.5.0",
      "model_name": "ButtonStyleModel",
      "state": {}
     },
     "19863b7d514b4148be70b39ac316d621": {
      "model_module": "@jupyter-widgets/controls",
      "model_module_version": "1.5.0",
      "model_name": "CheckboxModel",
      "state": {
       "description": "suburb_mid",
       "disabled": false,
       "layout": "IPY_MODEL_76044cc5b0374441ac409de070dd6932",
       "style": "IPY_MODEL_610f596070d64a308c3f65d5c2bde37b",
       "value": false
      }
     },
     "1a54e40041924fb48ba9d22452d83711": {
      "model_module": "@jupyter-widgets/controls",
      "model_module_version": "1.5.0",
      "model_name": "DescriptionStyleModel",
      "state": {
       "description_width": ""
      }
     },
     "1a86526e7bb74b988b05c1a8f2598eea": {
      "model_module": "@jupyter-widgets/controls",
      "model_module_version": "1.5.0",
      "model_name": "DescriptionStyleModel",
      "state": {
       "description_width": ""
      }
     },
     "1b9b1a34cc4c431aaaad5abcb87b787f": {
      "model_module": "@jupyter-widgets/controls",
      "model_module_version": "1.5.0",
      "model_name": "CheckboxModel",
      "state": {
       "description": "nursing",
       "disabled": false,
       "layout": "IPY_MODEL_d2d276c1e3f14a4a8280ba6047166cb6",
       "style": "IPY_MODEL_8db0f90af6644ab2b11f726e43b7f16a",
       "value": false
      }
     },
     "1c024d9d2edd4ee6b081011c30f8659a": {
      "model_module": "@jupyter-widgets/controls",
      "model_module_version": "1.5.0",
      "model_name": "DescriptionStyleModel",
      "state": {
       "description_width": ""
      }
     },
     "1cd8c36d6c0f4384b7ea08d433889ad9": {
      "model_module": "@jupyter-widgets/base",
      "model_module_version": "1.2.0",
      "model_name": "LayoutModel",
      "state": {}
     },
     "1d62660ec89047e8965b0eec31b28492": {
      "model_module": "@jupyter-widgets/base",
      "model_module_version": "1.2.0",
      "model_name": "LayoutModel",
      "state": {}
     },
     "1dcee963d17548b99aad91eb0c99310c": {
      "model_module": "@jupyter-widgets/base",
      "model_module_version": "1.2.0",
      "model_name": "LayoutModel",
      "state": {}
     },
     "1dfd522c695841a38f61c408a93857d8": {
      "model_module": "@jupyter-widgets/controls",
      "model_module_version": "1.5.0",
      "model_name": "VBoxModel",
      "state": {
       "children": [
        "IPY_MODEL_7b7ec0f3dc134d75baa53a89cc1b1421",
        "IPY_MODEL_d5174ec7ceb24ae9833e0f510189ff40",
        "IPY_MODEL_24719f4677634373aadc08141b5b2c53",
        "IPY_MODEL_6a90cf2f84604358a554bf708f7a66f1",
        "IPY_MODEL_111cc2e2a0a94a8db986e55e05040190",
        "IPY_MODEL_3387e35579974c148e7d13ed49aab009",
        "IPY_MODEL_462a6e61a0494524a7f3535d048b0af0",
        "IPY_MODEL_45acdf6864874b9795fd62667846d3dd",
        "IPY_MODEL_5b84a093bbf54197a5a656c0dbd25a57",
        "IPY_MODEL_f13ab38dc89d4c79b94406c9a54ae74f",
        "IPY_MODEL_f9b4f01e236a478d8143aeecf337a518",
        "IPY_MODEL_293f8087900c4ef7a24859504487c96e",
        "IPY_MODEL_2115aa2afb3e422982329b2d2b0d2197",
        "IPY_MODEL_03a43295bf9f4572b5fd98a87b8e6af7",
        "IPY_MODEL_ed207e2df47b4d28831810c167344145",
        "IPY_MODEL_7db7b7c710664f54998895cbd71ab727",
        "IPY_MODEL_48cbfd702f3a4b069720a541a1cfea43",
        "IPY_MODEL_b84702ef8fd640a4b7983c93541aca52",
        "IPY_MODEL_06e5d3dbcb4c4885b5bd8bfaf08ea8e5",
        "IPY_MODEL_04f96c2e0a4f47b389beb39437b2e4b3",
        "IPY_MODEL_6879a379a53e4626a8e4331ec90455da",
        "IPY_MODEL_ebc4773c7b9c47369a3282ae6bab7f02",
        "IPY_MODEL_92bba9551dc44beaa301d8d1b342163d",
        "IPY_MODEL_63a3ad0d13584efda8c51ceec1785ca0",
        "IPY_MODEL_355ce4c16f7349159c0762b8b333e3fa",
        "IPY_MODEL_c8651e1737424d0b99a2ef54e481218b"
       ],
       "layout": "IPY_MODEL_8cd347ac075046c780693c50977181ca"
      }
     },
     "1e645a3ad3a244b2af4cdae537bcd316": {
      "model_module": "@jupyter-widgets/base",
      "model_module_version": "1.2.0",
      "model_name": "LayoutModel",
      "state": {}
     },
     "1f8b497823f84ae1a4938f140da0a82f": {
      "model_module": "@jupyter-widgets/controls",
      "model_module_version": "1.5.0",
      "model_name": "CheckboxModel",
      "state": {
       "description": "vcea",
       "disabled": false,
       "layout": "IPY_MODEL_4814c1ed74ff4c6fa7913441430b1f90",
       "style": "IPY_MODEL_040cd98c602c46e4bac401b371269f37",
       "value": false
      }
     },
     "1fc3417aa3114924a371971afb449ad6": {
      "model_module": "@jupyter-widgets/controls",
      "model_module_version": "1.5.0",
      "model_name": "VBoxModel",
      "state": {
       "_dom_classes": [
        "widget-interact"
       ],
       "children": [
        "IPY_MODEL_0d5c07b08c224a3a98f522d65282dd71",
        "IPY_MODEL_04fff7cf3b794fb8b464fcbd7ac2ffb0",
        "IPY_MODEL_91b38b7174b54c8dac6002544ba9acb1"
       ],
       "layout": "IPY_MODEL_aeb006a34b9645f499c3d377230ff483"
      }
     },
     "1fc3bbc4f7a142b28107aae97ed4c168": {
      "model_module": "@jupyter-widgets/base",
      "model_module_version": "1.2.0",
      "model_name": "LayoutModel",
      "state": {}
     },
     "206985b49e9a4f4fb6f7d28b01b67183": {
      "model_module": "@jupyter-widgets/controls",
      "model_module_version": "1.5.0",
      "model_name": "CheckboxModel",
      "state": {
       "description": "attendee_oos_experience",
       "disabled": false,
       "layout": "IPY_MODEL_a873c008e8124a6c8b9fd5dab82c0bba",
       "style": "IPY_MODEL_543f6316d6a74c9a9a62775f1c7d707c",
       "value": false
      }
     },
     "20db6557c75b4cd8ae57000af9046191": {
      "model_module": "@jupyter-widgets/base",
      "model_module_version": "1.2.0",
      "model_name": "LayoutModel",
      "state": {}
     },
     "2115aa2afb3e422982329b2d2b0d2197": {
      "model_module": "@jupyter-widgets/controls",
      "model_module_version": "1.5.0",
      "model_name": "CheckboxModel",
      "state": {
       "description": "total_fall_units",
       "disabled": false,
       "layout": "IPY_MODEL_a5d2ef042d1248ab87deb9e6e7fae12e",
       "style": "IPY_MODEL_1678a7ba19e84709bf5f6dc7840ec198",
       "value": false
      }
     },
     "22f50f76af41452198b1259eb96dc524": {
      "model_module": "@jupyter-widgets/base",
      "model_module_version": "1.2.0",
      "model_name": "LayoutModel",
      "state": {}
     },
     "23d006a25c6c437e8da4726ccf19e2d7": {
      "model_module": "@jupyter-widgets/base",
      "model_module_version": "1.2.0",
      "model_name": "LayoutModel",
      "state": {}
     },
     "2470e4378a7f4f9e9bb238f1a389bfe3": {
      "model_module": "@jupyter-widgets/controls",
      "model_module_version": "1.5.0",
      "model_name": "DescriptionStyleModel",
      "state": {
       "description_width": ""
      }
     },
     "24719f4677634373aadc08141b5b2c53": {
      "model_module": "@jupyter-widgets/controls",
      "model_module_version": "1.5.0",
      "model_name": "CheckboxModel",
      "state": {
       "description": "fall_avg_pct_withdrawn",
       "disabled": false,
       "layout": "IPY_MODEL_8d788f4aa09c4fcaabdef5022a0e0ddc",
       "style": "IPY_MODEL_c91327e64ebb4e37a9976160c805ed7d",
       "value": false
      }
     },
     "250079fb03b548e681e00ed6dd7eff60": {
      "model_module": "@jupyter-widgets/controls",
      "model_module_version": "1.5.0",
      "model_name": "ButtonModel",
      "state": {
       "description": "Create Plots",
       "layout": "IPY_MODEL_91d26b387ac44320a315929cb0c6c946",
       "style": "IPY_MODEL_70eee11b25a5468e8b2e84697b0f8ae3"
      }
     },
     "2526faeb9333486cb4608788e2604671": {
      "model_module": "@jupyter-widgets/controls",
      "model_module_version": "1.5.0",
      "model_name": "IntSliderModel",
      "state": {
       "description": "func_y",
       "layout": "IPY_MODEL_7e3c268cfaa1419b9459b72c4453f440",
       "min": 1,
       "style": "IPY_MODEL_bc7530053fa54fe99756ceb5e728e567",
       "value": 50
      }
     },
     "25c1386a89b9463aaa4e71fe4052faac": {
      "model_module": "@jupyter-widgets/base",
      "model_module_version": "1.2.0",
      "model_name": "LayoutModel",
      "state": {}
     },
     "25eedd2617014114a1bf886dfa93f912": {
      "model_module": "@jupyter-widgets/base",
      "model_module_version": "1.2.0",
      "model_name": "LayoutModel",
      "state": {}
     },
     "263e06e296f5494094e6b8a6f5c36d38": {
      "model_module": "@jupyter-widgets/base",
      "model_module_version": "1.2.0",
      "model_name": "LayoutModel",
      "state": {}
     },
     "26e56325dbb24d039a010b43c86e1bbf": {
      "model_module": "@jupyter-widgets/base",
      "model_module_version": "1.2.0",
      "model_name": "LayoutModel",
      "state": {}
     },
     "2710a7e4d379479abcdd1db3481815ab": {
      "model_module": "@jupyter-widgets/controls",
      "model_module_version": "1.5.0",
      "model_name": "DescriptionStyleModel",
      "state": {
       "description_width": ""
      }
     },
     "2754ce89830a47bc83b1edbdb2822d6f": {
      "model_module": "@jupyter-widgets/controls",
      "model_module_version": "1.5.0",
      "model_name": "CheckboxModel",
      "state": {
       "description": "fall_midterm_gpa_avg",
       "disabled": false,
       "layout": "IPY_MODEL_9425a73b5ee5403cb88d95e07f4fb7ce",
       "style": "IPY_MODEL_4bc6da8fcf0d439b932393b181532f5b",
       "value": false
      }
     },
     "285d72b44861497c9e0dc96ae5b66177": {
      "model_module": "@jupyter-widgets/base",
      "model_module_version": "1.2.0",
      "model_name": "LayoutModel",
      "state": {}
     },
     "285f8809ebc34153a1dc1ded108d8d33": {
      "model_module": "@jupyter-widgets/controls",
      "model_module_version": "1.5.0",
      "model_name": "CheckboxModel",
      "state": {
       "description": "median_inc",
       "disabled": false,
       "layout": "IPY_MODEL_c10c43b5f4524215a534f8174dd8d3a9",
       "style": "IPY_MODEL_2a7551e53a7f46d89098c7f124222bc6",
       "value": false
      }
     },
     "287bf5ea975e4f7f9d6401a86ad10950": {
      "model_module": "@jupyter-widgets/controls",
      "model_module_version": "1.5.0",
      "model_name": "DescriptionStyleModel",
      "state": {
       "description_width": ""
      }
     },
     "28b4ad6e6eec4ba6b715f0ff86e5f2d2": {
      "model_module": "@jupyter-widgets/base",
      "model_module_version": "1.2.0",
      "model_name": "LayoutModel",
      "state": {}
     },
     "293f8087900c4ef7a24859504487c96e": {
      "model_module": "@jupyter-widgets/controls",
      "model_module_version": "1.5.0",
      "model_name": "CheckboxModel",
      "state": {
       "description": "total_fall_contact_hrs",
       "disabled": false,
       "layout": "IPY_MODEL_d84b2837443342049ab2cc7323410f6d",
       "style": "IPY_MODEL_6db8863be6e7416e92c47383464715c0",
       "value": false
      }
     },
     "2973a17a5ea3437eb440780980523239": {
      "model_module": "@jupyter-widgets/controls",
      "model_module_version": "1.5.0",
      "model_name": "DescriptionStyleModel",
      "state": {
       "description_width": ""
      }
     },
     "2a355ce762024df4a06b2f863fdaaec7": {
      "model_module": "@jupyter-widgets/base",
      "model_module_version": "1.2.0",
      "model_name": "LayoutModel",
      "state": {}
     },
     "2a7551e53a7f46d89098c7f124222bc6": {
      "model_module": "@jupyter-widgets/controls",
      "model_module_version": "1.5.0",
      "model_name": "DescriptionStyleModel",
      "state": {
       "description_width": ""
      }
     },
     "2a93284853ac4f2c9518b859799bd5c9": {
      "model_module": "@jupyter-widgets/base",
      "model_module_version": "1.2.0",
      "model_name": "LayoutModel",
      "state": {}
     },
     "2ae919914e634ee09f03765515ee6184": {
      "model_module": "@jupyter-widgets/controls",
      "model_module_version": "1.5.0",
      "model_name": "CheckboxModel",
      "state": {
       "description": "age_group",
       "disabled": false,
       "layout": "IPY_MODEL_ae5ec28d99984ea4b70e2710e25c7a91",
       "style": "IPY_MODEL_96aac6ddd05a4de19b328a122507699a",
       "value": false
      }
     },
     "2b27fcd874e749e5923f203f934e0417": {
      "model_module": "@jupyter-widgets/controls",
      "model_module_version": "1.5.0",
      "model_name": "SliderStyleModel",
      "state": {
       "description_width": ""
      }
     },
     "2b3ef87207ed4a49ac3a89bf1ade60db": {
      "model_module": "@jupyter-widgets/controls",
      "model_module_version": "1.5.0",
      "model_name": "CheckboxModel",
      "state": {
       "description": "distance",
       "disabled": false,
       "layout": "IPY_MODEL_397e27e3ad9c48c9b064a4b5ef1a0caa",
       "style": "IPY_MODEL_42917b5880364cd08337741a847311e3",
       "value": false
      }
     },
     "2c06b3b1ad02495da59a326f5e97e3bb": {
      "model_module": "@jupyter-widgets/output",
      "model_module_version": "1.0.0",
      "model_name": "OutputModel",
      "state": {
       "layout": "IPY_MODEL_8487a0017f2f49ec9c73919e2a23ef60",
       "outputs": [
        {
         "data": {
          "application/vnd.jupyter.widget-view+json": {
           "model_id": "",
           "version_major": 2,
           "version_minor": 0
          },
          "text/plain": "interactive(children=(Dropdown(description='func_x', options=('emplid', 'enrl_ind', 'acad_year', 'marital_stat…"
         },
         "metadata": {},
         "output_type": "display_data"
        }
       ]
      }
     },
     "2cd4cbd77e6746fa90de55d15693e4aa": {
      "model_module": "@jupyter-widgets/base",
      "model_module_version": "1.2.0",
      "model_name": "LayoutModel",
      "state": {}
     },
     "2cd97f9108724ded8bedd9a21e79186a": {
      "model_module": "@jupyter-widgets/base",
      "model_module_version": "1.2.0",
      "model_name": "LayoutModel",
      "state": {}
     },
     "2d73348e26804c4db33c541d29fa1f15": {
      "model_module": "@jupyter-widgets/controls",
      "model_module_version": "1.5.0",
      "model_name": "CheckboxModel",
      "state": {
       "description": "AP",
       "disabled": false,
       "layout": "IPY_MODEL_4448ffa3297f4bbabb43d44c7c838f63",
       "style": "IPY_MODEL_794f11b256e74a5ba7b1aa9a9bf91709",
       "value": false
      }
     },
     "2d9aca0f495b445caee0806837e68898": {
      "model_module": "@jupyter-widgets/base",
      "model_module_version": "1.2.0",
      "model_name": "LayoutModel",
      "state": {}
     },
     "2decbbf8150745c99d1407e095ae0a50": {
      "model_module": "@jupyter-widgets/controls",
      "model_module_version": "1.5.0",
      "model_name": "DescriptionStyleModel",
      "state": {
       "description_width": ""
      }
     },
     "2e020f14895d4b408394618709cbc3b7": {
      "model_module": "@jupyter-widgets/base",
      "model_module_version": "1.2.0",
      "model_name": "LayoutModel",
      "state": {}
     },
     "2e97479648e24fde9d09acc55a001d7e": {
      "model_module": "@jupyter-widgets/controls",
      "model_module_version": "1.5.0",
      "model_name": "VBoxModel",
      "state": {
       "children": [
        "IPY_MODEL_c15cba1f9a1b4637b8eb3c3e76b483ce",
        "IPY_MODEL_587a700fef1c4c2c9818bd415bc4434a"
       ],
       "layout": "IPY_MODEL_842e22f97fa747f4a46249726996e92f"
      }
     },
     "2f0c2b8f045e4741b52b1a02cf1df7d9": {
      "model_module": "@jupyter-widgets/base",
      "model_module_version": "1.2.0",
      "model_name": "LayoutModel",
      "state": {}
     },
     "2f21fe0400424b8cbdb124354dbd336a": {
      "model_module": "@jupyter-widgets/base",
      "model_module_version": "1.2.0",
      "model_name": "LayoutModel",
      "state": {}
     },
     "2f7083624ade48bf8fd507329058bc4e": {
      "model_module": "@jupyter-widgets/controls",
      "model_module_version": "1.5.0",
      "model_name": "CheckboxModel",
      "state": {
       "description": "pct_oth",
       "disabled": false,
       "layout": "IPY_MODEL_955cbf7536c34e5eba6cc2f303d1c723",
       "style": "IPY_MODEL_abac373cd0354f4182aba75c8dd9b3be",
       "value": false
      }
     },
     "2f82cf66a34f479c9eed815344f33cb7": {
      "model_module": "@jupyter-widgets/controls",
      "model_module_version": "1.5.0",
      "model_name": "DescriptionStyleModel",
      "state": {
       "description_width": ""
      }
     },
     "2fdf5a224c7c4b32a5ad8f6c90543a92": {
      "model_module": "@jupyter-widgets/controls",
      "model_module_version": "1.5.0",
      "model_name": "CheckboxModel",
      "state": {
       "description": "cahnrs_anml",
       "disabled": false,
       "layout": "IPY_MODEL_dd35f029d7424f22a44c54be0a1df00d",
       "style": "IPY_MODEL_9235a2731a244fe0a913f32c6c466a1b",
       "value": false
      }
     },
     "302c7b644d9f40cca320f3b440db2bc2": {
      "model_module": "@jupyter-widgets/controls",
      "model_module_version": "1.5.0",
      "model_name": "DescriptionStyleModel",
      "state": {
       "description_width": ""
      }
     },
     "308e438e14b34e5f822a1521fa48c049": {
      "model_module": "@jupyter-widgets/base",
      "model_module_version": "1.2.0",
      "model_name": "LayoutModel",
      "state": {}
     },
     "3090c0dd2c0b4ed19bb5d75dd36c7c92": {
      "model_module": "@jupyter-widgets/output",
      "model_module_version": "1.0.0",
      "model_name": "OutputModel",
      "state": {
       "layout": "IPY_MODEL_14084144a3494cd297d7816277cd765f",
       "outputs": [
        {
         "data": {
          "application/vnd.jupyter.widget-view+json": {
           "model_id": "",
           "version_major": 2,
           "version_minor": 0
          },
          "text/plain": "interactive(children=(Dropdown(description='func_x', options=('emplid', 'enrl_ind', 'acad_year', 'marital_stat…"
         },
         "metadata": {},
         "output_type": "display_data"
        }
       ]
      }
     },
     "3095d5129e0241c4aebf659496c9f5b4": {
      "model_module": "@jupyter-widgets/controls",
      "model_module_version": "1.5.0",
      "model_name": "DescriptionStyleModel",
      "state": {
       "description_width": ""
      }
     },
     "30faf2c7729f463e98e652788e7cf19d": {
      "model_module": "@jupyter-widgets/base",
      "model_module_version": "1.2.0",
      "model_name": "LayoutModel",
      "state": {}
     },
     "31008831be0c46efb9c6dd47a605e2ea": {
      "model_module": "@jupyter-widgets/controls",
      "model_module_version": "1.5.0",
      "model_name": "DescriptionStyleModel",
      "state": {
       "description_width": ""
      }
     },
     "312c1ac480ef44b6977899c709805630": {
      "model_module": "@jupyter-widgets/base",
      "model_module_version": "1.2.0",
      "model_name": "LayoutModel",
      "state": {}
     },
     "31b6e23c81b94664b5602c70d4a67eaa": {
      "model_module": "@jupyter-widgets/controls",
      "model_module_version": "1.5.0",
      "model_name": "DescriptionStyleModel",
      "state": {
       "description_width": ""
      }
     },
     "3275028e99034615ad351f8512139ee6": {
      "model_module": "@jupyter-widgets/base",
      "model_module_version": "1.2.0",
      "model_name": "LayoutModel",
      "state": {}
     },
     "32cac0473859465daa529389ff4727d3": {
      "model_module": "@jupyter-widgets/base",
      "model_module_version": "1.2.0",
      "model_name": "LayoutModel",
      "state": {}
     },
     "32d40e104d06477697ecfb5b643354be": {
      "model_module": "@jupyter-widgets/controls",
      "model_module_version": "1.5.0",
      "model_name": "DescriptionStyleModel",
      "state": {
       "description_width": ""
      }
     },
     "3308b7a3e4894b7db986b3d1a303f8d2": {
      "model_module": "@jupyter-widgets/controls",
      "model_module_version": "1.5.0",
      "model_name": "DescriptionStyleModel",
      "state": {
       "description_width": ""
      }
     },
     "334e0186e36e4f3496636726a332bac5": {
      "model_module": "@jupyter-widgets/base",
      "model_module_version": "1.2.0",
      "model_name": "LayoutModel",
      "state": {}
     },
     "3387e35579974c148e7d13ed49aab009": {
      "model_module": "@jupyter-widgets/controls",
      "model_module_version": "1.5.0",
      "model_name": "CheckboxModel",
      "state": {
       "description": "fall_lab_count",
       "disabled": false,
       "layout": "IPY_MODEL_3518664eb51a4973bb41152efc8582b0",
       "style": "IPY_MODEL_6eaf688ba2cb4634bb98fa97a407e2fc",
       "value": false
      }
     },
     "33bd862a819043a08f5658fd6ecde970": {
      "model_module": "@jupyter-widgets/base",
      "model_module_version": "1.2.0",
      "model_name": "LayoutModel",
      "state": {}
     },
     "33c5a195189b43508db375520d9dbe97": {
      "model_module": "@jupyter-widgets/controls",
      "model_module_version": "1.5.0",
      "model_name": "DescriptionStyleModel",
      "state": {
       "description_width": ""
      }
     },
     "340e14be5271486e9902788695aa3e30": {
      "model_module": "@jupyter-widgets/controls",
      "model_module_version": "1.5.0",
      "model_name": "CheckboxModel",
      "state": {
       "description": "pell_recipient_ind",
       "disabled": false,
       "layout": "IPY_MODEL_dbc9a99d875640a9a6f6d1e0ff759256",
       "style": "IPY_MODEL_0679656770a04955a436cd9395e243d9",
       "value": false
      }
     },
     "341449ac13a140de8c3aca566102d62c": {
      "model_module": "@jupyter-widgets/base",
      "model_module_version": "1.2.0",
      "model_name": "LayoutModel",
      "state": {}
     },
     "34209748025f43efa01bb06116a7b0f9": {
      "model_module": "@jupyter-widgets/controls",
      "model_module_version": "1.5.0",
      "model_name": "VBoxModel",
      "state": {
       "children": [
        "IPY_MODEL_849fa9077ee042689fde72ab084af957",
        "IPY_MODEL_2c06b3b1ad02495da59a326f5e97e3bb"
       ],
       "layout": "IPY_MODEL_c831e162ea7444aca3b99816cf59de13"
      }
     },
     "34d4a0b7924647bc831123ac3a0724c0": {
      "model_module": "@jupyter-widgets/controls",
      "model_module_version": "1.5.0",
      "model_name": "DescriptionStyleModel",
      "state": {
       "description_width": ""
      }
     },
     "34f6af1b35694fb4ad1d1fc0248ce57b": {
      "model_module": "@jupyter-widgets/controls",
      "model_module_version": "1.5.0",
      "model_name": "VBoxModel",
      "state": {
       "children": [
        "IPY_MODEL_965a2f1691ca4b07a0eb36617435f3ea",
        "IPY_MODEL_1278a085f8434df19fe6e3007667ff40"
       ],
       "layout": "IPY_MODEL_0f7564c6792d4305bcdcadd63bbaeb3a"
      }
     },
     "34fb995a504a4fc2bfd1273623c003be": {
      "model_module": "@jupyter-widgets/controls",
      "model_module_version": "1.5.0",
      "model_name": "DescriptionStyleModel",
      "state": {
       "description_width": ""
      }
     },
     "3518664eb51a4973bb41152efc8582b0": {
      "model_module": "@jupyter-widgets/base",
      "model_module_version": "1.2.0",
      "model_name": "LayoutModel",
      "state": {}
     },
     "354710532bd94448b39f576a17323b57": {
      "model_module": "@jupyter-widgets/base",
      "model_module_version": "1.2.0",
      "model_name": "LayoutModel",
      "state": {}
     },
     "355ce4c16f7349159c0762b8b333e3fa": {
      "model_module": "@jupyter-widgets/controls",
      "model_module_version": "1.5.0",
      "model_name": "CheckboxModel",
      "state": {
       "description": "cum_adj_transfer_hours",
       "disabled": false,
       "layout": "IPY_MODEL_3c99a67b0dac4246b05284f984f22e00",
       "style": "IPY_MODEL_aa30d3fd66974d798b2244a53750f4be",
       "value": false
      }
     },
     "35992ea243fa4eb5998553e0ff4eca70": {
      "model_module": "@jupyter-widgets/controls",
      "model_module_version": "1.5.0",
      "model_name": "DescriptionStyleModel",
      "state": {
       "description_width": ""
      }
     },
     "3684591ba39a4f1598782d76ec817b35": {
      "model_module": "@jupyter-widgets/controls",
      "model_module_version": "1.5.0",
      "model_name": "CheckboxModel",
      "state": {
       "description": "pell_eligibility_ind",
       "disabled": false,
       "layout": "IPY_MODEL_30faf2c7729f463e98e652788e7cf19d",
       "style": "IPY_MODEL_bf87b9de66ba45b2a9756ed236b99a0f",
       "value": false
      }
     },
     "36a45af096c643788ec2f290d265d4c4": {
      "model_module": "@jupyter-widgets/controls",
      "model_module_version": "1.5.0",
      "model_name": "DescriptionStyleModel",
      "state": {
       "description_width": ""
      }
     },
     "371d777631d84b2eb358be89c2f215fa": {
      "model_module": "@jupyter-widgets/controls",
      "model_module_version": "1.5.0",
      "model_name": "CheckboxModel",
      "state": {
       "description": "race_american_indian",
       "disabled": false,
       "layout": "IPY_MODEL_12e4eb86d59749ec945c29b8f5d47d93",
       "style": "IPY_MODEL_e92177b588fd4303bcbb25d67806fc64",
       "value": false
      }
     },
     "37368a833a0945e98626e52f07c3813d": {
      "model_module": "@jupyter-widgets/controls",
      "model_module_version": "1.5.0",
      "model_name": "DescriptionStyleModel",
      "state": {
       "description_width": ""
      }
     },
     "37833ec147874068a40a7b30acef8b77": {
      "model_module": "@jupyter-widgets/controls",
      "model_module_version": "1.5.0",
      "model_name": "CheckboxModel",
      "state": {
       "description": "first_gen_flag",
       "disabled": false,
       "layout": "IPY_MODEL_354710532bd94448b39f576a17323b57",
       "style": "IPY_MODEL_e279a2026035405db7f74213fb88fb76",
       "value": false
      }
     },
     "37f2be0f331c477fa768c028c80caf2c": {
      "model_module": "@jupyter-widgets/controls",
      "model_module_version": "1.5.0",
      "model_name": "VBoxModel",
      "state": {
       "_dom_classes": [
        "widget-interact"
       ],
       "children": [
        "IPY_MODEL_d7ef5d6649fc4419bf2d61949521c5fe",
        "IPY_MODEL_cf59949303154d72b2a4f543cf1150da",
        "IPY_MODEL_15ba519da9734af68d162a1cc94a9fb4"
       ],
       "layout": "IPY_MODEL_1655cd662fd64c158f7d96bddcfe1795"
      }
     },
     "381898d1ee444b409305fe1034ec8d67": {
      "model_module": "@jupyter-widgets/base",
      "model_module_version": "1.2.0",
      "model_name": "LayoutModel",
      "state": {}
     },
     "3830b27d796842dd858c31afdcd798fb": {
      "model_module": "@jupyter-widgets/base",
      "model_module_version": "1.2.0",
      "model_name": "LayoutModel",
      "state": {}
     },
     "3869e09391cd462d9ab3e7058c25b1db": {
      "model_module": "@jupyter-widgets/base",
      "model_module_version": "1.2.0",
      "model_name": "LayoutModel",
      "state": {}
     },
     "38bb8258d3ac44058ebb99c5d54dbab5": {
      "model_module": "@jupyter-widgets/base",
      "model_module_version": "1.2.0",
      "model_name": "LayoutModel",
      "state": {}
     },
     "38d79efdb0b24ab787a4b4dd3ffaa970": {
      "model_module": "@jupyter-widgets/controls",
      "model_module_version": "1.5.0",
      "model_name": "DescriptionStyleModel",
      "state": {
       "description_width": ""
      }
     },
     "38f2ef1cd7804e49b7e690800c0f6fb2": {
      "model_module": "@jupyter-widgets/controls",
      "model_module_version": "1.5.0",
      "model_name": "AccordionModel",
      "state": {
       "_titles": {
        "0": "Financial Aid"
       },
       "children": [
        "IPY_MODEL_ca3d8e0cbe7e461b8729e3e07545ba54"
       ],
       "layout": "IPY_MODEL_75a3bdb8ef5640418bd7ff0396374d77"
      }
     },
     "38f8449052304cadb4d829f3ad8848c1": {
      "model_module": "@jupyter-widgets/controls",
      "model_module_version": "1.5.0",
      "model_name": "DescriptionStyleModel",
      "state": {
       "description_width": ""
      }
     },
     "394cc07d70694106b8c5c71575f2c56b": {
      "model_module": "@jupyter-widgets/controls",
      "model_module_version": "1.5.0",
      "model_name": "CheckboxModel",
      "state": {
       "description": "pct_non",
       "disabled": false,
       "layout": "IPY_MODEL_56891fce42484ac7a364406bfe344e3c",
       "style": "IPY_MODEL_3b38676931974ea89f3fab3ed63a4204",
       "value": false
      }
     },
     "397e27e3ad9c48c9b064a4b5ef1a0caa": {
      "model_module": "@jupyter-widgets/base",
      "model_module_version": "1.2.0",
      "model_name": "LayoutModel",
      "state": {}
     },
     "399cd8b126f64e4a9f6b0a8f588e0b64": {
      "model_module": "@jupyter-widgets/controls",
      "model_module_version": "1.5.0",
      "model_name": "CheckboxModel",
      "state": {
       "description": "fed_need",
       "disabled": false,
       "layout": "IPY_MODEL_1cd8c36d6c0f4384b7ea08d433889ad9",
       "style": "IPY_MODEL_45aef796e52e4a04be8d919c4cedaa56",
       "value": false
      }
     },
     "3a1ca3b621f549a7a9c40c405ab5034a": {
      "model_module": "@jupyter-widgets/controls",
      "model_module_version": "1.5.0",
      "model_name": "CheckboxModel",
      "state": {
       "description": "CHS",
       "disabled": false,
       "layout": "IPY_MODEL_16236e2e6c3d4a72a5322be08c604393",
       "style": "IPY_MODEL_cbd690a6dfde423ca77a7613db43f1d6",
       "value": false
      }
     },
     "3b38676931974ea89f3fab3ed63a4204": {
      "model_module": "@jupyter-widgets/controls",
      "model_module_version": "1.5.0",
      "model_name": "DescriptionStyleModel",
      "state": {
       "description_width": ""
      }
     },
     "3b486c49105b4c7895aa1c2de6bc2f8d": {
      "model_module": "@jupyter-widgets/controls",
      "model_module_version": "1.5.0",
      "model_name": "VBoxModel",
      "state": {
       "_dom_classes": [
        "widget-interact"
       ],
       "children": [
        "IPY_MODEL_e9edbfb23bfd4fe8b866a68ebe0cff24",
        "IPY_MODEL_afca5c44b9844895a8e8bb7d7ba34077",
        "IPY_MODEL_4b712b5bc4454bd8b41a849a4ff3ce3c"
       ],
       "layout": "IPY_MODEL_4070e21423f54dbaa12c93b1418c6950"
      }
     },
     "3b563ffb586f4456835a03e0b26738c5": {
      "model_module": "@jupyter-widgets/controls",
      "model_module_version": "1.5.0",
      "model_name": "DescriptionStyleModel",
      "state": {
       "description_width": ""
      }
     },
     "3b57f86b6d43472f924b286833dbdac1": {
      "model_module": "@jupyter-widgets/controls",
      "model_module_version": "1.5.0",
      "model_name": "CheckboxModel",
      "state": {
       "description": "RS",
       "disabled": false,
       "layout": "IPY_MODEL_5ef2c35dca604d2d98d3723aec2d3e2f",
       "style": "IPY_MODEL_fd97118313014fb9823db8267bebd5e0",
       "value": false
      }
     },
     "3c0beb732d8e4175b03d0b35f28385bc": {
      "model_module": "@jupyter-widgets/base",
      "model_module_version": "1.2.0",
      "model_name": "LayoutModel",
      "state": {}
     },
     "3c99a67b0dac4246b05284f984f22e00": {
      "model_module": "@jupyter-widgets/base",
      "model_module_version": "1.2.0",
      "model_name": "LayoutModel",
      "state": {}
     },
     "3d969c8d397446ed947cfccdfff88ed7": {
      "model_module": "@jupyter-widgets/base",
      "model_module_version": "1.2.0",
      "model_name": "LayoutModel",
      "state": {}
     },
     "3e66782a722b4b909a5a6f1eb233fdfb": {
      "model_module": "@jupyter-widgets/controls",
      "model_module_version": "1.5.0",
      "model_name": "CheckboxModel",
      "state": {
       "description": "attendee_fcoc",
       "disabled": false,
       "layout": "IPY_MODEL_afe9e60eed1745afb024427c2be31703",
       "style": "IPY_MODEL_2710a7e4d379479abcdd1db3481815ab",
       "value": false
      }
     },
     "3e76f218a02a48e0b45187e1dc12126b": {
      "model_module": "@jupyter-widgets/base",
      "model_module_version": "1.2.0",
      "model_name": "LayoutModel",
      "state": {}
     },
     "3e8f498333b248efbf64542626e2481e": {
      "model_module": "@jupyter-widgets/controls",
      "model_module_version": "1.5.0",
      "model_name": "DescriptionStyleModel",
      "state": {
       "description_width": ""
      }
     },
     "3eb0a25b4d54474ea1f5b4799484eafc": {
      "model_module": "@jupyter-widgets/controls",
      "model_module_version": "1.5.0",
      "model_name": "DescriptionStyleModel",
      "state": {
       "description_width": ""
      }
     },
     "3ebf76fe53b2413d85757e2db3487ba5": {
      "model_module": "@jupyter-widgets/controls",
      "model_module_version": "1.5.0",
      "model_name": "DescriptionStyleModel",
      "state": {
       "description_width": ""
      }
     },
     "3ec154de8d6c4ebfacca727b78fab9b5": {
      "model_module": "@jupyter-widgets/controls",
      "model_module_version": "1.5.0",
      "model_name": "CheckboxModel",
      "state": {
       "description": "attendee_lvp_camp",
       "disabled": false,
       "layout": "IPY_MODEL_c1f4720476a44966b03f1581c3f85cd6",
       "style": "IPY_MODEL_ac23e0a3935b4c8a8b3eb83dae8e2690",
       "value": false
      }
     },
     "3ed404ca99254590844a7beec8b57a38": {
      "model_module": "@jupyter-widgets/controls",
      "model_module_version": "1.5.0",
      "model_name": "DescriptionStyleModel",
      "state": {
       "description_width": ""
      }
     },
     "3eea75211c514c9680b4ca3919c85713": {
      "model_module": "@jupyter-widgets/controls",
      "model_module_version": "1.5.0",
      "model_name": "DescriptionStyleModel",
      "state": {
       "description_width": ""
      }
     },
     "3f4a88a6c36c4267bce1c5cd2883cd74": {
      "model_module": "@jupyter-widgets/controls",
      "model_module_version": "1.5.0",
      "model_name": "CheckboxModel",
      "state": {
       "description": "spring_withdrawn_hours",
       "disabled": false,
       "layout": "IPY_MODEL_f8651da5dc6a410688c1ec0f70340490",
       "style": "IPY_MODEL_45f673a3dc644e148e124c817acb5ce4",
       "value": false
      }
     },
     "4070e21423f54dbaa12c93b1418c6950": {
      "model_module": "@jupyter-widgets/base",
      "model_module_version": "1.2.0",
      "model_name": "LayoutModel",
      "state": {}
     },
     "408a51eb2a2c4054a6c556506b46164b": {
      "model_module": "@jupyter-widgets/controls",
      "model_module_version": "1.5.0",
      "model_name": "SliderStyleModel",
      "state": {
       "description_width": ""
      }
     },
     "40a3163bfcbc42f5b205795e07e09009": {
      "model_module": "@jupyter-widgets/base",
      "model_module_version": "1.2.0",
      "model_name": "LayoutModel",
      "state": {}
     },
     "4109818a0d4647d4827861957a3f75f0": {
      "model_module": "@jupyter-widgets/base",
      "model_module_version": "1.2.0",
      "model_name": "LayoutModel",
      "state": {}
     },
     "4123d4fe7cb54da99ee92ddc7cc3bfce": {
      "model_module": "@jupyter-widgets/base",
      "model_module_version": "1.2.0",
      "model_name": "LayoutModel",
      "state": {}
     },
     "421d889d13d84c3fb36432704cf24047": {
      "model_module": "@jupyter-widgets/controls",
      "model_module_version": "1.5.0",
      "model_name": "CheckboxModel",
      "state": {
       "description": "city_mid",
       "disabled": false,
       "layout": "IPY_MODEL_a58e5e708a014f29983b452ef1bc19d3",
       "style": "IPY_MODEL_5c77b66de51b4d988ea225605793ac55",
       "value": false
      }
     },
     "4234caf157cb469c9270d1dcb2563f55": {
      "model_module": "@jupyter-widgets/controls",
      "model_module_version": "1.5.0",
      "model_name": "CheckboxModel",
      "state": {
       "description": "last_sch_proprietorship",
       "disabled": false,
       "layout": "IPY_MODEL_263e06e296f5494094e6b8a6f5c36d38",
       "style": "IPY_MODEL_3095d5129e0241c4aebf659496c9f5b4",
       "value": false
      }
     },
     "42917b5880364cd08337741a847311e3": {
      "model_module": "@jupyter-widgets/controls",
      "model_module_version": "1.5.0",
      "model_name": "DescriptionStyleModel",
      "state": {
       "description_width": ""
      }
     },
     "436c953a6cfd482b8ab95793059f34d3": {
      "model_module": "@jupyter-widgets/controls",
      "model_module_version": "1.5.0",
      "model_name": "CheckboxModel",
      "state": {
       "description": "rural_remote",
       "disabled": false,
       "layout": "IPY_MODEL_e1d24433464444efb949248900c7231e",
       "style": "IPY_MODEL_8804d34e89dc4f30bf3b247ec4921cc2",
       "value": false
      }
     },
     "43cc77891d204bf29a668c0061658f2f": {
      "model_module": "@jupyter-widgets/controls",
      "model_module_version": "1.5.0",
      "model_name": "CheckboxModel",
      "state": {
       "description": "vcea_bioe",
       "disabled": false,
       "layout": "IPY_MODEL_4c336b6e02a84863a237afbaa866b200",
       "style": "IPY_MODEL_890ac8e60dc442e0aa682effeff262c9",
       "value": false
      }
     },
     "43df3c4868214779a59aa94aa2b2c7f6": {
      "model_module": "@jupyter-widgets/base",
      "model_module_version": "1.2.0",
      "model_name": "LayoutModel",
      "state": {}
     },
     "4448ffa3297f4bbabb43d44c7c838f63": {
      "model_module": "@jupyter-widgets/base",
      "model_module_version": "1.2.0",
      "model_name": "LayoutModel",
      "state": {}
     },
     "446de71e48da434185f640c8491fc2b5": {
      "model_module": "@jupyter-widgets/base",
      "model_module_version": "1.2.0",
      "model_name": "LayoutModel",
      "state": {
       "flex_flow": "row wrap"
      }
     },
     "44d5a72a36a9449ca07ccf08536d4746": {
      "model_module": "@jupyter-widgets/controls",
      "model_module_version": "1.5.0",
      "model_name": "DescriptionStyleModel",
      "state": {
       "description_width": ""
      }
     },
     "459ac23f4a884068af87319d2f54a91b": {
      "model_module": "@jupyter-widgets/base",
      "model_module_version": "1.2.0",
      "model_name": "LayoutModel",
      "state": {}
     },
     "45acdf6864874b9795fd62667846d3dd": {
      "model_module": "@jupyter-widgets/controls",
      "model_module_version": "1.5.0",
      "model_name": "CheckboxModel",
      "state": {
       "description": "fall_lab_contact_hrs",
       "disabled": false,
       "layout": "IPY_MODEL_dfd054dd10b046998fe7c2d6c52b4e5c",
       "style": "IPY_MODEL_08ee8621a82b428593864c1af4bb14dc",
       "value": false
      }
     },
     "45aef796e52e4a04be8d919c4cedaa56": {
      "model_module": "@jupyter-widgets/controls",
      "model_module_version": "1.5.0",
      "model_name": "DescriptionStyleModel",
      "state": {
       "description_width": ""
      }
     },
     "45e97c05117e4c1e864215740a4a39ad": {
      "model_module": "@jupyter-widgets/base",
      "model_module_version": "1.2.0",
      "model_name": "LayoutModel",
      "state": {}
     },
     "45f673a3dc644e148e124c817acb5ce4": {
      "model_module": "@jupyter-widgets/controls",
      "model_module_version": "1.5.0",
      "model_name": "DescriptionStyleModel",
      "state": {
       "description_width": ""
      }
     },
     "462a6e61a0494524a7f3535d048b0af0": {
      "model_module": "@jupyter-widgets/controls",
      "model_module_version": "1.5.0",
      "model_name": "CheckboxModel",
      "state": {
       "description": "fall_lec_contact_hrs",
       "disabled": false,
       "layout": "IPY_MODEL_d3c9ccd7feb344febb3821d03fb3a762",
       "style": "IPY_MODEL_ff99d6a767a340249d46851b395aa62b",
       "value": false
      }
     },
     "4631d403ebc54bfdb791aa689891ab10": {
      "model_module": "@jupyter-widgets/controls",
      "model_module_version": "1.5.0",
      "model_name": "CheckboxModel",
      "state": {
       "description": "rural_fringe",
       "disabled": false,
       "layout": "IPY_MODEL_09058d39287a49e6b2f5b151df897cfa",
       "style": "IPY_MODEL_a145db8e6ada49f9a1fbaffc9b7b0dd9",
       "value": false
      }
     },
     "4640bf6115544407b5b47163358a618a": {
      "model_module": "@jupyter-widgets/controls",
      "model_module_version": "1.5.0",
      "model_name": "CheckboxModel",
      "state": {
       "description": "pct_ai",
       "disabled": false,
       "layout": "IPY_MODEL_ebd5c3ee349d4bac8ef232046195155f",
       "style": "IPY_MODEL_03e881f3b89b4cb8ade66a132c199023",
       "value": false
      }
     },
     "46827cacb21b4caca6061c6396b9a04e": {
      "model_module": "@jupyter-widgets/controls",
      "model_module_version": "1.5.0",
      "model_name": "CheckboxModel",
      "state": {
       "description": "afl_greek_indicator",
       "disabled": false,
       "layout": "IPY_MODEL_4ee73bd303404ce091424763edca6871",
       "style": "IPY_MODEL_afc6b073fb4941e392613a5a6277bd48",
       "value": false
      }
     },
     "476b358cacaa47dca82b7705c922019c": {
      "model_module": "@jupyter-widgets/controls",
      "model_module_version": "1.5.0",
      "model_name": "DescriptionStyleModel",
      "state": {
       "description_width": ""
      }
     },
     "4814c1ed74ff4c6fa7913441430b1f90": {
      "model_module": "@jupyter-widgets/base",
      "model_module_version": "1.2.0",
      "model_name": "LayoutModel",
      "state": {}
     },
     "48cbfd702f3a4b069720a541a1cfea43": {
      "model_module": "@jupyter-widgets/controls",
      "model_module_version": "1.5.0",
      "model_name": "CheckboxModel",
      "state": {
       "description": "spring_avg_pct_CDF",
       "disabled": false,
       "layout": "IPY_MODEL_32cac0473859465daa529389ff4727d3",
       "style": "IPY_MODEL_ff3c54970e834635a56e25ebaf1e682a",
       "value": false
      }
     },
     "490d5947dbe44b4f8d73a6e4f816f307": {
      "model_module": "@jupyter-widgets/base",
      "model_module_version": "1.2.0",
      "model_name": "LayoutModel",
      "state": {}
     },
     "4935aa8dcec14de4ac84ca9925030364": {
      "model_module": "@jupyter-widgets/controls",
      "model_module_version": "1.5.0",
      "model_name": "VBoxModel",
      "state": {
       "_dom_classes": [
        "widget-interact"
       ],
       "children": [
        "IPY_MODEL_11dbed55f1bc4c2abef07579279d0381",
        "IPY_MODEL_9d131d219e5e42cdae6650eaddb26054",
        "IPY_MODEL_75ed81e02b0c47dd98fd3499fee29567"
       ],
       "layout": "IPY_MODEL_dc0a1005f0dc40e28571ce62d7b6a55a"
      }
     },
     "49a98b89a8bc46089956d91fc9d3ab43": {
      "model_module": "@jupyter-widgets/controls",
      "model_module_version": "1.5.0",
      "model_name": "VBoxModel",
      "state": {
       "_dom_classes": [
        "widget-interact"
       ],
       "children": [
        "IPY_MODEL_6784c912112c41789ff5ddde0cc7ed46",
        "IPY_MODEL_a8bbbbab6ce84b1fb92e07ac4160c196",
        "IPY_MODEL_754ae399883e4daf9f21cee528d456fa"
       ],
       "layout": "IPY_MODEL_13ce86a7a01b404484153b30a405888b"
      }
     },
     "49e2b32b3d514c84a9d44aa5de12c106": {
      "model_module": "@jupyter-widgets/base",
      "model_module_version": "1.2.0",
      "model_name": "LayoutModel",
      "state": {}
     },
     "4b58c2900ad74b9183fd0d579a74997c": {
      "model_module": "@jupyter-widgets/controls",
      "model_module_version": "1.5.0",
      "model_name": "DescriptionStyleModel",
      "state": {
       "description_width": ""
      }
     },
     "4b712b5bc4454bd8b41a849a4ff3ce3c": {
      "model_module": "@jupyter-widgets/output",
      "model_module_version": "1.0.0",
      "model_name": "OutputModel",
      "state": {
       "layout": "IPY_MODEL_138d9aae91224c9b8b4d96514b421454",
       "outputs": [
        {
         "data": {
          "image/png": "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\n",
          "text/plain": "<Figure size 432x288 with 1 Axes>"
         },
         "metadata": {
          "needs_background": "light"
         },
         "output_type": "display_data"
        }
       ]
      }
     },
     "4b93ab6af6f2409a84472af66f915844": {
      "model_module": "@jupyter-widgets/controls",
      "model_module_version": "1.5.0",
      "model_name": "CheckboxModel",
      "state": {
       "description": "attendee_welcome_center",
       "disabled": false,
       "layout": "IPY_MODEL_a63cdddf6ae14236ba095d173adeec21",
       "style": "IPY_MODEL_bf38ce32304f444599a9cf11e001dcbe",
       "value": false
      }
     },
     "4bc6da8fcf0d439b932393b181532f5b": {
      "model_module": "@jupyter-widgets/controls",
      "model_module_version": "1.5.0",
      "model_name": "DescriptionStyleModel",
      "state": {
       "description_width": ""
      }
     },
     "4bfc4c21675849da8772410ca6df2798": {
      "model_module": "@jupyter-widgets/base",
      "model_module_version": "1.2.0",
      "model_name": "LayoutModel",
      "state": {}
     },
     "4c336b6e02a84863a237afbaa866b200": {
      "model_module": "@jupyter-widgets/base",
      "model_module_version": "1.2.0",
      "model_name": "LayoutModel",
      "state": {}
     },
     "4c43c348523d4b34856f44926ab0c42b": {
      "model_module": "@jupyter-widgets/output",
      "model_module_version": "1.0.0",
      "model_name": "OutputModel",
      "state": {
       "layout": "IPY_MODEL_2f0c2b8f045e4741b52b1a02cf1df7d9",
       "outputs": [
        {
         "data": {
          "image/png": "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\n",
          "text/plain": "<Figure size 432x288 with 1 Axes>"
         },
         "metadata": {
          "needs_background": "light"
         },
         "output_type": "display_data"
        }
       ]
      }
     },
     "4c6234dc7bbc46799e55f50352c04566": {
      "model_module": "@jupyter-widgets/controls",
      "model_module_version": "1.5.0",
      "model_name": "ButtonModel",
      "state": {
       "description": "Build Dataset",
       "layout": "IPY_MODEL_c6004356b322407b8c5518c44b7a8c97",
       "style": "IPY_MODEL_85d944c048e2479c9366eb966a109144"
      }
     },
     "4c869e9e6cd24fb2b0c8bcaa17b540c5": {
      "model_module": "@jupyter-widgets/base",
      "model_module_version": "1.2.0",
      "model_name": "LayoutModel",
      "state": {}
     },
     "4c87bd344be643f1ac79a045919254dd": {
      "model_module": "@jupyter-widgets/base",
      "model_module_version": "1.2.0",
      "model_name": "LayoutModel",
      "state": {}
     },
     "4cbabfa858314e238f0f094a74d5c27b": {
      "model_module": "@jupyter-widgets/controls",
      "model_module_version": "1.5.0",
      "model_name": "DescriptionStyleModel",
      "state": {
       "description_width": ""
      }
     },
     "4cbb225c488c47f8994a9eae351d83f5": {
      "model_module": "@jupyter-widgets/controls",
      "model_module_version": "1.5.0",
      "model_name": "CheckboxModel",
      "state": {
       "description": "male",
       "disabled": false,
       "layout": "IPY_MODEL_ad245841d12842738ee84a7e8fe1c7ac",
       "style": "IPY_MODEL_1a86526e7bb74b988b05c1a8f2598eea",
       "value": false
      }
     },
     "4ce5e2c70deb4fd0844e4fd47b24a2db": {
      "model_module": "@jupyter-widgets/controls",
      "model_module_version": "1.5.0",
      "model_name": "VBoxModel",
      "state": {
       "children": [
        "IPY_MODEL_6bb1ed9178174edfba7a8622df35d90e",
        "IPY_MODEL_6fc0dbfb1071476ea1cc9f579fd09997",
        "IPY_MODEL_285f8809ebc34153a1dc1ded108d8d33",
        "IPY_MODEL_cb3c200ca5034c5c91f4a04927ca422d",
        "IPY_MODEL_5774829adef24302aa630a13cb5901c8",
        "IPY_MODEL_ddc02a6d63bf46c9b1f7589e776260b4",
        "IPY_MODEL_4640bf6115544407b5b47163358a618a",
        "IPY_MODEL_1005629b4d0f4adfa353156654a65344",
        "IPY_MODEL_e6f6f22cd2d340e4a4fd4112447dd3d2",
        "IPY_MODEL_2f7083624ade48bf8fd507329058bc4e",
        "IPY_MODEL_7b7b0c661eb44563bb49933ddc691933",
        "IPY_MODEL_394cc07d70694106b8c5c71575f2c56b",
        "IPY_MODEL_b61c1e18676644b2aae59cf7db6b2431"
       ],
       "layout": "IPY_MODEL_0a54dcdd6cf54fe5a6108350e52137ad"
      }
     },
     "4ceb3b5464824a25a4c819999dfcd7eb": {
      "model_module": "@jupyter-widgets/controls",
      "model_module_version": "1.5.0",
      "model_name": "DescriptionStyleModel",
      "state": {
       "description_width": ""
      }
     },
     "4dbaf71ec58d4b1e9a492b048b42f0e9": {
      "model_module": "@jupyter-widgets/controls",
      "model_module_version": "1.5.0",
      "model_name": "DescriptionStyleModel",
      "state": {
       "description_width": ""
      }
     },
     "4e7c8df6ddd0457cb36dfb267c115264": {
      "model_module": "@jupyter-widgets/base",
      "model_module_version": "1.2.0",
      "model_name": "LayoutModel",
      "state": {}
     },
     "4ee73bd303404ce091424763edca6871": {
      "model_module": "@jupyter-widgets/base",
      "model_module_version": "1.2.0",
      "model_name": "LayoutModel",
      "state": {}
     },
     "50148729cfb740fbb7b0d39de64dc8ff": {
      "model_module": "@jupyter-widgets/base",
      "model_module_version": "1.2.0",
      "model_name": "LayoutModel",
      "state": {}
     },
     "50ddb815111e496584a122df09918034": {
      "model_module": "@jupyter-widgets/base",
      "model_module_version": "1.2.0",
      "model_name": "LayoutModel",
      "state": {}
     },
     "510ea07d6575427aa7ef0cc31a845304": {
      "model_module": "@jupyter-widgets/controls",
      "model_module_version": "1.5.0",
      "model_name": "SliderStyleModel",
      "state": {
       "description_width": ""
      }
     },
     "512bbdcbfbee41bd8a7ce23ad10a8b29": {
      "model_module": "@jupyter-widgets/controls",
      "model_module_version": "1.5.0",
      "model_name": "DescriptionStyleModel",
      "state": {
       "description_width": ""
      }
     },
     "52482e5778ce43ecb9491261d3072849": {
      "model_module": "@jupyter-widgets/controls",
      "model_module_version": "1.5.0",
      "model_name": "CheckboxModel",
      "state": {
       "description": "attendee_cashe",
       "disabled": false,
       "layout": "IPY_MODEL_2cd97f9108724ded8bedd9a21e79186a",
       "style": "IPY_MODEL_7f793aac6039433da07db174e8df2a73",
       "value": false
      }
     },
     "529ae8a734a9485a9e23705b852c139e": {
      "model_module": "@jupyter-widgets/controls",
      "model_module_version": "1.5.0",
      "model_name": "CheckboxModel",
      "state": {
       "description": "AD_DTA",
       "disabled": false,
       "layout": "IPY_MODEL_73b57af6d8184aa2bdcf812c36ad622d",
       "style": "IPY_MODEL_d31a013c372c4443ba3abdaa6ebb35f0",
       "value": false
      }
     },
     "52a95cf3926847aa993efd26277fce9c": {
      "model_module": "@jupyter-widgets/controls",
      "model_module_version": "1.5.0",
      "model_name": "DropdownModel",
      "state": {
       "_options_labels": [
        "Pullman",
        "Tri-Cities",
        "Vancouver"
       ],
       "description": "Campus:",
       "index": 0,
       "layout": "IPY_MODEL_43df3c4868214779a59aa94aa2b2c7f6",
       "style": "IPY_MODEL_832d846b8c5c4ba39a4274a641ad61fd"
      }
     },
     "52b6f72946a34b82ab7e65e728be7613": {
      "model_module": "@jupyter-widgets/base",
      "model_module_version": "1.2.0",
      "model_name": "LayoutModel",
      "state": {}
     },
     "52d9b8cf081a41bbab81db591e243ca5": {
      "model_module": "@jupyter-widgets/base",
      "model_module_version": "1.2.0",
      "model_name": "LayoutModel",
      "state": {}
     },
     "534219cd57b24b728f996617f3946f5a": {
      "model_module": "@jupyter-widgets/base",
      "model_module_version": "1.2.0",
      "model_name": "LayoutModel",
      "state": {}
     },
     "543f6316d6a74c9a9a62775f1c7d707c": {
      "model_module": "@jupyter-widgets/controls",
      "model_module_version": "1.5.0",
      "model_name": "DescriptionStyleModel",
      "state": {
       "description_width": ""
      }
     },
     "547ae91c28a34909a1216e88f3345b47": {
      "model_module": "@jupyter-widgets/controls",
      "model_module_version": "1.5.0",
      "model_name": "DescriptionStyleModel",
      "state": {
       "description_width": ""
      }
     },
     "56891fce42484ac7a364406bfe344e3c": {
      "model_module": "@jupyter-widgets/base",
      "model_module_version": "1.2.0",
      "model_name": "LayoutModel",
      "state": {}
     },
     "56ae49141e764261a9f1b93431206226": {
      "model_module": "@jupyter-widgets/controls",
      "model_module_version": "1.5.0",
      "model_name": "CheckboxModel",
      "state": {
       "description": "attendee_experience",
       "disabled": false,
       "layout": "IPY_MODEL_cb23a4fdf9c441468a7dcbcd3a817441",
       "style": "IPY_MODEL_885d27b1218b466a967b8e64a8fef516",
       "value": false
      }
     },
     "5774829adef24302aa630a13cb5901c8": {
      "model_module": "@jupyter-widgets/controls",
      "model_module_version": "1.5.0",
      "model_name": "CheckboxModel",
      "state": {
       "description": "educ_rate",
       "disabled": false,
       "layout": "IPY_MODEL_490d5947dbe44b4f8d73a6e4f816f307",
       "style": "IPY_MODEL_764a2034e300492d85f5d99afbe9e313",
       "value": false
      }
     },
     "57b0bcd5e1d94bd792c83b7bf8e68e32": {
      "model_module": "@jupyter-widgets/base",
      "model_module_version": "1.2.0",
      "model_name": "LayoutModel",
      "state": {}
     },
     "58037c87e8ee4bceb5776e22f4c39879": {
      "model_module": "@jupyter-widgets/controls",
      "model_module_version": "1.5.0",
      "model_name": "CheckboxModel",
      "state": {
       "description": "cas_crim",
       "disabled": false,
       "layout": "IPY_MODEL_312c1ac480ef44b6977899c709805630",
       "style": "IPY_MODEL_0b9ca6905567487bb7e51583d2ba7bd2",
       "value": false
      }
     },
     "587a700fef1c4c2c9818bd415bc4434a": {
      "model_module": "@jupyter-widgets/output",
      "model_module_version": "1.0.0",
      "model_name": "OutputModel",
      "state": {
       "layout": "IPY_MODEL_4123d4fe7cb54da99ee92ddc7cc3bfce",
       "outputs": [
        {
         "data": {
          "application/vnd.jupyter.widget-view+json": {
           "model_id": "",
           "version_major": 2,
           "version_minor": 0
          },
          "text/plain": "interactive(children=(Dropdown(description='func_x', options=('emplid', 'enrl_ind', 'acad_year', 'marital_stat…"
         },
         "metadata": {},
         "output_type": "display_data"
        },
        {
         "data": {
          "application/vnd.jupyter.widget-view+json": {
           "model_id": "",
           "version_major": 2,
           "version_minor": 0
          },
          "text/plain": "interactive(children=(Dropdown(description='func_x', options=('emplid', 'enrl_ind', 'acad_year', 'marital_stat…"
         },
         "metadata": {},
         "output_type": "display_data"
        }
       ]
      }
     },
     "5a71cf0542774f368d1e2233288f63f2": {
      "model_module": "@jupyter-widgets/controls",
      "model_module_version": "1.5.0",
      "model_name": "DescriptionStyleModel",
      "state": {
       "description_width": ""
      }
     },
     "5b84a093bbf54197a5a656c0dbd25a57": {
      "model_module": "@jupyter-widgets/controls",
      "model_module_version": "1.5.0",
      "model_name": "CheckboxModel",
      "state": {
       "description": "fall_avg_pct_CDF",
       "disabled": false,
       "layout": "IPY_MODEL_1d62660ec89047e8965b0eec31b28492",
       "style": "IPY_MODEL_2f82cf66a34f479c9eed815344f33cb7",
       "value": false
      }
     },
     "5c77b66de51b4d988ea225605793ac55": {
      "model_module": "@jupyter-widgets/controls",
      "model_module_version": "1.5.0",
      "model_name": "DescriptionStyleModel",
      "state": {
       "description_width": ""
      }
     },
     "5cdd0c856a3042b0b6de8933c4aec0c3": {
      "model_module": "@jupyter-widgets/output",
      "model_module_version": "1.0.0",
      "model_name": "OutputModel",
      "state": {
       "layout": "IPY_MODEL_da28ac71b6d143af99b8ed40e772c0fa",
       "outputs": [
        {
         "data": {
          "image/png": "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\n",
          "text/plain": "<Figure size 432x288 with 1 Axes>"
         },
         "metadata": {
          "needs_background": "light"
         },
         "output_type": "display_data"
        }
       ]
      }
     },
     "5d6a91acb1ef4e6c85b0b74a0ecb3d21": {
      "model_module": "@jupyter-widgets/base",
      "model_module_version": "1.2.0",
      "model_name": "LayoutModel",
      "state": {}
     },
     "5dee7d92ac664bc2adb52a379292070b": {
      "model_module": "@jupyter-widgets/controls",
      "model_module_version": "1.5.0",
      "model_name": "DescriptionStyleModel",
      "state": {
       "description_width": ""
      }
     },
     "5ef2c35dca604d2d98d3723aec2d3e2f": {
      "model_module": "@jupyter-widgets/base",
      "model_module_version": "1.2.0",
      "model_name": "LayoutModel",
      "state": {}
     },
     "5fa7a9c637044a56938b5b507fa54d6f": {
      "model_module": "@jupyter-widgets/controls",
      "model_module_version": "1.5.0",
      "model_name": "DropdownModel",
      "state": {
       "_options_labels": [
        "emplid",
        "enrl_ind",
        "acad_year",
        "marital_status"
       ],
       "description": "func_x",
       "index": 2,
       "layout": "IPY_MODEL_d71df94e716a4c72895436da65eb8e7d",
       "style": "IPY_MODEL_86b5279dd3d64948899a097ff4208666"
      }
     },
     "5fe5017bd5c441889bf7ee1ed82c9537": {
      "model_module": "@jupyter-widgets/base",
      "model_module_version": "1.2.0",
      "model_name": "LayoutModel",
      "state": {}
     },
     "600a131cfaf04ef4846f8fe4a5f3e8d7": {
      "model_module": "@jupyter-widgets/controls",
      "model_module_version": "1.5.0",
      "model_name": "DescriptionStyleModel",
      "state": {
       "description_width": ""
      }
     },
     "609d05a96f414bfeb8f715ee00ba6f3b": {
      "model_module": "@jupyter-widgets/controls",
      "model_module_version": "1.5.0",
      "model_name": "CheckboxModel",
      "state": {
       "description": "suburb_large",
       "disabled": false,
       "layout": "IPY_MODEL_3275028e99034615ad351f8512139ee6",
       "style": "IPY_MODEL_76949d7fc5be40cba82389263687f05b",
       "value": false
      }
     },
     "60ebff624c824f6da8ffe2ed3dbf2c91": {
      "model_module": "@jupyter-widgets/controls",
      "model_module_version": "1.5.0",
      "model_name": "DescriptionStyleModel",
      "state": {
       "description_width": ""
      }
     },
     "60fe3e649ab14f639a6e681c426939d9": {
      "model_module": "@jupyter-widgets/controls",
      "model_module_version": "1.5.0",
      "model_name": "CheckboxModel",
      "state": {
       "description": "fed_efc",
       "disabled": false,
       "layout": "IPY_MODEL_6495eb5b80f94c738b85e2f3ebddeaec",
       "style": "IPY_MODEL_31b6e23c81b94664b5602c70d4a67eaa",
       "value": false
      }
     },
     "610f596070d64a308c3f65d5c2bde37b": {
      "model_module": "@jupyter-widgets/controls",
      "model_module_version": "1.5.0",
      "model_name": "DescriptionStyleModel",
      "state": {
       "description_width": ""
      }
     },
     "617b874a25b54ab98a8757e3e83b6857": {
      "model_module": "@jupyter-widgets/controls",
      "model_module_version": "1.5.0",
      "model_name": "CheckboxModel",
      "state": {
       "description": "IB",
       "disabled": false,
       "layout": "IPY_MODEL_babc161e82854808b9b49ac1a44956d2",
       "style": "IPY_MODEL_d895201446bf405ca651cbe9e4733c2f",
       "value": false
      }
     },
     "61b2a7fb53e7446180abd9a468edd03d": {
      "model_module": "@jupyter-widgets/controls",
      "model_module_version": "1.5.0",
      "model_name": "DescriptionStyleModel",
      "state": {
       "description_width": ""
      }
     },
     "621b479ce0b24ba1897a938d2bb28fb2": {
      "model_module": "@jupyter-widgets/base",
      "model_module_version": "1.2.0",
      "model_name": "LayoutModel",
      "state": {}
     },
     "63a3ad0d13584efda8c51ceec1785ca0": {
      "model_module": "@jupyter-widgets/controls",
      "model_module_version": "1.5.0",
      "model_name": "CheckboxModel",
      "state": {
       "description": "total_spring_contact_hrs",
       "disabled": false,
       "layout": "IPY_MODEL_bc79987e12d34587b6f37e90245f9700",
       "style": "IPY_MODEL_e8574b15a31c48b9a9fcf8d8f8fe03ad",
       "value": false
      }
     },
     "641d4859927f4a5785e3fec8b699a09b": {
      "model_module": "@jupyter-widgets/base",
      "model_module_version": "1.2.0",
      "model_name": "LayoutModel",
      "state": {}
     },
     "64238c3ca38b4ad6a8791bb45515df2c": {
      "model_module": "@jupyter-widgets/base",
      "model_module_version": "1.2.0",
      "model_name": "LayoutModel",
      "state": {
       "flex_flow": "row wrap"
      }
     },
     "6495eb5b80f94c738b85e2f3ebddeaec": {
      "model_module": "@jupyter-widgets/base",
      "model_module_version": "1.2.0",
      "model_name": "LayoutModel",
      "state": {}
     },
     "6519b66c828c448a882dac0c8ba7129a": {
      "model_module": "@jupyter-widgets/controls",
      "model_module_version": "1.5.0",
      "model_name": "CheckboxModel",
      "state": {
       "description": "cas_chem",
       "disabled": false,
       "layout": "IPY_MODEL_0ac2576063254b64964173de236a6e2e",
       "style": "IPY_MODEL_0598cd1d235948a9b739ec475140673f",
       "value": false
      }
     },
     "664713cd8c394a12a7e53f8505b20a22": {
      "model_module": "@jupyter-widgets/controls",
      "model_module_version": "1.5.0",
      "model_name": "VBoxModel",
      "state": {
       "children": [
        "IPY_MODEL_250079fb03b548e681e00ed6dd7eff60",
        "IPY_MODEL_be200d31157b4c15b6a835b623922f21"
       ],
       "layout": "IPY_MODEL_c4048c99ce624f0287957d8767943b6b"
      }
     },
     "66bbe7a26ccd425abb445f77285be1c5": {
      "model_module": "@jupyter-widgets/controls",
      "model_module_version": "1.5.0",
      "model_name": "CheckboxModel",
      "state": {
       "description": "town_remote",
       "disabled": false,
       "layout": "IPY_MODEL_3e76f218a02a48e0b45187e1dc12126b",
       "style": "IPY_MODEL_32d40e104d06477697ecfb5b643354be",
       "value": false
      }
     },
     "66ca08b25de6441cb98dd7623bef02c9": {
      "model_module": "@jupyter-widgets/controls",
      "model_module_version": "1.5.0",
      "model_name": "CheckboxModel",
      "state": {
       "description": "underrep_minority",
       "disabled": false,
       "layout": "IPY_MODEL_6bea0e809330475dbf70822f70a88247",
       "style": "IPY_MODEL_d14bf0874251472998630e30b1d98c52",
       "value": false
      }
     },
     "66f386a3f11146218544c918f3811fd0": {
      "model_module": "@jupyter-widgets/base",
      "model_module_version": "1.2.0",
      "model_name": "LayoutModel",
      "state": {}
     },
     "67282082c6dc45f881badf2b93ec1560": {
      "model_module": "@jupyter-widgets/base",
      "model_module_version": "1.2.0",
      "model_name": "LayoutModel",
      "state": {}
     },
     "6784c912112c41789ff5ddde0cc7ed46": {
      "model_module": "@jupyter-widgets/controls",
      "model_module_version": "1.5.0",
      "model_name": "DropdownModel",
      "state": {
       "_options_labels": [
        "emplid",
        "enrl_ind",
        "acad_year",
        "marital_status",
        "mother_wsu_flag",
        "parent1_highest_educ_lvl",
        "parent2_highest_educ_lvl"
       ],
       "description": "func_x",
       "index": 1,
       "layout": "IPY_MODEL_dc1dfca6da4c4ec29c848d6baed16282",
       "style": "IPY_MODEL_7f35de98262f4eb9826c0867e678fbb1"
      }
     },
     "6879a379a53e4626a8e4331ec90455da": {
      "model_module": "@jupyter-widgets/controls",
      "model_module_version": "1.5.0",
      "model_name": "CheckboxModel",
      "state": {
       "description": "spring_lab_count",
       "disabled": false,
       "layout": "IPY_MODEL_b5aaa8c8f7c84a7e983705fa8f112234",
       "style": "IPY_MODEL_c24e285d5e684c34ae1cffd6d2a2e10b",
       "value": false
      }
     },
     "68fe9123a0624d06850991d10e15a093": {
      "model_module": "@jupyter-widgets/controls",
      "model_module_version": "1.5.0",
      "model_name": "CheckboxModel",
      "state": {
       "description": "attendee_total_visits",
       "disabled": false,
       "layout": "IPY_MODEL_b53fca1182894ee48d0f9dc6f8c41e91",
       "style": "IPY_MODEL_aca34a97d43e4613a4243c2d94da6521",
       "value": false
      }
     },
     "69a72520eb98476cbbe4cbc550fc6439": {
      "model_module": "@jupyter-widgets/controls",
      "model_module_version": "1.5.0",
      "model_name": "CheckboxModel",
      "state": {
       "description": "attendee_preview",
       "disabled": false,
       "layout": "IPY_MODEL_89c3f13d87624491993df94d603044b6",
       "style": "IPY_MODEL_bf9c5c818ef1440bb041d6e80c81be84",
       "value": false
      }
     },
     "6a2ae891cecc4ceda2403a6d2bbde515": {
      "model_module": "@jupyter-widgets/controls",
      "model_module_version": "1.5.0",
      "model_name": "CheckboxModel",
      "state": {
       "description": "vcea_mech",
       "disabled": false,
       "layout": "IPY_MODEL_7ef18daeffb94dcab51baa098271ee3f",
       "style": "IPY_MODEL_765d1a8bddd648d3877c3a172bdbceed",
       "value": false
      }
     },
     "6a6df2ae1cfe4833830f6d619e926620": {
      "model_module": "@jupyter-widgets/base",
      "model_module_version": "1.2.0",
      "model_name": "LayoutModel",
      "state": {}
     },
     "6a6f0a14232c462188c6357ab5b8ac96": {
      "model_module": "@jupyter-widgets/controls",
      "model_module_version": "1.5.0",
      "model_name": "CheckboxModel",
      "state": {
       "description": "father_wsu_flag",
       "disabled": false,
       "layout": "IPY_MODEL_a67d9de7424d4135a3bd0e347a7913c0",
       "style": "IPY_MODEL_fafb4fda91994a6199590fdedae8c1b5",
       "value": false
      }
     },
     "6a7f4fa72e494e20a108e4fe01a91df1": {
      "model_module": "@jupyter-widgets/controls",
      "model_module_version": "1.5.0",
      "model_name": "DescriptionStyleModel",
      "state": {
       "description_width": ""
      }
     },
     "6a90cf2f84604358a554bf708f7a66f1": {
      "model_module": "@jupyter-widgets/controls",
      "model_module_version": "1.5.0",
      "model_name": "CheckboxModel",
      "state": {
       "description": "fall_avg_pct_CDFW",
       "disabled": false,
       "layout": "IPY_MODEL_c0a14e2bd0974deba0bb993f8e93e97d",
       "style": "IPY_MODEL_9e47124ca346401cb9611b81d46721dc",
       "value": false
      }
     },
     "6aa225903824490eac7990ee2927e98e": {
      "model_module": "@jupyter-widgets/base",
      "model_module_version": "1.2.0",
      "model_name": "LayoutModel",
      "state": {}
     },
     "6accdc3ae7064c53b75bd282c849c5a5": {
      "model_module": "@jupyter-widgets/controls",
      "model_module_version": "1.5.0",
      "model_name": "CheckboxModel",
      "state": {
       "description": "cahnrs_econ",
       "disabled": false,
       "layout": "IPY_MODEL_9247d3234ba64c528a416ecb8806bfb0",
       "style": "IPY_MODEL_7e1f7708bf7b41c689a056c68adadf60",
       "value": false
      }
     },
     "6bb1ed9178174edfba7a8622df35d90e": {
      "model_module": "@jupyter-widgets/controls",
      "model_module_version": "1.5.0",
      "model_name": "CheckboxModel",
      "state": {
       "description": "gini_indx",
       "disabled": false,
       "layout": "IPY_MODEL_25c1386a89b9463aaa4e71fe4052faac",
       "style": "IPY_MODEL_38d79efdb0b24ab787a4b4dd3ffaa970",
       "value": false
      }
     },
     "6bea0e809330475dbf70822f70a88247": {
      "model_module": "@jupyter-widgets/base",
      "model_module_version": "1.2.0",
      "model_name": "LayoutModel",
      "state": {}
     },
     "6cfbc174aaed48b9a3ca3682d332bc95": {
      "model_module": "@jupyter-widgets/controls",
      "model_module_version": "1.5.0",
      "model_name": "ButtonModel",
      "state": {
       "description": "Build Dataset",
       "layout": "IPY_MODEL_92a5e8e67243456f8d8cb82ea5b7d3af",
       "style": "IPY_MODEL_b3b63bd34f764b37b15b68992cd2473c"
      }
     },
     "6d0cb443466f470dba573734769458da": {
      "model_module": "@jupyter-widgets/controls",
      "model_module_version": "1.5.0",
      "model_name": "CheckboxModel",
      "state": {
       "description": "race_asian",
       "disabled": false,
       "layout": "IPY_MODEL_d95399663dbe4c1f81982368fa442f3d",
       "style": "IPY_MODEL_f072a489e204435791c6812189f9eb51",
       "value": false
      }
     },
     "6dac4d9ce6ea40498a9101e62d606086": {
      "model_module": "@jupyter-widgets/controls",
      "model_module_version": "1.5.0",
      "model_name": "VBoxModel",
      "state": {
       "children": [
        "IPY_MODEL_7f23c3e96baa471bbb2383b18ea956d6",
        "IPY_MODEL_6f5980db2715479693c85be35a02b4d8",
        "IPY_MODEL_52482e5778ce43ecb9491261d3072849",
        "IPY_MODEL_74b2fb6f1e274394a3b46d6e85e1166d",
        "IPY_MODEL_56ae49141e764261a9f1b93431206226",
        "IPY_MODEL_e7925b3d3dff454c8b9fd2f15a993c1d",
        "IPY_MODEL_72c64bcb4a5845589e524a17259fc751",
        "IPY_MODEL_3e66782a722b4b909a5a6f1eb233fdfb",
        "IPY_MODEL_ffe895becc1f4a25a2ed12808fba6e88",
        "IPY_MODEL_bf7c32b6ea934ba6a33effc3bb61dcc6",
        "IPY_MODEL_c2db8728229b469899f58c60945bdef8",
        "IPY_MODEL_7bde3232303c44c1ad8ad0be13e1be88",
        "IPY_MODEL_eb436decfb504ec7840aee4794f21e82",
        "IPY_MODEL_960a7af19fd94c3ca6fef50ea40e8845",
        "IPY_MODEL_3ec154de8d6c4ebfacca727b78fab9b5",
        "IPY_MODEL_85216907f9a1421a9ae633a8ab674162",
        "IPY_MODEL_206985b49e9a4f4fb6f7d28b01b67183",
        "IPY_MODEL_69a72520eb98476cbbe4cbc550fc6439",
        "IPY_MODEL_a27162558a7547769ecfe90baf6773c9",
        "IPY_MODEL_0d02a1007b744f988ce0a24d5f7695b7",
        "IPY_MODEL_b8026825bc2c4f0aad91e0699c28fe60",
        "IPY_MODEL_711c33f8ac2c416ba8ba0b8ee1c5cb8d",
        "IPY_MODEL_f7f8e4ef79864ba29b3a187d9065348a",
        "IPY_MODEL_4b93ab6af6f2409a84472af66f915844",
        "IPY_MODEL_c9b7ab7327ef46ff94423c55873e3326",
        "IPY_MODEL_68fe9123a0624d06850991d10e15a093"
       ],
       "layout": "IPY_MODEL_02c190ff4a2044a4bc25e1154ce9e6c7"
      }
     },
     "6db8863be6e7416e92c47383464715c0": {
      "model_module": "@jupyter-widgets/controls",
      "model_module_version": "1.5.0",
      "model_name": "DescriptionStyleModel",
      "state": {
       "description_width": ""
      }
     },
     "6e9ac78272b74223ac9681b47cd03d56": {
      "model_module": "@jupyter-widgets/controls",
      "model_module_version": "1.5.0",
      "model_name": "CheckboxModel",
      "state": {
       "description": "cas_math",
       "disabled": false,
       "layout": "IPY_MODEL_8e8fc2151b6246b9965dccea476a9526",
       "style": "IPY_MODEL_61b2a7fb53e7446180abd9a468edd03d",
       "value": false
      }
     },
     "6eaf688ba2cb4634bb98fa97a407e2fc": {
      "model_module": "@jupyter-widgets/controls",
      "model_module_version": "1.5.0",
      "model_name": "DescriptionStyleModel",
      "state": {
       "description_width": ""
      }
     },
     "6f151512b489470faf9323bf343528d7": {
      "model_module": "@jupyter-widgets/base",
      "model_module_version": "1.2.0",
      "model_name": "LayoutModel",
      "state": {}
     },
     "6f1a27843b104c8aa1fd1c8a6d2de6c9": {
      "model_module": "@jupyter-widgets/controls",
      "model_module_version": "1.5.0",
      "model_name": "CheckboxModel",
      "state": {
       "description": "AICE",
       "disabled": false,
       "layout": "IPY_MODEL_87d7f641f666460cb03b0d6b3f6a1b04",
       "style": "IPY_MODEL_5dee7d92ac664bc2adb52a379292070b",
       "value": false
      }
     },
     "6f5980db2715479693c85be35a02b4d8": {
      "model_module": "@jupyter-widgets/controls",
      "model_module_version": "1.5.0",
      "model_name": "CheckboxModel",
      "state": {
       "description": "attendee_campus_visit",
       "disabled": false,
       "layout": "IPY_MODEL_1138ba9c04ef41f2bcfb2e6fd7bb2aa0",
       "style": "IPY_MODEL_5a71cf0542774f368d1e2233288f63f2",
       "value": false
      }
     },
     "6fc0dbfb1071476ea1cc9f579fd09997": {
      "model_module": "@jupyter-widgets/controls",
      "model_module_version": "1.5.0",
      "model_name": "CheckboxModel",
      "state": {
       "description": "pvrt_rate",
       "disabled": false,
       "layout": "IPY_MODEL_ed104399e9024a288db5a75a1742ec0a",
       "style": "IPY_MODEL_8a96667eda6b45e7a95ae012610b866a",
       "value": false
      }
     },
     "706e15bb33624ade95f3e9f6982b9f78": {
      "model_module": "@jupyter-widgets/controls",
      "model_module_version": "1.5.0",
      "model_name": "DescriptionStyleModel",
      "state": {
       "description_width": ""
      }
     },
     "70eee11b25a5468e8b2e84697b0f8ae3": {
      "model_module": "@jupyter-widgets/controls",
      "model_module_version": "1.5.0",
      "model_name": "ButtonStyleModel",
      "state": {}
     },
     "711c33f8ac2c416ba8ba0b8ee1c5cb8d": {
      "model_module": "@jupyter-widgets/controls",
      "model_module_version": "1.5.0",
      "model_name": "CheckboxModel",
      "state": {
       "description": "attendee_transfer_day",
       "disabled": false,
       "layout": "IPY_MODEL_2d9aca0f495b445caee0806837e68898",
       "style": "IPY_MODEL_7151b9386a5d476b994f7fad958128aa",
       "value": false
      }
     },
     "7151b9386a5d476b994f7fad958128aa": {
      "model_module": "@jupyter-widgets/controls",
      "model_module_version": "1.5.0",
      "model_name": "DescriptionStyleModel",
      "state": {
       "description_width": ""
      }
     },
     "718ff9501aec4173a5f35a67b0a3aca1": {
      "model_module": "@jupyter-widgets/controls",
      "model_module_version": "1.5.0",
      "model_name": "DescriptionStyleModel",
      "state": {
       "description_width": ""
      }
     },
     "7247f8ea01f7435f843b5fb2e26a275f": {
      "model_module": "@jupyter-widgets/base",
      "model_module_version": "1.2.0",
      "model_name": "LayoutModel",
      "state": {}
     },
     "7294aac036fd4cb587a56de868448820": {
      "model_module": "@jupyter-widgets/base",
      "model_module_version": "1.2.0",
      "model_name": "LayoutModel",
      "state": {}
     },
     "72c64bcb4a5845589e524a17259fc751": {
      "model_module": "@jupyter-widgets/controls",
      "model_module_version": "1.5.0",
      "model_name": "CheckboxModel",
      "state": {
       "description": "attendee_fced",
       "disabled": false,
       "layout": "IPY_MODEL_f671725543cc4fd688615c424d610f28",
       "style": "IPY_MODEL_1a54e40041924fb48ba9d22452d83711",
       "value": false
      }
     },
     "72f3a7d8777c4cd2b3f7a2ed6dcd14f3": {
      "model_module": "@jupyter-widgets/controls",
      "model_module_version": "1.5.0",
      "model_name": "CheckboxModel",
      "state": {
       "description": "marital_status",
       "disabled": false,
       "layout": "IPY_MODEL_67282082c6dc45f881badf2b93ec1560",
       "style": "IPY_MODEL_abe8db3e4c3c4e35808c269752a03409",
       "value": true
      }
     },
     "73408016218c4203b0a9f09131face8c": {
      "model_module": "@jupyter-widgets/controls",
      "model_module_version": "1.5.0",
      "model_name": "DescriptionStyleModel",
      "state": {
       "description_width": ""
      }
     },
     "73b57af6d8184aa2bdcf812c36ad622d": {
      "model_module": "@jupyter-widgets/base",
      "model_module_version": "1.2.0",
      "model_name": "LayoutModel",
      "state": {}
     },
     "745eb946a93f42759e34d97279171428": {
      "model_module": "@jupyter-widgets/controls",
      "model_module_version": "1.5.0",
      "model_name": "CheckboxModel",
      "state": {
       "description": "age",
       "disabled": false,
       "layout": "IPY_MODEL_1fc3bbc4f7a142b28107aae97ed4c168",
       "style": "IPY_MODEL_0468df07e80c4cbd94ced6817aa1e53b",
       "value": false
      }
     },
     "74b2fb6f1e274394a3b46d6e85e1166d": {
      "model_module": "@jupyter-widgets/controls",
      "model_module_version": "1.5.0",
      "model_name": "CheckboxModel",
      "state": {
       "description": "attendee_destination",
       "disabled": false,
       "layout": "IPY_MODEL_4bfc4c21675849da8772410ca6df2798",
       "style": "IPY_MODEL_8620d267a1b0454fae5546e42f3a3187",
       "value": false
      }
     },
     "754ae399883e4daf9f21cee528d456fa": {
      "model_module": "@jupyter-widgets/output",
      "model_module_version": "1.0.0",
      "model_name": "OutputModel",
      "state": {
       "layout": "IPY_MODEL_a9f3f42a37e842cb81314ed94be7aca2",
       "outputs": [
        {
         "data": {
          "image/png": "iVBORw0KGgoAAAANSUhEUgAAAYQAAAEICAYAAABfz4NwAAAABHNCSVQICAgIfAhkiAAAAAlwSFlzAAALEgAACxIB0t1+/AAAADh0RVh0U29mdHdhcmUAbWF0cGxvdGxpYiB2ZXJzaW9uMy4xLjMsIGh0dHA6Ly9tYXRwbG90bGliLm9yZy+AADFEAAAYyUlEQVR4nO3dfbRddX3n8fdnEkF8QB5yYZiEmrRGa6BiTWTSWjtq7BAda3AWdMWqyTjMRCl1nM6DktopdNqsJbarWlYLlhGaYCkxQ2nJtIPKglo6Iw9z8SkETL2KhlsCuQoipQVJ/M4f53eXh5tzc0/uU57er7XOOnt/9/7t8/tdwv6cvfc5Z6eqkCTpnxzsDkiSDg0GgiQJMBAkSY2BIEkCDARJUmMgSJIAA0GS1BgIOiQl+fuuxw+S/GPX/DuSXJrkmTb/3SSfT/JTPbazqLW/oseySvKSNn1pmz+/a/ncVlvY5jcm+a02vbAt+8sx2/zjJJd2zb8wye8m+WaSJ5PsTHJDkrPHGffodkfH+kiSv0jyc+Os/7kkjyU5tqt2c1f7Z5J8v2v+4/38bXR0MhB0SKqqF4w+gJ3Az3fVrmurfaotnwf8FfA/e2xqDfAYsLp7pzmOR4H/nmTOAXR1eZLX9FrQXu824CeAtwDHAy8HNgNvnmC7J7SxnQXcAvxZkn8zZvsLgdcCBbx1tF5Vb+r6210HfKTrb/ferk0cyN9GRwEDQYe9qtpDZ8c3P8nAmMVrgF8DngF+foJNfRr4PvDOA3j5jwC/Nc6ydwELgHOr6t6q2ltVT1bVDVV1aT8br6qHq+r3gEuBy5J0/z+7BrgT2AisPYA+d7fv92+jo4CBoMNekmPo7Ny+Q+cd72j9tXR2yJuBLW2d/SngvwGXJHlOny//B8BLk7yxx7I3Ap+pqif73Nb+3AicArysq7aGThBeB5yT5NR+NzaJv42OAgaCDme/kOS7wD8C/x44rx0tjFoL3FxVjwF/ArwpySn722BVbQVGgH/XZx+eAjbQ+yhhHvDw6EySV7brHd9LsqPP7Y96qD2f1Lb1M8CLgS1VdQ/wdeAXD2B7B/y30ZHPQNDhbEtVnQCcCtwLLB1dkOQ44Hw6756pqjvoXIvoZ6f5a8CHgOf22Y//AZyaZOxpl+8Ap43OVNWXWn//NXCg5+znt+dH2/Na4LNV9e02/yf0edpoin8bHcEMBB322k7xPcClSUZ3wG+jcxH3iiQPJ3mYzk51wlMjVXULMAT8Up+v/wzwG8BvAuladCvwL5M8v9+x7MfbgN3AjrZD/wXgX3SN7VeAs5Kc1ee2JvW30ZHNQNARoaq+CnwG+EArrQWuofMJn1e2x2uAVyb5iT42+aGubfXjk3Te9a/sql0L7KLzCaEzk8xJ8lxgWb8bTXJqkl8GLgHWV9UPgHOBvcASfji2lwN/Q3879an+bXSEMhB0JPltYF2SFwMrgI+1T+mMPu6h80miCU+tVNX/Be7u94Wrai+dnfZJXbWngNcD9wF/CXwP2AG8ms47/P35bpIngW10PqJ6flVd05atBf6oqnZ2jw/4feAdSeaOt9Ek85ni30ZHrniDHEkSeIQgSWoMBEkSYCBIkhoDQZIEwLifRjjUzZs3rxYuXHiwuyFJh5V77rnn21U19je/gMM4EBYuXMjg4ODB7oYkHVaSfGu8ZZ4ykiQBBoIkqTEQJEmAgSBJaiYMhCTXJNmd5N4x9fcl2ZFke5KPdNXXJxlqy87pqi9Nsq0tuzxJWv3YJJ9q9btG718rSZpd/RwhbOTZv+BIktcDq4BXVNUZwO+0+hJgNXBGa3NF1/1prwTWAYvbY3SbFwCPVdVLgI8Cl01hPJKkSZowEKrqdn54U45RFwIfrqqn2zq7W30VsLmqnq6qB+j8pvzZ7Tfqj6+qO6rza3rX0vkJ39E2m9r0DcCK0aMHSdLsmew1hJcCr22neP46yatbfT7wYNd6w602v02PrT+rTbv94ePAyb1eNMm6JINJBkdGRibZdUlSL5MNhLnAicBy4L8CW9q7+l7v7Gs/dSZY9uxi1VVVtayqlg0M9PyinSRpkib7TeVh4MZ2+ufuJD+gc0PxYeD0rvUW0Lk5+HCbHlunq81wu7HHi9j3FJUkHXX+8MVLe9bf8617ZuT1JnuE8OfAGwCSvBQ4Bvg2sBVY3T45tIjOxeO7q2oX8ESS5e1IYg1wU9vWVn54l6bzgNvKu/ZI0qyb8AghyfXA64B5SYbp3CbwGuCa9lHU7wNr2058e5ItdG4ZuAe4qN1aEDoXojcCxwE3twfA1cAnkwzROTJYPT1DkyQdiAkDoarePs6id46z/gZgQ4/6IHBmj/pTwPkT9UOSNLP8prIkCTAQJEmNgSBJAgwESVJjIEiSAANBktQYCJIkwECQJDUGgiQJMBAkSY2BIEkCDARJUmMgSJIAA0GS1BgIkiTAQJAkNQaCJAnoIxCSXJNkd7td5thl/yVJJZnXVVufZCjJjiTndNWXJtnWll3e7q1Mu//yp1r9riQLp2dokqQD0c8RwkZg5dhiktOBnwN2dtWW0Lkn8hmtzRVJ5rTFVwLrgMXtMbrNC4DHquolwEeByyYzEEnS1EwYCFV1O/Boj0UfBT4AVFdtFbC5qp6uqgeAIeDsJKcBx1fVHVVVwLXAuV1tNrXpG4AVo0cPkqTZM6lrCEneCvxdVX15zKL5wINd88OtNr9Nj60/q01V7QEeB04e53XXJRlMMjgyMjKZrkuSxnHAgZDkecCHgF/vtbhHrfZT31+bfYtVV1XVsqpaNjAw0E93JUl9mswRwo8Bi4AvJ/kmsAD4QpJ/Sued/+ld6y4AHmr1BT3qdLdJMhd4Eb1PUUmSZtABB0JVbauqU6pqYVUtpLNDf1VVPQxsBVa3Tw4tonPx+O6q2gU8kWR5uz6wBripbXIrsLZNnwfc1q4zSJJmUT8fO70euAN4WZLhJBeMt25VbQe2APcBnwYuqqq9bfGFwCfoXGj+OnBzq18NnJxkCPhPwMWTHIskaQrmTrRCVb19guULx8xvADb0WG8QOLNH/Sng/In6IUmaWX5TWZIEGAiSpMZAkCQBBoIkqTEQJEmAgSBJagwESRJgIEiSGgNBkgQYCJKkxkCQJAEGgiSpMRAkSYCBIElqDARJEmAgSJIaA0GSBPR3C81rkuxOcm9X7beTfDXJV5L8WZITupatTzKUZEeSc7rqS5Nsa8sub/dWpt1/+VOtfleShdM7RElSP/o5QtgIrBxTuwU4s6peAfwtsB4gyRJgNXBGa3NFkjmtzZXAOmBxe4xu8wLgsap6CfBR4LLJDkaSNHkTBkJV3Q48Oqb22ara02bvBBa06VXA5qp6uqoeAIaAs5OcBhxfVXdUVQHXAud2tdnUpm8AVowePUiSZs90XEP4t8DNbXo+8GDXsuFWm9+mx9af1aaFzOPAyb1eKMm6JINJBkdGRqah65KkUVMKhCQfAvYA142WeqxW+6nvr82+xaqrqmpZVS0bGBg40O5KkvZj0oGQZC3wFuAd7TQQdN75n9612gLgoVZf0KP+rDZJ5gIvYswpKknSzJtUICRZCXwQeGtV/UPXoq3A6vbJoUV0Lh7fXVW7gCeSLG/XB9YAN3W1WdumzwNu6woYSdIsmTvRCkmuB14HzEsyDFxC51NFxwK3tOu/d1bVe6tqe5ItwH10TiVdVFV726YupPOJpePoXHMYve5wNfDJJEN0jgxWT8/QJEkHYsJAqKq39yhfvZ/1NwAbetQHgTN71J8Czp+oH5KkmeU3lSVJgIEgSWoMBEkSYCBIkhoDQZIEGAiSpMZAkCQBBoIkqTEQJEmAgSBJagwESRJgIEiSGgNBkgQYCJKkxkCQJAEGgiSpMRAkSUAfgZDkmiS7k9zbVTspyS1JvtaeT+xatj7JUJIdSc7pqi9Nsq0tu7zdW5l2/+VPtfpdSRZO7xAlSf3o5whhI7ByTO1i4NaqWgzc2uZJsoTOPZHPaG2uSDKntbkSWAcsbo/RbV4APFZVLwE+Clw22cFIkiZvwkCoqtuBR8eUVwGb2vQm4Nyu+uaqerqqHgCGgLOTnAYcX1V3VFUB145pM7qtG4AVo0cPkqTZM9lrCKdW1S6A9nxKq88HHuxab7jV5rfpsfVntamqPcDjwMm9XjTJuiSDSQZHRkYm2XVJUi/TfVG51zv72k99f232LVZdVVXLqmrZwMDAJLsoSeplsoHwSDsNRHve3erDwOld6y0AHmr1BT3qz2qTZC7wIvY9RSVJmmGTDYStwNo2vRa4qau+un1yaBGdi8d3t9NKTyRZ3q4PrBnTZnRb5wG3tesMkqRZNHeiFZJcD7wOmJdkGLgE+DCwJckFwE7gfICq2p5kC3AfsAe4qKr2tk1dSOcTS8cBN7cHwNXAJ5MM0TkyWD0tI5MkHZAJA6Gq3j7OohXjrL8B2NCjPgic2aP+FC1QJEkHj99UliQBBoIkqTEQJEmAgSBJagwESRJgIEiSGgNBkgQYCJKkxkCQJAEGgiSpMRAkSYCBIElqDARJEmAgSJIaA0GSBBgIkqTGQJAkAVMMhCS/kmR7knuTXJ/kuUlOSnJLkq+15xO71l+fZCjJjiTndNWXJtnWll3e7rssSZpFkw6EJPOB/wAsq6ozgTl07od8MXBrVS0Gbm3zJFnSlp8BrASuSDKnbe5KYB2wuD1WTrZfkqTJmeopo7nAcUnmAs8DHgJWAZva8k3AuW16FbC5qp6uqgeAIeDsJKcBx1fVHVVVwLVdbSRJs2TSgVBVfwf8DrAT2AU8XlWfBU6tql1tnV3AKa3JfODBrk0Mt9r8Nj22vo8k65IMJhkcGRmZbNclST1M5ZTRiXTe9S8C/hnw/CTv3F+THrXaT33fYtVVVbWsqpYNDAwcaJclSfsxlVNGbwQeqKqRqnoGuBH4aeCRdhqI9ry7rT8MnN7VfgGdU0zDbXpsXZI0i6YSCDuB5Ume1z4VtAK4H9gKrG3rrAVuatNbgdVJjk2yiM7F47vbaaUnkixv21nT1UaSNEvmTrZhVd2V5AbgC8Ae4IvAVcALgC1JLqATGue39bcn2QLc19a/qKr2ts1dCGwEjgNubg9J0iyadCAAVNUlwCVjyk/TOVrotf4GYEOP+iBw5lT6IkmaGr+pLEkCDARJUmMgSJIAA0GS1BgIkiTAQJAkNQaCJAkwECRJjYEgSQIMBElSYyBIkgADQZLUGAiSJMBAkCQ1BoIkCTAQJEmNgSBJAqYYCElOSHJDkq8muT/JTyU5KcktSb7Wnk/sWn99kqEkO5Kc01VfmmRbW3Z5u7eyJGkWTfUI4feAT1fVjwNnAfcDFwO3VtVi4NY2T5IlwGrgDGAlcEWSOW07VwLrgMXtsXKK/ZIkHaBJB0KS44GfBa4GqKrvV9V3gVXAprbaJuDcNr0K2FxVT1fVA8AQcHaS04Djq+qOqirg2q42kqRZMpUjhB8FRoA/SvLFJJ9I8nzg1KraBdCeT2nrzwce7Go/3Grz2/TY+j6SrEsymGRwZGRkCl2XJI01lUCYC7wKuLKqfhJ4knZ6aBy9rgvUfur7FquuqqplVbVsYGDgQPsrSdqPqQTCMDBcVXe1+RvoBMQj7TQQ7Xl31/qnd7VfADzU6gt61CVJs2jSgVBVDwMPJnlZK60A7gO2AmtbbS1wU5veCqxOcmySRXQuHt/dTis9kWR5+3TRmq42kqRZMneK7d8HXJfkGOAbwLvphMyWJBcAO4HzAapqe5ItdEJjD3BRVe1t27kQ2AgcB9zcHpKkWTSlQKiqLwHLeixaMc76G4ANPeqDwJlT6YskaWr8prIkCTAQJEmNgSBJAgwESVJjIEiSAANBktQYCJIkwECQJDUGgiQJMBAkSY2BIEkCDARJUmMgSJIAA0GS1BgIkiTAQJAkNQaCJAmYhkBIMifJF5P8RZs/KcktSb7Wnk/sWnd9kqEkO5Kc01VfmmRbW3Z5u7eyJGkWTccRwvuB+7vmLwZurarFwK1tniRLgNXAGcBK4Iokc1qbK4F1wOL2WDkN/ZIkHYApBUKSBcC/Aj7RVV4FbGrTm4Bzu+qbq+rpqnoAGALOTnIacHxV3VFVBVzb1UaSNEvmTrH9x4APAC/sqp1aVbsAqmpXklNafT5wZ9d6w632TJseW58xf/jipT3r7/nWPTP5spJ0SJv0EUKStwC7q6rfvWiv6wK1n3qv11yXZDDJ4MjISJ8vK0nqx1ROGb0GeGuSbwKbgTck+WPgkXYaiPa8u60/DJze1X4B8FCrL+hR30dVXVVVy6pq2cDAwBS6Lkkaa9KBUFXrq2pBVS2kc7H4tqp6J7AVWNtWWwvc1Ka3AquTHJtkEZ2Lx3e300tPJFnePl20pquNJGmWTPUaQi8fBrYkuQDYCZwPUFXbk2wB7gP2ABdV1d7W5kJgI3AccHN7SJJm0bQEQlV9Dvhcm/4OsGKc9TYAG3rUB4Ezp6MvkqTJ8ZvKkiTAQJAkNQaCJAkwECRJjYEgSQIMBElSYyBIkgADQZLUGAiSJMBAkCQ1BoIkCTAQJEmNgSBJAgwESVJjIEiSAANBktQYCJIkwECQJDWTDoQkpyf5qyT3J9me5P2tflKSW5J8rT2f2NVmfZKhJDuSnNNVX5pkW1t2eZJMbViSpAM1lSOEPcB/rqqXA8uBi5IsAS4Gbq2qxcCtbZ62bDVwBrASuCLJnLatK4F1wOL2WDmFfkmSJmHSgVBVu6rqC236CeB+YD6wCtjUVtsEnNumVwGbq+rpqnoAGALOTnIacHxV3VFVBVzb1UaSNEum5RpCkoXATwJ3AadW1S7ohAZwSlttPvBgV7PhVpvfpsfWe73OuiSDSQZHRkamo+uSpGbKgZDkBcCfAv+xqr63v1V71Go/9X2LVVdV1bKqWjYwMHDgnZUkjWtKgZDkOXTC4LqqurGVH2mngWjPu1t9GDi9q/kC4KFWX9CjLkmaRVP5lFGAq4H7q+p3uxZtBda26bXATV311UmOTbKIzsXju9tppSeSLG/bXNPVRpI0S+ZOoe1rgHcB25J8qdV+FfgwsCXJBcBO4HyAqtqeZAtwH51PKF1UVXtbuwuBjcBxwM3tIUmaRZMOhKr6P/Q+/w+wYpw2G4ANPeqDwJmT7Yskaer8prIkCTAQJEmNgSBJAgwESVJjIEiSAANBktQYCJIkwECQJDUGgiQJMBAkSY2BIEkCDARJUmMgSJIAA0GS1BgIkiTAQJAkNQaCJAk4hAIhycokO5IMJbn4YPdHko42h0QgJJkD/AHwJmAJ8PYkSw5uryTp6HJIBAJwNjBUVd+oqu8Dm4FVB7lPknRUmXuwO9DMBx7smh8G/vnYlZKsA9a12b9PsmOSrzcP+PbY4nuTSW7usNBzzEc4x3x0OOrG/N5kKmN+8XgLDpVA6LUnrn0KVVcBV035xZLBqlo21e0cThzz0cExHx1masyHyimjYeD0rvkFwEMHqS+SdFQ6VALh/wGLkyxKcgywGth6kPskSUeVQ+KUUVXtSfLLwGeAOcA1VbV9Bl9yyqedDkOO+ejgmI8OMzLmVO1zql6SdBQ6VE4ZSZIOMgNBkgQc4YEw0c9hpOPytvwrSV51MPo5nfoY8zvaWL+S5PNJzjoY/ZxO/f7sSZJXJ9mb5LzZ7N9M6GfMSV6X5EtJtif569nu43Tq49/1i5L8ryRfbuN998Ho53RKck2S3UnuHWf59O+/quqIfNC5OP114EeBY4AvA0vGrPNm4GY634NYDtx1sPs9C2P+aeDENv2mo2HMXevdBvxv4LyD3e9Z+O98AnAf8CNt/pSD3e8ZHu+vApe16QHgUeCYg933KY77Z4FXAfeOs3za919H8hFCPz+HsQq4tjruBE5Ictpsd3QaTTjmqvp8VT3WZu+k852Pw1m/P3vyPuBPgd2z2bkZ0s+YfxG4sap2AlTV4TzufsZbwAuTBHgBnUDYM7vdnF5VdTudcYxn2vdfR3Ig9Po5jPmTWOdwcqDjuYDOO4zD2YRjTjIfeBvw8Vns10zq57/zS4ETk3wuyT1J1sxa76ZfP+P9feDldL7Qug14f1X9YHa6d9BM+/7rkPgewgzp5+cw+vrJjMNI3+NJ8no6gfAzM9qjmdfPmD8GfLCq9ubI+L2qfsY8F1gKrACOA+5IcmdV/e1Md24G9DPec4AvAW8Afgy4JcnfVNX3ZrpzB9G077+O5EDo5+cwjrSfzOhrPEleAXwCeFNVfWeW+jZT+hnzMmBzC4N5wJuT7KmqP5+dLk67fv9tf7uqngSeTHI7cBZwOAZCP+N9N/Dh6pxcH0ryAPDjwN2z08WDYtr3X0fyKaN+fg5jK7CmXa1fDjxeVbtmu6PTaMIxJ/kR4EbgXYfpu8WxJhxzVS2qqoVVtRC4AfilwzgMoL9/2zcBr00yN8nz6Px68P2z3M/p0s94d9I5GiLJqcDLgG/Mai9n37Tvv47YI4Qa5+cwkry3Lf84nU+cvBkYAv6BzruMw1afY/514GTgivaOeU8dxr8U2eeYjyj9jLmq7k/yaeArwA+AT1RVz48vHur6/G/8m8DGJNvonEr5YFUd1j+JneR64HXAvCTDwCXAc2Dm9l/+dIUkCTiyTxlJkg6AgSBJAgwESVJjIEiSAANBktQYCJIkwECQJDX/H0wK/Mgn/fNJAAAAAElFTkSuQmCC\n",
          "text/plain": "<Figure size 432x288 with 1 Axes>"
         },
         "metadata": {
          "needs_background": "light"
         },
         "output_type": "display_data"
        }
       ]
      }
     },
     "75a3bdb8ef5640418bd7ff0396374d77": {
      "model_module": "@jupyter-widgets/base",
      "model_module_version": "1.2.0",
      "model_name": "LayoutModel",
      "state": {}
     },
     "75ed81e02b0c47dd98fd3499fee29567": {
      "model_module": "@jupyter-widgets/output",
      "model_module_version": "1.0.0",
      "model_name": "OutputModel",
      "state": {
       "layout": "IPY_MODEL_f1f9017ffd0645fb9a9fed004ccdc1e8",
       "outputs": [
        {
         "data": {
          "image/png": "iVBORw0KGgoAAAANSUhEUgAAAX0AAAEVCAYAAAAM3jVmAAAABHNCSVQICAgIfAhkiAAAAAlwSFlzAAALEgAACxIB0t1+/AAAADh0RVh0U29mdHdhcmUAbWF0cGxvdGxpYiB2ZXJzaW9uMy4xLjMsIGh0dHA6Ly9tYXRwbG90bGliLm9yZy+AADFEAAAX10lEQVR4nO3df7Bc5X3f8ffHAmNqmwJFUEUCRBzZMZBBGEWhJUkd4xqZaSLolIyoa6kTWmEKHbvjTAfidIybaCZxYrtlaqjlMUW42FT+NWgcY5sQexy3GHzxYITACnLAICMj+QcFPAkG8e0f+9x2e9m7d69+7L3Seb9mzuzZ73nO2WfPHH107rNnz6aqkCR1w8vmugOSpPEx9CWpQwx9SeoQQ1+SOsTQl6QOMfQlqUMMfUnqEENfcyrJs33Ti0n+pu/525Jcm+T59vypJP8ryT8YsJ3T2vrXD1hWSX6hzV/bnl/St/yIVlvant+U5A/b/NK27M+mbPO/J7m27/mrk3wwyaNJfprksSSfTrJymvc9ud3J9/pkks8n+cfTtP9qkp8kOaqvdnvf+s8n+Vnf8/86yr5R9xj6mlNV9arJCXgM+M2+2i2t2f9oy08AvgJ8asCm1gI/Adb0B+M0fgz8xyQLZtHVc5OcN2hBe72/AH4J+CfAMcDrgVuBC2fY7rHtvZ0F3AF8Lsm/nLL9pcCvAQX81mS9qt7at+9uAd7ft+/e0beJ2ewbHeYMfR0yquoFeuG2OMnCKYvXAr8PPA/85gyb+iLwM+BfzOLl3w/84TTL3g4sAS6qqgeqam9V/bSqPl1V146y8ar6QVX9Z+Ba4I+T9P/bXAt8A7gJWDeLPvevP+q+0WHO0NchI8nL6QXYj+iduU7Wf41e6N4KbG5thingPwDvTXLkiC//YeC1Sd48YNmbgS9V1U9H3NYwnwVOBF7XV1tL7z+7W4ALkpw06sb2Yd/oMGfo61Dw20meAv4G+NfAP2tn/ZPWAbdX1U+ATwBvTXLisA1W1RZgD/CvRuzD3wIbGHy2fwLwg8knSZa3zx+eTrJ9xO1PeqI9Ht+29avAqcDmqroX+C7wz2exvVnvGx3eDH0dCjZX1bHAScADwDmTC5IcDVxC7yyYqrqL3mcDowTj7wPvAV4xYj8+CpyUZOoQyY+ARZNPquq+1t9/Csx2DH1xe/xxe1wHfLmqftief4IRh3j2c9/oMGXo65DRgu9y4NokkyF7Mb0PTq9P8oMkP6AXnDMOY1TVHcAO4N+M+PrPA+8D/gBI36I7gbckeeWo72WIi4HdwPYW2r8N/KO+9/bvgLOSnDXitvZp3+jwZejrkFJV3wG+BPz7VloH3EjvypnlbToPWJ7kl0bY5Hv6tjWKj9M7e1/VV7sZ2EXvypszkyxI8gpgxagbTXJSkquA9wLXVNWLwEXAXuB0/t97ez3wl4wW3Pu7b3QYMvR1KPoTYH2SU4Hzgf/Urn6ZnO6ld4XOjMMgVfU/gXtGfeGq2ksvmI/vq/0t8BvAg8CfAU8D24FfpnemPsxTSX4KbKV3eeclVXVjW7YO+G9V9Vj/+wP+C/C2JEdMt9Eki9nPfaPDU/wRFUnqDs/0JalDDH1J6hBDX5I6xNCXpA6Z9tP/+eKEE06opUuXznU3JOmQcu+99/6wqqbeo2r+h/7SpUuZmJiY625I0iElyfcG1R3ekaQOMfQlqUMMfUnqEENfkjrE0JekDjH0JalDZgz9JK9Ick+SbyfZluR9rX5tku8nua9NF/atc02SHUm2J7mgr35Okq1t2XVJMug1JUkHxyjX6T8HvKmqnm2/J/r1JLe3ZR+qqj/tb5zkdGANcAbwc8CfJ3ltuyXtDcB6ej/y/AV69yS/HUnSWMx4pl89z7anR7Zp2P2YVwO3VtVzVfUIvV8mWtl+6eiYqrqrevdzvpnej0RIksZkpG/kJlkA3Av8AvDhqro7yVuBq5KsBSaAd7cfX15M70x+0s5We77NT60Per319P4i4JRTTpnVG5KkYT5y6jkD65d/794x92RujPRBblXtrarlwBJ6Z+1n0huqeQ29n2DbBXygNR80Tl9D6oNeb2NVraiqFQsXvuTWEZKkfTSrq3eq6ingq8Cqqnqy/WfwIvBRYGVrthM4uW+1JcATrb5kQF2SNCajXL2zMMmxbf5o4M3Ad9oY/aSLgQfa/BZgTZKjkpwGLAPuqapdwDNJzm1X7awFbjuA70WSNINRxvQXAZvauP7LgM1V9fkkH0+ynN4QzaPA5QBVtS3JZno/Ev0CcGW7cgfgCuAm4Gh6V+145Y4kjdGMoV9V9wNnD6i/fcg6G4ANA+oTwJmz7KMk6QDxG7mS1CGGviR1iKEvSR1i6EtShxj6ktQhhr4kdYihL0kdYuhLUocY+pLUIYa+JHWIoS9JHWLoS1KHGPqS1CEj/VyiJGk08/3nGD3Tl6QOMfQlqUMMfUnqEENfkjrED3Ilifn/AeyB4pm+JHWIoS9JHTJj6Cd5RZJ7knw7ybYk72v145PckeTh9nhc3zrXJNmRZHuSC/rq5yTZ2pZdlyQH521JkgYZ5Uz/OeBNVXUWsBxYleRc4GrgzqpaBtzZnpPkdGANcAawCrg+yYK2rRuA9cCyNq06gO9FkjSDGUO/ep5tT49sUwGrgU2tvgm4qM2vBm6tqueq6hFgB7AyySLgmKq6q6oKuLlvHUnSGIw0pp9kQZL7gN3AHVV1N3BSVe0CaI8ntuaLgcf7Vt/Zaovb/NT6oNdbn2QiycSePXtm834kSUOMFPpVtbeqlgNL6J21nzmk+aBx+hpSH/R6G6tqRVWtWLhw4ShdlCSNYFZX71TVU8BX6Y3FP9mGbGiPu1uzncDJfastAZ5o9SUD6pKkMRnl6p2FSY5t80cDbwa+A2wB1rVm64Db2vwWYE2So5KcRu8D23vaENAzSc5tV+2s7VtHkjQGo3wjdxGwqV2B8zJgc1V9PsldwOYklwGPAZcAVNW2JJuBB4EXgCuram/b1hXATcDRwO1tkiSNyYyhX1X3A2cPqP8IOH+adTYAGwbUJ4BhnwdIkg4iv5ErSR1i6EtShxj6ktQhhr4kdYihL0kdYuhLUocY+pLUIYa+JHWIoS9JHWLoS1KHGPqS1CGj3HBNkjTFR049Z667sE8805ekDjH0JalDDH1J6hBDX5I6xNCXpA4x9CWpQwx9SeoQQ1+SOmTG0E9ycpKvJHkoybYk72z1a5N8P8l9bbqwb51rkuxIsj3JBX31c5JsbcuuS5KD87YkSYOM8o3cF4B3V9W3krwauDfJHW3Zh6rqT/sbJzkdWAOcAfwc8OdJXltVe4EbgPXAN4AvAKuA2w/MW5EkzWTGM/2q2lVV32rzzwAPAYuHrLIauLWqnquqR4AdwMoki4BjququqirgZuCi/X4HkqSRzereO0mWAmcDdwPnAVclWQtM0Ptr4Cf0/kP4Rt9qO1vt+TY/tT7oddbT+4uAU045ZTZdlKR5abp79Vz+vXvH2o+RQz/Jq4DPAO+qqqeT3AD8AVDt8QPA7wCDxulrSP2lxaqNwEaAFStWDGwjSYeDcf9nMNLVO0mOpBf4t1TVZwGq6smq2ltVLwIfBVa25juBk/tWXwI80epLBtQlSWMyytU7AT4GPFRVH+yrL+prdjHwQJvfAqxJclSS04BlwD1VtQt4Jsm5bZtrgdsO0PuQJI1glOGd84C3A1uT3NdqvwdcmmQ5vSGaR4HLAapqW5LNwIP0rvy5sl25A3AFcBNwNL2rdrxyR5LGaMbQr6qvM3g8/gtD1tkAbBhQnwDOnE0HJUkHjt/IlaQOMfQlqUMMfUnqEH8YXZKGOFR/AH06nulLUocY+pLUIYa+JHWIoS9JHWLoS1KHGPqS1CGGviR1iKEvSR1i6EtShxj6ktQhhr4kdYihL0kdYuhLUocY+pLUIYa+JHWIoS9JHWLoS1KHzBj6SU5O8pUkDyXZluSdrX58kjuSPNwej+tb55okO5JsT3JBX/2cJFvbsuuS5OC8LUnSIKOc6b8AvLuqXg+cC1yZ5HTgauDOqloG3Nme05atAc4AVgHXJ1nQtnUDsB5Y1qZVB/C9SJJmMGPoV9WuqvpWm38GeAhYDKwGNrVmm4CL2vxq4Naqeq6qHgF2ACuTLAKOqaq7qqqAm/vWkSSNwazG9JMsBc4G7gZOqqpd0PuPATixNVsMPN632s5WW9zmp9YHvc76JBNJJvbs2TObLkqShhg59JO8CvgM8K6qenpY0wG1GlJ/abFqY1WtqKoVCxcuHLWLkqQZjBT6SY6kF/i3VNVnW/nJNmRDe9zd6juBk/tWXwI80epLBtQlSWMyytU7AT4GPFRVH+xbtAVY1+bXAbf11dckOSrJafQ+sL2nDQE9k+Tcts21fetIksbgiBHanAe8Hdia5L5W+z3gj4DNSS4DHgMuAaiqbUk2Aw/Su/Lnyqra29a7ArgJOBq4vU2SpDGZMfSr6usMHo8HOH+adTYAGwbUJ4AzZ9NBSdKB4zdyJalDDH1J6hBDX5I6xNCXpA4x9CWpQwx9SeoQQ1+SOsTQl6QOMfQlqUMMfUnqEENfkjrE0JekDjH0JalDDH1J6hBDX5I6xNCXpA4x9CWpQwx9SeoQQ1+SOsTQl6QOmTH0k9yYZHeSB/pq1yb5fpL72nRh37JrkuxIsj3JBX31c5JsbcuuSzLdj61Lkg6SUc70bwJWDah/qKqWt+kLAElOB9YAZ7R1rk+yoLW/AVgPLGvToG1Kkg6iGUO/qr4G/HjE7a0Gbq2q56rqEWAHsDLJIuCYqrqrqgq4GbhoXzstSdo3+zOmf1WS+9vwz3Gtthh4vK/NzlZb3Oan1gdKsj7JRJKJPXv27EcXJUn99jX0bwBeAywHdgEfaPVB4/Q1pD5QVW2sqhVVtWLhwoX72EVJ0lT7FPpV9WRV7a2qF4GPAivbop3AyX1NlwBPtPqSAXVJ0hjtU+i3MfpJFwOTV/ZsAdYkOSrJafQ+sL2nqnYBzyQ5t121sxa4bT/6LUnaB0fM1CDJJ4E3Aick2Qm8F3hjkuX0hmgeBS4HqKptSTYDDwIvAFdW1d62qSvoXQl0NHB7myRJYzRj6FfVpQPKHxvSfgOwYUB9AjhzVr2TJB1QfiNXkjrE0JekDjH0JalDDH1J6hBDX5I6xNCXpA4x9CWpQwx9SeoQQ1+SOsTQl6QOMfQlqUMMfUnqEENfkjrE0JekDjH0JalDDH1J6hBDX5I6xNCXpA4x9CWpQwx9SeoQQ1+SOmTG0E9yY5LdSR7oqx2f5I4kD7fH4/qWXZNkR5LtSS7oq5+TZGtbdl2SHPi3I0kaZpQz/ZuAVVNqVwN3VtUy4M72nCSnA2uAM9o61ydZ0Na5AVgPLGvT1G1Kkg6yGUO/qr4G/HhKeTWwqc1vAi7qq99aVc9V1SPADmBlkkXAMVV1V1UVcHPfOpKkMdnXMf2TqmoXQHs8sdUXA4/3tdvZaovb/NT6QEnWJ5lIMrFnz5597KIkaaoD/UHuoHH6GlIfqKo2VtWKqlqxcOHCA9Y5Seq6fQ39J9uQDe1xd6vvBE7ua7cEeKLVlwyoS5LGaF9Dfwuwrs2vA27rq69JclSS0+h9YHtPGwJ6Jsm57aqdtX3rSJLG5IiZGiT5JPBG4IQkO4H3An8EbE5yGfAYcAlAVW1Lshl4EHgBuLKq9rZNXUHvSqCjgdvbJEkaoxlDv6ounWbR+dO03wBsGFCfAM6cVe8kSQeU38iVpA4x9CWpQwx9SeoQQ1+SOsTQl6QOMfQlqUMMfUnqEENfkjrE0JekDjH0JalDDH1J6hBDX5I6xNCXpA4x9CWpQwx9SeoQQ1+SOsTQl6QOMfQlqUMMfUnqEENfkjpkv0I/yaNJtia5L8lEqx2f5I4kD7fH4/raX5NkR5LtSS7Y385LkmbnQJzp/0ZVLa+qFe351cCdVbUMuLM9J8npwBrgDGAVcH2SBQfg9SVJIzoYwzurgU1tfhNwUV/91qp6rqoeAXYAKw/C60uSprG/oV/Al5Pcm2R9q51UVbsA2uOJrb4YeLxv3Z2t9hJJ1ieZSDKxZ8+e/eyiJGnSEfu5/nlV9USSE4E7knxnSNsMqNWghlW1EdgIsGLFioFtJEmzt19n+lX1RHvcDXyO3nDNk0kWAbTH3a35TuDkvtWXAE/sz+tLkmZnn0M/ySuTvHpyHngL8ACwBVjXmq0DbmvzW4A1SY5KchqwDLhnX19fkjR7+zO8cxLwuSST2/lEVX0xyTeBzUkuAx4DLgGoqm1JNgMPAi8AV1bV3v3qvSRpVvY59Kvqr4GzBtR/BJw/zTobgA37+pqSpP3jN3IlqUMMfUnqEENfkjrE0JekDjH0JalDDH1J6hBDX5I6xNCXpA4x9CWpQwx9SeoQQ1+SOsTQl6QOMfQlqUMMfUnqEENfkjrE0JekDjH0JalDDH1J6hBDX5I6xNCXpA4x9CWpQ8Ye+klWJdmeZEeSq8f9+pLUZWMN/SQLgA8DbwVOBy5Ncvo4+yBJXXbEmF9vJbCjqv4aIMmtwGrgwTH3Q9Jh4COnnjPXXTjkjDv0FwOP9z3fCfzK1EZJ1gPr29Nnk2wfQ9+mOgH44Ry87r6yvwfPodRXsL8H21j6+45kfzdx6qDiuEN/0LuolxSqNgIbD353ppdkoqpWzGUfZsP+HjyHUl/B/h5sh1p/pxr3B7k7gZP7ni8BnhhzHySps8Yd+t8EliU5LcnLgTXAljH3QZI6a6zDO1X1QpKrgC8BC4Abq2rbOPswC3M6vLQP7O/Bcyj1FezvwXao9ff/k6qXDKlLkg5TfiNXkjrE0JekDulE6Ce5McnuJA9MszxJrmu3hrg/yRv6lg28bUSS45PckeTh9njcXPc3yclJvpLkoSTbkryzb51rk3w/yX1tunAu+9qWPZpka+vPRF99Pu7b1/Xtu/uSPJ3kXW3ZQdm3I/b3F5PcleS5JL87Zdl8PHYH9neeHrvD9u3Yj90DpqoO+wn4deANwAPTLL8QuJ3e9wjOBe5u9QXAd4GfB14OfBs4vS17P3B1m78a+ON50N9FwBva/KuBv+rr77XA786XfduWPQqcMGCdebdvp7RZAPwAOPVg7tsR+3si8MvAhv4+zONjd7r+zsdjd2Bf5+rYPVBTJ870q+prwI+HNFkN3Fw93wCOTbKIvttGVNXPgMnbRkyus6nNbwIumuv+VtWuqvpW28YzwEP0vgV90OzHvh1m3u3bKW3OB75bVd87UP2azkz9rardVfVN4Pkpi+blsTtdf+fjsTtk3w5z0PbtgdKJ0B/BoNtDLB5SBzipqnZB74Cld1YwLsP6BUCSpcDZwN195avakMWNY/yzc1hfC/hyknvTu/XGpHm9b+l9v+STU2pzsW+Hma/H7ozm0bE7zHw8dkdi6PdMd3uIkW4bMQeG9ivJq4DPAO+qqqdb+QbgNcByYBfwgYPdycnuDKhN9vW8qnoDvbuuXpnk18fUp2Fm2rcvB34L+FTf8rnat8PM12N3qHl27A4zH4/dkRj6PdPdHmLYbSOenPyzvz3uHkM/J03bryRH0vtHc0tVfXayQVU9WVV7q+pF4KP0/vyf075W1eTjbuBzfX2al/u2eSvwrap6crIwh/t2mPl67E5rHh6705qnx+5IDP2eLcDaduXGucD/bn+aDbttxBZgXZtfB9w21/1NEuBjwENV9cH+FaaMS18MDLxiYYx9fWWSV7e+vRJ4S1+f5t2+7Vt+KVOGduZw3w4zX4/dgebpsTvQPD52RzPXnySPY6L3j3QXvQ9kdgKXAe8A3tGWh96Pu3wX2Aqs6Fv3QnpXEnwXeE9f/e8BdwIPt8fj57q/wK/S+xP+fuC+Nl3Yln28tb2f3oG5aI77+vP0rij5NrBtvu/btuzvAD8C/u6UbR6UfTtif/9+qz8NPNXmj5nHx+7A/s7TY3e6vs7JsXugJm/DIEkd4vCOJHWIoS9JHWLoS1KHGPqS1CGGviTNIzPdCG5K2w/13Yjur5I8NeM6Xr0jSfNH+3bvs/TuAXXmLNb7t8DZVfU7w9p5pi9J80gNuBFcktck+WK7189fJvnFAau+5IuDg4z1N3IlSftkI70vjT2c5FeA64E3TS5McipwGvAXM23I0JekeazdhO4fAp/q3a0CgKOmNFsDfLqq9s60PUNfkua3lwFPVdXyIW3WAFeOujFJ0jxVvVtMP5LkEvi/P+l51uTyJK8DjgPuGmV7hr4kzSNJPkkvwF+XZGeSy4C3AZclmbzJ2+q+VS4Fbq0RL8X0kk1J6hDP9CWpQwx9SeoQQ1+SOsTQl6QOMfQlqUMMfUnqEENfkjrk/wASZj0orYi+bgAAAABJRU5ErkJggg==\n",
          "text/plain": "<Figure size 432x288 with 1 Axes>"
         },
         "metadata": {
          "needs_background": "light"
         },
         "output_type": "display_data"
        }
       ]
      }
     },
     "76044cc5b0374441ac409de070dd6932": {
      "model_module": "@jupyter-widgets/base",
      "model_module_version": "1.2.0",
      "model_name": "LayoutModel",
      "state": {}
     },
     "764a2034e300492d85f5d99afbe9e313": {
      "model_module": "@jupyter-widgets/controls",
      "model_module_version": "1.5.0",
      "model_name": "DescriptionStyleModel",
      "state": {
       "description_width": ""
      }
     },
     "765d1a8bddd648d3877c3a172bdbceed": {
      "model_module": "@jupyter-widgets/controls",
      "model_module_version": "1.5.0",
      "model_name": "DescriptionStyleModel",
      "state": {
       "description_width": ""
      }
     },
     "76949d7fc5be40cba82389263687f05b": {
      "model_module": "@jupyter-widgets/controls",
      "model_module_version": "1.5.0",
      "model_name": "DescriptionStyleModel",
      "state": {
       "description_width": ""
      }
     },
     "77bf438918a540dea35108650f356836": {
      "model_module": "@jupyter-widgets/base",
      "model_module_version": "1.2.0",
      "model_name": "LayoutModel",
      "state": {}
     },
     "77e2c3f208f449da9919c7da3323484c": {
      "model_module": "@jupyter-widgets/base",
      "model_module_version": "1.2.0",
      "model_name": "LayoutModel",
      "state": {}
     },
     "780bc30bf1a64cebb75336aad0b3ac42": {
      "model_module": "@jupyter-widgets/base",
      "model_module_version": "1.2.0",
      "model_name": "LayoutModel",
      "state": {}
     },
     "789f02b0998d43de9c9de45f91052157": {
      "model_module": "@jupyter-widgets/controls",
      "model_module_version": "1.5.0",
      "model_name": "DescriptionStyleModel",
      "state": {
       "description_width": ""
      }
     },
     "78c9070dce174a4cbf456ec8a4c1cbe2": {
      "model_module": "@jupyter-widgets/base",
      "model_module_version": "1.2.0",
      "model_name": "LayoutModel",
      "state": {}
     },
     "794f11b256e74a5ba7b1aa9a9bf91709": {
      "model_module": "@jupyter-widgets/controls",
      "model_module_version": "1.5.0",
      "model_name": "DescriptionStyleModel",
      "state": {
       "description_width": ""
      }
     },
     "7959791a39c6459a8f58f4becaf4cd9f": {
      "model_module": "@jupyter-widgets/controls",
      "model_module_version": "1.5.0",
      "model_name": "CheckboxModel",
      "state": {
       "description": "suburb_small",
       "disabled": false,
       "layout": "IPY_MODEL_01333ef95e3c421984a3959cfce82eec",
       "style": "IPY_MODEL_38f8449052304cadb4d829f3ad8848c1",
       "value": false
      }
     },
     "799c5d0e28f24289ad43fcbbf62d4af2": {
      "model_module": "@jupyter-widgets/base",
      "model_module_version": "1.2.0",
      "model_name": "LayoutModel",
      "state": {}
     },
     "7b7b0c661eb44563bb49933ddc691933": {
      "model_module": "@jupyter-widgets/controls",
      "model_module_version": "1.5.0",
      "model_name": "CheckboxModel",
      "state": {
       "description": "pct_two",
       "disabled": false,
       "layout": "IPY_MODEL_77e2c3f208f449da9919c7da3323484c",
       "style": "IPY_MODEL_f793b555f06a48f9a4800984af1f0576",
       "value": false
      }
     },
     "7b7ec0f3dc134d75baa53a89cc1b1421": {
      "model_module": "@jupyter-widgets/controls",
      "model_module_version": "1.5.0",
      "model_name": "CheckboxModel",
      "state": {
       "description": "remedial",
       "disabled": false,
       "layout": "IPY_MODEL_e17ab4c018f74f6a86e507b7097aa1f6",
       "style": "IPY_MODEL_3308b7a3e4894b7db986b3d1a303f8d2",
       "value": false
      }
     },
     "7bc275490f1e4294a7dbcec566ab677b": {
      "model_module": "@jupyter-widgets/controls",
      "model_module_version": "1.5.0",
      "model_name": "CheckboxModel",
      "state": {
       "description": "anywhere_STEM_Flag",
       "disabled": false,
       "layout": "IPY_MODEL_bd666a19bb54409f932059352994d170",
       "style": "IPY_MODEL_3ed404ca99254590844a7beec8b57a38",
       "value": false
      }
     },
     "7bde3232303c44c1ad8ad0be13e1be88": {
      "model_module": "@jupyter-widgets/controls",
      "model_module_version": "1.5.0",
      "model_name": "CheckboxModel",
      "state": {
       "description": "attendee_imagine_tomorrow",
       "disabled": false,
       "layout": "IPY_MODEL_b7b1cb3a66034333bcf8ed118bf79116",
       "style": "IPY_MODEL_6a7f4fa72e494e20a108e4fe01a91df1",
       "value": false
      }
     },
     "7c01a154d6f44c03ad03b74e5069ee31": {
      "model_module": "@jupyter-widgets/controls",
      "model_module_version": "1.5.0",
      "model_name": "CheckboxModel",
      "state": {
       "description": "spring_midterm_gpa_change",
       "disabled": false,
       "layout": "IPY_MODEL_6a6df2ae1cfe4833830f6d619e926620",
       "style": "IPY_MODEL_73408016218c4203b0a9f09131face8c",
       "value": false
      }
     },
     "7ca69e928c634424b4cfd2363262ac8d": {
      "model_module": "@jupyter-widgets/controls",
      "model_module_version": "1.5.0",
      "model_name": "CheckboxModel",
      "state": {
       "description": "parent2_highest_educ_lvl",
       "disabled": false,
       "layout": "IPY_MODEL_285d72b44861497c9e0dc96ae5b66177",
       "style": "IPY_MODEL_0c14ea92b3054f28a6553da7f6228d09",
       "value": true
      }
     },
     "7db7b7c710664f54998895cbd71ab727": {
      "model_module": "@jupyter-widgets/controls",
      "model_module_version": "1.5.0",
      "model_name": "CheckboxModel",
      "state": {
       "description": "spring_avg_pct_CDFW",
       "disabled": false,
       "layout": "IPY_MODEL_534219cd57b24b728f996617f3946f5a",
       "style": "IPY_MODEL_a602217a147942288a97c9eb4830ffd6",
       "value": false
      }
     },
     "7e1d879dc5b3428db33afc9b4f66b7a4": {
      "model_module": "@jupyter-widgets/controls",
      "model_module_version": "1.5.0",
      "model_name": "CheckboxModel",
      "state": {
       "description": "business",
       "disabled": false,
       "layout": "IPY_MODEL_7f6f8492d8f742d7b7cc8af98f849b30",
       "style": "IPY_MODEL_512bbdcbfbee41bd8a7ce23ad10a8b29",
       "value": false
      }
     },
     "7e1f7708bf7b41c689a056c68adadf60": {
      "model_module": "@jupyter-widgets/controls",
      "model_module_version": "1.5.0",
      "model_name": "DescriptionStyleModel",
      "state": {
       "description_width": ""
      }
     },
     "7e3c268cfaa1419b9459b72c4453f440": {
      "model_module": "@jupyter-widgets/base",
      "model_module_version": "1.2.0",
      "model_name": "LayoutModel",
      "state": {}
     },
     "7ec8e3bced1e4322bd2206996ffe9cbd": {
      "model_module": "@jupyter-widgets/base",
      "model_module_version": "1.2.0",
      "model_name": "LayoutModel",
      "state": {}
     },
     "7ef18daeffb94dcab51baa098271ee3f": {
      "model_module": "@jupyter-widgets/base",
      "model_module_version": "1.2.0",
      "model_name": "LayoutModel",
      "state": {}
     },
     "7ef4551105b543efb267d4af5c4874bd": {
      "model_module": "@jupyter-widgets/base",
      "model_module_version": "1.2.0",
      "model_name": "LayoutModel",
      "state": {
       "flex_flow": "row wrap"
      }
     },
     "7f23c3e96baa471bbb2383b18ea956d6": {
      "model_module": "@jupyter-widgets/controls",
      "model_module_version": "1.5.0",
      "model_name": "CheckboxModel",
      "state": {
       "description": "attendee_alive",
       "disabled": false,
       "layout": "IPY_MODEL_a3f332fbd9184a7f94478d0a3390e655",
       "style": "IPY_MODEL_60ebff624c824f6da8ffe2ed3dbf2c91",
       "value": false
      }
     },
     "7f35de98262f4eb9826c0867e678fbb1": {
      "model_module": "@jupyter-widgets/controls",
      "model_module_version": "1.5.0",
      "model_name": "DescriptionStyleModel",
      "state": {
       "description_width": ""
      }
     },
     "7f6f8492d8f742d7b7cc8af98f849b30": {
      "model_module": "@jupyter-widgets/base",
      "model_module_version": "1.2.0",
      "model_name": "LayoutModel",
      "state": {}
     },
     "7f6fc71195a04f15bde9f09e0cfefdae": {
      "model_module": "@jupyter-widgets/controls",
      "model_module_version": "1.5.0",
      "model_name": "DescriptionStyleModel",
      "state": {
       "description_width": ""
      }
     },
     "7f793aac6039433da07db174e8df2a73": {
      "model_module": "@jupyter-widgets/controls",
      "model_module_version": "1.5.0",
      "model_name": "DescriptionStyleModel",
      "state": {
       "description_width": ""
      }
     },
     "81c107b1335a4515b603dc7a9664bb8d": {
      "model_module": "@jupyter-widgets/controls",
      "model_module_version": "1.5.0",
      "model_name": "CheckboxModel",
      "state": {
       "description": "pop_dens",
       "disabled": false,
       "layout": "IPY_MODEL_7247f8ea01f7435f843b5fb2e26a275f",
       "style": "IPY_MODEL_4ceb3b5464824a25a4c819999dfcd7eb",
       "value": false
      }
     },
     "8214cda2e54049b88a3bf74d62d1f607": {
      "model_module": "@jupyter-widgets/controls",
      "model_module_version": "1.5.0",
      "model_name": "DescriptionStyleModel",
      "state": {
       "description_width": ""
      }
     },
     "8223410100d64c748825ebc432adca34": {
      "model_module": "@jupyter-widgets/controls",
      "model_module_version": "1.5.0",
      "model_name": "CheckboxModel",
      "state": {
       "description": "cas_biol",
       "disabled": false,
       "layout": "IPY_MODEL_ca302fe7f48f43c09e8c374640300bd5",
       "style": "IPY_MODEL_4dbaf71ec58d4b1e9a492b048b42f0e9",
       "value": false
      }
     },
     "832d846b8c5c4ba39a4274a641ad61fd": {
      "model_module": "@jupyter-widgets/controls",
      "model_module_version": "1.5.0",
      "model_name": "DescriptionStyleModel",
      "state": {
       "description_width": ""
      }
     },
     "842e22f97fa747f4a46249726996e92f": {
      "model_module": "@jupyter-widgets/base",
      "model_module_version": "1.2.0",
      "model_name": "LayoutModel",
      "state": {}
     },
     "843e018bfb624faf940f21844e06280f": {
      "model_module": "@jupyter-widgets/base",
      "model_module_version": "1.2.0",
      "model_name": "LayoutModel",
      "state": {}
     },
     "8487a0017f2f49ec9c73919e2a23ef60": {
      "model_module": "@jupyter-widgets/base",
      "model_module_version": "1.2.0",
      "model_name": "LayoutModel",
      "state": {}
     },
     "84926ae21fd443cd923e695be6d8fe43": {
      "model_module": "@jupyter-widgets/base",
      "model_module_version": "1.2.0",
      "model_name": "LayoutModel",
      "state": {}
     },
     "849fa9077ee042689fde72ab084af957": {
      "model_module": "@jupyter-widgets/controls",
      "model_module_version": "1.5.0",
      "model_name": "ButtonModel",
      "state": {
       "description": "Create Plots",
       "layout": "IPY_MODEL_001751cf1e8e46779297d51681933e34",
       "style": "IPY_MODEL_f1c1f679070147819e68e8dfb26ba2e1"
      }
     },
     "851e3d659d6f4fce9e188bc93f7351c4": {
      "model_module": "@jupyter-widgets/base",
      "model_module_version": "1.2.0",
      "model_name": "LayoutModel",
      "state": {}
     },
     "85216907f9a1421a9ae633a8ab674162": {
      "model_module": "@jupyter-widgets/controls",
      "model_module_version": "1.5.0",
      "model_name": "CheckboxModel",
      "state": {
       "description": "attendee_oos_destination",
       "disabled": false,
       "layout": "IPY_MODEL_dedc51010bb4447b96fb5e20095a9b94",
       "style": "IPY_MODEL_a703f766839c4fd68ccaeaa12d9ef4fb",
       "value": false
      }
     },
     "8573be4f239a47d2a93a902117072d9f": {
      "model_module": "@jupyter-widgets/base",
      "model_module_version": "1.2.0",
      "model_name": "LayoutModel",
      "state": {}
     },
     "857f60eac1c04977b4c40d44b170368a": {
      "model_module": "@jupyter-widgets/controls",
      "model_module_version": "1.5.0",
      "model_name": "DescriptionStyleModel",
      "state": {
       "description_width": ""
      }
     },
     "85962cfc377649a68fd5ebf8ef47dfe0": {
      "model_module": "@jupyter-widgets/controls",
      "model_module_version": "1.5.0",
      "model_name": "ButtonStyleModel",
      "state": {}
     },
     "85d944c048e2479c9366eb966a109144": {
      "model_module": "@jupyter-widgets/controls",
      "model_module_version": "1.5.0",
      "model_name": "ButtonStyleModel",
      "state": {}
     },
     "8620d267a1b0454fae5546e42f3a3187": {
      "model_module": "@jupyter-widgets/controls",
      "model_module_version": "1.5.0",
      "model_name": "DescriptionStyleModel",
      "state": {
       "description_width": ""
      }
     },
     "86b5279dd3d64948899a097ff4208666": {
      "model_module": "@jupyter-widgets/controls",
      "model_module_version": "1.5.0",
      "model_name": "DescriptionStyleModel",
      "state": {
       "description_width": ""
      }
     },
     "87d7f641f666460cb03b0d6b3f6a1b04": {
      "model_module": "@jupyter-widgets/base",
      "model_module_version": "1.2.0",
      "model_name": "LayoutModel",
      "state": {}
     },
     "8804d34e89dc4f30bf3b247ec4921cc2": {
      "model_module": "@jupyter-widgets/controls",
      "model_module_version": "1.5.0",
      "model_name": "DescriptionStyleModel",
      "state": {
       "description_width": ""
      }
     },
     "885d27b1218b466a967b8e64a8fef516": {
      "model_module": "@jupyter-widgets/controls",
      "model_module_version": "1.5.0",
      "model_name": "DescriptionStyleModel",
      "state": {
       "description_width": ""
      }
     },
     "887f02643f5d4553aed3e7dca6dab6e9": {
      "model_module": "@jupyter-widgets/controls",
      "model_module_version": "1.5.0",
      "model_name": "ButtonStyleModel",
      "state": {}
     },
     "890ac8e60dc442e0aa682effeff262c9": {
      "model_module": "@jupyter-widgets/controls",
      "model_module_version": "1.5.0",
      "model_name": "DescriptionStyleModel",
      "state": {
       "description_width": ""
      }
     },
     "891ab7b8d0ee4599a6b1166bf81f89d7": {
      "model_module": "@jupyter-widgets/base",
      "model_module_version": "1.2.0",
      "model_name": "LayoutModel",
      "state": {}
     },
     "89c3f13d87624491993df94d603044b6": {
      "model_module": "@jupyter-widgets/base",
      "model_module_version": "1.2.0",
      "model_name": "LayoutModel",
      "state": {}
     },
     "8a822c0fcebb40b99970a5bdb9d1df41": {
      "model_module": "@jupyter-widgets/base",
      "model_module_version": "1.2.0",
      "model_name": "LayoutModel",
      "state": {
       "flex_flow": "row wrap"
      }
     },
     "8a96667eda6b45e7a95ae012610b866a": {
      "model_module": "@jupyter-widgets/controls",
      "model_module_version": "1.5.0",
      "model_name": "DescriptionStyleModel",
      "state": {
       "description_width": ""
      }
     },
     "8aa0842c29c146edaef0349a353723b3": {
      "model_module": "@jupyter-widgets/base",
      "model_module_version": "1.2.0",
      "model_name": "LayoutModel",
      "state": {}
     },
     "8bc7994729c9482ea00e72ff0c387984": {
      "model_module": "@jupyter-widgets/base",
      "model_module_version": "1.2.0",
      "model_name": "LayoutModel",
      "state": {}
     },
     "8c87b715934c43ceac66fe063637c7d9": {
      "model_module": "@jupyter-widgets/controls",
      "model_module_version": "1.5.0",
      "model_name": "AccordionModel",
      "state": {
       "_titles": {
        "0": "Plans",
        "1": "Class",
        "2": "Performance"
       },
       "children": [
        "IPY_MODEL_a221b4f4fc534d88b46cb8931e588211",
        "IPY_MODEL_1dfd522c695841a38f61c408a93857d8",
        "IPY_MODEL_e8cbc84e56a04d3490c9d4c69cb6c5fb"
       ],
       "layout": "IPY_MODEL_77bf438918a540dea35108650f356836"
      }
     },
     "8cd347ac075046c780693c50977181ca": {
      "model_module": "@jupyter-widgets/base",
      "model_module_version": "1.2.0",
      "model_name": "LayoutModel",
      "state": {
       "flex_flow": "row wrap"
      }
     },
     "8ce8468a80864f4d978d1ab1547ee15b": {
      "model_module": "@jupyter-widgets/controls",
      "model_module_version": "1.5.0",
      "model_name": "DescriptionStyleModel",
      "state": {
       "description_width": ""
      }
     },
     "8d788f4aa09c4fcaabdef5022a0e0ddc": {
      "model_module": "@jupyter-widgets/base",
      "model_module_version": "1.2.0",
      "model_name": "LayoutModel",
      "state": {}
     },
     "8db0f90af6644ab2b11f726e43b7f16a": {
      "model_module": "@jupyter-widgets/controls",
      "model_module_version": "1.5.0",
      "model_name": "DescriptionStyleModel",
      "state": {
       "description_width": ""
      }
     },
     "8dba755a53f947c4bee0cc499de1e5bd": {
      "model_module": "@jupyter-widgets/controls",
      "model_module_version": "1.5.0",
      "model_name": "CheckboxModel",
      "state": {
       "description": "cas",
       "disabled": false,
       "layout": "IPY_MODEL_f535ea3084c140d19dcb19c16ffc017f",
       "style": "IPY_MODEL_bad9b9273c6b49f0a4ba7b9910570f7e",
       "value": false
      }
     },
     "8e0b4c6deef34f209c487b07f518ce1c": {
      "model_module": "@jupyter-widgets/controls",
      "model_module_version": "1.5.0",
      "model_name": "VBoxModel",
      "state": {
       "children": [
        "IPY_MODEL_529ae8a734a9485a9e23705b852c139e",
        "IPY_MODEL_a521e189af4b45ea81745e9a4fb6777e",
        "IPY_MODEL_2d73348e26804c4db33c541d29fa1f15",
        "IPY_MODEL_3b57f86b6d43472f924b286833dbdac1",
        "IPY_MODEL_3a1ca3b621f549a7a9c40c405ab5034a",
        "IPY_MODEL_617b874a25b54ab98a8757e3e83b6857",
        "IPY_MODEL_6f1a27843b104c8aa1fd1c8a6d2de6c9",
        "IPY_MODEL_e4a8980cf7bb4633a4736b80d892874f"
       ],
       "layout": "IPY_MODEL_64238c3ca38b4ad6a8791bb45515df2c"
      }
     },
     "8e8fc2151b6246b9965dccea476a9526": {
      "model_module": "@jupyter-widgets/base",
      "model_module_version": "1.2.0",
      "model_name": "LayoutModel",
      "state": {}
     },
     "8f1815a4b5584e528bff79738b08b065": {
      "model_module": "@jupyter-widgets/controls",
      "model_module_version": "1.5.0",
      "model_name": "CheckboxModel",
      "state": {
       "description": "town_distant",
       "disabled": false,
       "layout": "IPY_MODEL_c69be8dbb5954753acfcd1138b56801a",
       "style": "IPY_MODEL_af1d15fe94734bec8641c17274027a1b",
       "value": false
      }
     },
     "8fb4abca29844dc1be8dde2fe15f73c4": {
      "model_module": "@jupyter-widgets/controls",
      "model_module_version": "1.5.0",
      "model_name": "DescriptionStyleModel",
      "state": {
       "description_width": ""
      }
     },
     "90971e819b3d43fbb2561d544ced7f90": {
      "model_module": "@jupyter-widgets/controls",
      "model_module_version": "1.5.0",
      "model_name": "DescriptionStyleModel",
      "state": {
       "description_width": ""
      }
     },
     "90efb3b5deae4fafb963d8f7e9a9524d": {
      "model_module": "@jupyter-widgets/base",
      "model_module_version": "1.2.0",
      "model_name": "LayoutModel",
      "state": {}
     },
     "91b38b7174b54c8dac6002544ba9acb1": {
      "model_module": "@jupyter-widgets/output",
      "model_module_version": "1.0.0",
      "model_name": "OutputModel",
      "state": {
       "layout": "IPY_MODEL_23d006a25c6c437e8da4726ccf19e2d7",
       "outputs": [
        {
         "data": {
          "image/png": "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\n",
          "text/plain": "<Figure size 432x288 with 1 Axes>"
         },
         "metadata": {
          "needs_background": "light"
         },
         "output_type": "display_data"
        }
       ]
      }
     },
     "91d26b387ac44320a315929cb0c6c946": {
      "model_module": "@jupyter-widgets/base",
      "model_module_version": "1.2.0",
      "model_name": "LayoutModel",
      "state": {}
     },
     "9235a2731a244fe0a913f32c6c466a1b": {
      "model_module": "@jupyter-widgets/controls",
      "model_module_version": "1.5.0",
      "model_name": "DescriptionStyleModel",
      "state": {
       "description_width": ""
      }
     },
     "9247d3234ba64c528a416ecb8806bfb0": {
      "model_module": "@jupyter-widgets/base",
      "model_module_version": "1.2.0",
      "model_name": "LayoutModel",
      "state": {}
     },
     "92a5e8e67243456f8d8cb82ea5b7d3af": {
      "model_module": "@jupyter-widgets/base",
      "model_module_version": "1.2.0",
      "model_name": "LayoutModel",
      "state": {}
     },
     "92bba9551dc44beaa301d8d1b342163d": {
      "model_module": "@jupyter-widgets/controls",
      "model_module_version": "1.5.0",
      "model_name": "CheckboxModel",
      "state": {
       "description": "spring_lab_contact_hrs",
       "disabled": false,
       "layout": "IPY_MODEL_ab2f57cc73f641e4afd520fd50a78d71",
       "style": "IPY_MODEL_e1ecbfbb02634d428bd6e7d2f62665d0",
       "value": false
      }
     },
     "93de12bd7a8a46d1ab3bf88b6fa088f4": {
      "model_module": "@jupyter-widgets/controls",
      "model_module_version": "1.5.0",
      "model_name": "SliderStyleModel",
      "state": {
       "description_width": ""
      }
     },
     "93fd0606b2244cdc96ef8ed55d63a565": {
      "model_module": "@jupyter-widgets/controls",
      "model_module_version": "1.5.0",
      "model_name": "DescriptionStyleModel",
      "state": {
       "description_width": ""
      }
     },
     "9425a73b5ee5403cb88d95e07f4fb7ce": {
      "model_module": "@jupyter-widgets/base",
      "model_module_version": "1.2.0",
      "model_name": "LayoutModel",
      "state": {}
     },
     "94e051533c154c8fa5cd87606076f343": {
      "model_module": "@jupyter-widgets/base",
      "model_module_version": "1.2.0",
      "model_name": "LayoutModel",
      "state": {}
     },
     "94e59b7cbeb4404b8070fc47c477dae8": {
      "model_module": "@jupyter-widgets/controls",
      "model_module_version": "1.5.0",
      "model_name": "VBoxModel",
      "state": {
       "_dom_classes": [
        "widget-interact"
       ],
       "children": [
        "IPY_MODEL_5fa7a9c637044a56938b5b507fa54d6f",
        "IPY_MODEL_2526faeb9333486cb4608788e2604671",
        "IPY_MODEL_5cdd0c856a3042b0b6de8933c4aec0c3"
       ],
       "layout": "IPY_MODEL_a02d23f2b06f48a1b5fbe02f659e0e0a"
      }
     },
     "955cbf7536c34e5eba6cc2f303d1c723": {
      "model_module": "@jupyter-widgets/base",
      "model_module_version": "1.2.0",
      "model_name": "LayoutModel",
      "state": {}
     },
     "95e29f5661654620acb6431cf6290e18": {
      "model_module": "@jupyter-widgets/controls",
      "model_module_version": "1.5.0",
      "model_name": "CheckboxModel",
      "state": {
       "description": "fall_midterm_gpa_avg_ind",
       "disabled": false,
       "layout": "IPY_MODEL_2a355ce762024df4a06b2f863fdaaec7",
       "style": "IPY_MODEL_dbd6ef88d416410baea20a2ee7757619",
       "value": false
      }
     },
     "960a7af19fd94c3ca6fef50ea40e8845": {
      "model_module": "@jupyter-widgets/controls",
      "model_module_version": "1.5.0",
      "model_name": "CheckboxModel",
      "state": {
       "description": "attendee_la_bienvenida",
       "disabled": false,
       "layout": "IPY_MODEL_5d6a91acb1ef4e6c85b0b74a0ecb3d21",
       "style": "IPY_MODEL_9f2474a135eb434d9eb3bebc51af0063",
       "value": false
      }
     },
     "962644ae64dd4f709f5205831f599d73": {
      "model_module": "@jupyter-widgets/controls",
      "model_module_version": "1.5.0",
      "model_name": "DescriptionStyleModel",
      "state": {
       "description_width": ""
      }
     },
     "965a2f1691ca4b07a0eb36617435f3ea": {
      "model_module": "@jupyter-widgets/controls",
      "model_module_version": "1.5.0",
      "model_name": "ButtonModel",
      "state": {
       "description": "Create Dataset",
       "layout": "IPY_MODEL_a991e03ed192486399ebceb990290a11",
       "style": "IPY_MODEL_c478e632af044ce2be2f5bee43914189"
      }
     },
     "96aac6ddd05a4de19b328a122507699a": {
      "model_module": "@jupyter-widgets/controls",
      "model_module_version": "1.5.0",
      "model_name": "DescriptionStyleModel",
      "state": {
       "description_width": ""
      }
     },
     "975e1d3a885748538742ed27e407042b": {
      "model_module": "@jupyter-widgets/base",
      "model_module_version": "1.2.0",
      "model_name": "LayoutModel",
      "state": {
       "flex_flow": "row wrap"
      }
     },
     "9889c1bbf73844c3aa630b6afe19da05": {
      "model_module": "@jupyter-widgets/controls",
      "model_module_version": "1.5.0",
      "model_name": "DescriptionStyleModel",
      "state": {
       "description_width": ""
      }
     },
     "98afa66564394d7babf653e355a4ddb5": {
      "model_module": "@jupyter-widgets/base",
      "model_module_version": "1.2.0",
      "model_name": "LayoutModel",
      "state": {}
     },
     "9a0e6eca08084625a6d2754f7a58698a": {
      "model_module": "@jupyter-widgets/base",
      "model_module_version": "1.2.0",
      "model_name": "LayoutModel",
      "state": {}
     },
     "9bc1d418ef754eb5be9e6a14d57cdedf": {
      "model_module": "@jupyter-widgets/controls",
      "model_module_version": "1.5.0",
      "model_name": "VBoxModel",
      "state": {
       "children": [
        "IPY_MODEL_e2e072df6797464495ede79dcc3fc780",
        "IPY_MODEL_c4b5ef9f2fb143b896704854b92e9eea"
       ],
       "layout": "IPY_MODEL_ca48e08f6da74f53b739078dedccc019"
      }
     },
     "9c14a9b02d0b48f09897a1f30582535a": {
      "model_module": "@jupyter-widgets/controls",
      "model_module_version": "1.5.0",
      "model_name": "DescriptionStyleModel",
      "state": {
       "description_width": ""
      }
     },
     "9c1bd545ff6546fca75b7739e3b31df9": {
      "model_module": "@jupyter-widgets/base",
      "model_module_version": "1.2.0",
      "model_name": "LayoutModel",
      "state": {
       "flex_flow": "row wrap"
      }
     },
     "9d105979ea0c4ef1b529d19820ec3508": {
      "model_module": "@jupyter-widgets/base",
      "model_module_version": "1.2.0",
      "model_name": "LayoutModel",
      "state": {
       "flex_flow": "row wrap"
      }
     },
     "9d131d219e5e42cdae6650eaddb26054": {
      "model_module": "@jupyter-widgets/controls",
      "model_module_version": "1.5.0",
      "model_name": "IntSliderModel",
      "state": {
       "description": "y",
       "layout": "IPY_MODEL_178b3acba7574435b023b02e4e2f23b2",
       "min": 1,
       "style": "IPY_MODEL_111fcbe9e23a47f8a2142d350bf055b3",
       "value": 50
      }
     },
     "9d2b1d3b00ef4c63bc9b3cfb37cfc195": {
      "model_module": "@jupyter-widgets/controls",
      "model_module_version": "1.5.0",
      "model_name": "CheckboxModel",
      "state": {
       "description": "spring_midterm_gpa_avg",
       "disabled": false,
       "layout": "IPY_MODEL_f5401277a6414b0d9dd554e596d5231a",
       "style": "IPY_MODEL_8214cda2e54049b88a3bf74d62d1f607",
       "value": false
      }
     },
     "9e47124ca346401cb9611b81d46721dc": {
      "model_module": "@jupyter-widgets/controls",
      "model_module_version": "1.5.0",
      "model_name": "DescriptionStyleModel",
      "state": {
       "description_width": ""
      }
     },
     "9e4c1160d532421881d39418587734ea": {
      "model_module": "@jupyter-widgets/base",
      "model_module_version": "1.2.0",
      "model_name": "LayoutModel",
      "state": {}
     },
     "9f2474a135eb434d9eb3bebc51af0063": {
      "model_module": "@jupyter-widgets/controls",
      "model_module_version": "1.5.0",
      "model_name": "DescriptionStyleModel",
      "state": {
       "description_width": ""
      }
     },
     "a02d23f2b06f48a1b5fbe02f659e0e0a": {
      "model_module": "@jupyter-widgets/base",
      "model_module_version": "1.2.0",
      "model_name": "LayoutModel",
      "state": {}
     },
     "a145db8e6ada49f9a1fbaffc9b7b0dd9": {
      "model_module": "@jupyter-widgets/controls",
      "model_module_version": "1.5.0",
      "model_name": "DescriptionStyleModel",
      "state": {
       "description_width": ""
      }
     },
     "a14930435ecd4aa49637046e2d021f96": {
      "model_module": "@jupyter-widgets/controls",
      "model_module_version": "1.5.0",
      "model_name": "CheckboxModel",
      "state": {
       "description": "race_native_hawaiian",
       "disabled": false,
       "layout": "IPY_MODEL_28b4ad6e6eec4ba6b715f0ff86e5f2d2",
       "style": "IPY_MODEL_b003409402ef4b0aa25b7f7318d04f90",
       "value": false
      }
     },
     "a221b4f4fc534d88b46cb8931e588211": {
      "model_module": "@jupyter-widgets/controls",
      "model_module_version": "1.5.0",
      "model_name": "VBoxModel",
      "state": {
       "children": [
        "IPY_MODEL_7e1d879dc5b3428db33afc9b4f66b7a4",
        "IPY_MODEL_2fdf5a224c7c4b32a5ad8f6c90543a92",
        "IPY_MODEL_b8d65ec76ec1489f9870ac5385082a39",
        "IPY_MODEL_6accdc3ae7064c53b75bd282c849c5a5",
        "IPY_MODEL_c79d5141427b4031adbbb589f4219525",
        "IPY_MODEL_6519b66c828c448a882dac0c8ba7129a",
        "IPY_MODEL_58037c87e8ee4bceb5776e22f4c39879",
        "IPY_MODEL_6e9ac78272b74223ac9681b47cd03d56",
        "IPY_MODEL_ae99672cc852407fb474e40d4c054fd5",
        "IPY_MODEL_8223410100d64c748825ebc432adca34",
        "IPY_MODEL_ab15108b929746d590981c59dcbca8fb",
        "IPY_MODEL_0c772024b3b04e468966c00b5a68bb1a",
        "IPY_MODEL_8dba755a53f947c4bee0cc499de1e5bd",
        "IPY_MODEL_13d4b56faab947b792020d7481b61052",
        "IPY_MODEL_0f782c41825c45a0aabf75254c53cf02",
        "IPY_MODEL_c59da784cf5c48f0ae8f0cef4951b57c",
        "IPY_MODEL_1b9b1a34cc4c431aaaad5abcb87b787f",
        "IPY_MODEL_0d6a1f27b735409ab141c52cf6c9a9d5",
        "IPY_MODEL_f2448df21e1c4835a3c4d7f9f163e95e",
        "IPY_MODEL_43cc77891d204bf29a668c0061658f2f",
        "IPY_MODEL_b96307dbca9d449f9818af62ec88c68c",
        "IPY_MODEL_dbc072871af44ae1b11192781a866ebb",
        "IPY_MODEL_c0bd8d3ec32a43008a25b3559fde1a83",
        "IPY_MODEL_6a2ae891cecc4ceda2403a6d2bbde515",
        "IPY_MODEL_1f8b497823f84ae1a4938f140da0a82f",
        "IPY_MODEL_a508b65896324ab3a41c2f522dfa4af4"
       ],
       "layout": "IPY_MODEL_8a822c0fcebb40b99970a5bdb9d1df41"
      }
     },
     "a27162558a7547769ecfe90baf6773c9": {
      "model_module": "@jupyter-widgets/controls",
      "model_module_version": "1.5.0",
      "model_name": "CheckboxModel",
      "state": {
       "description": "attendee_preview_jrs",
       "disabled": false,
       "layout": "IPY_MODEL_94e051533c154c8fa5cd87606076f343",
       "style": "IPY_MODEL_93fd0606b2244cdc96ef8ed55d63a565",
       "value": false
      }
     },
     "a2bfb3868821438ca499b43a70cdccd6": {
      "model_module": "@jupyter-widgets/controls",
      "model_module_version": "1.5.0",
      "model_name": "DescriptionStyleModel",
      "state": {
       "description_width": ""
      }
     },
     "a3f332fbd9184a7f94478d0a3390e655": {
      "model_module": "@jupyter-widgets/base",
      "model_module_version": "1.2.0",
      "model_name": "LayoutModel",
      "state": {}
     },
     "a437f43502b84b0586d4740985104a43": {
      "model_module": "@jupyter-widgets/base",
      "model_module_version": "1.2.0",
      "model_name": "LayoutModel",
      "state": {}
     },
     "a508b65896324ab3a41c2f522dfa4af4": {
      "model_module": "@jupyter-widgets/controls",
      "model_module_version": "1.5.0",
      "model_name": "CheckboxModel",
      "state": {
       "description": "vet_med",
       "disabled": false,
       "layout": "IPY_MODEL_f9adfeac289040a6a757c68ebe0c6449",
       "style": "IPY_MODEL_ae261d498b3547998869663cad37fc69",
       "value": false
      }
     },
     "a521e189af4b45ea81745e9a4fb6777e": {
      "model_module": "@jupyter-widgets/controls",
      "model_module_version": "1.5.0",
      "model_name": "CheckboxModel",
      "state": {
       "description": "AD_AST",
       "disabled": false,
       "layout": "IPY_MODEL_bd07433af4754f919484890ef7010eab",
       "style": "IPY_MODEL_c786a62ae10144518860da2ecbc85b76",
       "value": false
      }
     },
     "a55a261c8e32435a983c88d01e585e1a": {
      "model_module": "@jupyter-widgets/controls",
      "model_module_version": "1.5.0",
      "model_name": "VBoxModel",
      "state": {
       "_dom_classes": [
        "widget-interact"
       ],
       "children": [
        "IPY_MODEL_ea583ead64d5405eaf9bbbe7a6536f58",
        "IPY_MODEL_d4ad5c0a334149e9aae8e579c8ac5072",
        "IPY_MODEL_4c43c348523d4b34856f44926ab0c42b"
       ],
       "layout": "IPY_MODEL_b08c851b1fb1470baef3c64fc6ef44d2"
      }
     },
     "a58e5e708a014f29983b452ef1bc19d3": {
      "model_module": "@jupyter-widgets/base",
      "model_module_version": "1.2.0",
      "model_name": "LayoutModel",
      "state": {}
     },
     "a5d28a5e6e1645eb9b4d42290508ce18": {
      "model_module": "@jupyter-widgets/controls",
      "model_module_version": "1.5.0",
      "model_name": "DescriptionStyleModel",
      "state": {
       "description_width": ""
      }
     },
     "a5d2ef042d1248ab87deb9e6e7fae12e": {
      "model_module": "@jupyter-widgets/base",
      "model_module_version": "1.2.0",
      "model_name": "LayoutModel",
      "state": {}
     },
     "a602217a147942288a97c9eb4830ffd6": {
      "model_module": "@jupyter-widgets/controls",
      "model_module_version": "1.5.0",
      "model_name": "DescriptionStyleModel",
      "state": {
       "description_width": ""
      }
     },
     "a63cdddf6ae14236ba095d173adeec21": {
      "model_module": "@jupyter-widgets/base",
      "model_module_version": "1.2.0",
      "model_name": "LayoutModel",
      "state": {}
     },
     "a67d9de7424d4135a3bd0e347a7913c0": {
      "model_module": "@jupyter-widgets/base",
      "model_module_version": "1.2.0",
      "model_name": "LayoutModel",
      "state": {}
     },
     "a6e4b8c3b0294e03b1e645ca5df2a3fc": {
      "model_module": "@jupyter-widgets/base",
      "model_module_version": "1.2.0",
      "model_name": "LayoutModel",
      "state": {}
     },
     "a703f766839c4fd68ccaeaa12d9ef4fb": {
      "model_module": "@jupyter-widgets/controls",
      "model_module_version": "1.5.0",
      "model_name": "DescriptionStyleModel",
      "state": {
       "description_width": ""
      }
     },
     "a805f10fb434411da15ab92465628e3b": {
      "model_module": "@jupyter-widgets/base",
      "model_module_version": "1.2.0",
      "model_name": "LayoutModel",
      "state": {}
     },
     "a81b1ccc8ee549d2b0a78b634f15be9d": {
      "model_module": "@jupyter-widgets/controls",
      "model_module_version": "1.5.0",
      "model_name": "DescriptionStyleModel",
      "state": {
       "description_width": ""
      }
     },
     "a85e495bdebb49d1989cf8574a7b0e86": {
      "model_module": "@jupyter-widgets/controls",
      "model_module_version": "1.5.0",
      "model_name": "DescriptionStyleModel",
      "state": {
       "description_width": ""
      }
     },
     "a873c008e8124a6c8b9fd5dab82c0bba": {
      "model_module": "@jupyter-widgets/base",
      "model_module_version": "1.2.0",
      "model_name": "LayoutModel",
      "state": {}
     },
     "a8bbbbab6ce84b1fb92e07ac4160c196": {
      "model_module": "@jupyter-widgets/controls",
      "model_module_version": "1.5.0",
      "model_name": "IntSliderModel",
      "state": {
       "description": "func_y",
       "layout": "IPY_MODEL_3d969c8d397446ed947cfccdfff88ed7",
       "min": 1,
       "style": "IPY_MODEL_e103d4e66347415d87253b589a9c7666",
       "value": 50
      }
     },
     "a991e03ed192486399ebceb990290a11": {
      "model_module": "@jupyter-widgets/base",
      "model_module_version": "1.2.0",
      "model_name": "LayoutModel",
      "state": {}
     },
     "a9f3f42a37e842cb81314ed94be7aca2": {
      "model_module": "@jupyter-widgets/base",
      "model_module_version": "1.2.0",
      "model_name": "LayoutModel",
      "state": {}
     },
     "aa30d3fd66974d798b2244a53750f4be": {
      "model_module": "@jupyter-widgets/controls",
      "model_module_version": "1.5.0",
      "model_name": "DescriptionStyleModel",
      "state": {
       "description_width": ""
      }
     },
     "aad33094bab848ffb93487740dfd20d0": {
      "model_module": "@jupyter-widgets/controls",
      "model_module_version": "1.5.0",
      "model_name": "ButtonStyleModel",
      "state": {}
     },
     "ab15108b929746d590981c59dcbca8fb": {
      "model_module": "@jupyter-widgets/controls",
      "model_module_version": "1.5.0",
      "model_name": "CheckboxModel",
      "state": {
       "description": "cas_engl",
       "disabled": false,
       "layout": "IPY_MODEL_e0a4ee50b4984cd3a59b7a9d9276d196",
       "style": "IPY_MODEL_35992ea243fa4eb5998553e0ff4eca70",
       "value": false
      }
     },
     "ab2f57cc73f641e4afd520fd50a78d71": {
      "model_module": "@jupyter-widgets/base",
      "model_module_version": "1.2.0",
      "model_name": "LayoutModel",
      "state": {}
     },
     "aba0d2d09d764ac89a4fb15a4cc6667b": {
      "model_module": "@jupyter-widgets/controls",
      "model_module_version": "1.5.0",
      "model_name": "DescriptionStyleModel",
      "state": {
       "description_width": ""
      }
     },
     "abac373cd0354f4182aba75c8dd9b3be": {
      "model_module": "@jupyter-widgets/controls",
      "model_module_version": "1.5.0",
      "model_name": "DescriptionStyleModel",
      "state": {
       "description_width": ""
      }
     },
     "abe8db3e4c3c4e35808c269752a03409": {
      "model_module": "@jupyter-widgets/controls",
      "model_module_version": "1.5.0",
      "model_name": "DescriptionStyleModel",
      "state": {
       "description_width": ""
      }
     },
     "ac23e0a3935b4c8a8b3eb83dae8e2690": {
      "model_module": "@jupyter-widgets/controls",
      "model_module_version": "1.5.0",
      "model_name": "DescriptionStyleModel",
      "state": {
       "description_width": ""
      }
     },
     "aca34a97d43e4613a4243c2d94da6521": {
      "model_module": "@jupyter-widgets/controls",
      "model_module_version": "1.5.0",
      "model_name": "DescriptionStyleModel",
      "state": {
       "description_width": ""
      }
     },
     "acf4ac5a209345b992d068190770ad96": {
      "model_module": "@jupyter-widgets/base",
      "model_module_version": "1.2.0",
      "model_name": "LayoutModel",
      "state": {}
     },
     "ad245841d12842738ee84a7e8fe1c7ac": {
      "model_module": "@jupyter-widgets/base",
      "model_module_version": "1.2.0",
      "model_name": "LayoutModel",
      "state": {}
     },
     "ad459cd9ba7745d29b1e67644f906c7b": {
      "model_module": "@jupyter-widgets/controls",
      "model_module_version": "1.5.0",
      "model_name": "CheckboxModel",
      "state": {
       "description": "race_black",
       "disabled": false,
       "layout": "IPY_MODEL_8aa0842c29c146edaef0349a353723b3",
       "style": "IPY_MODEL_33c5a195189b43508db375520d9dbe97",
       "value": false
      }
     },
     "ad4a4afca220484398bfabb9ee28ae00": {
      "model_module": "@jupyter-widgets/controls",
      "model_module_version": "1.5.0",
      "model_name": "CheckboxModel",
      "state": {
       "description": "resident",
       "disabled": false,
       "layout": "IPY_MODEL_3830b27d796842dd858c31afdcd798fb",
       "style": "IPY_MODEL_aba0d2d09d764ac89a4fb15a4cc6667b",
       "value": false
      }
     },
     "ad9dee06d2404950a04ac41ffc682665": {
      "model_module": "@jupyter-widgets/base",
      "model_module_version": "1.2.0",
      "model_name": "LayoutModel",
      "state": {}
     },
     "ae261d498b3547998869663cad37fc69": {
      "model_module": "@jupyter-widgets/controls",
      "model_module_version": "1.5.0",
      "model_name": "DescriptionStyleModel",
      "state": {
       "description_width": ""
      }
     },
     "ae5ec28d99984ea4b70e2710e25c7a91": {
      "model_module": "@jupyter-widgets/base",
      "model_module_version": "1.2.0",
      "model_name": "LayoutModel",
      "state": {}
     },
     "ae99672cc852407fb474e40d4c054fd5": {
      "model_module": "@jupyter-widgets/controls",
      "model_module_version": "1.5.0",
      "model_name": "CheckboxModel",
      "state": {
       "description": "cas_psyc",
       "disabled": false,
       "layout": "IPY_MODEL_4c869e9e6cd24fb2b0c8bcaa17b540c5",
       "style": "IPY_MODEL_f48755f0da8b4bc39851d71877c5f13c",
       "value": false
      }
     },
     "aeb006a34b9645f499c3d377230ff483": {
      "model_module": "@jupyter-widgets/base",
      "model_module_version": "1.2.0",
      "model_name": "LayoutModel",
      "state": {}
     },
     "af16043d89604673b0af1780bed82b01": {
      "model_module": "@jupyter-widgets/controls",
      "model_module_version": "1.5.0",
      "model_name": "VBoxModel",
      "state": {
       "children": [
        "IPY_MODEL_3684591ba39a4f1598782d76ec817b35",
        "IPY_MODEL_340e14be5271486e9902788695aa3e30",
        "IPY_MODEL_37833ec147874068a40a7b30acef8b77",
        "IPY_MODEL_e6d43aa058ea44b1a107e62f69e205a6",
        "IPY_MODEL_7bc275490f1e4294a7dbcec566ab677b",
        "IPY_MODEL_f333c2f4d97c45ebabff79db1805896a",
        "IPY_MODEL_46827cacb21b4caca6061c6396b9a04e",
        "IPY_MODEL_d1a5ed62f8b74ff584e4448fc502e607"
       ],
       "layout": "IPY_MODEL_975e1d3a885748538742ed27e407042b"
      }
     },
     "af1d15fe94734bec8641c17274027a1b": {
      "model_module": "@jupyter-widgets/controls",
      "model_module_version": "1.5.0",
      "model_name": "DescriptionStyleModel",
      "state": {
       "description_width": ""
      }
     },
     "afc6b073fb4941e392613a5a6277bd48": {
      "model_module": "@jupyter-widgets/controls",
      "model_module_version": "1.5.0",
      "model_name": "DescriptionStyleModel",
      "state": {
       "description_width": ""
      }
     },
     "afca5c44b9844895a8e8bb7d7ba34077": {
      "model_module": "@jupyter-widgets/controls",
      "model_module_version": "1.5.0",
      "model_name": "IntSliderModel",
      "state": {
       "description": "func_y",
       "layout": "IPY_MODEL_117e8d6a2c544b6ebb66f02f8c14a2f9",
       "min": 1,
       "style": "IPY_MODEL_d55fa33d1fbd460ea248a691024efa97",
       "value": 50
      }
     },
     "afe9e60eed1745afb024427c2be31703": {
      "model_module": "@jupyter-widgets/base",
      "model_module_version": "1.2.0",
      "model_name": "LayoutModel",
      "state": {}
     },
     "b003409402ef4b0aa25b7f7318d04f90": {
      "model_module": "@jupyter-widgets/controls",
      "model_module_version": "1.5.0",
      "model_name": "DescriptionStyleModel",
      "state": {
       "description_width": ""
      }
     },
     "b08c851b1fb1470baef3c64fc6ef44d2": {
      "model_module": "@jupyter-widgets/base",
      "model_module_version": "1.2.0",
      "model_name": "LayoutModel",
      "state": {}
     },
     "b08c94588a914e8faf85c2949bccb083": {
      "model_module": "@jupyter-widgets/controls",
      "model_module_version": "1.5.0",
      "model_name": "ButtonStyleModel",
      "state": {}
     },
     "b3b63bd34f764b37b15b68992cd2473c": {
      "model_module": "@jupyter-widgets/controls",
      "model_module_version": "1.5.0",
      "model_name": "ButtonStyleModel",
      "state": {}
     },
     "b483304ac5294915807f838139c3f332": {
      "model_module": "@jupyter-widgets/controls",
      "model_module_version": "1.5.0",
      "model_name": "DropdownModel",
      "state": {
       "_options_labels": [
        "emplid",
        "enrl_ind",
        "acad_year",
        "marital_status"
       ],
       "description": "func_x",
       "index": 2,
       "layout": "IPY_MODEL_09034d2d8ecc4201bbd01d6a3d506ef3",
       "style": "IPY_MODEL_44d5a72a36a9449ca07ccf08536d4746"
      }
     },
     "b49b8e6f5c3444aab26b068798d52e7d": {
      "model_module": "@jupyter-widgets/output",
      "model_module_version": "1.0.0",
      "model_name": "OutputModel",
      "state": {
       "layout": "IPY_MODEL_d7fa99c5014f4ae4806fa0d6524b6e96",
       "outputs": [
        {
         "data": {
          "image/png": "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\n",
          "text/plain": "<Figure size 432x288 with 1 Axes>"
         },
         "metadata": {
          "needs_background": "light"
         },
         "output_type": "display_data"
        }
       ]
      }
     },
     "b4ffefec74d446b28053530202409839": {
      "model_module": "@jupyter-widgets/base",
      "model_module_version": "1.2.0",
      "model_name": "LayoutModel",
      "state": {}
     },
     "b53fca1182894ee48d0f9dc6f8c41e91": {
      "model_module": "@jupyter-widgets/base",
      "model_module_version": "1.2.0",
      "model_name": "LayoutModel",
      "state": {}
     },
     "b5aaa8c8f7c84a7e983705fa8f112234": {
      "model_module": "@jupyter-widgets/base",
      "model_module_version": "1.2.0",
      "model_name": "LayoutModel",
      "state": {}
     },
     "b61c1e18676644b2aae59cf7db6b2431": {
      "model_module": "@jupyter-widgets/controls",
      "model_module_version": "1.5.0",
      "model_name": "CheckboxModel",
      "state": {
       "description": "pct_hisp",
       "disabled": false,
       "layout": "IPY_MODEL_e4b5716ba24d4726ae3b52060b8ed997",
       "style": "IPY_MODEL_34fb995a504a4fc2bfd1273623c003be",
       "value": false
      }
     },
     "b6e8165477864c2a816f1945064af252": {
      "model_module": "@jupyter-widgets/base",
      "model_module_version": "1.2.0",
      "model_name": "LayoutModel",
      "state": {}
     },
     "b7b1cb3a66034333bcf8ed118bf79116": {
      "model_module": "@jupyter-widgets/base",
      "model_module_version": "1.2.0",
      "model_name": "LayoutModel",
      "state": {}
     },
     "b8026825bc2c4f0aad91e0699c28fe60": {
      "model_module": "@jupyter-widgets/controls",
      "model_module_version": "1.5.0",
      "model_name": "CheckboxModel",
      "state": {
       "description": "attendee_top_scholars",
       "disabled": false,
       "layout": "IPY_MODEL_50148729cfb740fbb7b0d39de64dc8ff",
       "style": "IPY_MODEL_34d4a0b7924647bc831123ac3a0724c0",
       "value": false
      }
     },
     "b84702ef8fd640a4b7983c93541aca52": {
      "model_module": "@jupyter-widgets/controls",
      "model_module_version": "1.5.0",
      "model_name": "CheckboxModel",
      "state": {
       "description": "spring_avg_pct_DFW",
       "disabled": false,
       "layout": "IPY_MODEL_2e020f14895d4b408394618709cbc3b7",
       "style": "IPY_MODEL_90971e819b3d43fbb2561d544ced7f90",
       "value": false
      }
     },
     "b87249dc995b4ee192fb4f6eff9c35cc": {
      "model_module": "@jupyter-widgets/controls",
      "model_module_version": "1.5.0",
      "model_name": "IntSliderModel",
      "state": {
       "description": "func_y",
       "layout": "IPY_MODEL_f9ffd218c3194246a3c5e32d38ba6172",
       "min": 1,
       "style": "IPY_MODEL_510ea07d6575427aa7ef0cc31a845304",
       "value": 10
      }
     },
     "b8c9da237cab488ba790990ec819c67e": {
      "model_module": "@jupyter-widgets/base",
      "model_module_version": "1.2.0",
      "model_name": "LayoutModel",
      "state": {}
     },
     "b8d34fcac5444500b389ca5df2b4ca64": {
      "model_module": "@jupyter-widgets/base",
      "model_module_version": "1.2.0",
      "model_name": "LayoutModel",
      "state": {}
     },
     "b8d65ec76ec1489f9870ac5385082a39": {
      "model_module": "@jupyter-widgets/controls",
      "model_module_version": "1.5.0",
      "model_name": "CheckboxModel",
      "state": {
       "description": "cahnrs_envr",
       "disabled": false,
       "layout": "IPY_MODEL_a437f43502b84b0586d4740985104a43",
       "style": "IPY_MODEL_7f6fc71195a04f15bde9f09e0cfefdae",
       "value": false
      }
     },
     "b95b04453d4f44e0bb20a587082c91ed": {
      "model_module": "@jupyter-widgets/controls",
      "model_module_version": "1.5.0",
      "model_name": "DescriptionStyleModel",
      "state": {
       "description_width": ""
      }
     },
     "b96307dbca9d449f9818af62ec88c68c": {
      "model_module": "@jupyter-widgets/controls",
      "model_module_version": "1.5.0",
      "model_name": "CheckboxModel",
      "state": {
       "description": "vcea_cive",
       "disabled": false,
       "layout": "IPY_MODEL_100f5a841ae34b66a4915f2d476329f5",
       "style": "IPY_MODEL_f55ceff98b5d4f7f8184bb5c2892b3e8",
       "value": false
      }
     },
     "b96a139e278c436b95b2754a47ca663e": {
      "model_module": "@jupyter-widgets/controls",
      "model_module_version": "1.5.0",
      "model_name": "CheckboxModel",
      "state": {
       "description": "race_alaska",
       "disabled": false,
       "layout": "IPY_MODEL_66f386a3f11146218544c918f3811fd0",
       "style": "IPY_MODEL_2973a17a5ea3437eb440780980523239",
       "value": false
      }
     },
     "babc161e82854808b9b49ac1a44956d2": {
      "model_module": "@jupyter-widgets/base",
      "model_module_version": "1.2.0",
      "model_name": "LayoutModel",
      "state": {}
     },
     "bad9b9273c6b49f0a4ba7b9910570f7e": {
      "model_module": "@jupyter-widgets/controls",
      "model_module_version": "1.5.0",
      "model_name": "DescriptionStyleModel",
      "state": {
       "description_width": ""
      }
     },
     "bc7530053fa54fe99756ceb5e728e567": {
      "model_module": "@jupyter-widgets/controls",
      "model_module_version": "1.5.0",
      "model_name": "SliderStyleModel",
      "state": {
       "description_width": ""
      }
     },
     "bc79987e12d34587b6f37e90245f9700": {
      "model_module": "@jupyter-widgets/base",
      "model_module_version": "1.2.0",
      "model_name": "LayoutModel",
      "state": {}
     },
     "bd07433af4754f919484890ef7010eab": {
      "model_module": "@jupyter-widgets/base",
      "model_module_version": "1.2.0",
      "model_name": "LayoutModel",
      "state": {}
     },
     "bd666a19bb54409f932059352994d170": {
      "model_module": "@jupyter-widgets/base",
      "model_module_version": "1.2.0",
      "model_name": "LayoutModel",
      "state": {}
     },
     "be200d31157b4c15b6a835b623922f21": {
      "model_module": "@jupyter-widgets/output",
      "model_module_version": "1.0.0",
      "model_name": "OutputModel",
      "state": {
       "layout": "IPY_MODEL_1dcee963d17548b99aad91eb0c99310c",
       "outputs": [
        {
         "data": {
          "application/vnd.jupyter.widget-view+json": {
           "model_id": "",
           "version_major": 2,
           "version_minor": 0
          },
          "text/plain": "interactive(children=(Dropdown(description='func_x', options=('emplid', 'enrl_ind', 'acad_year', 'marital_stat…"
         },
         "metadata": {},
         "output_type": "display_data"
        }
       ]
      }
     },
     "bf38ce32304f444599a9cf11e001dcbe": {
      "model_module": "@jupyter-widgets/controls",
      "model_module_version": "1.5.0",
      "model_name": "DescriptionStyleModel",
      "state": {
       "description_width": ""
      }
     },
     "bf7c32b6ea934ba6a33effc3bb61dcc6": {
      "model_module": "@jupyter-widgets/controls",
      "model_module_version": "1.5.0",
      "model_name": "CheckboxModel",
      "state": {
       "description": "attendee_group_visit",
       "disabled": false,
       "layout": "IPY_MODEL_0c4d2b0b4ae144af873b38f351ea847b",
       "style": "IPY_MODEL_3b563ffb586f4456835a03e0b26738c5",
       "value": false
      }
     },
     "bf87b9de66ba45b2a9756ed236b99a0f": {
      "model_module": "@jupyter-widgets/controls",
      "model_module_version": "1.5.0",
      "model_name": "DescriptionStyleModel",
      "state": {
       "description_width": ""
      }
     },
     "bf9c5c818ef1440bb041d6e80c81be84": {
      "model_module": "@jupyter-widgets/controls",
      "model_module_version": "1.5.0",
      "model_name": "DescriptionStyleModel",
      "state": {
       "description_width": ""
      }
     },
     "c0a14e2bd0974deba0bb993f8e93e97d": {
      "model_module": "@jupyter-widgets/base",
      "model_module_version": "1.2.0",
      "model_name": "LayoutModel",
      "state": {}
     },
     "c0bd8d3ec32a43008a25b3559fde1a83": {
      "model_module": "@jupyter-widgets/controls",
      "model_module_version": "1.5.0",
      "model_name": "CheckboxModel",
      "state": {
       "description": "vcea_eecs",
       "disabled": false,
       "layout": "IPY_MODEL_7ec8e3bced1e4322bd2206996ffe9cbd",
       "style": "IPY_MODEL_158138c685f348168fc8588823aac4b4",
       "value": false
      }
     },
     "c10c43b5f4524215a534f8174dd8d3a9": {
      "model_module": "@jupyter-widgets/base",
      "model_module_version": "1.2.0",
      "model_name": "LayoutModel",
      "state": {}
     },
     "c15cba1f9a1b4637b8eb3c3e76b483ce": {
      "model_module": "@jupyter-widgets/controls",
      "model_module_version": "1.5.0",
      "model_name": "ButtonModel",
      "state": {
       "description": "Create Plots",
       "layout": "IPY_MODEL_843e018bfb624faf940f21844e06280f",
       "style": "IPY_MODEL_85962cfc377649a68fd5ebf8ef47dfe0"
      }
     },
     "c1f4720476a44966b03f1581c3f85cd6": {
      "model_module": "@jupyter-widgets/base",
      "model_module_version": "1.2.0",
      "model_name": "LayoutModel",
      "state": {}
     },
     "c24e285d5e684c34ae1cffd6d2a2e10b": {
      "model_module": "@jupyter-widgets/controls",
      "model_module_version": "1.5.0",
      "model_name": "DescriptionStyleModel",
      "state": {
       "description_width": ""
      }
     },
     "c2c5c3ddacab465bb39ebc8138a7089d": {
      "model_module": "@jupyter-widgets/base",
      "model_module_version": "1.2.0",
      "model_name": "LayoutModel",
      "state": {}
     },
     "c2db8728229b469899f58c60945bdef8": {
      "model_module": "@jupyter-widgets/controls",
      "model_module_version": "1.5.0",
      "model_name": "CheckboxModel",
      "state": {
       "description": "attendee_honors_visit",
       "disabled": false,
       "layout": "IPY_MODEL_f036f11311fa444899570283c5626ddf",
       "style": "IPY_MODEL_287bf5ea975e4f7f9d6401a86ad10950",
       "value": false
      }
     },
     "c3018b106de94940959cf3282c8a20e5": {
      "model_module": "@jupyter-widgets/controls",
      "model_module_version": "1.5.0",
      "model_name": "DescriptionStyleModel",
      "state": {
       "description_width": ""
      }
     },
     "c317ed502dea47999723f2e49d4c6bda": {
      "model_module": "@jupyter-widgets/controls",
      "model_module_version": "1.5.0",
      "model_name": "DropdownModel",
      "state": {
       "_options_labels": [
        "emplid",
        "enrl_ind",
        "acad_year",
        "marital_status"
       ],
       "description": "func_x",
       "index": 2,
       "layout": "IPY_MODEL_38bb8258d3ac44058ebb99c5d54dbab5",
       "style": "IPY_MODEL_a85e495bdebb49d1989cf8574a7b0e86"
      }
     },
     "c401204840494254b6534b7c011dfb2f": {
      "model_module": "@jupyter-widgets/controls",
      "model_module_version": "1.5.0",
      "model_name": "DescriptionStyleModel",
      "state": {
       "description_width": ""
      }
     },
     "c4048c99ce624f0287957d8767943b6b": {
      "model_module": "@jupyter-widgets/base",
      "model_module_version": "1.2.0",
      "model_name": "LayoutModel",
      "state": {}
     },
     "c478e632af044ce2be2f5bee43914189": {
      "model_module": "@jupyter-widgets/controls",
      "model_module_version": "1.5.0",
      "model_name": "ButtonStyleModel",
      "state": {}
     },
     "c4b5ef9f2fb143b896704854b92e9eea": {
      "model_module": "@jupyter-widgets/output",
      "model_module_version": "1.0.0",
      "model_name": "OutputModel",
      "state": {
       "layout": "IPY_MODEL_33bd862a819043a08f5658fd6ecde970",
       "outputs": [
        {
         "ename": "AttributeError",
         "evalue": "'Builder' object has no attribute 'builder_getter'",
         "output_type": "error",
         "traceback": [
          "\u001b[1;31m---------------------------------------------------------------------------\u001b[0m",
          "\u001b[1;31mAttributeError\u001b[0m                            Traceback (most recent call last)",
          "\u001b[1;32m<ipython-input-8-9f2bde2d2d23>\u001b[0m in \u001b[0;36mplotter\u001b[1;34m(self, b)\u001b[0m\n\u001b[0;32m     10\u001b[0m         \u001b[1;32mwith\u001b[0m \u001b[0mplotter_output\u001b[0m\u001b[1;33m:\u001b[0m\u001b[1;33m\u001b[0m\u001b[1;33m\u001b[0m\u001b[0m\n\u001b[0;32m     11\u001b[0m             \u001b[0mclear_output\u001b[0m\u001b[1;33m(\u001b[0m\u001b[1;33m)\u001b[0m\u001b[1;33m\u001b[0m\u001b[1;33m\u001b[0m\u001b[0m\n\u001b[1;32m---> 12\u001b[1;33m             \u001b[0minteract\u001b[0m\u001b[1;33m(\u001b[0m\u001b[0mself\u001b[0m\u001b[1;33m.\u001b[0m\u001b[0mfunc\u001b[0m\u001b[1;33m,\u001b[0m \u001b[0mfunc_x\u001b[0m\u001b[1;33m=\u001b[0m\u001b[0mbd\u001b[0m\u001b[1;33m.\u001b[0m\u001b[0mbuilder_getter\u001b[0m\u001b[1;33m(\u001b[0m\u001b[1;33m)\u001b[0m\u001b[1;33m.\u001b[0m\u001b[0mcolumns\u001b[0m\u001b[1;33m.\u001b[0m\u001b[0mtolist\u001b[0m\u001b[1;33m(\u001b[0m\u001b[1;33m)\u001b[0m\u001b[1;33m,\u001b[0m \u001b[0mfunc_y\u001b[0m\u001b[1;33m=\u001b[0m\u001b[0mself\u001b[0m\u001b[1;33m.\u001b[0m\u001b[0my\u001b[0m\u001b[1;33m)\u001b[0m\u001b[1;33m\u001b[0m\u001b[1;33m\u001b[0m\u001b[0m\n\u001b[0m\u001b[0;32m     13\u001b[0m \u001b[1;33m\u001b[0m\u001b[0m\n\u001b[0;32m     14\u001b[0m \u001b[1;33m\u001b[0m\u001b[0m\n",
          "\u001b[1;31mAttributeError\u001b[0m: 'Builder' object has no attribute 'builder_getter'"
         ]
        }
       ]
      }
     },
     "c59da784cf5c48f0ae8f0cef4951b57c": {
      "model_module": "@jupyter-widgets/controls",
      "model_module_version": "1.5.0",
      "model_name": "CheckboxModel",
      "state": {
       "description": "medicine",
       "disabled": false,
       "layout": "IPY_MODEL_145a8d59dbd24ca7ba44b29458064953",
       "style": "IPY_MODEL_8ce8468a80864f4d978d1ab1547ee15b",
       "value": false
      }
     },
     "c6004356b322407b8c5518c44b7a8c97": {
      "model_module": "@jupyter-widgets/base",
      "model_module_version": "1.2.0",
      "model_name": "LayoutModel",
      "state": {}
     },
     "c69be8dbb5954753acfcd1138b56801a": {
      "model_module": "@jupyter-widgets/base",
      "model_module_version": "1.2.0",
      "model_name": "LayoutModel",
      "state": {}
     },
     "c786a62ae10144518860da2ecbc85b76": {
      "model_module": "@jupyter-widgets/controls",
      "model_module_version": "1.5.0",
      "model_name": "DescriptionStyleModel",
      "state": {
       "description_width": ""
      }
     },
     "c79d5141427b4031adbbb589f4219525": {
      "model_module": "@jupyter-widgets/controls",
      "model_module_version": "1.5.0",
      "model_name": "CheckboxModel",
      "state": {
       "description": "cahnrext",
       "disabled": false,
       "layout": "IPY_MODEL_d973244b0ba44ea5bbecd599f7be1f74",
       "style": "IPY_MODEL_10512f3b095c441492dcc57b58db0141",
       "value": false
      }
     },
     "c820d24437ff40cf976dacd3234260ea": {
      "model_module": "@jupyter-widgets/controls",
      "model_module_version": "1.5.0",
      "model_name": "ButtonStyleModel",
      "state": {}
     },
     "c831e162ea7444aca3b99816cf59de13": {
      "model_module": "@jupyter-widgets/base",
      "model_module_version": "1.2.0",
      "model_name": "LayoutModel",
      "state": {}
     },
     "c8651e1737424d0b99a2ef54e481218b": {
      "model_module": "@jupyter-widgets/controls",
      "model_module_version": "1.5.0",
      "model_name": "CheckboxModel",
      "state": {
       "description": "term_credit_hours",
       "disabled": false,
       "layout": "IPY_MODEL_2cd4cbd77e6746fa90de55d15693e4aa",
       "style": "IPY_MODEL_c401204840494254b6534b7c011dfb2f",
       "value": false
      }
     },
     "c90c7f0a59644e41932c7426dacc975f": {
      "model_module": "@jupyter-widgets/controls",
      "model_module_version": "1.5.0",
      "model_name": "ButtonModel",
      "state": {
       "description": "Create Plots",
       "layout": "IPY_MODEL_0769f5cd477942d2b1a8b2651714ff70",
       "style": "IPY_MODEL_1950df5807794b228454e9e15bff1c08"
      }
     },
     "c91327e64ebb4e37a9976160c805ed7d": {
      "model_module": "@jupyter-widgets/controls",
      "model_module_version": "1.5.0",
      "model_name": "DescriptionStyleModel",
      "state": {
       "description_width": ""
      }
     },
     "c9b7ab7327ef46ff94423c55873e3326": {
      "model_module": "@jupyter-widgets/controls",
      "model_module_version": "1.5.0",
      "model_name": "CheckboxModel",
      "state": {
       "description": "attendee_any_visitation_ind",
       "disabled": false,
       "layout": "IPY_MODEL_acf4ac5a209345b992d068190770ad96",
       "style": "IPY_MODEL_00fc04e9a1b24e23a866ca607e0767fe",
       "value": false
      }
     },
     "ca302fe7f48f43c09e8c374640300bd5": {
      "model_module": "@jupyter-widgets/base",
      "model_module_version": "1.2.0",
      "model_name": "LayoutModel",
      "state": {}
     },
     "ca3d8e0cbe7e461b8729e3e07545ba54": {
      "model_module": "@jupyter-widgets/controls",
      "model_module_version": "1.5.0",
      "model_name": "VBoxModel",
      "state": {
       "children": [
        "IPY_MODEL_60fe3e649ab14f639a6e681c426939d9",
        "IPY_MODEL_399cd8b126f64e4a9f6b0a8f588e0b64",
        "IPY_MODEL_ee0e9ccef31c471bbc736e38d549d4f9"
       ],
       "layout": "IPY_MODEL_446de71e48da434185f640c8491fc2b5"
      }
     },
     "ca48e08f6da74f53b739078dedccc019": {
      "model_module": "@jupyter-widgets/base",
      "model_module_version": "1.2.0",
      "model_name": "LayoutModel",
      "state": {}
     },
     "ca931406f2fe4cd59c5893cdbdc92ee3": {
      "model_module": "@jupyter-widgets/base",
      "model_module_version": "1.2.0",
      "model_name": "LayoutModel",
      "state": {
       "flex_flow": "row wrap"
      }
     },
     "cb23a4fdf9c441468a7dcbcd3a817441": {
      "model_module": "@jupyter-widgets/base",
      "model_module_version": "1.2.0",
      "model_name": "LayoutModel",
      "state": {}
     },
     "cb26028b859c4a6bb81cd2a52ca5584e": {
      "model_module": "@jupyter-widgets/controls",
      "model_module_version": "1.5.0",
      "model_name": "DescriptionStyleModel",
      "state": {
       "description_width": ""
      }
     },
     "cb3c200ca5034c5c91f4a04927ca422d": {
      "model_module": "@jupyter-widgets/controls",
      "model_module_version": "1.5.0",
      "model_name": "CheckboxModel",
      "state": {
       "description": "median_value",
       "disabled": false,
       "layout": "IPY_MODEL_621b479ce0b24ba1897a938d2bb28fb2",
       "style": "IPY_MODEL_f9e87cd950e8457fa124192e38cb2782",
       "value": false
      }
     },
     "cbd690a6dfde423ca77a7613db43f1d6": {
      "model_module": "@jupyter-widgets/controls",
      "model_module_version": "1.5.0",
      "model_name": "DescriptionStyleModel",
      "state": {
       "description_width": ""
      }
     },
     "ccb84ae4904f47af9dacdfdb3121502f": {
      "model_module": "@jupyter-widgets/base",
      "model_module_version": "1.2.0",
      "model_name": "LayoutModel",
      "state": {}
     },
     "cd29efdc50894547a75426167e42d95f": {
      "model_module": "@jupyter-widgets/controls",
      "model_module_version": "1.5.0",
      "model_name": "DescriptionStyleModel",
      "state": {
       "description_width": ""
      }
     },
     "ce443151eefe430cbb4753cdce4a2960": {
      "model_module": "@jupyter-widgets/controls",
      "model_module_version": "1.5.0",
      "model_name": "CheckboxModel",
      "state": {
       "description": "count_week_from_term_begin_dt",
       "disabled": false,
       "layout": "IPY_MODEL_f2392c2591aa48f8bad175dc35a46520",
       "style": "IPY_MODEL_c3018b106de94940959cf3282c8a20e5",
       "value": false
      }
     },
     "cf1512381b1042ceb05fea0310b280fb": {
      "model_module": "@jupyter-widgets/controls",
      "model_module_version": "1.5.0",
      "model_name": "DescriptionStyleModel",
      "state": {
       "description_width": ""
      }
     },
     "cf4b09267fa342d8acdc18afb2e253c2": {
      "model_module": "@jupyter-widgets/base",
      "model_module_version": "1.2.0",
      "model_name": "LayoutModel",
      "state": {}
     },
     "cf59949303154d72b2a4f543cf1150da": {
      "model_module": "@jupyter-widgets/controls",
      "model_module_version": "1.5.0",
      "model_name": "IntSliderModel",
      "state": {
       "description": "func_y",
       "layout": "IPY_MODEL_40a3163bfcbc42f5b205795e07e09009",
       "min": 1,
       "style": "IPY_MODEL_034240a2bc604ccc81c64c3f809b9228",
       "value": 50
      }
     },
     "cffee55f02fe43d5b7f18bba8fec07fd": {
      "model_module": "@jupyter-widgets/controls",
      "model_module_version": "1.5.0",
      "model_name": "CheckboxModel",
      "state": {
       "description": "mother_wsu_flag",
       "disabled": false,
       "layout": "IPY_MODEL_ccb84ae4904f47af9dacdfdb3121502f",
       "style": "IPY_MODEL_3eb0a25b4d54474ea1f5b4799484eafc",
       "value": true
      }
     },
     "d026140476dc485b8ac7386abb799f99": {
      "model_module": "@jupyter-widgets/controls",
      "model_module_version": "1.5.0",
      "model_name": "DescriptionStyleModel",
      "state": {
       "description_width": ""
      }
     },
     "d11a43e84a7d4c3aa4714d9c6bacff8d": {
      "model_module": "@jupyter-widgets/base",
      "model_module_version": "1.2.0",
      "model_name": "LayoutModel",
      "state": {}
     },
     "d14bf0874251472998630e30b1d98c52": {
      "model_module": "@jupyter-widgets/controls",
      "model_module_version": "1.5.0",
      "model_name": "DescriptionStyleModel",
      "state": {
       "description_width": ""
      }
     },
     "d1a5ed62f8b74ff584e4448fc502e607": {
      "model_module": "@jupyter-widgets/controls",
      "model_module_version": "1.5.0",
      "model_name": "CheckboxModel",
      "state": {
       "description": "athlete",
       "disabled": false,
       "layout": "IPY_MODEL_78c9070dce174a4cbf456ec8a4c1cbe2",
       "style": "IPY_MODEL_36a45af096c643788ec2f290d265d4c4",
       "value": false
      }
     },
     "d21109548dd14c869622d2576e2bb404": {
      "model_module": "@jupyter-widgets/controls",
      "model_module_version": "1.5.0",
      "model_name": "DescriptionStyleModel",
      "state": {
       "description_width": ""
      }
     },
     "d2d276c1e3f14a4a8280ba6047166cb6": {
      "model_module": "@jupyter-widgets/base",
      "model_module_version": "1.2.0",
      "model_name": "LayoutModel",
      "state": {}
     },
     "d31a013c372c4443ba3abdaa6ebb35f0": {
      "model_module": "@jupyter-widgets/controls",
      "model_module_version": "1.5.0",
      "model_name": "DescriptionStyleModel",
      "state": {
       "description_width": ""
      }
     },
     "d3c9ccd7feb344febb3821d03fb3a762": {
      "model_module": "@jupyter-widgets/base",
      "model_module_version": "1.2.0",
      "model_name": "LayoutModel",
      "state": {}
     },
     "d4ad5c0a334149e9aae8e579c8ac5072": {
      "model_module": "@jupyter-widgets/controls",
      "model_module_version": "1.5.0",
      "model_name": "IntSliderModel",
      "state": {
       "description": "func_y",
       "layout": "IPY_MODEL_3c0beb732d8e4175b03d0b35f28385bc",
       "min": 1,
       "style": "IPY_MODEL_2b27fcd874e749e5923f203f934e0417",
       "value": 14
      }
     },
     "d5174ec7ceb24ae9833e0f510189ff40": {
      "model_module": "@jupyter-widgets/controls",
      "model_module_version": "1.5.0",
      "model_name": "CheckboxModel",
      "state": {
       "description": "fall_avg_difficulty",
       "disabled": false,
       "layout": "IPY_MODEL_b8d34fcac5444500b389ca5df2b4ca64",
       "style": "IPY_MODEL_789f02b0998d43de9c9de45f91052157",
       "value": false
      }
     },
     "d55fa33d1fbd460ea248a691024efa97": {
      "model_module": "@jupyter-widgets/controls",
      "model_module_version": "1.5.0",
      "model_name": "SliderStyleModel",
      "state": {
       "description_width": ""
      }
     },
     "d5872a249ee243bd96d29e3700d8ae34": {
      "model_module": "@jupyter-widgets/controls",
      "model_module_version": "1.5.0",
      "model_name": "DescriptionStyleModel",
      "state": {
       "description_width": ""
      }
     },
     "d6790623d8ea421ebc4da4a2fa4b745e": {
      "model_module": "@jupyter-widgets/controls",
      "model_module_version": "1.5.0",
      "model_name": "CheckboxModel",
      "state": {
       "description": "high_school_gpa",
       "disabled": false,
       "layout": "IPY_MODEL_22f50f76af41452198b1259eb96dc524",
       "style": "IPY_MODEL_3e8f498333b248efbf64542626e2481e",
       "value": false
      }
     },
     "d71df94e716a4c72895436da65eb8e7d": {
      "model_module": "@jupyter-widgets/base",
      "model_module_version": "1.2.0",
      "model_name": "LayoutModel",
      "state": {}
     },
     "d73c695e35f645698b1c339655026067": {
      "model_module": "@jupyter-widgets/controls",
      "model_module_version": "1.5.0",
      "model_name": "VBoxModel",
      "state": {
       "children": [
        "IPY_MODEL_2ae919914e634ee09f03765515ee6184",
        "IPY_MODEL_745eb946a93f42759e34d97279171428",
        "IPY_MODEL_4cbb225c488c47f8994a9eae351d83f5",
        "IPY_MODEL_0d231fa7d2544c8fa84c7932df5af2e4",
        "IPY_MODEL_371d777631d84b2eb358be89c2f215fa",
        "IPY_MODEL_b96a139e278c436b95b2754a47ca663e",
        "IPY_MODEL_6d0cb443466f470dba573734769458da",
        "IPY_MODEL_ad459cd9ba7745d29b1e67644f906c7b",
        "IPY_MODEL_a14930435ecd4aa49637046e2d021f96",
        "IPY_MODEL_f01830bdb40a428d9ea111c869795ace",
        "IPY_MODEL_66ca08b25de6441cb98dd7623bef02c9",
        "IPY_MODEL_120d2bbf468641f0846c31e8d574018b"
       ],
       "layout": "IPY_MODEL_9c1bd545ff6546fca75b7739e3b31df9"
      }
     },
     "d78fdf1da1d545dfab3796b3f08f196d": {
      "model_module": "@jupyter-widgets/controls",
      "model_module_version": "1.5.0",
      "model_name": "DescriptionStyleModel",
      "state": {
       "description_width": ""
      }
     },
     "d796b02a8a914806ad100f14595d43de": {
      "model_module": "@jupyter-widgets/base",
      "model_module_version": "1.2.0",
      "model_name": "LayoutModel",
      "state": {}
     },
     "d7ef5d6649fc4419bf2d61949521c5fe": {
      "model_module": "@jupyter-widgets/controls",
      "model_module_version": "1.5.0",
      "model_name": "DropdownModel",
      "state": {
       "_options_labels": [
        "emplid",
        "enrl_ind",
        "acad_year",
        "marital_status",
        "mother_wsu_flag",
        "parent1_highest_educ_lvl",
        "parent2_highest_educ_lvl"
       ],
       "description": "func_x",
       "index": 1,
       "layout": "IPY_MODEL_a805f10fb434411da15ab92465628e3b",
       "style": "IPY_MODEL_cd29efdc50894547a75426167e42d95f"
      }
     },
     "d7fa99c5014f4ae4806fa0d6524b6e96": {
      "model_module": "@jupyter-widgets/base",
      "model_module_version": "1.2.0",
      "model_name": "LayoutModel",
      "state": {}
     },
     "d84b2837443342049ab2cc7323410f6d": {
      "model_module": "@jupyter-widgets/base",
      "model_module_version": "1.2.0",
      "model_name": "LayoutModel",
      "state": {}
     },
     "d887f32a8d0648d89f51e414d18d99d4": {
      "model_module": "@jupyter-widgets/controls",
      "model_module_version": "1.5.0",
      "model_name": "DescriptionStyleModel",
      "state": {
       "description_width": ""
      }
     },
     "d895201446bf405ca651cbe9e4733c2f": {
      "model_module": "@jupyter-widgets/controls",
      "model_module_version": "1.5.0",
      "model_name": "DescriptionStyleModel",
      "state": {
       "description_width": ""
      }
     },
     "d95399663dbe4c1f81982368fa442f3d": {
      "model_module": "@jupyter-widgets/base",
      "model_module_version": "1.2.0",
      "model_name": "LayoutModel",
      "state": {}
     },
     "d95d1ce412664dffbdcc08460e5a49bb": {
      "model_module": "@jupyter-widgets/controls",
      "model_module_version": "1.5.0",
      "model_name": "VBoxModel",
      "state": {
       "children": [
        "IPY_MODEL_2b3ef87207ed4a49ac3a89bf1ade60db",
        "IPY_MODEL_81c107b1335a4515b603dc7a9664bb8d",
        "IPY_MODEL_db91c85986494c54b0a3c707c80e4e5a",
        "IPY_MODEL_421d889d13d84c3fb36432704cf24047",
        "IPY_MODEL_0eac7862b1ba4ccb85f39c5513573dbd",
        "IPY_MODEL_609d05a96f414bfeb8f715ee00ba6f3b",
        "IPY_MODEL_19863b7d514b4148be70b39ac316d621",
        "IPY_MODEL_7959791a39c6459a8f58f4becaf4cd9f",
        "IPY_MODEL_ef771f70350544b8bfd754f0f5c30a03",
        "IPY_MODEL_8f1815a4b5584e528bff79738b08b065",
        "IPY_MODEL_66bbe7a26ccd425abb445f77285be1c5",
        "IPY_MODEL_4631d403ebc54bfdb791aa689891ab10",
        "IPY_MODEL_0b21fc46188e4c33a57b88d52aa38431",
        "IPY_MODEL_436c953a6cfd482b8ab95793059f34d3"
       ],
       "layout": "IPY_MODEL_ca931406f2fe4cd59c5893cdbdc92ee3"
      }
     },
     "d973244b0ba44ea5bbecd599f7be1f74": {
      "model_module": "@jupyter-widgets/base",
      "model_module_version": "1.2.0",
      "model_name": "LayoutModel",
      "state": {}
     },
     "d9b0017f4a13436b8a9e51e6a37bdfe2": {
      "model_module": "@jupyter-widgets/controls",
      "model_module_version": "1.5.0",
      "model_name": "CheckboxModel",
      "state": {
       "description": "parent1_highest_educ_lvl",
       "disabled": false,
       "layout": "IPY_MODEL_db8a42fa751442bbac4a535f8332aedb",
       "style": "IPY_MODEL_4b58c2900ad74b9183fd0d579a74997c",
       "value": true
      }
     },
     "da28ac71b6d143af99b8ed40e772c0fa": {
      "model_module": "@jupyter-widgets/base",
      "model_module_version": "1.2.0",
      "model_name": "LayoutModel",
      "state": {}
     },
     "daf3b730d0bd46898f56f7f3b212c3e0": {
      "model_module": "@jupyter-widgets/output",
      "model_module_version": "1.0.0",
      "model_name": "OutputModel",
      "state": {
       "layout": "IPY_MODEL_4c87bd344be643f1ac79a045919254dd",
       "outputs": [
        {
         "data": {
          "image/png": "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\n",
          "text/plain": "<Figure size 432x288 with 1 Axes>"
         },
         "metadata": {
          "needs_background": "light"
         },
         "output_type": "display_data"
        }
       ]
      }
     },
     "db868679245b4a31a570669b013b5a85": {
      "model_module": "@jupyter-widgets/base",
      "model_module_version": "1.2.0",
      "model_name": "LayoutModel",
      "state": {}
     },
     "db8a42fa751442bbac4a535f8332aedb": {
      "model_module": "@jupyter-widgets/base",
      "model_module_version": "1.2.0",
      "model_name": "LayoutModel",
      "state": {}
     },
     "db91c85986494c54b0a3c707c80e4e5a": {
      "model_module": "@jupyter-widgets/controls",
      "model_module_version": "1.5.0",
      "model_name": "CheckboxModel",
      "state": {
       "description": "city_large",
       "disabled": false,
       "layout": "IPY_MODEL_20db6557c75b4cd8ae57000af9046191",
       "style": "IPY_MODEL_e51aaad331c049c0a1ffe2f9f03abb4e",
       "value": false
      }
     },
     "dbc072871af44ae1b11192781a866ebb": {
      "model_module": "@jupyter-widgets/controls",
      "model_module_version": "1.5.0",
      "model_name": "CheckboxModel",
      "state": {
       "description": "vcea_desn",
       "disabled": false,
       "layout": "IPY_MODEL_6aa225903824490eac7990ee2927e98e",
       "style": "IPY_MODEL_2decbbf8150745c99d1407e095ae0a50",
       "value": false
      }
     },
     "dbc9a99d875640a9a6f6d1e0ff759256": {
      "model_module": "@jupyter-widgets/base",
      "model_module_version": "1.2.0",
      "model_name": "LayoutModel",
      "state": {}
     },
     "dbd6ef88d416410baea20a2ee7757619": {
      "model_module": "@jupyter-widgets/controls",
      "model_module_version": "1.5.0",
      "model_name": "DescriptionStyleModel",
      "state": {
       "description_width": ""
      }
     },
     "dbf9dc82a61e4e8d8f0f0540f4832c88": {
      "model_module": "@jupyter-widgets/base",
      "model_module_version": "1.2.0",
      "model_name": "LayoutModel",
      "state": {}
     },
     "dc0a1005f0dc40e28571ce62d7b6a55a": {
      "model_module": "@jupyter-widgets/base",
      "model_module_version": "1.2.0",
      "model_name": "LayoutModel",
      "state": {}
     },
     "dc1dfca6da4c4ec29c848d6baed16282": {
      "model_module": "@jupyter-widgets/base",
      "model_module_version": "1.2.0",
      "model_name": "LayoutModel",
      "state": {}
     },
     "dd1298150a0c400cabddbbe8aaa5958e": {
      "model_module": "@jupyter-widgets/controls",
      "model_module_version": "1.5.0",
      "model_name": "VBoxModel",
      "state": {
       "children": [
        "IPY_MODEL_c90c7f0a59644e41932c7426dacc975f",
        "IPY_MODEL_3090c0dd2c0b4ed19bb5d75dd36c7c92"
       ],
       "layout": "IPY_MODEL_57b0bcd5e1d94bd792c83b7bf8e68e32"
      }
     },
     "dd35f029d7424f22a44c54be0a1df00d": {
      "model_module": "@jupyter-widgets/base",
      "model_module_version": "1.2.0",
      "model_name": "LayoutModel",
      "state": {}
     },
     "ddb855c3ef8643cf88003e25c7c45aa5": {
      "model_module": "@jupyter-widgets/controls",
      "model_module_version": "1.5.0",
      "model_name": "DescriptionStyleModel",
      "state": {
       "description_width": ""
      }
     },
     "ddc02a6d63bf46c9b1f7589e776260b4": {
      "model_module": "@jupyter-widgets/controls",
      "model_module_version": "1.5.0",
      "model_name": "CheckboxModel",
      "state": {
       "description": "pct_blk",
       "disabled": false,
       "layout": "IPY_MODEL_98afa66564394d7babf653e355a4ddb5",
       "style": "IPY_MODEL_a2bfb3868821438ca499b43a70cdccd6",
       "value": false
      }
     },
     "dedc51010bb4447b96fb5e20095a9b94": {
      "model_module": "@jupyter-widgets/base",
      "model_module_version": "1.2.0",
      "model_name": "LayoutModel",
      "state": {}
     },
     "dfd054dd10b046998fe7c2d6c52b4e5c": {
      "model_module": "@jupyter-widgets/base",
      "model_module_version": "1.2.0",
      "model_name": "LayoutModel",
      "state": {}
     },
     "e0a4ee50b4984cd3a59b7a9d9276d196": {
      "model_module": "@jupyter-widgets/base",
      "model_module_version": "1.2.0",
      "model_name": "LayoutModel",
      "state": {}
     },
     "e103d4e66347415d87253b589a9c7666": {
      "model_module": "@jupyter-widgets/controls",
      "model_module_version": "1.5.0",
      "model_name": "SliderStyleModel",
      "state": {
       "description_width": ""
      }
     },
     "e12609054062497a9190b5bb98ce2223": {
      "model_module": "@jupyter-widgets/base",
      "model_module_version": "1.2.0",
      "model_name": "LayoutModel",
      "state": {}
     },
     "e17ab4c018f74f6a86e507b7097aa1f6": {
      "model_module": "@jupyter-widgets/base",
      "model_module_version": "1.2.0",
      "model_name": "LayoutModel",
      "state": {}
     },
     "e1d24433464444efb949248900c7231e": {
      "model_module": "@jupyter-widgets/base",
      "model_module_version": "1.2.0",
      "model_name": "LayoutModel",
      "state": {}
     },
     "e1ecbfbb02634d428bd6e7d2f62665d0": {
      "model_module": "@jupyter-widgets/controls",
      "model_module_version": "1.5.0",
      "model_name": "DescriptionStyleModel",
      "state": {
       "description_width": ""
      }
     },
     "e2652f672497492e8198883b75ff4863": {
      "model_module": "@jupyter-widgets/base",
      "model_module_version": "1.2.0",
      "model_name": "LayoutModel",
      "state": {}
     },
     "e279a2026035405db7f74213fb88fb76": {
      "model_module": "@jupyter-widgets/controls",
      "model_module_version": "1.5.0",
      "model_name": "DescriptionStyleModel",
      "state": {
       "description_width": ""
      }
     },
     "e2a05ae100fc4806b22d57bc3ec3c212": {
      "model_module": "@jupyter-widgets/base",
      "model_module_version": "1.2.0",
      "model_name": "LayoutModel",
      "state": {}
     },
     "e2e072df6797464495ede79dcc3fc780": {
      "model_module": "@jupyter-widgets/controls",
      "model_module_version": "1.5.0",
      "model_name": "ButtonModel",
      "state": {
       "description": "Create Plots",
       "layout": "IPY_MODEL_e12609054062497a9190b5bb98ce2223",
       "style": "IPY_MODEL_c820d24437ff40cf976dacd3234260ea"
      }
     },
     "e497d35563a64a38a88499981f971b59": {
      "model_module": "@jupyter-widgets/controls",
      "model_module_version": "1.5.0",
      "model_name": "ButtonModel",
      "state": {
       "description": "Import Dataset",
       "layout": "IPY_MODEL_799c5d0e28f24289ad43fcbbf62d4af2",
       "style": "IPY_MODEL_b08c94588a914e8faf85c2949bccb083"
      }
     },
     "e4a8980cf7bb4633a4736b80d892874f": {
      "model_module": "@jupyter-widgets/controls",
      "model_module_version": "1.5.0",
      "model_name": "CheckboxModel",
      "state": {
       "description": "IB_AICE",
       "disabled": false,
       "layout": "IPY_MODEL_e2652f672497492e8198883b75ff4863",
       "style": "IPY_MODEL_ddb855c3ef8643cf88003e25c7c45aa5",
       "value": false
      }
     },
     "e4b5716ba24d4726ae3b52060b8ed997": {
      "model_module": "@jupyter-widgets/base",
      "model_module_version": "1.2.0",
      "model_name": "LayoutModel",
      "state": {}
     },
     "e51aaad331c049c0a1ffe2f9f03abb4e": {
      "model_module": "@jupyter-widgets/controls",
      "model_module_version": "1.5.0",
      "model_name": "DescriptionStyleModel",
      "state": {
       "description_width": ""
      }
     },
     "e6d43aa058ea44b1a107e62f69e205a6": {
      "model_module": "@jupyter-widgets/controls",
      "model_module_version": "1.5.0",
      "model_name": "CheckboxModel",
      "state": {
       "description": "LSAMP_STEM_Flag",
       "disabled": false,
       "layout": "IPY_MODEL_b4ffefec74d446b28053530202409839",
       "style": "IPY_MODEL_31008831be0c46efb9c6dd47a605e2ea",
       "value": false
      }
     },
     "e6f6f22cd2d340e4a4fd4112447dd3d2": {
      "model_module": "@jupyter-widgets/controls",
      "model_module_version": "1.5.0",
      "model_name": "CheckboxModel",
      "state": {
       "description": "pct_hawi",
       "disabled": false,
       "layout": "IPY_MODEL_a6e4b8c3b0294e03b1e645ca5df2a3fc",
       "style": "IPY_MODEL_fe85dedd05874f518d09c154ddbcc8ee",
       "value": false
      }
     },
     "e7925b3d3dff454c8b9fd2f15a993c1d": {
      "model_module": "@jupyter-widgets/controls",
      "model_module_version": "1.5.0",
      "model_name": "CheckboxModel",
      "state": {
       "description": "attendee_fcd_pullman",
       "disabled": false,
       "layout": "IPY_MODEL_308e438e14b34e5f822a1521fa48c049",
       "style": "IPY_MODEL_179577ae132149e096494ca18e1b29e3",
       "value": false
      }
     },
     "e8574b15a31c48b9a9fcf8d8f8fe03ad": {
      "model_module": "@jupyter-widgets/controls",
      "model_module_version": "1.5.0",
      "model_name": "DescriptionStyleModel",
      "state": {
       "description_width": ""
      }
     },
     "e8cbc84e56a04d3490c9d4c69cb6c5fb": {
      "model_module": "@jupyter-widgets/controls",
      "model_module_version": "1.5.0",
      "model_name": "VBoxModel",
      "state": {
       "children": [
        "IPY_MODEL_d6790623d8ea421ebc4da4a2fa4b745e",
        "IPY_MODEL_2754ce89830a47bc83b1edbdb2822d6f",
        "IPY_MODEL_95e29f5661654620acb6431cf6290e18",
        "IPY_MODEL_f9a76cddc5ab421e897e9f0c5ecbb3c3",
        "IPY_MODEL_9d2b1d3b00ef4c63bc9b3cfb37cfc195",
        "IPY_MODEL_1880cd593db64b41a85f5f07a796ae42",
        "IPY_MODEL_7c01a154d6f44c03ad03b74e5069ee31",
        "IPY_MODEL_3f4a88a6c36c4267bce1c5cd2883cd74"
       ],
       "layout": "IPY_MODEL_7ef4551105b543efb267d4af5c4874bd"
      }
     },
     "e92177b588fd4303bcbb25d67806fc64": {
      "model_module": "@jupyter-widgets/controls",
      "model_module_version": "1.5.0",
      "model_name": "DescriptionStyleModel",
      "state": {
       "description_width": ""
      }
     },
     "e9edbfb23bfd4fe8b866a68ebe0cff24": {
      "model_module": "@jupyter-widgets/controls",
      "model_module_version": "1.5.0",
      "model_name": "DropdownModel",
      "state": {
       "_options_labels": [
        "emplid",
        "enrl_ind",
        "acad_year",
        "marital_status"
       ],
       "description": "func_x",
       "index": 2,
       "layout": "IPY_MODEL_e2a05ae100fc4806b22d57bc3ec3c212",
       "style": "IPY_MODEL_d887f32a8d0648d89f51e414d18d99d4"
      }
     },
     "ea583ead64d5405eaf9bbbe7a6536f58": {
      "model_module": "@jupyter-widgets/controls",
      "model_module_version": "1.5.0",
      "model_name": "DropdownModel",
      "state": {
       "_options_labels": [
        "emplid",
        "enrl_ind",
        "acad_year",
        "marital_status"
       ],
       "description": "func_x",
       "index": 3,
       "layout": "IPY_MODEL_45e97c05117e4c1e864215740a4a39ad",
       "style": "IPY_MODEL_a5d28a5e6e1645eb9b4d42290508ce18"
      }
     },
     "ea9da9e809ff410eb29349f306dbfe7c": {
      "model_module": "@jupyter-widgets/controls",
      "model_module_version": "1.5.0",
      "model_name": "DescriptionStyleModel",
      "state": {
       "description_width": ""
      }
     },
     "eb436decfb504ec7840aee4794f21e82": {
      "model_module": "@jupyter-widgets/controls",
      "model_module_version": "1.5.0",
      "model_name": "CheckboxModel",
      "state": {
       "description": "attendee_imagine_u",
       "disabled": false,
       "layout": "IPY_MODEL_b6e8165477864c2a816f1945064af252",
       "style": "IPY_MODEL_4cbabfa858314e238f0f094a74d5c27b",
       "value": false
      }
     },
     "ebc4773c7b9c47369a3282ae6bab7f02": {
      "model_module": "@jupyter-widgets/controls",
      "model_module_version": "1.5.0",
      "model_name": "CheckboxModel",
      "state": {
       "description": "spring_lec_contact_hrs",
       "disabled": false,
       "layout": "IPY_MODEL_d11a43e84a7d4c3aa4714d9c6bacff8d",
       "style": "IPY_MODEL_d21109548dd14c869622d2576e2bb404",
       "value": false
      }
     },
     "ebd5c3ee349d4bac8ef232046195155f": {
      "model_module": "@jupyter-widgets/base",
      "model_module_version": "1.2.0",
      "model_name": "LayoutModel",
      "state": {}
     },
     "ec46b0c373fc4f95ac2193cb36fab246": {
      "model_module": "@jupyter-widgets/base",
      "model_module_version": "1.2.0",
      "model_name": "LayoutModel",
      "state": {}
     },
     "ece4055abfec48428e1b001d7a5976ef": {
      "model_module": "@jupyter-widgets/controls",
      "model_module_version": "1.5.0",
      "model_name": "VBoxModel",
      "state": {
       "_dom_classes": [
        "widget-interact"
       ],
       "children": [
        "IPY_MODEL_b483304ac5294915807f838139c3f332",
        "IPY_MODEL_0807bd03b9054bfa9aa4dbbd54605cc5",
        "IPY_MODEL_b49b8e6f5c3444aab26b068798d52e7d"
       ],
       "layout": "IPY_MODEL_db868679245b4a31a570669b013b5a85"
      }
     },
     "ed104399e9024a288db5a75a1742ec0a": {
      "model_module": "@jupyter-widgets/base",
      "model_module_version": "1.2.0",
      "model_name": "LayoutModel",
      "state": {}
     },
     "ed207e2df47b4d28831810c167344145": {
      "model_module": "@jupyter-widgets/controls",
      "model_module_version": "1.5.0",
      "model_name": "CheckboxModel",
      "state": {
       "description": "spring_avg_pct_withdrawn",
       "disabled": false,
       "layout": "IPY_MODEL_114c5d727b0a4d238b25c2b9a91dd482",
       "style": "IPY_MODEL_cf1512381b1042ceb05fea0310b280fb",
       "value": false
      }
     },
     "ed376dfb6f0e46c68cc8dd04f491d20c": {
      "model_module": "@jupyter-widgets/controls",
      "model_module_version": "1.5.0",
      "model_name": "AccordionModel",
      "state": {
       "_titles": {
        "0": "Economic",
        "1": "Geographic",
        "2": "Census"
       },
       "children": [
        "IPY_MODEL_4ce5e2c70deb4fd0844e4fd47b24a2db",
        "IPY_MODEL_d95d1ce412664dffbdcc08460e5a49bb",
        "IPY_MODEL_af16043d89604673b0af1780bed82b01"
       ],
       "layout": "IPY_MODEL_52d9b8cf081a41bbab81db591e243ca5"
      }
     },
     "ee0e9ccef31c471bbc736e38d549d4f9": {
      "model_module": "@jupyter-widgets/controls",
      "model_module_version": "1.5.0",
      "model_name": "CheckboxModel",
      "state": {
       "description": "unmet_need_ofr",
       "disabled": false,
       "layout": "IPY_MODEL_780bc30bf1a64cebb75336aad0b3ac42",
       "style": "IPY_MODEL_f848039e9a0f46d7af9b0121658b6891",
       "value": false
      }
     },
     "ef771f70350544b8bfd754f0f5c30a03": {
      "model_module": "@jupyter-widgets/controls",
      "model_module_version": "1.5.0",
      "model_name": "CheckboxModel",
      "state": {
       "description": "town_fringe",
       "disabled": false,
       "layout": "IPY_MODEL_84926ae21fd443cd923e695be6d8fe43",
       "style": "IPY_MODEL_547ae91c28a34909a1216e88f3345b47",
       "value": false
      }
     },
     "efe3b8b11fa34f4d8dce9ef7434052a9": {
      "model_module": "@jupyter-widgets/controls",
      "model_module_version": "1.5.0",
      "model_name": "TabModel",
      "state": {
       "_titles": {
        "0": "Background",
        "1": "Characteristics",
        "2": "Coursework",
        "3": "Student Data"
       },
       "children": [
        "IPY_MODEL_17be48b97c7f46b7a24d4887cb4159ed",
        "IPY_MODEL_ed376dfb6f0e46c68cc8dd04f491d20c",
        "IPY_MODEL_8c87b715934c43ceac66fe063637c7d9",
        "IPY_MODEL_38f2ef1cd7804e49b7e690800c0f6fb2"
       ],
       "layout": "IPY_MODEL_8bc7994729c9482ea00e72ff0c387984"
      }
     },
     "f00929f3081642658a5fb1ba450c6971": {
      "model_module": "@jupyter-widgets/controls",
      "model_module_version": "1.5.0",
      "model_name": "ButtonModel",
      "state": {
       "description": "Build Dataset",
       "layout": "IPY_MODEL_52b6f72946a34b82ab7e65e728be7613",
       "style": "IPY_MODEL_aad33094bab848ffb93487740dfd20d0"
      }
     },
     "f01830bdb40a428d9ea111c869795ace": {
      "model_module": "@jupyter-widgets/controls",
      "model_module_version": "1.5.0",
      "model_name": "CheckboxModel",
      "state": {
       "description": "race_white",
       "disabled": false,
       "layout": "IPY_MODEL_1e645a3ad3a244b2af4cdae537bcd316",
       "style": "IPY_MODEL_857f60eac1c04977b4c40d44b170368a",
       "value": false
      }
     },
     "f036f11311fa444899570283c5626ddf": {
      "model_module": "@jupyter-widgets/base",
      "model_module_version": "1.2.0",
      "model_name": "LayoutModel",
      "state": {}
     },
     "f072a489e204435791c6812189f9eb51": {
      "model_module": "@jupyter-widgets/controls",
      "model_module_version": "1.5.0",
      "model_name": "DescriptionStyleModel",
      "state": {
       "description_width": ""
      }
     },
     "f13ab38dc89d4c79b94406c9a54ae74f": {
      "model_module": "@jupyter-widgets/controls",
      "model_module_version": "1.5.0",
      "model_name": "CheckboxModel",
      "state": {
       "description": "fall_avg_pct_DFW",
       "disabled": false,
       "layout": "IPY_MODEL_ad9dee06d2404950a04ac41ffc682665",
       "style": "IPY_MODEL_ea9da9e809ff410eb29349f306dbfe7c",
       "value": false
      }
     },
     "f156c907aefb449b8e85018bfaef1bf7": {
      "model_module": "@jupyter-widgets/controls",
      "model_module_version": "1.5.0",
      "model_name": "DescriptionStyleModel",
      "state": {
       "description_width": ""
      }
     },
     "f1c1f679070147819e68e8dfb26ba2e1": {
      "model_module": "@jupyter-widgets/controls",
      "model_module_version": "1.5.0",
      "model_name": "ButtonStyleModel",
      "state": {}
     },
     "f1f9017ffd0645fb9a9fed004ccdc1e8": {
      "model_module": "@jupyter-widgets/base",
      "model_module_version": "1.2.0",
      "model_name": "LayoutModel",
      "state": {}
     },
     "f2392c2591aa48f8bad175dc35a46520": {
      "model_module": "@jupyter-widgets/base",
      "model_module_version": "1.2.0",
      "model_name": "LayoutModel",
      "state": {}
     },
     "f2448df21e1c4835a3c4d7f9f163e95e": {
      "model_module": "@jupyter-widgets/controls",
      "model_module_version": "1.5.0",
      "model_name": "CheckboxModel",
      "state": {
       "description": "provost",
       "disabled": false,
       "layout": "IPY_MODEL_4e7c8df6ddd0457cb36dfb267c115264",
       "style": "IPY_MODEL_3ebf76fe53b2413d85757e2db3487ba5",
       "value": false
      }
     },
     "f333c2f4d97c45ebabff79db1805896a": {
      "model_module": "@jupyter-widgets/controls",
      "model_module_version": "1.5.0",
      "model_name": "CheckboxModel",
      "state": {
       "description": "honors_program_ind",
       "disabled": false,
       "layout": "IPY_MODEL_fed90acd689a4bfcb2a63fb55eb3473e",
       "style": "IPY_MODEL_476b358cacaa47dca82b7705c922019c",
       "value": false
      }
     },
     "f364a554ff3d4eb6b1983842610c9ac1": {
      "model_module": "@jupyter-widgets/controls",
      "model_module_version": "1.5.0",
      "model_name": "CheckboxModel",
      "state": {
       "description": "citizenship_country",
       "disabled": false,
       "layout": "IPY_MODEL_7294aac036fd4cb587a56de868448820",
       "style": "IPY_MODEL_1c024d9d2edd4ee6b081011c30f8659a",
       "value": false
      }
     },
     "f48755f0da8b4bc39851d71877c5f13c": {
      "model_module": "@jupyter-widgets/controls",
      "model_module_version": "1.5.0",
      "model_name": "DescriptionStyleModel",
      "state": {
       "description_width": ""
      }
     },
     "f535ea3084c140d19dcb19c16ffc017f": {
      "model_module": "@jupyter-widgets/base",
      "model_module_version": "1.2.0",
      "model_name": "LayoutModel",
      "state": {}
     },
     "f5401277a6414b0d9dd554e596d5231a": {
      "model_module": "@jupyter-widgets/base",
      "model_module_version": "1.2.0",
      "model_name": "LayoutModel",
      "state": {}
     },
     "f55ceff98b5d4f7f8184bb5c2892b3e8": {
      "model_module": "@jupyter-widgets/controls",
      "model_module_version": "1.5.0",
      "model_name": "DescriptionStyleModel",
      "state": {
       "description_width": ""
      }
     },
     "f5ddf20226ca40109deeb2085eb1eb50": {
      "model_module": "@jupyter-widgets/controls",
      "model_module_version": "1.5.0",
      "model_name": "VBoxModel",
      "state": {
       "children": [
        "IPY_MODEL_16f548e9e0494c17a6d4e25e34c0be1c",
        "IPY_MODEL_07b551d9eb7d4a77840f7ba3a8745fbc"
       ],
       "layout": "IPY_MODEL_2f21fe0400424b8cbdb124354dbd336a"
      }
     },
     "f671725543cc4fd688615c424d610f28": {
      "model_module": "@jupyter-widgets/base",
      "model_module_version": "1.2.0",
      "model_name": "LayoutModel",
      "state": {}
     },
     "f793b555f06a48f9a4800984af1f0576": {
      "model_module": "@jupyter-widgets/controls",
      "model_module_version": "1.5.0",
      "model_name": "DescriptionStyleModel",
      "state": {
       "description_width": ""
      }
     },
     "f7a2aced261a45fbb1ddd9136ab118a6": {
      "model_module": "@jupyter-widgets/base",
      "model_module_version": "1.2.0",
      "model_name": "LayoutModel",
      "state": {}
     },
     "f7f8e4ef79864ba29b3a187d9065348a": {
      "model_module": "@jupyter-widgets/controls",
      "model_module_version": "1.5.0",
      "model_name": "CheckboxModel",
      "state": {
       "description": "attendee_vibes",
       "disabled": false,
       "layout": "IPY_MODEL_9e4c1160d532421881d39418587734ea",
       "style": "IPY_MODEL_167a3ae79215469dbe58886ed88c84cb",
       "value": false
      }
     },
     "f848039e9a0f46d7af9b0121658b6891": {
      "model_module": "@jupyter-widgets/controls",
      "model_module_version": "1.5.0",
      "model_name": "DescriptionStyleModel",
      "state": {
       "description_width": ""
      }
     },
     "f8651da5dc6a410688c1ec0f70340490": {
      "model_module": "@jupyter-widgets/base",
      "model_module_version": "1.2.0",
      "model_name": "LayoutModel",
      "state": {}
     },
     "f9a76cddc5ab421e897e9f0c5ecbb3c3": {
      "model_module": "@jupyter-widgets/controls",
      "model_module_version": "1.5.0",
      "model_name": "CheckboxModel",
      "state": {
       "description": "fall_cum_gpa",
       "disabled": false,
       "layout": "IPY_MODEL_f7a2aced261a45fbb1ddd9136ab118a6",
       "style": "IPY_MODEL_962644ae64dd4f709f5205831f599d73",
       "value": false
      }
     },
     "f9adfeac289040a6a757c68ebe0c6449": {
      "model_module": "@jupyter-widgets/base",
      "model_module_version": "1.2.0",
      "model_name": "LayoutModel",
      "state": {}
     },
     "f9b4f01e236a478d8143aeecf337a518": {
      "model_module": "@jupyter-widgets/controls",
      "model_module_version": "1.5.0",
      "model_name": "CheckboxModel",
      "state": {
       "description": "fall_avg_pct_DF",
       "disabled": false,
       "layout": "IPY_MODEL_dbf9dc82a61e4e8d8f0f0540f4832c88",
       "style": "IPY_MODEL_17fc2bcbf74b45fe98b332de66d71426",
       "value": false
      }
     },
     "f9e87cd950e8457fa124192e38cb2782": {
      "model_module": "@jupyter-widgets/controls",
      "model_module_version": "1.5.0",
      "model_name": "DescriptionStyleModel",
      "state": {
       "description_width": ""
      }
     },
     "f9ffd218c3194246a3c5e32d38ba6172": {
      "model_module": "@jupyter-widgets/base",
      "model_module_version": "1.2.0",
      "model_name": "LayoutModel",
      "state": {}
     },
     "fafb4fda91994a6199590fdedae8c1b5": {
      "model_module": "@jupyter-widgets/controls",
      "model_module_version": "1.5.0",
      "model_name": "DescriptionStyleModel",
      "state": {
       "description_width": ""
      }
     },
     "fd97118313014fb9823db8267bebd5e0": {
      "model_module": "@jupyter-widgets/controls",
      "model_module_version": "1.5.0",
      "model_name": "DescriptionStyleModel",
      "state": {
       "description_width": ""
      }
     },
     "fe3acde37c1247049ab347d4cc5dd3c8": {
      "model_module": "@jupyter-widgets/controls",
      "model_module_version": "1.5.0",
      "model_name": "DescriptionStyleModel",
      "state": {
       "description_width": ""
      }
     },
     "fe85dedd05874f518d09c154ddbcc8ee": {
      "model_module": "@jupyter-widgets/controls",
      "model_module_version": "1.5.0",
      "model_name": "DescriptionStyleModel",
      "state": {
       "description_width": ""
      }
     },
     "fed90acd689a4bfcb2a63fb55eb3473e": {
      "model_module": "@jupyter-widgets/base",
      "model_module_version": "1.2.0",
      "model_name": "LayoutModel",
      "state": {}
     },
     "ff3c54970e834635a56e25ebaf1e682a": {
      "model_module": "@jupyter-widgets/controls",
      "model_module_version": "1.5.0",
      "model_name": "DescriptionStyleModel",
      "state": {
       "description_width": ""
      }
     },
     "ff99d6a767a340249d46851b395aa62b": {
      "model_module": "@jupyter-widgets/controls",
      "model_module_version": "1.5.0",
      "model_name": "DescriptionStyleModel",
      "state": {
       "description_width": ""
      }
     },
     "ffe895becc1f4a25a2ed12808fba6e88": {
      "model_module": "@jupyter-widgets/controls",
      "model_module_version": "1.5.0",
      "model_name": "CheckboxModel",
      "state": {
       "description": "attendee_fcod",
       "disabled": false,
       "layout": "IPY_MODEL_334e0186e36e4f3496636726a332bac5",
       "style": "IPY_MODEL_fe3acde37c1247049ab347d4cc5dd3c8",
       "value": false
      }
     }
    },
    "version_major": 2,
    "version_minor": 0
   }
  }
 },
 "nbformat": 4,
 "nbformat_minor": 4
}
