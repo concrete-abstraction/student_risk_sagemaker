{
 "cells": [
  {
   "cell_type": "code",
   "execution_count": 1,
   "metadata": {
    "autorun": true,
    "jupyter": {
     "source_hidden": true
    },
    "tags": []
   },
   "outputs": [],
   "source": [
    "from __future__ import print_function\n",
    "from student_risk import build_dev\n",
    "import functools\n",
    "import ipywidgets as widgets\n",
    "import math\n",
    "import matplotlib.pyplot as plt\n",
    "import numpy as np\n",
    "import pandas as pd\n",
    "import seaborn as sns\n",
    "import time\n",
    "import statsmodels.graphics.api as smg\n",
    "from imblearn.under_sampling import TomekLinks\n",
    "from ipywidgets import GridspecLayout, interact, interactive, fixed, interact_manual\n",
    "from IPython.display import clear_output, display, Javascript\n",
    "from matplotlib.legend_handler import HandlerLine2D\n",
    "from halo import HaloNotebook\n",
    "from patsy import dmatrices\n",
    "from sklearn.compose import make_column_transformer\n",
    "from sklearn.neighbors import LocalOutlierFactor\n",
    "from sklearn.preprocessing import MinMaxScaler, StandardScaler, OneHotEncoder\n",
    "from sklearn.linear_model import LinearRegression, LogisticRegression, SGDClassifier\n",
    "from sklearn.neural_network import MLPClassifier\n",
    "from sklearn.ensemble import VotingClassifier\n",
    "from sklearn.metrics import confusion_matrix, roc_curve, roc_auc_score\n",
    "from sklearn.model_selection import GridSearchCV\n",
    "from statsmodels.api import OLS\n",
    "from statsmodels.discrete.discrete_model import Logit\n",
    "from statsmodels.stats.outliers_influence import variance_inflation_factor"
   ]
  },
  {
   "cell_type": "code",
   "execution_count": 2,
   "metadata": {
    "autorun": true,
    "jupyter": {
     "source_hidden": true
    },
    "tags": []
   },
   "outputs": [],
   "source": [
    "# Global variables\n",
    "wsu_color = (0.596,0.117,0.196)\n",
    "wsu_cmap = sns.light_palette(\"#981e32\",as_cmap=True)"
   ]
  },
  {
   "cell_type": "markdown",
   "metadata": {},
   "source": [
    "# Create Datasets for Census Model Development (~ 10 min.)"
   ]
  },
  {
   "cell_type": "code",
   "execution_count": 3,
   "metadata": {
    "autorun": true,
    "jupyter": {
     "source_hidden": true
    },
    "tags": []
   },
   "outputs": [
    {
     "data": {
      "application/vnd.jupyter.widget-view+json": {
       "model_id": "463787e818144aff909f3487a9cffb94",
       "version_major": 2,
       "version_minor": 0
      },
      "text/plain": [
       "VBox(children=(Button(description='Create Dataset', style=ButtonStyle()), Output()))"
      ]
     },
     "metadata": {},
     "output_type": "display_data"
    }
   ],
   "source": [
    "# SAS dataset builder\n",
    "def creator(b):\n",
    "    with create_output:\n",
    "        build_dev.DatasetBuilderDev.build_census_dev()\n",
    "\n",
    "create_button = widgets.Button(description='Create Dataset')\n",
    "create_output = widgets.Output()\n",
    "   \n",
    "create_button.on_click(creator)\n",
    "\n",
    "button_nest = widgets.VBox([create_button, create_output])\n",
    "display(button_nest)"
   ]
  },
  {
   "cell_type": "markdown",
   "metadata": {},
   "source": [
    "# Import Saved Datasets from Disk"
   ]
  },
  {
   "cell_type": "code",
   "execution_count": 4,
   "metadata": {
    "autorun": true,
    "jupyter": {
     "source_hidden": true
    },
    "tags": []
   },
   "outputs": [
    {
     "data": {
      "application/vnd.jupyter.widget-view+json": {
       "model_id": "b3c471ddf34c45209df060c949009139",
       "version_major": 2,
       "version_minor": 0
      },
      "text/plain": [
       "Button(description='Import Dataset', style=ButtonStyle())"
      ]
     },
     "metadata": {},
     "output_type": "display_data"
    }
   ],
   "source": [
    "# Import pre-split data\n",
    "class Importer():\n",
    "        \n",
    "    def __init__(self):\n",
    "        self.training_set = pd.DataFrame()\n",
    "        self.testing_set = pd.DataFrame()\n",
    "    \n",
    "    def importer(self, b):\n",
    "        self.training_set = pd.read_csv('Z:\\\\Nathan\\\\Models\\\\student_risk\\\\datasets\\\\training_set.csv',\n",
    "                                   encoding='utf-8', low_memory=False)\n",
    "        self.testing_set = pd.read_csv('Z:\\\\Nathan\\\\Models\\\\student_risk\\\\datasets\\\\testing_set.csv', \n",
    "                                  encoding='utf-8', low_memory=False)\n",
    "\n",
    "    def training_getter(self):\n",
    "        return self.training_set\n",
    "    \n",
    "    def testing_getter(self):\n",
    "        return self.testing_set\n",
    "\n",
    "\n",
    "im = Importer()\n",
    "    \n",
    "importer_button = widgets.Button(description='Import Dataset')\n",
    "\n",
    "importer_button.on_click(im.importer)\n",
    "display(importer_button)"
   ]
  },
  {
   "cell_type": "markdown",
   "metadata": {},
   "source": [
    "# Select Campus for Census Model Development"
   ]
  },
  {
   "cell_type": "code",
   "execution_count": 5,
   "metadata": {
    "autorun": true,
    "jupyter": {
     "source_hidden": true
    },
    "tags": []
   },
   "outputs": [
    {
     "data": {
      "application/vnd.jupyter.widget-view+json": {
       "model_id": "f3af9694447e443caaec218b36ca56f1",
       "version_major": 2,
       "version_minor": 0
      },
      "text/plain": [
       "Dropdown(description='Campus:', options=(('Pullman', 'PULLM'), ('Tri-Cities', 'TRICI'), ('Vancouver', 'VANCO')…"
      ]
     },
     "metadata": {},
     "output_type": "display_data"
    }
   ],
   "source": [
    "dropdown = widgets.Dropdown(\n",
    "    options=[('Pullman', 'PULLM'), ('Tri-Cities', 'TRICI'), ('Vancouver', 'VANCO')],\n",
    "    value='PULLM',\n",
    "    description='Campus:',\n",
    ")\n",
    "\n",
    "display(dropdown)"
   ]
  },
  {
   "cell_type": "markdown",
   "metadata": {
    "tags": []
   },
   "source": [
    "# Select Model Variables"
   ]
  },
  {
   "cell_type": "code",
   "execution_count": 6,
   "metadata": {
    "autorun": true,
    "jupyter": {
     "source_hidden": true
    },
    "tags": []
   },
   "outputs": [
    {
     "data": {
      "application/vnd.jupyter.widget-view+json": {
       "model_id": "82c1a0231156465586b7e804e8cf7c2c",
       "version_major": 2,
       "version_minor": 0
      },
      "text/plain": [
       "Tab(children=(Accordion(children=(VBox(children=(Checkbox(value=False, description='acad_year'), Checkbox(valu…"
      ]
     },
     "metadata": {},
     "output_type": "display_data"
    }
   ],
   "source": [
    "adms_features = ['acad_year','count_week_from_term_begin_dt','marital_status','resident','father_wsu_flag','mother_wsu_flag',\n",
    "                 'parent1_highest_educ_lvl','parent2_highest_educ_lvl','citizenship_country','last_sch_proprietorship']\n",
    "\n",
    "demo_features = ['age_group','age','male','race_hispanic','race_american_indian',\n",
    "                 'race_alaska','race_asian','race_black','race_native_hawaiian','race_white',\n",
    "                 'underrep_minority','ipeds_ethnic_group_descrshort']\n",
    "\n",
    "acs_features = ['gini_indx','pvrt_rate','median_inc','median_value',\n",
    "                 'educ_rate','pct_blk','pct_ai','pct_asn','pct_hawi','pct_oth','pct_two','pct_non','pct_hisp']\n",
    "            \n",
    "geo_features = ['distance','pop_dens','city_large','city_mid','city_small','suburb_large','suburb_mid','suburb_small','town_fringe',\n",
    "                'town_distant','town_remote','rural_fringe','rural_distant','rural_remote']\n",
    "\n",
    "cen_features = ['pell_eligibility_ind','pell_recipient_ind','first_gen_flag','LSAMP_STEM_Flag','anywhere_STEM_Flag',\n",
    "                 'honors_program_ind','afl_greek_indicator','athlete']\n",
    "\n",
    "plan_features = ['business','cahnrs_anml','cahnrs_envr','cahnrs_econ','cahnrext','cas_chem','cas_crim',\n",
    "                 'cas_math','cas_psyc','cas_biol','cas_engl','cas_phys','cas','comm','education','medicine',\n",
    "                 'nursing','pharmacy','provost','vcea_bioe','vcea_cive','vcea_desn','vcea_eecs','vcea_mech',\n",
    "                 'vcea','vet_med']\n",
    "\n",
    "perf_features = ['high_school_gpa','fall_midterm_gpa_avg','fall_midterm_gpa_avg_ind','fall_cum_gpa','spring_midterm_gpa_avg',\n",
    "                 'spring_midterm_gpa_avg_ind','spring_midterm_gpa_change','spring_withdrawn_hours']\n",
    "            \n",
    "cls_features = ['remedial','fall_avg_difficulty','fall_avg_pct_withdrawn','fall_avg_pct_CDFW',\n",
    "                'fall_lec_count','fall_lab_count','fall_lec_contact_hrs','fall_lab_contact_hrs',\n",
    "                'fall_avg_pct_CDF','fall_avg_pct_DFW','fall_avg_pct_DF','total_fall_contact_hrs','total_fall_units',\n",
    "                'spring_avg_difficulty','spring_avg_pct_withdrawn','spring_avg_pct_CDFW','spring_avg_pct_CDF',\n",
    "                'spring_avg_pct_DFW','spring_avg_pct_DF','spring_lec_count','spring_lab_count','spring_lec_contact_hrs',\n",
    "                'spring_lab_contact_hrs','total_spring_contact_hrs','cum_adj_transfer_hours','term_credit_hours']\n",
    "        \n",
    "tran_features = ['AD_DTA','AD_AST','AP','RS','CHS','IB','AICE','IB_AICE']\n",
    "\n",
    "vis_features = ['attendee_alive','attendee_campus_visit','attendee_cashe','attendee_destination',\n",
    "                'attendee_experience','attendee_fcd_pullman','attendee_fced','attendee_fcoc',\n",
    "                'attendee_fcod','attendee_group_visit','attendee_honors_visit','attendee_imagine_tomorrow',\n",
    "                'attendee_imagine_u','attendee_la_bienvenida','attendee_lvp_camp','attendee_oos_destination',\n",
    "                'attendee_oos_experience','attendee_preview','attendee_preview_jrs','attendee_shaping',\n",
    "                'attendee_top_scholars','attendee_transfer_day','attendee_vibes','attendee_welcome_center',\n",
    "                'attendee_any_visitation_ind','attendee_total_visits']\n",
    "\n",
    "aid_features = ['fed_efc','fed_need','unmet_need_ofr']\n",
    "\n",
    "adms_objs = []\n",
    "demo_objs = []\n",
    "acs_objs = []\n",
    "geo_objs = []\n",
    "cen_objs = []\n",
    "plan_objs = []\n",
    "perf_objs = []\n",
    "cls_objs = []\n",
    "tran_objs = []\n",
    "vis_objs = []\n",
    "aid_objs = []\n",
    "\n",
    "for feature in adms_features:\n",
    "    adms_objs.append(widgets.Checkbox(value=False, description=feature))\n",
    "\n",
    "for feature in demo_features:\n",
    "    demo_objs.append(widgets.Checkbox(value=False, description=feature))\n",
    "    \n",
    "for feature in acs_features:\n",
    "    acs_objs.append(widgets.Checkbox(value=False, description=feature))\n",
    "    \n",
    "for feature in geo_features:\n",
    "    geo_objs.append(widgets.Checkbox(value=False, description=feature))    \n",
    "\n",
    "for feature in cen_features:\n",
    "    cen_objs.append(widgets.Checkbox(value=False, description=feature))\n",
    "    \n",
    "for feature in plan_features:\n",
    "    plan_objs.append(widgets.Checkbox(value=False, description=feature))\n",
    "\n",
    "for feature in perf_features:\n",
    "    perf_objs.append(widgets.Checkbox(value=False, description=feature))\n",
    "    \n",
    "for feature in cls_features:\n",
    "    cls_objs.append(widgets.Checkbox(value=False, description=feature))\n",
    "    \n",
    "for feature in tran_features:\n",
    "    tran_objs.append(widgets.Checkbox(value=False, description=feature))    \n",
    "\n",
    "for feature in vis_features:\n",
    "    vis_objs.append(widgets.Checkbox(value=False, description=feature))\n",
    "    \n",
    "for feature in aid_features:\n",
    "    aid_objs.append(widgets.Checkbox(value=False, description=feature))\n",
    "    \n",
    "adms_ui = widgets.VBox(children=adms_objs, layout=widgets.Layout(flex_flow='row wrap'))\n",
    "demo_ui = widgets.VBox(children=demo_objs, layout=widgets.Layout(flex_flow='row wrap'))\n",
    "acs_ui = widgets.VBox(children=acs_objs, layout=widgets.Layout(flex_flow='row wrap'))\n",
    "geo_ui = widgets.VBox(children=geo_objs, layout=widgets.Layout(flex_flow='row wrap'))\n",
    "cen_ui = widgets.VBox(children=cen_objs, layout=widgets.Layout(flex_flow='row wrap'))\n",
    "plan_ui = widgets.VBox(children=plan_objs, layout=widgets.Layout(flex_flow='row wrap'))\n",
    "perf_ui = widgets.VBox(children=perf_objs, layout=widgets.Layout(flex_flow='row wrap'))\n",
    "cls_ui = widgets.VBox(children=cls_objs, layout=widgets.Layout(flex_flow='row wrap'))\n",
    "tran_ui = widgets.VBox(children=tran_objs, layout=widgets.Layout(flex_flow='row wrap'))\n",
    "vis_ui = widgets.VBox(children=vis_objs, layout=widgets.Layout(flex_flow='row wrap'))\n",
    "aid_ui = widgets.VBox(children=aid_objs, layout=widgets.Layout(flex_flow='row wrap'))\n",
    "\n",
    "accordion_0 = widgets.Accordion(children = [adms_ui, demo_ui, vis_ui, tran_ui])\n",
    "accordion_1 = widgets.Accordion(children = [acs_ui, geo_ui, cen_ui])\n",
    "accordion_2 = widgets.Accordion(children = [plan_ui, cls_ui, perf_ui])\n",
    "accordion_3 = widgets.Accordion(children = [aid_ui])\n",
    "\n",
    "accordion_0.set_title(0, 'Admissions')\n",
    "accordion_0.set_title(1, 'Demographics')\n",
    "accordion_0.set_title(2, 'Visitation')\n",
    "accordion_0.set_title(3, 'Transfer')\n",
    "accordion_1.set_title(0, 'Economic')\n",
    "accordion_1.set_title(1, 'Geographic')\n",
    "accordion_1.set_title(2, 'Census')\n",
    "accordion_2.set_title(0, 'Plans')\n",
    "accordion_2.set_title(1, 'Class')\n",
    "accordion_2.set_title(2, 'Performance')\n",
    "accordion_3.set_title(0, 'Financial Aid')\n",
    "\n",
    "tab_nest = widgets.Tab()\n",
    "tab_nest.children = [accordion_0,accordion_1,accordion_2,accordion_3]\n",
    "tab_nest.set_title(0, 'Background')\n",
    "tab_nest.set_title(1, 'Characteristics')\n",
    "tab_nest.set_title(2, 'Coursework')\n",
    "tab_nest.set_title(3, 'Student Data')\n",
    "display(tab_nest)"
   ]
  },
  {
   "cell_type": "markdown",
   "metadata": {},
   "source": [
    "# Build Models"
   ]
  },
  {
   "cell_type": "code",
   "execution_count": 7,
   "metadata": {
    "autorun": true,
    "jupyter": {
     "source_hidden": true
    },
    "tags": []
   },
   "outputs": [
    {
     "data": {
      "application/vnd.jupyter.widget-view+json": {
       "model_id": "fed9aea3104f48cea3407bf99c815284",
       "version_major": 2,
       "version_minor": 0
      },
      "text/plain": [
       "Button(description='Build Models', style=ButtonStyle())"
      ]
     },
     "metadata": {},
     "output_type": "display_data"
    }
   ],
   "source": [
    "class Builder():\n",
    "\n",
    "    def __init__(self, dropdown, im, adms_objs, demo_objs, vis_objs, tran_objs, acs_objs, geo_objs, cen_objs, plan_objs, cls_objs, perf_objs, aid_objs):\n",
    "        self.training_set = pd.DataFrame()\n",
    "        self.testing_set = pd.DataFrame()\n",
    "        self.selected_features = []\n",
    "        self.dropdown = dropdown\n",
    "        self.adms_objs = adms_objs\n",
    "        self.demo_objs = demo_objs\n",
    "        self.vis_objs = vis_objs\n",
    "        self.tran_objs = tran_objs\n",
    "        self.acs_objs = acs_objs\n",
    "        self.geo_objs = geo_objs\n",
    "        self.cen_objs = cen_objs\n",
    "        self.plan_objs = plan_objs\n",
    "        self.cls_objs = cls_objs\n",
    "        self.perf_objs = perf_objs\n",
    "        self.aid_objs = aid_objs\n",
    "        \n",
    "    def builder(self, b):\n",
    "        \n",
    "        self.selected_features = ['emplid', 'enrl_ind']\n",
    "        \n",
    "        for _ in range(len(self.adms_objs)):\n",
    "            if self.adms_objs[_].value == True:\n",
    "                self.selected_features.append(self.adms_objs[_].description)\n",
    "\n",
    "        for _ in range(len(self.demo_objs)):\n",
    "            if self.demo_objs[_].value == True:\n",
    "                self.selected_features.append(self.demo_objs[_].description)\n",
    "\n",
    "        for _ in range(len(self.vis_objs)):\n",
    "            if self.vis_objs[_].value == True:\n",
    "                self.selected_features.append(self.vis_objs[_].description)\n",
    "\n",
    "        for _ in range(len(self.tran_objs)):\n",
    "            if self.tran_objs[_].value == True:\n",
    "                self.selected_features.append(self.tran_objs[_].description)\n",
    "\n",
    "        for _ in range(len(self.acs_objs)):\n",
    "            if self.acs_objs[_].value == True:\n",
    "                self.selected_features.append(self.acs_objs[_].description)\n",
    "\n",
    "        for _ in range(len(self.geo_objs)):\n",
    "            if self.geo_objs[_].value == True:\n",
    "                self.selected_features.append(self.geo_objs[_].description)\n",
    "\n",
    "        for _ in range(len(self.cen_objs)):\n",
    "            if self.cen_objs[_].value == True:\n",
    "                self.selected_features.append(self.cen_objs[_].description)\n",
    "\n",
    "        for _ in range(len(self.plan_objs)):\n",
    "            if self.plan_objs[_].value == True:\n",
    "                self.selected_features.append(self.plan_objs[_].description)\n",
    "\n",
    "        for _ in range(len(self.cls_objs)):\n",
    "            if self.cls_objs[_].value == True:\n",
    "                self.selected_features.append(self.cls_objs[_].description)\n",
    "\n",
    "        for _ in range(len(self.perf_objs)):\n",
    "            if self.perf_objs[_].value == True:\n",
    "                self.selected_features.append(self.perf_objs[_].description)\n",
    "\n",
    "        for _ in range(len(self.aid_objs)):\n",
    "            if self.aid_objs[_].value == True:\n",
    "                self.selected_features.append(self.aid_objs[_].description)\n",
    "    \n",
    "        self.training_set = im.training_getter()[(im.training_getter().adj_acad_prog_primary_campus == self.dropdown.value) & (im.training_getter().adj_admit_type_cat == 'FRSH')][self.selected_features].dropna()\n",
    "        self.testing_set = im.testing_getter()[(im.testing_getter().adj_acad_prog_primary_campus == self.dropdown.value) & (im.testing_getter().adj_admit_type_cat == 'FRSH')][self.selected_features].dropna()\n",
    "\n",
    "    def training_getter(self):\n",
    "        return self.training_set\n",
    "\n",
    "    def testing_getter(self):\n",
    "        return self.testing_set\n",
    "\n",
    "    \n",
    "bd = Builder(dropdown, im, adms_objs, demo_objs, vis_objs, tran_objs, acs_objs, geo_objs, cen_objs, plan_objs, cls_objs, perf_objs, aid_objs)\n",
    "    \n",
    "builder_button = widgets.Button(description='Build Models')\n",
    "\n",
    "builder_button.on_click(bd.builder)\n",
    "display(builder_button)"
   ]
  },
  {
   "cell_type": "markdown",
   "metadata": {
    "tags": []
   },
   "source": [
    "# Descriptive Plots"
   ]
  },
  {
   "cell_type": "code",
   "execution_count": 17,
   "metadata": {
    "autorun": true,
    "tags": []
   },
   "outputs": [
    {
     "data": {
      "application/vnd.jupyter.widget-view+json": {
       "model_id": "494d54f91d1741c28b8e84e0ecf376bc",
       "version_major": 2,
       "version_minor": 0
      },
      "text/plain": [
       "VBox(children=(Button(description='Create Plots', style=ButtonStyle()), Output()))"
      ]
     },
     "metadata": {},
     "output_type": "display_data"
    }
   ],
   "source": [
    "class Plotter():\n",
    "    \n",
    "    def __init__(self):\n",
    "        self.y = (1,100)\n",
    "      \n",
    "    def train_func(self, x, y):\n",
    "        plt.hist(bd.training_getter()[x], color=wsu_color, bins=y)        \n",
    "        plt.title('TRAINING DATA')\n",
    "        \n",
    "    def test_func(self, x, y):\n",
    "        plt.hist(bd.testing_getter()[x], color=wsu_color, bins=y)\n",
    "        plt.title('TESTING DATA')\n",
    "\n",
    "    def plotter(self, b):\n",
    "        with plotter_output:\n",
    "            clear_output()\n",
    "            interact(self.train_func, x=bd.training_getter().columns.tolist(), y=self.y)\n",
    "            interact(self.test_func, x=bd.testing_getter().columns.tolist(), y=self.y)\n",
    "\n",
    "            \n",
    "pl = Plotter()\n",
    "\n",
    "plotter_output = widgets.Output()\n",
    "plotter_button = widgets.Button(description='Create Plots')\n",
    "\n",
    "plotter_button.on_click(pl.plotter)\n",
    "\n",
    "plotter_nest = widgets.VBox([plotter_button, plotter_output])\n",
    "display(plotter_nest)"
   ]
  },
  {
   "cell_type": "markdown",
   "metadata": {},
   "source": [
    "# Detect and remove outliers"
   ]
  },
  {
   "cell_type": "code",
   "execution_count": null,
   "metadata": {},
   "outputs": [],
   "source": []
  }
 ],
 "metadata": {
  "kernelspec": {
   "display_name": "Conda3",
   "language": "python",
   "name": "conda3"
  },
  "language_info": {
   "codemirror_mode": {
    "name": "ipython",
    "version": 3
   },
   "file_extension": ".py",
   "mimetype": "text/x-python",
   "name": "python",
   "nbconvert_exporter": "python",
   "pygments_lexer": "ipython3",
   "version": "3.7.6"
  },
  "toc-autonumbering": true,
  "toc-showmarkdowntxt": true,
  "widgets": {
   "application/vnd.jupyter.widget-state+json": {
    "state": {
     "008bcbdb64ad4d918aa95a6ad1d09c47": {
      "model_module": "@jupyter-widgets/controls",
      "model_module_version": "1.5.0",
      "model_name": "CheckboxModel",
      "state": {
       "description": "attendee_destination",
       "disabled": false,
       "layout": "IPY_MODEL_928b2f03e605493a804d9b0c96d40b23",
       "style": "IPY_MODEL_61d2edba8aa64aa1a42631f461ef4aa2",
       "value": false
      }
     },
     "00ac120cbc904c64908490b77d9f879f": {
      "model_module": "@jupyter-widgets/controls",
      "model_module_version": "1.5.0",
      "model_name": "CheckboxModel",
      "state": {
       "description": "underrep_minority",
       "disabled": false,
       "layout": "IPY_MODEL_9568d32fb6a64e29bdf8e935ee454e46",
       "style": "IPY_MODEL_3b5e998d40264fd49519b32940b87ef7",
       "value": false
      }
     },
     "023393371fe64245a5eb65c494175d43": {
      "model_module": "@jupyter-widgets/base",
      "model_module_version": "1.2.0",
      "model_name": "LayoutModel",
      "state": {}
     },
     "0237877721d2471e86d407fe4dd4ed7a": {
      "model_module": "@jupyter-widgets/base",
      "model_module_version": "1.2.0",
      "model_name": "LayoutModel",
      "state": {}
     },
     "02b36ab5a4a04172afd3dd5557ec4196": {
      "model_module": "@jupyter-widgets/controls",
      "model_module_version": "1.5.0",
      "model_name": "DescriptionStyleModel",
      "state": {
       "description_width": ""
      }
     },
     "0360d10e194f45c2b94e75dc4c248344": {
      "model_module": "@jupyter-widgets/controls",
      "model_module_version": "1.5.0",
      "model_name": "DescriptionStyleModel",
      "state": {
       "description_width": ""
      }
     },
     "037236242bca454e97f1fce7571223c8": {
      "model_module": "@jupyter-widgets/base",
      "model_module_version": "1.2.0",
      "model_name": "LayoutModel",
      "state": {}
     },
     "037daff8f5194f5092997823db1b039d": {
      "model_module": "@jupyter-widgets/controls",
      "model_module_version": "1.5.0",
      "model_name": "CheckboxModel",
      "state": {
       "description": "attendee_any_visitation_ind",
       "disabled": false,
       "layout": "IPY_MODEL_e1edbb2da3eb4c12909b04f5f86c06e6",
       "style": "IPY_MODEL_c47634a919fc4b09819864542031e072",
       "value": false
      }
     },
     "03f33af94dda45b7b8ac7a5dd643cdbc": {
      "model_module": "@jupyter-widgets/controls",
      "model_module_version": "1.5.0",
      "model_name": "CheckboxModel",
      "state": {
       "description": "medicine",
       "disabled": false,
       "layout": "IPY_MODEL_7ace0ca799284e8c8e5a9ec260a67544",
       "style": "IPY_MODEL_b36cb7a8d39d4ce4b251a7a842593ee6",
       "value": false
      }
     },
     "04da1c2e23a746679c9c35ecc101fd5c": {
      "model_module": "@jupyter-widgets/controls",
      "model_module_version": "1.5.0",
      "model_name": "DescriptionStyleModel",
      "state": {
       "description_width": ""
      }
     },
     "052fe9b1116546e69ff423caf1676260": {
      "model_module": "@jupyter-widgets/base",
      "model_module_version": "1.2.0",
      "model_name": "LayoutModel",
      "state": {}
     },
     "05562c0d78c2478b92becaafdcdf11df": {
      "model_module": "@jupyter-widgets/controls",
      "model_module_version": "1.5.0",
      "model_name": "CheckboxModel",
      "state": {
       "description": "fall_midterm_gpa_avg_ind",
       "disabled": false,
       "layout": "IPY_MODEL_64d5daba653c4de4aa61e7ec9b50b469",
       "style": "IPY_MODEL_6e7093c53ee7446dbcc763ae2eb10848",
       "value": false
      }
     },
     "05e4837872f64743b6f895f4fdd1c47a": {
      "model_module": "@jupyter-widgets/controls",
      "model_module_version": "1.5.0",
      "model_name": "VBoxModel",
      "state": {
       "_dom_classes": [
        "widget-interact"
       ],
       "children": [
        "IPY_MODEL_b51c063bf293464cb085c82d5551cdbb",
        "IPY_MODEL_b09f584232dd446a8468384cc95c91d7",
        "IPY_MODEL_b7be4817820c4597b243ff5cc1702c30"
       ],
       "layout": "IPY_MODEL_4a4c59b2e6fd45b98fb6a1bbc21fdb45"
      }
     },
     "06866cf44dd24f5f9601a6a3562ebe74": {
      "model_module": "@jupyter-widgets/base",
      "model_module_version": "1.2.0",
      "model_name": "LayoutModel",
      "state": {}
     },
     "075e36bb6a1540e1abb2b884b3c5e4d5": {
      "model_module": "@jupyter-widgets/controls",
      "model_module_version": "1.5.0",
      "model_name": "DescriptionStyleModel",
      "state": {
       "description_width": ""
      }
     },
     "07a3ebf5036249b19f07d18fc9c401ed": {
      "model_module": "@jupyter-widgets/base",
      "model_module_version": "1.2.0",
      "model_name": "LayoutModel",
      "state": {}
     },
     "07d8ee82ab93418886eab6a3d76ed6a6": {
      "model_module": "@jupyter-widgets/base",
      "model_module_version": "1.2.0",
      "model_name": "LayoutModel",
      "state": {}
     },
     "08216d854064431ea7191e7c28714965": {
      "model_module": "@jupyter-widgets/controls",
      "model_module_version": "1.5.0",
      "model_name": "CheckboxModel",
      "state": {
       "description": "median_inc",
       "disabled": false,
       "layout": "IPY_MODEL_b3872c9f45a24e70a2ac82416a3c894a",
       "style": "IPY_MODEL_e94021a41e1e456e93721bfcf8d1a494",
       "value": false
      }
     },
     "0a5b22a95fe8432490977d3ad56ec892": {
      "model_module": "@jupyter-widgets/base",
      "model_module_version": "1.2.0",
      "model_name": "LayoutModel",
      "state": {}
     },
     "0a5e2e37758f4c64a1215f1040ed2724": {
      "model_module": "@jupyter-widgets/controls",
      "model_module_version": "1.5.0",
      "model_name": "DescriptionStyleModel",
      "state": {
       "description_width": ""
      }
     },
     "0a6b231e56204137aa728595bf649904": {
      "model_module": "@jupyter-widgets/base",
      "model_module_version": "1.2.0",
      "model_name": "LayoutModel",
      "state": {}
     },
     "0ab0bde30b76406b977775ae67d3e011": {
      "model_module": "@jupyter-widgets/controls",
      "model_module_version": "1.5.0",
      "model_name": "DescriptionStyleModel",
      "state": {
       "description_width": ""
      }
     },
     "0adefbb77c32438ca9f8d68692380104": {
      "model_module": "@jupyter-widgets/base",
      "model_module_version": "1.2.0",
      "model_name": "LayoutModel",
      "state": {}
     },
     "0b40abce962b44f6953e6388db4106d3": {
      "model_module": "@jupyter-widgets/base",
      "model_module_version": "1.2.0",
      "model_name": "LayoutModel",
      "state": {}
     },
     "0bc9bf3fb00f4c2d92527770381b58d2": {
      "model_module": "@jupyter-widgets/controls",
      "model_module_version": "1.5.0",
      "model_name": "CheckboxModel",
      "state": {
       "description": "rural_fringe",
       "disabled": false,
       "layout": "IPY_MODEL_3ad3a18d8a8d4d039369432e37ba1329",
       "style": "IPY_MODEL_7dc7cddd2f1c4476aff99a1bbd29a038",
       "value": false
      }
     },
     "0bf08ab0eb584920b92afe0df9ec7fd5": {
      "model_module": "@jupyter-widgets/controls",
      "model_module_version": "1.5.0",
      "model_name": "CheckboxModel",
      "state": {
       "description": "remedial",
       "disabled": false,
       "layout": "IPY_MODEL_a8d7e116b614497d8a325debe4eeb113",
       "style": "IPY_MODEL_76c80980b3334c3f86f9c32583044c35",
       "value": false
      }
     },
     "0c50c9c9ba37495a9787f6cffe5b50d1": {
      "model_module": "@jupyter-widgets/controls",
      "model_module_version": "1.5.0",
      "model_name": "CheckboxModel",
      "state": {
       "description": "attendee_fcd_pullman",
       "disabled": false,
       "layout": "IPY_MODEL_a893afe706764331ac7015069d09b521",
       "style": "IPY_MODEL_5e14371a15d14dd89089536674488566",
       "value": false
      }
     },
     "0cf2b871cf6b4257920068d7a269e5bd": {
      "model_module": "@jupyter-widgets/controls",
      "model_module_version": "1.5.0",
      "model_name": "VBoxModel",
      "state": {
       "_dom_classes": [
        "widget-interact"
       ],
       "children": [
        "IPY_MODEL_d1ef965ea95442e8b10052db7257f3e0",
        "IPY_MODEL_465b66f42b3b41ccbc06f2ecbcc0abc2",
        "IPY_MODEL_a30a6800d3c54426834326c2409e1b3f"
       ],
       "layout": "IPY_MODEL_425e918ba40e4e5a8d92597ab7795d8d"
      }
     },
     "0d2eccff9c61400eb154069978954c24": {
      "model_module": "@jupyter-widgets/controls",
      "model_module_version": "1.5.0",
      "model_name": "DescriptionStyleModel",
      "state": {
       "description_width": ""
      }
     },
     "0d4eac974e5044e48b56d7c447681937": {
      "model_module": "@jupyter-widgets/controls",
      "model_module_version": "1.5.0",
      "model_name": "CheckboxModel",
      "state": {
       "description": "father_wsu_flag",
       "disabled": false,
       "layout": "IPY_MODEL_b60b2dc3e8b44d2abe2c7b23b2157445",
       "style": "IPY_MODEL_943b03d3adfd4d5780236d1f358b4946",
       "value": false
      }
     },
     "0d9040e4ccad49748d62b25846efee7a": {
      "model_module": "@jupyter-widgets/base",
      "model_module_version": "1.2.0",
      "model_name": "LayoutModel",
      "state": {}
     },
     "0d98d4c6a85c4c5585d29713245f2e55": {
      "model_module": "@jupyter-widgets/base",
      "model_module_version": "1.2.0",
      "model_name": "LayoutModel",
      "state": {}
     },
     "0daccaceceed4376a764a4cfced73cd6": {
      "model_module": "@jupyter-widgets/controls",
      "model_module_version": "1.5.0",
      "model_name": "CheckboxModel",
      "state": {
       "description": "male",
       "disabled": false,
       "layout": "IPY_MODEL_89d3b25939d84f6ab8c3689c28b13bf2",
       "style": "IPY_MODEL_04da1c2e23a746679c9c35ecc101fd5c",
       "value": false
      }
     },
     "0dbd013b4dfa4ae5b59246241dfdbec1": {
      "model_module": "@jupyter-widgets/controls",
      "model_module_version": "1.5.0",
      "model_name": "SliderStyleModel",
      "state": {
       "description_width": ""
      }
     },
     "0e39c19d2ae044348d12e7b75fb6d156": {
      "model_module": "@jupyter-widgets/base",
      "model_module_version": "1.2.0",
      "model_name": "LayoutModel",
      "state": {}
     },
     "0efc17c1cc234e7aa3735de71ee7cc34": {
      "model_module": "@jupyter-widgets/base",
      "model_module_version": "1.2.0",
      "model_name": "LayoutModel",
      "state": {}
     },
     "0f07bdb7d3a24578ad9b974c8e07a897": {
      "model_module": "@jupyter-widgets/controls",
      "model_module_version": "1.5.0",
      "model_name": "CheckboxModel",
      "state": {
       "description": "attendee_lvp_camp",
       "disabled": false,
       "layout": "IPY_MODEL_9408544539ee48d9aa52ccdbce5704ed",
       "style": "IPY_MODEL_838c46ec12534484a026bdb57e34f8db",
       "value": false
      }
     },
     "0f10817492484b55b4e0411cc41af69e": {
      "model_module": "@jupyter-widgets/controls",
      "model_module_version": "1.5.0",
      "model_name": "DescriptionStyleModel",
      "state": {
       "description_width": ""
      }
     },
     "10626e12054549ffa7b989ab16bbef4c": {
      "model_module": "@jupyter-widgets/base",
      "model_module_version": "1.2.0",
      "model_name": "LayoutModel",
      "state": {}
     },
     "10b67b0d778d4608b50d5199c861a501": {
      "model_module": "@jupyter-widgets/base",
      "model_module_version": "1.2.0",
      "model_name": "LayoutModel",
      "state": {}
     },
     "1112a3b368664e24b45e533d3175f3a6": {
      "model_module": "@jupyter-widgets/base",
      "model_module_version": "1.2.0",
      "model_name": "LayoutModel",
      "state": {}
     },
     "11783974f1f0418ebcd58b39f78f6cd7": {
      "model_module": "@jupyter-widgets/base",
      "model_module_version": "1.2.0",
      "model_name": "LayoutModel",
      "state": {}
     },
     "118b1ae07e6d449b91a942c78eba7e49": {
      "model_module": "@jupyter-widgets/base",
      "model_module_version": "1.2.0",
      "model_name": "LayoutModel",
      "state": {}
     },
     "12b6695dd0ab45d090f993872d8fa14d": {
      "model_module": "@jupyter-widgets/base",
      "model_module_version": "1.2.0",
      "model_name": "LayoutModel",
      "state": {}
     },
     "13206881c3c245dd940b18b92f6d3427": {
      "model_module": "@jupyter-widgets/output",
      "model_module_version": "1.0.0",
      "model_name": "OutputModel",
      "state": {
       "layout": "IPY_MODEL_86dd1a550c14402da5dbd6a6f18a1985",
       "outputs": [
        {
         "data": {
          "image/png": "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\n",
          "text/plain": "<Figure size 432x288 with 1 Axes>"
         },
         "metadata": {
          "needs_background": "light"
         },
         "output_type": "display_data"
        }
       ]
      }
     },
     "1326a1203fe743adba2048543665747b": {
      "model_module": "@jupyter-widgets/controls",
      "model_module_version": "1.5.0",
      "model_name": "DescriptionStyleModel",
      "state": {
       "description_width": ""
      }
     },
     "13547553e5b34f599e51cafc4c2f2f97": {
      "model_module": "@jupyter-widgets/controls",
      "model_module_version": "1.5.0",
      "model_name": "VBoxModel",
      "state": {
       "children": [
        "IPY_MODEL_79705605cc1442e19972d5e48f9c878d",
        "IPY_MODEL_95e0fd434aa0416fb1b0267979596a76",
        "IPY_MODEL_4c33aac7b5c64d63aa4ae163da4608d9",
        "IPY_MODEL_008bcbdb64ad4d918aa95a6ad1d09c47",
        "IPY_MODEL_df0dd2310cb34ae982b9e9887038de7d",
        "IPY_MODEL_0c50c9c9ba37495a9787f6cffe5b50d1",
        "IPY_MODEL_bdd5c284b68a4432875d8882c2d1cf6e",
        "IPY_MODEL_e9a64f3c4e494b0b826ea5b6131a8c10",
        "IPY_MODEL_1d426583814d4604a9cf87691b1e3805",
        "IPY_MODEL_80abec914cb642d28da9e6035d0a84b0",
        "IPY_MODEL_7dab786e19e646d6b7be95418b8985ba",
        "IPY_MODEL_dad8151f9be34bc4ba1a8e927976c188",
        "IPY_MODEL_f5f5d59e803a489fa2fcd8d705eaf778",
        "IPY_MODEL_c72b8bf549bc4995bc511b70f0818eeb",
        "IPY_MODEL_0f07bdb7d3a24578ad9b974c8e07a897",
        "IPY_MODEL_977ec099352640f6813243da0a78fc84",
        "IPY_MODEL_8bc31722d643471d8e43b9607f7d7457",
        "IPY_MODEL_1efe510dc68e4b71a08b4842d933901f",
        "IPY_MODEL_75896802590e435aa7ff6bca44b89812",
        "IPY_MODEL_1e1d2f256891487e85d5b8e9c80b4ad7",
        "IPY_MODEL_9445e14c1d484a68a985e1c243153a06",
        "IPY_MODEL_884dc0a6c280456a900b0ef5869171be",
        "IPY_MODEL_1ee2a0a3a9a94320abf52fe01196ec93",
        "IPY_MODEL_9774069f5ba746faa7e79bde9a92575e",
        "IPY_MODEL_037daff8f5194f5092997823db1b039d",
        "IPY_MODEL_97dededc288540469c5f320b316960e2"
       ],
       "layout": "IPY_MODEL_65b47a3877c444719b1dbdbbd831709d"
      }
     },
     "1371e5f3267b4b3d911a400a1dd4557e": {
      "model_module": "@jupyter-widgets/controls",
      "model_module_version": "1.5.0",
      "model_name": "CheckboxModel",
      "state": {
       "description": "race_native_hawaiian",
       "disabled": false,
       "layout": "IPY_MODEL_ed9d643889c54bf0a13280e58a69dc83",
       "style": "IPY_MODEL_69c6576f2be44da891835f2531c38f5f",
       "value": false
      }
     },
     "13d92be00750402b869b5d095d9212c3": {
      "model_module": "@jupyter-widgets/base",
      "model_module_version": "1.2.0",
      "model_name": "LayoutModel",
      "state": {}
     },
     "14233da4646f4851bf36d9c5015ef1a4": {
      "model_module": "@jupyter-widgets/controls",
      "model_module_version": "1.5.0",
      "model_name": "DescriptionStyleModel",
      "state": {
       "description_width": ""
      }
     },
     "14e7697db864464f8461c6c40aa02134": {
      "model_module": "@jupyter-widgets/base",
      "model_module_version": "1.2.0",
      "model_name": "LayoutModel",
      "state": {}
     },
     "1503687422544f5dac43918898228adb": {
      "model_module": "@jupyter-widgets/controls",
      "model_module_version": "1.5.0",
      "model_name": "DescriptionStyleModel",
      "state": {
       "description_width": ""
      }
     },
     "153af2117ff741bc8d749d9347cc8482": {
      "model_module": "@jupyter-widgets/controls",
      "model_module_version": "1.5.0",
      "model_name": "VBoxModel",
      "state": {
       "_dom_classes": [
        "widget-interact"
       ],
       "children": [
        "IPY_MODEL_f19bf8c209a64797b80db4d4491fe0d0",
        "IPY_MODEL_2cc0f012008c420d9d6c883a73116e77",
        "IPY_MODEL_13206881c3c245dd940b18b92f6d3427"
       ],
       "layout": "IPY_MODEL_5b46edd126514cef86ed9e3137d9cba8"
      }
     },
     "15a80a08ff2f4cd58effe856ccbe8e2a": {
      "model_module": "@jupyter-widgets/controls",
      "model_module_version": "1.5.0",
      "model_name": "CheckboxModel",
      "state": {
       "description": "cas",
       "disabled": false,
       "layout": "IPY_MODEL_fb5ca68462964e2fb6ccc9fbafafafeb",
       "style": "IPY_MODEL_1326a1203fe743adba2048543665747b",
       "value": false
      }
     },
     "15d5fda857784c70ae54dd6012eafd0f": {
      "model_module": "@jupyter-widgets/controls",
      "model_module_version": "1.5.0",
      "model_name": "IntSliderModel",
      "state": {
       "description": "y",
       "layout": "IPY_MODEL_410f5f4d1a8148e0bf65bf6a97ae91b3",
       "min": 1,
       "style": "IPY_MODEL_33a945cd8bfa4f8c85cf8f118a5f241e",
       "value": 50
      }
     },
     "16d60726a44b4d5fad4642cae80ef5bb": {
      "model_module": "@jupyter-widgets/base",
      "model_module_version": "1.2.0",
      "model_name": "LayoutModel",
      "state": {}
     },
     "16f49ace40f84058a49e11de2aaa80be": {
      "model_module": "@jupyter-widgets/controls",
      "model_module_version": "1.5.0",
      "model_name": "CheckboxModel",
      "state": {
       "description": "fall_avg_pct_DF",
       "disabled": false,
       "layout": "IPY_MODEL_d0c9e94d6e044570ae44d23e2aa28cf9",
       "style": "IPY_MODEL_c5fd5f61748245808383fe2cde5bfcad",
       "value": false
      }
     },
     "174f50f3905341c0a1c23e0c92c499a3": {
      "model_module": "@jupyter-widgets/controls",
      "model_module_version": "1.5.0",
      "model_name": "DescriptionStyleModel",
      "state": {
       "description_width": ""
      }
     },
     "17b0356fa05040e8a655629accd9bcba": {
      "model_module": "@jupyter-widgets/controls",
      "model_module_version": "1.5.0",
      "model_name": "VBoxModel",
      "state": {
       "_dom_classes": [
        "widget-interact"
       ],
       "children": [
        "IPY_MODEL_1c7b95828245475497870372b359a238",
        "IPY_MODEL_fb190aefccb94ffa82a49199c0276fe4",
        "IPY_MODEL_d86ed11a0d23491f9869f22934d89c07"
       ],
       "layout": "IPY_MODEL_83c527caaad146cc9c9211f046b0690a"
      }
     },
     "1846de265f264d0c82525d4c42c17603": {
      "model_module": "@jupyter-widgets/controls",
      "model_module_version": "1.5.0",
      "model_name": "DescriptionStyleModel",
      "state": {
       "description_width": ""
      }
     },
     "1981258d7dad44789d896749fc21ee90": {
      "model_module": "@jupyter-widgets/controls",
      "model_module_version": "1.5.0",
      "model_name": "DescriptionStyleModel",
      "state": {
       "description_width": ""
      }
     },
     "1ac5967f4a3842c5ae252d0c73057180": {
      "model_module": "@jupyter-widgets/controls",
      "model_module_version": "1.5.0",
      "model_name": "CheckboxModel",
      "state": {
       "description": "total_spring_contact_hrs",
       "disabled": false,
       "layout": "IPY_MODEL_023393371fe64245a5eb65c494175d43",
       "style": "IPY_MODEL_6e34056a6cd3429cb240e18b80e44697",
       "value": false
      }
     },
     "1b5bd5ffa84e423a97dc5688b3a22cab": {
      "model_module": "@jupyter-widgets/controls",
      "model_module_version": "1.5.0",
      "model_name": "VBoxModel",
      "state": {
       "_dom_classes": [
        "widget-interact"
       ],
       "children": [
        "IPY_MODEL_c04e8cc26c81442fb351cb5d88f91658",
        "IPY_MODEL_2dd834177c734a1f9966bb33b2353af4",
        "IPY_MODEL_95803b2c1423495389cd3a016959f5e3"
       ],
       "layout": "IPY_MODEL_81fb803282a647a8a2abd242c4062fd6"
      }
     },
     "1c7b95828245475497870372b359a238": {
      "model_module": "@jupyter-widgets/controls",
      "model_module_version": "1.5.0",
      "model_name": "DropdownModel",
      "state": {
       "_options_labels": [
        "emplid",
        "enrl_ind",
        "acad_year",
        "count_week_from_term_begin_dt",
        "marital_status",
        "resident"
       ],
       "description": "x",
       "index": 5,
       "layout": "IPY_MODEL_29b6a020e765423484e3b1f980231843",
       "style": "IPY_MODEL_4d8d8cef504e4103bad7f618172400c8"
      }
     },
     "1c96a2283b4e4bd7b3648a6e9e1938db": {
      "model_module": "@jupyter-widgets/controls",
      "model_module_version": "1.5.0",
      "model_name": "VBoxModel",
      "state": {
       "_dom_classes": [
        "widget-interact"
       ],
       "children": [
        "IPY_MODEL_78f740ead1ba4a559a741dfbc71ad6a7",
        "IPY_MODEL_e16ec1de8955412989bfb298d6b8b688",
        "IPY_MODEL_f2c755e3086b487eb1ebd12b7159444f"
       ],
       "layout": "IPY_MODEL_f401d61fe23f4857a21317a917c5bac3"
      }
     },
     "1cd42cef6b054d6c8a5221f18132e817": {
      "model_module": "@jupyter-widgets/controls",
      "model_module_version": "1.5.0",
      "model_name": "DescriptionStyleModel",
      "state": {
       "description_width": ""
      }
     },
     "1d169299c8ad44ebaed4554635c86fca": {
      "model_module": "@jupyter-widgets/controls",
      "model_module_version": "1.5.0",
      "model_name": "DescriptionStyleModel",
      "state": {
       "description_width": ""
      }
     },
     "1d40a235e9574ec9920611e7247fab0a": {
      "model_module": "@jupyter-widgets/controls",
      "model_module_version": "1.5.0",
      "model_name": "VBoxModel",
      "state": {
       "_dom_classes": [
        "widget-interact"
       ],
       "children": [
        "IPY_MODEL_682604ec0e554d279417c24b34c9c021",
        "IPY_MODEL_772c682d237d4fc297a70eaefa4e4ca4",
        "IPY_MODEL_5617c77452854086876f89d205e5bff8"
       ],
       "layout": "IPY_MODEL_53f12e1f2fd044b191951cdf681bd589"
      }
     },
     "1d426583814d4604a9cf87691b1e3805": {
      "model_module": "@jupyter-widgets/controls",
      "model_module_version": "1.5.0",
      "model_name": "CheckboxModel",
      "state": {
       "description": "attendee_fcod",
       "disabled": false,
       "layout": "IPY_MODEL_9e7212226dfb47ffbb7a627547bce649",
       "style": "IPY_MODEL_51666a43c9914bac923e8eb71c34c8e4",
       "value": false
      }
     },
     "1d52e7ec340149a5a48ed4595164a342": {
      "model_module": "@jupyter-widgets/controls",
      "model_module_version": "1.5.0",
      "model_name": "CheckboxModel",
      "state": {
       "description": "cas_chem",
       "disabled": false,
       "layout": "IPY_MODEL_dd6c95236bc6400fbca1f4a32c5df4eb",
       "style": "IPY_MODEL_51921a43c05345ecba432c51020c5a0e",
       "value": false
      }
     },
     "1d69214a2727404d9dd3197d9e56664f": {
      "model_module": "@jupyter-widgets/base",
      "model_module_version": "1.2.0",
      "model_name": "LayoutModel",
      "state": {}
     },
     "1e07fdc7864c4735bfd945b55fedcb86": {
      "model_module": "@jupyter-widgets/controls",
      "model_module_version": "1.5.0",
      "model_name": "DescriptionStyleModel",
      "state": {
       "description_width": ""
      }
     },
     "1e1d2f256891487e85d5b8e9c80b4ad7": {
      "model_module": "@jupyter-widgets/controls",
      "model_module_version": "1.5.0",
      "model_name": "CheckboxModel",
      "state": {
       "description": "attendee_shaping",
       "disabled": false,
       "layout": "IPY_MODEL_9f2fb9f1d4994ed0ad6179ed81e1c1a1",
       "style": "IPY_MODEL_d9f73946038242c0ad7a1f4b6ca2f11c",
       "value": false
      }
     },
     "1e3da15264d84e9bab7ea7c763a87b6e": {
      "model_module": "@jupyter-widgets/controls",
      "model_module_version": "1.5.0",
      "model_name": "CheckboxModel",
      "state": {
       "description": "fall_avg_difficulty",
       "disabled": false,
       "layout": "IPY_MODEL_5147fcd5564c4bdfb54292b535483ffc",
       "style": "IPY_MODEL_6034e625b03d4eadacd3d4a742ab95f2",
       "value": false
      }
     },
     "1ec4e5be33e94877a5b41d7fb1a78e62": {
      "model_module": "@jupyter-widgets/controls",
      "model_module_version": "1.5.0",
      "model_name": "DescriptionStyleModel",
      "state": {
       "description_width": ""
      }
     },
     "1ee2a0a3a9a94320abf52fe01196ec93": {
      "model_module": "@jupyter-widgets/controls",
      "model_module_version": "1.5.0",
      "model_name": "CheckboxModel",
      "state": {
       "description": "attendee_vibes",
       "disabled": false,
       "layout": "IPY_MODEL_118b1ae07e6d449b91a942c78eba7e49",
       "style": "IPY_MODEL_7521f90699a5411d9fdb732aee53a29a",
       "value": false
      }
     },
     "1efe510dc68e4b71a08b4842d933901f": {
      "model_module": "@jupyter-widgets/controls",
      "model_module_version": "1.5.0",
      "model_name": "CheckboxModel",
      "state": {
       "description": "attendee_preview",
       "disabled": false,
       "layout": "IPY_MODEL_f63437f459ec4f7c8519e3664b1caa00",
       "style": "IPY_MODEL_81d857c7b40441ea81a9feb4c2169dec",
       "value": false
      }
     },
     "1f8c6b1656924564968a1a07169b8a26": {
      "model_module": "@jupyter-widgets/base",
      "model_module_version": "1.2.0",
      "model_name": "LayoutModel",
      "state": {}
     },
     "20743b5c630743eeab97426e123f0fcb": {
      "model_module": "@jupyter-widgets/controls",
      "model_module_version": "1.5.0",
      "model_name": "DescriptionStyleModel",
      "state": {
       "description_width": ""
      }
     },
     "20a424bbee6f47289e9001c04ef0e8b9": {
      "model_module": "@jupyter-widgets/controls",
      "model_module_version": "1.5.0",
      "model_name": "VBoxModel",
      "state": {
       "children": [
        "IPY_MODEL_8663f2d246be4f9db28a2c651ed4e1a3",
        "IPY_MODEL_4741f626c2b84a42bc2e8f10c83c390b"
       ],
       "layout": "IPY_MODEL_262a063a73dd4345afdf324e22f73ec7"
      }
     },
     "20c3ebde6f314eca820f1b42d63e7ee6": {
      "model_module": "@jupyter-widgets/controls",
      "model_module_version": "1.5.0",
      "model_name": "DescriptionStyleModel",
      "state": {
       "description_width": ""
      }
     },
     "20fb204ccc09431db189d8d8a6dfd8cb": {
      "model_module": "@jupyter-widgets/base",
      "model_module_version": "1.2.0",
      "model_name": "LayoutModel",
      "state": {}
     },
     "2151336e775f444fa117d6ff2212067f": {
      "model_module": "@jupyter-widgets/controls",
      "model_module_version": "1.5.0",
      "model_name": "AccordionModel",
      "state": {
       "_titles": {
        "0": "Economic",
        "1": "Geographic",
        "2": "Census"
       },
       "children": [
        "IPY_MODEL_3f0b63bc980047b494021d664f27e896",
        "IPY_MODEL_a0bdbffa5bc3416bae50aac6e55c5a7b",
        "IPY_MODEL_2cc17d0d67dd4438a8d8465489f4ba62"
       ],
       "layout": "IPY_MODEL_5b70f21a6ffb493980bd589d181b64cc"
      }
     },
     "216d57c506e1476e95653d7ddf464617": {
      "model_module": "@jupyter-widgets/base",
      "model_module_version": "1.2.0",
      "model_name": "LayoutModel",
      "state": {}
     },
     "22102efd301348ada87e76b5b3b77ba5": {
      "model_module": "@jupyter-widgets/controls",
      "model_module_version": "1.5.0",
      "model_name": "DescriptionStyleModel",
      "state": {
       "description_width": ""
      }
     },
     "22436e1a98a44df0828d4f4ee7a21564": {
      "model_module": "@jupyter-widgets/base",
      "model_module_version": "1.2.0",
      "model_name": "LayoutModel",
      "state": {}
     },
     "22a809b22a1541cea4d9f9a2b5326c99": {
      "model_module": "@jupyter-widgets/controls",
      "model_module_version": "1.5.0",
      "model_name": "CheckboxModel",
      "state": {
       "description": "pell_eligibility_ind",
       "disabled": false,
       "layout": "IPY_MODEL_9ff9344312fe47cf8f138236e42b0d84",
       "style": "IPY_MODEL_e8e6e670c6114a5182c1eba8e2779cdc",
       "value": false
      }
     },
     "22aad8323d714b6aa3d2c7c387e72b35": {
      "model_module": "@jupyter-widgets/controls",
      "model_module_version": "1.5.0",
      "model_name": "VBoxModel",
      "state": {
       "children": [
        "IPY_MODEL_284b0836ee1d422ba0362bbf6562e712",
        "IPY_MODEL_764b5898c30949209a8c84cb7c3b03f6"
       ],
       "layout": "IPY_MODEL_97266aaea4bc498ba06c83229d8cae68"
      }
     },
     "22e408e261764a39a6690acfc0ca6092": {
      "model_module": "@jupyter-widgets/controls",
      "model_module_version": "1.5.0",
      "model_name": "CheckboxModel",
      "state": {
       "description": "spring_avg_difficulty",
       "disabled": false,
       "layout": "IPY_MODEL_c118cb2d4e56470aaa60aca54d647642",
       "style": "IPY_MODEL_8e105f1f8ae54414a1b442a4dc1c1506",
       "value": false
      }
     },
     "230f56457a384322a0d1b6207594c357": {
      "model_module": "@jupyter-widgets/controls",
      "model_module_version": "1.5.0",
      "model_name": "CheckboxModel",
      "state": {
       "description": "town_remote",
       "disabled": false,
       "layout": "IPY_MODEL_abd5b5f96f1a47ecbec6ed3187d1dedb",
       "style": "IPY_MODEL_2cfab0d620aa4812b28aa1260d2b9635",
       "value": false
      }
     },
     "232f8a596a4641cb96ece97209e83dfb": {
      "model_module": "@jupyter-widgets/controls",
      "model_module_version": "1.5.0",
      "model_name": "ButtonStyleModel",
      "state": {}
     },
     "23955c0338874325825a9a9a07067074": {
      "model_module": "@jupyter-widgets/controls",
      "model_module_version": "1.5.0",
      "model_name": "CheckboxModel",
      "state": {
       "description": "total_fall_contact_hrs",
       "disabled": false,
       "layout": "IPY_MODEL_91b7d5485b3f4fe3b22c11e6c2721d4e",
       "style": "IPY_MODEL_8a3e7910e615487082950e7b93ec1826",
       "value": false
      }
     },
     "247fcb0ce9d14d5ab32f4349851ff202": {
      "model_module": "@jupyter-widgets/controls",
      "model_module_version": "1.5.0",
      "model_name": "DescriptionStyleModel",
      "state": {
       "description_width": ""
      }
     },
     "248bf9cd2a3946b895cefc86ac9d3c6e": {
      "model_module": "@jupyter-widgets/controls",
      "model_module_version": "1.5.0",
      "model_name": "CheckboxModel",
      "state": {
       "description": "AD_DTA",
       "disabled": false,
       "layout": "IPY_MODEL_80ba744b2bfb45958776bd9777cdecc0",
       "style": "IPY_MODEL_b1db9afa8cc145f49379b131f7c7fa76",
       "value": false
      }
     },
     "250051463270426fa1bb478d50936e87": {
      "model_module": "@jupyter-widgets/controls",
      "model_module_version": "1.5.0",
      "model_name": "DescriptionStyleModel",
      "state": {
       "description_width": ""
      }
     },
     "2525a1de146245a7a1db57c9584256ad": {
      "model_module": "@jupyter-widgets/base",
      "model_module_version": "1.2.0",
      "model_name": "LayoutModel",
      "state": {}
     },
     "25262e33ef6741d78c0fb13d5116b32f": {
      "model_module": "@jupyter-widgets/controls",
      "model_module_version": "1.5.0",
      "model_name": "CheckboxModel",
      "state": {
       "description": "spring_midterm_gpa_change",
       "disabled": false,
       "layout": "IPY_MODEL_4b253da1eef940f3bf3a5e71fac540b0",
       "style": "IPY_MODEL_f402846017b240fda06df3f92c0267d9",
       "value": false
      }
     },
     "25b3cf4513c04f3aa7c7d6f8cf029b88": {
      "model_module": "@jupyter-widgets/controls",
      "model_module_version": "1.5.0",
      "model_name": "VBoxModel",
      "state": {
       "children": [
        "IPY_MODEL_6d4e5418d51941c6a67a2f8a480b64a2",
        "IPY_MODEL_8d282ec0620d4dbab37431dbfadd914d",
        "IPY_MODEL_8175f604e80e46d7aef62070d53957d4",
        "IPY_MODEL_43598d2cbe414b16a89c2c27eccb7897",
        "IPY_MODEL_9fba96778f5f4ab19d06ac5079b5038a",
        "IPY_MODEL_1d52e7ec340149a5a48ed4595164a342",
        "IPY_MODEL_4c93d64083df4caa80c5036201f132cf",
        "IPY_MODEL_87375585a9e64b9fa3474ef60bb288e8",
        "IPY_MODEL_8d20d57d20a646efae4777b79b47e348",
        "IPY_MODEL_942c514a3cc34b149b5e6d6f711838cc",
        "IPY_MODEL_342a232246e94bf09d2d799861744023",
        "IPY_MODEL_5cc0f90a9142459495a71921d8848ff3",
        "IPY_MODEL_15a80a08ff2f4cd58effe856ccbe8e2a",
        "IPY_MODEL_4a5824fa8a6a4d4c85b0cb008f155534",
        "IPY_MODEL_a2ef6a5785654ccf81df24dab87a7d2d",
        "IPY_MODEL_03f33af94dda45b7b8ac7a5dd643cdbc",
        "IPY_MODEL_dcf065db439d4f278f47e01ab072de6e",
        "IPY_MODEL_37a496f8d3d148c5b00ce00a9a59a575",
        "IPY_MODEL_9060a4bc2bac4b5295888c9540dbffe7",
        "IPY_MODEL_96180c0694a34cdbbbd3c2cea716ffbc",
        "IPY_MODEL_f36faf231e63481eb6b2ac0c115de73c",
        "IPY_MODEL_45b0c229149a43feba0f87516a17f83f",
        "IPY_MODEL_ed33fbf913f744beb44728830cf739ae",
        "IPY_MODEL_d8a3f71a9d7f48d2bdd125ca764b8195",
        "IPY_MODEL_4ac38d773c7b4b56abeba1b6aa836322",
        "IPY_MODEL_3f2b8d877a93432690ceef4011224bbf"
       ],
       "layout": "IPY_MODEL_ec9f62fb55dc4ea9ad091cd7ca12224a"
      }
     },
     "262a063a73dd4345afdf324e22f73ec7": {
      "model_module": "@jupyter-widgets/base",
      "model_module_version": "1.2.0",
      "model_name": "LayoutModel",
      "state": {}
     },
     "26b9bdc83d904e40ad19d8f90e4ff4b5": {
      "model_module": "@jupyter-widgets/controls",
      "model_module_version": "1.5.0",
      "model_name": "DescriptionStyleModel",
      "state": {
       "description_width": ""
      }
     },
     "26d9ef5568994e98b5362aff9c2b1dda": {
      "model_module": "@jupyter-widgets/controls",
      "model_module_version": "1.5.0",
      "model_name": "DescriptionStyleModel",
      "state": {
       "description_width": ""
      }
     },
     "27af6a2d3c6e40ffb881680b17e80698": {
      "model_module": "@jupyter-widgets/controls",
      "model_module_version": "1.5.0",
      "model_name": "CheckboxModel",
      "state": {
       "description": "fall_midterm_gpa_avg",
       "disabled": false,
       "layout": "IPY_MODEL_85f42de9c394459fbf17524549355dc6",
       "style": "IPY_MODEL_c4eca2a71e7c452daeebf20fbb6ca193",
       "value": false
      }
     },
     "27ef83205a7a4d6abd295a1693933d55": {
      "model_module": "@jupyter-widgets/controls",
      "model_module_version": "1.5.0",
      "model_name": "CheckboxModel",
      "state": {
       "description": "pct_hisp",
       "disabled": false,
       "layout": "IPY_MODEL_9fa5778e02fb42e2b35a0b66044edaa1",
       "style": "IPY_MODEL_c799bf75bdbc440d9c3a2456fd0d987a",
       "value": false
      }
     },
     "284b0836ee1d422ba0362bbf6562e712": {
      "model_module": "@jupyter-widgets/controls",
      "model_module_version": "1.5.0",
      "model_name": "ButtonModel",
      "state": {
       "description": "Create Plots",
       "layout": "IPY_MODEL_30b526246cdb4605af94ffe06a2094ba",
       "style": "IPY_MODEL_fa62617c8fb44c32831528f085566b81"
      }
     },
     "2874357194d648788a3ad5a66d58bbbe": {
      "model_module": "@jupyter-widgets/base",
      "model_module_version": "1.2.0",
      "model_name": "LayoutModel",
      "state": {}
     },
     "287d091b24b74ef2af54c474e67aea70": {
      "model_module": "@jupyter-widgets/controls",
      "model_module_version": "1.5.0",
      "model_name": "DescriptionStyleModel",
      "state": {
       "description_width": ""
      }
     },
     "28bad32f11a24359a1fb90fa4da730bb": {
      "model_module": "@jupyter-widgets/base",
      "model_module_version": "1.2.0",
      "model_name": "LayoutModel",
      "state": {}
     },
     "28c230dd504f45dea3db8b3481b1b63a": {
      "model_module": "@jupyter-widgets/base",
      "model_module_version": "1.2.0",
      "model_name": "LayoutModel",
      "state": {}
     },
     "2908d93564794404827e49f00e53eefe": {
      "model_module": "@jupyter-widgets/controls",
      "model_module_version": "1.5.0",
      "model_name": "VBoxModel",
      "state": {
       "children": [
        "IPY_MODEL_826c9743cc2f4335bf119ec03d357f93",
        "IPY_MODEL_bd6ee32c0fbb4c64bf703f7046006918"
       ],
       "layout": "IPY_MODEL_b8baa8928b5a4e958d218cb6e2888669"
      }
     },
     "295801836f3142a5a0a9cfaaa4fd089f": {
      "model_module": "@jupyter-widgets/controls",
      "model_module_version": "1.5.0",
      "model_name": "SliderStyleModel",
      "state": {
       "description_width": ""
      }
     },
     "296ddf79b5854c7ba7b7f331dc8c08d7": {
      "model_module": "@jupyter-widgets/base",
      "model_module_version": "1.2.0",
      "model_name": "LayoutModel",
      "state": {
       "flex_flow": "row wrap"
      }
     },
     "29b6a020e765423484e3b1f980231843": {
      "model_module": "@jupyter-widgets/base",
      "model_module_version": "1.2.0",
      "model_name": "LayoutModel",
      "state": {}
     },
     "2a9a679b42c24b12a96b58a08af276bf": {
      "model_module": "@jupyter-widgets/controls",
      "model_module_version": "1.5.0",
      "model_name": "DescriptionStyleModel",
      "state": {
       "description_width": ""
      }
     },
     "2c5554b3bfaf416999b27e2eb1dee8d7": {
      "model_module": "@jupyter-widgets/controls",
      "model_module_version": "1.5.0",
      "model_name": "DescriptionStyleModel",
      "state": {
       "description_width": ""
      }
     },
     "2c7fcc19d3934e42aa384bcc96eeb6d3": {
      "model_module": "@jupyter-widgets/base",
      "model_module_version": "1.2.0",
      "model_name": "LayoutModel",
      "state": {}
     },
     "2c9c11ca4ba7424b9d17cb831d6b5483": {
      "model_module": "@jupyter-widgets/base",
      "model_module_version": "1.2.0",
      "model_name": "LayoutModel",
      "state": {}
     },
     "2cc0f012008c420d9d6c883a73116e77": {
      "model_module": "@jupyter-widgets/controls",
      "model_module_version": "1.5.0",
      "model_name": "IntSliderModel",
      "state": {
       "description": "y",
       "layout": "IPY_MODEL_8cbb3c29295c482298d03bcdd2b17eab",
       "min": 1,
       "style": "IPY_MODEL_43aab9d2364143f486da3ce0ad056414",
       "value": 50
      }
     },
     "2cc17d0d67dd4438a8d8465489f4ba62": {
      "model_module": "@jupyter-widgets/controls",
      "model_module_version": "1.5.0",
      "model_name": "VBoxModel",
      "state": {
       "children": [
        "IPY_MODEL_22a809b22a1541cea4d9f9a2b5326c99",
        "IPY_MODEL_53409cc877364d3b9583d55cc49cd7c5",
        "IPY_MODEL_c164a5ea8c4c42288a3896de75dfd659",
        "IPY_MODEL_56c6f758af9845e7ad3f3932f4e7786a",
        "IPY_MODEL_a660da22098742ec9ea75dc1f66eb6cd",
        "IPY_MODEL_71bfb94cd127459e965b2f06a4f5e69e",
        "IPY_MODEL_397de67384ca43d58ae0c5f90fe13869",
        "IPY_MODEL_8de6845d43bb4d4db5d64bd007f06415"
       ],
       "layout": "IPY_MODEL_a102d8690b9c4ff2bdbd58e29083cfee"
      }
     },
     "2cd92ed13662471ca11e18344b6b19c0": {
      "model_module": "@jupyter-widgets/base",
      "model_module_version": "1.2.0",
      "model_name": "LayoutModel",
      "state": {
       "flex_flow": "row wrap"
      }
     },
     "2cf55b9771ce4899940c967878a7bff8": {
      "model_module": "@jupyter-widgets/base",
      "model_module_version": "1.2.0",
      "model_name": "LayoutModel",
      "state": {
       "flex_flow": "row wrap"
      }
     },
     "2cfab0d620aa4812b28aa1260d2b9635": {
      "model_module": "@jupyter-widgets/controls",
      "model_module_version": "1.5.0",
      "model_name": "DescriptionStyleModel",
      "state": {
       "description_width": ""
      }
     },
     "2dbce902cbc74bcca0b55abdee8c0c1f": {
      "model_module": "@jupyter-widgets/controls",
      "model_module_version": "1.5.0",
      "model_name": "DescriptionStyleModel",
      "state": {
       "description_width": ""
      }
     },
     "2dd834177c734a1f9966bb33b2353af4": {
      "model_module": "@jupyter-widgets/controls",
      "model_module_version": "1.5.0",
      "model_name": "IntSliderModel",
      "state": {
       "description": "y",
       "layout": "IPY_MODEL_28bad32f11a24359a1fb90fa4da730bb",
       "min": 1,
       "style": "IPY_MODEL_3dc90463480b48f9b445bf39cd151ed6",
       "value": 50
      }
     },
     "2de1743059d642ad9e3f221825898967": {
      "model_module": "@jupyter-widgets/controls",
      "model_module_version": "1.5.0",
      "model_name": "CheckboxModel",
      "state": {
       "description": "fall_cum_gpa",
       "disabled": false,
       "layout": "IPY_MODEL_c67f83f918d646dc84b15cd25f53cae5",
       "style": "IPY_MODEL_6617e343af3843cd918cff008740ab1f",
       "value": false
      }
     },
     "2e096dc25f57413295475accbc1c3f58": {
      "model_module": "@jupyter-widgets/controls",
      "model_module_version": "1.5.0",
      "model_name": "CheckboxModel",
      "state": {
       "description": "educ_rate",
       "disabled": false,
       "layout": "IPY_MODEL_9a4be3cc21fd4abab73b5c6101044487",
       "style": "IPY_MODEL_0f10817492484b55b4e0411cc41af69e",
       "value": false
      }
     },
     "2eae9093299443cdbaf6e1e06f210657": {
      "model_module": "@jupyter-widgets/base",
      "model_module_version": "1.2.0",
      "model_name": "LayoutModel",
      "state": {}
     },
     "2eb6f1e771ed4f90b05f5bdeeaab443d": {
      "model_module": "@jupyter-widgets/controls",
      "model_module_version": "1.5.0",
      "model_name": "CheckboxModel",
      "state": {
       "description": "spring_midterm_gpa_avg_ind",
       "disabled": false,
       "layout": "IPY_MODEL_7443b20c41da4d1d9102212d6f7b0483",
       "style": "IPY_MODEL_eeef5c462d3641fa9b09c4f3e5d54c66",
       "value": false
      }
     },
     "2f2a76c5ea034afcbf3d44d27ec305fd": {
      "model_module": "@jupyter-widgets/base",
      "model_module_version": "1.2.0",
      "model_name": "LayoutModel",
      "state": {
       "flex_flow": "row wrap"
      }
     },
     "2f45f6ea3bd845d59e44977e469e950f": {
      "model_module": "@jupyter-widgets/base",
      "model_module_version": "1.2.0",
      "model_name": "LayoutModel",
      "state": {}
     },
     "2fde15f353f242d0a1cb4c23816a9430": {
      "model_module": "@jupyter-widgets/base",
      "model_module_version": "1.2.0",
      "model_name": "LayoutModel",
      "state": {}
     },
     "3001c92489ec4cc2aa938e2ee3140434": {
      "model_module": "@jupyter-widgets/controls",
      "model_module_version": "1.5.0",
      "model_name": "DescriptionStyleModel",
      "state": {
       "description_width": ""
      }
     },
     "30117d9621b44c98b1197f67ed4fb1eb": {
      "model_module": "@jupyter-widgets/controls",
      "model_module_version": "1.5.0",
      "model_name": "CheckboxModel",
      "state": {
       "description": "suburb_mid",
       "disabled": false,
       "layout": "IPY_MODEL_fe6e459e78324348ba0abe31316cdc55",
       "style": "IPY_MODEL_0d2eccff9c61400eb154069978954c24",
       "value": false
      }
     },
     "30a5982f63e94b6185ad292fe6c30b5a": {
      "model_module": "@jupyter-widgets/base",
      "model_module_version": "1.2.0",
      "model_name": "LayoutModel",
      "state": {}
     },
     "30b526246cdb4605af94ffe06a2094ba": {
      "model_module": "@jupyter-widgets/base",
      "model_module_version": "1.2.0",
      "model_name": "LayoutModel",
      "state": {}
     },
     "30d409e161004bfcad8ed99f6be0907c": {
      "model_module": "@jupyter-widgets/controls",
      "model_module_version": "1.5.0",
      "model_name": "DescriptionStyleModel",
      "state": {
       "description_width": ""
      }
     },
     "310fe01db8a548e2a28f61d6859853e8": {
      "model_module": "@jupyter-widgets/controls",
      "model_module_version": "1.5.0",
      "model_name": "CheckboxModel",
      "state": {
       "description": "acad_year",
       "disabled": false,
       "layout": "IPY_MODEL_b1f41542a5344b238d7b8e41227629d6",
       "style": "IPY_MODEL_f7b45d01cd724b4691ee4c40f3edd4a8",
       "value": true
      }
     },
     "31e61bcdb94943f7b3eca2de5aa0941d": {
      "model_module": "@jupyter-widgets/base",
      "model_module_version": "1.2.0",
      "model_name": "LayoutModel",
      "state": {}
     },
     "330e5405de3145b48d08d7e07e2b549f": {
      "model_module": "@jupyter-widgets/base",
      "model_module_version": "1.2.0",
      "model_name": "LayoutModel",
      "state": {}
     },
     "3319a902e63c4378af49bee9af61be0c": {
      "model_module": "@jupyter-widgets/base",
      "model_module_version": "1.2.0",
      "model_name": "LayoutModel",
      "state": {}
     },
     "3361389c29ee4c33ba1b486235cbf6a2": {
      "model_module": "@jupyter-widgets/base",
      "model_module_version": "1.2.0",
      "model_name": "LayoutModel",
      "state": {}
     },
     "33a945cd8bfa4f8c85cf8f118a5f241e": {
      "model_module": "@jupyter-widgets/controls",
      "model_module_version": "1.5.0",
      "model_name": "SliderStyleModel",
      "state": {
       "description_width": ""
      }
     },
     "33aaca90c4be40379850603fba2c06e9": {
      "model_module": "@jupyter-widgets/output",
      "model_module_version": "1.0.0",
      "model_name": "OutputModel",
      "state": {
       "layout": "IPY_MODEL_5e34f09441874520ad2371450ff23bbc",
       "outputs": [
        {
         "data": {
          "image/png": "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\n",
          "text/plain": "<Figure size 432x288 with 1 Axes>"
         },
         "metadata": {
          "needs_background": "light"
         },
         "output_type": "display_data"
        }
       ]
      }
     },
     "342a232246e94bf09d2d799861744023": {
      "model_module": "@jupyter-widgets/controls",
      "model_module_version": "1.5.0",
      "model_name": "CheckboxModel",
      "state": {
       "description": "cas_engl",
       "disabled": false,
       "layout": "IPY_MODEL_13d92be00750402b869b5d095d9212c3",
       "style": "IPY_MODEL_54dc1258e4d3489693d66af9f463ee4a",
       "value": false
      }
     },
     "3655988d915e4ac2b7fa1ca158cf598a": {
      "model_module": "@jupyter-widgets/controls",
      "model_module_version": "1.5.0",
      "model_name": "DescriptionStyleModel",
      "state": {
       "description_width": ""
      }
     },
     "36ec3e56dc6e45faa74a3832b954f856": {
      "model_module": "@jupyter-widgets/base",
      "model_module_version": "1.2.0",
      "model_name": "LayoutModel",
      "state": {
       "flex_flow": "row wrap"
      }
     },
     "371e1be346ad4f4eaebf608bbe0432be": {
      "model_module": "@jupyter-widgets/controls",
      "model_module_version": "1.5.0",
      "model_name": "DescriptionStyleModel",
      "state": {
       "description_width": ""
      }
     },
     "37a496f8d3d148c5b00ce00a9a59a575": {
      "model_module": "@jupyter-widgets/controls",
      "model_module_version": "1.5.0",
      "model_name": "CheckboxModel",
      "state": {
       "description": "pharmacy",
       "disabled": false,
       "layout": "IPY_MODEL_afbb6c8ec76a4aab9d967350885ec35c",
       "style": "IPY_MODEL_972ac3216eed489fbeee842857adf409",
       "value": false
      }
     },
     "37cc983e5157431aae15bab72d31f3a8": {
      "model_module": "@jupyter-widgets/controls",
      "model_module_version": "1.5.0",
      "model_name": "DescriptionStyleModel",
      "state": {
       "description_width": ""
      }
     },
     "37db44d984ce4665869c85d33a0d8848": {
      "model_module": "@jupyter-widgets/output",
      "model_module_version": "1.0.0",
      "model_name": "OutputModel",
      "state": {
       "layout": "IPY_MODEL_3319a902e63c4378af49bee9af61be0c",
       "outputs": [
        {
         "data": {
          "image/png": "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\n",
          "text/plain": "<Figure size 432x288 with 1 Axes>"
         },
         "metadata": {
          "needs_background": "light"
         },
         "output_type": "display_data"
        }
       ]
      }
     },
     "380a31fe4a6c4315afc523c6ec46dc01": {
      "model_module": "@jupyter-widgets/base",
      "model_module_version": "1.2.0",
      "model_name": "LayoutModel",
      "state": {}
     },
     "3889cce3d65044ab870ddabfd899072b": {
      "model_module": "@jupyter-widgets/base",
      "model_module_version": "1.2.0",
      "model_name": "LayoutModel",
      "state": {}
     },
     "3904af38b0af471fa06a37d875d2ee7c": {
      "model_module": "@jupyter-widgets/base",
      "model_module_version": "1.2.0",
      "model_name": "LayoutModel",
      "state": {}
     },
     "397de67384ca43d58ae0c5f90fe13869": {
      "model_module": "@jupyter-widgets/controls",
      "model_module_version": "1.5.0",
      "model_name": "CheckboxModel",
      "state": {
       "description": "afl_greek_indicator",
       "disabled": false,
       "layout": "IPY_MODEL_f01eee906bf84df197a8627e1032973e",
       "style": "IPY_MODEL_65b07eb7a586419895243f1966601d24",
       "value": false
      }
     },
     "3a0936b92ce9451da08adb790d9b0e44": {
      "model_module": "@jupyter-widgets/base",
      "model_module_version": "1.2.0",
      "model_name": "LayoutModel",
      "state": {}
     },
     "3a561b3df2c54b71ad98c16de4c342b5": {
      "model_module": "@jupyter-widgets/controls",
      "model_module_version": "1.5.0",
      "model_name": "DescriptionStyleModel",
      "state": {
       "description_width": ""
      }
     },
     "3ad3a18d8a8d4d039369432e37ba1329": {
      "model_module": "@jupyter-widgets/base",
      "model_module_version": "1.2.0",
      "model_name": "LayoutModel",
      "state": {}
     },
     "3b3fef828ef1411abf1e260e30f7d1b7": {
      "model_module": "@jupyter-widgets/controls",
      "model_module_version": "1.5.0",
      "model_name": "DropdownModel",
      "state": {
       "_options_labels": [
        "emplid",
        "enrl_ind",
        "acad_year",
        "count_week_from_term_begin_dt",
        "marital_status",
        "resident",
        "parent1_highest_educ_lvl",
        "parent2_highest_educ_lvl"
       ],
       "description": "x",
       "index": 6,
       "layout": "IPY_MODEL_4936b717b9f94ac0830263b08fdea4c7",
       "style": "IPY_MODEL_250051463270426fa1bb478d50936e87"
      }
     },
     "3b5e998d40264fd49519b32940b87ef7": {
      "model_module": "@jupyter-widgets/controls",
      "model_module_version": "1.5.0",
      "model_name": "DescriptionStyleModel",
      "state": {
       "description_width": ""
      }
     },
     "3ba4b10ec9774e9886f2cbfba8646e57": {
      "model_module": "@jupyter-widgets/controls",
      "model_module_version": "1.5.0",
      "model_name": "CheckboxModel",
      "state": {
       "description": "pvrt_rate",
       "disabled": false,
       "layout": "IPY_MODEL_c4a5c7d833aa4f94bfbb8809a56ee259",
       "style": "IPY_MODEL_f4b9bf1c31904f0fbc87da29654c01da",
       "value": false
      }
     },
     "3cd0b6a0b7064ef7be0f631bd3bec2f7": {
      "model_module": "@jupyter-widgets/base",
      "model_module_version": "1.2.0",
      "model_name": "LayoutModel",
      "state": {}
     },
     "3d7caec246034f1d99b3432f1e7b8b39": {
      "model_module": "@jupyter-widgets/controls",
      "model_module_version": "1.5.0",
      "model_name": "DescriptionStyleModel",
      "state": {
       "description_width": ""
      }
     },
     "3dc90463480b48f9b445bf39cd151ed6": {
      "model_module": "@jupyter-widgets/controls",
      "model_module_version": "1.5.0",
      "model_name": "SliderStyleModel",
      "state": {
       "description_width": ""
      }
     },
     "3dd95af5ac31400c926c0a7e7d0ef9ea": {
      "model_module": "@jupyter-widgets/controls",
      "model_module_version": "1.5.0",
      "model_name": "DescriptionStyleModel",
      "state": {
       "description_width": ""
      }
     },
     "3e922cf818854c2cb753df5cad6387c0": {
      "model_module": "@jupyter-widgets/base",
      "model_module_version": "1.2.0",
      "model_name": "LayoutModel",
      "state": {}
     },
     "3eae624998db49498fca586c84b5cd9c": {
      "model_module": "@jupyter-widgets/controls",
      "model_module_version": "1.5.0",
      "model_name": "CheckboxModel",
      "state": {
       "description": "fall_lec_count",
       "disabled": false,
       "layout": "IPY_MODEL_d211fbce13c44d9d90a808f85aca1c20",
       "style": "IPY_MODEL_ccf1cb0c0a374a289fb06d185f4df88d",
       "value": false
      }
     },
     "3ece1fe562d741838ebb675d0906c16f": {
      "model_module": "@jupyter-widgets/base",
      "model_module_version": "1.2.0",
      "model_name": "LayoutModel",
      "state": {}
     },
     "3ef9ae0192904143a5b13d65fafb6ce8": {
      "model_module": "@jupyter-widgets/base",
      "model_module_version": "1.2.0",
      "model_name": "LayoutModel",
      "state": {}
     },
     "3eff68a60cb04ca0abc1010da1e0dd63": {
      "model_module": "@jupyter-widgets/controls",
      "model_module_version": "1.5.0",
      "model_name": "CheckboxModel",
      "state": {
       "description": "AP",
       "disabled": false,
       "layout": "IPY_MODEL_3cd0b6a0b7064ef7be0f631bd3bec2f7",
       "style": "IPY_MODEL_f72dcde0f89946ea96ed9289475bde7b",
       "value": false
      }
     },
     "3f0b63bc980047b494021d664f27e896": {
      "model_module": "@jupyter-widgets/controls",
      "model_module_version": "1.5.0",
      "model_name": "VBoxModel",
      "state": {
       "children": [
        "IPY_MODEL_e046bdbea5f94392955f484f0ccc06ef",
        "IPY_MODEL_3ba4b10ec9774e9886f2cbfba8646e57",
        "IPY_MODEL_08216d854064431ea7191e7c28714965",
        "IPY_MODEL_c896b70be4e447fcb3ab98e5674583d3",
        "IPY_MODEL_2e096dc25f57413295475accbc1c3f58",
        "IPY_MODEL_583bb744284a4ac7aee4af7fe4e346bc",
        "IPY_MODEL_4fdc00a20d9644e58fe49445f141c669",
        "IPY_MODEL_ebbfedd7dbde47d09b5b632696df2e8e",
        "IPY_MODEL_dc5e4922b89642d2b2954ca1bec167ab",
        "IPY_MODEL_5f7d5f41da364b1c8940acd266e72d18",
        "IPY_MODEL_f74a9cc59c2d4b4c888a229240d8b6cb",
        "IPY_MODEL_81201e3058124211a208fd1761b86623",
        "IPY_MODEL_27ef83205a7a4d6abd295a1693933d55"
       ],
       "layout": "IPY_MODEL_416da6c435ce4b96903e2d6248978d1a"
      }
     },
     "3f1a91ef432242e79bf209f5b5f9eb48": {
      "model_module": "@jupyter-widgets/controls",
      "model_module_version": "1.5.0",
      "model_name": "DescriptionStyleModel",
      "state": {
       "description_width": ""
      }
     },
     "3f2b8d877a93432690ceef4011224bbf": {
      "model_module": "@jupyter-widgets/controls",
      "model_module_version": "1.5.0",
      "model_name": "CheckboxModel",
      "state": {
       "description": "vet_med",
       "disabled": false,
       "layout": "IPY_MODEL_ae9a615899f4484c94f911dc6100738a",
       "style": "IPY_MODEL_c9bf65ef559c4db2bce5715eef3a3bb0",
       "value": false
      }
     },
     "3f58327f0c3a483b8a09d709adf0706b": {
      "model_module": "@jupyter-widgets/base",
      "model_module_version": "1.2.0",
      "model_name": "LayoutModel",
      "state": {}
     },
     "400f3e80e029463e8c28341d072e873c": {
      "model_module": "@jupyter-widgets/controls",
      "model_module_version": "1.5.0",
      "model_name": "DescriptionStyleModel",
      "state": {
       "description_width": ""
      }
     },
     "40a7fd43049d4b118292edd05be1d991": {
      "model_module": "@jupyter-widgets/base",
      "model_module_version": "1.2.0",
      "model_name": "LayoutModel",
      "state": {}
     },
     "40f09a25017544a38176ce0a2473b012": {
      "model_module": "@jupyter-widgets/controls",
      "model_module_version": "1.5.0",
      "model_name": "DescriptionStyleModel",
      "state": {
       "description_width": ""
      }
     },
     "40f9da93c01e4978acaed00a6aef151b": {
      "model_module": "@jupyter-widgets/controls",
      "model_module_version": "1.5.0",
      "model_name": "DescriptionStyleModel",
      "state": {
       "description_width": ""
      }
     },
     "410f5f4d1a8148e0bf65bf6a97ae91b3": {
      "model_module": "@jupyter-widgets/base",
      "model_module_version": "1.2.0",
      "model_name": "LayoutModel",
      "state": {}
     },
     "411cb2a1624b422996a7fc8ecde2d9b4": {
      "model_module": "@jupyter-widgets/base",
      "model_module_version": "1.2.0",
      "model_name": "LayoutModel",
      "state": {}
     },
     "416da6c435ce4b96903e2d6248978d1a": {
      "model_module": "@jupyter-widgets/base",
      "model_module_version": "1.2.0",
      "model_name": "LayoutModel",
      "state": {
       "flex_flow": "row wrap"
      }
     },
     "41ca68b23e214b429de5c0f44f9542de": {
      "model_module": "@jupyter-widgets/controls",
      "model_module_version": "1.5.0",
      "model_name": "CheckboxModel",
      "state": {
       "description": "race_black",
       "disabled": false,
       "layout": "IPY_MODEL_c1cdfd4761914150ab23847f13ba2923",
       "style": "IPY_MODEL_adea0721fdc141af93873d3b4279422c",
       "value": false
      }
     },
     "41ea17bcfe154ca9b96f2d092185836f": {
      "model_module": "@jupyter-widgets/output",
      "model_module_version": "1.0.0",
      "model_name": "OutputModel",
      "state": {
       "layout": "IPY_MODEL_85da2343d5794f2d89bbc2609fe0a3cf",
       "outputs": [
        {
         "ename": "TypeError",
         "evalue": "unhashable type: 'list'",
         "output_type": "error",
         "traceback": [
          "\u001b[1;31m---------------------------------------------------------------------------\u001b[0m",
          "\u001b[1;31mTypeError\u001b[0m                                 Traceback (most recent call last)",
          "\u001b[1;32m~\\AppData\\Local\\Continuum\\anaconda3\\envs\\analytics_env\\lib\\site-packages\\ipywidgets\\widgets\\interaction.py\u001b[0m in \u001b[0;36mupdate\u001b[1;34m(self, *args)\u001b[0m\n\u001b[0;32m    254\u001b[0m                     \u001b[0mvalue\u001b[0m \u001b[1;33m=\u001b[0m \u001b[0mwidget\u001b[0m\u001b[1;33m.\u001b[0m\u001b[0mget_interact_value\u001b[0m\u001b[1;33m(\u001b[0m\u001b[1;33m)\u001b[0m\u001b[1;33m\u001b[0m\u001b[1;33m\u001b[0m\u001b[0m\n\u001b[0;32m    255\u001b[0m                     \u001b[0mself\u001b[0m\u001b[1;33m.\u001b[0m\u001b[0mkwargs\u001b[0m\u001b[1;33m[\u001b[0m\u001b[0mwidget\u001b[0m\u001b[1;33m.\u001b[0m\u001b[0m_kwarg\u001b[0m\u001b[1;33m]\u001b[0m \u001b[1;33m=\u001b[0m \u001b[0mvalue\u001b[0m\u001b[1;33m\u001b[0m\u001b[1;33m\u001b[0m\u001b[0m\n\u001b[1;32m--> 256\u001b[1;33m                 \u001b[0mself\u001b[0m\u001b[1;33m.\u001b[0m\u001b[0mresult\u001b[0m \u001b[1;33m=\u001b[0m \u001b[0mself\u001b[0m\u001b[1;33m.\u001b[0m\u001b[0mf\u001b[0m\u001b[1;33m(\u001b[0m\u001b[1;33m**\u001b[0m\u001b[0mself\u001b[0m\u001b[1;33m.\u001b[0m\u001b[0mkwargs\u001b[0m\u001b[1;33m)\u001b[0m\u001b[1;33m\u001b[0m\u001b[1;33m\u001b[0m\u001b[0m\n\u001b[0m\u001b[0;32m    257\u001b[0m                 \u001b[0mshow_inline_matplotlib_plots\u001b[0m\u001b[1;33m(\u001b[0m\u001b[1;33m)\u001b[0m\u001b[1;33m\u001b[0m\u001b[1;33m\u001b[0m\u001b[0m\n\u001b[0;32m    258\u001b[0m                 \u001b[1;32mif\u001b[0m \u001b[0mself\u001b[0m\u001b[1;33m.\u001b[0m\u001b[0mauto_display\u001b[0m \u001b[1;32mand\u001b[0m \u001b[0mself\u001b[0m\u001b[1;33m.\u001b[0m\u001b[0mresult\u001b[0m \u001b[1;32mis\u001b[0m \u001b[1;32mnot\u001b[0m \u001b[1;32mNone\u001b[0m\u001b[1;33m:\u001b[0m\u001b[1;33m\u001b[0m\u001b[1;33m\u001b[0m\u001b[0m\n",
          "\u001b[1;32m<ipython-input-15-cba717a108e5>\u001b[0m in \u001b[0;36mtrain_func\u001b[1;34m(self, x, y)\u001b[0m\n\u001b[0;32m      5\u001b[0m \u001b[1;33m\u001b[0m\u001b[0m\n\u001b[0;32m      6\u001b[0m     \u001b[1;32mdef\u001b[0m \u001b[0mtrain_func\u001b[0m\u001b[1;33m(\u001b[0m\u001b[0mself\u001b[0m\u001b[1;33m,\u001b[0m \u001b[0mx\u001b[0m\u001b[1;33m,\u001b[0m \u001b[0my\u001b[0m\u001b[1;33m)\u001b[0m\u001b[1;33m:\u001b[0m\u001b[1;33m\u001b[0m\u001b[1;33m\u001b[0m\u001b[0m\n\u001b[1;32m----> 7\u001b[1;33m         \u001b[0mplt\u001b[0m\u001b[1;33m.\u001b[0m\u001b[0mhist\u001b[0m\u001b[1;33m(\u001b[0m\u001b[0mbd\u001b[0m\u001b[1;33m.\u001b[0m\u001b[0mtraining_getter\u001b[0m\u001b[1;33m(\u001b[0m\u001b[1;33m)\u001b[0m\u001b[1;33m[\u001b[0m\u001b[0mx\u001b[0m\u001b[1;33m]\u001b[0m\u001b[1;33m.\u001b[0m\u001b[0msort_values\u001b[0m\u001b[1;33m(\u001b[0m\u001b[1;33m[\u001b[0m\u001b[0mx\u001b[0m\u001b[1;33m]\u001b[0m\u001b[1;33m)\u001b[0m\u001b[1;33m,\u001b[0m \u001b[0mcolor\u001b[0m\u001b[1;33m=\u001b[0m\u001b[0mwsu_color\u001b[0m\u001b[1;33m,\u001b[0m \u001b[0mbins\u001b[0m\u001b[1;33m=\u001b[0m\u001b[0my\u001b[0m\u001b[1;33m)\u001b[0m\u001b[1;33m\u001b[0m\u001b[1;33m\u001b[0m\u001b[0m\n\u001b[0m\u001b[0;32m      8\u001b[0m         \u001b[0mplt\u001b[0m\u001b[1;33m.\u001b[0m\u001b[0mtitle\u001b[0m\u001b[1;33m(\u001b[0m\u001b[1;34m'TRAINING DATA'\u001b[0m\u001b[1;33m)\u001b[0m\u001b[1;33m\u001b[0m\u001b[1;33m\u001b[0m\u001b[0m\n\u001b[0;32m      9\u001b[0m \u001b[1;33m\u001b[0m\u001b[0m\n",
          "\u001b[1;32m~\\AppData\\Local\\Continuum\\anaconda3\\envs\\analytics_env\\lib\\site-packages\\pandas\\core\\series.py\u001b[0m in \u001b[0;36msort_values\u001b[1;34m(self, axis, ascending, inplace, kind, na_position, ignore_index, key)\u001b[0m\n\u001b[0;32m   3236\u001b[0m         \u001b[0minplace\u001b[0m \u001b[1;33m=\u001b[0m \u001b[0mvalidate_bool_kwarg\u001b[0m\u001b[1;33m(\u001b[0m\u001b[0minplace\u001b[0m\u001b[1;33m,\u001b[0m \u001b[1;34m\"inplace\"\u001b[0m\u001b[1;33m)\u001b[0m\u001b[1;33m\u001b[0m\u001b[1;33m\u001b[0m\u001b[0m\n\u001b[0;32m   3237\u001b[0m         \u001b[1;31m# Validate the axis parameter\u001b[0m\u001b[1;33m\u001b[0m\u001b[1;33m\u001b[0m\u001b[1;33m\u001b[0m\u001b[0m\n\u001b[1;32m-> 3238\u001b[1;33m         \u001b[0mself\u001b[0m\u001b[1;33m.\u001b[0m\u001b[0m_get_axis_number\u001b[0m\u001b[1;33m(\u001b[0m\u001b[0maxis\u001b[0m\u001b[1;33m)\u001b[0m\u001b[1;33m\u001b[0m\u001b[1;33m\u001b[0m\u001b[0m\n\u001b[0m\u001b[0;32m   3239\u001b[0m \u001b[1;33m\u001b[0m\u001b[0m\n\u001b[0;32m   3240\u001b[0m         \u001b[1;31m# GH 5856/5853\u001b[0m\u001b[1;33m\u001b[0m\u001b[1;33m\u001b[0m\u001b[1;33m\u001b[0m\u001b[0m\n",
          "\u001b[1;32m~\\AppData\\Local\\Continuum\\anaconda3\\envs\\analytics_env\\lib\\site-packages\\pandas\\core\\generic.py\u001b[0m in \u001b[0;36m_get_axis_number\u001b[1;34m(cls, axis)\u001b[0m\n\u001b[0;32m    458\u001b[0m     \u001b[1;32mdef\u001b[0m \u001b[0m_get_axis_number\u001b[0m\u001b[1;33m(\u001b[0m\u001b[0mcls\u001b[0m\u001b[1;33m,\u001b[0m \u001b[0maxis\u001b[0m\u001b[1;33m:\u001b[0m \u001b[0mAxis\u001b[0m\u001b[1;33m)\u001b[0m \u001b[1;33m->\u001b[0m \u001b[0mint\u001b[0m\u001b[1;33m:\u001b[0m\u001b[1;33m\u001b[0m\u001b[1;33m\u001b[0m\u001b[0m\n\u001b[0;32m    459\u001b[0m         \u001b[1;32mtry\u001b[0m\u001b[1;33m:\u001b[0m\u001b[1;33m\u001b[0m\u001b[1;33m\u001b[0m\u001b[0m\n\u001b[1;32m--> 460\u001b[1;33m             \u001b[1;32mreturn\u001b[0m \u001b[0mcls\u001b[0m\u001b[1;33m.\u001b[0m\u001b[0m_AXIS_TO_AXIS_NUMBER\u001b[0m\u001b[1;33m[\u001b[0m\u001b[0maxis\u001b[0m\u001b[1;33m]\u001b[0m\u001b[1;33m\u001b[0m\u001b[1;33m\u001b[0m\u001b[0m\n\u001b[0m\u001b[0;32m    461\u001b[0m         \u001b[1;32mexcept\u001b[0m \u001b[0mKeyError\u001b[0m\u001b[1;33m:\u001b[0m\u001b[1;33m\u001b[0m\u001b[1;33m\u001b[0m\u001b[0m\n\u001b[0;32m    462\u001b[0m             \u001b[1;32mraise\u001b[0m \u001b[0mValueError\u001b[0m\u001b[1;33m(\u001b[0m\u001b[1;34mf\"No axis named {axis} for object type {cls.__name__}\"\u001b[0m\u001b[1;33m)\u001b[0m\u001b[1;33m\u001b[0m\u001b[1;33m\u001b[0m\u001b[0m\n",
          "\u001b[1;31mTypeError\u001b[0m: unhashable type: 'list'"
         ]
        }
       ]
      }
     },
     "4205ffbf2e4e46dabab7ccdc0ff637d0": {
      "model_module": "@jupyter-widgets/controls",
      "model_module_version": "1.5.0",
      "model_name": "DescriptionStyleModel",
      "state": {
       "description_width": ""
      }
     },
     "425e918ba40e4e5a8d92597ab7795d8d": {
      "model_module": "@jupyter-widgets/base",
      "model_module_version": "1.2.0",
      "model_name": "LayoutModel",
      "state": {}
     },
     "427b860d6be54df3ab0585bff9d4b09b": {
      "model_module": "@jupyter-widgets/base",
      "model_module_version": "1.2.0",
      "model_name": "LayoutModel",
      "state": {}
     },
     "428881e1eabf4f2b9f5930a3fd41a4d6": {
      "model_module": "@jupyter-widgets/base",
      "model_module_version": "1.2.0",
      "model_name": "LayoutModel",
      "state": {}
     },
     "4318d13a2d8e4b309e8461f1f1eb01b7": {
      "model_module": "@jupyter-widgets/base",
      "model_module_version": "1.2.0",
      "model_name": "LayoutModel",
      "state": {}
     },
     "43598d2cbe414b16a89c2c27eccb7897": {
      "model_module": "@jupyter-widgets/controls",
      "model_module_version": "1.5.0",
      "model_name": "CheckboxModel",
      "state": {
       "description": "cahnrs_econ",
       "disabled": false,
       "layout": "IPY_MODEL_dc355aad480b48419dd2d08e7ad34043",
       "style": "IPY_MODEL_371e1be346ad4f4eaebf608bbe0432be",
       "value": false
      }
     },
     "43aab9d2364143f486da3ce0ad056414": {
      "model_module": "@jupyter-widgets/controls",
      "model_module_version": "1.5.0",
      "model_name": "SliderStyleModel",
      "state": {
       "description_width": ""
      }
     },
     "44908691572d4f2aa59eefb515632730": {
      "model_module": "@jupyter-widgets/base",
      "model_module_version": "1.2.0",
      "model_name": "LayoutModel",
      "state": {}
     },
     "44a370b25ad94852bb8e4d6ca21de5de": {
      "model_module": "@jupyter-widgets/base",
      "model_module_version": "1.2.0",
      "model_name": "LayoutModel",
      "state": {}
     },
     "45b0c229149a43feba0f87516a17f83f": {
      "model_module": "@jupyter-widgets/controls",
      "model_module_version": "1.5.0",
      "model_name": "CheckboxModel",
      "state": {
       "description": "vcea_desn",
       "disabled": false,
       "layout": "IPY_MODEL_477a8af1a9ee4006bb4595d414301e2a",
       "style": "IPY_MODEL_5a88dac454dd4609aca61b5211833d99",
       "value": false
      }
     },
     "46040f00a8034ed4b95943b7e36722d1": {
      "model_module": "@jupyter-widgets/controls",
      "model_module_version": "1.5.0",
      "model_name": "VBoxModel",
      "state": {
       "children": [
        "IPY_MODEL_bab186ae3f344de0902585cfae4daa07",
        "IPY_MODEL_d180512258da4464b79fb14f8618bac6",
        "IPY_MODEL_efa719500c8941e8a00f6c9ff989f968"
       ],
       "layout": "IPY_MODEL_296ddf79b5854c7ba7b7f331dc8c08d7"
      }
     },
     "46275b5c4c1b460fa1eb4562ffb1e504": {
      "model_module": "@jupyter-widgets/controls",
      "model_module_version": "1.5.0",
      "model_name": "CheckboxModel",
      "state": {
       "description": "parent1_highest_educ_lvl",
       "disabled": false,
       "layout": "IPY_MODEL_8e10cd097108450f83284bffe4b0aa28",
       "style": "IPY_MODEL_682e4899524e43f4a48fe889aad1c81e",
       "value": true
      }
     },
     "463787e818144aff909f3487a9cffb94": {
      "model_module": "@jupyter-widgets/controls",
      "model_module_version": "1.5.0",
      "model_name": "VBoxModel",
      "state": {
       "children": [
        "IPY_MODEL_9b416f3e49934b3e9a504f65d2b7a392",
        "IPY_MODEL_d8ecacbc2ab14778a8070c256149bfa9"
       ],
       "layout": "IPY_MODEL_6794314c6928404e86553cf8b31d53fa"
      }
     },
     "4656cc148582426ea02d68c1b69ed992": {
      "model_module": "@jupyter-widgets/controls",
      "model_module_version": "1.5.0",
      "model_name": "CheckboxModel",
      "state": {
       "description": "city_small",
       "disabled": false,
       "layout": "IPY_MODEL_f2e839584e004b329538c13245fce741",
       "style": "IPY_MODEL_20c3ebde6f314eca820f1b42d63e7ee6",
       "value": false
      }
     },
     "465b66f42b3b41ccbc06f2ecbcc0abc2": {
      "model_module": "@jupyter-widgets/controls",
      "model_module_version": "1.5.0",
      "model_name": "IntSliderModel",
      "state": {
       "description": "y",
       "layout": "IPY_MODEL_664125e45165428b879cc7e9e80b70ee",
       "min": 1,
       "style": "IPY_MODEL_89c3e9b0455a4f32ba2ea981b01ce6ad",
       "value": 50
      }
     },
     "4741f626c2b84a42bc2e8f10c83c390b": {
      "model_module": "@jupyter-widgets/output",
      "model_module_version": "1.0.0",
      "model_name": "OutputModel",
      "state": {
       "layout": "IPY_MODEL_2874357194d648788a3ad5a66d58bbbe",
       "outputs": [
        {
         "data": {
          "application/vnd.jupyter.widget-view+json": {
           "model_id": "",
           "version_major": 2,
           "version_minor": 0
          },
          "text/plain": "interactive(children=(Dropdown(description='x', options=('emplid', 'enrl_ind', 'acad_year', 'count_week_from_t…"
         },
         "metadata": {},
         "output_type": "display_data"
        },
        {
         "data": {
          "application/vnd.jupyter.widget-view+json": {
           "model_id": "",
           "version_major": 2,
           "version_minor": 0
          },
          "text/plain": "interactive(children=(Dropdown(description='x', options=('emplid', 'enrl_ind', 'acad_year', 'count_week_from_t…"
         },
         "metadata": {},
         "output_type": "display_data"
        }
       ]
      }
     },
     "477a8af1a9ee4006bb4595d414301e2a": {
      "model_module": "@jupyter-widgets/base",
      "model_module_version": "1.2.0",
      "model_name": "LayoutModel",
      "state": {}
     },
     "485f6699779a478a940ea47452497e90": {
      "model_module": "@jupyter-widgets/base",
      "model_module_version": "1.2.0",
      "model_name": "LayoutModel",
      "state": {}
     },
     "486e8411b0dc40308cc10e9609de582c": {
      "model_module": "@jupyter-widgets/base",
      "model_module_version": "1.2.0",
      "model_name": "LayoutModel",
      "state": {}
     },
     "4936b717b9f94ac0830263b08fdea4c7": {
      "model_module": "@jupyter-widgets/base",
      "model_module_version": "1.2.0",
      "model_name": "LayoutModel",
      "state": {}
     },
     "494d54f91d1741c28b8e84e0ecf376bc": {
      "model_module": "@jupyter-widgets/controls",
      "model_module_version": "1.5.0",
      "model_name": "VBoxModel",
      "state": {
       "children": [
        "IPY_MODEL_9a4fa984ce4e4d4d86a27237d3005852",
        "IPY_MODEL_877920ff4ed9427db3aec56bd8f4d399"
       ],
       "layout": "IPY_MODEL_5252507d81284b52966ca3033ed8cbef"
      }
     },
     "498e417c91a54f618208679846ee27e8": {
      "model_module": "@jupyter-widgets/controls",
      "model_module_version": "1.5.0",
      "model_name": "CheckboxModel",
      "state": {
       "description": "town_fringe",
       "disabled": false,
       "layout": "IPY_MODEL_c25f48f9eb744f2595c4dd4e51f9c6ea",
       "style": "IPY_MODEL_8b591a07da0d4fdebf749d60e852b0f8",
       "value": false
      }
     },
     "4a4c59b2e6fd45b98fb6a1bbc21fdb45": {
      "model_module": "@jupyter-widgets/base",
      "model_module_version": "1.2.0",
      "model_name": "LayoutModel",
      "state": {}
     },
     "4a5824fa8a6a4d4c85b0cb008f155534": {
      "model_module": "@jupyter-widgets/controls",
      "model_module_version": "1.5.0",
      "model_name": "CheckboxModel",
      "state": {
       "description": "comm",
       "disabled": false,
       "layout": "IPY_MODEL_427b860d6be54df3ab0585bff9d4b09b",
       "style": "IPY_MODEL_20743b5c630743eeab97426e123f0fcb",
       "value": false
      }
     },
     "4ac38d773c7b4b56abeba1b6aa836322": {
      "model_module": "@jupyter-widgets/controls",
      "model_module_version": "1.5.0",
      "model_name": "CheckboxModel",
      "state": {
       "description": "vcea",
       "disabled": false,
       "layout": "IPY_MODEL_508b93befd4e4948b7de5acae973c5a2",
       "style": "IPY_MODEL_0360d10e194f45c2b94e75dc4c248344",
       "value": false
      }
     },
     "4b253da1eef940f3bf3a5e71fac540b0": {
      "model_module": "@jupyter-widgets/base",
      "model_module_version": "1.2.0",
      "model_name": "LayoutModel",
      "state": {}
     },
     "4b325094236a48e9adb92c7aa355b838": {
      "model_module": "@jupyter-widgets/controls",
      "model_module_version": "1.5.0",
      "model_name": "CheckboxModel",
      "state": {
       "description": "parent2_highest_educ_lvl",
       "disabled": false,
       "layout": "IPY_MODEL_330e5405de3145b48d08d7e07e2b549f",
       "style": "IPY_MODEL_96bcd78b12f64b3d9d29aa0f648919e1",
       "value": true
      }
     },
     "4b7424f2b583449e8a6ab373b58ec873": {
      "model_module": "@jupyter-widgets/base",
      "model_module_version": "1.2.0",
      "model_name": "LayoutModel",
      "state": {}
     },
     "4c2ca98d68814ec09d748d6f33b5d7c3": {
      "model_module": "@jupyter-widgets/controls",
      "model_module_version": "1.5.0",
      "model_name": "DescriptionStyleModel",
      "state": {
       "description_width": ""
      }
     },
     "4c2e15965bea48acbeef92c5710766d1": {
      "model_module": "@jupyter-widgets/controls",
      "model_module_version": "1.5.0",
      "model_name": "SliderStyleModel",
      "state": {
       "description_width": ""
      }
     },
     "4c33aac7b5c64d63aa4ae163da4608d9": {
      "model_module": "@jupyter-widgets/controls",
      "model_module_version": "1.5.0",
      "model_name": "CheckboxModel",
      "state": {
       "description": "attendee_cashe",
       "disabled": false,
       "layout": "IPY_MODEL_710fb5690f394f3c9f44241a6a7a257e",
       "style": "IPY_MODEL_9b15770d8e7c41c1a9be9c6b722a39ed",
       "value": false
      }
     },
     "4c3b933b1f1d410ba3dd8e0c9955abc5": {
      "model_module": "@jupyter-widgets/base",
      "model_module_version": "1.2.0",
      "model_name": "LayoutModel",
      "state": {}
     },
     "4c93d64083df4caa80c5036201f132cf": {
      "model_module": "@jupyter-widgets/controls",
      "model_module_version": "1.5.0",
      "model_name": "CheckboxModel",
      "state": {
       "description": "cas_crim",
       "disabled": false,
       "layout": "IPY_MODEL_631f9bc3e5674f739119e2429b1905bd",
       "style": "IPY_MODEL_81cf331ab8f34d83bc6febf35e587ecf",
       "value": false
      }
     },
     "4cf554c2f9b24e4bad3802b1a08e4f23": {
      "model_module": "@jupyter-widgets/controls",
      "model_module_version": "1.5.0",
      "model_name": "DescriptionStyleModel",
      "state": {
       "description_width": ""
      }
     },
     "4d132253f365436a8d2483b749a51b1d": {
      "model_module": "@jupyter-widgets/controls",
      "model_module_version": "1.5.0",
      "model_name": "DescriptionStyleModel",
      "state": {
       "description_width": ""
      }
     },
     "4d8d8cef504e4103bad7f618172400c8": {
      "model_module": "@jupyter-widgets/controls",
      "model_module_version": "1.5.0",
      "model_name": "DescriptionStyleModel",
      "state": {
       "description_width": ""
      }
     },
     "4ddfe4e7086f42c79a076a9c89a375a6": {
      "model_module": "@jupyter-widgets/base",
      "model_module_version": "1.2.0",
      "model_name": "LayoutModel",
      "state": {}
     },
     "4e0df16def2743569e7bf65c15c42fe6": {
      "model_module": "@jupyter-widgets/controls",
      "model_module_version": "1.5.0",
      "model_name": "CheckboxModel",
      "state": {
       "description": "suburb_large",
       "disabled": false,
       "layout": "IPY_MODEL_486e8411b0dc40308cc10e9609de582c",
       "style": "IPY_MODEL_3f1a91ef432242e79bf209f5b5f9eb48",
       "value": false
      }
     },
     "4e412991105b414cbeeda3bca0846ac5": {
      "model_module": "@jupyter-widgets/base",
      "model_module_version": "1.2.0",
      "model_name": "LayoutModel",
      "state": {}
     },
     "4e7efae3905249188563c3d575dc1ac4": {
      "model_module": "@jupyter-widgets/controls",
      "model_module_version": "1.5.0",
      "model_name": "DescriptionStyleModel",
      "state": {
       "description_width": ""
      }
     },
     "4eba0f0f804544fa853765c5694a1614": {
      "model_module": "@jupyter-widgets/base",
      "model_module_version": "1.2.0",
      "model_name": "LayoutModel",
      "state": {}
     },
     "4fdc00a20d9644e58fe49445f141c669": {
      "model_module": "@jupyter-widgets/controls",
      "model_module_version": "1.5.0",
      "model_name": "CheckboxModel",
      "state": {
       "description": "pct_ai",
       "disabled": false,
       "layout": "IPY_MODEL_10b67b0d778d4608b50d5199c861a501",
       "style": "IPY_MODEL_df214b0c2811493b821fae2aaaf6da86",
       "value": false
      }
     },
     "506e3335bebe48609730bf6e8eece273": {
      "model_module": "@jupyter-widgets/base",
      "model_module_version": "1.2.0",
      "model_name": "LayoutModel",
      "state": {}
     },
     "508b93befd4e4948b7de5acae973c5a2": {
      "model_module": "@jupyter-widgets/base",
      "model_module_version": "1.2.0",
      "model_name": "LayoutModel",
      "state": {}
     },
     "5098c30254d246f185ea6623908811cc": {
      "model_module": "@jupyter-widgets/controls",
      "model_module_version": "1.5.0",
      "model_name": "DescriptionStyleModel",
      "state": {
       "description_width": ""
      }
     },
     "5147fcd5564c4bdfb54292b535483ffc": {
      "model_module": "@jupyter-widgets/base",
      "model_module_version": "1.2.0",
      "model_name": "LayoutModel",
      "state": {}
     },
     "51666a43c9914bac923e8eb71c34c8e4": {
      "model_module": "@jupyter-widgets/controls",
      "model_module_version": "1.5.0",
      "model_name": "DescriptionStyleModel",
      "state": {
       "description_width": ""
      }
     },
     "517bbf5fc6a94f8ea6f9b6461e0e7093": {
      "model_module": "@jupyter-widgets/base",
      "model_module_version": "1.2.0",
      "model_name": "LayoutModel",
      "state": {}
     },
     "51921a43c05345ecba432c51020c5a0e": {
      "model_module": "@jupyter-widgets/controls",
      "model_module_version": "1.5.0",
      "model_name": "DescriptionStyleModel",
      "state": {
       "description_width": ""
      }
     },
     "5252507d81284b52966ca3033ed8cbef": {
      "model_module": "@jupyter-widgets/base",
      "model_module_version": "1.2.0",
      "model_name": "LayoutModel",
      "state": {}
     },
     "525cd760cea74e45bd72e52022ee54b4": {
      "model_module": "@jupyter-widgets/controls",
      "model_module_version": "1.5.0",
      "model_name": "SliderStyleModel",
      "state": {
       "description_width": ""
      }
     },
     "52c4cf77628d4b1ba60b2ec07f0981d6": {
      "model_module": "@jupyter-widgets/base",
      "model_module_version": "1.2.0",
      "model_name": "LayoutModel",
      "state": {}
     },
     "52e7b39ff5db400b82f61ceb85313b14": {
      "model_module": "@jupyter-widgets/controls",
      "model_module_version": "1.5.0",
      "model_name": "CheckboxModel",
      "state": {
       "description": "RS",
       "disabled": false,
       "layout": "IPY_MODEL_addf8467533a45abb1e7a43f99b55efa",
       "style": "IPY_MODEL_4d132253f365436a8d2483b749a51b1d",
       "value": false
      }
     },
     "53409cc877364d3b9583d55cc49cd7c5": {
      "model_module": "@jupyter-widgets/controls",
      "model_module_version": "1.5.0",
      "model_name": "CheckboxModel",
      "state": {
       "description": "pell_recipient_ind",
       "disabled": false,
       "layout": "IPY_MODEL_c4a02923a3b94d998a523507e80c281d",
       "style": "IPY_MODEL_ccbd71632020468086c956898e18ead9",
       "value": false
      }
     },
     "53f12e1f2fd044b191951cdf681bd589": {
      "model_module": "@jupyter-widgets/base",
      "model_module_version": "1.2.0",
      "model_name": "LayoutModel",
      "state": {}
     },
     "54dc1258e4d3489693d66af9f463ee4a": {
      "model_module": "@jupyter-widgets/controls",
      "model_module_version": "1.5.0",
      "model_name": "DescriptionStyleModel",
      "state": {
       "description_width": ""
      }
     },
     "5507990e4adf47e5a115c417b00359e9": {
      "model_module": "@jupyter-widgets/controls",
      "model_module_version": "1.5.0",
      "model_name": "CheckboxModel",
      "state": {
       "description": "spring_avg_pct_CDF",
       "disabled": false,
       "layout": "IPY_MODEL_380a31fe4a6c4315afc523c6ec46dc01",
       "style": "IPY_MODEL_40f9da93c01e4978acaed00a6aef151b",
       "value": false
      }
     },
     "5520921d93894a99a319de4442960d7c": {
      "model_module": "@jupyter-widgets/controls",
      "model_module_version": "1.5.0",
      "model_name": "VBoxModel",
      "state": {
       "_dom_classes": [
        "widget-interact"
       ],
       "children": [
        "IPY_MODEL_c10e263bb1cc43b9bf6a3833a2d2e517",
        "IPY_MODEL_be0b7834268d447cb4b8af2c5bab88d4",
        "IPY_MODEL_6eec73e7aabc46b4b46d5fa0ca9b8297"
       ],
       "layout": "IPY_MODEL_2eae9093299443cdbaf6e1e06f210657"
      }
     },
     "55caac12e7ec4d318299083fb02cd361": {
      "model_module": "@jupyter-widgets/controls",
      "model_module_version": "1.5.0",
      "model_name": "DescriptionStyleModel",
      "state": {
       "description_width": ""
      }
     },
     "5617c77452854086876f89d205e5bff8": {
      "model_module": "@jupyter-widgets/output",
      "model_module_version": "1.0.0",
      "model_name": "OutputModel",
      "state": {
       "layout": "IPY_MODEL_a67c995f69a249ee9dae2b4105acb180",
       "outputs": [
        {
         "data": {
          "image/png": "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\n",
          "text/plain": "<Figure size 432x288 with 1 Axes>"
         },
         "metadata": {
          "needs_background": "light"
         },
         "output_type": "display_data"
        }
       ]
      }
     },
     "561b392cbf6a4721a4768ec74a0e4341": {
      "model_module": "@jupyter-widgets/controls",
      "model_module_version": "1.5.0",
      "model_name": "CheckboxModel",
      "state": {
       "description": "CHS",
       "disabled": false,
       "layout": "IPY_MODEL_6aad797b5dfa470e9ed785c2c652ef6f",
       "style": "IPY_MODEL_02b36ab5a4a04172afd3dd5557ec4196",
       "value": false
      }
     },
     "56c6f758af9845e7ad3f3932f4e7786a": {
      "model_module": "@jupyter-widgets/controls",
      "model_module_version": "1.5.0",
      "model_name": "CheckboxModel",
      "state": {
       "description": "LSAMP_STEM_Flag",
       "disabled": false,
       "layout": "IPY_MODEL_c5ab0c7d43ca4e48a221f51242fde9f8",
       "style": "IPY_MODEL_83d5f2b27f094737be3bcb0e206524a5",
       "value": false
      }
     },
     "58326ba1eaa94d8f94cc10ad523747ee": {
      "model_module": "@jupyter-widgets/controls",
      "model_module_version": "1.5.0",
      "model_name": "DescriptionStyleModel",
      "state": {
       "description_width": ""
      }
     },
     "583bb744284a4ac7aee4af7fe4e346bc": {
      "model_module": "@jupyter-widgets/controls",
      "model_module_version": "1.5.0",
      "model_name": "CheckboxModel",
      "state": {
       "description": "pct_blk",
       "disabled": false,
       "layout": "IPY_MODEL_f1ceea1ba9a04165b88cef8a5fdffdd4",
       "style": "IPY_MODEL_8717edc929e84de5a374ed9e46a97001",
       "value": false
      }
     },
     "58a98a0dc9ae4fe392fabfc82ffa6ec7": {
      "model_module": "@jupyter-widgets/base",
      "model_module_version": "1.2.0",
      "model_name": "LayoutModel",
      "state": {}
     },
     "59b846a9102f449ca3f915f927933c77": {
      "model_module": "@jupyter-widgets/controls",
      "model_module_version": "1.5.0",
      "model_name": "CheckboxModel",
      "state": {
       "description": "fall_lab_contact_hrs",
       "disabled": false,
       "layout": "IPY_MODEL_b187e1a943474dc68ca1ef0f29b9c46c",
       "style": "IPY_MODEL_5cd0001c25ac402f9ada45763cfa6ce0",
       "value": false
      }
     },
     "59c31b6043594158b0473f7bd2a38a94": {
      "model_module": "@jupyter-widgets/base",
      "model_module_version": "1.2.0",
      "model_name": "LayoutModel",
      "state": {}
     },
     "59eb9bf670984b5c8acf9cdefe0d6f0e": {
      "model_module": "@jupyter-widgets/controls",
      "model_module_version": "1.5.0",
      "model_name": "DescriptionStyleModel",
      "state": {
       "description_width": ""
      }
     },
     "5a3bec940abe44b291a113f6991ea1bf": {
      "model_module": "@jupyter-widgets/controls",
      "model_module_version": "1.5.0",
      "model_name": "CheckboxModel",
      "state": {
       "description": "spring_lab_count",
       "disabled": false,
       "layout": "IPY_MODEL_0d98d4c6a85c4c5585d29713245f2e55",
       "style": "IPY_MODEL_66159f0409b643b09258d27222774ee9",
       "value": false
      }
     },
     "5a88dac454dd4609aca61b5211833d99": {
      "model_module": "@jupyter-widgets/controls",
      "model_module_version": "1.5.0",
      "model_name": "DescriptionStyleModel",
      "state": {
       "description_width": ""
      }
     },
     "5b46edd126514cef86ed9e3137d9cba8": {
      "model_module": "@jupyter-widgets/base",
      "model_module_version": "1.2.0",
      "model_name": "LayoutModel",
      "state": {}
     },
     "5b70f21a6ffb493980bd589d181b64cc": {
      "model_module": "@jupyter-widgets/base",
      "model_module_version": "1.2.0",
      "model_name": "LayoutModel",
      "state": {}
     },
     "5b76ca941593416aaae4bbc271d96a91": {
      "model_module": "@jupyter-widgets/controls",
      "model_module_version": "1.5.0",
      "model_name": "DescriptionStyleModel",
      "state": {
       "description_width": ""
      }
     },
     "5beb6aa174b34415a23418ce18d66616": {
      "model_module": "@jupyter-widgets/controls",
      "model_module_version": "1.5.0",
      "model_name": "DescriptionStyleModel",
      "state": {
       "description_width": ""
      }
     },
     "5c6f5af4db1a4ba7a4af9cfcb6eaceb5": {
      "model_module": "@jupyter-widgets/controls",
      "model_module_version": "1.5.0",
      "model_name": "AccordionModel",
      "state": {
       "_titles": {
        "0": "Financial Aid"
       },
       "children": [
        "IPY_MODEL_46040f00a8034ed4b95943b7e36722d1"
       ],
       "layout": "IPY_MODEL_b1e35e5928544e9288db24f7cd29bfe2"
      }
     },
     "5cc0f90a9142459495a71921d8848ff3": {
      "model_module": "@jupyter-widgets/controls",
      "model_module_version": "1.5.0",
      "model_name": "CheckboxModel",
      "state": {
       "description": "cas_phys",
       "disabled": false,
       "layout": "IPY_MODEL_b66e6624e59b45ee94cbc69edffc6ab7",
       "style": "IPY_MODEL_b69ce3d4466f4eb488ff005ba6cbe66f",
       "value": false
      }
     },
     "5cd0001c25ac402f9ada45763cfa6ce0": {
      "model_module": "@jupyter-widgets/controls",
      "model_module_version": "1.5.0",
      "model_name": "DescriptionStyleModel",
      "state": {
       "description_width": ""
      }
     },
     "5dd63a5eb6954b8c99ab8c83a8de403b": {
      "model_module": "@jupyter-widgets/controls",
      "model_module_version": "1.5.0",
      "model_name": "IntSliderModel",
      "state": {
       "description": "y",
       "layout": "IPY_MODEL_d43314b3b3ab40c0beeb8c394219b3ad",
       "min": 1,
       "style": "IPY_MODEL_a6c0970112824783bda60c1ab21876d0",
       "value": 50
      }
     },
     "5dec1f4c1559494697af19ec23e136fb": {
      "model_module": "@jupyter-widgets/base",
      "model_module_version": "1.2.0",
      "model_name": "LayoutModel",
      "state": {}
     },
     "5e08eb92bb2b473f89a8062b1a50b739": {
      "model_module": "@jupyter-widgets/base",
      "model_module_version": "1.2.0",
      "model_name": "LayoutModel",
      "state": {}
     },
     "5e14371a15d14dd89089536674488566": {
      "model_module": "@jupyter-widgets/controls",
      "model_module_version": "1.5.0",
      "model_name": "DescriptionStyleModel",
      "state": {
       "description_width": ""
      }
     },
     "5e34f09441874520ad2371450ff23bbc": {
      "model_module": "@jupyter-widgets/base",
      "model_module_version": "1.2.0",
      "model_name": "LayoutModel",
      "state": {}
     },
     "5ec0d76159c44a4e9a9212d60c628ce6": {
      "model_module": "@jupyter-widgets/controls",
      "model_module_version": "1.5.0",
      "model_name": "DescriptionStyleModel",
      "state": {
       "description_width": ""
      }
     },
     "5ef4266a8e294666b375d78f5cbfc162": {
      "model_module": "@jupyter-widgets/controls",
      "model_module_version": "1.5.0",
      "model_name": "DescriptionStyleModel",
      "state": {
       "description_width": ""
      }
     },
     "5f712a5570bb4e10be5d1ec44ed4fcf0": {
      "model_module": "@jupyter-widgets/controls",
      "model_module_version": "1.5.0",
      "model_name": "IntSliderModel",
      "state": {
       "description": "y",
       "layout": "IPY_MODEL_3ef9ae0192904143a5b13d65fafb6ce8",
       "min": 1,
       "style": "IPY_MODEL_e74c68101dae4df6b6c7adfb1d3e68c7",
       "value": 50
      }
     },
     "5f7d5f41da364b1c8940acd266e72d18": {
      "model_module": "@jupyter-widgets/controls",
      "model_module_version": "1.5.0",
      "model_name": "CheckboxModel",
      "state": {
       "description": "pct_oth",
       "disabled": false,
       "layout": "IPY_MODEL_af0fb3b8461945ce981611406b0fa394",
       "style": "IPY_MODEL_77151026f3374601b22b0e0d03ed4bd7",
       "value": false
      }
     },
     "6034e625b03d4eadacd3d4a742ab95f2": {
      "model_module": "@jupyter-widgets/controls",
      "model_module_version": "1.5.0",
      "model_name": "DescriptionStyleModel",
      "state": {
       "description_width": ""
      }
     },
     "609abb66b6754a78a35c94a59a8bb957": {
      "model_module": "@jupyter-widgets/base",
      "model_module_version": "1.2.0",
      "model_name": "LayoutModel",
      "state": {}
     },
     "6116a62fc69d46e88dee51515566cfd0": {
      "model_module": "@jupyter-widgets/controls",
      "model_module_version": "1.5.0",
      "model_name": "DescriptionStyleModel",
      "state": {
       "description_width": ""
      }
     },
     "6193ee2cd38840bc90dc8f2afc9f1f26": {
      "model_module": "@jupyter-widgets/base",
      "model_module_version": "1.2.0",
      "model_name": "LayoutModel",
      "state": {}
     },
     "61a3e34f453541b5be1dbc7b99dfcd36": {
      "model_module": "@jupyter-widgets/base",
      "model_module_version": "1.2.0",
      "model_name": "LayoutModel",
      "state": {}
     },
     "61d2edba8aa64aa1a42631f461ef4aa2": {
      "model_module": "@jupyter-widgets/controls",
      "model_module_version": "1.5.0",
      "model_name": "DescriptionStyleModel",
      "state": {
       "description_width": ""
      }
     },
     "61fe14a36b064f17b68a521e74def767": {
      "model_module": "@jupyter-widgets/controls",
      "model_module_version": "1.5.0",
      "model_name": "CheckboxModel",
      "state": {
       "description": "spring_lab_contact_hrs",
       "disabled": false,
       "layout": "IPY_MODEL_216d57c506e1476e95653d7ddf464617",
       "style": "IPY_MODEL_5b76ca941593416aaae4bbc271d96a91",
       "value": false
      }
     },
     "631f9bc3e5674f739119e2429b1905bd": {
      "model_module": "@jupyter-widgets/base",
      "model_module_version": "1.2.0",
      "model_name": "LayoutModel",
      "state": {}
     },
     "634b2f6c6a5043398306502d570c3dbe": {
      "model_module": "@jupyter-widgets/controls",
      "model_module_version": "1.5.0",
      "model_name": "DescriptionStyleModel",
      "state": {
       "description_width": ""
      }
     },
     "63b604b675504550a5d7f7ff843c27f0": {
      "model_module": "@jupyter-widgets/controls",
      "model_module_version": "1.5.0",
      "model_name": "DescriptionStyleModel",
      "state": {
       "description_width": ""
      }
     },
     "6489228bd42348df8a756d4d4abc14db": {
      "model_module": "@jupyter-widgets/base",
      "model_module_version": "1.2.0",
      "model_name": "LayoutModel",
      "state": {}
     },
     "64d5daba653c4de4aa61e7ec9b50b469": {
      "model_module": "@jupyter-widgets/base",
      "model_module_version": "1.2.0",
      "model_name": "LayoutModel",
      "state": {}
     },
     "6517b53ce23c4cfba5b15f15c6fd27d9": {
      "model_module": "@jupyter-widgets/controls",
      "model_module_version": "1.5.0",
      "model_name": "DescriptionStyleModel",
      "state": {
       "description_width": ""
      }
     },
     "6519c34a994c424a85607a438308ee12": {
      "model_module": "@jupyter-widgets/controls",
      "model_module_version": "1.5.0",
      "model_name": "CheckboxModel",
      "state": {
       "description": "count_week_from_term_begin_dt",
       "disabled": false,
       "layout": "IPY_MODEL_59c31b6043594158b0473f7bd2a38a94",
       "style": "IPY_MODEL_a9072563ded24ea68c68b268d5efeb1a",
       "value": true
      }
     },
     "65b07eb7a586419895243f1966601d24": {
      "model_module": "@jupyter-widgets/controls",
      "model_module_version": "1.5.0",
      "model_name": "DescriptionStyleModel",
      "state": {
       "description_width": ""
      }
     },
     "65b47a3877c444719b1dbdbbd831709d": {
      "model_module": "@jupyter-widgets/base",
      "model_module_version": "1.2.0",
      "model_name": "LayoutModel",
      "state": {
       "flex_flow": "row wrap"
      }
     },
     "66159f0409b643b09258d27222774ee9": {
      "model_module": "@jupyter-widgets/controls",
      "model_module_version": "1.5.0",
      "model_name": "DescriptionStyleModel",
      "state": {
       "description_width": ""
      }
     },
     "6617e343af3843cd918cff008740ab1f": {
      "model_module": "@jupyter-widgets/controls",
      "model_module_version": "1.5.0",
      "model_name": "DescriptionStyleModel",
      "state": {
       "description_width": ""
      }
     },
     "6639a85dadcf465a860ba1283aa84d46": {
      "model_module": "@jupyter-widgets/base",
      "model_module_version": "1.2.0",
      "model_name": "LayoutModel",
      "state": {}
     },
     "664125e45165428b879cc7e9e80b70ee": {
      "model_module": "@jupyter-widgets/base",
      "model_module_version": "1.2.0",
      "model_name": "LayoutModel",
      "state": {}
     },
     "66d078e858d74d34b15afe0afa8e1a2a": {
      "model_module": "@jupyter-widgets/controls",
      "model_module_version": "1.5.0",
      "model_name": "DropdownModel",
      "state": {
       "_options_labels": [
        "emplid",
        "enrl_ind",
        "acad_year",
        "count_week_from_term_begin_dt",
        "marital_status",
        "resident",
        "parent1_highest_educ_lvl",
        "parent2_highest_educ_lvl"
       ],
       "description": "x",
       "index": 6,
       "layout": "IPY_MODEL_3904af38b0af471fa06a37d875d2ee7c",
       "style": "IPY_MODEL_26b9bdc83d904e40ad19d8f90e4ff4b5"
      }
     },
     "6794314c6928404e86553cf8b31d53fa": {
      "model_module": "@jupyter-widgets/base",
      "model_module_version": "1.2.0",
      "model_name": "LayoutModel",
      "state": {}
     },
     "67cb0b1940b148b9bc45fbc446381824": {
      "model_module": "@jupyter-widgets/controls",
      "model_module_version": "1.5.0",
      "model_name": "DescriptionStyleModel",
      "state": {
       "description_width": ""
      }
     },
     "682604ec0e554d279417c24b34c9c021": {
      "model_module": "@jupyter-widgets/controls",
      "model_module_version": "1.5.0",
      "model_name": "DropdownModel",
      "state": {
       "_options_labels": [
        "emplid",
        "enrl_ind",
        "acad_year",
        "count_week_from_term_begin_dt",
        "marital_status",
        "resident",
        "parent1_highest_educ_lvl",
        "parent2_highest_educ_lvl"
       ],
       "description": "x",
       "index": 6,
       "layout": "IPY_MODEL_6639a85dadcf465a860ba1283aa84d46",
       "style": "IPY_MODEL_4e7efae3905249188563c3d575dc1ac4"
      }
     },
     "682e4899524e43f4a48fe889aad1c81e": {
      "model_module": "@jupyter-widgets/controls",
      "model_module_version": "1.5.0",
      "model_name": "DescriptionStyleModel",
      "state": {
       "description_width": ""
      }
     },
     "6905d5369e1148379c401ecb8a28aac1": {
      "model_module": "@jupyter-widgets/controls",
      "model_module_version": "1.5.0",
      "model_name": "DescriptionStyleModel",
      "state": {
       "description_width": ""
      }
     },
     "693d5d598b0248729681fa08070b075a": {
      "model_module": "@jupyter-widgets/controls",
      "model_module_version": "1.5.0",
      "model_name": "DescriptionStyleModel",
      "state": {
       "description_width": ""
      }
     },
     "69bc4be1f6f14c2d91cbe7a688202748": {
      "model_module": "@jupyter-widgets/controls",
      "model_module_version": "1.5.0",
      "model_name": "DescriptionStyleModel",
      "state": {
       "description_width": ""
      }
     },
     "69c6576f2be44da891835f2531c38f5f": {
      "model_module": "@jupyter-widgets/controls",
      "model_module_version": "1.5.0",
      "model_name": "DescriptionStyleModel",
      "state": {
       "description_width": ""
      }
     },
     "6a391ef4a23240179864dc051a7d9d58": {
      "model_module": "@jupyter-widgets/base",
      "model_module_version": "1.2.0",
      "model_name": "LayoutModel",
      "state": {}
     },
     "6a644b6c36b3428bb835c308bed71c0b": {
      "model_module": "@jupyter-widgets/base",
      "model_module_version": "1.2.0",
      "model_name": "LayoutModel",
      "state": {}
     },
     "6aad797b5dfa470e9ed785c2c652ef6f": {
      "model_module": "@jupyter-widgets/base",
      "model_module_version": "1.2.0",
      "model_name": "LayoutModel",
      "state": {}
     },
     "6ad73510e764451fb1d40d2c5d00a84c": {
      "model_module": "@jupyter-widgets/controls",
      "model_module_version": "1.5.0",
      "model_name": "DescriptionStyleModel",
      "state": {
       "description_width": ""
      }
     },
     "6b2cbf74c3f24bd39ae0acdfa495f6dd": {
      "model_module": "@jupyter-widgets/controls",
      "model_module_version": "1.5.0",
      "model_name": "CheckboxModel",
      "state": {
       "description": "city_mid",
       "disabled": false,
       "layout": "IPY_MODEL_31e61bcdb94943f7b3eca2de5aa0941d",
       "style": "IPY_MODEL_3a561b3df2c54b71ad98c16de4c342b5",
       "value": false
      }
     },
     "6c6bcc875db648b68bf31b07ddbd645e": {
      "model_module": "@jupyter-widgets/controls",
      "model_module_version": "1.5.0",
      "model_name": "CheckboxModel",
      "state": {
       "description": "spring_avg_pct_DFW",
       "disabled": false,
       "layout": "IPY_MODEL_905a0ef597314f62b77b3cbedfb11d59",
       "style": "IPY_MODEL_801038bbef5e4485891b33779297df40",
       "value": false
      }
     },
     "6ca561400cdb4c88a473c486e51a04c3": {
      "model_module": "@jupyter-widgets/controls",
      "model_module_version": "1.5.0",
      "model_name": "SliderStyleModel",
      "state": {
       "description_width": ""
      }
     },
     "6cb818dee22a4cf294df550e02733693": {
      "model_module": "@jupyter-widgets/base",
      "model_module_version": "1.2.0",
      "model_name": "LayoutModel",
      "state": {}
     },
     "6d4e5418d51941c6a67a2f8a480b64a2": {
      "model_module": "@jupyter-widgets/controls",
      "model_module_version": "1.5.0",
      "model_name": "CheckboxModel",
      "state": {
       "description": "business",
       "disabled": false,
       "layout": "IPY_MODEL_c88a27834e974045a4cb061a69b23b4e",
       "style": "IPY_MODEL_c4355d58082b42f3a67a8c1e084692fc",
       "value": false
      }
     },
     "6e34056a6cd3429cb240e18b80e44697": {
      "model_module": "@jupyter-widgets/controls",
      "model_module_version": "1.5.0",
      "model_name": "DescriptionStyleModel",
      "state": {
       "description_width": ""
      }
     },
     "6e42514cb736403fb8d1d51a491ef422": {
      "model_module": "@jupyter-widgets/base",
      "model_module_version": "1.2.0",
      "model_name": "LayoutModel",
      "state": {}
     },
     "6e7093c53ee7446dbcc763ae2eb10848": {
      "model_module": "@jupyter-widgets/controls",
      "model_module_version": "1.5.0",
      "model_name": "DescriptionStyleModel",
      "state": {
       "description_width": ""
      }
     },
     "6eec73e7aabc46b4b46d5fa0ca9b8297": {
      "model_module": "@jupyter-widgets/output",
      "model_module_version": "1.0.0",
      "model_name": "OutputModel",
      "state": {
       "layout": "IPY_MODEL_c009d03d570245d4893a00b6afb9bce2",
       "outputs": [
        {
         "ename": "TypeError",
         "evalue": "unhashable type: 'list'",
         "output_type": "error",
         "traceback": [
          "\u001b[1;31m---------------------------------------------------------------------------\u001b[0m",
          "\u001b[1;31mTypeError\u001b[0m                                 Traceback (most recent call last)",
          "\u001b[1;32m~\\AppData\\Local\\Continuum\\anaconda3\\envs\\analytics_env\\lib\\site-packages\\ipywidgets\\widgets\\interaction.py\u001b[0m in \u001b[0;36mupdate\u001b[1;34m(self, *args)\u001b[0m\n\u001b[0;32m    254\u001b[0m                     \u001b[0mvalue\u001b[0m \u001b[1;33m=\u001b[0m \u001b[0mwidget\u001b[0m\u001b[1;33m.\u001b[0m\u001b[0mget_interact_value\u001b[0m\u001b[1;33m(\u001b[0m\u001b[1;33m)\u001b[0m\u001b[1;33m\u001b[0m\u001b[1;33m\u001b[0m\u001b[0m\n\u001b[0;32m    255\u001b[0m                     \u001b[0mself\u001b[0m\u001b[1;33m.\u001b[0m\u001b[0mkwargs\u001b[0m\u001b[1;33m[\u001b[0m\u001b[0mwidget\u001b[0m\u001b[1;33m.\u001b[0m\u001b[0m_kwarg\u001b[0m\u001b[1;33m]\u001b[0m \u001b[1;33m=\u001b[0m \u001b[0mvalue\u001b[0m\u001b[1;33m\u001b[0m\u001b[1;33m\u001b[0m\u001b[0m\n\u001b[1;32m--> 256\u001b[1;33m                 \u001b[0mself\u001b[0m\u001b[1;33m.\u001b[0m\u001b[0mresult\u001b[0m \u001b[1;33m=\u001b[0m \u001b[0mself\u001b[0m\u001b[1;33m.\u001b[0m\u001b[0mf\u001b[0m\u001b[1;33m(\u001b[0m\u001b[1;33m**\u001b[0m\u001b[0mself\u001b[0m\u001b[1;33m.\u001b[0m\u001b[0mkwargs\u001b[0m\u001b[1;33m)\u001b[0m\u001b[1;33m\u001b[0m\u001b[1;33m\u001b[0m\u001b[0m\n\u001b[0m\u001b[0;32m    257\u001b[0m                 \u001b[0mshow_inline_matplotlib_plots\u001b[0m\u001b[1;33m(\u001b[0m\u001b[1;33m)\u001b[0m\u001b[1;33m\u001b[0m\u001b[1;33m\u001b[0m\u001b[0m\n\u001b[0;32m    258\u001b[0m                 \u001b[1;32mif\u001b[0m \u001b[0mself\u001b[0m\u001b[1;33m.\u001b[0m\u001b[0mauto_display\u001b[0m \u001b[1;32mand\u001b[0m \u001b[0mself\u001b[0m\u001b[1;33m.\u001b[0m\u001b[0mresult\u001b[0m \u001b[1;32mis\u001b[0m \u001b[1;32mnot\u001b[0m \u001b[1;32mNone\u001b[0m\u001b[1;33m:\u001b[0m\u001b[1;33m\u001b[0m\u001b[1;33m\u001b[0m\u001b[0m\n",
          "\u001b[1;32m<ipython-input-9-0f8133e1f18b>\u001b[0m in \u001b[0;36mtest_func\u001b[1;34m(self, x, y)\u001b[0m\n\u001b[0;32m     10\u001b[0m \u001b[1;33m\u001b[0m\u001b[0m\n\u001b[0;32m     11\u001b[0m     \u001b[1;32mdef\u001b[0m \u001b[0mtest_func\u001b[0m\u001b[1;33m(\u001b[0m\u001b[0mself\u001b[0m\u001b[1;33m,\u001b[0m \u001b[0mx\u001b[0m\u001b[1;33m,\u001b[0m \u001b[0my\u001b[0m\u001b[1;33m)\u001b[0m\u001b[1;33m:\u001b[0m\u001b[1;33m\u001b[0m\u001b[1;33m\u001b[0m\u001b[0m\n\u001b[1;32m---> 12\u001b[1;33m         \u001b[0mtest_sort\u001b[0m \u001b[1;33m=\u001b[0m \u001b[0mbd\u001b[0m\u001b[1;33m.\u001b[0m\u001b[0mtesting_getter\u001b[0m\u001b[1;33m(\u001b[0m\u001b[1;33m)\u001b[0m\u001b[1;33m[\u001b[0m\u001b[0mx\u001b[0m\u001b[1;33m]\u001b[0m\u001b[1;33m.\u001b[0m\u001b[0msort_values\u001b[0m\u001b[1;33m(\u001b[0m\u001b[1;33m[\u001b[0m\u001b[0mx\u001b[0m\u001b[1;33m]\u001b[0m\u001b[1;33m)\u001b[0m\u001b[1;33m\u001b[0m\u001b[1;33m\u001b[0m\u001b[0m\n\u001b[0m\u001b[0;32m     13\u001b[0m         \u001b[0mplt\u001b[0m\u001b[1;33m.\u001b[0m\u001b[0mhist\u001b[0m\u001b[1;33m(\u001b[0m\u001b[0mtest_sort\u001b[0m\u001b[1;33m,\u001b[0m \u001b[0mcolor\u001b[0m\u001b[1;33m=\u001b[0m\u001b[0mwsu_color\u001b[0m\u001b[1;33m,\u001b[0m \u001b[0mbins\u001b[0m\u001b[1;33m=\u001b[0m\u001b[0my\u001b[0m\u001b[1;33m)\u001b[0m\u001b[1;33m\u001b[0m\u001b[1;33m\u001b[0m\u001b[0m\n\u001b[0;32m     14\u001b[0m         \u001b[0mplt\u001b[0m\u001b[1;33m.\u001b[0m\u001b[0mtitle\u001b[0m\u001b[1;33m(\u001b[0m\u001b[1;34m'TESTING DATA'\u001b[0m\u001b[1;33m)\u001b[0m\u001b[1;33m\u001b[0m\u001b[1;33m\u001b[0m\u001b[0m\n",
          "\u001b[1;32m~\\AppData\\Local\\Continuum\\anaconda3\\envs\\analytics_env\\lib\\site-packages\\pandas\\core\\series.py\u001b[0m in \u001b[0;36msort_values\u001b[1;34m(self, axis, ascending, inplace, kind, na_position, ignore_index, key)\u001b[0m\n\u001b[0;32m   3236\u001b[0m         \u001b[0minplace\u001b[0m \u001b[1;33m=\u001b[0m \u001b[0mvalidate_bool_kwarg\u001b[0m\u001b[1;33m(\u001b[0m\u001b[0minplace\u001b[0m\u001b[1;33m,\u001b[0m \u001b[1;34m\"inplace\"\u001b[0m\u001b[1;33m)\u001b[0m\u001b[1;33m\u001b[0m\u001b[1;33m\u001b[0m\u001b[0m\n\u001b[0;32m   3237\u001b[0m         \u001b[1;31m# Validate the axis parameter\u001b[0m\u001b[1;33m\u001b[0m\u001b[1;33m\u001b[0m\u001b[1;33m\u001b[0m\u001b[0m\n\u001b[1;32m-> 3238\u001b[1;33m         \u001b[0mself\u001b[0m\u001b[1;33m.\u001b[0m\u001b[0m_get_axis_number\u001b[0m\u001b[1;33m(\u001b[0m\u001b[0maxis\u001b[0m\u001b[1;33m)\u001b[0m\u001b[1;33m\u001b[0m\u001b[1;33m\u001b[0m\u001b[0m\n\u001b[0m\u001b[0;32m   3239\u001b[0m \u001b[1;33m\u001b[0m\u001b[0m\n\u001b[0;32m   3240\u001b[0m         \u001b[1;31m# GH 5856/5853\u001b[0m\u001b[1;33m\u001b[0m\u001b[1;33m\u001b[0m\u001b[1;33m\u001b[0m\u001b[0m\n",
          "\u001b[1;32m~\\AppData\\Local\\Continuum\\anaconda3\\envs\\analytics_env\\lib\\site-packages\\pandas\\core\\generic.py\u001b[0m in \u001b[0;36m_get_axis_number\u001b[1;34m(cls, axis)\u001b[0m\n\u001b[0;32m    458\u001b[0m     \u001b[1;32mdef\u001b[0m \u001b[0m_get_axis_number\u001b[0m\u001b[1;33m(\u001b[0m\u001b[0mcls\u001b[0m\u001b[1;33m,\u001b[0m \u001b[0maxis\u001b[0m\u001b[1;33m:\u001b[0m \u001b[0mAxis\u001b[0m\u001b[1;33m)\u001b[0m \u001b[1;33m->\u001b[0m \u001b[0mint\u001b[0m\u001b[1;33m:\u001b[0m\u001b[1;33m\u001b[0m\u001b[1;33m\u001b[0m\u001b[0m\n\u001b[0;32m    459\u001b[0m         \u001b[1;32mtry\u001b[0m\u001b[1;33m:\u001b[0m\u001b[1;33m\u001b[0m\u001b[1;33m\u001b[0m\u001b[0m\n\u001b[1;32m--> 460\u001b[1;33m             \u001b[1;32mreturn\u001b[0m \u001b[0mcls\u001b[0m\u001b[1;33m.\u001b[0m\u001b[0m_AXIS_TO_AXIS_NUMBER\u001b[0m\u001b[1;33m[\u001b[0m\u001b[0maxis\u001b[0m\u001b[1;33m]\u001b[0m\u001b[1;33m\u001b[0m\u001b[1;33m\u001b[0m\u001b[0m\n\u001b[0m\u001b[0;32m    461\u001b[0m         \u001b[1;32mexcept\u001b[0m \u001b[0mKeyError\u001b[0m\u001b[1;33m:\u001b[0m\u001b[1;33m\u001b[0m\u001b[1;33m\u001b[0m\u001b[0m\n\u001b[0;32m    462\u001b[0m             \u001b[1;32mraise\u001b[0m \u001b[0mValueError\u001b[0m\u001b[1;33m(\u001b[0m\u001b[1;34mf\"No axis named {axis} for object type {cls.__name__}\"\u001b[0m\u001b[1;33m)\u001b[0m\u001b[1;33m\u001b[0m\u001b[1;33m\u001b[0m\u001b[0m\n",
          "\u001b[1;31mTypeError\u001b[0m: unhashable type: 'list'"
         ]
        }
       ]
      }
     },
     "7070beaee2034bdea0a4767b26326ec0": {
      "model_module": "@jupyter-widgets/output",
      "model_module_version": "1.0.0",
      "model_name": "OutputModel",
      "state": {
       "layout": "IPY_MODEL_0b40abce962b44f6953e6388db4106d3",
       "outputs": [
        {
         "data": {
          "image/png": "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\n",
          "text/plain": "<Figure size 432x288 with 1 Axes>"
         },
         "metadata": {
          "needs_background": "light"
         },
         "output_type": "display_data"
        }
       ]
      }
     },
     "710fb5690f394f3c9f44241a6a7a257e": {
      "model_module": "@jupyter-widgets/base",
      "model_module_version": "1.2.0",
      "model_name": "LayoutModel",
      "state": {}
     },
     "713041e938fa4eb9beaeb6be205d68b6": {
      "model_module": "@jupyter-widgets/controls",
      "model_module_version": "1.5.0",
      "model_name": "DescriptionStyleModel",
      "state": {
       "description_width": ""
      }
     },
     "714d5a8192ea4547a80511b6929b8add": {
      "model_module": "@jupyter-widgets/base",
      "model_module_version": "1.2.0",
      "model_name": "LayoutModel",
      "state": {}
     },
     "719abc67770e420193361d00ad2b541d": {
      "model_module": "@jupyter-widgets/controls",
      "model_module_version": "1.5.0",
      "model_name": "DropdownModel",
      "state": {
       "_options_labels": [
        "emplid",
        "enrl_ind",
        "acad_year",
        "count_week_from_term_begin_dt",
        "marital_status",
        "resident",
        "parent1_highest_educ_lvl",
        "parent2_highest_educ_lvl"
       ],
       "description": "x",
       "index": 0,
       "layout": "IPY_MODEL_b1e6010d4ed647f59d203de4ec069669",
       "style": "IPY_MODEL_6905d5369e1148379c401ecb8a28aac1"
      }
     },
     "71bfb94cd127459e965b2f06a4f5e69e": {
      "model_module": "@jupyter-widgets/controls",
      "model_module_version": "1.5.0",
      "model_name": "CheckboxModel",
      "state": {
       "description": "honors_program_ind",
       "disabled": false,
       "layout": "IPY_MODEL_e27f79d617ba4835a671a83f6a6477d2",
       "style": "IPY_MODEL_e2329fde9fdd499d8cbb955fbd3a1c92",
       "value": false
      }
     },
     "71d8078d7a534f67a7899e742b23b22a": {
      "model_module": "@jupyter-widgets/base",
      "model_module_version": "1.2.0",
      "model_name": "LayoutModel",
      "state": {}
     },
     "7206632ec3634b6aa43d0087f4337047": {
      "model_module": "@jupyter-widgets/base",
      "model_module_version": "1.2.0",
      "model_name": "LayoutModel",
      "state": {}
     },
     "7242ae6fd9f0430cb5eead172fbcc05a": {
      "model_module": "@jupyter-widgets/controls",
      "model_module_version": "1.5.0",
      "model_name": "DescriptionStyleModel",
      "state": {
       "description_width": ""
      }
     },
     "735175bc2ee14025b0a81cca149e1d73": {
      "model_module": "@jupyter-widgets/controls",
      "model_module_version": "1.5.0",
      "model_name": "VBoxModel",
      "state": {
       "_dom_classes": [
        "widget-interact"
       ],
       "children": [
        "IPY_MODEL_75556a2c119344e0ac78c373657b8fe0",
        "IPY_MODEL_15d5fda857784c70ae54dd6012eafd0f",
        "IPY_MODEL_33aaca90c4be40379850603fba2c06e9"
       ],
       "layout": "IPY_MODEL_2c7fcc19d3934e42aa384bcc96eeb6d3"
      }
     },
     "7375982f7b2c46a985ad7d0d77156a49": {
      "model_module": "@jupyter-widgets/controls",
      "model_module_version": "1.5.0",
      "model_name": "CheckboxModel",
      "state": {
       "description": "town_distant",
       "disabled": false,
       "layout": "IPY_MODEL_be85d22ebfc14932819e3aaeb273ee68",
       "style": "IPY_MODEL_d24e44ca9ab9400b90fcef0c1faa03bb",
       "value": false
      }
     },
     "7443b20c41da4d1d9102212d6f7b0483": {
      "model_module": "@jupyter-widgets/base",
      "model_module_version": "1.2.0",
      "model_name": "LayoutModel",
      "state": {}
     },
     "7445ecb7175e42da8e291b23c8856f18": {
      "model_module": "@jupyter-widgets/base",
      "model_module_version": "1.2.0",
      "model_name": "LayoutModel",
      "state": {}
     },
     "748f41e2324f498da02571b9cffc4c2c": {
      "model_module": "@jupyter-widgets/controls",
      "model_module_version": "1.5.0",
      "model_name": "CheckboxModel",
      "state": {
       "description": "race_hispanic",
       "disabled": false,
       "layout": "IPY_MODEL_2f45f6ea3bd845d59e44977e469e950f",
       "style": "IPY_MODEL_5ef4266a8e294666b375d78f5cbfc162",
       "value": false
      }
     },
     "7507557edce04b07a158fe309fb51225": {
      "model_module": "@jupyter-widgets/controls",
      "model_module_version": "1.5.0",
      "model_name": "DescriptionStyleModel",
      "state": {
       "description_width": ""
      }
     },
     "7521f90699a5411d9fdb732aee53a29a": {
      "model_module": "@jupyter-widgets/controls",
      "model_module_version": "1.5.0",
      "model_name": "DescriptionStyleModel",
      "state": {
       "description_width": ""
      }
     },
     "754a7ce02cb040d2a470e2fc54832115": {
      "model_module": "@jupyter-widgets/controls",
      "model_module_version": "1.5.0",
      "model_name": "DescriptionStyleModel",
      "state": {
       "description_width": ""
      }
     },
     "75556a2c119344e0ac78c373657b8fe0": {
      "model_module": "@jupyter-widgets/controls",
      "model_module_version": "1.5.0",
      "model_name": "DropdownModel",
      "state": {
       "_options_labels": [
        "emplid",
        "enrl_ind",
        "acad_year",
        "count_week_from_term_begin_dt",
        "marital_status",
        "resident"
       ],
       "description": "x",
       "index": 5,
       "layout": "IPY_MODEL_b0aa6be2e1ec46389ee05f7e378ec8df",
       "style": "IPY_MODEL_2dbce902cbc74bcca0b55abdee8c0c1f"
      }
     },
     "75896802590e435aa7ff6bca44b89812": {
      "model_module": "@jupyter-widgets/controls",
      "model_module_version": "1.5.0",
      "model_name": "CheckboxModel",
      "state": {
       "description": "attendee_preview_jrs",
       "disabled": false,
       "layout": "IPY_MODEL_9c91f63b2ebe48509a127ba3cc9f035c",
       "style": "IPY_MODEL_67cb0b1940b148b9bc45fbc446381824",
       "value": false
      }
     },
     "75968be3fd654f82b888d8f252da9532": {
      "model_module": "@jupyter-widgets/base",
      "model_module_version": "1.2.0",
      "model_name": "LayoutModel",
      "state": {}
     },
     "75d7f37effe844e4a2fbb53c9bc06dfe": {
      "model_module": "@jupyter-widgets/controls",
      "model_module_version": "1.5.0",
      "model_name": "DescriptionStyleModel",
      "state": {
       "description_width": ""
      }
     },
     "762217f495e243f8a133e99e77850a8b": {
      "model_module": "@jupyter-widgets/controls",
      "model_module_version": "1.5.0",
      "model_name": "SliderStyleModel",
      "state": {
       "description_width": ""
      }
     },
     "764b5898c30949209a8c84cb7c3b03f6": {
      "model_module": "@jupyter-widgets/output",
      "model_module_version": "1.0.0",
      "model_name": "OutputModel",
      "state": {
       "layout": "IPY_MODEL_75968be3fd654f82b888d8f252da9532",
       "outputs": [
        {
         "data": {
          "application/vnd.jupyter.widget-view+json": {
           "model_id": "",
           "version_major": 2,
           "version_minor": 0
          },
          "text/plain": "interactive(children=(Dropdown(description='x', options=('emplid', 'enrl_ind', 'acad_year', 'count_week_from_t…"
         },
         "metadata": {},
         "output_type": "display_data"
        },
        {
         "data": {
          "application/vnd.jupyter.widget-view+json": {
           "model_id": "",
           "version_major": 2,
           "version_minor": 0
          },
          "text/plain": "interactive(children=(Dropdown(description='x', options=('emplid', 'enrl_ind', 'acad_year', 'count_week_from_t…"
         },
         "metadata": {},
         "output_type": "display_data"
        }
       ]
      }
     },
     "76c80980b3334c3f86f9c32583044c35": {
      "model_module": "@jupyter-widgets/controls",
      "model_module_version": "1.5.0",
      "model_name": "DescriptionStyleModel",
      "state": {
       "description_width": ""
      }
     },
     "76f939fd617d4d71894c84f47d97424f": {
      "model_module": "@jupyter-widgets/controls",
      "model_module_version": "1.5.0",
      "model_name": "DescriptionStyleModel",
      "state": {
       "description_width": ""
      }
     },
     "77151026f3374601b22b0e0d03ed4bd7": {
      "model_module": "@jupyter-widgets/controls",
      "model_module_version": "1.5.0",
      "model_name": "DescriptionStyleModel",
      "state": {
       "description_width": ""
      }
     },
     "77189ecef6c541638605194d5a87faa6": {
      "model_module": "@jupyter-widgets/output",
      "model_module_version": "1.0.0",
      "model_name": "OutputModel",
      "state": {
       "layout": "IPY_MODEL_eecdbec27bcf4664842fc1971d878768",
       "outputs": [
        {
         "ename": "TypeError",
         "evalue": "unhashable type: 'list'",
         "output_type": "error",
         "traceback": [
          "\u001b[1;31m---------------------------------------------------------------------------\u001b[0m",
          "\u001b[1;31mTypeError\u001b[0m                                 Traceback (most recent call last)",
          "\u001b[1;32m~\\AppData\\Local\\Continuum\\anaconda3\\envs\\analytics_env\\lib\\site-packages\\ipywidgets\\widgets\\interaction.py\u001b[0m in \u001b[0;36mupdate\u001b[1;34m(self, *args)\u001b[0m\n\u001b[0;32m    254\u001b[0m                     \u001b[0mvalue\u001b[0m \u001b[1;33m=\u001b[0m \u001b[0mwidget\u001b[0m\u001b[1;33m.\u001b[0m\u001b[0mget_interact_value\u001b[0m\u001b[1;33m(\u001b[0m\u001b[1;33m)\u001b[0m\u001b[1;33m\u001b[0m\u001b[1;33m\u001b[0m\u001b[0m\n\u001b[0;32m    255\u001b[0m                     \u001b[0mself\u001b[0m\u001b[1;33m.\u001b[0m\u001b[0mkwargs\u001b[0m\u001b[1;33m[\u001b[0m\u001b[0mwidget\u001b[0m\u001b[1;33m.\u001b[0m\u001b[0m_kwarg\u001b[0m\u001b[1;33m]\u001b[0m \u001b[1;33m=\u001b[0m \u001b[0mvalue\u001b[0m\u001b[1;33m\u001b[0m\u001b[1;33m\u001b[0m\u001b[0m\n\u001b[1;32m--> 256\u001b[1;33m                 \u001b[0mself\u001b[0m\u001b[1;33m.\u001b[0m\u001b[0mresult\u001b[0m \u001b[1;33m=\u001b[0m \u001b[0mself\u001b[0m\u001b[1;33m.\u001b[0m\u001b[0mf\u001b[0m\u001b[1;33m(\u001b[0m\u001b[1;33m**\u001b[0m\u001b[0mself\u001b[0m\u001b[1;33m.\u001b[0m\u001b[0mkwargs\u001b[0m\u001b[1;33m)\u001b[0m\u001b[1;33m\u001b[0m\u001b[1;33m\u001b[0m\u001b[0m\n\u001b[0m\u001b[0;32m    257\u001b[0m                 \u001b[0mshow_inline_matplotlib_plots\u001b[0m\u001b[1;33m(\u001b[0m\u001b[1;33m)\u001b[0m\u001b[1;33m\u001b[0m\u001b[1;33m\u001b[0m\u001b[0m\n\u001b[0;32m    258\u001b[0m                 \u001b[1;32mif\u001b[0m \u001b[0mself\u001b[0m\u001b[1;33m.\u001b[0m\u001b[0mauto_display\u001b[0m \u001b[1;32mand\u001b[0m \u001b[0mself\u001b[0m\u001b[1;33m.\u001b[0m\u001b[0mresult\u001b[0m \u001b[1;32mis\u001b[0m \u001b[1;32mnot\u001b[0m \u001b[1;32mNone\u001b[0m\u001b[1;33m:\u001b[0m\u001b[1;33m\u001b[0m\u001b[1;33m\u001b[0m\u001b[0m\n",
          "\u001b[1;32m<ipython-input-9-0f8133e1f18b>\u001b[0m in \u001b[0;36mtrain_func\u001b[1;34m(self, x, y)\u001b[0m\n\u001b[0;32m      5\u001b[0m \u001b[1;33m\u001b[0m\u001b[0m\n\u001b[0;32m      6\u001b[0m     \u001b[1;32mdef\u001b[0m \u001b[0mtrain_func\u001b[0m\u001b[1;33m(\u001b[0m\u001b[0mself\u001b[0m\u001b[1;33m,\u001b[0m \u001b[0mx\u001b[0m\u001b[1;33m,\u001b[0m \u001b[0my\u001b[0m\u001b[1;33m)\u001b[0m\u001b[1;33m:\u001b[0m\u001b[1;33m\u001b[0m\u001b[1;33m\u001b[0m\u001b[0m\n\u001b[1;32m----> 7\u001b[1;33m         \u001b[0mtrain_sort\u001b[0m \u001b[1;33m=\u001b[0m \u001b[0mbd\u001b[0m\u001b[1;33m.\u001b[0m\u001b[0mtraining_getter\u001b[0m\u001b[1;33m(\u001b[0m\u001b[1;33m)\u001b[0m\u001b[1;33m[\u001b[0m\u001b[0mx\u001b[0m\u001b[1;33m]\u001b[0m\u001b[1;33m.\u001b[0m\u001b[0msort_values\u001b[0m\u001b[1;33m(\u001b[0m\u001b[1;33m[\u001b[0m\u001b[0mx\u001b[0m\u001b[1;33m]\u001b[0m\u001b[1;33m)\u001b[0m\u001b[1;33m\u001b[0m\u001b[1;33m\u001b[0m\u001b[0m\n\u001b[0m\u001b[0;32m      8\u001b[0m         \u001b[0mplt\u001b[0m\u001b[1;33m.\u001b[0m\u001b[0mhist\u001b[0m\u001b[1;33m(\u001b[0m\u001b[0mtrain_sort\u001b[0m\u001b[1;33m,\u001b[0m \u001b[0mcolor\u001b[0m\u001b[1;33m=\u001b[0m\u001b[0mwsu_color\u001b[0m\u001b[1;33m,\u001b[0m \u001b[0mbins\u001b[0m\u001b[1;33m=\u001b[0m\u001b[0my\u001b[0m\u001b[1;33m)\u001b[0m\u001b[1;33m\u001b[0m\u001b[1;33m\u001b[0m\u001b[0m\n\u001b[0;32m      9\u001b[0m         \u001b[0mplt\u001b[0m\u001b[1;33m.\u001b[0m\u001b[0mtitle\u001b[0m\u001b[1;33m(\u001b[0m\u001b[1;34m'TRAINING DATA'\u001b[0m\u001b[1;33m)\u001b[0m\u001b[1;33m\u001b[0m\u001b[1;33m\u001b[0m\u001b[0m\n",
          "\u001b[1;32m~\\AppData\\Local\\Continuum\\anaconda3\\envs\\analytics_env\\lib\\site-packages\\pandas\\core\\series.py\u001b[0m in \u001b[0;36msort_values\u001b[1;34m(self, axis, ascending, inplace, kind, na_position, ignore_index, key)\u001b[0m\n\u001b[0;32m   3236\u001b[0m         \u001b[0minplace\u001b[0m \u001b[1;33m=\u001b[0m \u001b[0mvalidate_bool_kwarg\u001b[0m\u001b[1;33m(\u001b[0m\u001b[0minplace\u001b[0m\u001b[1;33m,\u001b[0m \u001b[1;34m\"inplace\"\u001b[0m\u001b[1;33m)\u001b[0m\u001b[1;33m\u001b[0m\u001b[1;33m\u001b[0m\u001b[0m\n\u001b[0;32m   3237\u001b[0m         \u001b[1;31m# Validate the axis parameter\u001b[0m\u001b[1;33m\u001b[0m\u001b[1;33m\u001b[0m\u001b[1;33m\u001b[0m\u001b[0m\n\u001b[1;32m-> 3238\u001b[1;33m         \u001b[0mself\u001b[0m\u001b[1;33m.\u001b[0m\u001b[0m_get_axis_number\u001b[0m\u001b[1;33m(\u001b[0m\u001b[0maxis\u001b[0m\u001b[1;33m)\u001b[0m\u001b[1;33m\u001b[0m\u001b[1;33m\u001b[0m\u001b[0m\n\u001b[0m\u001b[0;32m   3239\u001b[0m \u001b[1;33m\u001b[0m\u001b[0m\n\u001b[0;32m   3240\u001b[0m         \u001b[1;31m# GH 5856/5853\u001b[0m\u001b[1;33m\u001b[0m\u001b[1;33m\u001b[0m\u001b[1;33m\u001b[0m\u001b[0m\n",
          "\u001b[1;32m~\\AppData\\Local\\Continuum\\anaconda3\\envs\\analytics_env\\lib\\site-packages\\pandas\\core\\generic.py\u001b[0m in \u001b[0;36m_get_axis_number\u001b[1;34m(cls, axis)\u001b[0m\n\u001b[0;32m    458\u001b[0m     \u001b[1;32mdef\u001b[0m \u001b[0m_get_axis_number\u001b[0m\u001b[1;33m(\u001b[0m\u001b[0mcls\u001b[0m\u001b[1;33m,\u001b[0m \u001b[0maxis\u001b[0m\u001b[1;33m:\u001b[0m \u001b[0mAxis\u001b[0m\u001b[1;33m)\u001b[0m \u001b[1;33m->\u001b[0m \u001b[0mint\u001b[0m\u001b[1;33m:\u001b[0m\u001b[1;33m\u001b[0m\u001b[1;33m\u001b[0m\u001b[0m\n\u001b[0;32m    459\u001b[0m         \u001b[1;32mtry\u001b[0m\u001b[1;33m:\u001b[0m\u001b[1;33m\u001b[0m\u001b[1;33m\u001b[0m\u001b[0m\n\u001b[1;32m--> 460\u001b[1;33m             \u001b[1;32mreturn\u001b[0m \u001b[0mcls\u001b[0m\u001b[1;33m.\u001b[0m\u001b[0m_AXIS_TO_AXIS_NUMBER\u001b[0m\u001b[1;33m[\u001b[0m\u001b[0maxis\u001b[0m\u001b[1;33m]\u001b[0m\u001b[1;33m\u001b[0m\u001b[1;33m\u001b[0m\u001b[0m\n\u001b[0m\u001b[0;32m    461\u001b[0m         \u001b[1;32mexcept\u001b[0m \u001b[0mKeyError\u001b[0m\u001b[1;33m:\u001b[0m\u001b[1;33m\u001b[0m\u001b[1;33m\u001b[0m\u001b[0m\n\u001b[0;32m    462\u001b[0m             \u001b[1;32mraise\u001b[0m \u001b[0mValueError\u001b[0m\u001b[1;33m(\u001b[0m\u001b[1;34mf\"No axis named {axis} for object type {cls.__name__}\"\u001b[0m\u001b[1;33m)\u001b[0m\u001b[1;33m\u001b[0m\u001b[1;33m\u001b[0m\u001b[0m\n",
          "\u001b[1;31mTypeError\u001b[0m: unhashable type: 'list'"
         ]
        }
       ]
      }
     },
     "772c682d237d4fc297a70eaefa4e4ca4": {
      "model_module": "@jupyter-widgets/controls",
      "model_module_version": "1.5.0",
      "model_name": "IntSliderModel",
      "state": {
       "description": "y",
       "layout": "IPY_MODEL_b4b1edd60d0b487b82fbb2ce3660ad60",
       "min": 1,
       "style": "IPY_MODEL_4c2e15965bea48acbeef92c5710766d1",
       "value": 50
      }
     },
     "7794429e91134203a939d8c05d54ee98": {
      "model_module": "@jupyter-widgets/controls",
      "model_module_version": "1.5.0",
      "model_name": "CheckboxModel",
      "state": {
       "description": "rural_distant",
       "disabled": false,
       "layout": "IPY_MODEL_20fb204ccc09431db189d8d8a6dfd8cb",
       "style": "IPY_MODEL_c780448d287f4d4982d5421af580cbda",
       "value": false
      }
     },
     "77ff0210945e4003baa61d5ff2b3482b": {
      "model_module": "@jupyter-widgets/controls",
      "model_module_version": "1.5.0",
      "model_name": "AccordionModel",
      "state": {
       "_titles": {
        "0": "Admissions",
        "1": "Demographics",
        "2": "Visitation",
        "3": "Transfer"
       },
       "children": [
        "IPY_MODEL_7a8c14447572466b9cb98a77d305cb7a",
        "IPY_MODEL_b0746d97ee2f41b18fe857fe22d4bb70",
        "IPY_MODEL_13547553e5b34f599e51cafc4c2f2f97",
        "IPY_MODEL_bd3e992c0a3f4a13b8489c48181187a5"
       ],
       "layout": "IPY_MODEL_7445ecb7175e42da8e291b23c8856f18"
      }
     },
     "78f740ead1ba4a559a741dfbc71ad6a7": {
      "model_module": "@jupyter-widgets/controls",
      "model_module_version": "1.5.0",
      "model_name": "DropdownModel",
      "state": {
       "_options_labels": [
        "emplid",
        "enrl_ind",
        "acad_year",
        "count_week_from_term_begin_dt",
        "marital_status",
        "resident",
        "parent1_highest_educ_lvl",
        "parent2_highest_educ_lvl"
       ],
       "description": "x",
       "index": 0,
       "layout": "IPY_MODEL_4eba0f0f804544fa853765c5694a1614",
       "style": "IPY_MODEL_f72f703031db402bb455be4c11b82afb"
      }
     },
     "79705605cc1442e19972d5e48f9c878d": {
      "model_module": "@jupyter-widgets/controls",
      "model_module_version": "1.5.0",
      "model_name": "CheckboxModel",
      "state": {
       "description": "attendee_alive",
       "disabled": false,
       "layout": "IPY_MODEL_0d9040e4ccad49748d62b25846efee7a",
       "style": "IPY_MODEL_0a5e2e37758f4c64a1215f1040ed2724",
       "value": false
      }
     },
     "7a4327e4fac44c8caeeb06f1cca23778": {
      "model_module": "@jupyter-widgets/base",
      "model_module_version": "1.2.0",
      "model_name": "LayoutModel",
      "state": {}
     },
     "7a8c14447572466b9cb98a77d305cb7a": {
      "model_module": "@jupyter-widgets/controls",
      "model_module_version": "1.5.0",
      "model_name": "VBoxModel",
      "state": {
       "children": [
        "IPY_MODEL_310fe01db8a548e2a28f61d6859853e8",
        "IPY_MODEL_6519c34a994c424a85607a438308ee12",
        "IPY_MODEL_a60e64689977471e985f5053879de085",
        "IPY_MODEL_80f3d8ab46ea47369253c67a6ea7d5b4",
        "IPY_MODEL_0d4eac974e5044e48b56d7c447681937",
        "IPY_MODEL_a303a45b458149dc87ab41b989dff9d5",
        "IPY_MODEL_46275b5c4c1b460fa1eb4562ffb1e504",
        "IPY_MODEL_4b325094236a48e9adb92c7aa355b838",
        "IPY_MODEL_976dd3384cec44ce9517bd42059b1a75",
        "IPY_MODEL_9306329c98f64746856da72a778f526e"
       ],
       "layout": "IPY_MODEL_2cd92ed13662471ca11e18344b6b19c0"
      }
     },
     "7ace0ca799284e8c8e5a9ec260a67544": {
      "model_module": "@jupyter-widgets/base",
      "model_module_version": "1.2.0",
      "model_name": "LayoutModel",
      "state": {}
     },
     "7b55d630426549228b8a2c6c9b88f345": {
      "model_module": "@jupyter-widgets/base",
      "model_module_version": "1.2.0",
      "model_name": "LayoutModel",
      "state": {}
     },
     "7b75a4465d7b4375a92fb8aeaf1927c5": {
      "model_module": "@jupyter-widgets/controls",
      "model_module_version": "1.5.0",
      "model_name": "DropdownModel",
      "state": {
       "_options_labels": [
        "emplid",
        "enrl_ind",
        "acad_year",
        "count_week_from_term_begin_dt",
        "marital_status",
        "resident",
        "parent1_highest_educ_lvl",
        "parent2_highest_educ_lvl"
       ],
       "description": "x",
       "index": 0,
       "layout": "IPY_MODEL_0237877721d2471e86d407fe4dd4ed7a",
       "style": "IPY_MODEL_247fcb0ce9d14d5ab32f4349851ff202"
      }
     },
     "7c38056a32934340bb75914d713e50f5": {
      "model_module": "@jupyter-widgets/controls",
      "model_module_version": "1.5.0",
      "model_name": "SliderStyleModel",
      "state": {
       "description_width": ""
      }
     },
     "7d5746e933c2470ba1f21d275cebdd12": {
      "model_module": "@jupyter-widgets/base",
      "model_module_version": "1.2.0",
      "model_name": "LayoutModel",
      "state": {}
     },
     "7dab786e19e646d6b7be95418b8985ba": {
      "model_module": "@jupyter-widgets/controls",
      "model_module_version": "1.5.0",
      "model_name": "CheckboxModel",
      "state": {
       "description": "attendee_honors_visit",
       "disabled": false,
       "layout": "IPY_MODEL_f3a7412572b34edaae0ab664459af3ef",
       "style": "IPY_MODEL_1ec4e5be33e94877a5b41d7fb1a78e62",
       "value": false
      }
     },
     "7dc7cddd2f1c4476aff99a1bbd29a038": {
      "model_module": "@jupyter-widgets/controls",
      "model_module_version": "1.5.0",
      "model_name": "DescriptionStyleModel",
      "state": {
       "description_width": ""
      }
     },
     "7e9ce9d032464b2b9ca21aca409f41c0": {
      "model_module": "@jupyter-widgets/base",
      "model_module_version": "1.2.0",
      "model_name": "LayoutModel",
      "state": {}
     },
     "7f206b9c70974c428131036d1429d8de": {
      "model_module": "@jupyter-widgets/controls",
      "model_module_version": "1.5.0",
      "model_name": "DescriptionStyleModel",
      "state": {
       "description_width": ""
      }
     },
     "7f4aa546bbfc4f0897d97d6b57e76edf": {
      "model_module": "@jupyter-widgets/controls",
      "model_module_version": "1.5.0",
      "model_name": "DescriptionStyleModel",
      "state": {
       "description_width": ""
      }
     },
     "7fdebf2f474c4d14902cf326f5d9ce8d": {
      "model_module": "@jupyter-widgets/base",
      "model_module_version": "1.2.0",
      "model_name": "LayoutModel",
      "state": {}
     },
     "801038bbef5e4485891b33779297df40": {
      "model_module": "@jupyter-widgets/controls",
      "model_module_version": "1.5.0",
      "model_name": "DescriptionStyleModel",
      "state": {
       "description_width": ""
      }
     },
     "80abec914cb642d28da9e6035d0a84b0": {
      "model_module": "@jupyter-widgets/controls",
      "model_module_version": "1.5.0",
      "model_name": "CheckboxModel",
      "state": {
       "description": "attendee_group_visit",
       "disabled": false,
       "layout": "IPY_MODEL_4c3b933b1f1d410ba3dd8e0c9955abc5",
       "style": "IPY_MODEL_0ab0bde30b76406b977775ae67d3e011",
       "value": false
      }
     },
     "80ba744b2bfb45958776bd9777cdecc0": {
      "model_module": "@jupyter-widgets/base",
      "model_module_version": "1.2.0",
      "model_name": "LayoutModel",
      "state": {}
     },
     "80f3d8ab46ea47369253c67a6ea7d5b4": {
      "model_module": "@jupyter-widgets/controls",
      "model_module_version": "1.5.0",
      "model_name": "CheckboxModel",
      "state": {
       "description": "resident",
       "disabled": false,
       "layout": "IPY_MODEL_3f58327f0c3a483b8a09d709adf0706b",
       "style": "IPY_MODEL_c7b827e2835f4e988fe64bacd1ed7d51",
       "value": true
      }
     },
     "81201e3058124211a208fd1761b86623": {
      "model_module": "@jupyter-widgets/controls",
      "model_module_version": "1.5.0",
      "model_name": "CheckboxModel",
      "state": {
       "description": "pct_non",
       "disabled": false,
       "layout": "IPY_MODEL_9985910946634dde8bb657724ca2ffe1",
       "style": "IPY_MODEL_a3322ffbcced406b85eb1cfd83270906",
       "value": false
      }
     },
     "8175f604e80e46d7aef62070d53957d4": {
      "model_module": "@jupyter-widgets/controls",
      "model_module_version": "1.5.0",
      "model_name": "CheckboxModel",
      "state": {
       "description": "cahnrs_envr",
       "disabled": false,
       "layout": "IPY_MODEL_a67bf59037e6466cbf8a97a674f3bd22",
       "style": "IPY_MODEL_1d169299c8ad44ebaed4554635c86fca",
       "value": false
      }
     },
     "81cf331ab8f34d83bc6febf35e587ecf": {
      "model_module": "@jupyter-widgets/controls",
      "model_module_version": "1.5.0",
      "model_name": "DescriptionStyleModel",
      "state": {
       "description_width": ""
      }
     },
     "81d857c7b40441ea81a9feb4c2169dec": {
      "model_module": "@jupyter-widgets/controls",
      "model_module_version": "1.5.0",
      "model_name": "DescriptionStyleModel",
      "state": {
       "description_width": ""
      }
     },
     "81fb803282a647a8a2abd242c4062fd6": {
      "model_module": "@jupyter-widgets/base",
      "model_module_version": "1.2.0",
      "model_name": "LayoutModel",
      "state": {}
     },
     "820c38563f9f42288ecd67b705c750d6": {
      "model_module": "@jupyter-widgets/controls",
      "model_module_version": "1.5.0",
      "model_name": "DescriptionStyleModel",
      "state": {
       "description_width": ""
      }
     },
     "824739e48dcd4d8eab2dc1a26556e002": {
      "model_module": "@jupyter-widgets/controls",
      "model_module_version": "1.5.0",
      "model_name": "CheckboxModel",
      "state": {
       "description": "fall_avg_pct_withdrawn",
       "disabled": false,
       "layout": "IPY_MODEL_eb0c6daf415b45418b5239ae49f53b62",
       "style": "IPY_MODEL_713041e938fa4eb9beaeb6be205d68b6",
       "value": false
      }
     },
     "826c9743cc2f4335bf119ec03d357f93": {
      "model_module": "@jupyter-widgets/controls",
      "model_module_version": "1.5.0",
      "model_name": "ButtonModel",
      "state": {
       "description": "Create Plots",
       "layout": "IPY_MODEL_8cad215147ba44d0bd6543aee3af5b29",
       "style": "IPY_MODEL_d06046ea22a949fa8d998d865436cdc2"
      }
     },
     "82c1a0231156465586b7e804e8cf7c2c": {
      "model_module": "@jupyter-widgets/controls",
      "model_module_version": "1.5.0",
      "model_name": "TabModel",
      "state": {
       "_titles": {
        "0": "Background",
        "1": "Characteristics",
        "2": "Coursework",
        "3": "Student Data"
       },
       "children": [
        "IPY_MODEL_77ff0210945e4003baa61d5ff2b3482b",
        "IPY_MODEL_2151336e775f444fa117d6ff2212067f",
        "IPY_MODEL_b7ef214bc17f49288cbe0a7aa037b629",
        "IPY_MODEL_5c6f5af4db1a4ba7a4af9cfcb6eaceb5"
       ],
       "layout": "IPY_MODEL_52c4cf77628d4b1ba60b2ec07f0981d6"
      }
     },
     "838c46ec12534484a026bdb57e34f8db": {
      "model_module": "@jupyter-widgets/controls",
      "model_module_version": "1.5.0",
      "model_name": "DescriptionStyleModel",
      "state": {
       "description_width": ""
      }
     },
     "83c527caaad146cc9c9211f046b0690a": {
      "model_module": "@jupyter-widgets/base",
      "model_module_version": "1.2.0",
      "model_name": "LayoutModel",
      "state": {}
     },
     "83d5f2b27f094737be3bcb0e206524a5": {
      "model_module": "@jupyter-widgets/controls",
      "model_module_version": "1.5.0",
      "model_name": "DescriptionStyleModel",
      "state": {
       "description_width": ""
      }
     },
     "83df32561b9442fdaae0308da11d9979": {
      "model_module": "@jupyter-widgets/base",
      "model_module_version": "1.2.0",
      "model_name": "LayoutModel",
      "state": {}
     },
     "84ebf4c5efaf411e9e632aea0c0cff89": {
      "model_module": "@jupyter-widgets/controls",
      "model_module_version": "1.5.0",
      "model_name": "DropdownModel",
      "state": {
       "_options_labels": [
        "emplid",
        "enrl_ind",
        "acad_year",
        "count_week_from_term_begin_dt",
        "marital_status",
        "resident",
        "parent1_highest_educ_lvl",
        "parent2_highest_educ_lvl"
       ],
       "description": "x",
       "index": 6,
       "layout": "IPY_MODEL_2fde15f353f242d0a1cb4c23816a9430",
       "style": "IPY_MODEL_1cd42cef6b054d6c8a5221f18132e817"
      }
     },
     "8522139f9c1f4840870075ea101d6b17": {
      "model_module": "@jupyter-widgets/controls",
      "model_module_version": "1.5.0",
      "model_name": "CheckboxModel",
      "state": {
       "description": "IB",
       "disabled": false,
       "layout": "IPY_MODEL_ff76cee8bf464472afbc91ec44c23c7a",
       "style": "IPY_MODEL_d3e62f7c90fe4d96a23e910377f6ba2f",
       "value": false
      }
     },
     "853e1b40aadf46bebaccdaabc2ab0c9b": {
      "model_module": "@jupyter-widgets/controls",
      "model_module_version": "1.5.0",
      "model_name": "VBoxModel",
      "state": {
       "children": [
        "IPY_MODEL_0bf08ab0eb584920b92afe0df9ec7fd5",
        "IPY_MODEL_1e3da15264d84e9bab7ea7c763a87b6e",
        "IPY_MODEL_824739e48dcd4d8eab2dc1a26556e002",
        "IPY_MODEL_eeb8cd4ad454442cb58c28cb1478b9b6",
        "IPY_MODEL_3eae624998db49498fca586c84b5cd9c",
        "IPY_MODEL_a8d56e0b249f4fb5ab09cd453ade5e63",
        "IPY_MODEL_d875b9c3870a49b8a564050b2d478c46",
        "IPY_MODEL_59b846a9102f449ca3f915f927933c77",
        "IPY_MODEL_bbe8f106e86948d2b4654b511f27c117",
        "IPY_MODEL_fab4902225fe44dcba9c3997c13d0956",
        "IPY_MODEL_16f49ace40f84058a49e11de2aaa80be",
        "IPY_MODEL_23955c0338874325825a9a9a07067074",
        "IPY_MODEL_9eb8f3363ca545a4b2a0016d64ac774e",
        "IPY_MODEL_22e408e261764a39a6690acfc0ca6092",
        "IPY_MODEL_c7bdc81e6b1d409590a2f0d361df08dd",
        "IPY_MODEL_9e0d23eeb1834ed3a4c26cecd1686564",
        "IPY_MODEL_5507990e4adf47e5a115c417b00359e9",
        "IPY_MODEL_6c6bcc875db648b68bf31b07ddbd645e",
        "IPY_MODEL_f795b84dafee49a5af546d18fdb14b37",
        "IPY_MODEL_dfda081b07444d04af0183efd7a50528",
        "IPY_MODEL_5a3bec940abe44b291a113f6991ea1bf",
        "IPY_MODEL_f366a7a3f0994bf28f243c872d84d165",
        "IPY_MODEL_61fe14a36b064f17b68a521e74def767",
        "IPY_MODEL_1ac5967f4a3842c5ae252d0c73057180",
        "IPY_MODEL_bf95feb8ab3b4a958cb36b298c970004",
        "IPY_MODEL_d1fcf75f2633432bb88b6402e35b50a7"
       ],
       "layout": "IPY_MODEL_a88e378ec2e54c10b27c617491c693cf"
      }
     },
     "85da2343d5794f2d89bbc2609fe0a3cf": {
      "model_module": "@jupyter-widgets/base",
      "model_module_version": "1.2.0",
      "model_name": "LayoutModel",
      "state": {}
     },
     "85f42de9c394459fbf17524549355dc6": {
      "model_module": "@jupyter-widgets/base",
      "model_module_version": "1.2.0",
      "model_name": "LayoutModel",
      "state": {}
     },
     "8663f2d246be4f9db28a2c651ed4e1a3": {
      "model_module": "@jupyter-widgets/controls",
      "model_module_version": "1.5.0",
      "model_name": "ButtonModel",
      "state": {
       "description": "Create Plots",
       "layout": "IPY_MODEL_d8bc9bc630c7445abc8d09b317bfba9f",
       "style": "IPY_MODEL_f8e667c6707c4cd99216d613621286f0"
      }
     },
     "86bf6c8c4d154570bd3721701d6fbba5": {
      "model_module": "@jupyter-widgets/base",
      "model_module_version": "1.2.0",
      "model_name": "LayoutModel",
      "state": {}
     },
     "86dd1a550c14402da5dbd6a6f18a1985": {
      "model_module": "@jupyter-widgets/base",
      "model_module_version": "1.2.0",
      "model_name": "LayoutModel",
      "state": {}
     },
     "86e429b7253a4ef4b3c38a5208b50d46": {
      "model_module": "@jupyter-widgets/controls",
      "model_module_version": "1.5.0",
      "model_name": "ButtonStyleModel",
      "state": {}
     },
     "86f8606c77ff4646972e1130b81b6555": {
      "model_module": "@jupyter-widgets/base",
      "model_module_version": "1.2.0",
      "model_name": "LayoutModel",
      "state": {}
     },
     "86ffefa47e0a4648a7249fdf0dba8e72": {
      "model_module": "@jupyter-widgets/base",
      "model_module_version": "1.2.0",
      "model_name": "LayoutModel",
      "state": {}
     },
     "8717edc929e84de5a374ed9e46a97001": {
      "model_module": "@jupyter-widgets/controls",
      "model_module_version": "1.5.0",
      "model_name": "DescriptionStyleModel",
      "state": {
       "description_width": ""
      }
     },
     "87375585a9e64b9fa3474ef60bb288e8": {
      "model_module": "@jupyter-widgets/controls",
      "model_module_version": "1.5.0",
      "model_name": "CheckboxModel",
      "state": {
       "description": "cas_math",
       "disabled": false,
       "layout": "IPY_MODEL_1f8c6b1656924564968a1a07169b8a26",
       "style": "IPY_MODEL_d62b9130a85441ceaf70bfb311b346cf",
       "value": false
      }
     },
     "877920ff4ed9427db3aec56bd8f4d399": {
      "model_module": "@jupyter-widgets/output",
      "model_module_version": "1.0.0",
      "model_name": "OutputModel",
      "state": {
       "layout": "IPY_MODEL_6cb818dee22a4cf294df550e02733693",
       "outputs": [
        {
         "data": {
          "application/vnd.jupyter.widget-view+json": {
           "model_id": "153af2117ff741bc8d749d9347cc8482",
           "version_major": 2,
           "version_minor": 0
          },
          "text/plain": "interactive(children=(Dropdown(description='x', options=('emplid', 'enrl_ind', 'acad_year', 'count_week_from_t…"
         },
         "metadata": {},
         "output_type": "display_data"
        },
        {
         "data": {
          "application/vnd.jupyter.widget-view+json": {
           "model_id": "1b5bd5ffa84e423a97dc5688b3a22cab",
           "version_major": 2,
           "version_minor": 0
          },
          "text/plain": "interactive(children=(Dropdown(description='x', options=('emplid', 'enrl_ind', 'acad_year', 'count_week_from_t…"
         },
         "metadata": {},
         "output_type": "display_data"
        }
       ]
      }
     },
     "884dc0a6c280456a900b0ef5869171be": {
      "model_module": "@jupyter-widgets/controls",
      "model_module_version": "1.5.0",
      "model_name": "CheckboxModel",
      "state": {
       "description": "attendee_transfer_day",
       "disabled": false,
       "layout": "IPY_MODEL_a1d72bce735348e198c59eea339ddb38",
       "style": "IPY_MODEL_820c38563f9f42288ecd67b705c750d6",
       "value": false
      }
     },
     "897764b305f14a72b049263d23aab12b": {
      "model_module": "@jupyter-widgets/base",
      "model_module_version": "1.2.0",
      "model_name": "LayoutModel",
      "state": {}
     },
     "89c3e9b0455a4f32ba2ea981b01ce6ad": {
      "model_module": "@jupyter-widgets/controls",
      "model_module_version": "1.5.0",
      "model_name": "SliderStyleModel",
      "state": {
       "description_width": ""
      }
     },
     "89d3b25939d84f6ab8c3689c28b13bf2": {
      "model_module": "@jupyter-widgets/base",
      "model_module_version": "1.2.0",
      "model_name": "LayoutModel",
      "state": {}
     },
     "8a3e7910e615487082950e7b93ec1826": {
      "model_module": "@jupyter-widgets/controls",
      "model_module_version": "1.5.0",
      "model_name": "DescriptionStyleModel",
      "state": {
       "description_width": ""
      }
     },
     "8b45db015caf4dfea46c2c2c088e6cbe": {
      "model_module": "@jupyter-widgets/controls",
      "model_module_version": "1.5.0",
      "model_name": "CheckboxModel",
      "state": {
       "description": "pop_dens",
       "disabled": false,
       "layout": "IPY_MODEL_609abb66b6754a78a35c94a59a8bb957",
       "style": "IPY_MODEL_a513678469894e95baea7527882dae7b",
       "value": false
      }
     },
     "8b591a07da0d4fdebf749d60e852b0f8": {
      "model_module": "@jupyter-widgets/controls",
      "model_module_version": "1.5.0",
      "model_name": "DescriptionStyleModel",
      "state": {
       "description_width": ""
      }
     },
     "8bc31722d643471d8e43b9607f7d7457": {
      "model_module": "@jupyter-widgets/controls",
      "model_module_version": "1.5.0",
      "model_name": "CheckboxModel",
      "state": {
       "description": "attendee_oos_experience",
       "disabled": false,
       "layout": "IPY_MODEL_0e39c19d2ae044348d12e7b75fb6d156",
       "style": "IPY_MODEL_3dd95af5ac31400c926c0a7e7d0ef9ea",
       "value": false
      }
     },
     "8c446d4c30a3443486deb489d0fefe11": {
      "model_module": "@jupyter-widgets/controls",
      "model_module_version": "1.5.0",
      "model_name": "SliderStyleModel",
      "state": {
       "description_width": ""
      }
     },
     "8cad215147ba44d0bd6543aee3af5b29": {
      "model_module": "@jupyter-widgets/base",
      "model_module_version": "1.2.0",
      "model_name": "LayoutModel",
      "state": {}
     },
     "8cbb3c29295c482298d03bcdd2b17eab": {
      "model_module": "@jupyter-widgets/base",
      "model_module_version": "1.2.0",
      "model_name": "LayoutModel",
      "state": {}
     },
     "8d20d57d20a646efae4777b79b47e348": {
      "model_module": "@jupyter-widgets/controls",
      "model_module_version": "1.5.0",
      "model_name": "CheckboxModel",
      "state": {
       "description": "cas_psyc",
       "disabled": false,
       "layout": "IPY_MODEL_c6872fbe13d64f0ca365641870221f05",
       "style": "IPY_MODEL_be6167f2c7194754baedf593788ea265",
       "value": false
      }
     },
     "8d282ec0620d4dbab37431dbfadd914d": {
      "model_module": "@jupyter-widgets/controls",
      "model_module_version": "1.5.0",
      "model_name": "CheckboxModel",
      "state": {
       "description": "cahnrs_anml",
       "disabled": false,
       "layout": "IPY_MODEL_2c9c11ca4ba7424b9d17cb831d6b5483",
       "style": "IPY_MODEL_26d9ef5568994e98b5362aff9c2b1dda",
       "value": false
      }
     },
     "8d3804615a1341c0a0dfffc2daf476af": {
      "model_module": "@jupyter-widgets/controls",
      "model_module_version": "1.5.0",
      "model_name": "IntSliderModel",
      "state": {
       "description": "y",
       "layout": "IPY_MODEL_e6f98085278d41b49b516bea53f86f27",
       "min": 1,
       "style": "IPY_MODEL_7c38056a32934340bb75914d713e50f5",
       "value": 50
      }
     },
     "8de6845d43bb4d4db5d64bd007f06415": {
      "model_module": "@jupyter-widgets/controls",
      "model_module_version": "1.5.0",
      "model_name": "CheckboxModel",
      "state": {
       "description": "athlete",
       "disabled": false,
       "layout": "IPY_MODEL_9038681354af41be81de6428e2f196e5",
       "style": "IPY_MODEL_59eb9bf670984b5c8acf9cdefe0d6f0e",
       "value": false
      }
     },
     "8e105f1f8ae54414a1b442a4dc1c1506": {
      "model_module": "@jupyter-widgets/controls",
      "model_module_version": "1.5.0",
      "model_name": "DescriptionStyleModel",
      "state": {
       "description_width": ""
      }
     },
     "8e10cd097108450f83284bffe4b0aa28": {
      "model_module": "@jupyter-widgets/base",
      "model_module_version": "1.2.0",
      "model_name": "LayoutModel",
      "state": {}
     },
     "8ec08749a93640328a263da445df7b9b": {
      "model_module": "@jupyter-widgets/base",
      "model_module_version": "1.2.0",
      "model_name": "LayoutModel",
      "state": {}
     },
     "8f5cd5ba92964aa98d7b0ab8496dfb01": {
      "model_module": "@jupyter-widgets/controls",
      "model_module_version": "1.5.0",
      "model_name": "CheckboxModel",
      "state": {
       "description": "race_white",
       "disabled": false,
       "layout": "IPY_MODEL_9ad1fcdbfda84f3498c9fbf0a18ce05f",
       "style": "IPY_MODEL_3d7caec246034f1d99b3432f1e7b8b39",
       "value": false
      }
     },
     "8f8028022b0e4be8a035d95a8f92f613": {
      "model_module": "@jupyter-widgets/base",
      "model_module_version": "1.2.0",
      "model_name": "LayoutModel",
      "state": {}
     },
     "9004a81b8fd14c7097a51f7770bdfd6a": {
      "model_module": "@jupyter-widgets/controls",
      "model_module_version": "1.5.0",
      "model_name": "CheckboxModel",
      "state": {
       "description": "race_alaska",
       "disabled": false,
       "layout": "IPY_MODEL_b46709946189446f879f61566808c7d7",
       "style": "IPY_MODEL_ed27223790dc4994b5dd3185a8315c6a",
       "value": false
      }
     },
     "9038681354af41be81de6428e2f196e5": {
      "model_module": "@jupyter-widgets/base",
      "model_module_version": "1.2.0",
      "model_name": "LayoutModel",
      "state": {}
     },
     "905a0ef597314f62b77b3cbedfb11d59": {
      "model_module": "@jupyter-widgets/base",
      "model_module_version": "1.2.0",
      "model_name": "LayoutModel",
      "state": {}
     },
     "9060a4bc2bac4b5295888c9540dbffe7": {
      "model_module": "@jupyter-widgets/controls",
      "model_module_version": "1.5.0",
      "model_name": "CheckboxModel",
      "state": {
       "description": "provost",
       "disabled": false,
       "layout": "IPY_MODEL_14e7697db864464f8461c6c40aa02134",
       "style": "IPY_MODEL_b8ac68c7bc694828af58074b71d04a87",
       "value": false
      }
     },
     "910ead14c26a47a18a76b145cca3b753": {
      "model_module": "@jupyter-widgets/controls",
      "model_module_version": "1.5.0",
      "model_name": "DescriptionStyleModel",
      "state": {
       "description_width": ""
      }
     },
     "91b7d5485b3f4fe3b22c11e6c2721d4e": {
      "model_module": "@jupyter-widgets/base",
      "model_module_version": "1.2.0",
      "model_name": "LayoutModel",
      "state": {}
     },
     "9278aea2216f4c72a9500f104a0ab267": {
      "model_module": "@jupyter-widgets/controls",
      "model_module_version": "1.5.0",
      "model_name": "DescriptionStyleModel",
      "state": {
       "description_width": ""
      }
     },
     "928b2f03e605493a804d9b0c96d40b23": {
      "model_module": "@jupyter-widgets/base",
      "model_module_version": "1.2.0",
      "model_name": "LayoutModel",
      "state": {}
     },
     "9306329c98f64746856da72a778f526e": {
      "model_module": "@jupyter-widgets/controls",
      "model_module_version": "1.5.0",
      "model_name": "CheckboxModel",
      "state": {
       "description": "last_sch_proprietorship",
       "disabled": false,
       "layout": "IPY_MODEL_9c179361a84a4bb080f30b2656b8a752",
       "style": "IPY_MODEL_c4ed664bea04468b832924c517639081",
       "value": false
      }
     },
     "9306afc18d484366878cb83d6d89a55b": {
      "model_module": "@jupyter-widgets/controls",
      "model_module_version": "1.5.0",
      "model_name": "DescriptionStyleModel",
      "state": {
       "description_width": ""
      }
     },
     "93398ee6a0334234b45f1fc4c3232ad4": {
      "model_module": "@jupyter-widgets/controls",
      "model_module_version": "1.5.0",
      "model_name": "DescriptionStyleModel",
      "state": {
       "description_width": ""
      }
     },
     "93f6a4d70de0485e9c5d7c767d98b8b6": {
      "model_module": "@jupyter-widgets/base",
      "model_module_version": "1.2.0",
      "model_name": "LayoutModel",
      "state": {}
     },
     "9408544539ee48d9aa52ccdbce5704ed": {
      "model_module": "@jupyter-widgets/base",
      "model_module_version": "1.2.0",
      "model_name": "LayoutModel",
      "state": {}
     },
     "942c514a3cc34b149b5e6d6f711838cc": {
      "model_module": "@jupyter-widgets/controls",
      "model_module_version": "1.5.0",
      "model_name": "CheckboxModel",
      "state": {
       "description": "cas_biol",
       "disabled": false,
       "layout": "IPY_MODEL_7b55d630426549228b8a2c6c9b88f345",
       "style": "IPY_MODEL_40f09a25017544a38176ce0a2473b012",
       "value": false
      }
     },
     "94309ba1a8d94c769bb951d76b35832d": {
      "model_module": "@jupyter-widgets/controls",
      "model_module_version": "1.5.0",
      "model_name": "VBoxModel",
      "state": {
       "_dom_classes": [
        "widget-interact"
       ],
       "children": [
        "IPY_MODEL_b01d5a14a3e243f9a784640bb0825a33",
        "IPY_MODEL_e3b5fa43847d46148c86264645818885",
        "IPY_MODEL_77189ecef6c541638605194d5a87faa6"
       ],
       "layout": "IPY_MODEL_e9cdf2c36e4c46c697c66a2976459c4e"
      }
     },
     "943b03d3adfd4d5780236d1f358b4946": {
      "model_module": "@jupyter-widgets/controls",
      "model_module_version": "1.5.0",
      "model_name": "DescriptionStyleModel",
      "state": {
       "description_width": ""
      }
     },
     "9445e14c1d484a68a985e1c243153a06": {
      "model_module": "@jupyter-widgets/controls",
      "model_module_version": "1.5.0",
      "model_name": "CheckboxModel",
      "state": {
       "description": "attendee_top_scholars",
       "disabled": false,
       "layout": "IPY_MODEL_3361389c29ee4c33ba1b486235cbf6a2",
       "style": "IPY_MODEL_d9954c60727d47ea984c84a0d4aa9157",
       "value": false
      }
     },
     "944d41ee1e854b868d219efcd93389b2": {
      "model_module": "@jupyter-widgets/controls",
      "model_module_version": "1.5.0",
      "model_name": "VBoxModel",
      "state": {
       "_dom_classes": [
        "widget-interact"
       ],
       "children": [
        "IPY_MODEL_84ebf4c5efaf411e9e632aea0c0cff89",
        "IPY_MODEL_ff5d8be3e06d4e89bdb2fc3999e783e1",
        "IPY_MODEL_7070beaee2034bdea0a4767b26326ec0"
       ],
       "layout": "IPY_MODEL_b102f2d864bd4d15b3fbc609cf074e9b"
      }
     },
     "952d6706b8784325a7a92d6564d429ec": {
      "model_module": "@jupyter-widgets/base",
      "model_module_version": "1.2.0",
      "model_name": "LayoutModel",
      "state": {}
     },
     "9568d32fb6a64e29bdf8e935ee454e46": {
      "model_module": "@jupyter-widgets/base",
      "model_module_version": "1.2.0",
      "model_name": "LayoutModel",
      "state": {}
     },
     "95803b2c1423495389cd3a016959f5e3": {
      "model_module": "@jupyter-widgets/output",
      "model_module_version": "1.0.0",
      "model_name": "OutputModel",
      "state": {
       "layout": "IPY_MODEL_1112a3b368664e24b45e533d3175f3a6",
       "outputs": [
        {
         "data": {
          "image/png": "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\n",
          "text/plain": "<Figure size 432x288 with 1 Axes>"
         },
         "metadata": {
          "needs_background": "light"
         },
         "output_type": "display_data"
        }
       ]
      }
     },
     "95e0fd434aa0416fb1b0267979596a76": {
      "model_module": "@jupyter-widgets/controls",
      "model_module_version": "1.5.0",
      "model_name": "CheckboxModel",
      "state": {
       "description": "attendee_campus_visit",
       "disabled": false,
       "layout": "IPY_MODEL_8f8028022b0e4be8a035d95a8f92f613",
       "style": "IPY_MODEL_de3425d55899468dac6f4575c90b7a95",
       "value": false
      }
     },
     "96180c0694a34cdbbbd3c2cea716ffbc": {
      "model_module": "@jupyter-widgets/controls",
      "model_module_version": "1.5.0",
      "model_name": "CheckboxModel",
      "state": {
       "description": "vcea_bioe",
       "disabled": false,
       "layout": "IPY_MODEL_4ddfe4e7086f42c79a076a9c89a375a6",
       "style": "IPY_MODEL_693d5d598b0248729681fa08070b075a",
       "value": false
      }
     },
     "96bcd78b12f64b3d9d29aa0f648919e1": {
      "model_module": "@jupyter-widgets/controls",
      "model_module_version": "1.5.0",
      "model_name": "DescriptionStyleModel",
      "state": {
       "description_width": ""
      }
     },
     "96f757b9a6984165902cfc1d515751fc": {
      "model_module": "@jupyter-widgets/controls",
      "model_module_version": "1.5.0",
      "model_name": "DescriptionStyleModel",
      "state": {
       "description_width": ""
      }
     },
     "97266aaea4bc498ba06c83229d8cae68": {
      "model_module": "@jupyter-widgets/base",
      "model_module_version": "1.2.0",
      "model_name": "LayoutModel",
      "state": {}
     },
     "972ac3216eed489fbeee842857adf409": {
      "model_module": "@jupyter-widgets/controls",
      "model_module_version": "1.5.0",
      "model_name": "DescriptionStyleModel",
      "state": {
       "description_width": ""
      }
     },
     "976dd3384cec44ce9517bd42059b1a75": {
      "model_module": "@jupyter-widgets/controls",
      "model_module_version": "1.5.0",
      "model_name": "CheckboxModel",
      "state": {
       "description": "citizenship_country",
       "disabled": false,
       "layout": "IPY_MODEL_fb5246717149493dbb10754aa883e143",
       "style": "IPY_MODEL_5ec0d76159c44a4e9a9212d60c628ce6",
       "value": false
      }
     },
     "9774069f5ba746faa7e79bde9a92575e": {
      "model_module": "@jupyter-widgets/controls",
      "model_module_version": "1.5.0",
      "model_name": "CheckboxModel",
      "state": {
       "description": "attendee_welcome_center",
       "disabled": false,
       "layout": "IPY_MODEL_de8dcdffbad04b12b734db58865eb0b7",
       "style": "IPY_MODEL_a722aad541694d7b9c6f7723ebad3cfd",
       "value": false
      }
     },
     "977ec099352640f6813243da0a78fc84": {
      "model_module": "@jupyter-widgets/controls",
      "model_module_version": "1.5.0",
      "model_name": "CheckboxModel",
      "state": {
       "description": "attendee_oos_destination",
       "disabled": false,
       "layout": "IPY_MODEL_7a4327e4fac44c8caeeb06f1cca23778",
       "style": "IPY_MODEL_754a7ce02cb040d2a470e2fc54832115",
       "value": false
      }
     },
     "97bc9592403e47fe8adae787d5bc0356": {
      "model_module": "@jupyter-widgets/base",
      "model_module_version": "1.2.0",
      "model_name": "LayoutModel",
      "state": {}
     },
     "97dededc288540469c5f320b316960e2": {
      "model_module": "@jupyter-widgets/controls",
      "model_module_version": "1.5.0",
      "model_name": "CheckboxModel",
      "state": {
       "description": "attendee_total_visits",
       "disabled": false,
       "layout": "IPY_MODEL_7e9ce9d032464b2b9ca21aca409f41c0",
       "style": "IPY_MODEL_634b2f6c6a5043398306502d570c3dbe",
       "value": false
      }
     },
     "98c24ea06c8d4180a0043ef04df87d7a": {
      "model_module": "@jupyter-widgets/base",
      "model_module_version": "1.2.0",
      "model_name": "LayoutModel",
      "state": {}
     },
     "997835864cda497e907775a347364735": {
      "model_module": "@jupyter-widgets/controls",
      "model_module_version": "1.5.0",
      "model_name": "IntSliderModel",
      "state": {
       "description": "y",
       "layout": "IPY_MODEL_6a391ef4a23240179864dc051a7d9d58",
       "min": 1,
       "style": "IPY_MODEL_6ca561400cdb4c88a473c486e51a04c3",
       "value": 50
      }
     },
     "9985910946634dde8bb657724ca2ffe1": {
      "model_module": "@jupyter-widgets/base",
      "model_module_version": "1.2.0",
      "model_name": "LayoutModel",
      "state": {}
     },
     "9a4be3cc21fd4abab73b5c6101044487": {
      "model_module": "@jupyter-widgets/base",
      "model_module_version": "1.2.0",
      "model_name": "LayoutModel",
      "state": {}
     },
     "9a4fa984ce4e4d4d86a27237d3005852": {
      "model_module": "@jupyter-widgets/controls",
      "model_module_version": "1.5.0",
      "model_name": "ButtonModel",
      "state": {
       "description": "Create Plots",
       "layout": "IPY_MODEL_485f6699779a478a940ea47452497e90",
       "style": "IPY_MODEL_9f3abc28d2854030901fa13606f4d51d"
      }
     },
     "9ad1fcdbfda84f3498c9fbf0a18ce05f": {
      "model_module": "@jupyter-widgets/base",
      "model_module_version": "1.2.0",
      "model_name": "LayoutModel",
      "state": {}
     },
     "9b15770d8e7c41c1a9be9c6b722a39ed": {
      "model_module": "@jupyter-widgets/controls",
      "model_module_version": "1.5.0",
      "model_name": "DescriptionStyleModel",
      "state": {
       "description_width": ""
      }
     },
     "9b3a7f234849445893363efba9094d9c": {
      "model_module": "@jupyter-widgets/controls",
      "model_module_version": "1.5.0",
      "model_name": "DescriptionStyleModel",
      "state": {
       "description_width": ""
      }
     },
     "9b416f3e49934b3e9a504f65d2b7a392": {
      "model_module": "@jupyter-widgets/controls",
      "model_module_version": "1.5.0",
      "model_name": "ButtonModel",
      "state": {
       "description": "Create Dataset",
       "layout": "IPY_MODEL_98c24ea06c8d4180a0043ef04df87d7a",
       "style": "IPY_MODEL_d3e553d0381c406ead1d0f1672828751"
      }
     },
     "9b7061477a5a473bbd02b5d2a58783d6": {
      "model_module": "@jupyter-widgets/controls",
      "model_module_version": "1.5.0",
      "model_name": "SliderStyleModel",
      "state": {
       "description_width": ""
      }
     },
     "9c179361a84a4bb080f30b2656b8a752": {
      "model_module": "@jupyter-widgets/base",
      "model_module_version": "1.2.0",
      "model_name": "LayoutModel",
      "state": {}
     },
     "9c1ee12da5d842faba94834a0dfdb1d2": {
      "model_module": "@jupyter-widgets/controls",
      "model_module_version": "1.5.0",
      "model_name": "CheckboxModel",
      "state": {
       "description": "IB_AICE",
       "disabled": false,
       "layout": "IPY_MODEL_28c230dd504f45dea3db8b3481b1b63a",
       "style": "IPY_MODEL_ef8a792b7f27452b847747b3aa29c6dc",
       "value": false
      }
     },
     "9c91f63b2ebe48509a127ba3cc9f035c": {
      "model_module": "@jupyter-widgets/base",
      "model_module_version": "1.2.0",
      "model_name": "LayoutModel",
      "state": {}
     },
     "9daeed51acac47768656c2abc53fc3df": {
      "model_module": "@jupyter-widgets/controls",
      "model_module_version": "1.5.0",
      "model_name": "DescriptionStyleModel",
      "state": {
       "description_width": ""
      }
     },
     "9e0d23eeb1834ed3a4c26cecd1686564": {
      "model_module": "@jupyter-widgets/controls",
      "model_module_version": "1.5.0",
      "model_name": "CheckboxModel",
      "state": {
       "description": "spring_avg_pct_CDFW",
       "disabled": false,
       "layout": "IPY_MODEL_6193ee2cd38840bc90dc8f2afc9f1f26",
       "style": "IPY_MODEL_c47d2a1e68c2455d8ccfee029313c4ab",
       "value": false
      }
     },
     "9e7212226dfb47ffbb7a627547bce649": {
      "model_module": "@jupyter-widgets/base",
      "model_module_version": "1.2.0",
      "model_name": "LayoutModel",
      "state": {}
     },
     "9eb8f3363ca545a4b2a0016d64ac774e": {
      "model_module": "@jupyter-widgets/controls",
      "model_module_version": "1.5.0",
      "model_name": "CheckboxModel",
      "state": {
       "description": "total_fall_units",
       "disabled": false,
       "layout": "IPY_MODEL_8ec08749a93640328a263da445df7b9b",
       "style": "IPY_MODEL_a9926819570f4ef6b108e3c6d9b1df07",
       "value": false
      }
     },
     "9ee611a280064380980f45358fe9c8b3": {
      "model_module": "@jupyter-widgets/controls",
      "model_module_version": "1.5.0",
      "model_name": "DescriptionStyleModel",
      "state": {
       "description_width": ""
      }
     },
     "9f2fb9f1d4994ed0ad6179ed81e1c1a1": {
      "model_module": "@jupyter-widgets/base",
      "model_module_version": "1.2.0",
      "model_name": "LayoutModel",
      "state": {}
     },
     "9f3abc28d2854030901fa13606f4d51d": {
      "model_module": "@jupyter-widgets/controls",
      "model_module_version": "1.5.0",
      "model_name": "ButtonStyleModel",
      "state": {}
     },
     "9fa5778e02fb42e2b35a0b66044edaa1": {
      "model_module": "@jupyter-widgets/base",
      "model_module_version": "1.2.0",
      "model_name": "LayoutModel",
      "state": {}
     },
     "9fba96778f5f4ab19d06ac5079b5038a": {
      "model_module": "@jupyter-widgets/controls",
      "model_module_version": "1.5.0",
      "model_name": "CheckboxModel",
      "state": {
       "description": "cahnrext",
       "disabled": false,
       "layout": "IPY_MODEL_86ffefa47e0a4648a7249fdf0dba8e72",
       "style": "IPY_MODEL_a6d35b7236ec4f7c8122dcc3dfa7f473",
       "value": false
      }
     },
     "9fe27b3d089d4fea8db26f5977de53db": {
      "model_module": "@jupyter-widgets/base",
      "model_module_version": "1.2.0",
      "model_name": "LayoutModel",
      "state": {}
     },
     "9ff9344312fe47cf8f138236e42b0d84": {
      "model_module": "@jupyter-widgets/base",
      "model_module_version": "1.2.0",
      "model_name": "LayoutModel",
      "state": {}
     },
     "a0bdbffa5bc3416bae50aac6e55c5a7b": {
      "model_module": "@jupyter-widgets/controls",
      "model_module_version": "1.5.0",
      "model_name": "VBoxModel",
      "state": {
       "children": [
        "IPY_MODEL_ea61587a72c743e3a0816b0a2fa87251",
        "IPY_MODEL_8b45db015caf4dfea46c2c2c088e6cbe",
        "IPY_MODEL_fa446be18cff4a47a60e2914dc0b88da",
        "IPY_MODEL_6b2cbf74c3f24bd39ae0acdfa495f6dd",
        "IPY_MODEL_4656cc148582426ea02d68c1b69ed992",
        "IPY_MODEL_4e0df16def2743569e7bf65c15c42fe6",
        "IPY_MODEL_30117d9621b44c98b1197f67ed4fb1eb",
        "IPY_MODEL_d18112dc8f344f9bba6350ed93da23b0",
        "IPY_MODEL_498e417c91a54f618208679846ee27e8",
        "IPY_MODEL_7375982f7b2c46a985ad7d0d77156a49",
        "IPY_MODEL_230f56457a384322a0d1b6207594c357",
        "IPY_MODEL_0bc9bf3fb00f4c2d92527770381b58d2",
        "IPY_MODEL_7794429e91134203a939d8c05d54ee98",
        "IPY_MODEL_df7f8f4f927c4c819f7c5ac3970b5a81"
       ],
       "layout": "IPY_MODEL_36ec3e56dc6e45faa74a3832b954f856"
      }
     },
     "a102d8690b9c4ff2bdbd58e29083cfee": {
      "model_module": "@jupyter-widgets/base",
      "model_module_version": "1.2.0",
      "model_name": "LayoutModel",
      "state": {
       "flex_flow": "row wrap"
      }
     },
     "a180060e555e41d691723c19ba31f9f7": {
      "model_module": "@jupyter-widgets/base",
      "model_module_version": "1.2.0",
      "model_name": "LayoutModel",
      "state": {}
     },
     "a1bdba61808044c487f68af7e9321d09": {
      "model_module": "@jupyter-widgets/base",
      "model_module_version": "1.2.0",
      "model_name": "LayoutModel",
      "state": {}
     },
     "a1d72bce735348e198c59eea339ddb38": {
      "model_module": "@jupyter-widgets/base",
      "model_module_version": "1.2.0",
      "model_name": "LayoutModel",
      "state": {}
     },
     "a1f39ad45b0748f89d0bce8b81699ed4": {
      "model_module": "@jupyter-widgets/base",
      "model_module_version": "1.2.0",
      "model_name": "LayoutModel",
      "state": {}
     },
     "a2ef6a5785654ccf81df24dab87a7d2d": {
      "model_module": "@jupyter-widgets/controls",
      "model_module_version": "1.5.0",
      "model_name": "CheckboxModel",
      "state": {
       "description": "education",
       "disabled": false,
       "layout": "IPY_MODEL_3e922cf818854c2cb753df5cad6387c0",
       "style": "IPY_MODEL_1846de265f264d0c82525d4c42c17603",
       "value": false
      }
     },
     "a303a45b458149dc87ab41b989dff9d5": {
      "model_module": "@jupyter-widgets/controls",
      "model_module_version": "1.5.0",
      "model_name": "CheckboxModel",
      "state": {
       "description": "mother_wsu_flag",
       "disabled": false,
       "layout": "IPY_MODEL_cfce4a403e384732b5a2dc5dffc4cb92",
       "style": "IPY_MODEL_d4fa496397e749ff81e005c64b0a7a96",
       "value": false
      }
     },
     "a30a6800d3c54426834326c2409e1b3f": {
      "model_module": "@jupyter-widgets/output",
      "model_module_version": "1.0.0",
      "model_name": "OutputModel",
      "state": {
       "layout": "IPY_MODEL_df65a53e854547a4b1f9109770c377b5",
       "outputs": [
        {
         "ename": "ValueError",
         "evalue": "No axis named emplid for object type Series",
         "output_type": "error",
         "traceback": [
          "\u001b[1;31m---------------------------------------------------------------------------\u001b[0m",
          "\u001b[1;31mKeyError\u001b[0m                                  Traceback (most recent call last)",
          "\u001b[1;32m~\\AppData\\Local\\Continuum\\anaconda3\\envs\\analytics_env\\lib\\site-packages\\pandas\\core\\generic.py\u001b[0m in \u001b[0;36m_get_axis_number\u001b[1;34m(cls, axis)\u001b[0m\n\u001b[0;32m    459\u001b[0m         \u001b[1;32mtry\u001b[0m\u001b[1;33m:\u001b[0m\u001b[1;33m\u001b[0m\u001b[1;33m\u001b[0m\u001b[0m\n\u001b[1;32m--> 460\u001b[1;33m             \u001b[1;32mreturn\u001b[0m \u001b[0mcls\u001b[0m\u001b[1;33m.\u001b[0m\u001b[0m_AXIS_TO_AXIS_NUMBER\u001b[0m\u001b[1;33m[\u001b[0m\u001b[0maxis\u001b[0m\u001b[1;33m]\u001b[0m\u001b[1;33m\u001b[0m\u001b[1;33m\u001b[0m\u001b[0m\n\u001b[0m\u001b[0;32m    461\u001b[0m         \u001b[1;32mexcept\u001b[0m \u001b[0mKeyError\u001b[0m\u001b[1;33m:\u001b[0m\u001b[1;33m\u001b[0m\u001b[1;33m\u001b[0m\u001b[0m\n",
          "\u001b[1;31mKeyError\u001b[0m: 'emplid'",
          "\nDuring handling of the above exception, another exception occurred:\n",
          "\u001b[1;31mValueError\u001b[0m                                Traceback (most recent call last)",
          "\u001b[1;32m~\\AppData\\Local\\Continuum\\anaconda3\\envs\\analytics_env\\lib\\site-packages\\ipywidgets\\widgets\\interaction.py\u001b[0m in \u001b[0;36mupdate\u001b[1;34m(self, *args)\u001b[0m\n\u001b[0;32m    254\u001b[0m                     \u001b[0mvalue\u001b[0m \u001b[1;33m=\u001b[0m \u001b[0mwidget\u001b[0m\u001b[1;33m.\u001b[0m\u001b[0mget_interact_value\u001b[0m\u001b[1;33m(\u001b[0m\u001b[1;33m)\u001b[0m\u001b[1;33m\u001b[0m\u001b[1;33m\u001b[0m\u001b[0m\n\u001b[0;32m    255\u001b[0m                     \u001b[0mself\u001b[0m\u001b[1;33m.\u001b[0m\u001b[0mkwargs\u001b[0m\u001b[1;33m[\u001b[0m\u001b[0mwidget\u001b[0m\u001b[1;33m.\u001b[0m\u001b[0m_kwarg\u001b[0m\u001b[1;33m]\u001b[0m \u001b[1;33m=\u001b[0m \u001b[0mvalue\u001b[0m\u001b[1;33m\u001b[0m\u001b[1;33m\u001b[0m\u001b[0m\n\u001b[1;32m--> 256\u001b[1;33m                 \u001b[0mself\u001b[0m\u001b[1;33m.\u001b[0m\u001b[0mresult\u001b[0m \u001b[1;33m=\u001b[0m \u001b[0mself\u001b[0m\u001b[1;33m.\u001b[0m\u001b[0mf\u001b[0m\u001b[1;33m(\u001b[0m\u001b[1;33m**\u001b[0m\u001b[0mself\u001b[0m\u001b[1;33m.\u001b[0m\u001b[0mkwargs\u001b[0m\u001b[1;33m)\u001b[0m\u001b[1;33m\u001b[0m\u001b[1;33m\u001b[0m\u001b[0m\n\u001b[0m\u001b[0;32m    257\u001b[0m                 \u001b[0mshow_inline_matplotlib_plots\u001b[0m\u001b[1;33m(\u001b[0m\u001b[1;33m)\u001b[0m\u001b[1;33m\u001b[0m\u001b[1;33m\u001b[0m\u001b[0m\n\u001b[0;32m    258\u001b[0m                 \u001b[1;32mif\u001b[0m \u001b[0mself\u001b[0m\u001b[1;33m.\u001b[0m\u001b[0mauto_display\u001b[0m \u001b[1;32mand\u001b[0m \u001b[0mself\u001b[0m\u001b[1;33m.\u001b[0m\u001b[0mresult\u001b[0m \u001b[1;32mis\u001b[0m \u001b[1;32mnot\u001b[0m \u001b[1;32mNone\u001b[0m\u001b[1;33m:\u001b[0m\u001b[1;33m\u001b[0m\u001b[1;33m\u001b[0m\u001b[0m\n",
          "\u001b[1;32m<ipython-input-16-4c4cd4aa5887>\u001b[0m in \u001b[0;36mtest_func\u001b[1;34m(self, x, y)\u001b[0m\n\u001b[0;32m      9\u001b[0m \u001b[1;33m\u001b[0m\u001b[0m\n\u001b[0;32m     10\u001b[0m     \u001b[1;32mdef\u001b[0m \u001b[0mtest_func\u001b[0m\u001b[1;33m(\u001b[0m\u001b[0mself\u001b[0m\u001b[1;33m,\u001b[0m \u001b[0mx\u001b[0m\u001b[1;33m,\u001b[0m \u001b[0my\u001b[0m\u001b[1;33m)\u001b[0m\u001b[1;33m:\u001b[0m\u001b[1;33m\u001b[0m\u001b[1;33m\u001b[0m\u001b[0m\n\u001b[1;32m---> 11\u001b[1;33m         \u001b[0mplt\u001b[0m\u001b[1;33m.\u001b[0m\u001b[0mhist\u001b[0m\u001b[1;33m(\u001b[0m\u001b[0mbd\u001b[0m\u001b[1;33m.\u001b[0m\u001b[0mtesting_getter\u001b[0m\u001b[1;33m(\u001b[0m\u001b[1;33m)\u001b[0m\u001b[1;33m[\u001b[0m\u001b[0mx\u001b[0m\u001b[1;33m]\u001b[0m\u001b[1;33m.\u001b[0m\u001b[0msort_values\u001b[0m\u001b[1;33m(\u001b[0m\u001b[0mx\u001b[0m\u001b[1;33m)\u001b[0m\u001b[1;33m,\u001b[0m \u001b[0mcolor\u001b[0m\u001b[1;33m=\u001b[0m\u001b[0mwsu_color\u001b[0m\u001b[1;33m,\u001b[0m \u001b[0mbins\u001b[0m\u001b[1;33m=\u001b[0m\u001b[0my\u001b[0m\u001b[1;33m)\u001b[0m\u001b[1;33m\u001b[0m\u001b[1;33m\u001b[0m\u001b[0m\n\u001b[0m\u001b[0;32m     12\u001b[0m         \u001b[0mplt\u001b[0m\u001b[1;33m.\u001b[0m\u001b[0mtitle\u001b[0m\u001b[1;33m(\u001b[0m\u001b[1;34m'TESTING DATA'\u001b[0m\u001b[1;33m)\u001b[0m\u001b[1;33m\u001b[0m\u001b[1;33m\u001b[0m\u001b[0m\n\u001b[0;32m     13\u001b[0m \u001b[1;33m\u001b[0m\u001b[0m\n",
          "\u001b[1;32m~\\AppData\\Local\\Continuum\\anaconda3\\envs\\analytics_env\\lib\\site-packages\\pandas\\core\\series.py\u001b[0m in \u001b[0;36msort_values\u001b[1;34m(self, axis, ascending, inplace, kind, na_position, ignore_index, key)\u001b[0m\n\u001b[0;32m   3236\u001b[0m         \u001b[0minplace\u001b[0m \u001b[1;33m=\u001b[0m \u001b[0mvalidate_bool_kwarg\u001b[0m\u001b[1;33m(\u001b[0m\u001b[0minplace\u001b[0m\u001b[1;33m,\u001b[0m \u001b[1;34m\"inplace\"\u001b[0m\u001b[1;33m)\u001b[0m\u001b[1;33m\u001b[0m\u001b[1;33m\u001b[0m\u001b[0m\n\u001b[0;32m   3237\u001b[0m         \u001b[1;31m# Validate the axis parameter\u001b[0m\u001b[1;33m\u001b[0m\u001b[1;33m\u001b[0m\u001b[1;33m\u001b[0m\u001b[0m\n\u001b[1;32m-> 3238\u001b[1;33m         \u001b[0mself\u001b[0m\u001b[1;33m.\u001b[0m\u001b[0m_get_axis_number\u001b[0m\u001b[1;33m(\u001b[0m\u001b[0maxis\u001b[0m\u001b[1;33m)\u001b[0m\u001b[1;33m\u001b[0m\u001b[1;33m\u001b[0m\u001b[0m\n\u001b[0m\u001b[0;32m   3239\u001b[0m \u001b[1;33m\u001b[0m\u001b[0m\n\u001b[0;32m   3240\u001b[0m         \u001b[1;31m# GH 5856/5853\u001b[0m\u001b[1;33m\u001b[0m\u001b[1;33m\u001b[0m\u001b[1;33m\u001b[0m\u001b[0m\n",
          "\u001b[1;32m~\\AppData\\Local\\Continuum\\anaconda3\\envs\\analytics_env\\lib\\site-packages\\pandas\\core\\generic.py\u001b[0m in \u001b[0;36m_get_axis_number\u001b[1;34m(cls, axis)\u001b[0m\n\u001b[0;32m    460\u001b[0m             \u001b[1;32mreturn\u001b[0m \u001b[0mcls\u001b[0m\u001b[1;33m.\u001b[0m\u001b[0m_AXIS_TO_AXIS_NUMBER\u001b[0m\u001b[1;33m[\u001b[0m\u001b[0maxis\u001b[0m\u001b[1;33m]\u001b[0m\u001b[1;33m\u001b[0m\u001b[1;33m\u001b[0m\u001b[0m\n\u001b[0;32m    461\u001b[0m         \u001b[1;32mexcept\u001b[0m \u001b[0mKeyError\u001b[0m\u001b[1;33m:\u001b[0m\u001b[1;33m\u001b[0m\u001b[1;33m\u001b[0m\u001b[0m\n\u001b[1;32m--> 462\u001b[1;33m             \u001b[1;32mraise\u001b[0m \u001b[0mValueError\u001b[0m\u001b[1;33m(\u001b[0m\u001b[1;34mf\"No axis named {axis} for object type {cls.__name__}\"\u001b[0m\u001b[1;33m)\u001b[0m\u001b[1;33m\u001b[0m\u001b[1;33m\u001b[0m\u001b[0m\n\u001b[0m\u001b[0;32m    463\u001b[0m \u001b[1;33m\u001b[0m\u001b[0m\n\u001b[0;32m    464\u001b[0m     \u001b[1;33m@\u001b[0m\u001b[0mfinal\u001b[0m\u001b[1;33m\u001b[0m\u001b[1;33m\u001b[0m\u001b[0m\n",
          "\u001b[1;31mValueError\u001b[0m: No axis named emplid for object type Series"
         ]
        }
       ]
      }
     },
     "a3322ffbcced406b85eb1cfd83270906": {
      "model_module": "@jupyter-widgets/controls",
      "model_module_version": "1.5.0",
      "model_name": "DescriptionStyleModel",
      "state": {
       "description_width": ""
      }
     },
     "a4e2be54d7e747baa53c37acb56e4e61": {
      "model_module": "@jupyter-widgets/base",
      "model_module_version": "1.2.0",
      "model_name": "LayoutModel",
      "state": {}
     },
     "a513678469894e95baea7527882dae7b": {
      "model_module": "@jupyter-widgets/controls",
      "model_module_version": "1.5.0",
      "model_name": "DescriptionStyleModel",
      "state": {
       "description_width": ""
      }
     },
     "a60e64689977471e985f5053879de085": {
      "model_module": "@jupyter-widgets/controls",
      "model_module_version": "1.5.0",
      "model_name": "CheckboxModel",
      "state": {
       "description": "marital_status",
       "disabled": false,
       "layout": "IPY_MODEL_b4d347e2c9124658a1ce186206ff321b",
       "style": "IPY_MODEL_6ad73510e764451fb1d40d2c5d00a84c",
       "value": true
      }
     },
     "a660da22098742ec9ea75dc1f66eb6cd": {
      "model_module": "@jupyter-widgets/controls",
      "model_module_version": "1.5.0",
      "model_name": "CheckboxModel",
      "state": {
       "description": "anywhere_STEM_Flag",
       "disabled": false,
       "layout": "IPY_MODEL_6e42514cb736403fb8d1d51a491ef422",
       "style": "IPY_MODEL_7f4aa546bbfc4f0897d97d6b57e76edf",
       "value": false
      }
     },
     "a67beff0d09f47d89a5d187fc94dabf9": {
      "model_module": "@jupyter-widgets/controls",
      "model_module_version": "1.5.0",
      "model_name": "CheckboxModel",
      "state": {
       "description": "AICE",
       "disabled": false,
       "layout": "IPY_MODEL_6489228bd42348df8a756d4d4abc14db",
       "style": "IPY_MODEL_7242ae6fd9f0430cb5eead172fbcc05a",
       "value": false
      }
     },
     "a67bf59037e6466cbf8a97a674f3bd22": {
      "model_module": "@jupyter-widgets/base",
      "model_module_version": "1.2.0",
      "model_name": "LayoutModel",
      "state": {}
     },
     "a67c995f69a249ee9dae2b4105acb180": {
      "model_module": "@jupyter-widgets/base",
      "model_module_version": "1.2.0",
      "model_name": "LayoutModel",
      "state": {}
     },
     "a6c0970112824783bda60c1ab21876d0": {
      "model_module": "@jupyter-widgets/controls",
      "model_module_version": "1.5.0",
      "model_name": "SliderStyleModel",
      "state": {
       "description_width": ""
      }
     },
     "a6d35b7236ec4f7c8122dcc3dfa7f473": {
      "model_module": "@jupyter-widgets/controls",
      "model_module_version": "1.5.0",
      "model_name": "DescriptionStyleModel",
      "state": {
       "description_width": ""
      }
     },
     "a722aad541694d7b9c6f7723ebad3cfd": {
      "model_module": "@jupyter-widgets/controls",
      "model_module_version": "1.5.0",
      "model_name": "DescriptionStyleModel",
      "state": {
       "description_width": ""
      }
     },
     "a72dd6210f304f708807de4d92ad9bec": {
      "model_module": "@jupyter-widgets/controls",
      "model_module_version": "1.5.0",
      "model_name": "DescriptionStyleModel",
      "state": {
       "description_width": ""
      }
     },
     "a7fd0c62cc03454e9ba4ca529bb28887": {
      "model_module": "@jupyter-widgets/controls",
      "model_module_version": "1.5.0",
      "model_name": "CheckboxModel",
      "state": {
       "description": "age_group",
       "disabled": false,
       "layout": "IPY_MODEL_61a3e34f453541b5be1dbc7b99dfcd36",
       "style": "IPY_MODEL_075e36bb6a1540e1abb2b884b3c5e4d5",
       "value": false
      }
     },
     "a831b9effe7b41b7b81303508ee085a2": {
      "model_module": "@jupyter-widgets/controls",
      "model_module_version": "1.5.0",
      "model_name": "DescriptionStyleModel",
      "state": {
       "description_width": ""
      }
     },
     "a837d62337ce492a86394b65bce1d703": {
      "model_module": "@jupyter-widgets/base",
      "model_module_version": "1.2.0",
      "model_name": "LayoutModel",
      "state": {}
     },
     "a84912659ea14a789585b416992dc0f3": {
      "model_module": "@jupyter-widgets/controls",
      "model_module_version": "1.5.0",
      "model_name": "DropdownModel",
      "state": {
       "_options_labels": [
        "emplid",
        "enrl_ind",
        "acad_year",
        "count_week_from_term_begin_dt",
        "marital_status",
        "resident",
        "parent1_highest_educ_lvl",
        "parent2_highest_educ_lvl"
       ],
       "description": "x",
       "index": 6,
       "layout": "IPY_MODEL_f2c0aeaee5e945059da247ff0edcd650",
       "style": "IPY_MODEL_c1be10ca75ce445386ff0960cd5935a8"
      }
     },
     "a859683b44a4433d9a6f882c703fb5c1": {
      "model_module": "@jupyter-widgets/controls",
      "model_module_version": "1.5.0",
      "model_name": "VBoxModel",
      "state": {
       "children": [
        "IPY_MODEL_fdd7376635a94603831ae71e0ea9b6fc",
        "IPY_MODEL_d527bb06b2124228a7cf10ac8a1c1e2e"
       ],
       "layout": "IPY_MODEL_b2d6842f29b149419a17c495b238540a"
      }
     },
     "a88e378ec2e54c10b27c617491c693cf": {
      "model_module": "@jupyter-widgets/base",
      "model_module_version": "1.2.0",
      "model_name": "LayoutModel",
      "state": {
       "flex_flow": "row wrap"
      }
     },
     "a893afe706764331ac7015069d09b521": {
      "model_module": "@jupyter-widgets/base",
      "model_module_version": "1.2.0",
      "model_name": "LayoutModel",
      "state": {}
     },
     "a8d56e0b249f4fb5ab09cd453ade5e63": {
      "model_module": "@jupyter-widgets/controls",
      "model_module_version": "1.5.0",
      "model_name": "CheckboxModel",
      "state": {
       "description": "fall_lab_count",
       "disabled": false,
       "layout": "IPY_MODEL_ca2123aa61b543b09d2ac13afb4adf66",
       "style": "IPY_MODEL_1981258d7dad44789d896749fc21ee90",
       "value": false
      }
     },
     "a8d7e116b614497d8a325debe4eeb113": {
      "model_module": "@jupyter-widgets/base",
      "model_module_version": "1.2.0",
      "model_name": "LayoutModel",
      "state": {}
     },
     "a8f177e1a6084d7a83fe0c9bd1f65fec": {
      "model_module": "@jupyter-widgets/base",
      "model_module_version": "1.2.0",
      "model_name": "LayoutModel",
      "state": {}
     },
     "a9072563ded24ea68c68b268d5efeb1a": {
      "model_module": "@jupyter-widgets/controls",
      "model_module_version": "1.5.0",
      "model_name": "DescriptionStyleModel",
      "state": {
       "description_width": ""
      }
     },
     "a92948836d304a42ad9f8724dfe03c32": {
      "model_module": "@jupyter-widgets/base",
      "model_module_version": "1.2.0",
      "model_name": "LayoutModel",
      "state": {}
     },
     "a9926819570f4ef6b108e3c6d9b1df07": {
      "model_module": "@jupyter-widgets/controls",
      "model_module_version": "1.5.0",
      "model_name": "DescriptionStyleModel",
      "state": {
       "description_width": ""
      }
     },
     "aa749b93989846d385ce6996c770c56b": {
      "model_module": "@jupyter-widgets/base",
      "model_module_version": "1.2.0",
      "model_name": "LayoutModel",
      "state": {}
     },
     "abd5b5f96f1a47ecbec6ed3187d1dedb": {
      "model_module": "@jupyter-widgets/base",
      "model_module_version": "1.2.0",
      "model_name": "LayoutModel",
      "state": {}
     },
     "abde94f4ff2745f5814f2d97be27f2fe": {
      "model_module": "@jupyter-widgets/controls",
      "model_module_version": "1.5.0",
      "model_name": "VBoxModel",
      "state": {
       "_dom_classes": [
        "widget-interact"
       ],
       "children": [
        "IPY_MODEL_719abc67770e420193361d00ad2b541d",
        "IPY_MODEL_8d3804615a1341c0a0dfffc2daf476af",
        "IPY_MODEL_ffe2182a99554fe986503e059b66bd84"
       ],
       "layout": "IPY_MODEL_12b6695dd0ab45d090f993872d8fa14d"
      }
     },
     "addf8467533a45abb1e7a43f99b55efa": {
      "model_module": "@jupyter-widgets/base",
      "model_module_version": "1.2.0",
      "model_name": "LayoutModel",
      "state": {}
     },
     "adea0721fdc141af93873d3b4279422c": {
      "model_module": "@jupyter-widgets/controls",
      "model_module_version": "1.5.0",
      "model_name": "DescriptionStyleModel",
      "state": {
       "description_width": ""
      }
     },
     "ae9a615899f4484c94f911dc6100738a": {
      "model_module": "@jupyter-widgets/base",
      "model_module_version": "1.2.0",
      "model_name": "LayoutModel",
      "state": {}
     },
     "af0fb3b8461945ce981611406b0fa394": {
      "model_module": "@jupyter-widgets/base",
      "model_module_version": "1.2.0",
      "model_name": "LayoutModel",
      "state": {}
     },
     "afbb6c8ec76a4aab9d967350885ec35c": {
      "model_module": "@jupyter-widgets/base",
      "model_module_version": "1.2.0",
      "model_name": "LayoutModel",
      "state": {}
     },
     "b01d5a14a3e243f9a784640bb0825a33": {
      "model_module": "@jupyter-widgets/controls",
      "model_module_version": "1.5.0",
      "model_name": "DropdownModel",
      "state": {
       "_options_labels": [
        "emplid",
        "enrl_ind",
        "acad_year",
        "count_week_from_term_begin_dt",
        "marital_status",
        "resident",
        "parent1_highest_educ_lvl",
        "parent2_highest_educ_lvl"
       ],
       "description": "x",
       "index": 0,
       "layout": "IPY_MODEL_7206632ec3634b6aa43d0087f4337047",
       "style": "IPY_MODEL_e6a25d9c945e42f1bcb256ea43e320c7"
      }
     },
     "b0746d97ee2f41b18fe857fe22d4bb70": {
      "model_module": "@jupyter-widgets/controls",
      "model_module_version": "1.5.0",
      "model_name": "VBoxModel",
      "state": {
       "children": [
        "IPY_MODEL_a7fd0c62cc03454e9ba4ca529bb28887",
        "IPY_MODEL_fba6f4c487ad480e99f2d85ef9701e79",
        "IPY_MODEL_0daccaceceed4376a764a4cfced73cd6",
        "IPY_MODEL_748f41e2324f498da02571b9cffc4c2c",
        "IPY_MODEL_db11b64f598d417db3b6fafed5bc605a",
        "IPY_MODEL_9004a81b8fd14c7097a51f7770bdfd6a",
        "IPY_MODEL_f461d286e5ea43acb3ca1f6de8a19c2c",
        "IPY_MODEL_41ca68b23e214b429de5c0f44f9542de",
        "IPY_MODEL_1371e5f3267b4b3d911a400a1dd4557e",
        "IPY_MODEL_8f5cd5ba92964aa98d7b0ab8496dfb01",
        "IPY_MODEL_00ac120cbc904c64908490b77d9f879f",
        "IPY_MODEL_c320d2de83ce4ed0957695169793b517"
       ],
       "layout": "IPY_MODEL_f2ba87c812a94c48a4759deeeff7fd32"
      }
     },
     "b09f584232dd446a8468384cc95c91d7": {
      "model_module": "@jupyter-widgets/controls",
      "model_module_version": "1.5.0",
      "model_name": "IntSliderModel",
      "state": {
       "description": "y",
       "layout": "IPY_MODEL_897764b305f14a72b049263d23aab12b",
       "min": 1,
       "style": "IPY_MODEL_8c446d4c30a3443486deb489d0fefe11",
       "value": 50
      }
     },
     "b0aa6be2e1ec46389ee05f7e378ec8df": {
      "model_module": "@jupyter-widgets/base",
      "model_module_version": "1.2.0",
      "model_name": "LayoutModel",
      "state": {}
     },
     "b102f2d864bd4d15b3fbc609cf074e9b": {
      "model_module": "@jupyter-widgets/base",
      "model_module_version": "1.2.0",
      "model_name": "LayoutModel",
      "state": {}
     },
     "b187e1a943474dc68ca1ef0f29b9c46c": {
      "model_module": "@jupyter-widgets/base",
      "model_module_version": "1.2.0",
      "model_name": "LayoutModel",
      "state": {}
     },
     "b1db9afa8cc145f49379b131f7c7fa76": {
      "model_module": "@jupyter-widgets/controls",
      "model_module_version": "1.5.0",
      "model_name": "DescriptionStyleModel",
      "state": {
       "description_width": ""
      }
     },
     "b1e35e5928544e9288db24f7cd29bfe2": {
      "model_module": "@jupyter-widgets/base",
      "model_module_version": "1.2.0",
      "model_name": "LayoutModel",
      "state": {}
     },
     "b1e6010d4ed647f59d203de4ec069669": {
      "model_module": "@jupyter-widgets/base",
      "model_module_version": "1.2.0",
      "model_name": "LayoutModel",
      "state": {}
     },
     "b1f41542a5344b238d7b8e41227629d6": {
      "model_module": "@jupyter-widgets/base",
      "model_module_version": "1.2.0",
      "model_name": "LayoutModel",
      "state": {}
     },
     "b2d6842f29b149419a17c495b238540a": {
      "model_module": "@jupyter-widgets/base",
      "model_module_version": "1.2.0",
      "model_name": "LayoutModel",
      "state": {}
     },
     "b31d0288453f433e803704f1b6abd3dd": {
      "model_module": "@jupyter-widgets/controls",
      "model_module_version": "1.5.0",
      "model_name": "IntSliderModel",
      "state": {
       "description": "y",
       "layout": "IPY_MODEL_7fdebf2f474c4d14902cf326f5d9ce8d",
       "min": 1,
       "style": "IPY_MODEL_525cd760cea74e45bd72e52022ee54b4",
       "value": 50
      }
     },
     "b36cb7a8d39d4ce4b251a7a842593ee6": {
      "model_module": "@jupyter-widgets/controls",
      "model_module_version": "1.5.0",
      "model_name": "DescriptionStyleModel",
      "state": {
       "description_width": ""
      }
     },
     "b3872c9f45a24e70a2ac82416a3c894a": {
      "model_module": "@jupyter-widgets/base",
      "model_module_version": "1.2.0",
      "model_name": "LayoutModel",
      "state": {}
     },
     "b3c471ddf34c45209df060c949009139": {
      "model_module": "@jupyter-widgets/controls",
      "model_module_version": "1.5.0",
      "model_name": "ButtonModel",
      "state": {
       "description": "Import Dataset",
       "layout": "IPY_MODEL_0adefbb77c32438ca9f8d68692380104",
       "style": "IPY_MODEL_e9e7929ed7404f859887db21b7966a09"
      }
     },
     "b3cbc7283a344f788449a9a84e919e80": {
      "model_module": "@jupyter-widgets/controls",
      "model_module_version": "1.5.0",
      "model_name": "DescriptionStyleModel",
      "state": {
       "description_width": ""
      }
     },
     "b41ebab1c5b04d0aa2629f63601dc4b9": {
      "model_module": "@jupyter-widgets/base",
      "model_module_version": "1.2.0",
      "model_name": "LayoutModel",
      "state": {}
     },
     "b46709946189446f879f61566808c7d7": {
      "model_module": "@jupyter-widgets/base",
      "model_module_version": "1.2.0",
      "model_name": "LayoutModel",
      "state": {}
     },
     "b4b1edd60d0b487b82fbb2ce3660ad60": {
      "model_module": "@jupyter-widgets/base",
      "model_module_version": "1.2.0",
      "model_name": "LayoutModel",
      "state": {}
     },
     "b4d347e2c9124658a1ce186206ff321b": {
      "model_module": "@jupyter-widgets/base",
      "model_module_version": "1.2.0",
      "model_name": "LayoutModel",
      "state": {}
     },
     "b51c063bf293464cb085c82d5551cdbb": {
      "model_module": "@jupyter-widgets/controls",
      "model_module_version": "1.5.0",
      "model_name": "DropdownModel",
      "state": {
       "_options_labels": [
        "emplid",
        "enrl_ind",
        "acad_year",
        "count_week_from_term_begin_dt",
        "marital_status",
        "resident",
        "parent1_highest_educ_lvl",
        "parent2_highest_educ_lvl"
       ],
       "description": "x",
       "index": 6,
       "layout": "IPY_MODEL_b8c9ab6c65624bdd995464940d759b88",
       "style": "IPY_MODEL_93398ee6a0334234b45f1fc4c3232ad4"
      }
     },
     "b60b2dc3e8b44d2abe2c7b23b2157445": {
      "model_module": "@jupyter-widgets/base",
      "model_module_version": "1.2.0",
      "model_name": "LayoutModel",
      "state": {}
     },
     "b66e6624e59b45ee94cbc69edffc6ab7": {
      "model_module": "@jupyter-widgets/base",
      "model_module_version": "1.2.0",
      "model_name": "LayoutModel",
      "state": {}
     },
     "b69ce3d4466f4eb488ff005ba6cbe66f": {
      "model_module": "@jupyter-widgets/controls",
      "model_module_version": "1.5.0",
      "model_name": "DescriptionStyleModel",
      "state": {
       "description_width": ""
      }
     },
     "b7b8e959a0384e5c9e94a458dbebc60a": {
      "model_module": "@jupyter-widgets/base",
      "model_module_version": "1.2.0",
      "model_name": "LayoutModel",
      "state": {}
     },
     "b7be4817820c4597b243ff5cc1702c30": {
      "model_module": "@jupyter-widgets/output",
      "model_module_version": "1.0.0",
      "model_name": "OutputModel",
      "state": {
       "layout": "IPY_MODEL_86bf6c8c4d154570bd3721701d6fbba5",
       "outputs": [
        {
         "data": {
          "image/png": "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\n",
          "text/plain": "<Figure size 432x288 with 1 Axes>"
         },
         "metadata": {
          "needs_background": "light"
         },
         "output_type": "display_data"
        }
       ]
      }
     },
     "b7ef214bc17f49288cbe0a7aa037b629": {
      "model_module": "@jupyter-widgets/controls",
      "model_module_version": "1.5.0",
      "model_name": "AccordionModel",
      "state": {
       "_titles": {
        "0": "Plans",
        "1": "Class",
        "2": "Performance"
       },
       "children": [
        "IPY_MODEL_25b3cf4513c04f3aa7c7d6f8cf029b88",
        "IPY_MODEL_853e1b40aadf46bebaccdaabc2ab0c9b",
        "IPY_MODEL_ed7b902b14544e7b8616690ca55a1d57"
       ],
       "layout": "IPY_MODEL_11783974f1f0418ebcd58b39f78f6cd7"
      }
     },
     "b84c548580c246b292ad185067da8382": {
      "model_module": "@jupyter-widgets/output",
      "model_module_version": "1.0.0",
      "model_name": "OutputModel",
      "state": {
       "layout": "IPY_MODEL_d3367021bb114570b292e48d5533769c",
       "outputs": [
        {
         "data": {
          "image/png": "iVBORw0KGgoAAAANSUhEUgAAAYQAAAEICAYAAABfz4NwAAAABHNCSVQICAgIfAhkiAAAAAlwSFlzAAALEgAACxIB0t1+/AAAADh0RVh0U29mdHdhcmUAbWF0cGxvdGxpYiB2ZXJzaW9uMy4xLjMsIGh0dHA6Ly9tYXRwbG90bGliLm9yZy+AADFEAAAVdklEQVR4nO3df7RdZX3n8fenifJDjJASGEwYgjX+ABztJJNBsdYpzICOGuySGqsmdmEDlGqna2ZZqE5lps0qtZ1OZRQEkRIUoRnEIYsWFaMsB0QwQTQEyCIjElICBEUEliKB7/yxn7s83pwbbu65ufcmeb/WOmvv/d17P+c5Zyf7c/aPc26qCkmSfmWyOyBJmhoMBEkSYCBIkhoDQZIEGAiSpMZAkCQBBoIkqTEQNCUleaLn8WySn/ZMvzvJOUmebtM/TvLNJK/t086Rbf3z+8yrJC9t4+e06VN65k9vtblt+tIkf9HG57Z5/ziszc8lOadn+oVJ/jbJD5I8mWRTkquSLBzhdQ+1O/RaH0pybZJ/P8LyNyR5NMk+PbXretZ/OsnPe6Y/NZr3RnsnA0FTUlUdMPQANgFv7ald3hb7hzb/YODrwP/u09QS4FFgce9OcwQ/Av57kmk70dVjkxzXb0Z7vq8BrwLeAswAXglcCbz5Odo9sL22VwPXA19M8r5h7c8FfgMo4G1D9ap6U897dznwsZ737vSeJnbmvdFewEDQbq+qttHt+GYnmTVs9hLgI8DTwFufo6kvAT8H3rMTT/8x4C9GmPdeYA5wclXdUVXPVNWTVXVVVZ0zmsar6sGq+jhwDvBXSXr/zy4BvgVcCizdiT73rj/a90Z7AQNBu70kz6fbuf2Q7hPvUP036HbIVwIr2zI7UsB/BT6a5HmjfPpPAi9LckKfeScAX66qJ0fZ1o5cDRwCvLyntoQuCC8HTkxy6GgbG8N7o72AgaDd2e8k+THwU+D3gXe0o4UhS4HrqupR4PPAm5IcsqMGq2oVsBV4/yj78DNgOf2PEg4GHhyaSPKadr3jJ0k2jLL9IQ+04czW1uuBI4CVVbUW+H/A7+5Eezv93mjPZyBod7ayqg4EDgXuAOYPzUiyH3AK3adnqupmumsRo9lpfgT4MLDvKPvxaeDQJMNPu/wQOGxooqpub/39bWBnz9nPbsMfteFS4CtV9Uib/jyjPG004HujPZiBoN1e2ymeBpyTZGgH/Ha6i7jnJ3kwyYN0O9XnPDVSVdcDG4E/GOXzPw38N+DPgfTMWg38hyQvGO1r2YG3Aw8DG9oO/XeA3+x5bX8MvDrJq0fZ1pjeG+3ZDATtEarqbuDLwIdaaSlwCd0dPq9pj+OA1yR51Sia/HBPW6PxWbpP/Sf11C4DttDdIXRMkmlJ9gUWjLbRJIcm+UPgo8DZVfUscDLwDHAUv3htrwT+L6PbqQ/63mgPZSBoT/LXwLIkRwDHA3/X7tIZeqylu5PoOU+tVNVNwK2jfeKqeoZupz2zp/Yz4N8BdwL/CPwE2AD8G7pP+Dvy4yRPAuvoblE9paouafOWAn9fVZt6Xx/wCeDdSaaP1GiS2Qz43mjPFf9AjiQJPEKQJDUGgiQJMBAkSY2BIEkCYMS7Eaa6gw8+uObOnTvZ3ZCk3cratWsfqarhv/kF7MaBMHfuXNasWTPZ3ZCk3UqS+0aa5ykjSRJgIEiSGgNBkgQYCJKkxkCQJAEGgiSpMRAkSYCBIElqnjMQklyS5OEkd/TUZia5Psk9bXhQz7yzk2xMsiHJiT31+UnWtXnnJUmr75PkH1r9liRzx/clSpJGYzTfVL6U7g9vXNZTOwtYXVXnJjmrTf9JkqOAxcDRwIuBryZ5WfvjIRcAy4BvAf9E95elrgNOBR6tqpcmWQz8FfDO8XhxmtouPGJ+3/pp962d4J5IglEcIVTVN/jFH/YesghY0cZX0P1Jv6H6lVX1VFXdS/d3aRe2v3M7o6puru4v8lw2bJ2htq4Cjh86epAkTZyxXkM4tKq2ALThIa0+G7i/Z7nNrTa7jQ+v/9I6VbUNeAz41X5PmmRZkjVJ1mzdunWMXZck9TPeF5X7fbKvHdR3tM72xaqLqmpBVS2YNavvj/VJksZorIHwUDsNRBs+3OqbgcN7lpsDPNDqc/rUf2md9sfBX8T2p6gkSbvYWANhFbC0jS8FrumpL253Dh0JzANubaeVHk9ybLs+sGTYOkNtvQP4WrvOIEmaQM95l1GSK4A3Agcn2Qx8FDgXWJnkVGATcApAVa1PshK4E9gGnNnuMAI4g+6Opf3o7i66rtU/A3w2yUa6I4PF4/LKJEk75TkDoareNcKs40dYfjmwvE99DXBMn/rPaIEiSZo8flNZkgQYCJKkxkCQJAEGgiSpMRAkSYCBIElqDARJEmAgSJIaA0GSBBgIkqTGQJAkAQaCJKkxECRJgIEgSWoMBEkSYCBIkhoDQZIEGAiSpMZAkCQBBoIkqTEQJEmAgSBJagwESRJgIEiSGgNBkgQYCJKkxkCQJAEGgiSpMRAkSYCBIElqDARJEmAgSJKagQIhyR8nWZ/kjiRXJNk3ycwk1ye5pw0P6ln+7CQbk2xIcmJPfX6SdW3eeUkySL8kSTtvzIGQZDbwQWBBVR0DTAMWA2cBq6tqHrC6TZPkqDb/aOAk4Pwk01pzFwDLgHntcdJY+yVJGptBTxlNB/ZLMh3YH3gAWASsaPNXACe38UXAlVX1VFXdC2wEFiY5DJhRVTdXVQGX9awjSZogYw6Eqvpn4G+ATcAW4LGq+gpwaFVtactsAQ5pq8wG7u9pYnOrzW7jw+vbSbIsyZoka7Zu3TrWrkuS+hjklNFBdJ/6jwReDLwgyXt2tEqfWu2gvn2x6qKqWlBVC2bNmrWzXZYk7cAgp4xOAO6tqq1V9TRwNfA64KF2Gog2fLgtvxk4vGf9OXSnmDa38eF1SdIEGiQQNgHHJtm/3RV0PHAXsApY2pZZClzTxlcBi5Psk+RIuovHt7bTSo8nOba1s6RnHUnSBJk+1hWr6pYkVwG3AduA7wAXAQcAK5OcShcap7Tl1ydZCdzZlj+zqp5pzZ0BXArsB1zXHpKkCTTmQACoqo8CHx1WforuaKHf8suB5X3qa4BjBumLJGkwflNZkgQYCJKkxkCQJAEGgiSpMRAkSYCBIElqDARJEmAgSJIaA0GSBBgIkqRmoJ+ukCTtOhceMb9v/bT71u6S5/MIQZIEGAiSpMZAkCQBBoIkqTEQJEmAgSBJagwESRJgIEiSGgNBkgQYCJKkxkCQJAEGgiSpMRAkSYCBIElqDARJEmAgSJIaA0GSBBgIkqTGQJAkAQaCJKkxECRJwICBkOTAJFcluTvJXUlem2RmkuuT3NOGB/Usf3aSjUk2JDmxpz4/ybo277wkGaRfkqSdN+gRwseBL1XVK4BXA3cBZwGrq2oesLpNk+QoYDFwNHAScH6Saa2dC4BlwLz2OGnAfkmSdtKYAyHJDOANwGcAqurnVfVjYBGwoi22Aji5jS8Crqyqp6rqXmAjsDDJYcCMqrq5qgq4rGcdSdIEGeQI4SXAVuDvk3wnycVJXgAcWlVbANrwkLb8bOD+nvU3t9rsNj68vp0ky5KsSbJm69atA3RdkjTcIIEwHfjXwAVV9evAk7TTQyPod12gdlDfvlh1UVUtqKoFs2bN2tn+SpJ2YJBA2Axsrqpb2vRVdAHxUDsNRBs+3LP84T3rzwEeaPU5feqSpAk05kCoqgeB+5O8vJWOB+4EVgFLW20pcE0bXwUsTrJPkiPpLh7f2k4rPZ7k2HZ30ZKedSRJE2T6gOt/ALg8yfOB7wO/RxcyK5OcCmwCTgGoqvVJVtKFxjbgzKp6prVzBnApsB9wXXtIkibQQIFQVbcDC/rMOn6E5ZcDy/vU1wDHDNIXSdJg/KayJAkwECRJjYEgSQIMBElSYyBIkgADQZLUGAiSJMBAkCQ1BoIkCTAQJEmNgSBJAgwESVJjIEiSAANBktQYCJIkwECQJDUGgiQJMBAkSY2BIEkCDARJUmMgSJIAA0GS1BgIkiTAQJAkNQaCJAkwECRJjYEgSQIMBElSYyBIkgADQZLUGAiSJMBAkCQ1AwdCkmlJvpPk2jY9M8n1Se5pw4N6lj07ycYkG5Kc2FOfn2Rdm3dekgzaL0nSzpk+Dm38EXAXMKNNnwWsrqpzk5zVpv8kyVHAYuBo4MXAV5O8rKqeAS4AlgHfAv4JOAm4bhz6JmkMLjxift/6afetneCeaCINdISQZA7wH4GLe8qLgBVtfAVwck/9yqp6qqruBTYCC5McBsyoqpurqoDLetaRJE2QQU8Z/R3wIeDZntqhVbUFoA0PafXZwP09y21utdltfHh9O0mWJVmTZM3WrVsH7LokqdeYAyHJW4CHq2q0x5D9rgvUDurbF6suqqoFVbVg1qxZo3xaSdJoDHIN4TjgbUneDOwLzEjyOeChJIdV1ZZ2Oujhtvxm4PCe9ecAD7T6nD51SdIEGvMRQlWdXVVzqmou3cXir1XVe4BVwNK22FLgmja+ClicZJ8kRwLzgFvbaaXHkxzb7i5a0rOOJGmCjMddRsOdC6xMciqwCTgFoKrWJ1kJ3AlsA85sdxgBnAFcCuxHd3eRdxhJ0gQbl0CoqhuAG9r4D4HjR1huObC8T30NcMx49EWSNDZ+U1mSBBgIkqTGQJAkAQaCJKkxECRJgIEgSWoMBEkSYCBIkhoDQZIEGAiSpMZAkCQBBoIkqTEQJEmAgSBJagwESRJgIEiSGgNBkgQYCJKkxkCQJAEGgiSpMRAkSYCBIElqDARJEgDTJ7sDk+HCI+b3rZ9239oJ7okkTR0eIUiSAANBktQYCJIkwECQJDUGgiQJMBAkSY2BIEkCDARJUjPmQEhyeJKvJ7kryfokf9TqM5Ncn+SeNjyoZ52zk2xMsiHJiT31+UnWtXnnJclgL0uStLMGOULYBvznqnolcCxwZpKjgLOA1VU1D1jdpmnzFgNHAycB5yeZ1tq6AFgGzGuPkwbolyRpDMYcCFW1papua+OPA3cBs4FFwIq22Arg5Da+CLiyqp6qqnuBjcDCJIcBM6rq5qoq4LKedSRJE2RcriEkmQv8OnALcGhVbYEuNIBD2mKzgft7VtvcarPb+PB6v+dZlmRNkjVbt24dj65LkpqBAyHJAcAXgP9UVT/Z0aJ9arWD+vbFqouqakFVLZg1a9bOd1aSNKKBAiHJ8+jC4PKqurqVH2qngWjDh1t9M3B4z+pzgAdafU6fuiRpAg1yl1GAzwB3VdXf9sxaBSxt40uBa3rqi5Psk+RIuovHt7bTSo8nOba1uaRnHUnSBBnk7yEcB7wXWJfk9lb7U+BcYGWSU4FNwCkAVbU+yUrgTro7lM6sqmfaemcAlwL7Ade1hyRpAo05EKrqRvqf/wc4foR1lgPL+9TXAMeMtS+SpMH5TWVJEmAgSJIaA0GSBBgIkqTGQJAkAQaCJKkxECRJgIEgSWoMBEkSYCBIkhoDQZIEGAiSpMZAkCQBBoIkqTEQJEmAgSBJagwESRJgIEiSGgNBkgQYCJKkxkCQJAEGgiSpMRAkSYCBIElqDARJEmAgSJIaA0GSBBgIkqTGQJAkAQaCJKkxECRJgIEgSWqmTCAkOSnJhiQbk5w12f2RpL3NlAiEJNOATwJvAo4C3pXkqMntlSTtXaZEIAALgY1V9f2q+jlwJbBokvskSXuV6ZPdgWY2cH/P9Gbg3w5fKMkyYFmbfCLJhjE+38HAI8OLpydjbE7j5GDgEbfDlPJL/1fcNlPD6UnffdgoHTHSjKkSCP3+ldV2haqLgIsGfrJkTVUtGLQdjS+3y9TjNpmadtV2mSqnjDYDh/dMzwEemKS+SNJeaaoEwreBeUmOTPJ8YDGwapL7JEl7lSlxyqiqtiX5Q+DLwDTgkqpavwufcuDTTtol3C5Tj9tkatol2yVV252qlyTthabKKSNJ0iQzECRJwB4YCEneNpafvkjyzV3RH20vyQ1JBr5lLskP0t2PrQG5TSZXkrlJ7hiwjTcmuXaQNqbEReXxVFWrGMMdSlX1ul3Qnb1au2PseVX15GT3ZW+U5KCqenSy+6Hdx251hNBS9O4kFye5I8nlSU5IclOSe5IsTPK+JJ9oy5/Slvtukm+02tFJbk1ye5LvJZnX6k+04Rvbp6Wr2nNdnnRfz0zy5la7Mcl5g6bxnirJK5P8D2AD8LIRFntPkm+27bOwrbew1b7Thi9v9WlJ/ibJurbNPtDTzgeS3NbmvWLXvrLdzpokn0/yW0P/hp+D22RyTU+yor2fVyXZP8mfJfl22yYX9eyLXprkq23fdluSX2ttHNBv3zVqVbXbPIC5wDbgVXRhtha4hO6bzouA/wO8D/hEW34dMLuNH9iG/wt4dxt/PrBfG3+iDd8IPEb35bhfAW4GXg/sS/fzGke25a4Arp3s92SqPIAXAL8H3AjcBLwfeOEIy94AfLqNvwG4o43PAKa38ROAL7TxM4Av9Myb2YY/AD7Qxv8AuHiy34ep9KC7hfstwNXAXcCfAi92m0y9R9u3FXBcm74E+C9D72urfRZ4axu/BXh7G98X2H+kfdfO9GN3PGV0b1WtA0iyHlhdVZVkHd2b2usm4NIkK+n+U0D3Jn04yRzg6qq6p89z3FpVm9tz3N7afQL4flXd25a5gl/8rpJgC/A94P1Vdfcolr8CoKq+kWRGkgOBFwIr2lFbAc9ry54AfKqqtrV1ftTTztB2XQv89uAvY89RVc8A1wLXJpkF/CWwKcnrqurWPqu4TSbX/VV1Uxv/HPBB4N4kH6Lb4c8E1ie5ge6D7hcBqupnAO1goN++68bRdmC3OmXUPNUz/mzP9LMMuyZSVacDH6H7WYzbk/xqVX0eeBvwU+DLSX7rOZ7jmdauv+q1Y+8A/hn4YjvMHfEHtJrhX4Ap4M+Br1fVMcBb6T75QPfej/SFmaFtNbSd1CPJi9L9KOQqutN3p9IFdz9uk8nV7/0/H3hHVb0K+DTd+7+jfVG/fdeo7Y6BMGpJfq2qbqmqP6P7ZcDDk7yE7pP+eXT/Sf7VKJu7G3hJkrlt+p3j3d/dWVV9pareSXd67THgmnaOc+4Iq7wTIMnrgceq6jHgRXShAt2pvyFfAU5PMr2tM3PcX8AeKMnngNuAlwBLquoNVbVi6BNlH26TyfUvk7y2jb+LX3yyfyTJAXQfuqiqnwCbk5wMkGSfJPuPRwf26EAA/rpd2LoD+AbwXbp/9He0w6lXAJeNpqGq+indOdEvJbkReIhux6ceVfXDqvp4Vb2G7pz1MyMs+mi6W30/RfepFeBjwF8muYnu/PeQi4FNwPeSfBf43V3T+z3OSuDlVXXWCKdGh3ObTK67gKVJvkd3eugCuqOCdXTXR7/ds+x7gQ+2Zb8J/Ivx6IA/XbETkhxQVU+0K/efBO6pqv852f2SpPGwpx8hjLffb0cW6+kOpS+c5P5I0rjxCEGSBHiEIElqDARJEmAgSJIaA0GSBBgIkqTm/wP2bdFlic/uYAAAAABJRU5ErkJggg==\n",
          "text/plain": "<Figure size 432x288 with 1 Axes>"
         },
         "metadata": {
          "needs_background": "light"
         },
         "output_type": "display_data"
        }
       ]
      }
     },
     "b89f47ac8672413aa9bb001d2c205aa1": {
      "model_module": "@jupyter-widgets/base",
      "model_module_version": "1.2.0",
      "model_name": "LayoutModel",
      "state": {}
     },
     "b8ac68c7bc694828af58074b71d04a87": {
      "model_module": "@jupyter-widgets/controls",
      "model_module_version": "1.5.0",
      "model_name": "DescriptionStyleModel",
      "state": {
       "description_width": ""
      }
     },
     "b8baa8928b5a4e958d218cb6e2888669": {
      "model_module": "@jupyter-widgets/base",
      "model_module_version": "1.2.0",
      "model_name": "LayoutModel",
      "state": {}
     },
     "b8c9ab6c65624bdd995464940d759b88": {
      "model_module": "@jupyter-widgets/base",
      "model_module_version": "1.2.0",
      "model_name": "LayoutModel",
      "state": {}
     },
     "b9bdc2aa0bfe413f9b2edb34000c0d6c": {
      "model_module": "@jupyter-widgets/controls",
      "model_module_version": "1.5.0",
      "model_name": "DescriptionStyleModel",
      "state": {
       "description_width": ""
      }
     },
     "bab186ae3f344de0902585cfae4daa07": {
      "model_module": "@jupyter-widgets/controls",
      "model_module_version": "1.5.0",
      "model_name": "CheckboxModel",
      "state": {
       "description": "fed_efc",
       "disabled": false,
       "layout": "IPY_MODEL_4318d13a2d8e4b309e8461f1f1eb01b7",
       "style": "IPY_MODEL_6517b53ce23c4cfba5b15f15c6fd27d9",
       "value": false
      }
     },
     "bb3ec440ea3f42efb255f08877e39dde": {
      "model_module": "@jupyter-widgets/base",
      "model_module_version": "1.2.0",
      "model_name": "LayoutModel",
      "state": {}
     },
     "bbe8f106e86948d2b4654b511f27c117": {
      "model_module": "@jupyter-widgets/controls",
      "model_module_version": "1.5.0",
      "model_name": "CheckboxModel",
      "state": {
       "description": "fall_avg_pct_CDF",
       "disabled": false,
       "layout": "IPY_MODEL_83df32561b9442fdaae0308da11d9979",
       "style": "IPY_MODEL_37cc983e5157431aae15bab72d31f3a8",
       "value": false
      }
     },
     "bd3e992c0a3f4a13b8489c48181187a5": {
      "model_module": "@jupyter-widgets/controls",
      "model_module_version": "1.5.0",
      "model_name": "VBoxModel",
      "state": {
       "children": [
        "IPY_MODEL_248bf9cd2a3946b895cefc86ac9d3c6e",
        "IPY_MODEL_fb9460928692400c986e6a3fbc47c86b",
        "IPY_MODEL_3eff68a60cb04ca0abc1010da1e0dd63",
        "IPY_MODEL_52e7b39ff5db400b82f61ceb85313b14",
        "IPY_MODEL_561b392cbf6a4721a4768ec74a0e4341",
        "IPY_MODEL_8522139f9c1f4840870075ea101d6b17",
        "IPY_MODEL_a67beff0d09f47d89a5d187fc94dabf9",
        "IPY_MODEL_9c1ee12da5d842faba94834a0dfdb1d2"
       ],
       "layout": "IPY_MODEL_2f2a76c5ea034afcbf3d44d27ec305fd"
      }
     },
     "bd64f889ac30479cb80915770b18820f": {
      "model_module": "@jupyter-widgets/base",
      "model_module_version": "1.2.0",
      "model_name": "LayoutModel",
      "state": {}
     },
     "bd6ee32c0fbb4c64bf703f7046006918": {
      "model_module": "@jupyter-widgets/output",
      "model_module_version": "1.0.0",
      "model_name": "OutputModel",
      "state": {
       "layout": "IPY_MODEL_f263871b3c1749bdb0b41465eb010ac2",
       "outputs": [
        {
         "data": {
          "application/vnd.jupyter.widget-view+json": {
           "model_id": "",
           "version_major": 2,
           "version_minor": 0
          },
          "text/plain": "interactive(children=(Dropdown(description='x', options=('emplid', 'enrl_ind', 'acad_year', 'count_week_from_t…"
         },
         "metadata": {},
         "output_type": "display_data"
        },
        {
         "data": {
          "application/vnd.jupyter.widget-view+json": {
           "model_id": "",
           "version_major": 2,
           "version_minor": 0
          },
          "text/plain": "interactive(children=(Dropdown(description='x', options=('emplid', 'enrl_ind', 'acad_year', 'count_week_from_t…"
         },
         "metadata": {},
         "output_type": "display_data"
        }
       ]
      }
     },
     "bdd5c284b68a4432875d8882c2d1cf6e": {
      "model_module": "@jupyter-widgets/controls",
      "model_module_version": "1.5.0",
      "model_name": "CheckboxModel",
      "state": {
       "description": "attendee_fced",
       "disabled": false,
       "layout": "IPY_MODEL_71d8078d7a534f67a7899e742b23b22a",
       "style": "IPY_MODEL_55caac12e7ec4d318299083fb02cd361",
       "value": false
      }
     },
     "be0b7834268d447cb4b8af2c5bab88d4": {
      "model_module": "@jupyter-widgets/controls",
      "model_module_version": "1.5.0",
      "model_name": "IntSliderModel",
      "state": {
       "description": "y",
       "layout": "IPY_MODEL_0a5b22a95fe8432490977d3ad56ec892",
       "min": 1,
       "style": "IPY_MODEL_c69471477e694299b5472ef13f30cd0c",
       "value": 50
      }
     },
     "be6167f2c7194754baedf593788ea265": {
      "model_module": "@jupyter-widgets/controls",
      "model_module_version": "1.5.0",
      "model_name": "DescriptionStyleModel",
      "state": {
       "description_width": ""
      }
     },
     "be85d22ebfc14932819e3aaeb273ee68": {
      "model_module": "@jupyter-widgets/base",
      "model_module_version": "1.2.0",
      "model_name": "LayoutModel",
      "state": {}
     },
     "bf95feb8ab3b4a958cb36b298c970004": {
      "model_module": "@jupyter-widgets/controls",
      "model_module_version": "1.5.0",
      "model_name": "CheckboxModel",
      "state": {
       "description": "cum_adj_transfer_hours",
       "disabled": false,
       "layout": "IPY_MODEL_c14d746b44be41c4bd87f186d10d4103",
       "style": "IPY_MODEL_b3cbc7283a344f788449a9a84e919e80",
       "value": false
      }
     },
     "c009d03d570245d4893a00b6afb9bce2": {
      "model_module": "@jupyter-widgets/base",
      "model_module_version": "1.2.0",
      "model_name": "LayoutModel",
      "state": {}
     },
     "c04e8cc26c81442fb351cb5d88f91658": {
      "model_module": "@jupyter-widgets/controls",
      "model_module_version": "1.5.0",
      "model_name": "DropdownModel",
      "state": {
       "_options_labels": [
        "emplid",
        "enrl_ind",
        "acad_year",
        "count_week_from_term_begin_dt",
        "marital_status",
        "resident",
        "parent1_highest_educ_lvl",
        "parent2_highest_educ_lvl"
       ],
       "description": "x",
       "index": 0,
       "layout": "IPY_MODEL_bd64f889ac30479cb80915770b18820f",
       "style": "IPY_MODEL_b9bdc2aa0bfe413f9b2edb34000c0d6c"
      }
     },
     "c10e263bb1cc43b9bf6a3833a2d2e517": {
      "model_module": "@jupyter-widgets/controls",
      "model_module_version": "1.5.0",
      "model_name": "DropdownModel",
      "state": {
       "_options_labels": [
        "emplid",
        "enrl_ind",
        "acad_year",
        "count_week_from_term_begin_dt",
        "marital_status",
        "resident",
        "parent1_highest_educ_lvl",
        "parent2_highest_educ_lvl"
       ],
       "description": "x",
       "index": 0,
       "layout": "IPY_MODEL_5dec1f4c1559494697af19ec23e136fb",
       "style": "IPY_MODEL_1e07fdc7864c4735bfd945b55fedcb86"
      }
     },
     "c118cb2d4e56470aaa60aca54d647642": {
      "model_module": "@jupyter-widgets/base",
      "model_module_version": "1.2.0",
      "model_name": "LayoutModel",
      "state": {}
     },
     "c14d746b44be41c4bd87f186d10d4103": {
      "model_module": "@jupyter-widgets/base",
      "model_module_version": "1.2.0",
      "model_name": "LayoutModel",
      "state": {}
     },
     "c164a5ea8c4c42288a3896de75dfd659": {
      "model_module": "@jupyter-widgets/controls",
      "model_module_version": "1.5.0",
      "model_name": "CheckboxModel",
      "state": {
       "description": "first_gen_flag",
       "disabled": false,
       "layout": "IPY_MODEL_b7b8e959a0384e5c9e94a458dbebc60a",
       "style": "IPY_MODEL_69bc4be1f6f14c2d91cbe7a688202748",
       "value": false
      }
     },
     "c1be10ca75ce445386ff0960cd5935a8": {
      "model_module": "@jupyter-widgets/controls",
      "model_module_version": "1.5.0",
      "model_name": "DescriptionStyleModel",
      "state": {
       "description_width": ""
      }
     },
     "c1cdfd4761914150ab23847f13ba2923": {
      "model_module": "@jupyter-widgets/base",
      "model_module_version": "1.2.0",
      "model_name": "LayoutModel",
      "state": {}
     },
     "c25f48f9eb744f2595c4dd4e51f9c6ea": {
      "model_module": "@jupyter-widgets/base",
      "model_module_version": "1.2.0",
      "model_name": "LayoutModel",
      "state": {}
     },
     "c320d2de83ce4ed0957695169793b517": {
      "model_module": "@jupyter-widgets/controls",
      "model_module_version": "1.5.0",
      "model_name": "CheckboxModel",
      "state": {
       "description": "ipeds_ethnic_group_descrshort",
       "disabled": false,
       "layout": "IPY_MODEL_3ece1fe562d741838ebb675d0906c16f",
       "style": "IPY_MODEL_3655988d915e4ac2b7fa1ca158cf598a",
       "value": false
      }
     },
     "c3836f44edba460f9344304bc92e824a": {
      "model_module": "@jupyter-widgets/controls",
      "model_module_version": "1.5.0",
      "model_name": "CheckboxModel",
      "state": {
       "description": "spring_midterm_gpa_avg",
       "disabled": false,
       "layout": "IPY_MODEL_6a644b6c36b3428bb835c308bed71c0b",
       "style": "IPY_MODEL_63b604b675504550a5d7f7ff843c27f0",
       "value": false
      }
     },
     "c4355d58082b42f3a67a8c1e084692fc": {
      "model_module": "@jupyter-widgets/controls",
      "model_module_version": "1.5.0",
      "model_name": "DescriptionStyleModel",
      "state": {
       "description_width": ""
      }
     },
     "c47634a919fc4b09819864542031e072": {
      "model_module": "@jupyter-widgets/controls",
      "model_module_version": "1.5.0",
      "model_name": "DescriptionStyleModel",
      "state": {
       "description_width": ""
      }
     },
     "c47d2a1e68c2455d8ccfee029313c4ab": {
      "model_module": "@jupyter-widgets/controls",
      "model_module_version": "1.5.0",
      "model_name": "DescriptionStyleModel",
      "state": {
       "description_width": ""
      }
     },
     "c486041674654d2585bd672a59066947": {
      "model_module": "@jupyter-widgets/base",
      "model_module_version": "1.2.0",
      "model_name": "LayoutModel",
      "state": {}
     },
     "c4a02923a3b94d998a523507e80c281d": {
      "model_module": "@jupyter-widgets/base",
      "model_module_version": "1.2.0",
      "model_name": "LayoutModel",
      "state": {}
     },
     "c4a5c7d833aa4f94bfbb8809a56ee259": {
      "model_module": "@jupyter-widgets/base",
      "model_module_version": "1.2.0",
      "model_name": "LayoutModel",
      "state": {}
     },
     "c4b963aba9534fa38ca7d4570e9469e2": {
      "model_module": "@jupyter-widgets/controls",
      "model_module_version": "1.5.0",
      "model_name": "CheckboxModel",
      "state": {
       "description": "spring_withdrawn_hours",
       "disabled": false,
       "layout": "IPY_MODEL_506e3335bebe48609730bf6e8eece273",
       "style": "IPY_MODEL_9ee611a280064380980f45358fe9c8b3",
       "value": false
      }
     },
     "c4eca2a71e7c452daeebf20fbb6ca193": {
      "model_module": "@jupyter-widgets/controls",
      "model_module_version": "1.5.0",
      "model_name": "DescriptionStyleModel",
      "state": {
       "description_width": ""
      }
     },
     "c4ed664bea04468b832924c517639081": {
      "model_module": "@jupyter-widgets/controls",
      "model_module_version": "1.5.0",
      "model_name": "DescriptionStyleModel",
      "state": {
       "description_width": ""
      }
     },
     "c5ab0c7d43ca4e48a221f51242fde9f8": {
      "model_module": "@jupyter-widgets/base",
      "model_module_version": "1.2.0",
      "model_name": "LayoutModel",
      "state": {}
     },
     "c5fd5f61748245808383fe2cde5bfcad": {
      "model_module": "@jupyter-widgets/controls",
      "model_module_version": "1.5.0",
      "model_name": "DescriptionStyleModel",
      "state": {
       "description_width": ""
      }
     },
     "c6335e945fc74d8f8b473963d74ae084": {
      "model_module": "@jupyter-widgets/base",
      "model_module_version": "1.2.0",
      "model_name": "LayoutModel",
      "state": {}
     },
     "c67f83f918d646dc84b15cd25f53cae5": {
      "model_module": "@jupyter-widgets/base",
      "model_module_version": "1.2.0",
      "model_name": "LayoutModel",
      "state": {}
     },
     "c6872fbe13d64f0ca365641870221f05": {
      "model_module": "@jupyter-widgets/base",
      "model_module_version": "1.2.0",
      "model_name": "LayoutModel",
      "state": {}
     },
     "c69471477e694299b5472ef13f30cd0c": {
      "model_module": "@jupyter-widgets/controls",
      "model_module_version": "1.5.0",
      "model_name": "SliderStyleModel",
      "state": {
       "description_width": ""
      }
     },
     "c72b8bf549bc4995bc511b70f0818eeb": {
      "model_module": "@jupyter-widgets/controls",
      "model_module_version": "1.5.0",
      "model_name": "CheckboxModel",
      "state": {
       "description": "attendee_la_bienvenida",
       "disabled": false,
       "layout": "IPY_MODEL_06866cf44dd24f5f9601a6a3562ebe74",
       "style": "IPY_MODEL_e0b7ef499f8a420988c1021e40ecb698",
       "value": false
      }
     },
     "c780448d287f4d4982d5421af580cbda": {
      "model_module": "@jupyter-widgets/controls",
      "model_module_version": "1.5.0",
      "model_name": "DescriptionStyleModel",
      "state": {
       "description_width": ""
      }
     },
     "c799bf75bdbc440d9c3a2456fd0d987a": {
      "model_module": "@jupyter-widgets/controls",
      "model_module_version": "1.5.0",
      "model_name": "DescriptionStyleModel",
      "state": {
       "description_width": ""
      }
     },
     "c7b827e2835f4e988fe64bacd1ed7d51": {
      "model_module": "@jupyter-widgets/controls",
      "model_module_version": "1.5.0",
      "model_name": "DescriptionStyleModel",
      "state": {
       "description_width": ""
      }
     },
     "c7bdc81e6b1d409590a2f0d361df08dd": {
      "model_module": "@jupyter-widgets/controls",
      "model_module_version": "1.5.0",
      "model_name": "CheckboxModel",
      "state": {
       "description": "spring_avg_pct_withdrawn",
       "disabled": false,
       "layout": "IPY_MODEL_93f6a4d70de0485e9c5d7c767d98b8b6",
       "style": "IPY_MODEL_d3fe7c452fec49cdbd7cf4851c269c61",
       "value": false
      }
     },
     "c88a27834e974045a4cb061a69b23b4e": {
      "model_module": "@jupyter-widgets/base",
      "model_module_version": "1.2.0",
      "model_name": "LayoutModel",
      "state": {}
     },
     "c896b70be4e447fcb3ab98e5674583d3": {
      "model_module": "@jupyter-widgets/controls",
      "model_module_version": "1.5.0",
      "model_name": "CheckboxModel",
      "state": {
       "description": "median_value",
       "disabled": false,
       "layout": "IPY_MODEL_bb3ec440ea3f42efb255f08877e39dde",
       "style": "IPY_MODEL_a72dd6210f304f708807de4d92ad9bec",
       "value": false
      }
     },
     "c9bf65ef559c4db2bce5715eef3a3bb0": {
      "model_module": "@jupyter-widgets/controls",
      "model_module_version": "1.5.0",
      "model_name": "DescriptionStyleModel",
      "state": {
       "description_width": ""
      }
     },
     "ca2123aa61b543b09d2ac13afb4adf66": {
      "model_module": "@jupyter-widgets/base",
      "model_module_version": "1.2.0",
      "model_name": "LayoutModel",
      "state": {}
     },
     "ccbd71632020468086c956898e18ead9": {
      "model_module": "@jupyter-widgets/controls",
      "model_module_version": "1.5.0",
      "model_name": "DescriptionStyleModel",
      "state": {
       "description_width": ""
      }
     },
     "ccf1cb0c0a374a289fb06d185f4df88d": {
      "model_module": "@jupyter-widgets/controls",
      "model_module_version": "1.5.0",
      "model_name": "DescriptionStyleModel",
      "state": {
       "description_width": ""
      }
     },
     "cfce4a403e384732b5a2dc5dffc4cb92": {
      "model_module": "@jupyter-widgets/base",
      "model_module_version": "1.2.0",
      "model_name": "LayoutModel",
      "state": {}
     },
     "d05f4d550f304c8ca1c6110b18a52056": {
      "model_module": "@jupyter-widgets/base",
      "model_module_version": "1.2.0",
      "model_name": "LayoutModel",
      "state": {}
     },
     "d06046ea22a949fa8d998d865436cdc2": {
      "model_module": "@jupyter-widgets/controls",
      "model_module_version": "1.5.0",
      "model_name": "ButtonStyleModel",
      "state": {}
     },
     "d0b09fc200a74775986ee20be4e41293": {
      "model_module": "@jupyter-widgets/controls",
      "model_module_version": "1.5.0",
      "model_name": "DescriptionStyleModel",
      "state": {
       "description_width": ""
      }
     },
     "d0c9e94d6e044570ae44d23e2aa28cf9": {
      "model_module": "@jupyter-widgets/base",
      "model_module_version": "1.2.0",
      "model_name": "LayoutModel",
      "state": {}
     },
     "d180512258da4464b79fb14f8618bac6": {
      "model_module": "@jupyter-widgets/controls",
      "model_module_version": "1.5.0",
      "model_name": "CheckboxModel",
      "state": {
       "description": "fed_need",
       "disabled": false,
       "layout": "IPY_MODEL_7d5746e933c2470ba1f21d275cebdd12",
       "style": "IPY_MODEL_910ead14c26a47a18a76b145cca3b753",
       "value": false
      }
     },
     "d18112dc8f344f9bba6350ed93da23b0": {
      "model_module": "@jupyter-widgets/controls",
      "model_module_version": "1.5.0",
      "model_name": "CheckboxModel",
      "state": {
       "description": "suburb_small",
       "disabled": false,
       "layout": "IPY_MODEL_f23fb7a493f141778faa6eaea18c9c7f",
       "style": "IPY_MODEL_3001c92489ec4cc2aa938e2ee3140434",
       "value": false
      }
     },
     "d1ef965ea95442e8b10052db7257f3e0": {
      "model_module": "@jupyter-widgets/controls",
      "model_module_version": "1.5.0",
      "model_name": "DropdownModel",
      "state": {
       "_options_labels": [
        "emplid",
        "enrl_ind",
        "acad_year",
        "count_week_from_term_begin_dt",
        "marital_status",
        "resident",
        "parent1_highest_educ_lvl",
        "parent2_highest_educ_lvl"
       ],
       "description": "x",
       "index": 0,
       "layout": "IPY_MODEL_a8f177e1a6084d7a83fe0c9bd1f65fec",
       "style": "IPY_MODEL_d4c863753fae4cd2b755b8c1e840484e"
      }
     },
     "d1fcf75f2633432bb88b6402e35b50a7": {
      "model_module": "@jupyter-widgets/controls",
      "model_module_version": "1.5.0",
      "model_name": "CheckboxModel",
      "state": {
       "description": "term_credit_hours",
       "disabled": false,
       "layout": "IPY_MODEL_44a370b25ad94852bb8e4d6ca21de5de",
       "style": "IPY_MODEL_6116a62fc69d46e88dee51515566cfd0",
       "value": false
      }
     },
     "d211fbce13c44d9d90a808f85aca1c20": {
      "model_module": "@jupyter-widgets/base",
      "model_module_version": "1.2.0",
      "model_name": "LayoutModel",
      "state": {}
     },
     "d24e44ca9ab9400b90fcef0c1faa03bb": {
      "model_module": "@jupyter-widgets/controls",
      "model_module_version": "1.5.0",
      "model_name": "DescriptionStyleModel",
      "state": {
       "description_width": ""
      }
     },
     "d3367021bb114570b292e48d5533769c": {
      "model_module": "@jupyter-widgets/base",
      "model_module_version": "1.2.0",
      "model_name": "LayoutModel",
      "state": {}
     },
     "d3e553d0381c406ead1d0f1672828751": {
      "model_module": "@jupyter-widgets/controls",
      "model_module_version": "1.5.0",
      "model_name": "ButtonStyleModel",
      "state": {}
     },
     "d3e62f7c90fe4d96a23e910377f6ba2f": {
      "model_module": "@jupyter-widgets/controls",
      "model_module_version": "1.5.0",
      "model_name": "DescriptionStyleModel",
      "state": {
       "description_width": ""
      }
     },
     "d3fe7c452fec49cdbd7cf4851c269c61": {
      "model_module": "@jupyter-widgets/controls",
      "model_module_version": "1.5.0",
      "model_name": "DescriptionStyleModel",
      "state": {
       "description_width": ""
      }
     },
     "d43314b3b3ab40c0beeb8c394219b3ad": {
      "model_module": "@jupyter-widgets/base",
      "model_module_version": "1.2.0",
      "model_name": "LayoutModel",
      "state": {}
     },
     "d4c863753fae4cd2b755b8c1e840484e": {
      "model_module": "@jupyter-widgets/controls",
      "model_module_version": "1.5.0",
      "model_name": "DescriptionStyleModel",
      "state": {
       "description_width": ""
      }
     },
     "d4fa496397e749ff81e005c64b0a7a96": {
      "model_module": "@jupyter-widgets/controls",
      "model_module_version": "1.5.0",
      "model_name": "DescriptionStyleModel",
      "state": {
       "description_width": ""
      }
     },
     "d527bb06b2124228a7cf10ac8a1c1e2e": {
      "model_module": "@jupyter-widgets/output",
      "model_module_version": "1.0.0",
      "model_name": "OutputModel",
      "state": {
       "layout": "IPY_MODEL_2525a1de146245a7a1db57c9584256ad",
       "outputs": [
        {
         "data": {
          "application/vnd.jupyter.widget-view+json": {
           "model_id": "",
           "version_major": 2,
           "version_minor": 0
          },
          "text/plain": "interactive(children=(Dropdown(description='x', options=('emplid', 'enrl_ind', 'acad_year', 'count_week_from_t…"
         },
         "metadata": {},
         "output_type": "display_data"
        },
        {
         "data": {
          "application/vnd.jupyter.widget-view+json": {
           "model_id": "",
           "version_major": 2,
           "version_minor": 0
          },
          "text/plain": "interactive(children=(Dropdown(description='x', options=('emplid', 'enrl_ind', 'acad_year', 'count_week_from_t…"
         },
         "metadata": {},
         "output_type": "display_data"
        }
       ]
      }
     },
     "d62b9130a85441ceaf70bfb311b346cf": {
      "model_module": "@jupyter-widgets/controls",
      "model_module_version": "1.5.0",
      "model_name": "DescriptionStyleModel",
      "state": {
       "description_width": ""
      }
     },
     "d7806e3d3c794978a10b579d3a019439": {
      "model_module": "@jupyter-widgets/controls",
      "model_module_version": "1.5.0",
      "model_name": "DescriptionStyleModel",
      "state": {
       "description_width": ""
      }
     },
     "d81d08978470483ca8693728cdb47fd6": {
      "model_module": "@jupyter-widgets/controls",
      "model_module_version": "1.5.0",
      "model_name": "VBoxModel",
      "state": {
       "_dom_classes": [
        "widget-interact"
       ],
       "children": [
        "IPY_MODEL_3b3fef828ef1411abf1e260e30f7d1b7",
        "IPY_MODEL_5f712a5570bb4e10be5d1ec44ed4fcf0",
        "IPY_MODEL_ef0c378d6dc14cad9664c8b5fc115660"
       ],
       "layout": "IPY_MODEL_44908691572d4f2aa59eefb515632730"
      }
     },
     "d85a040e61834d959b3e819e9e1be9ff": {
      "model_module": "@jupyter-widgets/base",
      "model_module_version": "1.2.0",
      "model_name": "LayoutModel",
      "state": {}
     },
     "d86ed11a0d23491f9869f22934d89c07": {
      "model_module": "@jupyter-widgets/output",
      "model_module_version": "1.0.0",
      "model_name": "OutputModel",
      "state": {
       "layout": "IPY_MODEL_c486041674654d2585bd672a59066947",
       "outputs": [
        {
         "data": {
          "image/png": "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\n",
          "text/plain": "<Figure size 432x288 with 1 Axes>"
         },
         "metadata": {
          "needs_background": "light"
         },
         "output_type": "display_data"
        }
       ]
      }
     },
     "d875b9c3870a49b8a564050b2d478c46": {
      "model_module": "@jupyter-widgets/controls",
      "model_module_version": "1.5.0",
      "model_name": "CheckboxModel",
      "state": {
       "description": "fall_lec_contact_hrs",
       "disabled": false,
       "layout": "IPY_MODEL_d85a040e61834d959b3e819e9e1be9ff",
       "style": "IPY_MODEL_d0b09fc200a74775986ee20be4e41293",
       "value": false
      }
     },
     "d8a3f71a9d7f48d2bdd125ca764b8195": {
      "model_module": "@jupyter-widgets/controls",
      "model_module_version": "1.5.0",
      "model_name": "CheckboxModel",
      "state": {
       "description": "vcea_mech",
       "disabled": false,
       "layout": "IPY_MODEL_f146f8d7907a4a418959608a97bd6ed3",
       "style": "IPY_MODEL_9306afc18d484366878cb83d6d89a55b",
       "value": false
      }
     },
     "d8bc9bc630c7445abc8d09b317bfba9f": {
      "model_module": "@jupyter-widgets/base",
      "model_module_version": "1.2.0",
      "model_name": "LayoutModel",
      "state": {}
     },
     "d8ecacbc2ab14778a8070c256149bfa9": {
      "model_module": "@jupyter-widgets/output",
      "model_module_version": "1.0.0",
      "model_name": "OutputModel",
      "state": {
       "layout": "IPY_MODEL_a1bdba61808044c487f68af7e9321d09"
      }
     },
     "d9954c60727d47ea984c84a0d4aa9157": {
      "model_module": "@jupyter-widgets/controls",
      "model_module_version": "1.5.0",
      "model_name": "DescriptionStyleModel",
      "state": {
       "description_width": ""
      }
     },
     "d9f73946038242c0ad7a1f4b6ca2f11c": {
      "model_module": "@jupyter-widgets/controls",
      "model_module_version": "1.5.0",
      "model_name": "DescriptionStyleModel",
      "state": {
       "description_width": ""
      }
     },
     "dad8151f9be34bc4ba1a8e927976c188": {
      "model_module": "@jupyter-widgets/controls",
      "model_module_version": "1.5.0",
      "model_name": "CheckboxModel",
      "state": {
       "description": "attendee_imagine_tomorrow",
       "disabled": false,
       "layout": "IPY_MODEL_f5830b7e331b44dab1dcd02b880c2006",
       "style": "IPY_MODEL_1503687422544f5dac43918898228adb",
       "value": false
      }
     },
     "db11b64f598d417db3b6fafed5bc605a": {
      "model_module": "@jupyter-widgets/controls",
      "model_module_version": "1.5.0",
      "model_name": "CheckboxModel",
      "state": {
       "description": "race_american_indian",
       "disabled": false,
       "layout": "IPY_MODEL_97bc9592403e47fe8adae787d5bc0356",
       "style": "IPY_MODEL_f5e0831b83684142a18278b242fbb359",
       "value": false
      }
     },
     "dc355aad480b48419dd2d08e7ad34043": {
      "model_module": "@jupyter-widgets/base",
      "model_module_version": "1.2.0",
      "model_name": "LayoutModel",
      "state": {}
     },
     "dc5e4922b89642d2b2954ca1bec167ab": {
      "model_module": "@jupyter-widgets/controls",
      "model_module_version": "1.5.0",
      "model_name": "CheckboxModel",
      "state": {
       "description": "pct_hawi",
       "disabled": false,
       "layout": "IPY_MODEL_d05f4d550f304c8ca1c6110b18a52056",
       "style": "IPY_MODEL_4cf554c2f9b24e4bad3802b1a08e4f23",
       "value": false
      }
     },
     "dcf065db439d4f278f47e01ab072de6e": {
      "model_module": "@jupyter-widgets/controls",
      "model_module_version": "1.5.0",
      "model_name": "CheckboxModel",
      "state": {
       "description": "nursing",
       "disabled": false,
       "layout": "IPY_MODEL_952d6706b8784325a7a92d6564d429ec",
       "style": "IPY_MODEL_7f206b9c70974c428131036d1429d8de",
       "value": false
      }
     },
     "dd6c95236bc6400fbca1f4a32c5df4eb": {
      "model_module": "@jupyter-widgets/base",
      "model_module_version": "1.2.0",
      "model_name": "LayoutModel",
      "state": {}
     },
     "de0e0afea5ea42c89301bcbf05428278": {
      "model_module": "@jupyter-widgets/controls",
      "model_module_version": "1.5.0",
      "model_name": "VBoxModel",
      "state": {
       "_dom_classes": [
        "widget-interact"
       ],
       "children": [
        "IPY_MODEL_7b75a4465d7b4375a92fb8aeaf1927c5",
        "IPY_MODEL_997835864cda497e907775a347364735",
        "IPY_MODEL_41ea17bcfe154ca9b96f2d092185836f"
       ],
       "layout": "IPY_MODEL_febad2c97ffc43cbbd78a9ceeba944c0"
      }
     },
     "de3425d55899468dac6f4575c90b7a95": {
      "model_module": "@jupyter-widgets/controls",
      "model_module_version": "1.5.0",
      "model_name": "DescriptionStyleModel",
      "state": {
       "description_width": ""
      }
     },
     "de8dcdffbad04b12b734db58865eb0b7": {
      "model_module": "@jupyter-widgets/base",
      "model_module_version": "1.2.0",
      "model_name": "LayoutModel",
      "state": {}
     },
     "df0dd2310cb34ae982b9e9887038de7d": {
      "model_module": "@jupyter-widgets/controls",
      "model_module_version": "1.5.0",
      "model_name": "CheckboxModel",
      "state": {
       "description": "attendee_experience",
       "disabled": false,
       "layout": "IPY_MODEL_a92948836d304a42ad9f8724dfe03c32",
       "style": "IPY_MODEL_96f757b9a6984165902cfc1d515751fc",
       "value": false
      }
     },
     "df214b0c2811493b821fae2aaaf6da86": {
      "model_module": "@jupyter-widgets/controls",
      "model_module_version": "1.5.0",
      "model_name": "DescriptionStyleModel",
      "state": {
       "description_width": ""
      }
     },
     "df65a53e854547a4b1f9109770c377b5": {
      "model_module": "@jupyter-widgets/base",
      "model_module_version": "1.2.0",
      "model_name": "LayoutModel",
      "state": {}
     },
     "df7f8f4f927c4c819f7c5ac3970b5a81": {
      "model_module": "@jupyter-widgets/controls",
      "model_module_version": "1.5.0",
      "model_name": "CheckboxModel",
      "state": {
       "description": "rural_remote",
       "disabled": false,
       "layout": "IPY_MODEL_22436e1a98a44df0828d4f4ee7a21564",
       "style": "IPY_MODEL_9daeed51acac47768656c2abc53fc3df",
       "value": false
      }
     },
     "dfda081b07444d04af0183efd7a50528": {
      "model_module": "@jupyter-widgets/controls",
      "model_module_version": "1.5.0",
      "model_name": "CheckboxModel",
      "state": {
       "description": "spring_lec_count",
       "disabled": false,
       "layout": "IPY_MODEL_30a5982f63e94b6185ad292fe6c30b5a",
       "style": "IPY_MODEL_76f939fd617d4d71894c84f47d97424f",
       "value": false
      }
     },
     "e046bdbea5f94392955f484f0ccc06ef": {
      "model_module": "@jupyter-widgets/controls",
      "model_module_version": "1.5.0",
      "model_name": "CheckboxModel",
      "state": {
       "description": "gini_indx",
       "disabled": false,
       "layout": "IPY_MODEL_3889cce3d65044ab870ddabfd899072b",
       "style": "IPY_MODEL_5098c30254d246f185ea6623908811cc",
       "value": false
      }
     },
     "e0b7ef499f8a420988c1021e40ecb698": {
      "model_module": "@jupyter-widgets/controls",
      "model_module_version": "1.5.0",
      "model_name": "DescriptionStyleModel",
      "state": {
       "description_width": ""
      }
     },
     "e16ec1de8955412989bfb298d6b8b688": {
      "model_module": "@jupyter-widgets/controls",
      "model_module_version": "1.5.0",
      "model_name": "IntSliderModel",
      "state": {
       "description": "y",
       "layout": "IPY_MODEL_e7fb3ce0c24f4867a005c4abed33e292",
       "min": 1,
       "style": "IPY_MODEL_762217f495e243f8a133e99e77850a8b",
       "value": 50
      }
     },
     "e1edbb2da3eb4c12909b04f5f86c06e6": {
      "model_module": "@jupyter-widgets/base",
      "model_module_version": "1.2.0",
      "model_name": "LayoutModel",
      "state": {}
     },
     "e1f0e3fa9d2444d49ad2a00fbd0cd248": {
      "model_module": "@jupyter-widgets/controls",
      "model_module_version": "1.5.0",
      "model_name": "CheckboxModel",
      "state": {
       "description": "high_school_gpa",
       "disabled": false,
       "layout": "IPY_MODEL_07a3ebf5036249b19f07d18fc9c401ed",
       "style": "IPY_MODEL_d7806e3d3c794978a10b579d3a019439",
       "value": false
      }
     },
     "e2329fde9fdd499d8cbb955fbd3a1c92": {
      "model_module": "@jupyter-widgets/controls",
      "model_module_version": "1.5.0",
      "model_name": "DescriptionStyleModel",
      "state": {
       "description_width": ""
      }
     },
     "e27f79d617ba4835a671a83f6a6477d2": {
      "model_module": "@jupyter-widgets/base",
      "model_module_version": "1.2.0",
      "model_name": "LayoutModel",
      "state": {}
     },
     "e3b5fa43847d46148c86264645818885": {
      "model_module": "@jupyter-widgets/controls",
      "model_module_version": "1.5.0",
      "model_name": "IntSliderModel",
      "state": {
       "description": "y",
       "layout": "IPY_MODEL_a4e2be54d7e747baa53c37acb56e4e61",
       "min": 1,
       "style": "IPY_MODEL_0dbd013b4dfa4ae5b59246241dfdbec1",
       "value": 50
      }
     },
     "e6a25d9c945e42f1bcb256ea43e320c7": {
      "model_module": "@jupyter-widgets/controls",
      "model_module_version": "1.5.0",
      "model_name": "DescriptionStyleModel",
      "state": {
       "description_width": ""
      }
     },
     "e6f98085278d41b49b516bea53f86f27": {
      "model_module": "@jupyter-widgets/base",
      "model_module_version": "1.2.0",
      "model_name": "LayoutModel",
      "state": {}
     },
     "e74c68101dae4df6b6c7adfb1d3e68c7": {
      "model_module": "@jupyter-widgets/controls",
      "model_module_version": "1.5.0",
      "model_name": "SliderStyleModel",
      "state": {
       "description_width": ""
      }
     },
     "e7fb3ce0c24f4867a005c4abed33e292": {
      "model_module": "@jupyter-widgets/base",
      "model_module_version": "1.2.0",
      "model_name": "LayoutModel",
      "state": {}
     },
     "e8ba54880fa24df782bf02cc531c665a": {
      "model_module": "@jupyter-widgets/controls",
      "model_module_version": "1.5.0",
      "model_name": "DescriptionStyleModel",
      "state": {
       "description_width": ""
      }
     },
     "e8e6e670c6114a5182c1eba8e2779cdc": {
      "model_module": "@jupyter-widgets/controls",
      "model_module_version": "1.5.0",
      "model_name": "DescriptionStyleModel",
      "state": {
       "description_width": ""
      }
     },
     "e94021a41e1e456e93721bfcf8d1a494": {
      "model_module": "@jupyter-widgets/controls",
      "model_module_version": "1.5.0",
      "model_name": "DescriptionStyleModel",
      "state": {
       "description_width": ""
      }
     },
     "e9a64f3c4e494b0b826ea5b6131a8c10": {
      "model_module": "@jupyter-widgets/controls",
      "model_module_version": "1.5.0",
      "model_name": "CheckboxModel",
      "state": {
       "description": "attendee_fcoc",
       "disabled": false,
       "layout": "IPY_MODEL_4b7424f2b583449e8a6ab373b58ec873",
       "style": "IPY_MODEL_287d091b24b74ef2af54c474e67aea70",
       "value": false
      }
     },
     "e9cdf2c36e4c46c697c66a2976459c4e": {
      "model_module": "@jupyter-widgets/base",
      "model_module_version": "1.2.0",
      "model_name": "LayoutModel",
      "state": {}
     },
     "e9e7929ed7404f859887db21b7966a09": {
      "model_module": "@jupyter-widgets/controls",
      "model_module_version": "1.5.0",
      "model_name": "ButtonStyleModel",
      "state": {}
     },
     "ea61587a72c743e3a0816b0a2fa87251": {
      "model_module": "@jupyter-widgets/controls",
      "model_module_version": "1.5.0",
      "model_name": "CheckboxModel",
      "state": {
       "description": "distance",
       "disabled": false,
       "layout": "IPY_MODEL_10626e12054549ffa7b989ab16bbef4c",
       "style": "IPY_MODEL_14233da4646f4851bf36d9c5015ef1a4",
       "value": false
      }
     },
     "eb0c6daf415b45418b5239ae49f53b62": {
      "model_module": "@jupyter-widgets/base",
      "model_module_version": "1.2.0",
      "model_name": "LayoutModel",
      "state": {}
     },
     "ebbfedd7dbde47d09b5b632696df2e8e": {
      "model_module": "@jupyter-widgets/controls",
      "model_module_version": "1.5.0",
      "model_name": "CheckboxModel",
      "state": {
       "description": "pct_asn",
       "disabled": false,
       "layout": "IPY_MODEL_a837d62337ce492a86394b65bce1d703",
       "style": "IPY_MODEL_2a9a679b42c24b12a96b58a08af276bf",
       "value": false
      }
     },
     "ec9f62fb55dc4ea9ad091cd7ca12224a": {
      "model_module": "@jupyter-widgets/base",
      "model_module_version": "1.2.0",
      "model_name": "LayoutModel",
      "state": {
       "flex_flow": "row wrap"
      }
     },
     "ed27223790dc4994b5dd3185a8315c6a": {
      "model_module": "@jupyter-widgets/controls",
      "model_module_version": "1.5.0",
      "model_name": "DescriptionStyleModel",
      "state": {
       "description_width": ""
      }
     },
     "ed33fbf913f744beb44728830cf739ae": {
      "model_module": "@jupyter-widgets/controls",
      "model_module_version": "1.5.0",
      "model_name": "CheckboxModel",
      "state": {
       "description": "vcea_eecs",
       "disabled": false,
       "layout": "IPY_MODEL_1d69214a2727404d9dd3197d9e56664f",
       "style": "IPY_MODEL_30d409e161004bfcad8ed99f6be0907c",
       "value": false
      }
     },
     "ed7b902b14544e7b8616690ca55a1d57": {
      "model_module": "@jupyter-widgets/controls",
      "model_module_version": "1.5.0",
      "model_name": "VBoxModel",
      "state": {
       "children": [
        "IPY_MODEL_e1f0e3fa9d2444d49ad2a00fbd0cd248",
        "IPY_MODEL_27af6a2d3c6e40ffb881680b17e80698",
        "IPY_MODEL_05562c0d78c2478b92becaafdcdf11df",
        "IPY_MODEL_2de1743059d642ad9e3f221825898967",
        "IPY_MODEL_c3836f44edba460f9344304bc92e824a",
        "IPY_MODEL_2eb6f1e771ed4f90b05f5bdeeaab443d",
        "IPY_MODEL_25262e33ef6741d78c0fb13d5116b32f",
        "IPY_MODEL_c4b963aba9534fa38ca7d4570e9469e2"
       ],
       "layout": "IPY_MODEL_2cf55b9771ce4899940c967878a7bff8"
      }
     },
     "ed9d643889c54bf0a13280e58a69dc83": {
      "model_module": "@jupyter-widgets/base",
      "model_module_version": "1.2.0",
      "model_name": "LayoutModel",
      "state": {}
     },
     "ee41194bbcc942c9b797e0a01b27cad3": {
      "model_module": "@jupyter-widgets/controls",
      "model_module_version": "1.5.0",
      "model_name": "VBoxModel",
      "state": {
       "_dom_classes": [
        "widget-interact"
       ],
       "children": [
        "IPY_MODEL_66d078e858d74d34b15afe0afa8e1a2a",
        "IPY_MODEL_5dd63a5eb6954b8c99ab8c83a8de403b",
        "IPY_MODEL_b84c548580c246b292ad185067da8382"
       ],
       "layout": "IPY_MODEL_3a0936b92ce9451da08adb790d9b0e44"
      }
     },
     "eeb8cd4ad454442cb58c28cb1478b9b6": {
      "model_module": "@jupyter-widgets/controls",
      "model_module_version": "1.5.0",
      "model_name": "CheckboxModel",
      "state": {
       "description": "fall_avg_pct_CDFW",
       "disabled": false,
       "layout": "IPY_MODEL_411cb2a1624b422996a7fc8ecde2d9b4",
       "style": "IPY_MODEL_75d7f37effe844e4a2fbb53c9bc06dfe",
       "value": false
      }
     },
     "eecdbec27bcf4664842fc1971d878768": {
      "model_module": "@jupyter-widgets/base",
      "model_module_version": "1.2.0",
      "model_name": "LayoutModel",
      "state": {}
     },
     "eeef5c462d3641fa9b09c4f3e5d54c66": {
      "model_module": "@jupyter-widgets/controls",
      "model_module_version": "1.5.0",
      "model_name": "DescriptionStyleModel",
      "state": {
       "description_width": ""
      }
     },
     "ef0c378d6dc14cad9664c8b5fc115660": {
      "model_module": "@jupyter-widgets/output",
      "model_module_version": "1.0.0",
      "model_name": "OutputModel",
      "state": {
       "layout": "IPY_MODEL_16d60726a44b4d5fad4642cae80ef5bb",
       "outputs": [
        {
         "data": {
          "image/png": "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\n",
          "text/plain": "<Figure size 432x288 with 1 Axes>"
         },
         "metadata": {
          "needs_background": "light"
         },
         "output_type": "display_data"
        }
       ]
      }
     },
     "ef8a792b7f27452b847747b3aa29c6dc": {
      "model_module": "@jupyter-widgets/controls",
      "model_module_version": "1.5.0",
      "model_name": "DescriptionStyleModel",
      "state": {
       "description_width": ""
      }
     },
     "efa719500c8941e8a00f6c9ff989f968": {
      "model_module": "@jupyter-widgets/controls",
      "model_module_version": "1.5.0",
      "model_name": "CheckboxModel",
      "state": {
       "description": "unmet_need_ofr",
       "disabled": false,
       "layout": "IPY_MODEL_a1f39ad45b0748f89d0bce8b81699ed4",
       "style": "IPY_MODEL_a831b9effe7b41b7b81303508ee085a2",
       "value": false
      }
     },
     "f01eee906bf84df197a8627e1032973e": {
      "model_module": "@jupyter-widgets/base",
      "model_module_version": "1.2.0",
      "model_name": "LayoutModel",
      "state": {}
     },
     "f146f8d7907a4a418959608a97bd6ed3": {
      "model_module": "@jupyter-widgets/base",
      "model_module_version": "1.2.0",
      "model_name": "LayoutModel",
      "state": {}
     },
     "f19bf8c209a64797b80db4d4491fe0d0": {
      "model_module": "@jupyter-widgets/controls",
      "model_module_version": "1.5.0",
      "model_name": "DropdownModel",
      "state": {
       "_options_labels": [
        "emplid",
        "enrl_ind",
        "acad_year",
        "count_week_from_term_begin_dt",
        "marital_status",
        "resident",
        "parent1_highest_educ_lvl",
        "parent2_highest_educ_lvl"
       ],
       "description": "x",
       "index": 0,
       "layout": "IPY_MODEL_9fe27b3d089d4fea8db26f5977de53db",
       "style": "IPY_MODEL_2c5554b3bfaf416999b27e2eb1dee8d7"
      }
     },
     "f1ceea1ba9a04165b88cef8a5fdffdd4": {
      "model_module": "@jupyter-widgets/base",
      "model_module_version": "1.2.0",
      "model_name": "LayoutModel",
      "state": {}
     },
     "f23fb7a493f141778faa6eaea18c9c7f": {
      "model_module": "@jupyter-widgets/base",
      "model_module_version": "1.2.0",
      "model_name": "LayoutModel",
      "state": {}
     },
     "f263871b3c1749bdb0b41465eb010ac2": {
      "model_module": "@jupyter-widgets/base",
      "model_module_version": "1.2.0",
      "model_name": "LayoutModel",
      "state": {}
     },
     "f2ba87c812a94c48a4759deeeff7fd32": {
      "model_module": "@jupyter-widgets/base",
      "model_module_version": "1.2.0",
      "model_name": "LayoutModel",
      "state": {
       "flex_flow": "row wrap"
      }
     },
     "f2c0aeaee5e945059da247ff0edcd650": {
      "model_module": "@jupyter-widgets/base",
      "model_module_version": "1.2.0",
      "model_name": "LayoutModel",
      "state": {}
     },
     "f2c755e3086b487eb1ebd12b7159444f": {
      "model_module": "@jupyter-widgets/output",
      "model_module_version": "1.0.0",
      "model_name": "OutputModel",
      "state": {
       "layout": "IPY_MODEL_4e412991105b414cbeeda3bca0846ac5",
       "outputs": [
        {
         "ename": "ValueError",
         "evalue": "No axis named emplid for object type Series",
         "output_type": "error",
         "traceback": [
          "\u001b[1;31m---------------------------------------------------------------------------\u001b[0m",
          "\u001b[1;31mKeyError\u001b[0m                                  Traceback (most recent call last)",
          "\u001b[1;32m~\\AppData\\Local\\Continuum\\anaconda3\\envs\\analytics_env\\lib\\site-packages\\pandas\\core\\generic.py\u001b[0m in \u001b[0;36m_get_axis_number\u001b[1;34m(cls, axis)\u001b[0m\n\u001b[0;32m    459\u001b[0m         \u001b[1;32mtry\u001b[0m\u001b[1;33m:\u001b[0m\u001b[1;33m\u001b[0m\u001b[1;33m\u001b[0m\u001b[0m\n\u001b[1;32m--> 460\u001b[1;33m             \u001b[1;32mreturn\u001b[0m \u001b[0mcls\u001b[0m\u001b[1;33m.\u001b[0m\u001b[0m_AXIS_TO_AXIS_NUMBER\u001b[0m\u001b[1;33m[\u001b[0m\u001b[0maxis\u001b[0m\u001b[1;33m]\u001b[0m\u001b[1;33m\u001b[0m\u001b[1;33m\u001b[0m\u001b[0m\n\u001b[0m\u001b[0;32m    461\u001b[0m         \u001b[1;32mexcept\u001b[0m \u001b[0mKeyError\u001b[0m\u001b[1;33m:\u001b[0m\u001b[1;33m\u001b[0m\u001b[1;33m\u001b[0m\u001b[0m\n",
          "\u001b[1;31mKeyError\u001b[0m: 'emplid'",
          "\nDuring handling of the above exception, another exception occurred:\n",
          "\u001b[1;31mValueError\u001b[0m                                Traceback (most recent call last)",
          "\u001b[1;32m~\\AppData\\Local\\Continuum\\anaconda3\\envs\\analytics_env\\lib\\site-packages\\ipywidgets\\widgets\\interaction.py\u001b[0m in \u001b[0;36mupdate\u001b[1;34m(self, *args)\u001b[0m\n\u001b[0;32m    254\u001b[0m                     \u001b[0mvalue\u001b[0m \u001b[1;33m=\u001b[0m \u001b[0mwidget\u001b[0m\u001b[1;33m.\u001b[0m\u001b[0mget_interact_value\u001b[0m\u001b[1;33m(\u001b[0m\u001b[1;33m)\u001b[0m\u001b[1;33m\u001b[0m\u001b[1;33m\u001b[0m\u001b[0m\n\u001b[0;32m    255\u001b[0m                     \u001b[0mself\u001b[0m\u001b[1;33m.\u001b[0m\u001b[0mkwargs\u001b[0m\u001b[1;33m[\u001b[0m\u001b[0mwidget\u001b[0m\u001b[1;33m.\u001b[0m\u001b[0m_kwarg\u001b[0m\u001b[1;33m]\u001b[0m \u001b[1;33m=\u001b[0m \u001b[0mvalue\u001b[0m\u001b[1;33m\u001b[0m\u001b[1;33m\u001b[0m\u001b[0m\n\u001b[1;32m--> 256\u001b[1;33m                 \u001b[0mself\u001b[0m\u001b[1;33m.\u001b[0m\u001b[0mresult\u001b[0m \u001b[1;33m=\u001b[0m \u001b[0mself\u001b[0m\u001b[1;33m.\u001b[0m\u001b[0mf\u001b[0m\u001b[1;33m(\u001b[0m\u001b[1;33m**\u001b[0m\u001b[0mself\u001b[0m\u001b[1;33m.\u001b[0m\u001b[0mkwargs\u001b[0m\u001b[1;33m)\u001b[0m\u001b[1;33m\u001b[0m\u001b[1;33m\u001b[0m\u001b[0m\n\u001b[0m\u001b[0;32m    257\u001b[0m                 \u001b[0mshow_inline_matplotlib_plots\u001b[0m\u001b[1;33m(\u001b[0m\u001b[1;33m)\u001b[0m\u001b[1;33m\u001b[0m\u001b[1;33m\u001b[0m\u001b[0m\n\u001b[0;32m    258\u001b[0m                 \u001b[1;32mif\u001b[0m \u001b[0mself\u001b[0m\u001b[1;33m.\u001b[0m\u001b[0mauto_display\u001b[0m \u001b[1;32mand\u001b[0m \u001b[0mself\u001b[0m\u001b[1;33m.\u001b[0m\u001b[0mresult\u001b[0m \u001b[1;32mis\u001b[0m \u001b[1;32mnot\u001b[0m \u001b[1;32mNone\u001b[0m\u001b[1;33m:\u001b[0m\u001b[1;33m\u001b[0m\u001b[1;33m\u001b[0m\u001b[0m\n",
          "\u001b[1;32m<ipython-input-16-4c4cd4aa5887>\u001b[0m in \u001b[0;36mtrain_func\u001b[1;34m(self, x, y)\u001b[0m\n\u001b[0;32m      5\u001b[0m \u001b[1;33m\u001b[0m\u001b[0m\n\u001b[0;32m      6\u001b[0m     \u001b[1;32mdef\u001b[0m \u001b[0mtrain_func\u001b[0m\u001b[1;33m(\u001b[0m\u001b[0mself\u001b[0m\u001b[1;33m,\u001b[0m \u001b[0mx\u001b[0m\u001b[1;33m,\u001b[0m \u001b[0my\u001b[0m\u001b[1;33m)\u001b[0m\u001b[1;33m:\u001b[0m\u001b[1;33m\u001b[0m\u001b[1;33m\u001b[0m\u001b[0m\n\u001b[1;32m----> 7\u001b[1;33m         \u001b[0mplt\u001b[0m\u001b[1;33m.\u001b[0m\u001b[0mhist\u001b[0m\u001b[1;33m(\u001b[0m\u001b[0mbd\u001b[0m\u001b[1;33m.\u001b[0m\u001b[0mtraining_getter\u001b[0m\u001b[1;33m(\u001b[0m\u001b[1;33m)\u001b[0m\u001b[1;33m[\u001b[0m\u001b[0mx\u001b[0m\u001b[1;33m]\u001b[0m\u001b[1;33m.\u001b[0m\u001b[0msort_values\u001b[0m\u001b[1;33m(\u001b[0m\u001b[0mx\u001b[0m\u001b[1;33m)\u001b[0m\u001b[1;33m,\u001b[0m \u001b[0mcolor\u001b[0m\u001b[1;33m=\u001b[0m\u001b[0mwsu_color\u001b[0m\u001b[1;33m,\u001b[0m \u001b[0mbins\u001b[0m\u001b[1;33m=\u001b[0m\u001b[0my\u001b[0m\u001b[1;33m)\u001b[0m\u001b[1;33m\u001b[0m\u001b[1;33m\u001b[0m\u001b[0m\n\u001b[0m\u001b[0;32m      8\u001b[0m         \u001b[0mplt\u001b[0m\u001b[1;33m.\u001b[0m\u001b[0mtitle\u001b[0m\u001b[1;33m(\u001b[0m\u001b[1;34m'TRAINING DATA'\u001b[0m\u001b[1;33m)\u001b[0m\u001b[1;33m\u001b[0m\u001b[1;33m\u001b[0m\u001b[0m\n\u001b[0;32m      9\u001b[0m \u001b[1;33m\u001b[0m\u001b[0m\n",
          "\u001b[1;32m~\\AppData\\Local\\Continuum\\anaconda3\\envs\\analytics_env\\lib\\site-packages\\pandas\\core\\series.py\u001b[0m in \u001b[0;36msort_values\u001b[1;34m(self, axis, ascending, inplace, kind, na_position, ignore_index, key)\u001b[0m\n\u001b[0;32m   3236\u001b[0m         \u001b[0minplace\u001b[0m \u001b[1;33m=\u001b[0m \u001b[0mvalidate_bool_kwarg\u001b[0m\u001b[1;33m(\u001b[0m\u001b[0minplace\u001b[0m\u001b[1;33m,\u001b[0m \u001b[1;34m\"inplace\"\u001b[0m\u001b[1;33m)\u001b[0m\u001b[1;33m\u001b[0m\u001b[1;33m\u001b[0m\u001b[0m\n\u001b[0;32m   3237\u001b[0m         \u001b[1;31m# Validate the axis parameter\u001b[0m\u001b[1;33m\u001b[0m\u001b[1;33m\u001b[0m\u001b[1;33m\u001b[0m\u001b[0m\n\u001b[1;32m-> 3238\u001b[1;33m         \u001b[0mself\u001b[0m\u001b[1;33m.\u001b[0m\u001b[0m_get_axis_number\u001b[0m\u001b[1;33m(\u001b[0m\u001b[0maxis\u001b[0m\u001b[1;33m)\u001b[0m\u001b[1;33m\u001b[0m\u001b[1;33m\u001b[0m\u001b[0m\n\u001b[0m\u001b[0;32m   3239\u001b[0m \u001b[1;33m\u001b[0m\u001b[0m\n\u001b[0;32m   3240\u001b[0m         \u001b[1;31m# GH 5856/5853\u001b[0m\u001b[1;33m\u001b[0m\u001b[1;33m\u001b[0m\u001b[1;33m\u001b[0m\u001b[0m\n",
          "\u001b[1;32m~\\AppData\\Local\\Continuum\\anaconda3\\envs\\analytics_env\\lib\\site-packages\\pandas\\core\\generic.py\u001b[0m in \u001b[0;36m_get_axis_number\u001b[1;34m(cls, axis)\u001b[0m\n\u001b[0;32m    460\u001b[0m             \u001b[1;32mreturn\u001b[0m \u001b[0mcls\u001b[0m\u001b[1;33m.\u001b[0m\u001b[0m_AXIS_TO_AXIS_NUMBER\u001b[0m\u001b[1;33m[\u001b[0m\u001b[0maxis\u001b[0m\u001b[1;33m]\u001b[0m\u001b[1;33m\u001b[0m\u001b[1;33m\u001b[0m\u001b[0m\n\u001b[0;32m    461\u001b[0m         \u001b[1;32mexcept\u001b[0m \u001b[0mKeyError\u001b[0m\u001b[1;33m:\u001b[0m\u001b[1;33m\u001b[0m\u001b[1;33m\u001b[0m\u001b[0m\n\u001b[1;32m--> 462\u001b[1;33m             \u001b[1;32mraise\u001b[0m \u001b[0mValueError\u001b[0m\u001b[1;33m(\u001b[0m\u001b[1;34mf\"No axis named {axis} for object type {cls.__name__}\"\u001b[0m\u001b[1;33m)\u001b[0m\u001b[1;33m\u001b[0m\u001b[1;33m\u001b[0m\u001b[0m\n\u001b[0m\u001b[0;32m    463\u001b[0m \u001b[1;33m\u001b[0m\u001b[0m\n\u001b[0;32m    464\u001b[0m     \u001b[1;33m@\u001b[0m\u001b[0mfinal\u001b[0m\u001b[1;33m\u001b[0m\u001b[1;33m\u001b[0m\u001b[0m\n",
          "\u001b[1;31mValueError\u001b[0m: No axis named emplid for object type Series"
         ]
        }
       ]
      }
     },
     "f2e839584e004b329538c13245fce741": {
      "model_module": "@jupyter-widgets/base",
      "model_module_version": "1.2.0",
      "model_name": "LayoutModel",
      "state": {}
     },
     "f366a7a3f0994bf28f243c872d84d165": {
      "model_module": "@jupyter-widgets/controls",
      "model_module_version": "1.5.0",
      "model_name": "CheckboxModel",
      "state": {
       "description": "spring_lec_contact_hrs",
       "disabled": false,
       "layout": "IPY_MODEL_07d8ee82ab93418886eab6a3d76ed6a6",
       "style": "IPY_MODEL_174f50f3905341c0a1c23e0c92c499a3",
       "value": false
      }
     },
     "f36faf231e63481eb6b2ac0c115de73c": {
      "model_module": "@jupyter-widgets/controls",
      "model_module_version": "1.5.0",
      "model_name": "CheckboxModel",
      "state": {
       "description": "vcea_cive",
       "disabled": false,
       "layout": "IPY_MODEL_428881e1eabf4f2b9f5930a3fd41a4d6",
       "style": "IPY_MODEL_9278aea2216f4c72a9500f104a0ab267",
       "value": false
      }
     },
     "f3a7412572b34edaae0ab664459af3ef": {
      "model_module": "@jupyter-widgets/base",
      "model_module_version": "1.2.0",
      "model_name": "LayoutModel",
      "state": {}
     },
     "f3af9694447e443caaec218b36ca56f1": {
      "model_module": "@jupyter-widgets/controls",
      "model_module_version": "1.5.0",
      "model_name": "DropdownModel",
      "state": {
       "_options_labels": [
        "Pullman",
        "Tri-Cities",
        "Vancouver"
       ],
       "description": "Campus:",
       "index": 0,
       "layout": "IPY_MODEL_b41ebab1c5b04d0aa2629f63601dc4b9",
       "style": "IPY_MODEL_22102efd301348ada87e76b5b3b77ba5"
      }
     },
     "f401d61fe23f4857a21317a917c5bac3": {
      "model_module": "@jupyter-widgets/base",
      "model_module_version": "1.2.0",
      "model_name": "LayoutModel",
      "state": {}
     },
     "f402846017b240fda06df3f92c0267d9": {
      "model_module": "@jupyter-widgets/controls",
      "model_module_version": "1.5.0",
      "model_name": "DescriptionStyleModel",
      "state": {
       "description_width": ""
      }
     },
     "f461d286e5ea43acb3ca1f6de8a19c2c": {
      "model_module": "@jupyter-widgets/controls",
      "model_module_version": "1.5.0",
      "model_name": "CheckboxModel",
      "state": {
       "description": "race_asian",
       "disabled": false,
       "layout": "IPY_MODEL_0a6b231e56204137aa728595bf649904",
       "style": "IPY_MODEL_4205ffbf2e4e46dabab7ccdc0ff637d0",
       "value": false
      }
     },
     "f4b9bf1c31904f0fbc87da29654c01da": {
      "model_module": "@jupyter-widgets/controls",
      "model_module_version": "1.5.0",
      "model_name": "DescriptionStyleModel",
      "state": {
       "description_width": ""
      }
     },
     "f5830b7e331b44dab1dcd02b880c2006": {
      "model_module": "@jupyter-widgets/base",
      "model_module_version": "1.2.0",
      "model_name": "LayoutModel",
      "state": {}
     },
     "f5e0831b83684142a18278b242fbb359": {
      "model_module": "@jupyter-widgets/controls",
      "model_module_version": "1.5.0",
      "model_name": "DescriptionStyleModel",
      "state": {
       "description_width": ""
      }
     },
     "f5f5d59e803a489fa2fcd8d705eaf778": {
      "model_module": "@jupyter-widgets/controls",
      "model_module_version": "1.5.0",
      "model_name": "CheckboxModel",
      "state": {
       "description": "attendee_imagine_u",
       "disabled": false,
       "layout": "IPY_MODEL_58a98a0dc9ae4fe392fabfc82ffa6ec7",
       "style": "IPY_MODEL_e8ba54880fa24df782bf02cc531c665a",
       "value": false
      }
     },
     "f63437f459ec4f7c8519e3664b1caa00": {
      "model_module": "@jupyter-widgets/base",
      "model_module_version": "1.2.0",
      "model_name": "LayoutModel",
      "state": {}
     },
     "f72dcde0f89946ea96ed9289475bde7b": {
      "model_module": "@jupyter-widgets/controls",
      "model_module_version": "1.5.0",
      "model_name": "DescriptionStyleModel",
      "state": {
       "description_width": ""
      }
     },
     "f72f703031db402bb455be4c11b82afb": {
      "model_module": "@jupyter-widgets/controls",
      "model_module_version": "1.5.0",
      "model_name": "DescriptionStyleModel",
      "state": {
       "description_width": ""
      }
     },
     "f74a9cc59c2d4b4c888a229240d8b6cb": {
      "model_module": "@jupyter-widgets/controls",
      "model_module_version": "1.5.0",
      "model_name": "CheckboxModel",
      "state": {
       "description": "pct_two",
       "disabled": false,
       "layout": "IPY_MODEL_40a7fd43049d4b118292edd05be1d991",
       "style": "IPY_MODEL_400f3e80e029463e8c28341d072e873c",
       "value": false
      }
     },
     "f795b84dafee49a5af546d18fdb14b37": {
      "model_module": "@jupyter-widgets/controls",
      "model_module_version": "1.5.0",
      "model_name": "CheckboxModel",
      "state": {
       "description": "spring_avg_pct_DF",
       "disabled": false,
       "layout": "IPY_MODEL_aa749b93989846d385ce6996c770c56b",
       "style": "IPY_MODEL_4c2ca98d68814ec09d748d6f33b5d7c3",
       "value": false
      }
     },
     "f7b45d01cd724b4691ee4c40f3edd4a8": {
      "model_module": "@jupyter-widgets/controls",
      "model_module_version": "1.5.0",
      "model_name": "DescriptionStyleModel",
      "state": {
       "description_width": ""
      }
     },
     "f8e667c6707c4cd99216d613621286f0": {
      "model_module": "@jupyter-widgets/controls",
      "model_module_version": "1.5.0",
      "model_name": "ButtonStyleModel",
      "state": {}
     },
     "fa446be18cff4a47a60e2914dc0b88da": {
      "model_module": "@jupyter-widgets/controls",
      "model_module_version": "1.5.0",
      "model_name": "CheckboxModel",
      "state": {
       "description": "city_large",
       "disabled": false,
       "layout": "IPY_MODEL_c6335e945fc74d8f8b473963d74ae084",
       "style": "IPY_MODEL_5beb6aa174b34415a23418ce18d66616",
       "value": false
      }
     },
     "fa62617c8fb44c32831528f085566b81": {
      "model_module": "@jupyter-widgets/controls",
      "model_module_version": "1.5.0",
      "model_name": "ButtonStyleModel",
      "state": {}
     },
     "fa8fb1933d274932b40af97389282529": {
      "model_module": "@jupyter-widgets/controls",
      "model_module_version": "1.5.0",
      "model_name": "VBoxModel",
      "state": {
       "_dom_classes": [
        "widget-interact"
       ],
       "children": [
        "IPY_MODEL_a84912659ea14a789585b416992dc0f3",
        "IPY_MODEL_b31d0288453f433e803704f1b6abd3dd",
        "IPY_MODEL_37db44d984ce4665869c85d33a0d8848"
       ],
       "layout": "IPY_MODEL_052fe9b1116546e69ff423caf1676260"
      }
     },
     "fab4902225fe44dcba9c3997c13d0956": {
      "model_module": "@jupyter-widgets/controls",
      "model_module_version": "1.5.0",
      "model_name": "CheckboxModel",
      "state": {
       "description": "fall_avg_pct_DFW",
       "disabled": false,
       "layout": "IPY_MODEL_0efc17c1cc234e7aa3735de71ee7cc34",
       "style": "IPY_MODEL_9b3a7f234849445893363efba9094d9c",
       "value": false
      }
     },
     "fb190aefccb94ffa82a49199c0276fe4": {
      "model_module": "@jupyter-widgets/controls",
      "model_module_version": "1.5.0",
      "model_name": "IntSliderModel",
      "state": {
       "description": "y",
       "layout": "IPY_MODEL_517bbf5fc6a94f8ea6f9b6461e0e7093",
       "min": 1,
       "style": "IPY_MODEL_295801836f3142a5a0a9cfaaa4fd089f",
       "value": 50
      }
     },
     "fb5246717149493dbb10754aa883e143": {
      "model_module": "@jupyter-widgets/base",
      "model_module_version": "1.2.0",
      "model_name": "LayoutModel",
      "state": {}
     },
     "fb5ca68462964e2fb6ccc9fbafafafeb": {
      "model_module": "@jupyter-widgets/base",
      "model_module_version": "1.2.0",
      "model_name": "LayoutModel",
      "state": {}
     },
     "fb9460928692400c986e6a3fbc47c86b": {
      "model_module": "@jupyter-widgets/controls",
      "model_module_version": "1.5.0",
      "model_name": "CheckboxModel",
      "state": {
       "description": "AD_AST",
       "disabled": false,
       "layout": "IPY_MODEL_714d5a8192ea4547a80511b6929b8add",
       "style": "IPY_MODEL_7507557edce04b07a158fe309fb51225",
       "value": false
      }
     },
     "fba6f4c487ad480e99f2d85ef9701e79": {
      "model_module": "@jupyter-widgets/controls",
      "model_module_version": "1.5.0",
      "model_name": "CheckboxModel",
      "state": {
       "description": "age",
       "disabled": false,
       "layout": "IPY_MODEL_a180060e555e41d691723c19ba31f9f7",
       "style": "IPY_MODEL_58326ba1eaa94d8f94cc10ad523747ee",
       "value": false
      }
     },
     "fdd7376635a94603831ae71e0ea9b6fc": {
      "model_module": "@jupyter-widgets/controls",
      "model_module_version": "1.5.0",
      "model_name": "ButtonModel",
      "state": {
       "description": "Create Plots",
       "layout": "IPY_MODEL_5e08eb92bb2b473f89a8062b1a50b739",
       "style": "IPY_MODEL_232f8a596a4641cb96ece97209e83dfb"
      }
     },
     "fe6e459e78324348ba0abe31316cdc55": {
      "model_module": "@jupyter-widgets/base",
      "model_module_version": "1.2.0",
      "model_name": "LayoutModel",
      "state": {}
     },
     "febad2c97ffc43cbbd78a9ceeba944c0": {
      "model_module": "@jupyter-widgets/base",
      "model_module_version": "1.2.0",
      "model_name": "LayoutModel",
      "state": {}
     },
     "fed9aea3104f48cea3407bf99c815284": {
      "model_module": "@jupyter-widgets/controls",
      "model_module_version": "1.5.0",
      "model_name": "ButtonModel",
      "state": {
       "description": "Build Models",
       "layout": "IPY_MODEL_037236242bca454e97f1fce7571223c8",
       "style": "IPY_MODEL_86e429b7253a4ef4b3c38a5208b50d46"
      }
     },
     "ff5d8be3e06d4e89bdb2fc3999e783e1": {
      "model_module": "@jupyter-widgets/controls",
      "model_module_version": "1.5.0",
      "model_name": "IntSliderModel",
      "state": {
       "description": "y",
       "layout": "IPY_MODEL_86f8606c77ff4646972e1130b81b6555",
       "min": 1,
       "style": "IPY_MODEL_9b7061477a5a473bbd02b5d2a58783d6",
       "value": 50
      }
     },
     "ff76cee8bf464472afbc91ec44c23c7a": {
      "model_module": "@jupyter-widgets/base",
      "model_module_version": "1.2.0",
      "model_name": "LayoutModel",
      "state": {}
     },
     "ffe2182a99554fe986503e059b66bd84": {
      "model_module": "@jupyter-widgets/output",
      "model_module_version": "1.0.0",
      "model_name": "OutputModel",
      "state": {
       "layout": "IPY_MODEL_b89f47ac8672413aa9bb001d2c205aa1",
       "outputs": [
        {
         "ename": "TypeError",
         "evalue": "unhashable type: 'list'",
         "output_type": "error",
         "traceback": [
          "\u001b[1;31m---------------------------------------------------------------------------\u001b[0m",
          "\u001b[1;31mTypeError\u001b[0m                                 Traceback (most recent call last)",
          "\u001b[1;32m~\\AppData\\Local\\Continuum\\anaconda3\\envs\\analytics_env\\lib\\site-packages\\ipywidgets\\widgets\\interaction.py\u001b[0m in \u001b[0;36mupdate\u001b[1;34m(self, *args)\u001b[0m\n\u001b[0;32m    254\u001b[0m                     \u001b[0mvalue\u001b[0m \u001b[1;33m=\u001b[0m \u001b[0mwidget\u001b[0m\u001b[1;33m.\u001b[0m\u001b[0mget_interact_value\u001b[0m\u001b[1;33m(\u001b[0m\u001b[1;33m)\u001b[0m\u001b[1;33m\u001b[0m\u001b[1;33m\u001b[0m\u001b[0m\n\u001b[0;32m    255\u001b[0m                     \u001b[0mself\u001b[0m\u001b[1;33m.\u001b[0m\u001b[0mkwargs\u001b[0m\u001b[1;33m[\u001b[0m\u001b[0mwidget\u001b[0m\u001b[1;33m.\u001b[0m\u001b[0m_kwarg\u001b[0m\u001b[1;33m]\u001b[0m \u001b[1;33m=\u001b[0m \u001b[0mvalue\u001b[0m\u001b[1;33m\u001b[0m\u001b[1;33m\u001b[0m\u001b[0m\n\u001b[1;32m--> 256\u001b[1;33m                 \u001b[0mself\u001b[0m\u001b[1;33m.\u001b[0m\u001b[0mresult\u001b[0m \u001b[1;33m=\u001b[0m \u001b[0mself\u001b[0m\u001b[1;33m.\u001b[0m\u001b[0mf\u001b[0m\u001b[1;33m(\u001b[0m\u001b[1;33m**\u001b[0m\u001b[0mself\u001b[0m\u001b[1;33m.\u001b[0m\u001b[0mkwargs\u001b[0m\u001b[1;33m)\u001b[0m\u001b[1;33m\u001b[0m\u001b[1;33m\u001b[0m\u001b[0m\n\u001b[0m\u001b[0;32m    257\u001b[0m                 \u001b[0mshow_inline_matplotlib_plots\u001b[0m\u001b[1;33m(\u001b[0m\u001b[1;33m)\u001b[0m\u001b[1;33m\u001b[0m\u001b[1;33m\u001b[0m\u001b[0m\n\u001b[0;32m    258\u001b[0m                 \u001b[1;32mif\u001b[0m \u001b[0mself\u001b[0m\u001b[1;33m.\u001b[0m\u001b[0mauto_display\u001b[0m \u001b[1;32mand\u001b[0m \u001b[0mself\u001b[0m\u001b[1;33m.\u001b[0m\u001b[0mresult\u001b[0m \u001b[1;32mis\u001b[0m \u001b[1;32mnot\u001b[0m \u001b[1;32mNone\u001b[0m\u001b[1;33m:\u001b[0m\u001b[1;33m\u001b[0m\u001b[1;33m\u001b[0m\u001b[0m\n",
          "\u001b[1;32m<ipython-input-15-cba717a108e5>\u001b[0m in \u001b[0;36mtest_func\u001b[1;34m(self, x, y)\u001b[0m\n\u001b[0;32m      9\u001b[0m \u001b[1;33m\u001b[0m\u001b[0m\n\u001b[0;32m     10\u001b[0m     \u001b[1;32mdef\u001b[0m \u001b[0mtest_func\u001b[0m\u001b[1;33m(\u001b[0m\u001b[0mself\u001b[0m\u001b[1;33m,\u001b[0m \u001b[0mx\u001b[0m\u001b[1;33m,\u001b[0m \u001b[0my\u001b[0m\u001b[1;33m)\u001b[0m\u001b[1;33m:\u001b[0m\u001b[1;33m\u001b[0m\u001b[1;33m\u001b[0m\u001b[0m\n\u001b[1;32m---> 11\u001b[1;33m         \u001b[0mplt\u001b[0m\u001b[1;33m.\u001b[0m\u001b[0mhist\u001b[0m\u001b[1;33m(\u001b[0m\u001b[0mbd\u001b[0m\u001b[1;33m.\u001b[0m\u001b[0mtesting_getter\u001b[0m\u001b[1;33m(\u001b[0m\u001b[1;33m)\u001b[0m\u001b[1;33m[\u001b[0m\u001b[0mx\u001b[0m\u001b[1;33m]\u001b[0m\u001b[1;33m.\u001b[0m\u001b[0msort_values\u001b[0m\u001b[1;33m(\u001b[0m\u001b[1;33m[\u001b[0m\u001b[0mx\u001b[0m\u001b[1;33m]\u001b[0m\u001b[1;33m)\u001b[0m\u001b[1;33m,\u001b[0m \u001b[0mcolor\u001b[0m\u001b[1;33m=\u001b[0m\u001b[0mwsu_color\u001b[0m\u001b[1;33m,\u001b[0m \u001b[0mbins\u001b[0m\u001b[1;33m=\u001b[0m\u001b[0my\u001b[0m\u001b[1;33m)\u001b[0m\u001b[1;33m\u001b[0m\u001b[1;33m\u001b[0m\u001b[0m\n\u001b[0m\u001b[0;32m     12\u001b[0m         \u001b[0mplt\u001b[0m\u001b[1;33m.\u001b[0m\u001b[0mtitle\u001b[0m\u001b[1;33m(\u001b[0m\u001b[1;34m'TESTING DATA'\u001b[0m\u001b[1;33m)\u001b[0m\u001b[1;33m\u001b[0m\u001b[1;33m\u001b[0m\u001b[0m\n\u001b[0;32m     13\u001b[0m \u001b[1;33m\u001b[0m\u001b[0m\n",
          "\u001b[1;32m~\\AppData\\Local\\Continuum\\anaconda3\\envs\\analytics_env\\lib\\site-packages\\pandas\\core\\series.py\u001b[0m in \u001b[0;36msort_values\u001b[1;34m(self, axis, ascending, inplace, kind, na_position, ignore_index, key)\u001b[0m\n\u001b[0;32m   3236\u001b[0m         \u001b[0minplace\u001b[0m \u001b[1;33m=\u001b[0m \u001b[0mvalidate_bool_kwarg\u001b[0m\u001b[1;33m(\u001b[0m\u001b[0minplace\u001b[0m\u001b[1;33m,\u001b[0m \u001b[1;34m\"inplace\"\u001b[0m\u001b[1;33m)\u001b[0m\u001b[1;33m\u001b[0m\u001b[1;33m\u001b[0m\u001b[0m\n\u001b[0;32m   3237\u001b[0m         \u001b[1;31m# Validate the axis parameter\u001b[0m\u001b[1;33m\u001b[0m\u001b[1;33m\u001b[0m\u001b[1;33m\u001b[0m\u001b[0m\n\u001b[1;32m-> 3238\u001b[1;33m         \u001b[0mself\u001b[0m\u001b[1;33m.\u001b[0m\u001b[0m_get_axis_number\u001b[0m\u001b[1;33m(\u001b[0m\u001b[0maxis\u001b[0m\u001b[1;33m)\u001b[0m\u001b[1;33m\u001b[0m\u001b[1;33m\u001b[0m\u001b[0m\n\u001b[0m\u001b[0;32m   3239\u001b[0m \u001b[1;33m\u001b[0m\u001b[0m\n\u001b[0;32m   3240\u001b[0m         \u001b[1;31m# GH 5856/5853\u001b[0m\u001b[1;33m\u001b[0m\u001b[1;33m\u001b[0m\u001b[1;33m\u001b[0m\u001b[0m\n",
          "\u001b[1;32m~\\AppData\\Local\\Continuum\\anaconda3\\envs\\analytics_env\\lib\\site-packages\\pandas\\core\\generic.py\u001b[0m in \u001b[0;36m_get_axis_number\u001b[1;34m(cls, axis)\u001b[0m\n\u001b[0;32m    458\u001b[0m     \u001b[1;32mdef\u001b[0m \u001b[0m_get_axis_number\u001b[0m\u001b[1;33m(\u001b[0m\u001b[0mcls\u001b[0m\u001b[1;33m,\u001b[0m \u001b[0maxis\u001b[0m\u001b[1;33m:\u001b[0m \u001b[0mAxis\u001b[0m\u001b[1;33m)\u001b[0m \u001b[1;33m->\u001b[0m \u001b[0mint\u001b[0m\u001b[1;33m:\u001b[0m\u001b[1;33m\u001b[0m\u001b[1;33m\u001b[0m\u001b[0m\n\u001b[0;32m    459\u001b[0m         \u001b[1;32mtry\u001b[0m\u001b[1;33m:\u001b[0m\u001b[1;33m\u001b[0m\u001b[1;33m\u001b[0m\u001b[0m\n\u001b[1;32m--> 460\u001b[1;33m             \u001b[1;32mreturn\u001b[0m \u001b[0mcls\u001b[0m\u001b[1;33m.\u001b[0m\u001b[0m_AXIS_TO_AXIS_NUMBER\u001b[0m\u001b[1;33m[\u001b[0m\u001b[0maxis\u001b[0m\u001b[1;33m]\u001b[0m\u001b[1;33m\u001b[0m\u001b[1;33m\u001b[0m\u001b[0m\n\u001b[0m\u001b[0;32m    461\u001b[0m         \u001b[1;32mexcept\u001b[0m \u001b[0mKeyError\u001b[0m\u001b[1;33m:\u001b[0m\u001b[1;33m\u001b[0m\u001b[1;33m\u001b[0m\u001b[0m\n\u001b[0;32m    462\u001b[0m             \u001b[1;32mraise\u001b[0m \u001b[0mValueError\u001b[0m\u001b[1;33m(\u001b[0m\u001b[1;34mf\"No axis named {axis} for object type {cls.__name__}\"\u001b[0m\u001b[1;33m)\u001b[0m\u001b[1;33m\u001b[0m\u001b[1;33m\u001b[0m\u001b[0m\n",
          "\u001b[1;31mTypeError\u001b[0m: unhashable type: 'list'"
         ]
        }
       ]
      }
     }
    },
    "version_major": 2,
    "version_minor": 0
   }
  }
 },
 "nbformat": 4,
 "nbformat_minor": 4
}
